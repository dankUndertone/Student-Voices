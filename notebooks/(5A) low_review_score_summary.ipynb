{
 "cells": [
  {
   "cell_type": "markdown",
   "metadata": {},
   "source": [
    "# Summary of Reviews with Low Scores\n",
    "\n",
    "Here we will summarize the topics that resulted from an analysis of the reviews that received the lowest ratings. "
   ]
  },
  {
   "cell_type": "code",
   "execution_count": 1,
   "metadata": {},
   "outputs": [],
   "source": [
    "from student_voices import sv_utils as bn\n",
    "\n",
    "db_root = 'D:/Student_Voices_Database/s3mirror/'\n",
    "dta_root = 'C:/Projects/VirtualMachines/Student_Voices/svvm/Student_Voices/student_voices/data'\n",
    "\n",
    "full_coherence_data = bn.loosen(db_root+'/results/full_coherence_data.pickle')"
   ]
  },
  {
   "cell_type": "code",
   "execution_count": 32,
   "metadata": {},
   "outputs": [
    {
     "name": "stdout",
     "output_type": "stream",
     "text": [
      "Sort by CS_Ave\n"
     ]
    },
    {
     "data": {
      "text/html": [
       "<table border=\"1\" class=\"dataframe\">\n",
       "  <thead>\n",
       "    <tr style=\"text-align: right;\">\n",
       "      <th></th>\n",
       "      <th>Range</th>\n",
       "      <th>Setting</th>\n",
       "      <th>Config</th>\n",
       "      <th>N_Topics</th>\n",
       "      <th>CS_Ave</th>\n",
       "      <th>CS_Med</th>\n",
       "      <th>CS_0.5</th>\n",
       "      <th>CS_0.54</th>\n",
       "      <th>CS_0.59</th>\n",
       "      <th>CS_0.64</th>\n",
       "      <th>CS_0.69</th>\n",
       "    </tr>\n",
       "  </thead>\n",
       "  <tbody>\n",
       "    <tr>\n",
       "      <th>45</th>\n",
       "      <td>[0, 35)</td>\n",
       "      <td>LDA1</td>\n",
       "      <td>D1</td>\n",
       "      <td>27</td>\n",
       "      <td>0.528722</td>\n",
       "      <td>0.530162</td>\n",
       "      <td>0.629630</td>\n",
       "      <td>0.481481</td>\n",
       "      <td>0.185185</td>\n",
       "      <td>0.037037</td>\n",
       "      <td>0.0</td>\n",
       "    </tr>\n",
       "    <tr>\n",
       "      <th>40</th>\n",
       "      <td>[0, 35)</td>\n",
       "      <td>LDA1</td>\n",
       "      <td>D1</td>\n",
       "      <td>22</td>\n",
       "      <td>0.524990</td>\n",
       "      <td>0.542166</td>\n",
       "      <td>0.636364</td>\n",
       "      <td>0.545455</td>\n",
       "      <td>0.136364</td>\n",
       "      <td>0.000000</td>\n",
       "      <td>0.0</td>\n",
       "    </tr>\n",
       "    <tr>\n",
       "      <th>89</th>\n",
       "      <td>[0, 35)</td>\n",
       "      <td>LDA2</td>\n",
       "      <td>D1</td>\n",
       "      <td>25</td>\n",
       "      <td>0.524282</td>\n",
       "      <td>0.512153</td>\n",
       "      <td>0.560000</td>\n",
       "      <td>0.480000</td>\n",
       "      <td>0.240000</td>\n",
       "      <td>0.040000</td>\n",
       "      <td>0.0</td>\n",
       "    </tr>\n",
       "    <tr>\n",
       "      <th>83</th>\n",
       "      <td>[0, 35)</td>\n",
       "      <td>LDA2</td>\n",
       "      <td>D1</td>\n",
       "      <td>19</td>\n",
       "      <td>0.523830</td>\n",
       "      <td>0.513162</td>\n",
       "      <td>0.526316</td>\n",
       "      <td>0.421053</td>\n",
       "      <td>0.210526</td>\n",
       "      <td>0.000000</td>\n",
       "      <td>0.0</td>\n",
       "    </tr>\n",
       "    <tr>\n",
       "      <th>91</th>\n",
       "      <td>[0, 35)</td>\n",
       "      <td>LDA2</td>\n",
       "      <td>D1</td>\n",
       "      <td>27</td>\n",
       "      <td>0.521792</td>\n",
       "      <td>0.522522</td>\n",
       "      <td>0.592593</td>\n",
       "      <td>0.407407</td>\n",
       "      <td>0.222222</td>\n",
       "      <td>0.000000</td>\n",
       "      <td>0.0</td>\n",
       "    </tr>\n",
       "  </tbody>\n",
       "</table>"
      ]
     },
     "metadata": {},
     "output_type": "display_data"
    },
    {
     "name": "stdout",
     "output_type": "stream",
     "text": [
      "Sort by CS_Med\n"
     ]
    },
    {
     "data": {
      "text/html": [
       "<table border=\"1\" class=\"dataframe\">\n",
       "  <thead>\n",
       "    <tr style=\"text-align: right;\">\n",
       "      <th></th>\n",
       "      <th>Range</th>\n",
       "      <th>Setting</th>\n",
       "      <th>Config</th>\n",
       "      <th>N_Topics</th>\n",
       "      <th>CS_Ave</th>\n",
       "      <th>CS_Med</th>\n",
       "      <th>CS_0.5</th>\n",
       "      <th>CS_0.54</th>\n",
       "      <th>CS_0.59</th>\n",
       "      <th>CS_0.64</th>\n",
       "      <th>CS_0.69</th>\n",
       "    </tr>\n",
       "  </thead>\n",
       "  <tbody>\n",
       "    <tr>\n",
       "      <th>40</th>\n",
       "      <td>[0, 35)</td>\n",
       "      <td>LDA1</td>\n",
       "      <td>D1</td>\n",
       "      <td>22</td>\n",
       "      <td>0.524990</td>\n",
       "      <td>0.542166</td>\n",
       "      <td>0.636364</td>\n",
       "      <td>0.545455</td>\n",
       "      <td>0.136364</td>\n",
       "      <td>0.0</td>\n",
       "      <td>0.0</td>\n",
       "    </tr>\n",
       "    <tr>\n",
       "      <th>38</th>\n",
       "      <td>[0, 35)</td>\n",
       "      <td>LDA1</td>\n",
       "      <td>D1</td>\n",
       "      <td>20</td>\n",
       "      <td>0.521245</td>\n",
       "      <td>0.539950</td>\n",
       "      <td>0.650000</td>\n",
       "      <td>0.500000</td>\n",
       "      <td>0.200000</td>\n",
       "      <td>0.0</td>\n",
       "      <td>0.0</td>\n",
       "    </tr>\n",
       "    <tr>\n",
       "      <th>11</th>\n",
       "      <td>[0, 35)</td>\n",
       "      <td>LDA3</td>\n",
       "      <td>D1</td>\n",
       "      <td>16</td>\n",
       "      <td>0.510561</td>\n",
       "      <td>0.537158</td>\n",
       "      <td>0.625000</td>\n",
       "      <td>0.437500</td>\n",
       "      <td>0.250000</td>\n",
       "      <td>0.0</td>\n",
       "      <td>0.0</td>\n",
       "    </tr>\n",
       "    <tr>\n",
       "      <th>22</th>\n",
       "      <td>[0, 35)</td>\n",
       "      <td>LDA3</td>\n",
       "      <td>D1</td>\n",
       "      <td>27</td>\n",
       "      <td>0.516089</td>\n",
       "      <td>0.531605</td>\n",
       "      <td>0.592593</td>\n",
       "      <td>0.481481</td>\n",
       "      <td>0.185185</td>\n",
       "      <td>0.0</td>\n",
       "      <td>0.0</td>\n",
       "    </tr>\n",
       "    <tr>\n",
       "      <th>12</th>\n",
       "      <td>[0, 35)</td>\n",
       "      <td>LDA3</td>\n",
       "      <td>D1</td>\n",
       "      <td>17</td>\n",
       "      <td>0.512924</td>\n",
       "      <td>0.531471</td>\n",
       "      <td>0.588235</td>\n",
       "      <td>0.294118</td>\n",
       "      <td>0.235294</td>\n",
       "      <td>0.0</td>\n",
       "      <td>0.0</td>\n",
       "    </tr>\n",
       "  </tbody>\n",
       "</table>"
      ]
     },
     "metadata": {},
     "output_type": "display_data"
    },
    {
     "name": "stdout",
     "output_type": "stream",
     "text": [
      "Sort by CS_0.5\n"
     ]
    },
    {
     "data": {
      "text/html": [
       "<table border=\"1\" class=\"dataframe\">\n",
       "  <thead>\n",
       "    <tr style=\"text-align: right;\">\n",
       "      <th></th>\n",
       "      <th>Range</th>\n",
       "      <th>Setting</th>\n",
       "      <th>Config</th>\n",
       "      <th>N_Topics</th>\n",
       "      <th>CS_Ave</th>\n",
       "      <th>CS_Med</th>\n",
       "      <th>CS_0.5</th>\n",
       "      <th>CS_0.54</th>\n",
       "      <th>CS_0.59</th>\n",
       "      <th>CS_0.64</th>\n",
       "      <th>CS_0.69</th>\n",
       "    </tr>\n",
       "  </thead>\n",
       "  <tbody>\n",
       "    <tr>\n",
       "      <th>16</th>\n",
       "      <td>[0, 35)</td>\n",
       "      <td>LDA3</td>\n",
       "      <td>D1</td>\n",
       "      <td>21</td>\n",
       "      <td>0.520415</td>\n",
       "      <td>0.518828</td>\n",
       "      <td>0.666667</td>\n",
       "      <td>0.380952</td>\n",
       "      <td>0.190476</td>\n",
       "      <td>0.000000</td>\n",
       "      <td>0.0</td>\n",
       "    </tr>\n",
       "    <tr>\n",
       "      <th>38</th>\n",
       "      <td>[0, 35)</td>\n",
       "      <td>LDA1</td>\n",
       "      <td>D1</td>\n",
       "      <td>20</td>\n",
       "      <td>0.521245</td>\n",
       "      <td>0.539950</td>\n",
       "      <td>0.650000</td>\n",
       "      <td>0.500000</td>\n",
       "      <td>0.200000</td>\n",
       "      <td>0.000000</td>\n",
       "      <td>0.0</td>\n",
       "    </tr>\n",
       "    <tr>\n",
       "      <th>40</th>\n",
       "      <td>[0, 35)</td>\n",
       "      <td>LDA1</td>\n",
       "      <td>D1</td>\n",
       "      <td>22</td>\n",
       "      <td>0.524990</td>\n",
       "      <td>0.542166</td>\n",
       "      <td>0.636364</td>\n",
       "      <td>0.545455</td>\n",
       "      <td>0.136364</td>\n",
       "      <td>0.000000</td>\n",
       "      <td>0.0</td>\n",
       "    </tr>\n",
       "    <tr>\n",
       "      <th>37</th>\n",
       "      <td>[0, 35)</td>\n",
       "      <td>LDA1</td>\n",
       "      <td>D1</td>\n",
       "      <td>19</td>\n",
       "      <td>0.515144</td>\n",
       "      <td>0.513396</td>\n",
       "      <td>0.631579</td>\n",
       "      <td>0.315789</td>\n",
       "      <td>0.157895</td>\n",
       "      <td>0.000000</td>\n",
       "      <td>0.0</td>\n",
       "    </tr>\n",
       "    <tr>\n",
       "      <th>45</th>\n",
       "      <td>[0, 35)</td>\n",
       "      <td>LDA1</td>\n",
       "      <td>D1</td>\n",
       "      <td>27</td>\n",
       "      <td>0.528722</td>\n",
       "      <td>0.530162</td>\n",
       "      <td>0.629630</td>\n",
       "      <td>0.481481</td>\n",
       "      <td>0.185185</td>\n",
       "      <td>0.037037</td>\n",
       "      <td>0.0</td>\n",
       "    </tr>\n",
       "  </tbody>\n",
       "</table>"
      ]
     },
     "metadata": {},
     "output_type": "display_data"
    },
    {
     "name": "stdout",
     "output_type": "stream",
     "text": [
      "Sort by CS_0.54\n"
     ]
    },
    {
     "data": {
      "text/html": [
       "<table border=\"1\" class=\"dataframe\">\n",
       "  <thead>\n",
       "    <tr style=\"text-align: right;\">\n",
       "      <th></th>\n",
       "      <th>Range</th>\n",
       "      <th>Setting</th>\n",
       "      <th>Config</th>\n",
       "      <th>N_Topics</th>\n",
       "      <th>CS_Ave</th>\n",
       "      <th>CS_Med</th>\n",
       "      <th>CS_0.5</th>\n",
       "      <th>CS_0.54</th>\n",
       "      <th>CS_0.59</th>\n",
       "      <th>CS_0.64</th>\n",
       "      <th>CS_0.69</th>\n",
       "    </tr>\n",
       "  </thead>\n",
       "  <tbody>\n",
       "    <tr>\n",
       "      <th>40</th>\n",
       "      <td>[0, 35)</td>\n",
       "      <td>LDA1</td>\n",
       "      <td>D1</td>\n",
       "      <td>22</td>\n",
       "      <td>0.524990</td>\n",
       "      <td>0.542166</td>\n",
       "      <td>0.636364</td>\n",
       "      <td>0.545455</td>\n",
       "      <td>0.136364</td>\n",
       "      <td>0.000000</td>\n",
       "      <td>0.0</td>\n",
       "    </tr>\n",
       "    <tr>\n",
       "      <th>38</th>\n",
       "      <td>[0, 35)</td>\n",
       "      <td>LDA1</td>\n",
       "      <td>D1</td>\n",
       "      <td>20</td>\n",
       "      <td>0.521245</td>\n",
       "      <td>0.539950</td>\n",
       "      <td>0.650000</td>\n",
       "      <td>0.500000</td>\n",
       "      <td>0.200000</td>\n",
       "      <td>0.000000</td>\n",
       "      <td>0.0</td>\n",
       "    </tr>\n",
       "    <tr>\n",
       "      <th>22</th>\n",
       "      <td>[0, 35)</td>\n",
       "      <td>LDA3</td>\n",
       "      <td>D1</td>\n",
       "      <td>27</td>\n",
       "      <td>0.516089</td>\n",
       "      <td>0.531605</td>\n",
       "      <td>0.592593</td>\n",
       "      <td>0.481481</td>\n",
       "      <td>0.185185</td>\n",
       "      <td>0.000000</td>\n",
       "      <td>0.0</td>\n",
       "    </tr>\n",
       "    <tr>\n",
       "      <th>45</th>\n",
       "      <td>[0, 35)</td>\n",
       "      <td>LDA1</td>\n",
       "      <td>D1</td>\n",
       "      <td>27</td>\n",
       "      <td>0.528722</td>\n",
       "      <td>0.530162</td>\n",
       "      <td>0.629630</td>\n",
       "      <td>0.481481</td>\n",
       "      <td>0.185185</td>\n",
       "      <td>0.037037</td>\n",
       "      <td>0.0</td>\n",
       "    </tr>\n",
       "    <tr>\n",
       "      <th>89</th>\n",
       "      <td>[0, 35)</td>\n",
       "      <td>LDA2</td>\n",
       "      <td>D1</td>\n",
       "      <td>25</td>\n",
       "      <td>0.524282</td>\n",
       "      <td>0.512153</td>\n",
       "      <td>0.560000</td>\n",
       "      <td>0.480000</td>\n",
       "      <td>0.240000</td>\n",
       "      <td>0.040000</td>\n",
       "      <td>0.0</td>\n",
       "    </tr>\n",
       "  </tbody>\n",
       "</table>"
      ]
     },
     "metadata": {},
     "output_type": "display_data"
    },
    {
     "name": "stdout",
     "output_type": "stream",
     "text": [
      "Sort by CS_0.59\n"
     ]
    },
    {
     "data": {
      "text/html": [
       "<table border=\"1\" class=\"dataframe\">\n",
       "  <thead>\n",
       "    <tr style=\"text-align: right;\">\n",
       "      <th></th>\n",
       "      <th>Range</th>\n",
       "      <th>Setting</th>\n",
       "      <th>Config</th>\n",
       "      <th>N_Topics</th>\n",
       "      <th>CS_Ave</th>\n",
       "      <th>CS_Med</th>\n",
       "      <th>CS_0.5</th>\n",
       "      <th>CS_0.54</th>\n",
       "      <th>CS_0.59</th>\n",
       "      <th>CS_0.64</th>\n",
       "      <th>CS_0.69</th>\n",
       "    </tr>\n",
       "  </thead>\n",
       "  <tbody>\n",
       "    <tr>\n",
       "      <th>11</th>\n",
       "      <td>[0, 35)</td>\n",
       "      <td>LDA3</td>\n",
       "      <td>D1</td>\n",
       "      <td>16</td>\n",
       "      <td>0.510561</td>\n",
       "      <td>0.537158</td>\n",
       "      <td>0.625000</td>\n",
       "      <td>0.437500</td>\n",
       "      <td>0.250000</td>\n",
       "      <td>0.000000</td>\n",
       "      <td>0.0</td>\n",
       "    </tr>\n",
       "    <tr>\n",
       "      <th>89</th>\n",
       "      <td>[0, 35)</td>\n",
       "      <td>LDA2</td>\n",
       "      <td>D1</td>\n",
       "      <td>25</td>\n",
       "      <td>0.524282</td>\n",
       "      <td>0.512153</td>\n",
       "      <td>0.560000</td>\n",
       "      <td>0.480000</td>\n",
       "      <td>0.240000</td>\n",
       "      <td>0.040000</td>\n",
       "      <td>0.0</td>\n",
       "    </tr>\n",
       "    <tr>\n",
       "      <th>85</th>\n",
       "      <td>[0, 35)</td>\n",
       "      <td>LDA2</td>\n",
       "      <td>D1</td>\n",
       "      <td>21</td>\n",
       "      <td>0.514685</td>\n",
       "      <td>0.498531</td>\n",
       "      <td>0.428571</td>\n",
       "      <td>0.333333</td>\n",
       "      <td>0.238095</td>\n",
       "      <td>0.000000</td>\n",
       "      <td>0.0</td>\n",
       "    </tr>\n",
       "    <tr>\n",
       "      <th>12</th>\n",
       "      <td>[0, 35)</td>\n",
       "      <td>LDA3</td>\n",
       "      <td>D1</td>\n",
       "      <td>17</td>\n",
       "      <td>0.512924</td>\n",
       "      <td>0.531471</td>\n",
       "      <td>0.588235</td>\n",
       "      <td>0.294118</td>\n",
       "      <td>0.235294</td>\n",
       "      <td>0.000000</td>\n",
       "      <td>0.0</td>\n",
       "    </tr>\n",
       "    <tr>\n",
       "      <th>86</th>\n",
       "      <td>[0, 35)</td>\n",
       "      <td>LDA2</td>\n",
       "      <td>D1</td>\n",
       "      <td>22</td>\n",
       "      <td>0.519379</td>\n",
       "      <td>0.497814</td>\n",
       "      <td>0.454545</td>\n",
       "      <td>0.363636</td>\n",
       "      <td>0.227273</td>\n",
       "      <td>0.045455</td>\n",
       "      <td>0.0</td>\n",
       "    </tr>\n",
       "  </tbody>\n",
       "</table>"
      ]
     },
     "metadata": {},
     "output_type": "display_data"
    }
   ],
   "source": [
    "from IPython.display import HTML, display_html\n",
    "\n",
    "rng = '[0, 35)' # view for this range\n",
    "top_n = 5 # show the top n models \n",
    "ctd = ['CS_Ave', 'CS_Med', 'CS_0.5','CS_0.54', 'CS_0.59'] # coherence to display \n",
    "\n",
    "#review_this = full_coherence_data[(full_coherence_data['Range']==rng) & (full_coherence_data['Setting']=='LDA1') & (full_coherence_data['Config']=='D1')]\n",
    "review_this = full_coherence_data[full_coherence_data['Range']==rng]\n",
    "#review_this = full_coherence_data[(full_coherence_data['Range']==rng) & (full_coherence_data['N_Topics']<13)]\n",
    "\n",
    "for c in ctd: \n",
    "    print(\"Sort by\",c)\n",
    "    disp = review_this.sort_values(c, ascending=False)\n",
    "    display_html(HTML(disp.head(top_n).to_html()))"
   ]
  },
  {
   "cell_type": "markdown",
   "metadata": {},
   "source": [
    "# Elbow Graph \n",
    "\n",
    "For different settings and configs we can check our the elbow graph which plots the number of topics against the average coherence scores at each. We're still looking for highest coherence, but the number of topics we select might be the point that marks the end of rapid growth of coherence scores. Go higher and we might get too many non-meaningful topics, going lower we might not be able to differentiate them. "
   ]
  },
  {
   "cell_type": "code",
   "execution_count": null,
   "metadata": {},
   "outputs": [],
   "source": [
    "import plotly.graph_objects as go\n",
    "\n",
    "x = [1, 2, 3, 4, 5, 6, 7, 8, 9, 10, 11, 12, 13, 14, 15]\n",
    "\n"
   ]
  },
  {
   "cell_type": "code",
   "execution_count": 79,
   "metadata": {},
   "outputs": [
    {
     "data": {
      "application/vnd.plotly.v1+json": {
       "config": {
        "plotlyServerURL": "https://plot.ly"
       },
       "data": [
        {
         "connectgaps": true,
         "name": "LDA1 -- 0.4950",
         "type": "scatter",
         "x": [
          3,
          4,
          5,
          6,
          7,
          8,
          9,
          10,
          11,
          12,
          15,
          16,
          17,
          18,
          19,
          20,
          21,
          22,
          23,
          24,
          25,
          26,
          27,
          28,
          32
         ],
         "y": [
          0.453746811377013,
          0.4543142956360075,
          0.44000187618365993,
          0.4581571657838096,
          0.46984870428707387,
          0.47610185840323466,
          0.48317542279203035,
          0.48802285367052933,
          0.48323501745789343,
          0.4866373648095633,
          0.505854611858723,
          0.5022003683730674,
          0.5010793840900359,
          0.5111119595824373,
          0.515144417533006,
          0.521245207372759,
          0.5122524144860916,
          0.5249903906812654,
          0.5097310771428045,
          0.5201291049265613,
          0.5184369173483643,
          0.5214822318819609,
          0.5287216425340396,
          null,
          null
         ]
        },
        {
         "connectgaps": true,
         "name": "LDA2 -- 0.4953",
         "type": "scatter",
         "x": [
          3,
          4,
          5,
          6,
          7,
          8,
          9,
          10,
          11,
          12,
          15,
          16,
          17,
          18,
          19,
          20,
          21,
          22,
          23,
          24,
          25,
          26,
          27,
          28,
          32
         ],
         "y": [
          0.4453408362707548,
          0.46314043160696267,
          0.45221313389876827,
          0.4606954820942374,
          0.46558403810321614,
          0.4697363016902499,
          0.49018771935950545,
          0.4836054557881634,
          0.48376449094129303,
          0.4915163718510247,
          0.5024176845960839,
          0.5031577876589881,
          0.5090946002368455,
          0.5132941326032961,
          0.5238296671583215,
          0.5196399630963546,
          0.5146848348352382,
          0.5193794597531491,
          0.5082358257676458,
          0.5145733629128202,
          0.524281868737874,
          0.5114351252661073,
          0.5217924284663137,
          null,
          null
         ]
        },
        {
         "connectgaps": true,
         "name": "LDA3 -- 0.4861",
         "type": "scatter",
         "x": [
          3,
          4,
          5,
          6,
          7,
          8,
          9,
          10,
          11,
          12,
          15,
          16,
          17,
          18,
          19,
          20,
          21,
          22,
          23,
          24,
          25,
          26,
          27,
          28,
          32
         ],
         "y": [
          0.41206144256159144,
          0.42671166302945746,
          0.44916949196660744,
          0.45569164635908055,
          0.4648744149161394,
          0.46744709274917495,
          0.46168394025311343,
          0.4634669620823683,
          0.4797955485980966,
          0.4750718818617937,
          0.5018858954271518,
          0.5105606032698446,
          0.5129244106242947,
          0.5131194870216899,
          0.5114954992092428,
          0.5113470766412048,
          0.5204151486150751,
          0.5052414495690666,
          0.5073749553000685,
          0.5043013930960671,
          0.500944565582988,
          0.5085358839383857,
          0.5160892539721386,
          null,
          null
         ]
        },
        {
         "connectgaps": true,
         "name": "LDA4 -- 0.4773",
         "type": "scatter",
         "x": [
          3,
          4,
          5,
          6,
          7,
          8,
          9,
          10,
          11,
          12,
          15,
          16,
          17,
          18,
          19,
          20,
          21,
          22,
          23,
          24,
          25,
          26,
          27,
          28,
          32
         ],
         "y": [
          0.40914259409344544,
          0.41954178687763233,
          0.4190719106919212,
          0.46696163357149423,
          0.464113637417439,
          0.46604927386232753,
          0.46918982631227757,
          0.478794224775941,
          0.4870228970481372,
          0.4941820946093556,
          0.5034418528576593,
          0.5077018394729708,
          0.4718086608246515,
          0.49769771919376704,
          0.48837895449902524,
          0.48950964775069,
          0.4921642292752457,
          0.4957162362292006,
          0.5030695003524752,
          0.4978395840763422,
          0.47333324862621406,
          0.48943118678007536,
          0.49344169127721843,
          null,
          null
         ]
        }
       ],
       "layout": {
        "template": {
         "data": {
          "bar": [
           {
            "error_x": {
             "color": "#2a3f5f"
            },
            "error_y": {
             "color": "#2a3f5f"
            },
            "marker": {
             "line": {
              "color": "#E5ECF6",
              "width": 0.5
             }
            },
            "type": "bar"
           }
          ],
          "barpolar": [
           {
            "marker": {
             "line": {
              "color": "#E5ECF6",
              "width": 0.5
             }
            },
            "type": "barpolar"
           }
          ],
          "carpet": [
           {
            "aaxis": {
             "endlinecolor": "#2a3f5f",
             "gridcolor": "white",
             "linecolor": "white",
             "minorgridcolor": "white",
             "startlinecolor": "#2a3f5f"
            },
            "baxis": {
             "endlinecolor": "#2a3f5f",
             "gridcolor": "white",
             "linecolor": "white",
             "minorgridcolor": "white",
             "startlinecolor": "#2a3f5f"
            },
            "type": "carpet"
           }
          ],
          "choropleth": [
           {
            "colorbar": {
             "outlinewidth": 0,
             "ticks": ""
            },
            "type": "choropleth"
           }
          ],
          "contour": [
           {
            "colorbar": {
             "outlinewidth": 0,
             "ticks": ""
            },
            "colorscale": [
             [
              0,
              "#0d0887"
             ],
             [
              0.1111111111111111,
              "#46039f"
             ],
             [
              0.2222222222222222,
              "#7201a8"
             ],
             [
              0.3333333333333333,
              "#9c179e"
             ],
             [
              0.4444444444444444,
              "#bd3786"
             ],
             [
              0.5555555555555556,
              "#d8576b"
             ],
             [
              0.6666666666666666,
              "#ed7953"
             ],
             [
              0.7777777777777778,
              "#fb9f3a"
             ],
             [
              0.8888888888888888,
              "#fdca26"
             ],
             [
              1,
              "#f0f921"
             ]
            ],
            "type": "contour"
           }
          ],
          "contourcarpet": [
           {
            "colorbar": {
             "outlinewidth": 0,
             "ticks": ""
            },
            "type": "contourcarpet"
           }
          ],
          "heatmap": [
           {
            "colorbar": {
             "outlinewidth": 0,
             "ticks": ""
            },
            "colorscale": [
             [
              0,
              "#0d0887"
             ],
             [
              0.1111111111111111,
              "#46039f"
             ],
             [
              0.2222222222222222,
              "#7201a8"
             ],
             [
              0.3333333333333333,
              "#9c179e"
             ],
             [
              0.4444444444444444,
              "#bd3786"
             ],
             [
              0.5555555555555556,
              "#d8576b"
             ],
             [
              0.6666666666666666,
              "#ed7953"
             ],
             [
              0.7777777777777778,
              "#fb9f3a"
             ],
             [
              0.8888888888888888,
              "#fdca26"
             ],
             [
              1,
              "#f0f921"
             ]
            ],
            "type": "heatmap"
           }
          ],
          "heatmapgl": [
           {
            "colorbar": {
             "outlinewidth": 0,
             "ticks": ""
            },
            "colorscale": [
             [
              0,
              "#0d0887"
             ],
             [
              0.1111111111111111,
              "#46039f"
             ],
             [
              0.2222222222222222,
              "#7201a8"
             ],
             [
              0.3333333333333333,
              "#9c179e"
             ],
             [
              0.4444444444444444,
              "#bd3786"
             ],
             [
              0.5555555555555556,
              "#d8576b"
             ],
             [
              0.6666666666666666,
              "#ed7953"
             ],
             [
              0.7777777777777778,
              "#fb9f3a"
             ],
             [
              0.8888888888888888,
              "#fdca26"
             ],
             [
              1,
              "#f0f921"
             ]
            ],
            "type": "heatmapgl"
           }
          ],
          "histogram": [
           {
            "marker": {
             "colorbar": {
              "outlinewidth": 0,
              "ticks": ""
             }
            },
            "type": "histogram"
           }
          ],
          "histogram2d": [
           {
            "colorbar": {
             "outlinewidth": 0,
             "ticks": ""
            },
            "colorscale": [
             [
              0,
              "#0d0887"
             ],
             [
              0.1111111111111111,
              "#46039f"
             ],
             [
              0.2222222222222222,
              "#7201a8"
             ],
             [
              0.3333333333333333,
              "#9c179e"
             ],
             [
              0.4444444444444444,
              "#bd3786"
             ],
             [
              0.5555555555555556,
              "#d8576b"
             ],
             [
              0.6666666666666666,
              "#ed7953"
             ],
             [
              0.7777777777777778,
              "#fb9f3a"
             ],
             [
              0.8888888888888888,
              "#fdca26"
             ],
             [
              1,
              "#f0f921"
             ]
            ],
            "type": "histogram2d"
           }
          ],
          "histogram2dcontour": [
           {
            "colorbar": {
             "outlinewidth": 0,
             "ticks": ""
            },
            "colorscale": [
             [
              0,
              "#0d0887"
             ],
             [
              0.1111111111111111,
              "#46039f"
             ],
             [
              0.2222222222222222,
              "#7201a8"
             ],
             [
              0.3333333333333333,
              "#9c179e"
             ],
             [
              0.4444444444444444,
              "#bd3786"
             ],
             [
              0.5555555555555556,
              "#d8576b"
             ],
             [
              0.6666666666666666,
              "#ed7953"
             ],
             [
              0.7777777777777778,
              "#fb9f3a"
             ],
             [
              0.8888888888888888,
              "#fdca26"
             ],
             [
              1,
              "#f0f921"
             ]
            ],
            "type": "histogram2dcontour"
           }
          ],
          "mesh3d": [
           {
            "colorbar": {
             "outlinewidth": 0,
             "ticks": ""
            },
            "type": "mesh3d"
           }
          ],
          "parcoords": [
           {
            "line": {
             "colorbar": {
              "outlinewidth": 0,
              "ticks": ""
             }
            },
            "type": "parcoords"
           }
          ],
          "pie": [
           {
            "automargin": true,
            "type": "pie"
           }
          ],
          "scatter": [
           {
            "marker": {
             "colorbar": {
              "outlinewidth": 0,
              "ticks": ""
             }
            },
            "type": "scatter"
           }
          ],
          "scatter3d": [
           {
            "line": {
             "colorbar": {
              "outlinewidth": 0,
              "ticks": ""
             }
            },
            "marker": {
             "colorbar": {
              "outlinewidth": 0,
              "ticks": ""
             }
            },
            "type": "scatter3d"
           }
          ],
          "scattercarpet": [
           {
            "marker": {
             "colorbar": {
              "outlinewidth": 0,
              "ticks": ""
             }
            },
            "type": "scattercarpet"
           }
          ],
          "scattergeo": [
           {
            "marker": {
             "colorbar": {
              "outlinewidth": 0,
              "ticks": ""
             }
            },
            "type": "scattergeo"
           }
          ],
          "scattergl": [
           {
            "marker": {
             "colorbar": {
              "outlinewidth": 0,
              "ticks": ""
             }
            },
            "type": "scattergl"
           }
          ],
          "scattermapbox": [
           {
            "marker": {
             "colorbar": {
              "outlinewidth": 0,
              "ticks": ""
             }
            },
            "type": "scattermapbox"
           }
          ],
          "scatterpolar": [
           {
            "marker": {
             "colorbar": {
              "outlinewidth": 0,
              "ticks": ""
             }
            },
            "type": "scatterpolar"
           }
          ],
          "scatterpolargl": [
           {
            "marker": {
             "colorbar": {
              "outlinewidth": 0,
              "ticks": ""
             }
            },
            "type": "scatterpolargl"
           }
          ],
          "scatterternary": [
           {
            "marker": {
             "colorbar": {
              "outlinewidth": 0,
              "ticks": ""
             }
            },
            "type": "scatterternary"
           }
          ],
          "surface": [
           {
            "colorbar": {
             "outlinewidth": 0,
             "ticks": ""
            },
            "colorscale": [
             [
              0,
              "#0d0887"
             ],
             [
              0.1111111111111111,
              "#46039f"
             ],
             [
              0.2222222222222222,
              "#7201a8"
             ],
             [
              0.3333333333333333,
              "#9c179e"
             ],
             [
              0.4444444444444444,
              "#bd3786"
             ],
             [
              0.5555555555555556,
              "#d8576b"
             ],
             [
              0.6666666666666666,
              "#ed7953"
             ],
             [
              0.7777777777777778,
              "#fb9f3a"
             ],
             [
              0.8888888888888888,
              "#fdca26"
             ],
             [
              1,
              "#f0f921"
             ]
            ],
            "type": "surface"
           }
          ],
          "table": [
           {
            "cells": {
             "fill": {
              "color": "#EBF0F8"
             },
             "line": {
              "color": "white"
             }
            },
            "header": {
             "fill": {
              "color": "#C8D4E3"
             },
             "line": {
              "color": "white"
             }
            },
            "type": "table"
           }
          ]
         },
         "layout": {
          "annotationdefaults": {
           "arrowcolor": "#2a3f5f",
           "arrowhead": 0,
           "arrowwidth": 1
          },
          "coloraxis": {
           "colorbar": {
            "outlinewidth": 0,
            "ticks": ""
           }
          },
          "colorscale": {
           "diverging": [
            [
             0,
             "#8e0152"
            ],
            [
             0.1,
             "#c51b7d"
            ],
            [
             0.2,
             "#de77ae"
            ],
            [
             0.3,
             "#f1b6da"
            ],
            [
             0.4,
             "#fde0ef"
            ],
            [
             0.5,
             "#f7f7f7"
            ],
            [
             0.6,
             "#e6f5d0"
            ],
            [
             0.7,
             "#b8e186"
            ],
            [
             0.8,
             "#7fbc41"
            ],
            [
             0.9,
             "#4d9221"
            ],
            [
             1,
             "#276419"
            ]
           ],
           "sequential": [
            [
             0,
             "#0d0887"
            ],
            [
             0.1111111111111111,
             "#46039f"
            ],
            [
             0.2222222222222222,
             "#7201a8"
            ],
            [
             0.3333333333333333,
             "#9c179e"
            ],
            [
             0.4444444444444444,
             "#bd3786"
            ],
            [
             0.5555555555555556,
             "#d8576b"
            ],
            [
             0.6666666666666666,
             "#ed7953"
            ],
            [
             0.7777777777777778,
             "#fb9f3a"
            ],
            [
             0.8888888888888888,
             "#fdca26"
            ],
            [
             1,
             "#f0f921"
            ]
           ],
           "sequentialminus": [
            [
             0,
             "#0d0887"
            ],
            [
             0.1111111111111111,
             "#46039f"
            ],
            [
             0.2222222222222222,
             "#7201a8"
            ],
            [
             0.3333333333333333,
             "#9c179e"
            ],
            [
             0.4444444444444444,
             "#bd3786"
            ],
            [
             0.5555555555555556,
             "#d8576b"
            ],
            [
             0.6666666666666666,
             "#ed7953"
            ],
            [
             0.7777777777777778,
             "#fb9f3a"
            ],
            [
             0.8888888888888888,
             "#fdca26"
            ],
            [
             1,
             "#f0f921"
            ]
           ]
          },
          "colorway": [
           "#636efa",
           "#EF553B",
           "#00cc96",
           "#ab63fa",
           "#FFA15A",
           "#19d3f3",
           "#FF6692",
           "#B6E880",
           "#FF97FF",
           "#FECB52"
          ],
          "font": {
           "color": "#2a3f5f"
          },
          "geo": {
           "bgcolor": "white",
           "lakecolor": "white",
           "landcolor": "#E5ECF6",
           "showlakes": true,
           "showland": true,
           "subunitcolor": "white"
          },
          "hoverlabel": {
           "align": "left"
          },
          "hovermode": "closest",
          "mapbox": {
           "style": "light"
          },
          "paper_bgcolor": "white",
          "plot_bgcolor": "#E5ECF6",
          "polar": {
           "angularaxis": {
            "gridcolor": "white",
            "linecolor": "white",
            "ticks": ""
           },
           "bgcolor": "#E5ECF6",
           "radialaxis": {
            "gridcolor": "white",
            "linecolor": "white",
            "ticks": ""
           }
          },
          "scene": {
           "xaxis": {
            "backgroundcolor": "#E5ECF6",
            "gridcolor": "white",
            "gridwidth": 2,
            "linecolor": "white",
            "showbackground": true,
            "ticks": "",
            "zerolinecolor": "white"
           },
           "yaxis": {
            "backgroundcolor": "#E5ECF6",
            "gridcolor": "white",
            "gridwidth": 2,
            "linecolor": "white",
            "showbackground": true,
            "ticks": "",
            "zerolinecolor": "white"
           },
           "zaxis": {
            "backgroundcolor": "#E5ECF6",
            "gridcolor": "white",
            "gridwidth": 2,
            "linecolor": "white",
            "showbackground": true,
            "ticks": "",
            "zerolinecolor": "white"
           }
          },
          "shapedefaults": {
           "line": {
            "color": "#2a3f5f"
           }
          },
          "ternary": {
           "aaxis": {
            "gridcolor": "white",
            "linecolor": "white",
            "ticks": ""
           },
           "baxis": {
            "gridcolor": "white",
            "linecolor": "white",
            "ticks": ""
           },
           "bgcolor": "#E5ECF6",
           "caxis": {
            "gridcolor": "white",
            "linecolor": "white",
            "ticks": ""
           }
          },
          "title": {
           "x": 0.05
          },
          "xaxis": {
           "automargin": true,
           "gridcolor": "white",
           "linecolor": "white",
           "ticks": "",
           "title": {
            "standoff": 15
           },
           "zerolinecolor": "white",
           "zerolinewidth": 2
          },
          "yaxis": {
           "automargin": true,
           "gridcolor": "white",
           "linecolor": "white",
           "ticks": "",
           "title": {
            "standoff": 15
           },
           "zerolinecolor": "white",
           "zerolinewidth": 2
          }
         }
        }
       }
      },
      "text/html": [
       "<div>\n",
       "        \n",
       "        \n",
       "            <div id=\"e0cea884-8498-4dfd-995f-e5ceec42d20d\" class=\"plotly-graph-div\" style=\"height:525px; width:100%;\"></div>\n",
       "            <script type=\"text/javascript\">\n",
       "                require([\"plotly\"], function(Plotly) {\n",
       "                    window.PLOTLYENV=window.PLOTLYENV || {};\n",
       "                    \n",
       "                if (document.getElementById(\"e0cea884-8498-4dfd-995f-e5ceec42d20d\")) {\n",
       "                    Plotly.newPlot(\n",
       "                        'e0cea884-8498-4dfd-995f-e5ceec42d20d',\n",
       "                        [{\"connectgaps\": true, \"name\": \"LDA1 -- 0.4950\", \"type\": \"scatter\", \"x\": [3, 4, 5, 6, 7, 8, 9, 10, 11, 12, 15, 16, 17, 18, 19, 20, 21, 22, 23, 24, 25, 26, 27, 28, 32], \"y\": [0.453746811377013, 0.4543142956360075, 0.44000187618365993, 0.4581571657838096, 0.46984870428707387, 0.47610185840323466, 0.48317542279203035, 0.48802285367052933, 0.48323501745789343, 0.4866373648095633, 0.505854611858723, 0.5022003683730674, 0.5010793840900359, 0.5111119595824373, 0.515144417533006, 0.521245207372759, 0.5122524144860916, 0.5249903906812654, 0.5097310771428045, 0.5201291049265613, 0.5184369173483643, 0.5214822318819609, 0.5287216425340396, null, null]}, {\"connectgaps\": true, \"name\": \"LDA2 -- 0.4953\", \"type\": \"scatter\", \"x\": [3, 4, 5, 6, 7, 8, 9, 10, 11, 12, 15, 16, 17, 18, 19, 20, 21, 22, 23, 24, 25, 26, 27, 28, 32], \"y\": [0.4453408362707548, 0.46314043160696267, 0.45221313389876827, 0.4606954820942374, 0.46558403810321614, 0.4697363016902499, 0.49018771935950545, 0.4836054557881634, 0.48376449094129303, 0.4915163718510247, 0.5024176845960839, 0.5031577876589881, 0.5090946002368455, 0.5132941326032961, 0.5238296671583215, 0.5196399630963546, 0.5146848348352382, 0.5193794597531491, 0.5082358257676458, 0.5145733629128202, 0.524281868737874, 0.5114351252661073, 0.5217924284663137, null, null]}, {\"connectgaps\": true, \"name\": \"LDA3 -- 0.4861\", \"type\": \"scatter\", \"x\": [3, 4, 5, 6, 7, 8, 9, 10, 11, 12, 15, 16, 17, 18, 19, 20, 21, 22, 23, 24, 25, 26, 27, 28, 32], \"y\": [0.41206144256159144, 0.42671166302945746, 0.44916949196660744, 0.45569164635908055, 0.4648744149161394, 0.46744709274917495, 0.46168394025311343, 0.4634669620823683, 0.4797955485980966, 0.4750718818617937, 0.5018858954271518, 0.5105606032698446, 0.5129244106242947, 0.5131194870216899, 0.5114954992092428, 0.5113470766412048, 0.5204151486150751, 0.5052414495690666, 0.5073749553000685, 0.5043013930960671, 0.500944565582988, 0.5085358839383857, 0.5160892539721386, null, null]}, {\"connectgaps\": true, \"name\": \"LDA4 -- 0.4773\", \"type\": \"scatter\", \"x\": [3, 4, 5, 6, 7, 8, 9, 10, 11, 12, 15, 16, 17, 18, 19, 20, 21, 22, 23, 24, 25, 26, 27, 28, 32], \"y\": [0.40914259409344544, 0.41954178687763233, 0.4190719106919212, 0.46696163357149423, 0.464113637417439, 0.46604927386232753, 0.46918982631227757, 0.478794224775941, 0.4870228970481372, 0.4941820946093556, 0.5034418528576593, 0.5077018394729708, 0.4718086608246515, 0.49769771919376704, 0.48837895449902524, 0.48950964775069, 0.4921642292752457, 0.4957162362292006, 0.5030695003524752, 0.4978395840763422, 0.47333324862621406, 0.48943118678007536, 0.49344169127721843, null, null]}],\n",
       "                        {\"template\": {\"data\": {\"bar\": [{\"error_x\": {\"color\": \"#2a3f5f\"}, \"error_y\": {\"color\": \"#2a3f5f\"}, \"marker\": {\"line\": {\"color\": \"#E5ECF6\", \"width\": 0.5}}, \"type\": \"bar\"}], \"barpolar\": [{\"marker\": {\"line\": {\"color\": \"#E5ECF6\", \"width\": 0.5}}, \"type\": \"barpolar\"}], \"carpet\": [{\"aaxis\": {\"endlinecolor\": \"#2a3f5f\", \"gridcolor\": \"white\", \"linecolor\": \"white\", \"minorgridcolor\": \"white\", \"startlinecolor\": \"#2a3f5f\"}, \"baxis\": {\"endlinecolor\": \"#2a3f5f\", \"gridcolor\": \"white\", \"linecolor\": \"white\", \"minorgridcolor\": \"white\", \"startlinecolor\": \"#2a3f5f\"}, \"type\": \"carpet\"}], \"choropleth\": [{\"colorbar\": {\"outlinewidth\": 0, \"ticks\": \"\"}, \"type\": \"choropleth\"}], \"contour\": [{\"colorbar\": {\"outlinewidth\": 0, \"ticks\": \"\"}, \"colorscale\": [[0.0, \"#0d0887\"], [0.1111111111111111, \"#46039f\"], [0.2222222222222222, \"#7201a8\"], [0.3333333333333333, \"#9c179e\"], [0.4444444444444444, \"#bd3786\"], [0.5555555555555556, \"#d8576b\"], [0.6666666666666666, \"#ed7953\"], [0.7777777777777778, \"#fb9f3a\"], [0.8888888888888888, \"#fdca26\"], [1.0, \"#f0f921\"]], \"type\": \"contour\"}], \"contourcarpet\": [{\"colorbar\": {\"outlinewidth\": 0, \"ticks\": \"\"}, \"type\": \"contourcarpet\"}], \"heatmap\": [{\"colorbar\": {\"outlinewidth\": 0, \"ticks\": \"\"}, \"colorscale\": [[0.0, \"#0d0887\"], [0.1111111111111111, \"#46039f\"], [0.2222222222222222, \"#7201a8\"], [0.3333333333333333, \"#9c179e\"], [0.4444444444444444, \"#bd3786\"], [0.5555555555555556, \"#d8576b\"], [0.6666666666666666, \"#ed7953\"], [0.7777777777777778, \"#fb9f3a\"], [0.8888888888888888, \"#fdca26\"], [1.0, \"#f0f921\"]], \"type\": \"heatmap\"}], \"heatmapgl\": [{\"colorbar\": {\"outlinewidth\": 0, \"ticks\": \"\"}, \"colorscale\": [[0.0, \"#0d0887\"], [0.1111111111111111, \"#46039f\"], [0.2222222222222222, \"#7201a8\"], [0.3333333333333333, \"#9c179e\"], [0.4444444444444444, \"#bd3786\"], [0.5555555555555556, \"#d8576b\"], [0.6666666666666666, \"#ed7953\"], [0.7777777777777778, \"#fb9f3a\"], [0.8888888888888888, \"#fdca26\"], [1.0, \"#f0f921\"]], \"type\": \"heatmapgl\"}], \"histogram\": [{\"marker\": {\"colorbar\": {\"outlinewidth\": 0, \"ticks\": \"\"}}, \"type\": \"histogram\"}], \"histogram2d\": [{\"colorbar\": {\"outlinewidth\": 0, \"ticks\": \"\"}, \"colorscale\": [[0.0, \"#0d0887\"], [0.1111111111111111, \"#46039f\"], [0.2222222222222222, \"#7201a8\"], [0.3333333333333333, \"#9c179e\"], [0.4444444444444444, \"#bd3786\"], [0.5555555555555556, \"#d8576b\"], [0.6666666666666666, \"#ed7953\"], [0.7777777777777778, \"#fb9f3a\"], [0.8888888888888888, \"#fdca26\"], [1.0, \"#f0f921\"]], \"type\": \"histogram2d\"}], \"histogram2dcontour\": [{\"colorbar\": {\"outlinewidth\": 0, \"ticks\": \"\"}, \"colorscale\": [[0.0, \"#0d0887\"], [0.1111111111111111, \"#46039f\"], [0.2222222222222222, \"#7201a8\"], [0.3333333333333333, \"#9c179e\"], [0.4444444444444444, \"#bd3786\"], [0.5555555555555556, \"#d8576b\"], [0.6666666666666666, \"#ed7953\"], [0.7777777777777778, \"#fb9f3a\"], [0.8888888888888888, \"#fdca26\"], [1.0, \"#f0f921\"]], \"type\": \"histogram2dcontour\"}], \"mesh3d\": [{\"colorbar\": {\"outlinewidth\": 0, \"ticks\": \"\"}, \"type\": \"mesh3d\"}], \"parcoords\": [{\"line\": {\"colorbar\": {\"outlinewidth\": 0, \"ticks\": \"\"}}, \"type\": \"parcoords\"}], \"pie\": [{\"automargin\": true, \"type\": \"pie\"}], \"scatter\": [{\"marker\": {\"colorbar\": {\"outlinewidth\": 0, \"ticks\": \"\"}}, \"type\": \"scatter\"}], \"scatter3d\": [{\"line\": {\"colorbar\": {\"outlinewidth\": 0, \"ticks\": \"\"}}, \"marker\": {\"colorbar\": {\"outlinewidth\": 0, \"ticks\": \"\"}}, \"type\": \"scatter3d\"}], \"scattercarpet\": [{\"marker\": {\"colorbar\": {\"outlinewidth\": 0, \"ticks\": \"\"}}, \"type\": \"scattercarpet\"}], \"scattergeo\": [{\"marker\": {\"colorbar\": {\"outlinewidth\": 0, \"ticks\": \"\"}}, \"type\": \"scattergeo\"}], \"scattergl\": [{\"marker\": {\"colorbar\": {\"outlinewidth\": 0, \"ticks\": \"\"}}, \"type\": \"scattergl\"}], \"scattermapbox\": [{\"marker\": {\"colorbar\": {\"outlinewidth\": 0, \"ticks\": \"\"}}, \"type\": \"scattermapbox\"}], \"scatterpolar\": [{\"marker\": {\"colorbar\": {\"outlinewidth\": 0, \"ticks\": \"\"}}, \"type\": \"scatterpolar\"}], \"scatterpolargl\": [{\"marker\": {\"colorbar\": {\"outlinewidth\": 0, \"ticks\": \"\"}}, \"type\": \"scatterpolargl\"}], \"scatterternary\": [{\"marker\": {\"colorbar\": {\"outlinewidth\": 0, \"ticks\": \"\"}}, \"type\": \"scatterternary\"}], \"surface\": [{\"colorbar\": {\"outlinewidth\": 0, \"ticks\": \"\"}, \"colorscale\": [[0.0, \"#0d0887\"], [0.1111111111111111, \"#46039f\"], [0.2222222222222222, \"#7201a8\"], [0.3333333333333333, \"#9c179e\"], [0.4444444444444444, \"#bd3786\"], [0.5555555555555556, \"#d8576b\"], [0.6666666666666666, \"#ed7953\"], [0.7777777777777778, \"#fb9f3a\"], [0.8888888888888888, \"#fdca26\"], [1.0, \"#f0f921\"]], \"type\": \"surface\"}], \"table\": [{\"cells\": {\"fill\": {\"color\": \"#EBF0F8\"}, \"line\": {\"color\": \"white\"}}, \"header\": {\"fill\": {\"color\": \"#C8D4E3\"}, \"line\": {\"color\": \"white\"}}, \"type\": \"table\"}]}, \"layout\": {\"annotationdefaults\": {\"arrowcolor\": \"#2a3f5f\", \"arrowhead\": 0, \"arrowwidth\": 1}, \"coloraxis\": {\"colorbar\": {\"outlinewidth\": 0, \"ticks\": \"\"}}, \"colorscale\": {\"diverging\": [[0, \"#8e0152\"], [0.1, \"#c51b7d\"], [0.2, \"#de77ae\"], [0.3, \"#f1b6da\"], [0.4, \"#fde0ef\"], [0.5, \"#f7f7f7\"], [0.6, \"#e6f5d0\"], [0.7, \"#b8e186\"], [0.8, \"#7fbc41\"], [0.9, \"#4d9221\"], [1, \"#276419\"]], \"sequential\": [[0.0, \"#0d0887\"], [0.1111111111111111, \"#46039f\"], [0.2222222222222222, \"#7201a8\"], [0.3333333333333333, \"#9c179e\"], [0.4444444444444444, \"#bd3786\"], [0.5555555555555556, \"#d8576b\"], [0.6666666666666666, \"#ed7953\"], [0.7777777777777778, \"#fb9f3a\"], [0.8888888888888888, \"#fdca26\"], [1.0, \"#f0f921\"]], \"sequentialminus\": [[0.0, \"#0d0887\"], [0.1111111111111111, \"#46039f\"], [0.2222222222222222, \"#7201a8\"], [0.3333333333333333, \"#9c179e\"], [0.4444444444444444, \"#bd3786\"], [0.5555555555555556, \"#d8576b\"], [0.6666666666666666, \"#ed7953\"], [0.7777777777777778, \"#fb9f3a\"], [0.8888888888888888, \"#fdca26\"], [1.0, \"#f0f921\"]]}, \"colorway\": [\"#636efa\", \"#EF553B\", \"#00cc96\", \"#ab63fa\", \"#FFA15A\", \"#19d3f3\", \"#FF6692\", \"#B6E880\", \"#FF97FF\", \"#FECB52\"], \"font\": {\"color\": \"#2a3f5f\"}, \"geo\": {\"bgcolor\": \"white\", \"lakecolor\": \"white\", \"landcolor\": \"#E5ECF6\", \"showlakes\": true, \"showland\": true, \"subunitcolor\": \"white\"}, \"hoverlabel\": {\"align\": \"left\"}, \"hovermode\": \"closest\", \"mapbox\": {\"style\": \"light\"}, \"paper_bgcolor\": \"white\", \"plot_bgcolor\": \"#E5ECF6\", \"polar\": {\"angularaxis\": {\"gridcolor\": \"white\", \"linecolor\": \"white\", \"ticks\": \"\"}, \"bgcolor\": \"#E5ECF6\", \"radialaxis\": {\"gridcolor\": \"white\", \"linecolor\": \"white\", \"ticks\": \"\"}}, \"scene\": {\"xaxis\": {\"backgroundcolor\": \"#E5ECF6\", \"gridcolor\": \"white\", \"gridwidth\": 2, \"linecolor\": \"white\", \"showbackground\": true, \"ticks\": \"\", \"zerolinecolor\": \"white\"}, \"yaxis\": {\"backgroundcolor\": \"#E5ECF6\", \"gridcolor\": \"white\", \"gridwidth\": 2, \"linecolor\": \"white\", \"showbackground\": true, \"ticks\": \"\", \"zerolinecolor\": \"white\"}, \"zaxis\": {\"backgroundcolor\": \"#E5ECF6\", \"gridcolor\": \"white\", \"gridwidth\": 2, \"linecolor\": \"white\", \"showbackground\": true, \"ticks\": \"\", \"zerolinecolor\": \"white\"}}, \"shapedefaults\": {\"line\": {\"color\": \"#2a3f5f\"}}, \"ternary\": {\"aaxis\": {\"gridcolor\": \"white\", \"linecolor\": \"white\", \"ticks\": \"\"}, \"baxis\": {\"gridcolor\": \"white\", \"linecolor\": \"white\", \"ticks\": \"\"}, \"bgcolor\": \"#E5ECF6\", \"caxis\": {\"gridcolor\": \"white\", \"linecolor\": \"white\", \"ticks\": \"\"}}, \"title\": {\"x\": 0.05}, \"xaxis\": {\"automargin\": true, \"gridcolor\": \"white\", \"linecolor\": \"white\", \"ticks\": \"\", \"title\": {\"standoff\": 15}, \"zerolinecolor\": \"white\", \"zerolinewidth\": 2}, \"yaxis\": {\"automargin\": true, \"gridcolor\": \"white\", \"linecolor\": \"white\", \"ticks\": \"\", \"title\": {\"standoff\": 15}, \"zerolinecolor\": \"white\", \"zerolinewidth\": 2}}}},\n",
       "                        {\"responsive\": true}\n",
       "                    ).then(function(){\n",
       "                            \n",
       "var gd = document.getElementById('e0cea884-8498-4dfd-995f-e5ceec42d20d');\n",
       "var x = new MutationObserver(function (mutations, observer) {{\n",
       "        var display = window.getComputedStyle(gd).display;\n",
       "        if (!display || display === 'none') {{\n",
       "            console.log([gd, 'removed!']);\n",
       "            Plotly.purge(gd);\n",
       "            observer.disconnect();\n",
       "        }}\n",
       "}});\n",
       "\n",
       "// Listen for the removal of the full notebook cells\n",
       "var notebookContainer = gd.closest('#notebook-container');\n",
       "if (notebookContainer) {{\n",
       "    x.observe(notebookContainer, {childList: true});\n",
       "}}\n",
       "\n",
       "// Listen for the clearing of the current output cell\n",
       "var outputEl = gd.closest('.output');\n",
       "if (outputEl) {{\n",
       "    x.observe(outputEl, {childList: true});\n",
       "}}\n",
       "\n",
       "                        })\n",
       "                };\n",
       "                });\n",
       "            </script>\n",
       "        </div>"
      ]
     },
     "metadata": {},
     "output_type": "display_data"
    }
   ],
   "source": [
    "# Selected the D1 config based on the results above\n",
    "review_this = full_coherence_data[(full_coherence_data['Range']==rng) & (full_coherence_data['Config']=='D1')]\n",
    "\n",
    "\n",
    "import plotly.graph_objects as go\n",
    "import numpy as np\n",
    "\n",
    "x_axis_vals = list(full_coherence_data['N_Topics'].unique())\n",
    "\n",
    "series_names = sorted(list(review_this['Setting'].unique()))\n",
    "#series_names = ['LDA2']\n",
    "fig = go.Figure()\n",
    "\n",
    "for setting in series_names:\n",
    "\n",
    "    graph_data = review_this[(review_this['Setting']==setting)]\n",
    "    graph_data\n",
    "\n",
    "    score_dict = graph_data.set_index('N_Topics')[['CS_Ave']].to_dict()['CS_Ave']\n",
    "\n",
    "    # For each possible topic number, fill in the corresponding socre. Use None if no score was provided for that number of topics for that model.\n",
    "    y_axis_vals = [score_dict[x] if x in score_dict else None for x in x_axis_vals]\n",
    "    # Calculate the average coherence score for the setting \n",
    "    y_ave = np.mean(list(score_dict.values()))\n",
    "    \n",
    "    fig.add_trace(go.Scatter(\n",
    "        x=x_axis_vals,\n",
    "        y=y_axis_vals,\n",
    "        name = setting + \" -- {:.4f}\".format(y_ave), # Style name/legend entry with html tags\n",
    "        connectgaps=True # override default to connect the gaps\n",
    "    ))\n",
    "\n",
    "fig.show()"
   ]
  },
  {
   "cell_type": "markdown",
   "metadata": {},
   "source": [
    "# Analysis \n",
    "\n",
    "### Intro \n",
    "\n",
    "The remainder of this notebook examines the topics for the different models that were estimated for the ratings that had the worst ratings. We examine models with different number of topics and compare them to one another. The analysis is presented in the order in which it was conducted. \n",
    "\n",
    "### First evaluation of coherence by model and number of topics for ratings ranged [0, 35)\n",
    "\n",
    "Based on average coherence and the elbow graph above, the model that best fit the 0-35 corpus was the setting *LDA2* which resulted in a higher average average coherence score. There are two points at which the rate at which coherence increases drops considerably, at 9 and at 19 topics. The cleaning configuration *D1* yielded consistently higher coherence scores than other setups. \n",
    "\n",
    "**D1 in comparison**\n",
    "<br>D1 implements both stemmer and lemmatizer, like A1, but differs in that it does not collect n_gram words in the dictionary \"laid_back\" example. "
   ]
  },
  {
   "cell_type": "code",
   "execution_count": 82,
   "metadata": {
    "scrolled": true
   },
   "outputs": [
    {
     "data": {
      "text/html": [
       "D:/Student_Voices_Database/s3mirror/graphs/LDAGraphs/Viz_[0, 35)_19_LDA2_D1.html"
      ],
      "text/plain": [
       "<IPython.core.display.HTML object>"
      ]
     },
     "metadata": {},
     "output_type": "display_data"
    }
   ],
   "source": [
    "from IPython.core.display import display, HTML\n",
    "\n",
    "display(HTML('D:/Student_Voices_Database/s3mirror/graphs/LDAGraphs/Viz_[0, 35)_19_LDA2_D1.html'))"
   ]
  },
  {
   "cell_type": "code",
   "execution_count": 15,
   "metadata": {},
   "outputs": [
    {
     "data": {
      "text/html": [
       "<div>\n",
       "<style scoped>\n",
       "    .dataframe tbody tr th:only-of-type {\n",
       "        vertical-align: middle;\n",
       "    }\n",
       "\n",
       "    .dataframe tbody tr th {\n",
       "        vertical-align: top;\n",
       "    }\n",
       "\n",
       "    .dataframe thead th {\n",
       "        text-align: right;\n",
       "    }\n",
       "</style>\n",
       "<table border=\"1\" class=\"dataframe\">\n",
       "  <thead>\n",
       "    <tr style=\"text-align: right;\">\n",
       "      <th></th>\n",
       "      <th>Coherence</th>\n",
       "      <th>NumReviews</th>\n",
       "      <th>Descriptions</th>\n",
       "      <th>LDA_num</th>\n",
       "    </tr>\n",
       "    <tr>\n",
       "      <th>index</th>\n",
       "      <th></th>\n",
       "      <th></th>\n",
       "      <th></th>\n",
       "      <th></th>\n",
       "    </tr>\n",
       "  </thead>\n",
       "  <tbody>\n",
       "    <tr>\n",
       "      <td>19</td>\n",
       "      <td>0.666695</td>\n",
       "      <td>1935</td>\n",
       "      <td>topic 18 words:  cares  coach  play  run  gym ...</td>\n",
       "      <td>27</td>\n",
       "    </tr>\n",
       "    <tr>\n",
       "      <td>22</td>\n",
       "      <td>0.638279</td>\n",
       "      <td>6730</td>\n",
       "      <td>topic 21 words:  class  ap  taking  college  h...</td>\n",
       "      <td>16</td>\n",
       "    </tr>\n",
       "    <tr>\n",
       "      <td>3</td>\n",
       "      <td>0.615326</td>\n",
       "      <td>13605</td>\n",
       "      <td>topic 2 words:  ask  questions  gets  question...</td>\n",
       "      <td>4</td>\n",
       "    </tr>\n",
       "    <tr>\n",
       "      <td>21</td>\n",
       "      <td>0.599720</td>\n",
       "      <td>8853</td>\n",
       "      <td>topic 20 words:  gives  homework  tests  class...</td>\n",
       "      <td>14</td>\n",
       "    </tr>\n",
       "    <tr>\n",
       "      <td>18</td>\n",
       "      <td>0.599548</td>\n",
       "      <td>3003</td>\n",
       "      <td>topic 17 words:  work  due  projects  assignme...</td>\n",
       "      <td>21</td>\n",
       "    </tr>\n",
       "    <tr>\n",
       "      <td>20</td>\n",
       "      <td>0.580280</td>\n",
       "      <td>9758</td>\n",
       "      <td>topic 19 words:  students  teaching  poor  kno...</td>\n",
       "      <td>10</td>\n",
       "    </tr>\n",
       "    <tr>\n",
       "      <td>26</td>\n",
       "      <td>0.578786</td>\n",
       "      <td>2140</td>\n",
       "      <td>topic 25 words:  english  spanish  word  frenc...</td>\n",
       "      <td>25</td>\n",
       "    </tr>\n",
       "    <tr>\n",
       "      <td>15</td>\n",
       "      <td>0.573826</td>\n",
       "      <td>9950</td>\n",
       "      <td>topic 14 words:  students  teacher  child  res...</td>\n",
       "      <td>11</td>\n",
       "    </tr>\n",
       "    <tr>\n",
       "      <td>17</td>\n",
       "      <td>0.572851</td>\n",
       "      <td>10519</td>\n",
       "      <td>topic 16 words:  time  class  boring  half  ta...</td>\n",
       "      <td>7</td>\n",
       "    </tr>\n",
       "    <tr>\n",
       "      <td>14</td>\n",
       "      <td>0.556834</td>\n",
       "      <td>5578</td>\n",
       "      <td>topic 13 words:  favorites  hate  picks  plays...</td>\n",
       "      <td>19</td>\n",
       "    </tr>\n",
       "    <tr>\n",
       "      <td>13</td>\n",
       "      <td>0.556267</td>\n",
       "      <td>9878</td>\n",
       "      <td>topic 12 words:  work  test  grade  points  ev...</td>\n",
       "      <td>8</td>\n",
       "    </tr>\n",
       "    <tr>\n",
       "      <td>10</td>\n",
       "      <td>0.546313</td>\n",
       "      <td>4306</td>\n",
       "      <td>topic 9 words:  school  high  middle  teachers...</td>\n",
       "      <td>20</td>\n",
       "    </tr>\n",
       "    <tr>\n",
       "      <td>8</td>\n",
       "      <td>0.541099</td>\n",
       "      <td>13374</td>\n",
       "      <td>topic 7 words:  class  hard  book  understand ...</td>\n",
       "      <td>5</td>\n",
       "    </tr>\n",
       "    <tr>\n",
       "      <td>23</td>\n",
       "      <td>0.530162</td>\n",
       "      <td>8743</td>\n",
       "      <td>topic 22 words:  teacher  worst  teachers  far...</td>\n",
       "      <td>9</td>\n",
       "    </tr>\n",
       "    <tr>\n",
       "      <td>2</td>\n",
       "      <td>0.526225</td>\n",
       "      <td>14125</td>\n",
       "      <td>topic 1 words:  class  got  never  last  taugh...</td>\n",
       "      <td>3</td>\n",
       "    </tr>\n",
       "    <tr>\n",
       "      <td>24</td>\n",
       "      <td>0.523933</td>\n",
       "      <td>2445</td>\n",
       "      <td>topic 23 words:  computer  times  watch  first...</td>\n",
       "      <td>23</td>\n",
       "    </tr>\n",
       "    <tr>\n",
       "      <td>16</td>\n",
       "      <td>0.503889</td>\n",
       "      <td>5945</td>\n",
       "      <td>topic 15 words:  grades  unclear  clear  extre...</td>\n",
       "      <td>17</td>\n",
       "    </tr>\n",
       "    <tr>\n",
       "      <td>9</td>\n",
       "      <td>0.492774</td>\n",
       "      <td>5089</td>\n",
       "      <td>topic 8 words:  cool  grade  funny  sometimes ...</td>\n",
       "      <td>18</td>\n",
       "    </tr>\n",
       "    <tr>\n",
       "      <td>5</td>\n",
       "      <td>0.487746</td>\n",
       "      <td>16042</td>\n",
       "      <td>topic 4 words:  teach  know  anything  cannot ...</td>\n",
       "      <td>2</td>\n",
       "    </tr>\n",
       "    <tr>\n",
       "      <td>27</td>\n",
       "      <td>0.478770</td>\n",
       "      <td>1619</td>\n",
       "      <td>topic 26 words:  gave  lost  name  hand  call ...</td>\n",
       "      <td>26</td>\n",
       "    </tr>\n",
       "    <tr>\n",
       "      <td>11</td>\n",
       "      <td>0.466625</td>\n",
       "      <td>1259</td>\n",
       "      <td>topic 10 words:  grading  self  avoid  system ...</td>\n",
       "      <td>24</td>\n",
       "    </tr>\n",
       "    <tr>\n",
       "      <td>25</td>\n",
       "      <td>0.453375</td>\n",
       "      <td>3769</td>\n",
       "      <td>topic 24 words:  needs  stop  teaching  contro...</td>\n",
       "      <td>22</td>\n",
       "    </tr>\n",
       "    <tr>\n",
       "      <td>1</td>\n",
       "      <td>0.451853</td>\n",
       "      <td>15644</td>\n",
       "      <td>topic 0 words:  class  nothing  think  learn  ...</td>\n",
       "      <td>1</td>\n",
       "    </tr>\n",
       "    <tr>\n",
       "      <td>4</td>\n",
       "      <td>0.451462</td>\n",
       "      <td>10995</td>\n",
       "      <td>topic 3 words:  like  kids  students  feel  pe...</td>\n",
       "      <td>6</td>\n",
       "    </tr>\n",
       "    <tr>\n",
       "      <td>12</td>\n",
       "      <td>0.448307</td>\n",
       "      <td>11639</td>\n",
       "      <td>topic 11 words:  talk  always  class  mean  ro...</td>\n",
       "      <td>12</td>\n",
       "    </tr>\n",
       "    <tr>\n",
       "      <td>6</td>\n",
       "      <td>0.431504</td>\n",
       "      <td>6827</td>\n",
       "      <td>topic 5 words:  nice  help  teacher  person  h...</td>\n",
       "      <td>15</td>\n",
       "    </tr>\n",
       "    <tr>\n",
       "      <td>7</td>\n",
       "      <td>0.403034</td>\n",
       "      <td>7454</td>\n",
       "      <td>topic 6 words:  good  teacher  bad  math  mean...</td>\n",
       "      <td>13</td>\n",
       "    </tr>\n",
       "  </tbody>\n",
       "</table>\n",
       "</div>"
      ],
      "text/plain": [
       "       Coherence  NumReviews  \\\n",
       "index                          \n",
       "19      0.666695        1935   \n",
       "22      0.638279        6730   \n",
       "3       0.615326       13605   \n",
       "21      0.599720        8853   \n",
       "18      0.599548        3003   \n",
       "20      0.580280        9758   \n",
       "26      0.578786        2140   \n",
       "15      0.573826        9950   \n",
       "17      0.572851       10519   \n",
       "14      0.556834        5578   \n",
       "13      0.556267        9878   \n",
       "10      0.546313        4306   \n",
       "8       0.541099       13374   \n",
       "23      0.530162        8743   \n",
       "2       0.526225       14125   \n",
       "24      0.523933        2445   \n",
       "16      0.503889        5945   \n",
       "9       0.492774        5089   \n",
       "5       0.487746       16042   \n",
       "27      0.478770        1619   \n",
       "11      0.466625        1259   \n",
       "25      0.453375        3769   \n",
       "1       0.451853       15644   \n",
       "4       0.451462       10995   \n",
       "12      0.448307       11639   \n",
       "6       0.431504        6827   \n",
       "7       0.403034        7454   \n",
       "\n",
       "                                            Descriptions  LDA_num  \n",
       "index                                                              \n",
       "19     topic 18 words:  cares  coach  play  run  gym ...       27  \n",
       "22     topic 21 words:  class  ap  taking  college  h...       16  \n",
       "3      topic 2 words:  ask  questions  gets  question...        4  \n",
       "21     topic 20 words:  gives  homework  tests  class...       14  \n",
       "18     topic 17 words:  work  due  projects  assignme...       21  \n",
       "20     topic 19 words:  students  teaching  poor  kno...       10  \n",
       "26     topic 25 words:  english  spanish  word  frenc...       25  \n",
       "15     topic 14 words:  students  teacher  child  res...       11  \n",
       "17     topic 16 words:  time  class  boring  half  ta...        7  \n",
       "14     topic 13 words:  favorites  hate  picks  plays...       19  \n",
       "13     topic 12 words:  work  test  grade  points  ev...        8  \n",
       "10     topic 9 words:  school  high  middle  teachers...       20  \n",
       "8      topic 7 words:  class  hard  book  understand ...        5  \n",
       "23     topic 22 words:  teacher  worst  teachers  far...        9  \n",
       "2      topic 1 words:  class  got  never  last  taugh...        3  \n",
       "24     topic 23 words:  computer  times  watch  first...       23  \n",
       "16     topic 15 words:  grades  unclear  clear  extre...       17  \n",
       "9      topic 8 words:  cool  grade  funny  sometimes ...       18  \n",
       "5      topic 4 words:  teach  know  anything  cannot ...        2  \n",
       "27     topic 26 words:  gave  lost  name  hand  call ...       26  \n",
       "11     topic 10 words:  grading  self  avoid  system ...       24  \n",
       "25     topic 24 words:  needs  stop  teaching  contro...       22  \n",
       "1      topic 0 words:  class  nothing  think  learn  ...        1  \n",
       "4      topic 3 words:  like  kids  students  feel  pe...        6  \n",
       "12     topic 11 words:  talk  always  class  mean  ro...       12  \n",
       "6      topic 5 words:  nice  help  teacher  person  h...       15  \n",
       "7      topic 6 words:  good  teacher  bad  math  mean...       13  "
      ]
     },
     "execution_count": 15,
     "metadata": {},
     "output_type": "execute_result"
    }
   ],
   "source": [
    "from student_voices import review \n",
    "from importlib import reload\n",
    "review = reload(review)\n",
    "\n",
    "results_dir = 'D:/Student_Voices_Database/s3mirror/results'\n",
    "rng = '[0, 35)'\n",
    "config = 'D1'\n",
    "setting = 'LDA2'\n",
    "tn = 19\n",
    "\n",
    "model_info = review.get_topic_summary(results_dir, tn, rng, config, setting)\n",
    "\n",
    "# This topic assignment was performed by manually comparing the key words in the pyLDAvis graph and the coherence output. \n",
    "# When replicating this study, topics may be presented in a different order (but should have the same key words and coherence scores).\n",
    "# Make sure that topics match up if you want to attach coherence scores to the pyLDAvis topics. \n",
    "lda_idx = {1:1, 2:3, 3:4, 4:6, 5:2, 6:15, 7:13, 8:5, 9:18, 10:20, 11:24, 12:12, 13:8, 14:19, 15:11, 16:17, 17:7, 18:21, 19:27, 20:10, 21:14, 22:16, 23:9, 24:23, 25:22, 26:25, 27:26}\n",
    "model_info['LDA_num'] = model_info.index.map(lda_idx)\n",
    "model_info.sort_values('Coherence',ascending=False)"
   ]
  },
  {
   "cell_type": "code",
   "execution_count": null,
   "metadata": {},
   "outputs": [],
   "source": []
  },
  {
   "cell_type": "markdown",
   "metadata": {},
   "source": [
    "### Examining models with fewer topics in [0,35) \n",
    "\n",
    "When reviewing fewer topics using the same corpus, again higher number of topics lead to higher coherence, D1 is the dominant cleaning configuration, and the optimal settings vary depending on the highest number of topics reviewed. These findings are less relevant because average coherence remains very low and differences between the average or median coherence scores are diminutive.\n",
    "\n",
    "In order to compare the results of a model on fewer topics with the results above we restrict ourselves to the same parameters as the optimal model we chose (LDA1, D1, <13 topics). \n",
    "\n",
    "The best performing model with the *LDA1* and *D1* setting had 10 topics. "
   ]
  },
  {
   "cell_type": "markdown",
   "metadata": {},
   "source": [
    "**Plot the bubble graph**:"
   ]
  },
  {
   "cell_type": "code",
   "execution_count": 6,
   "metadata": {},
   "outputs": [
    {
     "data": {
      "text/html": [
       "\n",
       "<link rel=\"stylesheet\" type=\"text/css\" href=\"https://cdn.rawgit.com/bmabey/pyLDAvis/files/ldavis.v1.0.0.css\">\n",
       "\n",
       "\n",
       "<div id=\"ldavis_el197831405802410450723393852723\"></div>\n",
       "<script type=\"text/javascript\">\n",
       "\n",
       "var ldavis_el197831405802410450723393852723_data = {\"mdsDat\": {\"x\": [0.09643046829298284, -0.08395079005499348, -0.1474481363855555, -0.23506796448402073, -0.10501993739864833, 0.1267258186528218, 0.11176626376541338, 0.05315128826899961, -0.07365905858331227, 0.2570720479263127], \"y\": [0.0523215373900547, -0.005830884628524993, 0.07243683495880787, -0.16863639766080765, 0.07633776245161096, -0.22568127983952788, 0.09104490777283629, 0.253115267853553, -0.04775900968258082, -0.09734873861542154], \"topics\": [1, 2, 3, 4, 5, 6, 7, 8, 9, 10], \"cluster\": [1, 1, 1, 1, 1, 1, 1, 1, 1, 1], \"Freq\": [13.294708251953125, 12.429191589355469, 12.108596801757812, 11.014192581176758, 10.161224365234375, 9.4561185836792, 9.445488929748535, 8.57140064239502, 8.152236938476562, 5.366842269897461]}, \"tinfo\": {\"Term\": [\"worst\", \"school\", \"teacher\", \"students\", \"class\", \"gives\", \"grade\", \"like\", \"homework\", \"favorites\", \"kids\", \"tests\", \"ask\", \"time\", \"mean\", \"math\", \"teach\", \"help\", \"nothing\", \"questions\", \"gets\", \"learned\", \"learn\", \"got\", \"nice\", \"anything\", \"boring\", \"understand\", \"needs\", \"high\", \"english\", \"life\", \"french\", \"speak\", \"language\", \"possibly\", \"absolute\", \"worst\", \"studies\", \"describe\", \"german\", \"living\", \"chinese\", \"american\", \"laziest\", \"entertaining\", \"husband\", \"fluent\", \"native\", \"geography\", \"paycheck\", \"america\", \"languages\", \"madame\", \"foreign\", \"dark\", \"japanese\", \"doctor\", \"wrestling\", \"de\", \"spanish\", \"world\", \"probably\", \"far\", \"fired\", \"met\", \"save\", \"history\", \"years\", \"teachers\", \"teacher\", \"woman\", \"social\", \"honestly\", \"speaking\", \"horrible\", \"hope\", \"awful\", \"worse\", \"words\", \"terrible\", \"think\", \"teaching\", \"cannot\", \"know\", \"teach\", \"bad\", \"even\", \"say\", \"class\", \"switch\", \"needs\", \"good\", \"anything\", \"never\", \"learn\", \"physics\", \"chemistry\", \"algebra\", \"biology\", \"concepts\", \"geometry\", \"chem\", \"math\", \"tutor\", \"pre\", \"calculus\", \"calc\", \"ap\", \"trig\", \"convey\", \"psych\", \"khan\", \"alg\", \"euro\", \"precalc\", \"accelerated\", \"environmental\", \"miserably\", \"ab\", \"regent\", \"paced\", \"precal\", \"stat\", \"reteach\", \"solves\", \"material\", \"honors\", \"regents\", \"bio\", \"tutors\", \"exam\", \"tutoring\", \"regular\", \"prepare\", \"harder\", \"luck\", \"understand\", \"explaining\", \"teach\", \"difficult\", \"hard\", \"nice\", \"explain\", \"teaching\", \"good\", \"person\", \"tests\", \"class\", \"learn\", \"teacher\", \"know\", \"cannot\", \"help\", \"anything\", \"teaches\", \"subject\", \"expects\", \"test\", \"taught\", \"students\", \"easy\", \"everything\", \"bad\", \"horrible\", \"terrible\", \"even\", \"period\", \"computer\", \"waste\", \"spends\", \"spent\", \"sits\", \"movies\", \"wastes\", \"easiest\", \"watching\", \"wasted\", \"min\", \"movie\", \"wasting\", \"cheat\", \"watched\", \"cell\", \"draw\", \"sleeping\", \"dreaded\", \"comp\", \"slept\", \"laptop\", \"design\", \"tv\", \"photography\", \"elective\", \"texting\", \"nap\", \"semesters\", \"whole\", \"learned\", \"spend\", \"watch\", \"video\", \"sit\", \"minutes\", \"nothing\", \"desk\", \"hour\", \"time\", \"phone\", \"half\", \"class\", \"videos\", \"learn\", \"anything\", \"easy\", \"thing\", \"control\", \"taught\", \"boring\", \"entire\", \"talking\", \"every\", \"teach\", \"never\", \"fun\", \"like\", \"work\", \"know\", \"talk\", \"even\", \"read\", \"homework\", \"assigns\", \"credit\", \"copy\", \"packets\", \"pages\", \"quizes\", \"pop\", \"checks\", \"assign\", \"classwork\", \"guides\", \"study\", \"sheets\", \"amounts\", \"dates\", \"presentations\", \"copying\", \"handouts\", \"assigning\", \"load\", \"slide\", \"collects\", \"loads\", \"copied\", \"slides\", \"format\", \"definitions\", \"readings\", \"text\", \"packet\", \"gives\", \"night\", \"quizzes\", \"powerpoint\", \"reads\", \"notes\", \"essays\", \"projects\", \"hw\", \"chapter\", \"points\", \"quiz\", \"assignments\", \"book\", \"books\", \"tests\", \"reading\", \"textbook\", \"work\", \"worksheets\", \"test\", \"give\", \"write\", \"busy\", \"grades\", \"due\", \"takes\", \"extra\", \"hard\", \"grade\", \"class\", \"makes\", \"even\", \"never\", \"teach\", \"every\", \"time\", \"expects\", \"ask\", \"gets\", \"question\", \"answer\", \"mad\", \"asks\", \"whenever\", \"asking\", \"raise\", \"answering\", \"annoyed\", \"answered\", \"nerves\", \"raised\", \"jumps\", \"responds\", \"rolls\", \"irritated\", \"sidetracked\", \"solving\", \"replies\", \"interrupts\", \"equation\", \"conclusions\", \"tangent\", \"pauses\", \"tracked\", \"ticked\", \"spells\", \"solved\", \"questions\", \"wrong\", \"distracted\", \"says\", \"angry\", \"explains\", \"figure\", \"somebody\", \"clarify\", \"tells\", \"answers\", \"something\", \"confused\", \"frustrated\", \"problem\", \"fast\", \"help\", \"asked\", \"always\", \"understand\", \"explain\", \"right\", \"topic\", \"never\", \"know\", \"yells\", \"goes\", \"even\", \"anything\", \"cannot\", \"everything\", \"talking\", \"makes\", \"time\", \"teach\", \"like\", \"students\", \"say\", \"child\", \"biased\", \"opinions\", \"lacks\", \"favoritism\", \"negative\", \"comments\", \"lack\", \"ideas\", \"views\", \"inappropriate\", \"political\", \"minded\", \"behavior\", \"communication\", \"environment\", \"bias\", \"blah\", \"extreme\", \"unwilling\", \"view\", \"role\", \"disagree\", \"opinionated\", \"instructor\", \"creativity\", \"centered\", \"debate\", \"dealing\", \"emotional\", \"unprofessional\", \"condescending\", \"parent\", \"ability\", \"issues\", \"opinion\", \"poor\", \"ineffective\", \"towards\", \"students\", \"grading\", \"children\", \"skills\", \"system\", \"often\", \"classroom\", \"extremely\", \"student\", \"parents\", \"teaching\", \"personal\", \"rude\", \"knowledge\", \"experience\", \"self\", \"teacher\", \"seems\", \"class\", \"many\", \"grades\", \"little\", \"completely\", \"work\", \"teachers\", \"good\", \"learning\", \"picks\", \"favorites\", \"attention\", \"acts\", \"pay\", \"favors\", \"plays\", \"treat\", \"treats\", \"picking\", \"pays\", \"singles\", \"olds\", \"punishes\", \"favs\", \"jocks\", \"babies\", \"curses\", \"impress\", \"popular\", \"embarrasses\", \"favourites\", \"intimidated\", \"jock\", \"teenager\", \"embarass\", \"whines\", \"act\", \"shoulder\", \"geniuses\", \"pick\", \"paying\", \"kids\", \"chooses\", \"needs\", \"backs\", \"likes\", \"hates\", \"girls\", \"others\", \"ones\", \"certain\", \"care\", \"people\", \"picked\", \"like\", \"students\", \"obvious\", \"stop\", \"feel\", \"respect\", \"seems\", \"rude\", \"everyone\", \"favorite\", \"mean\", \"help\", \"think\", \"bad\", \"always\", \"good\", \"teacher\", \"class\", \"makes\", \"work\", \"nice\", \"know\", \"ok\", \"jokes\", \"voice\", \"cuz\", \"omg\", \"asleep\", \"weird\", \"fall\", \"ppl\", \"lol\", \"laugh\", \"monotone\", \"meanest\", \"wat\", \"nd\", \"wanna\", \"da\", \"awake\", \"lame\", \"kno\", \"wierd\", \"realy\", \"ah\", \"uh\", \"wen\", \"umm\", \"corny\", \"talkin\", \"yo\", \"hav\", \"swings\", \"cool\", \"funny\", \"side\", \"annoying\", \"scary\", \"mean\", \"hate\", \"ugh\", \"boring\", \"mood\", \"sometimes\", \"fun\", \"pretty\", \"nice\", \"guess\", \"okay\", \"good\", \"like\", \"bad\", \"think\", \"teacher\", \"thinks\", \"class\", \"say\", \"talk\", \"always\", \"person\", \"makes\", \"easy\", \"hard\", \"cannot\", \"people\", \"told\", \"stand\", \"8th\", \"7th\", \"lunch\", \"6th\", \"turned\", \"detention\", \"graders\", \"report\", \"sent\", \"refused\", \"9th\", \"card\", \"5th\", \"gum\", \"mine\", \"threw\", \"letter\", \"pencil\", \"blamed\", \"rings\", \"10th\", \"accused\", \"fs\", \"sixth\", \"seventh\", \"ds\", \"eighth\", \"lied\", \"missed\", \"gave\", \"grade\", \"got\", \"said\", \"quarter\", \"yelled\", \"mom\", \"helped\", \"went\", \"second\", \"took\", \"papers\", \"semester\", \"last\", \"tried\", \"first\", \"came\", \"paper\", \"back\", \"friend\", \"lost\", \"never\", \"late\", \"grades\", \"even\", \"class\", \"like\", \"hated\", \"give\", \"asked\", \"teacher\", \"test\", \"student\", \"work\", \"always\", \"help\", \"bad\", \"school\", \"high\", \"music\", \"band\", \"coach\", \"middle\", \"principal\", \"team\", \"football\", \"sports\", \"program\", \"schools\", \"elementary\", \"choir\", \"game\", \"orchestra\", \"basketball\", \"players\", \"director\", \"running\", \"ed\", \"ha\", \"principle\", \"soccer\", \"trip\", \"baseball\", \"private\", \"coaching\", \"chorus\", \"dress\", \"money\", \"play\", \"run\", \"code\", \"gym\", \"quit\", \"playing\", \"staff\", \"office\", \"cares\", \"around\", \"kids\", \"college\", \"better\", \"teachers\", \"good\", \"years\", \"job\", \"parents\", \"students\", \"even\", \"back\", \"see\", \"cannot\"], \"Freq\": [26344.0, 16772.0, 84986.0, 43984.0, 99227.0, 16389.0, 14295.0, 36207.0, 12003.0, 10380.0, 12357.0, 15707.0, 9900.0, 24533.0, 12447.0, 10213.0, 40335.0, 20060.0, 12819.0, 9700.0, 8313.0, 9442.0, 18344.0, 8981.0, 18146.0, 24811.0, 10954.0, 12950.0, 10287.0, 5355.0, 7118.28125, 6529.51513671875, 2529.5859375, 2147.83544921875, 1830.068603515625, 1035.808349609375, 770.4844970703125, 26313.32421875, 677.1134643554688, 459.7727966308594, 440.4148864746094, 276.0088195800781, 274.6786193847656, 260.3553466796875, 260.7973327636719, 248.62623596191406, 214.58526611328125, 207.26361083984375, 193.40536499023438, 181.97508239746094, 152.1298828125, 148.40481567382812, 143.6798858642578, 146.51979064941406, 133.53024291992188, 127.97940063476562, 126.95651245117188, 122.81838989257812, 111.55369567871094, 115.68095397949219, 6198.5, 2413.53173828125, 3314.16015625, 3399.294677734375, 1481.5052490234375, 1170.7215576171875, 532.0913696289062, 2673.689697265625, 3442.169677734375, 8457.818359375, 44100.76171875, 1908.3958740234375, 740.041015625, 2249.252197265625, 559.1728515625, 5158.84375, 1349.6795654296875, 2569.5517578125, 1380.565673828125, 1396.1356201171875, 3414.572998046875, 4462.380859375, 7122.70068359375, 5498.9765625, 7271.67919921875, 8944.3134765625, 4260.0498046875, 4371.00048828125, 2630.817626953125, 6839.7294921875, 1590.343017578125, 2502.0341796875, 3534.1025390625, 3082.8798828125, 2827.97607421875, 2484.757080078125, 1765.0655517578125, 1745.77294921875, 1335.3885498046875, 1206.4058837890625, 1208.3817138671875, 1025.7366943359375, 1003.043701171875, 10203.775390625, 874.8446655273438, 676.4085693359375, 469.2578125, 412.51739501953125, 6448.974609375, 180.0062255859375, 156.33346557617188, 173.3207244873047, 141.52621459960938, 127.05156707763672, 122.1954574584961, 103.62367248535156, 102.45719909667969, 96.01043701171875, 75.08399963378906, 74.87638092041016, 61.09529495239258, 60.948646545410156, 54.4749641418457, 50.11545944213867, 90.22288513183594, 46.00104522705078, 6799.6396484375, 2671.029296875, 737.0713500976562, 774.567138671875, 141.29978942871094, 1644.081298828125, 387.03704833984375, 580.916015625, 1408.1917724609375, 836.3314819335938, 1526.1614990234375, 6777.546875, 1471.25390625, 16533.142578125, 2156.627685546875, 6904.84423828125, 7786.98486328125, 4274.453125, 8247.8857421875, 8455.259765625, 4261.14208984375, 5487.072265625, 19309.736328125, 5939.02685546875, 16186.2041015625, 7807.828125, 5076.34912109375, 5105.40576171875, 5454.376953125, 3058.51318359375, 1990.001220703125, 2371.440673828125, 3048.71484375, 2235.677001953125, 4320.845703125, 2621.95068359375, 2443.876953125, 2794.322021484375, 2389.3818359375, 2205.15185546875, 2223.971435546875, 3116.28955078125, 2707.10546875, 2464.214111328125, 1839.0162353515625, 1599.285400390625, 1591.940185546875, 1253.989990234375, 898.7769775390625, 709.894775390625, 704.8533325195312, 595.4865112304688, 557.2889404296875, 468.9456481933594, 447.157958984375, 468.5196228027344, 408.1924133300781, 367.8889465332031, 332.0906677246094, 282.5145568847656, 281.418212890625, 221.60325622558594, 205.1498565673828, 199.50732421875, 177.25363159179688, 163.51950073242188, 154.67735290527344, 150.65682983398438, 142.41506958007812, 140.83807373046875, 139.4894561767578, 5397.42138671875, 8977.724609375, 1258.5262451171875, 2165.083740234375, 566.2093505859375, 2186.820068359375, 2529.980224609375, 10482.76171875, 1250.2625732421875, 927.4369506835938, 15591.3193359375, 1350.771484375, 3146.81640625, 44958.98046875, 1328.8553466796875, 8836.4169921875, 11065.390625, 4919.0810546875, 4041.416748046875, 2057.240478515625, 3019.583984375, 4094.18017578125, 2003.550048828125, 3197.14697265625, 3233.426025390625, 6485.1982421875, 4879.28857421875, 2198.326416015625, 3713.32275390625, 2706.23974609375, 2434.8701171875, 1904.3134765625, 2157.622314453125, 5397.9541015625, 12000.0439453125, 2241.162841796875, 1576.2030029296875, 997.0713500976562, 979.9154663085938, 719.2313842773438, 615.843505859375, 552.0234985351562, 541.9898681640625, 568.01318359375, 441.480712890625, 431.9429626464844, 3637.760986328125, 387.81573486328125, 338.91888427734375, 532.6892700195312, 254.85684204101562, 241.13006591796875, 238.1101531982422, 228.76394653320312, 202.12364196777344, 197.7015380859375, 189.6820068359375, 186.53721618652344, 173.5790252685547, 330.74505615234375, 148.99696350097656, 146.38296508789062, 137.5469970703125, 906.4255981445312, 471.63836669921875, 15294.8642578125, 1138.3912353515625, 3150.943603515625, 665.912841796875, 1211.36962890625, 5507.048828125, 1495.35888671875, 3152.150634765625, 2032.2205810546875, 784.5966186523438, 2881.964599609375, 1528.968017578125, 4425.4765625, 5421.08447265625, 1146.1129150390625, 10219.8203125, 2031.79248046875, 2723.8134765625, 9295.705078125, 1582.1124267578125, 5906.9599609375, 4852.57373046875, 1819.54345703125, 1626.2701416015625, 3989.335205078125, 1676.9913330078125, 2041.5848388671875, 1489.767333984375, 3377.557861328125, 3135.92724609375, 6357.1611328125, 2953.666748046875, 3456.087158203125, 3541.385009765625, 4036.392578125, 2499.369140625, 2769.126953125, 1834.177978515625, 9900.0380859375, 8312.173828125, 6711.4091796875, 6152.75244140625, 2869.337158203125, 1220.9571533203125, 1219.9656982421875, 1625.06591796875, 495.80670166015625, 485.9624938964844, 485.056884765625, 341.5077819824219, 288.2400817871094, 167.12147521972656, 161.7198486328125, 154.15237426757812, 127.27742767333984, 108.40326690673828, 101.44869995117188, 100.47207641601562, 88.83340454101562, 77.71916961669922, 74.41423797607422, 68.76972198486328, 66.71050262451172, 61.78730392456055, 53.378055572509766, 46.72255325317383, 45.70200729370117, 44.0255012512207, 8800.029296875, 5979.5087890625, 377.3655090332031, 5451.95556640625, 831.880615234375, 1609.1793212890625, 1079.519287109375, 226.4178466796875, 496.1753234863281, 2894.890869140625, 2167.576171875, 5106.3251953125, 1455.8731689453125, 482.9212341308594, 1965.316162109375, 1634.0230712890625, 9132.7109375, 1909.0174560546875, 6343.83447265625, 5397.533203125, 4247.51953125, 2650.255859375, 1736.403076171875, 7743.9814453125, 7833.6337890625, 2018.83154296875, 2053.564453125, 4774.3017578125, 4155.66357421875, 3615.1123046875, 2712.77734375, 2544.30078125, 2998.906494140625, 3167.16455078125, 3197.838623046875, 2819.201904296875, 2661.334228515625, 2073.63623046875, 2775.78466796875, 1069.8304443359375, 1003.498046875, 914.8516845703125, 901.094482421875, 680.0592651367188, 607.4839477539062, 1330.4697265625, 525.5345458984375, 496.1171569824219, 440.2249755859375, 439.3157958984375, 419.78717041015625, 406.1991882324219, 398.8737487792969, 478.46728515625, 378.6815490722656, 360.1265869140625, 310.76641845703125, 300.1116943359375, 294.2611999511719, 287.38507080078125, 279.36614990234375, 257.7860412597656, 271.50152587890625, 224.0908966064453, 222.70384216308594, 213.296630859375, 211.4959259033203, 200.7410430908203, 873.5950317382812, 963.7251586914062, 861.7733764648438, 775.1956176757812, 886.5426025390625, 1452.6064453125, 1896.2972412109375, 381.5105895996094, 1132.0389404296875, 18584.056640625, 2395.0458984375, 1261.1314697265625, 1208.3443603515625, 877.0918579101562, 2032.4915771484375, 1700.322265625, 2409.1787109375, 2963.975341796875, 1420.5523681640625, 5442.92578125, 1146.959716796875, 1976.18017578125, 1151.0775146484375, 1211.5828857421875, 1090.1148681640625, 5460.080078125, 1455.2528076171875, 3007.42626953125, 1464.643310546875, 1412.0057373046875, 1217.3111572265625, 1114.4063720703125, 1372.3819580078125, 1228.7340087890625, 1257.0926513671875, 1121.3026123046875, 3697.30322265625, 10377.5859375, 2588.04296875, 1854.9254150390625, 1608.1064453125, 1550.176513671875, 3592.2060546875, 751.4518432617188, 1997.0697021484375, 317.4166564941406, 302.0181884765625, 218.40289306640625, 209.07821655273438, 164.189697265625, 146.7961883544922, 115.66183471679688, 114.03158569335938, 101.33299255371094, 94.71849822998047, 762.0307006835938, 82.28688049316406, 81.15524291992188, 79.52367401123047, 79.2677230834961, 71.1840591430664, 68.88175964355469, 68.83379364013672, 1220.4288330078125, 78.05652618408203, 49.903358459472656, 1201.0677490234375, 474.23681640625, 10876.873046875, 538.4608764648438, 7157.05615234375, 134.28065490722656, 3467.02783203125, 1936.26806640625, 706.6873779296875, 1615.7105712890625, 806.1320190429688, 1183.65185546875, 4230.08203125, 7027.40966796875, 538.9700317382812, 15886.9658203125, 15252.7138671875, 657.1254272460938, 1738.20703125, 2691.0458984375, 1353.4713134765625, 2154.275634765625, 2360.67724609375, 2854.586181640625, 1507.1318359375, 3393.555908203125, 4107.8115234375, 2970.561767578125, 3550.84814453125, 3046.793701171875, 3656.56640625, 5293.9052734375, 4586.6484375, 2409.83544921875, 2213.2314453125, 2055.81005859375, 2054.911376953125, 3449.880126953125, 2065.634033203125, 1616.7884521484375, 1367.7427978515625, 1361.248046875, 1291.6175537109375, 1390.3983154296875, 918.416259765625, 883.6161499023438, 842.5316162109375, 700.9815063476562, 606.591796875, 500.9443664550781, 453.2381286621094, 407.192626953125, 407.09857177734375, 381.3970031738281, 372.6156311035156, 357.726806640625, 345.6156005859375, 324.73712158203125, 323.018798828125, 322.3970642089844, 291.9245300292969, 288.9310607910156, 317.5713195800781, 236.34397888183594, 231.81666564941406, 219.59703063964844, 204.34646606445312, 516.0844116210938, 5633.1533203125, 4799.53564453125, 1902.9586181640625, 3645.57958984375, 477.4762878417969, 8687.6875, 5294.33984375, 926.4780883789062, 6052.08447265625, 1017.37060546875, 3130.249267578125, 3395.806884765625, 2383.177978515625, 6238.11474609375, 1061.3675537109375, 1365.8621826171875, 7095.0126953125, 7846.4912109375, 4222.59130859375, 3314.345458984375, 8651.2978515625, 2077.762451171875, 6832.37158203125, 2315.158935546875, 1890.5855712890625, 2709.185302734375, 2331.6455078125, 2528.602294921875, 2122.279541015625, 2036.405029296875, 2071.569580078125, 1838.30224609375, 3662.383544921875, 2239.152587890625, 1202.2734375, 1034.2432861328125, 935.10888671875, 932.9608154296875, 900.8761596679688, 890.7163696289062, 796.2128295898438, 549.8814086914062, 491.5413513183594, 433.16558837890625, 351.7438049316406, 312.0978698730469, 315.16485595703125, 293.1928405761719, 282.8868713378906, 268.36492919921875, 244.09495544433594, 238.1676025390625, 248.409912109375, 222.09756469726562, 221.93136596679688, 215.4186248779297, 207.33395385742188, 200.22328186035156, 198.78680419921875, 224.25778198242188, 154.39151000976562, 147.7904510498047, 586.9048461914062, 4596.64013671875, 11064.0693359375, 7019.12451171875, 3840.860595703125, 789.063720703125, 1076.5098876953125, 339.1246643066406, 710.7676391601562, 1899.887451171875, 1127.1925048828125, 2064.173828125, 1633.4593505859375, 1347.6827392578125, 2609.268798828125, 1128.2498779296875, 2991.494140625, 1104.530029296875, 1188.771728515625, 2557.77685546875, 1014.8865356445312, 1101.9661865234375, 4513.38037109375, 1341.447021484375, 2557.56787109375, 3089.8525390625, 5523.45751953125, 2685.963623046875, 1329.421142578125, 1705.59130859375, 1268.1622314453125, 2764.250732421875, 1607.2073974609375, 1479.3487548828125, 1675.5123291015625, 1629.0745849609375, 1606.8760986328125, 1436.134033203125, 16771.9296875, 5354.7470703125, 2119.3974609375, 2044.8206787109375, 1785.302734375, 1687.7938232421875, 1631.6109619140625, 1049.46630859375, 1013.7195434570312, 907.953369140625, 873.6243896484375, 578.2046508789062, 506.0123596191406, 477.74237060546875, 466.80340576171875, 466.48712158203125, 462.885009765625, 449.12762451171875, 412.6838073730469, 367.67864990234375, 355.6341552734375, 344.91473388671875, 310.2541198730469, 303.2289123535156, 295.3365173339844, 276.3227233886719, 260.55755615234375, 253.54762268066406, 251.6739959716797, 251.2993927001953, 618.855224609375, 1888.794677734375, 1136.7960205078125, 284.2995910644531, 818.4562377929688, 671.906494140625, 585.224365234375, 401.1004638671875, 640.7982788085938, 804.49951171875, 948.583984375, 1479.3004150390625, 843.880859375, 983.8536376953125, 1154.1756591796875, 1248.4476318359375, 797.1724853515625, 725.2202758789062, 667.1173706054688, 1079.4393310546875, 809.439697265625, 697.874755859375, 663.8909912109375, 658.6135864257812], \"Total\": [26344.0, 16772.0, 84986.0, 43984.0, 99227.0, 16389.0, 14295.0, 36207.0, 12003.0, 10380.0, 12357.0, 15707.0, 9900.0, 24533.0, 12447.0, 10213.0, 40335.0, 20060.0, 12819.0, 9700.0, 8313.0, 9442.0, 18344.0, 8981.0, 18146.0, 24811.0, 10954.0, 12950.0, 10287.0, 5355.0, 7119.17822265625, 6530.41943359375, 2530.541748046875, 2148.732177734375, 1830.96533203125, 1036.7052001953125, 771.3815307617188, 26344.78125, 678.0103759765625, 460.66961669921875, 441.31170654296875, 276.90576171875, 275.575439453125, 261.2521667480469, 261.6974182128906, 249.52310180664062, 215.48214721679688, 208.160400390625, 194.30213928222656, 182.87228393554688, 153.02674865722656, 149.30169677734375, 144.5769500732422, 147.4809112548828, 134.4270477294922, 128.8764190673828, 127.85332489013672, 123.71526336669922, 112.45057678222656, 116.64046478271484, 6301.40869140625, 2434.0625, 3471.68896484375, 3644.61279296875, 1566.4886474609375, 1355.6241455078125, 589.3905029296875, 3420.697021484375, 4570.8681640625, 12339.5849609375, 84986.9296875, 2599.7734375, 903.9238891601562, 3297.16552734375, 653.54052734375, 9453.16796875, 1939.0980224609375, 4575.82421875, 2110.531005859375, 2274.14306640625, 7825.11669921875, 12240.7001953125, 24563.068359375, 18389.048828125, 29047.38671875, 40335.77734375, 18154.181640625, 23060.744140625, 8564.818359375, 99227.234375, 2946.80908203125, 10287.2998046875, 27795.51171875, 24811.84765625, 26372.5859375, 18344.486328125, 1765.9674072265625, 1746.6748046875, 1336.3160400390625, 1207.307861328125, 1209.2874755859375, 1026.6556396484375, 1003.9456176757812, 10213.7900390625, 875.7466430664062, 677.3120727539062, 470.15972900390625, 413.41925048828125, 6469.6708984375, 180.90821838378906, 157.23536682128906, 174.34649658203125, 142.4281005859375, 127.95392608642578, 123.09732055664062, 104.52558898925781, 103.35921478271484, 96.91234588623047, 75.9859848022461, 75.77827453613281, 61.9971923828125, 61.86038589477539, 55.37682342529297, 51.017330169677734, 91.91706085205078, 46.90300750732422, 7288.7734375, 2838.9296875, 777.8439331054688, 877.9526977539062, 148.66783142089844, 2031.050537109375, 436.55023193359375, 699.248291015625, 1858.71337890625, 1130.8533935546875, 2289.61328125, 12950.8134765625, 2244.06591796875, 40335.77734375, 3632.98583984375, 15121.9775390625, 18146.486328125, 9591.775390625, 24563.068359375, 27795.51171875, 10886.81640625, 15707.828125, 99227.234375, 18344.486328125, 84986.9296875, 29047.38671875, 18389.048828125, 20060.94140625, 24811.84765625, 9390.828125, 4091.24267578125, 6082.41015625, 11075.0615234375, 6630.62353515625, 43984.55859375, 10935.2578125, 9215.3671875, 18154.181640625, 9453.16796875, 7825.11669921875, 23060.744140625, 3117.187744140625, 2708.004638671875, 2465.254150390625, 1839.919677734375, 1600.18359375, 1592.839111328125, 1254.8880615234375, 899.8048095703125, 710.7958984375, 705.7515869140625, 596.3919677734375, 558.1883544921875, 469.8439636230469, 448.06451416015625, 469.4830322265625, 409.090576171875, 368.8475646972656, 332.9888610839844, 283.4127197265625, 282.31640625, 222.50148010253906, 206.04800415039062, 200.40554809570312, 178.1518096923828, 164.41766357421875, 155.57550048828125, 151.55506896972656, 143.31825256347656, 141.73623657226562, 140.38771057128906, 5595.3896484375, 9442.572265625, 1298.3946533203125, 2274.8759765625, 584.2814331054688, 2326.52001953125, 2740.43798828125, 12819.5478515625, 1390.3067626953125, 1050.4041748046875, 24533.74609375, 1641.2967529296875, 4324.482421875, 99227.234375, 1695.760009765625, 18344.486328125, 24811.84765625, 10935.2578125, 8869.54296875, 3639.729736328125, 6630.62353515625, 10954.994140625, 3739.3046875, 8049.89453125, 9160.59375, 40335.77734375, 26372.5859375, 6788.8837890625, 36207.82421875, 17911.72265625, 29047.38671875, 6065.099609375, 23060.744140625, 5398.9150390625, 12003.5810546875, 2242.064208984375, 1577.1044921875, 997.9728393554688, 980.819580078125, 720.1328735351562, 616.7450561523438, 552.925048828125, 542.8914794921875, 568.99462890625, 442.3824157714844, 432.84442138671875, 3645.45654296875, 388.7172546386719, 339.82037353515625, 534.35400390625, 255.75836181640625, 242.03160095214844, 239.0116729736328, 229.66549682617188, 203.02516174316406, 198.60308837890625, 190.58349609375, 187.438720703125, 174.530029296875, 332.6543273925781, 149.8984832763672, 147.28448486328125, 138.44850158691406, 918.0238037109375, 475.0859069824219, 16389.84375, 1231.94384765625, 3586.130615234375, 707.31494140625, 1334.136962890625, 6624.41943359375, 1670.0665283203125, 3708.062255859375, 2374.987060546875, 855.213623046875, 3503.37353515625, 1775.09912109375, 5741.8779296875, 7249.0693359375, 1301.8223876953125, 15707.828125, 2527.896728515625, 3610.056396484375, 17911.72265625, 2076.899169921875, 11075.0615234375, 9667.34375, 2792.9013671875, 2473.453125, 10378.427734375, 2672.53173828125, 4324.79443359375, 2290.02783203125, 15121.9775390625, 14295.90625, 99227.234375, 13981.12109375, 23060.744140625, 26372.5859375, 40335.77734375, 9160.59375, 24533.74609375, 6082.41015625, 9900.9375, 8313.0732421875, 6712.3076171875, 6153.65087890625, 2870.235595703125, 1221.855712890625, 1220.8642578125, 1626.7022705078125, 496.7052917480469, 486.8610534667969, 485.9554443359375, 342.4063415527344, 289.138671875, 168.0200653076172, 162.618408203125, 155.0792236328125, 128.17601013183594, 109.30184173583984, 102.34725952148438, 101.37063598632812, 89.73197174072266, 78.61774444580078, 75.31285095214844, 69.6683120727539, 67.60910034179688, 62.7712287902832, 54.27661895751953, 47.62110137939453, 46.60055923461914, 44.92407989501953, 9700.5927734375, 6731.6279296875, 402.5852966308594, 6891.29296875, 966.70703125, 1939.9002685546875, 1360.521240234375, 251.44024658203125, 598.7749633789062, 4250.1435546875, 3108.678466796875, 8191.90625, 2105.240234375, 598.1089477539062, 3014.850830078125, 2472.701904296875, 20060.94140625, 3177.977783203125, 15624.5927734375, 12950.8134765625, 9591.775390625, 5177.9990234375, 3129.7822265625, 26372.5859375, 29047.38671875, 3976.5400390625, 4141.72998046875, 23060.744140625, 24811.84765625, 18389.048828125, 9215.3671875, 8049.89453125, 13981.12109375, 24533.74609375, 40335.77734375, 36207.82421875, 43984.55859375, 8564.818359375, 2776.9443359375, 1070.73291015625, 1004.4005126953125, 915.7540893554688, 901.9969482421875, 680.9617309570312, 608.3864135742188, 1332.586669921875, 526.43701171875, 497.01953125, 441.1287536621094, 440.2181701660156, 420.6895446777344, 407.1015625, 399.776123046875, 479.6029052734375, 379.583984375, 361.0290222167969, 311.66888427734375, 301.0155944824219, 295.1636047363281, 288.2874450683594, 280.2685546875, 258.6884460449219, 272.49359130859375, 224.9933624267578, 223.60623168945312, 214.19908142089844, 212.4005889892578, 201.6439666748047, 879.2506713867188, 993.2849731445312, 895.7591552734375, 830.9071044921875, 966.924072265625, 1695.5306396484375, 2287.72705078125, 396.2165832519531, 1364.82958984375, 43984.55859375, 3813.99609375, 1839.9996337890625, 1850.45703125, 1217.4993896484375, 3975.4873046875, 3160.556640625, 5296.6279296875, 8332.1748046875, 2779.07177734375, 24563.068359375, 2154.11376953125, 5725.5322265625, 2191.510498046875, 2461.1103515625, 1994.8365478515625, 84986.9296875, 4955.2939453125, 99227.234375, 6662.39453125, 10378.427734375, 5394.3681640625, 3288.0712890625, 17911.72265625, 12339.5849609375, 27795.51171875, 4512.58544921875, 3698.208984375, 10380.935546875, 2588.943603515625, 1855.8260498046875, 1609.0079345703125, 1551.0771484375, 3594.63525390625, 752.3524780273438, 2000.388427734375, 318.3173522949219, 302.9187927246094, 219.3035125732422, 209.97885131835938, 165.09036254882812, 147.69692993164062, 116.56244659423828, 114.93219757080078, 102.23362731933594, 95.63809967041016, 769.7606811523438, 83.18751525878906, 82.06090545654297, 80.42432403564453, 80.17072296142578, 72.08468627929688, 69.78236389160156, 69.73445129394531, 1236.5516357421875, 79.12094116210938, 50.804039001464844, 1270.8763427734375, 496.0050048828125, 12357.0458984375, 591.3353271484375, 10287.2998046875, 142.00650024414062, 4923.00732421875, 2607.88916015625, 872.5028076171875, 2198.39404296875, 1031.4066162109375, 1589.277099609375, 6808.416015625, 12762.0986328125, 670.6741943359375, 36207.82421875, 43984.55859375, 876.8334350585938, 3170.547119140625, 5900.37548828125, 2417.01025390625, 4955.2939453125, 5725.5322265625, 7684.697265625, 3141.731689453125, 12447.5986328125, 20060.94140625, 12240.7001953125, 18154.181640625, 15624.5927734375, 27795.51171875, 84986.9296875, 99227.234375, 13981.12109375, 17911.72265625, 18146.486328125, 29047.38671875, 3450.799072265625, 2066.537841796875, 1617.6922607421875, 1368.6466064453125, 1362.1517333984375, 1292.521240234375, 1391.47265625, 919.320068359375, 884.5199584960938, 843.4356689453125, 701.9028930664062, 607.49560546875, 501.8481750488281, 454.1418762207031, 408.09637451171875, 408.0023498535156, 382.3007507324219, 373.5451354980469, 358.6305847167969, 346.5193176269531, 325.640869140625, 323.92254638671875, 323.30084228515625, 292.82830810546875, 289.8348083496094, 318.6959533691406, 237.24771118164062, 232.72039794921875, 220.50079345703125, 205.25022888183594, 518.9603881835938, 5848.2392578125, 5305.32861328125, 2084.220703125, 4191.0615234375, 497.5228271484375, 12447.5986328125, 7737.25439453125, 1080.22412109375, 10954.994140625, 1345.921875, 5673.93115234375, 6788.8837890625, 4530.03759765625, 18146.486328125, 1602.6654052734375, 2373.5771484375, 27795.51171875, 36207.82421875, 18154.181640625, 12240.7001953125, 84986.9296875, 6059.2939453125, 99227.234375, 8564.818359375, 6065.099609375, 15624.5927734375, 10886.81640625, 13981.12109375, 10935.2578125, 15121.9775390625, 18389.048828125, 12762.0986328125, 3663.284423828125, 2240.052978515625, 1203.173828125, 1035.15625, 936.009033203125, 933.8671264648438, 901.7763061523438, 891.6165161132812, 797.1238403320312, 550.7815551757812, 492.4414978027344, 434.06573486328125, 352.6439514160156, 312.99798583984375, 316.0950012207031, 294.0929870605469, 283.7870178222656, 269.26507568359375, 244.9950714111328, 239.06771850585938, 249.39662170410156, 222.99771118164062, 222.83148193359375, 216.3187255859375, 208.23521423339844, 201.12339782714844, 199.6869354248047, 225.2870635986328, 155.2916259765625, 148.69056701660156, 593.0317993164062, 5359.64990234375, 14295.90625, 8981.095703125, 4812.6708984375, 892.0352783203125, 1274.581298828125, 356.623779296875, 816.93359375, 2587.729736328125, 1464.3450927734375, 3167.25146484375, 2403.713134765625, 2083.871826171875, 4952.62841796875, 1675.946533203125, 6132.2470703125, 1654.8284912109375, 1833.0313720703125, 6123.0302734375, 1542.4217529296875, 1869.6719970703125, 26372.5859375, 2761.359375, 10378.427734375, 23060.744140625, 99227.234375, 36207.82421875, 3642.813720703125, 9667.34375, 3177.977783203125, 84986.9296875, 11075.0615234375, 8332.1748046875, 17911.72265625, 15624.5927734375, 20060.94140625, 18154.181640625, 16772.830078125, 5355.6484375, 2120.298828125, 2045.721923828125, 1786.2041015625, 1688.695068359375, 1632.51220703125, 1050.3675537109375, 1014.6207885742188, 908.8546752929688, 874.525634765625, 579.1058959960938, 506.91363525390625, 478.6435852050781, 467.7047119140625, 467.3883361816406, 463.7862243652344, 450.0288391113281, 413.58502197265625, 368.5936584472656, 356.5354309082031, 345.8160095214844, 311.1553955078125, 304.1301574707031, 296.238037109375, 277.2239685058594, 261.4588317871094, 254.45101928710938, 252.57626342773438, 252.20065307617188, 682.8975219726562, 2422.264404296875, 1494.9832763671875, 291.7955017089844, 1161.13916015625, 958.30517578125, 881.9634399414062, 486.7984619140625, 1172.6246337890625, 2553.974609375, 4027.473876953125, 12357.0458984375, 3114.60205078125, 7085.90966796875, 12339.5849609375, 27795.51171875, 4570.8681640625, 4153.0087890625, 2779.07177734375, 43984.55859375, 23060.744140625, 6123.0302734375, 3328.1474609375, 18389.048828125], \"Category\": [\"Default\", \"Default\", \"Default\", \"Default\", \"Default\", \"Default\", \"Default\", \"Default\", \"Default\", \"Default\", \"Default\", \"Default\", \"Default\", \"Default\", \"Default\", \"Default\", \"Default\", \"Default\", \"Default\", \"Default\", \"Default\", \"Default\", \"Default\", \"Default\", \"Default\", \"Default\", \"Default\", \"Default\", \"Default\", \"Default\", \"Topic1\", \"Topic1\", \"Topic1\", \"Topic1\", \"Topic1\", \"Topic1\", \"Topic1\", \"Topic1\", \"Topic1\", \"Topic1\", \"Topic1\", \"Topic1\", \"Topic1\", \"Topic1\", \"Topic1\", \"Topic1\", \"Topic1\", \"Topic1\", \"Topic1\", \"Topic1\", \"Topic1\", \"Topic1\", \"Topic1\", \"Topic1\", \"Topic1\", \"Topic1\", \"Topic1\", \"Topic1\", \"Topic1\", \"Topic1\", \"Topic1\", \"Topic1\", \"Topic1\", \"Topic1\", \"Topic1\", \"Topic1\", \"Topic1\", \"Topic1\", \"Topic1\", \"Topic1\", \"Topic1\", \"Topic1\", \"Topic1\", \"Topic1\", \"Topic1\", \"Topic1\", \"Topic1\", \"Topic1\", \"Topic1\", \"Topic1\", \"Topic1\", \"Topic1\", \"Topic1\", \"Topic1\", \"Topic1\", \"Topic1\", \"Topic1\", \"Topic1\", \"Topic1\", \"Topic1\", \"Topic1\", \"Topic1\", \"Topic1\", \"Topic1\", \"Topic1\", \"Topic1\", \"Topic2\", \"Topic2\", \"Topic2\", \"Topic2\", \"Topic2\", \"Topic2\", \"Topic2\", \"Topic2\", \"Topic2\", \"Topic2\", \"Topic2\", \"Topic2\", \"Topic2\", \"Topic2\", \"Topic2\", \"Topic2\", \"Topic2\", \"Topic2\", \"Topic2\", \"Topic2\", \"Topic2\", \"Topic2\", \"Topic2\", \"Topic2\", \"Topic2\", \"Topic2\", \"Topic2\", \"Topic2\", \"Topic2\", \"Topic2\", \"Topic2\", \"Topic2\", \"Topic2\", \"Topic2\", \"Topic2\", \"Topic2\", \"Topic2\", \"Topic2\", \"Topic2\", \"Topic2\", \"Topic2\", \"Topic2\", \"Topic2\", \"Topic2\", \"Topic2\", \"Topic2\", \"Topic2\", \"Topic2\", \"Topic2\", \"Topic2\", \"Topic2\", \"Topic2\", \"Topic2\", \"Topic2\", \"Topic2\", \"Topic2\", \"Topic2\", \"Topic2\", \"Topic2\", \"Topic2\", \"Topic2\", \"Topic2\", \"Topic2\", \"Topic2\", \"Topic2\", \"Topic2\", \"Topic2\", \"Topic2\", \"Topic2\", \"Topic2\", \"Topic2\", \"Topic3\", \"Topic3\", \"Topic3\", \"Topic3\", \"Topic3\", \"Topic3\", \"Topic3\", \"Topic3\", \"Topic3\", \"Topic3\", \"Topic3\", \"Topic3\", \"Topic3\", \"Topic3\", \"Topic3\", \"Topic3\", \"Topic3\", \"Topic3\", \"Topic3\", \"Topic3\", \"Topic3\", \"Topic3\", \"Topic3\", \"Topic3\", \"Topic3\", \"Topic3\", \"Topic3\", \"Topic3\", \"Topic3\", \"Topic3\", \"Topic3\", \"Topic3\", \"Topic3\", \"Topic3\", \"Topic3\", \"Topic3\", \"Topic3\", \"Topic3\", \"Topic3\", \"Topic3\", \"Topic3\", \"Topic3\", \"Topic3\", \"Topic3\", \"Topic3\", \"Topic3\", \"Topic3\", \"Topic3\", \"Topic3\", \"Topic3\", \"Topic3\", \"Topic3\", \"Topic3\", \"Topic3\", \"Topic3\", \"Topic3\", \"Topic3\", \"Topic3\", \"Topic3\", \"Topic3\", \"Topic3\", \"Topic3\", \"Topic3\", \"Topic4\", \"Topic4\", \"Topic4\", \"Topic4\", \"Topic4\", \"Topic4\", \"Topic4\", \"Topic4\", \"Topic4\", \"Topic4\", \"Topic4\", \"Topic4\", \"Topic4\", \"Topic4\", \"Topic4\", \"Topic4\", \"Topic4\", \"Topic4\", \"Topic4\", \"Topic4\", \"Topic4\", \"Topic4\", \"Topic4\", \"Topic4\", \"Topic4\", \"Topic4\", \"Topic4\", \"Topic4\", \"Topic4\", \"Topic4\", \"Topic4\", \"Topic4\", \"Topic4\", \"Topic4\", \"Topic4\", \"Topic4\", \"Topic4\", \"Topic4\", \"Topic4\", \"Topic4\", \"Topic4\", \"Topic4\", \"Topic4\", \"Topic4\", \"Topic4\", \"Topic4\", \"Topic4\", \"Topic4\", \"Topic4\", \"Topic4\", \"Topic4\", \"Topic4\", \"Topic4\", \"Topic4\", \"Topic4\", \"Topic4\", \"Topic4\", \"Topic4\", \"Topic4\", \"Topic4\", \"Topic4\", \"Topic4\", \"Topic4\", \"Topic4\", \"Topic4\", \"Topic4\", \"Topic4\", \"Topic4\", \"Topic4\", \"Topic4\", \"Topic5\", \"Topic5\", \"Topic5\", \"Topic5\", \"Topic5\", \"Topic5\", \"Topic5\", \"Topic5\", \"Topic5\", \"Topic5\", \"Topic5\", \"Topic5\", \"Topic5\", \"Topic5\", \"Topic5\", \"Topic5\", \"Topic5\", \"Topic5\", \"Topic5\", \"Topic5\", \"Topic5\", \"Topic5\", \"Topic5\", \"Topic5\", \"Topic5\", \"Topic5\", \"Topic5\", \"Topic5\", \"Topic5\", \"Topic5\", \"Topic5\", \"Topic5\", \"Topic5\", \"Topic5\", \"Topic5\", \"Topic5\", \"Topic5\", \"Topic5\", \"Topic5\", \"Topic5\", \"Topic5\", \"Topic5\", \"Topic5\", \"Topic5\", \"Topic5\", \"Topic5\", \"Topic5\", \"Topic5\", \"Topic5\", \"Topic5\", \"Topic5\", \"Topic5\", \"Topic5\", \"Topic5\", \"Topic5\", \"Topic5\", \"Topic5\", \"Topic5\", \"Topic5\", \"Topic5\", \"Topic5\", \"Topic5\", \"Topic5\", \"Topic5\", \"Topic5\", \"Topic5\", \"Topic5\", \"Topic5\", \"Topic6\", \"Topic6\", \"Topic6\", \"Topic6\", \"Topic6\", \"Topic6\", \"Topic6\", \"Topic6\", \"Topic6\", \"Topic6\", \"Topic6\", \"Topic6\", \"Topic6\", \"Topic6\", \"Topic6\", \"Topic6\", \"Topic6\", \"Topic6\", \"Topic6\", \"Topic6\", \"Topic6\", \"Topic6\", \"Topic6\", \"Topic6\", \"Topic6\", \"Topic6\", \"Topic6\", \"Topic6\", \"Topic6\", \"Topic6\", \"Topic6\", \"Topic6\", \"Topic6\", \"Topic6\", \"Topic6\", \"Topic6\", \"Topic6\", \"Topic6\", \"Topic6\", \"Topic6\", \"Topic6\", \"Topic6\", \"Topic6\", \"Topic6\", \"Topic6\", \"Topic6\", \"Topic6\", \"Topic6\", \"Topic6\", \"Topic6\", \"Topic6\", \"Topic6\", \"Topic6\", \"Topic6\", \"Topic6\", \"Topic6\", \"Topic6\", \"Topic6\", \"Topic6\", \"Topic6\", \"Topic6\", \"Topic6\", \"Topic6\", \"Topic6\", \"Topic6\", \"Topic6\", \"Topic7\", \"Topic7\", \"Topic7\", \"Topic7\", \"Topic7\", \"Topic7\", \"Topic7\", \"Topic7\", \"Topic7\", \"Topic7\", \"Topic7\", \"Topic7\", \"Topic7\", \"Topic7\", \"Topic7\", \"Topic7\", \"Topic7\", \"Topic7\", \"Topic7\", \"Topic7\", \"Topic7\", \"Topic7\", \"Topic7\", \"Topic7\", \"Topic7\", \"Topic7\", \"Topic7\", \"Topic7\", \"Topic7\", \"Topic7\", \"Topic7\", \"Topic7\", \"Topic7\", \"Topic7\", \"Topic7\", \"Topic7\", \"Topic7\", \"Topic7\", \"Topic7\", \"Topic7\", \"Topic7\", \"Topic7\", \"Topic7\", \"Topic7\", \"Topic7\", \"Topic7\", \"Topic7\", \"Topic7\", \"Topic7\", \"Topic7\", \"Topic7\", \"Topic7\", \"Topic7\", \"Topic7\", \"Topic7\", \"Topic7\", \"Topic7\", \"Topic7\", \"Topic7\", \"Topic7\", \"Topic7\", \"Topic7\", \"Topic7\", \"Topic7\", \"Topic7\", \"Topic7\", \"Topic7\", \"Topic8\", \"Topic8\", \"Topic8\", \"Topic8\", \"Topic8\", \"Topic8\", \"Topic8\", \"Topic8\", \"Topic8\", \"Topic8\", \"Topic8\", \"Topic8\", \"Topic8\", \"Topic8\", \"Topic8\", \"Topic8\", \"Topic8\", \"Topic8\", \"Topic8\", \"Topic8\", \"Topic8\", \"Topic8\", \"Topic8\", \"Topic8\", \"Topic8\", \"Topic8\", \"Topic8\", \"Topic8\", \"Topic8\", \"Topic8\", \"Topic8\", \"Topic8\", \"Topic8\", \"Topic8\", \"Topic8\", \"Topic8\", \"Topic8\", \"Topic8\", \"Topic8\", \"Topic8\", \"Topic8\", \"Topic8\", \"Topic8\", \"Topic8\", \"Topic8\", \"Topic8\", \"Topic8\", \"Topic8\", \"Topic8\", \"Topic8\", \"Topic8\", \"Topic8\", \"Topic8\", \"Topic8\", \"Topic8\", \"Topic8\", \"Topic8\", \"Topic8\", \"Topic8\", \"Topic8\", \"Topic8\", \"Topic8\", \"Topic8\", \"Topic9\", \"Topic9\", \"Topic9\", \"Topic9\", \"Topic9\", \"Topic9\", \"Topic9\", \"Topic9\", \"Topic9\", \"Topic9\", \"Topic9\", \"Topic9\", \"Topic9\", \"Topic9\", \"Topic9\", \"Topic9\", \"Topic9\", \"Topic9\", \"Topic9\", \"Topic9\", \"Topic9\", \"Topic9\", \"Topic9\", \"Topic9\", \"Topic9\", \"Topic9\", \"Topic9\", \"Topic9\", \"Topic9\", \"Topic9\", \"Topic9\", \"Topic9\", \"Topic9\", \"Topic9\", \"Topic9\", \"Topic9\", \"Topic9\", \"Topic9\", \"Topic9\", \"Topic9\", \"Topic9\", \"Topic9\", \"Topic9\", \"Topic9\", \"Topic9\", \"Topic9\", \"Topic9\", \"Topic9\", \"Topic9\", \"Topic9\", \"Topic9\", \"Topic9\", \"Topic9\", \"Topic9\", \"Topic9\", \"Topic9\", \"Topic9\", \"Topic9\", \"Topic9\", \"Topic9\", \"Topic9\", \"Topic9\", \"Topic9\", \"Topic9\", \"Topic9\", \"Topic9\", \"Topic9\", \"Topic9\", \"Topic10\", \"Topic10\", \"Topic10\", \"Topic10\", \"Topic10\", \"Topic10\", \"Topic10\", \"Topic10\", \"Topic10\", \"Topic10\", \"Topic10\", \"Topic10\", \"Topic10\", \"Topic10\", \"Topic10\", \"Topic10\", \"Topic10\", \"Topic10\", \"Topic10\", \"Topic10\", \"Topic10\", \"Topic10\", \"Topic10\", \"Topic10\", \"Topic10\", \"Topic10\", \"Topic10\", \"Topic10\", \"Topic10\", \"Topic10\", \"Topic10\", \"Topic10\", \"Topic10\", \"Topic10\", \"Topic10\", \"Topic10\", \"Topic10\", \"Topic10\", \"Topic10\", \"Topic10\", \"Topic10\", \"Topic10\", \"Topic10\", \"Topic10\", \"Topic10\", \"Topic10\", \"Topic10\", \"Topic10\", \"Topic10\", \"Topic10\", \"Topic10\", \"Topic10\", \"Topic10\", \"Topic10\"], \"logprob\": [30.0, 29.0, 28.0, 27.0, 26.0, 25.0, 24.0, 23.0, 22.0, 21.0, 20.0, 19.0, 18.0, 17.0, 16.0, 15.0, 14.0, 13.0, 12.0, 11.0, 10.0, 9.0, 8.0, 7.0, 6.0, 5.0, 4.0, 3.0, 2.0, 1.0, -4.040599822998047, -4.126999855041504, -5.075200080871582, -5.238800048828125, -5.398900032043457, -5.968100070953369, -6.263999938964844, -2.7332000732421875, -6.393199920654297, -6.780300140380859, -6.823299884796143, -7.290599822998047, -7.295400142669678, -7.348999977111816, -7.347300052642822, -7.395100116729736, -7.542300224304199, -7.577099800109863, -7.646299839019775, -7.707200050354004, -7.886300086975098, -7.911099910736084, -7.94350004196167, -7.923900127410889, -8.01669979095459, -8.059200286865234, -8.06719970703125, -8.100299835205078, -8.196499824523926, -8.160200119018555, -4.178999900817871, -5.122200012207031, -4.805099964141846, -4.779699802398682, -5.610199928283691, -5.845699787139893, -6.634200096130371, -5.019800186157227, -4.767199993133545, -3.8682000637054443, -2.2167999744415283, -5.35699987411499, -6.304299831390381, -5.192699909210205, -6.58459997177124, -4.362599849700928, -5.703400135040283, -5.059599876403809, -5.680799961090088, -5.669600009918213, -4.775199890136719, -4.507599830627441, -4.039999961853027, -4.298699855804443, -4.0192999839782715, -3.812299966812134, -4.553999900817871, -4.528299808502197, -5.035999774932861, -4.08050012588501, -5.539299964904785, -5.08620023727417, -4.740799903869629, -4.877399921417236, -4.963699817657471, -5.093100070953369, -5.367800235748291, -5.378799915313721, -5.646699905395508, -5.748300075531006, -5.746699810028076, -5.910600185394287, -5.9328999519348145, -3.6131999492645264, -6.069699764251709, -6.326900005340576, -6.692599773406982, -6.821400165557861, -4.072000026702881, -7.650700092315674, -7.7916998863220215, -7.688600063323975, -7.891200065612793, -7.999100208282471, -8.038100242614746, -8.20300006866455, -8.214300155639648, -8.27929973602295, -8.525099754333496, -8.527899742126465, -8.731300354003906, -8.733699798583984, -8.845999717712402, -8.929400444030762, -8.341400146484375, -9.01509952545166, -4.019100189208984, -4.953499794006348, -6.241000175476074, -6.191400051116943, -7.8927998542785645, -5.438799858093262, -6.885200023651123, -6.479100227355957, -5.593699932098389, -6.114699840545654, -5.513199806213379, -4.02239990234375, -5.549900054931641, -3.1305999755859375, -5.167399883270264, -4.003699779510498, -3.883500099182129, -4.48330020904541, -3.8259999752044678, -3.8011999130249023, -4.486400127410889, -4.23360013961792, -2.975399971008301, -4.154399871826172, -3.1517999172210693, -3.8808000087738037, -4.311399936676025, -4.305699825286865, -4.23960018157959, -4.817999839782715, -5.247799873352051, -5.072500228881836, -4.821199893951416, -5.131400108337402, -4.472499847412109, -4.972099781036377, -5.042399883270264, -4.908400058746338, -5.064899921417236, -5.145199775695801, -5.13670015335083, -4.773200035095215, -4.914000034332275, -5.007999897003174, -5.300600051879883, -5.440299987792969, -5.444900035858154, -5.683499813079834, -6.016600131988525, -6.252500057220459, -6.2596001625061035, -6.428199768066406, -6.494500160217285, -6.667099952697754, -6.714700222015381, -6.668000221252441, -6.8059000968933105, -6.909800052642822, -7.012199878692627, -7.173900127410889, -7.177800178527832, -7.4166998863220215, -7.493899822235107, -7.521699905395508, -7.639999866485596, -7.720699787139893, -7.776299953460693, -7.802599906921387, -7.858799934387207, -7.869999885559082, -7.8796000480651855, -4.223899841308594, -3.715100049972534, -5.679900169372559, -5.137400150299072, -6.478600025177002, -5.127399921417236, -4.981599807739258, -3.5601000785827637, -5.686500072479248, -5.985199928283691, -3.163100004196167, -5.6092000007629395, -4.763400077819824, -2.104099988937378, -5.625500202178955, -3.7309999465942383, -3.50600004196167, -4.316699981689453, -4.513199806213379, -5.188499927520752, -4.804699897766113, -4.50029993057251, -5.214900016784668, -4.747600078582764, -4.736299991607666, -4.040299892425537, -4.32480001449585, -5.122099876403809, -4.597899913787842, -4.914299964904785, -5.019899845123291, -5.265699863433838, -5.1407999992370605, -4.1290998458862305, -3.330199956893921, -5.0081000328063965, -5.360099792480469, -5.817999839782715, -5.835400104522705, -6.144700050354004, -6.299900054931641, -6.409299850463867, -6.427599906921387, -6.38070011138916, -6.632699966430664, -6.654600143432617, -4.52370023727417, -6.76230001449585, -6.89709997177124, -6.444900035858154, -7.182199954986572, -7.237500190734863, -7.250100135803223, -7.290200233459473, -7.414000034332275, -7.436100006103516, -7.477499961853027, -7.494200229644775, -7.566199779510498, -6.921500205993652, -7.718900203704834, -7.736599922180176, -7.798900127410889, -5.913400173187256, -6.5665998458862305, -3.087599992752075, -5.685500144958496, -4.667399883270264, -6.221700191497803, -5.6234002113342285, -4.109099864959717, -5.412700176239014, -4.666999816894531, -5.105999946594238, -6.057700157165527, -4.7565999031066895, -5.390500068664551, -4.327700138092041, -4.124800205230713, -5.678699970245361, -3.490799903869629, -5.106200218200684, -4.8130998611450195, -3.585599899291992, -5.356299877166748, -4.039000034332275, -4.235599994659424, -5.2164998054504395, -5.328800201416016, -4.43149995803833, -5.298099994659424, -5.101399898529053, -5.416500091552734, -4.5980000495910645, -4.6722002029418945, -3.9655001163482666, -4.732100009918213, -4.574999809265137, -4.550600051879883, -4.4197998046875, -4.899099826812744, -4.796599864959717, -5.208499908447266, -3.441999912261963, -3.61680006980896, -3.830699920654297, -3.91759991645813, -4.6803998947143555, -5.534900188446045, -5.535699844360352, -5.249000072479248, -6.436100006103516, -6.456099987030029, -6.458000183105469, -6.808899879455566, -6.978499889373779, -7.523499965667725, -7.556399822235107, -7.604300022125244, -7.795899868011475, -7.956399917602539, -8.022700309753418, -8.032400131225586, -8.155500411987305, -8.289199829101562, -8.332599639892578, -8.411499977111816, -8.441900253295898, -8.518600463867188, -8.664899826049805, -8.79800033569336, -8.820099830627441, -8.857500076293945, -3.5597000122070312, -3.946199893951416, -6.709000110626221, -4.03849983215332, -5.918600082397461, -5.258800029754639, -5.6579999923706055, -7.219900131225586, -6.435299873352051, -4.671599864959717, -4.960899829864502, -4.104000091552734, -5.35890007019043, -6.462399959564209, -5.058800220489502, -5.243500232696533, -3.522599935531616, -5.087900161743164, -3.88700008392334, -4.048600196838379, -4.2881999015808105, -4.759799957275391, -5.182700157165527, -3.6875998973846436, -3.676100015640259, -5.0320000648498535, -5.014900207519531, -4.171299934387207, -4.309999942779541, -4.449399948120117, -4.736499786376953, -4.800600051879883, -4.636300086975098, -4.581699848175049, -4.572000026702881, -4.697999954223633, -4.75570011138916, -5.005199909210205, -4.64169979095459, -5.595099925994873, -5.65910005569458, -5.7515997886657715, -5.76669979095459, -6.0482001304626465, -6.160999774932861, -5.377099990844727, -6.3059000968933105, -6.363500118255615, -6.483099937438965, -6.485099792480469, -6.530600070953369, -6.563499927520752, -6.581699848175049, -6.399799823760986, -6.633600234985352, -6.683899879455566, -6.831299781799316, -6.866199970245361, -6.885900020599365, -6.9095001220703125, -6.93779993057251, -7.018199920654297, -6.966400146484375, -7.158299922943115, -7.1645002365112305, -7.207699775695801, -7.216100215911865, -7.2683000564575195, -5.797699928283691, -5.69950008392334, -5.811299800872803, -5.917200088500977, -5.7829999923706055, -5.2891998291015625, -5.02269983291626, -6.626200199127197, -5.538599967956543, -2.740299940109253, -4.7891998291015625, -5.430600166320801, -5.473299980163574, -5.793700218200684, -4.9532999992370605, -5.131800174713135, -4.783299922943115, -4.576099872589111, -5.311500072479248, -3.9683001041412354, -5.5254998207092285, -4.981400012969971, -5.521900177001953, -5.470699787139893, -5.576300144195557, -3.965100049972534, -5.287399768829346, -4.561500072479248, -5.281000137329102, -5.317599773406982, -5.46589994430542, -5.554299831390381, -5.3460001945495605, -5.456600189208984, -5.433800220489502, -5.548099994659424, -4.353899955749512, -3.3217999935150146, -4.710599899291992, -5.043600082397461, -5.186399936676025, -5.223100185394287, -4.382699966430664, -5.947199821472168, -4.969799995422363, -6.809000015258789, -6.858699798583984, -7.1828999519348145, -7.226500034332275, -7.468200206756592, -7.5802001953125, -7.81850004196167, -7.832699775695801, -7.950799942016602, -8.01830005645752, -5.933199882507324, -8.159000396728516, -8.172900199890137, -8.19320011138916, -8.196399688720703, -8.303899765014648, -8.336799621582031, -8.337499618530273, -5.462299823760986, -8.211799621582031, -8.659099578857422, -5.4781999588012695, -6.40749979019165, -3.2748000621795654, -6.2804999351501465, -3.6933999061584473, -7.669300079345703, -4.4182000160217285, -5.000699996948242, -6.008600234985352, -5.181700229644775, -5.876999855041504, -5.4928998947143555, -4.219200134277344, -3.7116000652313232, -6.279600143432617, -2.8959999084472656, -2.9367001056671143, -6.081299781799316, -5.10860013961792, -4.671500205993652, -5.358799934387207, -4.894000053405762, -4.802499771118164, -4.612500190734863, -5.251299858093262, -4.439599990844727, -4.248600006103516, -4.572700023651123, -4.3942999839782715, -4.547399997711182, -4.3649001121521, -3.9948999881744385, -4.138299942016602, -4.781899929046631, -4.867000102996826, -4.940800189971924, -4.941199779510498, -4.326000213623047, -4.838900089263916, -5.083899974822998, -5.251200199127197, -5.25600004196167, -5.308499813079834, -5.234799861907959, -5.649499893188477, -5.6880998611450195, -5.7357001304626465, -5.919600009918213, -6.064300060272217, -6.2555999755859375, -6.3557000160217285, -6.462800025939941, -6.463099956512451, -6.528299808502197, -6.551599979400635, -6.592299938201904, -6.626800060272217, -6.6890997886657715, -6.694399833679199, -6.696300029754639, -6.795599937438965, -6.8059000968933105, -6.711400032043457, -7.006800174713135, -7.026199817657471, -7.0802998542785645, -7.152299880981445, -6.225800037384033, -3.835700035095215, -3.995800018310547, -4.920899868011475, -4.2708001136779785, -6.303599834442139, -3.402400016784668, -3.897700071334839, -5.640699863433838, -3.7639999389648438, -5.547100067138672, -4.4232001304626465, -4.341800212860107, -4.695899963378906, -3.7337000370025635, -5.504799842834473, -5.252600193023682, -3.6050000190734863, -3.504300117492676, -4.123899936676025, -4.366099834442139, -3.406599998474121, -4.833099842071533, -3.642699956893921, -4.724899768829346, -4.927499771118164, -4.567699909210205, -4.717800140380859, -4.63670015335083, -4.8119001388549805, -4.8531999588012695, -4.835999965667725, -4.95550012588501, -4.216100215911865, -4.708099842071533, -5.329999923706055, -5.480500221252441, -5.581299781799316, -5.583600044250488, -5.618599891662598, -5.629899978637695, -5.742099761962891, -6.112299919128418, -6.224400043487549, -6.350800037384033, -6.559100151062012, -6.678699970245361, -6.668900012969971, -6.741099834442139, -6.776899814605713, -6.829599857330322, -6.9243998527526855, -6.948999881744385, -6.906899929046631, -7.018899917602539, -7.019599914550781, -7.0493998527526855, -7.087600231170654, -7.122499942779541, -7.129700183868408, -7.009200096130371, -7.382500171661377, -7.426199913024902, -6.047100067138672, -3.9888999462127686, -3.1105000972747803, -3.5655999183654785, -4.168499946594238, -5.751100063323975, -5.440499782562256, -6.595600128173828, -5.855599880218506, -4.872399806976318, -5.394499778747559, -4.7895002365112305, -5.023499965667725, -5.215799808502197, -4.555099964141846, -5.393499851226807, -4.418399810791016, -5.41480016708374, -5.341300010681152, -4.575099945068359, -5.4994001388549805, -5.417099952697754, -4.007199764251709, -5.2204999923706055, -4.575200080871582, -4.386099815368652, -3.8052000999450684, -4.526199817657471, -5.229499816894531, -4.980299949645996, -5.276599884033203, -4.497399806976318, -5.039700031280518, -5.122600078582764, -4.9980998039245605, -5.026199817657471, -5.039899826049805, -5.152299880981445, -2.2764999866485596, -3.4182000160217285, -4.34499979019165, -4.380899906158447, -4.516600131988525, -4.572700023651123, -4.606599807739258, -5.047900199890137, -5.082499980926514, -5.192699909210205, -5.231299877166748, -5.644000053405762, -5.777400016784668, -5.834799766540527, -5.857999801635742, -5.858699798583984, -5.866399765014648, -5.896599769592285, -5.981200218200684, -6.096700191497803, -6.130000114440918, -6.160600185394287, -6.266499996185303, -6.289400100708008, -6.315800189971924, -6.382299900054932, -6.441100120544434, -6.468400001525879, -6.475800037384033, -6.47730016708374, -5.576000213623047, -4.46019983291626, -4.967899799346924, -6.353899955749512, -5.296500205993652, -5.493800163269043, -5.631899833679199, -6.009699821472168, -5.541200160980225, -5.313700199127197, -5.148900032043457, -4.704599857330322, -5.265900135040283, -5.112400054931641, -4.9527997970581055, -4.874300003051758, -5.322800159454346, -5.417399883270264, -5.500999927520752, -5.019700050354004, -5.307600021362305, -5.455900192260742, -5.505799770355225, -5.513800144195557], \"loglift\": [30.0, 29.0, 28.0, 27.0, 26.0, 25.0, 24.0, 23.0, 22.0, 21.0, 20.0, 19.0, 18.0, 17.0, 16.0, 15.0, 14.0, 13.0, 12.0, 11.0, 10.0, 9.0, 8.0, 7.0, 6.0, 5.0, 4.0, 3.0, 2.0, 1.0, 2.017699956893921, 2.017699956893921, 2.017400026321411, 2.017400026321411, 2.0172998905181885, 2.016900062561035, 2.0165998935699463, 2.0165998935699463, 2.0164999961853027, 2.015899896621704, 2.0157999992370605, 2.0146000385284424, 2.0144999027252197, 2.014400005340576, 2.014400005340576, 2.01419997215271, 2.0136001110076904, 2.0134999752044678, 2.013200044631958, 2.0129001140594482, 2.011899948120117, 2.0118000507354736, 2.0116000175476074, 2.0113000869750977, 2.0111000537872314, 2.0107998847961426, 2.0107998847961426, 2.010499954223633, 2.0097999572753906, 2.009500026702881, 2.001300096511841, 2.0092999935150146, 1.9714000225067139, 1.948099970817566, 1.9620000123977661, 1.8711999654769897, 1.9155000448226929, 1.771399974822998, 1.7342000007629395, 1.6401000022888184, 1.361799955368042, 1.7086000442504883, 1.8178000450134277, 1.6353000402450562, 1.861899971961975, 1.4121999740600586, 1.655400037765503, 1.4407000541687012, 1.593400001525879, 1.5298999547958374, 1.1885000467300415, 1.0087000131607056, 0.7797999978065491, 0.8105999827384949, 0.6328999996185303, 0.5116000175476074, 0.5681999921798706, 0.3546999990940094, 0.8374000191688538, -0.6568999886512756, 1.4010000228881836, 0.6039999723434448, -0.044599998742341995, -0.06769999861717224, -0.2150000035762787, 0.01860000006854534, 2.0845999717712402, 2.0845999717712402, 2.084399938583374, 2.084399938583374, 2.084399938583374, 2.084199905395508, 2.084199905395508, 2.0841000080108643, 2.0841000080108643, 2.0838000774383545, 2.083199977874756, 2.082900047302246, 2.081899881362915, 2.0801000595092773, 2.079400062561035, 2.079200029373169, 2.0787999629974365, 2.078000068664551, 2.0778000354766846, 2.0764999389648438, 2.0764000415802, 2.0757999420166016, 2.073199987411499, 2.0731000900268555, 2.070499897003174, 2.0703001022338867, 2.068700075149536, 2.0673000812530518, 2.066499948501587, 2.065700054168701, 2.015700101852417, 2.024199962615967, 2.0313000679016113, 1.9598000049591064, 2.0343000888824463, 1.8738000392913818, 1.9646999835968018, 1.8997000455856323, 1.8075000047683716, 1.783400058746338, 1.6794999837875366, 1.437600016593933, 1.6628999710083008, 1.1933000087738037, 1.563599944114685, 1.301200032234192, 1.2390999794006348, 1.276900053024292, 0.9937999844551086, 0.8949999809265137, 1.1470999717712402, 1.033400058746338, 0.44830000400543213, 0.9573000073432922, 0.426800012588501, 0.7713000178337097, 0.7979999780654907, 0.7166000008583069, 0.5702000260353088, 0.9632999897003174, 1.364400029182434, 1.1432000398635864, 0.7950999736785889, 0.9980000257492065, -0.2353000044822693, 0.6570000052452087, 0.7577999830245972, 0.21379999816417694, 0.7098000049591064, 0.8185999989509583, -0.25369998812675476, 2.1110000610351562, 2.1108999252319336, 2.11080002784729, 2.11080002784729, 2.1106998920440674, 2.1106998920440674, 2.1105000972747803, 2.110100030899048, 2.109999895095825, 2.109999895095825, 2.1096999645233154, 2.109600067138672, 2.109299898147583, 2.1092000007629395, 2.1092000007629395, 2.109100103378296, 2.1087000370025635, 2.108599901199341, 2.108099937438965, 2.108099937438965, 2.1071999073028564, 2.1068999767303467, 2.106800079345703, 2.1061999797821045, 2.105799913406372, 2.1054999828338623, 2.105299949645996, 2.1048998832702637, 2.1048998832702637, 2.10479998588562, 2.075200080871582, 2.060800075531006, 2.0801000595092773, 2.061800003051758, 2.0797998905181885, 2.049299955368042, 2.0313000679016113, 1.909999966621399, 2.0051000118255615, 1.9867000579833984, 1.6578999757766724, 1.9163999557495117, 1.7934000492095947, 1.319599986076355, 1.867400050163269, 1.3808000087738037, 1.3037999868392944, 1.312399983406067, 1.3251999616622925, 1.5406999588012695, 1.3246999979019165, 1.1269999742507935, 1.4873000383377075, 1.1878999471664429, 1.0699000358581543, 0.28349998593330383, 0.4239000082015991, 0.9836999773979187, -0.16609999537467957, 0.22139999270439148, -0.3677999973297119, 0.9527999758720398, -0.2578999996185303, 2.2058000564575195, 2.205699920654297, 2.2056000232696533, 2.205399990081787, 2.2051000595092773, 2.2051000595092773, 2.204699993133545, 2.2044999599456787, 2.204400062561035, 2.2042999267578125, 2.2042999267578125, 2.203900098800659, 2.203900098800659, 2.203900098800659, 2.203700065612793, 2.2032999992370605, 2.202899932861328, 2.202500104904175, 2.2023000717163086, 2.202199935913086, 2.2021000385284424, 2.2014999389648438, 2.2014000415802, 2.201200008392334, 2.201200008392334, 2.200500011444092, 2.200200080871582, 2.200000047683716, 2.1998000144958496, 2.19950008392334, 2.1933000087738037, 2.198699951171875, 2.1368000507354736, 2.127000093460083, 2.0766000747680664, 2.145699977874756, 2.109499931335449, 2.0213000774383545, 2.0954999923706055, 2.043600082397461, 2.050100088119507, 2.119800090789795, 2.010699987411499, 2.0566999912261963, 1.9456000328063965, 1.9154000282287598, 2.0785999298095703, 1.7762000560760498, 1.9874999523162842, 1.924299955368042, 1.5500999689102173, 1.933899998664856, 1.5773999691009521, 1.516700029373169, 1.777500033378601, 1.7867000102996826, 1.249899983406067, 1.7400000095367432, 1.455299973487854, 1.7760000228881836, 0.7070000171661377, 0.6888999938964844, -0.5418000221252441, 0.6513000130653381, 0.30799999833106995, 0.19820000231266022, -0.09589999914169312, 0.9071000218391418, 0.02449999935925007, 1.007200002670288, 2.2864999771118164, 2.2864999771118164, 2.2864999771118164, 2.286400079727173, 2.28629994392395, 2.285900115966797, 2.285900115966797, 2.285599946975708, 2.2848000526428223, 2.2846999168395996, 2.2846999168395996, 2.2839999198913574, 2.2834999561309814, 2.2811999320983887, 2.281100034713745, 2.280600070953369, 2.279599905014038, 2.2783000469207764, 2.2778000831604004, 2.2776999473571777, 2.2764999866485596, 2.275099992752075, 2.274600028991699, 2.2736001014709473, 2.273200035095215, 2.2708001136779785, 2.26990008354187, 2.2674999237060547, 2.2671000957489014, 2.266400098800659, 2.189199924468994, 2.168100118637085, 2.22189998626709, 2.052299976348877, 2.136399984359741, 2.0996999740600586, 2.0552000999450684, 2.18179988861084, 2.098599910736084, 1.9026000499725342, 1.9259999990463257, 1.8138999938964844, 1.917799949645996, 2.072700023651123, 1.8587000370025635, 1.8723000288009644, 1.4996999502182007, 1.776900053024292, 1.385200023651123, 1.4113999605178833, 1.472000002861023, 1.6167999505996704, 1.6973999738693237, 1.0612000226974487, 0.9761000275611877, 1.6087000370025635, 1.5851000547409058, 0.7117000222206116, 0.49970000982284546, 0.6600000262260437, 1.0636999607086182, 1.1347999572753906, 0.7470999956130981, 0.2393999993801117, -0.24819999933242798, -0.2662000060081482, -0.5184000134468079, 0.8682000041007996, 2.358099937438965, 2.3577001094818115, 2.357599973678589, 2.3575000762939453, 2.3575000762939453, 2.3571999073028564, 2.3570001125335693, 2.3568999767303467, 2.356800079345703, 2.3566999435424805, 2.3564999103546143, 2.3564999103546143, 2.3564000129699707, 2.356300115585327, 2.3561999797821045, 2.356100082397461, 2.356100082397461, 2.3559999465942383, 2.355600118637085, 2.3554999828338623, 2.3554000854492188, 2.3554000854492188, 2.355299949645996, 2.3550000190734863, 2.3548998832702637, 2.3545000553131104, 2.3545000553131104, 2.354300022125244, 2.3541998863220215, 2.3540000915527344, 2.352099895477295, 2.3282999992370605, 2.3197999000549316, 2.289099931716919, 2.271699905395508, 2.203900098800659, 2.1709001064300537, 2.32069993019104, 2.1714999675750732, 1.496999979019165, 1.8932000398635864, 1.9808000326156616, 1.9322999715805054, 2.030600070953369, 1.687600016593933, 1.7386000156402588, 1.5707000494003296, 1.3249000310897827, 1.687399983406067, 0.8515999913215637, 1.7281999588012695, 1.294700026512146, 1.7145999670028687, 1.6497999429702759, 1.7541999816894531, -0.3865000009536743, 1.1332000494003296, -1.1377999782562256, 0.8435999751091003, 0.3637999892234802, 0.8697999715805054, 1.2764999866485596, -0.21040000021457672, 0.05169999971985817, -0.7376000285148621, 0.9660999774932861, 2.3594000339508057, 2.359299898147583, 2.359299898147583, 2.359100103378296, 2.359100103378296, 2.359100103378296, 2.3589999675750732, 2.3584001064300537, 2.3580000400543213, 2.356800079345703, 2.3566999435424805, 2.3554999828338623, 2.355299949645996, 2.3541998863220215, 2.3534998893737793, 2.351900100708008, 2.351799964904785, 2.350800037384033, 2.3499999046325684, 2.3494999408721924, 2.3487000465393066, 2.3485000133514404, 2.348400115966797, 2.348299980163574, 2.347100019454956, 2.34660005569458, 2.34660005569458, 2.3464999198913574, 2.346100091934204, 2.3417000770568848, 2.303100109100342, 2.3148000240325928, 2.2320001125335693, 2.2660000324249268, 1.9967999458312988, 2.3036999702453613, 2.009000062942505, 2.0618999004364014, 2.148900032043457, 2.0517001152038574, 2.1131999492645264, 2.065000057220459, 1.8837000131607056, 1.7630000114440918, 2.1410000324249268, 1.5358999967575073, 1.3006000518798828, 2.071199893951416, 1.7585999965667725, 1.5744999647140503, 1.7798000574111938, 1.5266000032424927, 1.4736000299453735, 1.3693000078201294, 1.625100016593933, 1.059999942779541, 0.7736999988555908, 0.9435999989509583, 0.7279000282287598, 0.7249000072479248, 0.3312999904155731, -0.4162999987602234, -0.7146000266075134, 0.6014999747276306, 0.2685999870300293, 0.1817999929189682, -0.2890999913215637, 2.4565000534057617, 2.4563000202178955, 2.456199884414673, 2.4560999870300293, 2.4560999870300293, 2.4560000896453857, 2.4560000896453857, 2.4558000564575195, 2.455699920654297, 2.455699920654297, 2.455399990081787, 2.455199956893921, 2.454900026321411, 2.454699993133545, 2.4544999599456787, 2.4544999599456787, 2.454400062561035, 2.454200029373169, 2.454200029373169, 2.4540998935699463, 2.4539999961853027, 2.453900098800659, 2.453900098800659, 2.4535999298095703, 2.4535999298095703, 2.453200101852417, 2.452899932861328, 2.4528000354766846, 2.4526000022888184, 2.4523000717163086, 2.451200008392334, 2.419300079345703, 2.3564999103546143, 2.365799903869629, 2.3173000812530518, 2.415600061416626, 2.097100019454956, 2.0773000717163086, 2.3032000064849854, 1.8632999658584595, 2.1768999099731445, 1.8619999885559082, 1.7640000581741333, 1.8143999576568604, 1.3889000415802002, 2.044600009918213, 1.904099941253662, 1.0913000106811523, 0.9275000095367432, 0.9983000159263611, 1.1502000093460083, 0.1720000058412552, 1.3863999843597412, -0.21899999678134918, 1.1485999822616577, 1.291100025177002, 0.7045000195503235, 0.9157999753952026, 0.7466999888420105, 0.8172000050544739, 0.45179998874664307, 0.2732999920845032, 0.51910001039505, 2.5065999031066895, 2.506500005722046, 2.5060999393463135, 2.50600004196167, 2.5058999061584473, 2.5058999061584473, 2.5058999061584473, 2.5058999061584473, 2.50570011138916, 2.505199909210205, 2.505000114440918, 2.5048000812530518, 2.504300117492676, 2.503999948501587, 2.5039000511169434, 2.5037999153137207, 2.503700017929077, 2.503499984741211, 2.503200054168701, 2.5030999183654785, 2.5028998851776123, 2.5027999877929688, 2.5027999877929688, 2.502700090408325, 2.502500057220459, 2.5023999214172363, 2.5023999214172363, 2.5023000240325928, 2.5011000633239746, 2.5007998943328857, 2.496500015258789, 2.353300094604492, 2.2506000995635986, 2.2604000568389893, 2.2813000679016113, 2.384200096130371, 2.3380000591278076, 2.4565999507904053, 2.3677000999450684, 2.1979000568389893, 2.2451999187469482, 2.078700065612793, 2.1205999851226807, 2.071000099182129, 1.8660000562667847, 2.1112000942230225, 1.7891000509262085, 2.10260009765625, 2.0738000869750977, 1.6339999437332153, 2.0882999897003174, 1.9781999588012695, 0.741599977016449, 1.7848999500274658, 1.1061999797821045, 0.4968999922275543, -0.3815000057220459, -0.09440000355243683, 1.498900055885315, 0.7720000147819519, 1.5881999731063843, -0.9189000129699707, 0.57669997215271, 0.7784000039100647, 0.13750000298023224, 0.2460000067949295, -0.01759999990463257, -0.03009999915957451, 2.9249000549316406, 2.924799919128418, 2.924499988555908, 2.924499988555908, 2.9244000911712646, 2.9244000911712646, 2.9244000911712646, 2.924099922180176, 2.9240000247955322, 2.9238998889923096, 2.9238998889923096, 2.9233999252319336, 2.9231998920440674, 2.9230000972747803, 2.9230000972747803, 2.9230000972747803, 2.9230000972747803, 2.9228999614715576, 2.9226999282836914, 2.9223999977111816, 2.9223999977111816, 2.922300100326538, 2.921999931335449, 2.921999931335449, 2.9219000339508057, 2.9217000007629395, 2.9214999675750732, 2.9214000701904297, 2.9214000701904297, 2.9214000701904297, 2.8264999389648438, 2.6761999130249023, 2.6510000228881836, 2.898900032043457, 2.575200080871582, 2.5699000358581543, 2.5148000717163086, 2.731300115585327, 2.3206000328063965, 1.769700050354004, 1.4789999723434448, 0.802299976348877, 1.6190999746322632, 0.9505000114440918, 0.5554999709129333, -0.17800000309944153, 1.1785000562667847, 1.179800033569336, 1.4980000257492065, -0.7825000286102295, -0.4246000051498413, 0.7531999945640564, 1.3128999471664429, -0.4043999910354614]}, \"token.table\": {\"Topic\": [9, 9, 9, 9, 9, 9, 2, 1, 6, 10, 1, 2, 9, 7, 10, 7, 8, 2, 2, 3, 4, 5, 7, 8, 9, 1, 1, 4, 5, 6, 7, 5, 5, 7, 8, 5, 5, 5, 4, 5, 1, 2, 3, 4, 5, 7, 8, 9, 2, 3, 4, 1, 2, 3, 4, 5, 6, 7, 8, 9, 10, 5, 5, 9, 5, 9, 5, 8, 4, 4, 4, 6, 9, 4, 7, 8, 1, 2, 3, 5, 6, 7, 9, 10, 7, 1, 3, 4, 5, 7, 8, 9, 10, 6, 7, 1, 2, 3, 4, 5, 6, 7, 8, 9, 10, 10, 10, 10, 6, 1, 2, 3, 4, 5, 6, 7, 8, 9, 10, 6, 6, 2, 3, 2, 6, 9, 2, 4, 5, 1, 4, 9, 1, 2, 3, 4, 8, 3, 4, 7, 2, 2, 1, 3, 6, 9, 10, 1, 2, 3, 4, 5, 7, 8, 9, 10, 9, 1, 2, 3, 6, 7, 9, 10, 1, 7, 8, 10, 3, 6, 6, 7, 2, 4, 3, 4, 2, 2, 6, 1, 6, 7, 10, 1, 10, 6, 7, 10, 4, 5, 1, 2, 3, 4, 5, 6, 7, 8, 9, 1, 2, 3, 5, 6, 7, 9, 10, 4, 10, 10, 4, 10, 4, 1, 2, 3, 4, 6, 7, 9, 10, 6, 6, 3, 1, 2, 3, 4, 5, 6, 9, 10, 3, 2, 5, 6, 7, 2, 5, 2, 3, 7, 10, 2, 7, 8, 4, 4, 4, 8, 6, 4, 7, 8, 8, 1, 4, 9, 1, 6, 6, 4, 1, 3, 3, 9, 9, 2, 4, 6, 10, 6, 5, 6, 1, 3, 3, 10, 9, 4, 6, 9, 3, 2, 3, 4, 7, 8, 10, 9, 3, 10, 7, 7, 6, 1, 1, 1, 2, 3, 4, 6, 9, 10, 6, 2, 5, 4, 9, 2, 1, 2, 3, 4, 5, 6, 7, 8, 9, 10, 1, 3, 4, 5, 6, 7, 8, 9, 10, 1, 2, 3, 4, 5, 7, 8, 9, 10, 1, 2, 3, 4, 5, 6, 7, 8, 9, 10, 2, 3, 4, 2, 4, 5, 7, 1, 2, 6, 9, 10, 2, 4, 5, 7, 8, 2, 4, 5, 2, 5, 4, 7, 9, 6, 1, 2, 3, 4, 5, 6, 7, 8, 8, 1, 2, 3, 6, 2, 5, 1, 2, 3, 6, 7, 8, 9, 6, 7, 6, 7, 7, 7, 1, 2, 3, 5, 6, 7, 8, 2, 4, 5, 1, 10, 1, 2, 3, 4, 5, 6, 7, 8, 9, 10, 1, 10, 1, 4, 1, 5, 7, 8, 9, 5, 6, 9, 2, 3, 7, 8, 10, 2, 8, 10, 3, 4, 9, 7, 1, 2, 1, 5, 7, 10, 1, 2, 3, 4, 5, 6, 7, 8, 9, 2, 4, 5, 7, 1, 2, 3, 4, 5, 6, 7, 8, 10, 1, 2, 3, 4, 5, 6, 7, 8, 9, 10, 1, 3, 5, 8, 9, 2, 3, 4, 6, 8, 9, 9, 2, 3, 4, 6, 7, 8, 9, 4, 6, 9, 1, 3, 4, 5, 8, 9, 10, 4, 9, 8, 10, 10, 1, 2, 3, 4, 5, 4, 2, 3, 4, 5, 6, 7, 8, 9, 2, 4, 7, 1, 8, 9, 1, 3, 8, 9, 1, 5, 7, 8, 9, 8, 2, 4, 5, 7, 9, 1, 2, 3, 9, 10, 1, 2, 3, 4, 3, 4, 9, 1, 2, 3, 4, 5, 7, 2, 3, 1, 2, 3, 5, 6, 8, 9, 10, 1, 2, 3, 4, 5, 6, 7, 8, 9, 10, 3, 4, 1, 3, 4, 8, 6, 7, 6, 2, 6, 10, 6, 5, 7, 5, 6, 10, 1, 1, 2, 6, 7, 10, 7, 7, 8, 5, 2, 7, 10, 8, 1, 2, 3, 4, 5, 7, 8, 9, 10, 1, 2, 4, 6, 10, 2, 6, 6, 8, 1, 1, 3, 3, 8, 9, 10, 3, 4, 9, 8, 1, 1, 2, 3, 4, 7, 8, 1, 2, 3, 1, 2, 3, 4, 6, 7, 9, 9, 1, 1, 2, 3, 4, 5, 6, 7, 8, 9, 10, 4, 6, 7, 8, 1, 2, 3, 4, 5, 6, 7, 8, 9, 10, 1, 4, 4, 8, 1, 2, 3, 5, 6, 9, 10, 2, 4, 6, 8, 9, 9, 5, 1, 1, 2, 3, 4, 5, 6, 7, 8, 10, 1, 2, 3, 4, 5, 6, 7, 8, 9, 10, 2, 4, 1, 2, 5, 7, 8, 9, 8, 1, 6, 10, 3, 6, 9, 3, 5, 2, 4, 9, 9, 10, 1, 10, 8, 6, 7, 8, 3, 3, 10, 3, 1, 8, 1, 7, 8, 10, 6, 5, 1, 2, 3, 4, 5, 6, 7, 8, 9, 10, 1, 2, 3, 4, 5, 7, 8, 9, 10, 3, 4, 10, 2, 3, 4, 5, 1, 2, 3, 4, 10, 6, 7, 9, 10, 2, 4, 5, 6, 8, 1, 2, 3, 4, 5, 7, 8, 9, 7, 8, 4, 6, 7, 10, 4, 5, 6, 7, 6, 6, 10, 6, 7, 2, 4, 9, 4, 4, 4, 9, 4, 9, 6, 10, 6, 7, 9, 10, 5, 7, 1, 7, 10, 7, 9, 1, 2, 3, 4, 5, 6, 7, 8, 9, 10, 3, 1, 2, 5, 6, 7, 8, 9, 10, 1, 6, 3, 7, 9, 3, 2, 7, 9, 7, 9, 7, 7, 3, 10, 10, 3, 7, 10, 6, 7, 4, 9, 6, 1, 2, 6, 10, 4, 7, 10, 1, 2, 4, 8, 2, 2, 2, 1, 2, 3, 4, 10, 4, 1, 2, 3, 4, 5, 8, 10, 10, 10, 1, 2, 2, 3, 4, 5, 6, 7, 9, 10, 10, 3, 4, 2, 7, 3, 4, 9, 5, 4, 5, 1, 10, 4, 5, 9, 4, 2, 4, 5, 5, 4, 1, 3, 4, 9, 4, 2, 4, 5, 8, 9, 2, 2, 3, 2, 3, 6, 10, 5, 9, 6, 7, 10, 5, 2, 3, 1, 2, 3, 4, 5, 6, 7, 8, 9, 10, 9, 6, 5, 1, 5, 6, 7, 8, 9, 1, 3, 7, 8, 9, 10, 10, 1, 3, 5, 8, 9, 1, 2, 10, 1, 3, 5, 6, 7, 8, 9, 10, 4, 5, 8, 8, 10, 10, 10, 1, 3, 9, 10, 1, 2, 3, 4, 5, 6, 7, 8, 9, 10, 1, 2, 4, 5, 6, 7, 10, 1, 2, 4, 6, 7, 8, 10, 3, 9, 3, 9, 9, 4, 7, 6, 8, 5, 7, 3, 5, 8, 9, 3, 9, 1, 2, 6, 10, 3, 3, 4, 2, 4, 10, 1, 6, 5, 2, 5, 5, 10, 1, 3, 5, 7, 9, 10, 2, 4, 5, 7, 8, 1, 3, 1, 1, 5, 7, 5, 3, 4, 3, 3, 10, 6, 10, 9, 2, 1, 7, 8, 1, 2, 3, 4, 5, 6, 7, 9, 10, 1, 2, 4, 5, 6, 7, 9, 10, 1, 2, 4, 1, 2, 3, 4, 5, 6, 6, 8, 1, 2, 3, 4, 9, 4, 6, 10, 1, 3, 4, 5, 6, 7, 8, 9, 10, 1, 3, 5, 6, 7, 8, 9, 10, 8, 1, 2, 3, 5, 7, 8, 5, 1, 2, 3, 4, 5, 1, 2, 3, 4, 5, 7, 8, 10, 1, 2, 3, 4, 5, 6, 7, 8, 9, 10, 1, 2, 4, 6, 7, 9, 10, 1, 2, 3, 4, 5, 6, 7, 8, 1, 2, 3, 4, 5, 6, 7, 10, 7, 1, 3, 4, 5, 8, 1, 2, 3, 4, 5, 6, 7, 9, 10, 2, 3, 4, 5, 9, 2, 4, 2, 4, 2, 4, 3, 1, 2, 3, 4, 5, 8, 9, 10, 1, 3, 5, 7, 8, 10, 1, 2, 4, 5, 6, 7, 8, 10, 9, 5, 1, 2, 3, 4, 5, 6, 7, 8, 9, 10, 9, 3, 4, 9, 10, 2, 3, 4, 5, 6, 7, 5, 7, 6, 7, 1, 2, 3, 5, 6, 7, 8, 9, 2, 10, 9, 2, 2, 5, 9, 2, 10, 3, 3, 5, 8, 9, 8, 8, 1, 2, 4, 5, 7, 8, 6, 10, 6, 3, 4, 2, 3, 4, 6, 6, 8, 8, 3, 3, 3, 3, 8, 3, 8, 3, 3, 8, 8, 2, 3, 9, 10, 5, 7, 1, 3, 4, 5, 9, 8, 1, 6, 9, 10, 1, 4, 5, 8, 9, 1, 2, 3, 4, 5, 6, 7, 9, 10, 2, 3, 4, 1, 8, 1, 2, 3, 5, 6, 7, 8, 9, 10, 1, 2, 9, 1, 1, 4, 5, 9, 5, 6, 9, 1, 3, 6, 10, 3, 5, 8, 9, 5, 7, 8, 8], \"Freq\": [0.9962685704231262, 0.9965358376502991, 0.999071478843689, 0.9988830089569092, 0.9990243911743164, 0.9981739521026611, 0.9897295832633972, 0.05295417457818985, 0.9327155947685242, 0.013238543644547462, 0.9982089996337891, 0.9868496060371399, 0.9939037561416626, 0.9866147041320801, 0.012130508199334145, 0.9995548725128174, 0.9959763884544373, 0.9925447702407837, 0.9990151524543762, 0.12006712704896927, 0.0012160317273810506, 0.40602657198905945, 0.19501307606697083, 0.1733805239200592, 0.1042587161064148, 0.9912814497947693, 0.9952070713043213, 0.9975858330726624, 0.8606536984443665, 0.10965059697628021, 0.02896430715918541, 0.998033881187439, 0.1276526302099228, 0.0021474272944033146, 0.8699466586112976, 0.9998942017555237, 0.998813271522522, 0.9982314109802246, 0.3023792803287506, 0.6974024772644043, 0.12425515800714493, 0.21981434524059296, 0.4459563195705414, 0.018942562863230705, 0.16750063002109528, 0.012332817539572716, 0.008262181654572487, 0.0029421427752822638, 0.99680495262146, 0.0024730779696255922, 0.0006182694924063981, 0.00720054330304265, 0.00024829458561725914, 0.3406601846218109, 0.002731240587309003, 0.14401087164878845, 0.03774077817797661, 0.10825644433498383, 0.10428372770547867, 0.019366977736353874, 0.2356315702199936, 0.9999052882194519, 0.6006964445114136, 0.39899587631225586, 0.9989535212516785, 0.0006147406529635191, 0.9992996454238892, 0.9995967149734497, 0.9982519745826721, 0.9971023201942444, 0.7706537842750549, 0.10832692682743073, 0.12069222331047058, 0.9995253682136536, 0.9996355175971985, 0.9985406398773193, 0.5616474747657776, 0.23252642154693604, 0.0618467815220356, 0.013986551202833652, 0.05769452452659607, 0.013112391345202923, 0.0487343892455101, 0.010489913634955883, 0.9918891787528992, 0.14943581819534302, 0.08655844628810883, 0.06614372134208679, 0.10795308649539948, 0.00016331783263012767, 0.05781451240181923, 0.4177669882774353, 0.11399584263563156, 0.04929351806640625, 0.9436187744140625, 0.2346566766500473, 0.15390393137931824, 0.01184300146996975, 0.021978408098220825, 0.05227445811033249, 0.0179572943598032, 0.19560231268405914, 0.23261858522891998, 0.07910023629665375, 0.0001101674570236355, 0.9996470808982849, 0.9955849051475525, 0.9983047842979431, 0.9972941279411316, 0.29283466935157776, 0.21380458772182465, 0.03175315633416176, 0.005786130670458078, 0.00014112514327280223, 0.008185258135199547, 0.2191673368215561, 0.06477644294500351, 0.024696899577975273, 0.13886713981628418, 0.9984615445137024, 0.9993155002593994, 0.8827354907989502, 0.11731839179992676, 0.9989166855812073, 0.9971497654914856, 0.9944000244140625, 0.14788104593753815, 0.7478201389312744, 0.10428924858570099, 0.05530708283185959, 0.8803043961524963, 0.0637567788362503, 0.0009128256933763623, 0.0021907815244048834, 0.37371084094047546, 0.07074399292469025, 0.5524420738220215, 0.278153657913208, 0.6573805809020996, 0.0642826035618782, 0.9989858865737915, 0.9975333213806152, 0.022358812391757965, 0.18310055136680603, 0.000604292203206569, 0.667742908000946, 0.12629707157611847, 0.2990366816520691, 0.27603384852409363, 0.032954394817352295, 0.0014682651963084936, 0.19658438861370087, 0.01946810819208622, 0.1126757562160492, 0.025939350947737694, 0.03583654761314392, 0.9968115091323853, 0.12293608486652374, 0.00014687703514937311, 0.03113793209195137, 0.1370362788438797, 0.6212899088859558, 0.001028139260597527, 0.08651057630777359, 0.2466743439435959, 0.381757915019989, 0.05638270452618599, 0.31480345129966736, 0.9977021217346191, 0.9972888231277466, 0.25483283400535583, 0.7449927926063538, 0.08185089379549026, 0.9178993105888367, 0.998971164226532, 0.998357892036438, 0.9990581274032593, 0.9996136426925659, 0.9996599555015564, 0.034782614558935165, 0.6853262186050415, 0.13369567692279816, 0.14565220475196838, 0.9979118704795837, 0.998655378818512, 0.08793657273054123, 0.9098052978515625, 0.9977184534072876, 0.17034780979156494, 0.8283579349517822, 0.06893268972635269, 0.194603830575943, 0.4530913233757019, 0.06406507641077042, 0.01826111599802971, 0.030304180458188057, 0.04622722789645195, 0.06885206699371338, 0.05566012114286423, 0.06644399464130402, 0.006644399370998144, 0.2597643733024597, 0.04619439318776131, 0.5378799438476562, 0.025311997160315514, 0.029741596430540085, 0.028159596025943756, 0.9968750476837158, 0.9993258714675903, 0.9982274770736694, 0.023989403620362282, 0.9732843637466431, 0.9969383478164673, 0.3175365626811981, 0.299877792596817, 0.002568546449765563, 0.0016053415602073073, 0.0003210683062206954, 0.0009632048895582557, 0.10659467428922653, 0.27098163962364197, 0.9977211356163025, 0.9980586171150208, 0.9977461695671082, 0.16605480015277863, 0.09306367486715317, 0.12013121694326401, 0.09975452721118927, 0.125909686088562, 0.33880043029785156, 0.04409880191087723, 0.012165185995399952, 0.999629020690918, 0.998935341835022, 0.9904072284698486, 0.9705170392990112, 0.029196051880717278, 0.308278352022171, 0.6916075348854065, 0.18078266084194183, 0.5651518702507019, 0.2159501016139984, 0.03764015808701515, 0.9921432137489319, 0.036592211574316025, 0.9631958603858948, 0.9969630837440491, 0.9990251660346985, 0.9957377314567566, 0.994740903377533, 0.9955849051475525, 0.9992996454238892, 0.9879332780838013, 0.9995275735855103, 0.9965975880622864, 0.9931995272636414, 0.9974660873413086, 0.0018714185571298003, 0.9945090413093567, 0.9934058785438538, 0.9944020509719849, 0.991278886795044, 0.9985464215278625, 0.9935346841812134, 0.8990821838378906, 0.09997793287038803, 0.9993085265159607, 0.5937265157699585, 0.13542579114437103, 0.27085158228874207, 0.9985854625701904, 0.9954738020896912, 0.9364475011825562, 0.059614695608615875, 0.9942184686660767, 0.9970303773880005, 0.9953371286392212, 0.9952393174171448, 0.9942870140075684, 0.6274948716163635, 0.23947329819202423, 0.1328328400850296, 0.9988802671432495, 0.23977486789226532, 0.4498293697834015, 0.11613809317350388, 0.00018289464060217142, 0.19405120611190796, 0.998498260974884, 0.9916825890541077, 0.9963375329971313, 0.9981976747512817, 0.9887885451316833, 0.9857248663902283, 0.9968064427375793, 0.9998344779014587, 0.99790358543396, 0.3078112304210663, 0.011499464511871338, 0.53592848777771, 0.05402074009180069, 0.0002674293937161565, 0.07274079322814941, 0.01791776902973652, 0.9966578483581543, 0.9905858635902405, 0.9825680255889893, 0.8951739072799683, 0.10418746620416641, 0.9910857677459717, 0.18954288959503174, 0.09644094854593277, 0.09357894212007523, 0.149865061044693, 0.20701846480369568, 0.0030354615300893784, 0.056372854858636856, 0.035037897527217865, 0.1339939385652542, 0.03508125990629196, 0.08394652605056763, 0.35292473435401917, 0.27279892563819885, 0.09464451670646667, 0.009715527296066284, 0.009497201070189476, 0.033185623586177826, 0.1101456955075264, 0.03296729549765587, 0.027066778391599655, 0.11607483774423599, 0.10371261090040207, 0.01001991331577301, 0.1448332965373993, 0.3715175688266754, 0.1098286584019661, 0.10137028992176056, 0.01548532024025917, 0.022136935964226723, 0.2652091681957245, 0.10547599196434021, 0.09950770437717438, 0.29439955949783325, 0.0002170287916669622, 0.09581821411848068, 0.07465790212154388, 0.03667786717414856, 0.005859777331352234, 0.8094333410263062, 0.10585654526948929, 0.08419287949800491, 0.3898125886917114, 0.30152520537376404, 0.2816317677497864, 0.026798587292432785, 0.2746727764606476, 0.13489846885204315, 0.4924606382846832, 0.023160278797149658, 0.07476300001144409, 0.445590078830719, 0.1089475080370903, 0.44287943840026855, 0.00010425598884467036, 0.0023978876415640116, 0.6555066108703613, 0.11764360219240189, 0.2263748049736023, 0.17011183500289917, 0.8294240832328796, 0.6506471037864685, 0.20261763036251068, 0.14628642797470093, 0.9978538751602173, 0.00018879937124438584, 0.25959911942481995, 0.06872297078371048, 0.1525498926639557, 0.058905404061079025, 0.45481768250465393, 0.0035871879663318396, 0.0013215955113992095, 0.9985640645027161, 0.9326093792915344, 0.006036306731402874, 0.0002743775839917362, 0.06091181933879852, 0.3384961187839508, 0.6608155965805054, 0.34248629212379456, 0.0025463663041591644, 0.06079449877142906, 0.018142860382795334, 0.47967177629470825, 0.05761153995990753, 0.03851379081606865, 0.00028899128665216267, 0.9997172355651855, 0.9988947510719299, 0.9993055462837219, 0.9870717525482178, 0.9952813386917114, 0.1504988968372345, 0.01525326631963253, 0.07338515669107437, 0.0896553099155426, 0.11117936670780182, 0.4560726583003998, 0.10389169305562973, 0.20433345437049866, 0.0014700248138979077, 0.7938134074211121, 0.9460649490356445, 0.05362311378121376, 0.08479762822389603, 0.09360353648662567, 0.20041592419147491, 0.000815361796412617, 0.064576655626297, 0.02185169607400894, 0.0004892170545645058, 0.028211519122123718, 0.4877494275569916, 0.01744874194264412, 0.9944254755973816, 0.9993881583213806, 0.9968231916427612, 0.9940060377120972, 0.9997859001159668, 0.0006483311299234629, 0.17569772899150848, 0.16532443463802338, 0.6580560803413391, 0.8075451850891113, 0.19060072302818298, 0.9940682053565979, 0.003240591613575816, 0.3237645626068115, 0.17234055697917938, 0.50022953748703, 0.0002945992455352098, 0.09518732130527496, 0.9047507643699646, 0.9984932541847229, 0.0024255316238850355, 0.13974793255329132, 0.857705295085907, 0.9841737151145935, 0.9952300786972046, 0.9993613958358765, 0.9970276951789856, 0.9998708963394165, 0.8103125691413879, 0.1891111433506012, 0.0003103230847045779, 0.00010344103066017851, 0.00020688206132035702, 0.5019993185997009, 0.10675114393234253, 0.030928868800401688, 0.1808149218559265, 0.0024825846776366234, 0.17647039890289307, 6.101339386077598e-05, 0.9331998825073242, 0.013056866824626923, 0.05369178578257561, 0.021488605067133904, 0.15959514677524567, 0.109857477247715, 0.12627573311328888, 0.495928019285202, 0.0016901149647310376, 0.011347915045917034, 0.04176998510956764, 0.03235362842679024, 0.12714283168315887, 0.30418580770492554, 0.011440696194767952, 0.024572312831878662, 0.017952539026737213, 0.04522312805056572, 0.13156799972057343, 0.2552570402622223, 0.03770392760634422, 0.044899336993694305, 0.00044537996291182935, 0.1557716429233551, 0.001224794890731573, 0.061017055064439774, 0.781530499458313, 0.006155608221888542, 6.995009607635438e-05, 0.2193634957075119, 0.0003497504803817719, 6.995009607635438e-05, 0.7739278674125671, 0.9985901117324829, 0.06368979811668396, 0.0006744759739376605, 0.38435494899749756, 0.13605143129825592, 0.1684262752532959, 0.0003854148380924016, 0.2464727908372879, 0.3175147473812103, 0.6279503107070923, 0.054273784160614014, 0.004367724061012268, 0.11730458587408066, 0.011855250224471092, 0.08860240131616592, 0.6620221734046936, 0.046173080801963806, 0.06988358497619629, 0.9980491399765015, 0.9962835311889648, 0.29453834891319275, 0.7044805884361267, 0.9976403117179871, 0.0002312415454071015, 0.000462483090814203, 0.7277171611785889, 0.12533292174339294, 0.1463758945465088, 0.9957672357559204, 0.4566201865673065, 0.002049996517598629, 0.22338348627090454, 0.05508538708090782, 0.008993532508611679, 0.11916431039571762, 0.1346384733915329, 6.612891593249515e-05, 0.739264726638794, 0.16978327929973602, 0.0901973694562912, 0.2724480628967285, 0.6842220425605774, 0.04316776618361473, 0.22153204679489136, 0.20725737512111664, 0.2061593234539032, 0.36482787132263184, 0.006135229952633381, 0.0007669037440791726, 0.7423628568649292, 0.2500106394290924, 0.0007669037440791726, 0.9939087629318237, 0.25447461009025574, 0.005333747714757919, 0.45526278018951416, 0.20477603375911713, 0.08010590821504593, 0.014689076691865921, 0.09670308977365494, 0.018361344933509827, 0.8703277707099915, 0.9998789429664612, 0.7817120552062988, 0.001169352326542139, 0.20609834790229797, 0.011108847334980965, 0.0001666169409872964, 0.9997016787528992, 8.33084704936482e-05, 0.6821010112762451, 0.13344796001911163, 0.16832639276981354, 0.0006065816269256175, 0.00485265301540494, 0.010615178383886814, 0.9408475160598755, 0.05882498621940613, 0.6961999535560608, 0.006704147905111313, 0.0015471110818907619, 0.0025785183534026146, 0.041256293654441833, 0.07271421700716019, 0.09540518373250961, 0.0840597003698349, 0.5457429885864258, 0.252719521522522, 0.0010578464716672897, 0.0010578464716672897, 0.04051551967859268, 0.022214775905013084, 0.022214775905013084, 0.0231668371707201, 0.07806906849145889, 0.013011511415243149, 0.8825174570083618, 0.11614576727151871, 0.9977625012397766, 0.0004210549232084304, 0.8555836081504822, 0.14357973635196686, 0.9991698861122131, 0.9933279752731323, 0.9974412322044373, 0.0025238720700144768, 0.9641191363334656, 0.03281033784151077, 0.9981886148452759, 0.9921424388885498, 0.994723916053772, 0.9880895018577576, 0.917341947555542, 0.08273658901453018, 0.9933257699012756, 0.42740097641944885, 0.09342624247074127, 0.11919069290161133, 0.18516695499420166, 0.17457222938537598, 0.9853971004486084, 0.9951747059822083, 0.9997397661209106, 0.9961971640586853, 0.9969942569732666, 0.8802265524864197, 0.11968880146741867, 0.9985013604164124, 0.2503495514392853, 0.26880213618278503, 0.08382853865623474, 0.014700117520987988, 0.26969724893569946, 0.07074646651744843, 0.021103447303175926, 0.00010327951167710125, 0.020690329372882843, 0.06433918327093124, 0.366413950920105, 0.030116213485598564, 0.5252085328102112, 0.013689188286662102, 0.0007504202076233923, 0.9980589151382446, 0.999176561832428, 0.998241662979126, 0.9994727969169617, 0.9960094094276428, 0.9979763627052307, 0.333964079618454, 0.0963124930858612, 0.526790976524353, 0.04280555248260498, 0.33280709385871887, 0.1810702383518219, 0.4856303930282593, 0.9987136721611023, 0.9973350167274475, 0.13546304404735565, 0.32374849915504456, 0.481670618057251, 0.0024530531372874975, 0.05543900281190872, 0.0011992704821750522, 0.021180668845772743, 0.02795848250389099, 0.9508002400398254, 0.08044169098138809, 0.2380010336637497, 0.38536667823791504, 0.04520690068602562, 0.24841634929180145, 0.0022160245571285486, 0.9959384202957153, 0.9953556656837463, 0.9999357461929321, 0.043084610253572464, 0.0009666418773122132, 0.10254689306020737, 0.02935829572379589, 0.07785610109567642, 0.00022094672021921724, 0.4387725591659546, 0.21669349074363708, 0.07418286055326462, 0.016294820234179497, 0.055860165506601334, 0.04103183001279831, 0.7042443156242371, 0.19886218011379242, 0.03837335482239723, 0.0717414915561676, 0.07619057595729828, 0.15905477106571198, 0.005746734328567982, 0.22560566663742065, 0.1950182020664215, 0.18852995336055756, 0.001112271100282669, 0.03837335482239723, 0.9967290163040161, 0.9949505925178528, 0.9976593852043152, 0.9994834661483765, 0.07487944513559341, 0.15296800434589386, 0.0845068022608757, 0.03476545587182045, 0.025672951713204384, 0.5894082188606262, 0.036904867738485336, 0.6664881110191345, 0.043238744139671326, 0.006114569492638111, 0.2048380821943283, 0.0790526494383812, 0.9989219903945923, 0.9995695352554321, 0.9967391490936279, 0.03225778415799141, 0.10242383182048798, 0.01616465486586094, 0.21128492057323456, 0.21450354158878326, 0.0631565973162651, 0.17237530648708344, 0.18088677525520325, 0.00700945220887661, 0.03902500867843628, 0.06589222699403763, 0.015009618364274502, 0.24495697021484375, 0.07444770634174347, 0.21989090740680695, 0.11542396247386932, 0.06409107148647308, 0.0866054967045784, 0.07474789768457413, 0.9329416155815125, 0.06695228070020676, 0.0004895342281088233, 0.9990414977073669, 0.0003916273999493569, 0.27266302704811096, 0.6979659199714661, 0.029322924092411995, 0.9983099102973938, 0.8638087511062622, 0.1357308328151703, 0.9995883703231812, 0.9978710412979126, 0.9983609318733215, 0.9972267150878906, 0.923210084438324, 0.07626517862081528, 0.9870241284370422, 0.008431251160800457, 0.989828884601593, 0.9505816102027893, 0.04766928404569626, 0.09225396066904068, 0.9064317345619202, 0.9991841912269592, 0.10104598104953766, 0.14265315234661102, 0.7556159496307373, 0.9982037544250488, 0.9992923140525818, 0.9993874430656433, 0.9948055744171143, 0.993298351764679, 0.9973134398460388, 0.2432125061750412, 0.6957122087478638, 9.720723755890504e-05, 0.0609489381313324, 0.9985876679420471, 0.9960618615150452, 0.10723256319761276, 0.053047508001327515, 0.18500271439552307, 0.13426820933818817, 0.2936382591724396, 0.0007962814415805042, 0.03351965546607971, 0.0029576166998595, 0.171124666929245, 0.018390309065580368, 0.026782045140862465, 0.4291188716888428, 0.030474219471216202, 0.0002755354216787964, 0.050092343240976334, 0.11330017447471619, 0.3437580168247223, 0.005951565224677324, 0.0002755354216787964, 0.003246901324018836, 0.9237434267997742, 0.07224354892969131, 0.07215726375579834, 0.0007547831046395004, 0.8313181400299072, 0.0957065001130104, 0.16194018721580505, 0.017083285376429558, 0.8177355527877808, 0.0017941350815817714, 0.0014821115182712674, 0.2497623711824417, 0.7492871284484863, 0.45283034443855286, 0.5466369986534119, 0.1043897196650505, 0.13180774450302124, 0.25254765152931213, 0.5111322999000549, 0.9997684359550476, 0.0004213050415273756, 0.0931084156036377, 0.058140095323324203, 0.02612091228365898, 0.10659017413854599, 0.07752012461423874, 0.5755026936531067, 0.06235314533114433, 0.9953383207321167, 0.9991544485092163, 0.0843508243560791, 0.07756397873163223, 0.7814570665359497, 0.056233882904052734, 0.0005897858645766973, 0.14154860377311707, 0.8569588661193848, 0.0005897858645766973, 0.9973387122154236, 0.9986056089401245, 0.9970296025276184, 0.26473870873451233, 0.7350820302963257, 0.9860914945602417, 0.993504524230957, 0.006314647383987904, 0.9991644024848938, 0.9984268546104431, 0.3507850468158722, 0.6486523151397705, 0.31992170214653015, 0.6793655753135681, 0.9623122215270996, 0.03684026002883911, 0.5113217830657959, 0.06800831854343414, 0.18063585460186005, 0.2400081902742386, 0.987713634967804, 0.9993735551834106, 0.9932904243469238, 0.9556355476379395, 0.042338281869888306, 0.9969668388366699, 0.99553382396698, 0.021078037098050117, 7.835702126612887e-05, 0.08000251650810242, 0.000705213169567287, 0.11526317149400711, 0.003369351848959923, 0.5506147742271423, 0.1440201997756958, 0.04403664544224739, 0.040824007242918015, 0.9996189475059509, 0.20088517665863037, 0.3913908302783966, 0.009001713246107101, 0.09314017742872238, 0.07780051976442337, 0.21420402824878693, 0.007072774693369865, 0.006521649658679962, 0.4670133888721466, 0.5324695706367493, 0.8231296539306641, 0.0006092743715271354, 0.17608028650283813, 0.9963008165359497, 0.9994521737098694, 0.9450172185897827, 0.05429324507713318, 0.8036689162254333, 0.1953258365392685, 0.9958615303039551, 0.999673068523407, 0.22004203498363495, 0.7798488140106201, 0.9977138638496399, 0.33107948303222656, 0.004535335581749678, 0.6632928252220154, 0.0005563846789300442, 0.9992668628692627, 0.8226356506347656, 0.1772577166557312, 0.9972327947616577, 0.04764554277062416, 0.1053447350859642, 0.8287702202796936, 0.017484603449702263, 0.9983270168304443, 0.989918053150177, 0.009093735367059708, 0.9993197917938232, 0.05796569213271141, 0.9415890574455261, 0.9994121789932251, 0.9980628490447998, 0.9751371741294861, 0.9949716925621033, 0.022596275433897972, 0.7575132250785828, 0.031204380095005035, 0.15494589507579803, 0.033356405794620514, 0.9970348477363586, 0.003090481972321868, 0.21545074880123138, 0.16291256248950958, 0.0913899689912796, 0.0008829949074424803, 0.5260441899299622, 0.9996862411499023, 0.9962867498397827, 0.998245120048523, 0.9545785784721375, 0.045222945511341095, 0.10315601527690887, 0.00232183956541121, 0.0009950741659849882, 0.6517735123634338, 0.1064729318022728, 0.09784895181655884, 0.03714943304657936, 0.0003316913789603859, 0.999398946762085, 0.14967386424541473, 0.8500396609306335, 0.9922769069671631, 0.9933953881263733, 0.06389881670475006, 0.05044643580913544, 0.8844941854476929, 0.999805212020874, 0.09277783334255219, 0.9071610569953918, 0.2984435558319092, 0.7012379765510559, 0.8613603711128235, 0.0022533952724188566, 0.13633041083812714, 0.9987919330596924, 0.1210218071937561, 0.8786629438400269, 0.9985800385475159, 0.9939289093017578, 0.9998305439949036, 0.08346860110759735, 0.10641257464885712, 0.8038303256034851, 0.005933786742389202, 0.9967604875564575, 0.031481023877859116, 0.9077029228210449, 0.059963859617710114, 0.9971519708633423, 0.9975447654724121, 0.9839155077934265, 0.9474908113479614, 0.05142419785261154, 0.8308922648429871, 0.0614946074783802, 0.0443333238363266, 0.06435482203960419, 0.9918426871299744, 0.9985809922218323, 0.4393858015537262, 0.5597825050354004, 0.0004137342912144959, 0.9930408000946045, 0.9791435599327087, 0.01087937317788601, 0.10081114619970322, 0.035921212285757065, 0.0036693711299449205, 0.022981850430369377, 0.5117806792259216, 0.03128621727228165, 0.06952492892742157, 0.06855930387973785, 0.1266898661851883, 0.02858247049152851, 0.9955258965492249, 0.9955341815948486, 0.9908250570297241, 0.06252694129943848, 0.13850240409374237, 0.34512075781822205, 0.4123634099960327, 0.024975843727588654, 0.016592344269156456, 0.06689038127660751, 0.1652192324399948, 0.0006689038127660751, 0.0006689038127660751, 0.006020134314894676, 0.7605436444282532, 0.9983894228935242, 0.0004155696660745889, 0.0006233545136637986, 0.16186438500881195, 0.03906354680657387, 0.798101544380188, 0.9026273488998413, 0.09331674128770828, 0.0033933359663933516, 0.30718690156936646, 0.0570940300822258, 0.24215340614318848, 0.036428093910217285, 0.004319998435676098, 0.2702917754650116, 0.08149617910385132, 0.0010508103296160698, 0.0610915832221508, 0.7911432385444641, 0.14757752418518066, 0.9587499499320984, 0.038189202547073364, 0.9999505281448364, 0.9980903267860413, 0.008194789290428162, 0.21374742686748505, 0.7696273326873779, 0.008194789290428162, 0.15834635496139526, 0.0027042070869356394, 0.005408414173871279, 0.0033051420468837023, 0.12499446421861649, 0.08863789588212967, 0.10396174341440201, 0.09344537556171417, 0.21994218230247498, 0.199510395526886, 0.0036324786487966776, 0.1578110158443451, 0.008072175085544586, 0.10130579769611359, 0.2936253547668457, 0.4346866309642792, 0.0008072174969129264, 0.008020707406103611, 0.37246158719062805, 0.02706988714635372, 0.5464106798171997, 0.0005012942128814757, 0.026067297905683517, 0.019049180671572685, 0.3527088463306427, 0.6468728184700012, 0.9901151657104492, 0.9991034269332886, 0.9965599179267883, 0.9981548190116882, 0.9858325719833374, 0.08636321127414703, 0.9130510687828064, 0.9868363738059998, 0.9940561056137085, 0.940030574798584, 0.0004298265266697854, 0.05888623371720314, 0.0008596530533395708, 0.9994732141494751, 0.9944143891334534, 0.19995060563087463, 0.13239972293376923, 0.6528117060661316, 0.014050583355128765, 0.9985437393188477, 0.9949137568473816, 0.9969633221626282, 0.003006123472005129, 0.9950268864631653, 0.9962839484214783, 0.8186529874801636, 0.18032491207122803, 0.9794301986694336, 0.9807473421096802, 0.9864789843559265, 0.8988218903541565, 0.09545011073350906, 0.06543044000864029, 0.17517291009426117, 0.623298168182373, 0.03613322600722313, 0.0836191177368164, 0.016235537827014923, 0.00246742507442832, 0.10803797096014023, 0.25220608711242676, 0.08547865599393845, 0.5516457557678223, 0.9835895895957947, 0.016186857596039772, 0.9996592402458191, 0.8553410172462463, 0.06273520737886429, 0.08109673112630844, 0.9871126413345337, 0.9696589708328247, 0.03003709204494953, 0.9995001554489136, 0.9992603659629822, 0.9990596175193787, 0.17461024224758148, 0.8237495422363281, 0.9995299577713013, 0.9800591468811035, 0.16716358065605164, 0.5481703877449036, 0.28449347615242004, 0.11521601676940918, 0.09433311223983765, 0.0018002502620220184, 0.00012001668801531196, 0.10981526970863342, 0.35572946071624756, 0.12373720109462738, 0.17750467360019684, 0.02160300314426422, 0.04087798297405243, 0.09823901951313019, 0.006502281874418259, 0.06049850583076477, 0.42251190543174744, 0.34678077697753906, 2.2735252059646882e-05, 0.02453133650124073, 0.9985097646713257, 0.0019201984396204352, 0.9979545474052429, 0.20751641690731049, 0.48640477657318115, 0.048640478402376175, 0.0021998207084834576, 0.09410344064235687, 0.16083133220672607, 0.00385385868139565, 0.9942955374717712, 0.539566695690155, 0.4085775315761566, 0.00373285124078393, 0.0006787002203054726, 0.04716966673731804, 0.1971253603696823, 0.7203289270401001, 0.08213556557893753, 0.020810237154364586, 0.12278040498495102, 0.4721611738204956, 0.08324094861745834, 0.08879034966230392, 0.10890690982341766, 0.0439327247440815, 0.027053309604525566, 0.03237148001790047, 0.08804471790790558, 0.31392723321914673, 0.09496958553791046, 0.0008243887568823993, 0.1508631408214569, 0.3117838203907013, 0.03775700554251671, 0.0018136552534997463, 0.9969044327735901, 0.19726966321468353, 0.01068336982280016, 0.397148072719574, 0.31602898240089417, 0.06335486471652985, 0.015403928235173225, 0.9909908771514893, 0.15217271447181702, 0.3372231721878052, 0.4554624557495117, 0.05504761263728142, 0.00015081538003869355, 0.22173863649368286, 0.4098842442035675, 0.16077537834644318, 0.10006005316972733, 0.07928445190191269, 0.015494928695261478, 0.01259427797049284, 0.00014875132183078676, 0.518915057182312, 0.19045281410217285, 0.005083134397864342, 0.0023297700099647045, 0.022062215954065323, 0.06424517184495926, 0.06229193136096001, 0.1017921194434166, 0.03252264857292175, 0.00029416289180517197, 0.6854363679885864, 0.05089312046766281, 0.0003241600061301142, 0.09959816187620163, 0.0696943998336792, 0.0005672800471074879, 0.0935201644897461, 0.14780379831790924, 0.3257433772087097, 0.150785431265831, 0.16462871432304382, 0.15312813222408295, 0.01980656012892723, 0.03130714222788811, 0.006815160624682903, 0.2899881899356842, 0.33578866720199585, 0.06265503913164139, 0.01941939815878868, 0.04120006412267685, 0.22159284353256226, 0.029353009536862373, 0.9986979961395264, 0.9849526286125183, 0.001176430843770504, 0.00023528617748524994, 0.25481492280960083, 0.6811534762382507, 0.062350835651159286, 0.4364152252674103, 0.28178492188453674, 0.0019169043516740203, 0.0628744587302208, 0.04357762634754181, 0.09175582230091095, 0.0029392533469945192, 0.057379335165023804, 0.021469328552484512, 0.2753032147884369, 0.028803450986742973, 0.533360481262207, 0.017426539212465286, 0.14510077238082886, 0.349316269159317, 0.6506310105323792, 0.011982260271906853, 0.9869025349617004, 0.24514852464199066, 0.7545588612556458, 0.9908019304275513, 0.19459852576255798, 0.02683340013027191, 0.45560407638549805, 0.016460824757814407, 0.1193973571062088, 0.16629943251609802, 0.0022549075074493885, 0.018490241840481758, 0.3645216226577759, 0.013071147724986076, 0.057186271995306015, 0.24271486699581146, 0.2707361578941345, 0.051712729036808014, 0.15711401402950287, 0.01419307291507721, 0.001815392985008657, 0.15711401402950287, 0.0008251786348409951, 0.26224178075790405, 0.3429442346096039, 0.06353875249624252, 0.9953017234802246, 0.9869574308395386, 0.018994245678186417, 0.000203800926101394, 0.6354920268058777, 0.11286494880914688, 0.12908750772476196, 0.00028532129363156855, 0.060936473309993744, 0.00012228055857121944, 0.04137158766388893, 0.0006521629402413964, 0.9996494054794312, 0.3435155153274536, 0.0003157311584800482, 0.6516691446304321, 0.00410450529307127, 0.13291659951210022, 0.26040151715278625, 0.05176078900694847, 0.5546711683273315, 0.8294075727462769, 0.1699845939874649, 0.9764794111251831, 0.9982023239135742, 0.001499708741903305, 0.9983060956001282, 0.010740199126303196, 0.19571030139923096, 0.014320265501737595, 0.029237208887934685, 0.0202870424836874, 0.05429767444729805, 0.002386711072176695, 0.6730524897575378, 0.9949796795845032, 0.9958208203315735, 0.999139130115509, 0.9991474151611328, 0.8864959478378296, 0.09620886296033859, 0.01603480987250805, 0.9484230875968933, 0.047084834426641464, 0.9974597692489624, 0.13330566883087158, 0.0009257338242605329, 0.8572295308113098, 0.007405870594084263, 0.9971713423728943, 0.997816264629364, 0.016987349838018417, 0.523364782333374, 0.0012354436330497265, 0.41680780053138733, 0.04161900654435158, 7.72152270656079e-05, 0.9940282702445984, 0.005686660297214985, 0.996626079082489, 0.968711256980896, 0.029095567762851715, 0.025357361882925034, 0.7837193608283997, 0.1910647749900818, 0.9960577487945557, 0.9979487061500549, 0.9995720982551575, 0.9975432753562927, 0.999491274356842, 0.9976660013198853, 0.9991055727005005, 0.9976242184638977, 0.9974856376647949, 0.9517002105712891, 0.04791469871997833, 0.9973341226577759, 0.9989350438117981, 0.9989416599273682, 0.9971197247505188, 0.09351826459169388, 0.10279280692338943, 0.7342343330383301, 0.06917260587215424, 0.9992920756340027, 0.9894678592681885, 0.0021446228493005037, 0.9645440578460693, 0.015012359246611595, 0.0028594969771802425, 0.015191078186035156, 0.9980319738388062, 0.733910083770752, 0.21309548616409302, 0.049235060811042786, 0.003461840096861124, 0.613857626914978, 0.25504112243652344, 0.12664110958576202, 0.003078082576394081, 0.001319178263656795, 0.008039427921175957, 0.005415447987616062, 0.15107424557209015, 0.5189897418022156, 0.022722549736499786, 0.07659788429737091, 0.12355037033557892, 0.09357000887393951, 5.582935773418285e-05, 0.039481934159994125, 0.19837264716625214, 0.7617124915122986, 0.9917576313018799, 0.008216715417802334, 0.6543377041816711, 0.06965071707963943, 0.0037905152421444654, 0.02511216327548027, 0.001421443186700344, 0.005685772746801376, 0.0009476288105361164, 0.14119669795036316, 0.09807958453893661, 0.9987936615943909, 0.001100787310861051, 3.795818338403478e-05, 0.9959931373596191, 0.07053596526384354, 0.6516520977020264, 0.0884384959936142, 0.18940876424312592, 0.8883438110351562, 0.00014855246990919113, 0.11156290769577026, 0.7530298233032227, 0.06891469657421112, 0.0035004292149096727, 0.1743651181459427, 0.013337713666260242, 0.005491999443620443, 0.13573084771633148, 0.8449833393096924, 0.5077278017997742, 0.2733532190322876, 0.2187831550836563, 0.9977288246154785], \"Term\": [\"10th\", \"5th\", \"6th\", \"7th\", \"8th\", \"9th\", \"ab\", \"ability\", \"ability\", \"ability\", \"absolute\", \"accelerated\", \"accused\", \"act\", \"act\", \"acts\", \"ah\", \"alg\", \"algebra\", \"always\", \"always\", \"always\", \"always\", \"always\", \"always\", \"america\", \"american\", \"amounts\", \"angry\", \"angry\", \"angry\", \"annoyed\", \"annoying\", \"annoying\", \"annoying\", \"answer\", \"answered\", \"answering\", \"answers\", \"answers\", \"anything\", \"anything\", \"anything\", \"anything\", \"anything\", \"anything\", \"anything\", \"anything\", \"ap\", \"ap\", \"ap\", \"around\", \"around\", \"around\", \"around\", \"around\", \"around\", \"around\", \"around\", \"around\", \"around\", \"ask\", \"asked\", \"asked\", \"asking\", \"asking\", \"asks\", \"asleep\", \"assign\", \"assigning\", \"assignments\", \"assignments\", \"assignments\", \"assigns\", \"attention\", \"awake\", \"awful\", \"awful\", \"awful\", \"awful\", \"awful\", \"awful\", \"awful\", \"awful\", \"babies\", \"back\", \"back\", \"back\", \"back\", \"back\", \"back\", \"back\", \"back\", \"backs\", \"backs\", \"bad\", \"bad\", \"bad\", \"bad\", \"bad\", \"bad\", \"bad\", \"bad\", \"bad\", \"bad\", \"band\", \"baseball\", \"basketball\", \"behavior\", \"better\", \"better\", \"better\", \"better\", \"better\", \"better\", \"better\", \"better\", \"better\", \"better\", \"bias\", \"biased\", \"bio\", \"bio\", \"biology\", \"blah\", \"blamed\", \"book\", \"book\", \"book\", \"books\", \"books\", \"books\", \"boring\", \"boring\", \"boring\", \"boring\", \"boring\", \"busy\", \"busy\", \"busy\", \"calc\", \"calculus\", \"came\", \"came\", \"came\", \"came\", \"came\", \"cannot\", \"cannot\", \"cannot\", \"cannot\", \"cannot\", \"cannot\", \"cannot\", \"cannot\", \"cannot\", \"card\", \"care\", \"care\", \"care\", \"care\", \"care\", \"care\", \"care\", \"cares\", \"cares\", \"cares\", \"cares\", \"cell\", \"centered\", \"certain\", \"certain\", \"chapter\", \"chapter\", \"cheat\", \"checks\", \"chem\", \"chemistry\", \"child\", \"children\", \"children\", \"children\", \"children\", \"chinese\", \"choir\", \"chooses\", \"chooses\", \"chorus\", \"clarify\", \"clarify\", \"class\", \"class\", \"class\", \"class\", \"class\", \"class\", \"class\", \"class\", \"class\", \"classroom\", \"classroom\", \"classroom\", \"classroom\", \"classroom\", \"classroom\", \"classroom\", \"classroom\", \"classwork\", \"coach\", \"coaching\", \"code\", \"code\", \"collects\", \"college\", \"college\", \"college\", \"college\", \"college\", \"college\", \"college\", \"college\", \"comments\", \"communication\", \"comp\", \"completely\", \"completely\", \"completely\", \"completely\", \"completely\", \"completely\", \"completely\", \"completely\", \"computer\", \"concepts\", \"conclusions\", \"condescending\", \"condescending\", \"confused\", \"confused\", \"control\", \"control\", \"control\", \"control\", \"convey\", \"cool\", \"cool\", \"copied\", \"copy\", \"copying\", \"corny\", \"creativity\", \"credit\", \"curses\", \"cuz\", \"da\", \"dark\", \"dates\", \"dates\", \"de\", \"dealing\", \"debate\", \"definitions\", \"describe\", \"design\", \"desk\", \"desk\", \"detention\", \"difficult\", \"difficult\", \"difficult\", \"director\", \"disagree\", \"distracted\", \"distracted\", \"doctor\", \"draw\", \"dreaded\", \"dress\", \"ds\", \"due\", \"due\", \"due\", \"easiest\", \"easy\", \"easy\", \"easy\", \"easy\", \"easy\", \"ed\", \"eighth\", \"elective\", \"elementary\", \"embarass\", \"embarrasses\", \"emotional\", \"english\", \"entertaining\", \"entire\", \"entire\", \"entire\", \"entire\", \"entire\", \"entire\", \"entire\", \"environment\", \"environmental\", \"equation\", \"essays\", \"essays\", \"euro\", \"even\", \"even\", \"even\", \"even\", \"even\", \"even\", \"even\", \"even\", \"even\", \"even\", \"every\", \"every\", \"every\", \"every\", \"every\", \"every\", \"every\", \"every\", \"every\", \"everyone\", \"everyone\", \"everyone\", \"everyone\", \"everyone\", \"everyone\", \"everyone\", \"everyone\", \"everyone\", \"everything\", \"everything\", \"everything\", \"everything\", \"everything\", \"everything\", \"everything\", \"everything\", \"everything\", \"everything\", \"exam\", \"exam\", \"exam\", \"expects\", \"expects\", \"expects\", \"expects\", \"experience\", \"experience\", \"experience\", \"experience\", \"experience\", \"explain\", \"explain\", \"explain\", \"explain\", \"explain\", \"explaining\", \"explaining\", \"explaining\", \"explains\", \"explains\", \"extra\", \"extra\", \"extra\", \"extreme\", \"extremely\", \"extremely\", \"extremely\", \"extremely\", \"extremely\", \"extremely\", \"extremely\", \"extremely\", \"fall\", \"far\", \"far\", \"far\", \"far\", \"fast\", \"fast\", \"favorite\", \"favorite\", \"favorite\", \"favorite\", \"favorite\", \"favorite\", \"favorite\", \"favorites\", \"favorites\", \"favoritism\", \"favors\", \"favourites\", \"favs\", \"feel\", \"feel\", \"feel\", \"feel\", \"feel\", \"feel\", \"feel\", \"figure\", \"figure\", \"figure\", \"fired\", \"fired\", \"first\", \"first\", \"first\", \"first\", \"first\", \"first\", \"first\", \"first\", \"first\", \"first\", \"fluent\", \"football\", \"foreign\", \"format\", \"french\", \"friend\", \"friend\", \"friend\", \"friend\", \"frustrated\", \"frustrated\", \"fs\", \"fun\", \"fun\", \"fun\", \"fun\", \"fun\", \"funny\", \"funny\", \"game\", \"gave\", \"gave\", \"gave\", \"geniuses\", \"geography\", \"geometry\", \"german\", \"gets\", \"girls\", \"girls\", \"give\", \"give\", \"give\", \"give\", \"give\", \"give\", \"give\", \"give\", \"give\", \"gives\", \"gives\", \"gives\", \"gives\", \"goes\", \"goes\", \"goes\", \"goes\", \"goes\", \"goes\", \"goes\", \"goes\", \"goes\", \"good\", \"good\", \"good\", \"good\", \"good\", \"good\", \"good\", \"good\", \"good\", \"good\", \"got\", \"got\", \"got\", \"got\", \"got\", \"grade\", \"grade\", \"grade\", \"grade\", \"grade\", \"grade\", \"graders\", \"grades\", \"grades\", \"grades\", \"grades\", \"grades\", \"grades\", \"grades\", \"grading\", \"grading\", \"grading\", \"guess\", \"guess\", \"guess\", \"guess\", \"guess\", \"guess\", \"guess\", \"guides\", \"gum\", \"gym\", \"gym\", \"ha\", \"half\", \"half\", \"half\", \"half\", \"half\", \"handouts\", \"hard\", \"hard\", \"hard\", \"hard\", \"hard\", \"hard\", \"hard\", \"hard\", \"harder\", \"harder\", \"harder\", \"hate\", \"hate\", \"hate\", \"hated\", \"hated\", \"hated\", \"hated\", \"hates\", \"hates\", \"hates\", \"hates\", \"hates\", \"hav\", \"help\", \"help\", \"help\", \"help\", \"help\", \"helped\", \"helped\", \"helped\", \"helped\", \"high\", \"history\", \"history\", \"history\", \"history\", \"homework\", \"homework\", \"homework\", \"honestly\", \"honestly\", \"honestly\", \"honestly\", \"honestly\", \"honestly\", \"honors\", \"honors\", \"hope\", \"hope\", \"hope\", \"hope\", \"hope\", \"hope\", \"hope\", \"hope\", \"horrible\", \"horrible\", \"horrible\", \"horrible\", \"horrible\", \"horrible\", \"horrible\", \"horrible\", \"horrible\", \"horrible\", \"hour\", \"hour\", \"husband\", \"hw\", \"hw\", \"hw\", \"ideas\", \"impress\", \"inappropriate\", \"ineffective\", \"ineffective\", \"ineffective\", \"instructor\", \"interrupts\", \"intimidated\", \"irritated\", \"issues\", \"issues\", \"japanese\", \"job\", \"job\", \"job\", \"job\", \"job\", \"jock\", \"jocks\", \"jokes\", \"jumps\", \"khan\", \"kids\", \"kids\", \"kno\", \"know\", \"know\", \"know\", \"know\", \"know\", \"know\", \"know\", \"know\", \"know\", \"knowledge\", \"knowledge\", \"knowledge\", \"knowledge\", \"knowledge\", \"lack\", \"lack\", \"lacks\", \"lame\", \"language\", \"languages\", \"laptop\", \"last\", \"last\", \"last\", \"last\", \"late\", \"late\", \"late\", \"laugh\", \"laziest\", \"learn\", \"learn\", \"learn\", \"learn\", \"learn\", \"learn\", \"learned\", \"learned\", \"learned\", \"learning\", \"learning\", \"learning\", \"learning\", \"learning\", \"learning\", \"letter\", \"lied\", \"life\", \"like\", \"like\", \"like\", \"like\", \"like\", \"like\", \"like\", \"like\", \"like\", \"like\", \"likes\", \"likes\", \"likes\", \"likes\", \"little\", \"little\", \"little\", \"little\", \"little\", \"little\", \"little\", \"little\", \"little\", \"little\", \"living\", \"load\", \"loads\", \"lol\", \"lost\", \"lost\", \"lost\", \"lost\", \"lost\", \"lost\", \"lost\", \"luck\", \"luck\", \"luck\", \"luck\", \"luck\", \"lunch\", \"mad\", \"madame\", \"makes\", \"makes\", \"makes\", \"makes\", \"makes\", \"makes\", \"makes\", \"makes\", \"makes\", \"many\", \"many\", \"many\", \"many\", \"many\", \"many\", \"many\", \"many\", \"many\", \"many\", \"material\", \"material\", \"math\", \"math\", \"math\", \"mean\", \"mean\", \"mean\", \"meanest\", \"met\", \"met\", \"middle\", \"min\", \"minded\", \"mine\", \"minutes\", \"minutes\", \"miserably\", \"missed\", \"missed\", \"mom\", \"mom\", \"money\", \"money\", \"monotone\", \"mood\", \"mood\", \"mood\", \"movie\", \"movies\", \"music\", \"nap\", \"native\", \"nd\", \"needs\", \"needs\", \"needs\", \"needs\", \"negative\", \"nerves\", \"never\", \"never\", \"never\", \"never\", \"never\", \"never\", \"never\", \"never\", \"never\", \"never\", \"nice\", \"nice\", \"nice\", \"nice\", \"nice\", \"nice\", \"nice\", \"nice\", \"nice\", \"night\", \"night\", \"night\", \"notes\", \"notes\", \"notes\", \"notes\", \"nothing\", \"nothing\", \"nothing\", \"nothing\", \"nothing\", \"obvious\", \"obvious\", \"office\", \"office\", \"often\", \"often\", \"often\", \"often\", \"ok\", \"okay\", \"okay\", \"okay\", \"okay\", \"okay\", \"okay\", \"okay\", \"okay\", \"olds\", \"omg\", \"ones\", \"ones\", \"ones\", \"ones\", \"opinion\", \"opinion\", \"opinion\", \"opinion\", \"opinionated\", \"opinions\", \"orchestra\", \"others\", \"others\", \"paced\", \"packet\", \"packet\", \"packets\", \"pages\", \"paper\", \"paper\", \"papers\", \"papers\", \"parent\", \"parent\", \"parents\", \"parents\", \"parents\", \"parents\", \"pauses\", \"pay\", \"paycheck\", \"paying\", \"paying\", \"pays\", \"pencil\", \"people\", \"people\", \"people\", \"people\", \"people\", \"people\", \"people\", \"people\", \"people\", \"people\", \"period\", \"person\", \"person\", \"person\", \"person\", \"person\", \"person\", \"person\", \"person\", \"personal\", \"personal\", \"phone\", \"phone\", \"phone\", \"photography\", \"physics\", \"pick\", \"pick\", \"picked\", \"picked\", \"picking\", \"picks\", \"play\", \"play\", \"players\", \"playing\", \"playing\", \"playing\", \"plays\", \"plays\", \"points\", \"points\", \"political\", \"poor\", \"poor\", \"poor\", \"poor\", \"pop\", \"popular\", \"popular\", \"possibly\", \"powerpoint\", \"powerpoint\", \"ppl\", \"pre\", \"precal\", \"precalc\", \"prepare\", \"prepare\", \"prepare\", \"prepare\", \"prepare\", \"presentations\", \"pretty\", \"pretty\", \"pretty\", \"pretty\", \"pretty\", \"pretty\", \"principal\", \"principle\", \"private\", \"probably\", \"probably\", \"problem\", \"problem\", \"problem\", \"problem\", \"problem\", \"problem\", \"problem\", \"problem\", \"program\", \"projects\", \"projects\", \"psych\", \"punishes\", \"quarter\", \"quarter\", \"quarter\", \"question\", \"questions\", \"questions\", \"quit\", \"quit\", \"quiz\", \"quiz\", \"quiz\", \"quizes\", \"quizzes\", \"quizzes\", \"raise\", \"raised\", \"read\", \"reading\", \"reading\", \"reading\", \"reading\", \"readings\", \"reads\", \"reads\", \"reads\", \"realy\", \"refused\", \"regent\", \"regents\", \"regents\", \"regular\", \"regular\", \"regular\", \"regular\", \"replies\", \"report\", \"respect\", \"respect\", \"respect\", \"responds\", \"reteach\", \"reteach\", \"right\", \"right\", \"right\", \"right\", \"right\", \"right\", \"right\", \"right\", \"right\", \"right\", \"rings\", \"role\", \"rolls\", \"rude\", \"rude\", \"rude\", \"rude\", \"rude\", \"rude\", \"run\", \"run\", \"run\", \"run\", \"run\", \"run\", \"running\", \"said\", \"said\", \"said\", \"said\", \"said\", \"save\", \"save\", \"save\", \"say\", \"say\", \"say\", \"say\", \"say\", \"say\", \"say\", \"say\", \"says\", \"says\", \"says\", \"scary\", \"scary\", \"school\", \"schools\", \"second\", \"second\", \"second\", \"second\", \"see\", \"see\", \"see\", \"see\", \"see\", \"see\", \"see\", \"see\", \"see\", \"see\", \"seems\", \"seems\", \"seems\", \"seems\", \"seems\", \"seems\", \"seems\", \"self\", \"self\", \"self\", \"self\", \"self\", \"self\", \"self\", \"semester\", \"semester\", \"semesters\", \"sent\", \"seventh\", \"sheets\", \"shoulder\", \"side\", \"side\", \"sidetracked\", \"singles\", \"sit\", \"sit\", \"sit\", \"sit\", \"sits\", \"sixth\", \"skills\", \"skills\", \"skills\", \"skills\", \"sleeping\", \"slept\", \"slide\", \"slides\", \"slides\", \"soccer\", \"social\", \"social\", \"solved\", \"solves\", \"solving\", \"somebody\", \"somebody\", \"something\", \"something\", \"something\", \"something\", \"something\", \"something\", \"sometimes\", \"sometimes\", \"sometimes\", \"sometimes\", \"sometimes\", \"spanish\", \"spanish\", \"speak\", \"speaking\", \"speaking\", \"speaking\", \"spells\", \"spend\", \"spend\", \"spends\", \"spent\", \"sports\", \"staff\", \"staff\", \"stand\", \"stat\", \"stop\", \"stop\", \"stop\", \"student\", \"student\", \"student\", \"student\", \"student\", \"student\", \"student\", \"student\", \"student\", \"students\", \"students\", \"students\", \"students\", \"students\", \"students\", \"students\", \"students\", \"studies\", \"study\", \"study\", \"subject\", \"subject\", \"subject\", \"subject\", \"subject\", \"subject\", \"swings\", \"swings\", \"switch\", \"switch\", \"switch\", \"switch\", \"switch\", \"system\", \"system\", \"system\", \"takes\", \"takes\", \"takes\", \"takes\", \"takes\", \"takes\", \"takes\", \"takes\", \"takes\", \"talk\", \"talk\", \"talk\", \"talk\", \"talk\", \"talk\", \"talk\", \"talk\", \"talkin\", \"talking\", \"talking\", \"talking\", \"talking\", \"talking\", \"talking\", \"tangent\", \"taught\", \"taught\", \"taught\", \"taught\", \"taught\", \"teach\", \"teach\", \"teach\", \"teach\", \"teach\", \"teach\", \"teach\", \"teach\", \"teacher\", \"teacher\", \"teacher\", \"teacher\", \"teacher\", \"teacher\", \"teacher\", \"teacher\", \"teacher\", \"teacher\", \"teachers\", \"teachers\", \"teachers\", \"teachers\", \"teachers\", \"teachers\", \"teachers\", \"teaches\", \"teaches\", \"teaches\", \"teaches\", \"teaches\", \"teaches\", \"teaches\", \"teaches\", \"teaching\", \"teaching\", \"teaching\", \"teaching\", \"teaching\", \"teaching\", \"teaching\", \"team\", \"teenager\", \"tells\", \"tells\", \"tells\", \"tells\", \"tells\", \"terrible\", \"terrible\", \"terrible\", \"terrible\", \"terrible\", \"terrible\", \"terrible\", \"terrible\", \"terrible\", \"test\", \"test\", \"test\", \"test\", \"test\", \"tests\", \"tests\", \"text\", \"text\", \"textbook\", \"textbook\", \"texting\", \"thing\", \"thing\", \"thing\", \"thing\", \"thing\", \"thing\", \"thing\", \"thing\", \"think\", \"think\", \"think\", \"think\", \"think\", \"think\", \"thinks\", \"thinks\", \"thinks\", \"thinks\", \"thinks\", \"thinks\", \"thinks\", \"thinks\", \"threw\", \"ticked\", \"time\", \"time\", \"time\", \"time\", \"time\", \"time\", \"time\", \"time\", \"time\", \"time\", \"told\", \"took\", \"took\", \"took\", \"took\", \"topic\", \"topic\", \"topic\", \"topic\", \"towards\", \"towards\", \"tracked\", \"treat\", \"treats\", \"treats\", \"tried\", \"tried\", \"tried\", \"tried\", \"tried\", \"tried\", \"tried\", \"tried\", \"trig\", \"trip\", \"turned\", \"tutor\", \"tutoring\", \"tutoring\", \"tutoring\", \"tutors\", \"tutors\", \"tv\", \"ugh\", \"ugh\", \"ugh\", \"ugh\", \"uh\", \"umm\", \"understand\", \"understand\", \"understand\", \"understand\", \"understand\", \"understand\", \"unprofessional\", \"unprofessional\", \"unwilling\", \"video\", \"video\", \"videos\", \"videos\", \"videos\", \"view\", \"views\", \"voice\", \"wanna\", \"waste\", \"wasted\", \"wastes\", \"wasting\", \"wat\", \"watch\", \"watch\", \"watched\", \"watching\", \"weird\", \"wen\", \"went\", \"went\", \"went\", \"went\", \"whenever\", \"whines\", \"whole\", \"whole\", \"whole\", \"whole\", \"whole\", \"wierd\", \"woman\", \"woman\", \"woman\", \"woman\", \"words\", \"words\", \"words\", \"words\", \"words\", \"work\", \"work\", \"work\", \"work\", \"work\", \"work\", \"work\", \"work\", \"work\", \"worksheets\", \"worksheets\", \"worksheets\", \"world\", \"world\", \"worse\", \"worse\", \"worse\", \"worse\", \"worse\", \"worse\", \"worse\", \"worse\", \"worse\", \"worst\", \"worst\", \"worst\", \"wrestling\", \"write\", \"write\", \"write\", \"write\", \"wrong\", \"wrong\", \"wrong\", \"years\", \"years\", \"years\", \"years\", \"yelled\", \"yelled\", \"yelled\", \"yelled\", \"yells\", \"yells\", \"yells\", \"yo\"]}, \"R\": 30, \"lambda.step\": 0.01, \"plot.opts\": {\"xlab\": \"PC1\", \"ylab\": \"PC2\"}, \"topic.order\": [1, 5, 2, 8, 3, 9, 4, 7, 6, 10]};\n",
       "\n",
       "function LDAvis_load_lib(url, callback){\n",
       "  var s = document.createElement('script');\n",
       "  s.src = url;\n",
       "  s.async = true;\n",
       "  s.onreadystatechange = s.onload = callback;\n",
       "  s.onerror = function(){console.warn(\"failed to load library \" + url);};\n",
       "  document.getElementsByTagName(\"head\")[0].appendChild(s);\n",
       "}\n",
       "\n",
       "if(typeof(LDAvis) !== \"undefined\"){\n",
       "   // already loaded: just create the visualization\n",
       "   !function(LDAvis){\n",
       "       new LDAvis(\"#\" + \"ldavis_el197831405802410450723393852723\", ldavis_el197831405802410450723393852723_data);\n",
       "   }(LDAvis);\n",
       "}else if(typeof define === \"function\" && define.amd){\n",
       "   // require.js is available: use it to load d3/LDAvis\n",
       "   require.config({paths: {d3: \"https://cdnjs.cloudflare.com/ajax/libs/d3/3.5.5/d3.min\"}});\n",
       "   require([\"d3\"], function(d3){\n",
       "      window.d3 = d3;\n",
       "      LDAvis_load_lib(\"https://cdn.rawgit.com/bmabey/pyLDAvis/files/ldavis.v1.0.0.js\", function(){\n",
       "        new LDAvis(\"#\" + \"ldavis_el197831405802410450723393852723\", ldavis_el197831405802410450723393852723_data);\n",
       "      });\n",
       "    });\n",
       "}else{\n",
       "    // require.js not available: dynamically load d3 & LDAvis\n",
       "    LDAvis_load_lib(\"https://cdnjs.cloudflare.com/ajax/libs/d3/3.5.5/d3.min.js\", function(){\n",
       "         LDAvis_load_lib(\"https://cdn.rawgit.com/bmabey/pyLDAvis/files/ldavis.v1.0.0.js\", function(){\n",
       "                 new LDAvis(\"#\" + \"ldavis_el197831405802410450723393852723\", ldavis_el197831405802410450723393852723_data);\n",
       "            })\n",
       "         });\n",
       "}\n",
       "</script>"
      ],
      "text/plain": [
       "<IPython.core.display.HTML object>"
      ]
     },
     "metadata": {},
     "output_type": "display_data"
    }
   ],
   "source": [
    "from IPython.core.display import display, HTML\n",
    "\n",
    "display(HTML('D:/Student_Voices_Database/s3mirror/graphs/LDAGraphs/Viz_[0, 35)_10_LDA1_D1.html'))"
   ]
  },
  {
   "cell_type": "markdown",
   "metadata": {},
   "source": [
    "**Display coherence for each topic**: "
   ]
  },
  {
   "cell_type": "code",
   "execution_count": 133,
   "metadata": {},
   "outputs": [],
   "source": [
    "from student_voices import review \n",
    "from importlib import reload\n",
    "review = reload(review)\n",
    "\n",
    "results_dir = 'D:/Student_Voices_Database/s3mirror/results'\n",
    "rng = '[0, 35)'\n",
    "config = 'D1'\n",
    "setting = 'LDA1'\n",
    "tn = 10\n",
    "\n",
    "model_info = review.get_topic_summary(results_dir, tn, rng, config, setting)\n",
    "#model_info"
   ]
  },
  {
   "cell_type": "markdown",
   "metadata": {},
   "source": [
    "*Discrepancy with pyLDAvis* - The way we assign topics and coherence outside of pyLDAvis is a bit diferent so there is a mismatch in the topic numbers preseted in the graph, and the topics presented in the table with their respective coherence scores. We can match them based on key-words."
   ]
  },
  {
   "cell_type": "code",
   "execution_count": 132,
   "metadata": {},
   "outputs": [
    {
     "data": {
      "text/html": [
       "<div>\n",
       "<style scoped>\n",
       "    .dataframe tbody tr th:only-of-type {\n",
       "        vertical-align: middle;\n",
       "    }\n",
       "\n",
       "    .dataframe tbody tr th {\n",
       "        vertical-align: top;\n",
       "    }\n",
       "\n",
       "    .dataframe thead th {\n",
       "        text-align: right;\n",
       "    }\n",
       "</style>\n",
       "<table border=\"1\" class=\"dataframe\">\n",
       "  <thead>\n",
       "    <tr style=\"text-align: right;\">\n",
       "      <th></th>\n",
       "      <th>Coherence</th>\n",
       "      <th>NumReviews</th>\n",
       "      <th>Descriptions</th>\n",
       "      <th>LDA_num</th>\n",
       "    </tr>\n",
       "    <tr>\n",
       "      <th>index</th>\n",
       "      <th></th>\n",
       "      <th></th>\n",
       "      <th></th>\n",
       "      <th></th>\n",
       "    </tr>\n",
       "  </thead>\n",
       "  <tbody>\n",
       "    <tr>\n",
       "      <td>8</td>\n",
       "      <td>0.582867</td>\n",
       "      <td>21006</td>\n",
       "      <td>topic 7 words:  gives  homework  tests  work  ...</td>\n",
       "      <td>4</td>\n",
       "    </tr>\n",
       "    <tr>\n",
       "      <td>3</td>\n",
       "      <td>0.573725</td>\n",
       "      <td>21373</td>\n",
       "      <td>topic 2 words:  ask  help  questions  gets  kn...</td>\n",
       "      <td>5</td>\n",
       "    </tr>\n",
       "    <tr>\n",
       "      <td>10</td>\n",
       "      <td>0.542457</td>\n",
       "      <td>8896</td>\n",
       "      <td>topic 9 words:  school  high  music  band  pla...</td>\n",
       "      <td>10</td>\n",
       "    </tr>\n",
       "    <tr>\n",
       "      <td>6</td>\n",
       "      <td>0.499568</td>\n",
       "      <td>14351</td>\n",
       "      <td>topic 5 words:  grade  got  class  gave  never...</td>\n",
       "      <td>9</td>\n",
       "    </tr>\n",
       "    <tr>\n",
       "      <td>2</td>\n",
       "      <td>0.491030</td>\n",
       "      <td>25504</td>\n",
       "      <td>topic 1 words:  class  time  anything  nothing...</td>\n",
       "      <td>3</td>\n",
       "    </tr>\n",
       "    <tr>\n",
       "      <td>9</td>\n",
       "      <td>0.490206</td>\n",
       "      <td>18485</td>\n",
       "      <td>topic 8 words:  students  teacher  teaching  c...</td>\n",
       "      <td>6</td>\n",
       "    </tr>\n",
       "    <tr>\n",
       "      <td>1</td>\n",
       "      <td>0.456751</td>\n",
       "      <td>28153</td>\n",
       "      <td>topic 0 words:  teacher  worst  teach  teacher...</td>\n",
       "      <td>1</td>\n",
       "    </tr>\n",
       "    <tr>\n",
       "      <td>5</td>\n",
       "      <td>0.452642</td>\n",
       "      <td>30284</td>\n",
       "      <td>topic 4 words:  class  teach  teacher  math  g...</td>\n",
       "      <td>2</td>\n",
       "    </tr>\n",
       "    <tr>\n",
       "      <td>4</td>\n",
       "      <td>0.407353</td>\n",
       "      <td>21333</td>\n",
       "      <td>topic 3 words:  like  students  kids  favorite...</td>\n",
       "      <td>7</td>\n",
       "    </tr>\n",
       "    <tr>\n",
       "      <td>7</td>\n",
       "      <td>0.383628</td>\n",
       "      <td>21839</td>\n",
       "      <td>topic 6 words:  mean  teacher  like  good  cla...</td>\n",
       "      <td>8</td>\n",
       "    </tr>\n",
       "  </tbody>\n",
       "</table>\n",
       "</div>"
      ],
      "text/plain": [
       "       Coherence  NumReviews                                       Descriptions  LDA_num\n",
       "index                                                                                   \n",
       "8       0.582867       21006  topic 7 words:  gives  homework  tests  work  ...        4\n",
       "3       0.573725       21373  topic 2 words:  ask  help  questions  gets  kn...        5\n",
       "10      0.542457        8896  topic 9 words:  school  high  music  band  pla...       10\n",
       "6       0.499568       14351  topic 5 words:  grade  got  class  gave  never...        9\n",
       "2       0.491030       25504  topic 1 words:  class  time  anything  nothing...        3\n",
       "9       0.490206       18485  topic 8 words:  students  teacher  teaching  c...        6\n",
       "1       0.456751       28153  topic 0 words:  teacher  worst  teach  teacher...        1\n",
       "5       0.452642       30284  topic 4 words:  class  teach  teacher  math  g...        2\n",
       "4       0.407353       21333  topic 3 words:  like  students  kids  favorite...        7\n",
       "7       0.383628       21839  topic 6 words:  mean  teacher  like  good  cla...        8"
      ]
     },
     "execution_count": 132,
     "metadata": {},
     "output_type": "execute_result"
    }
   ],
   "source": [
    "lda_idx = {1:1, 2:3, 3:5, 4:7, 5:2, 6:9, 7:8, 8:4, 9:6, 10:10}\n",
    "model_info['LDA_num'] = model_info.index.map(lda_idx)\n",
    "model_info.sort_values('Coherence',ascending=False)"
   ]
  }
 ],
 "metadata": {
  "kernelspec": {
   "display_name": "Python 3",
   "language": "python",
   "name": "python3"
  },
  "language_info": {
   "codemirror_mode": {
    "name": "ipython",
    "version": 3
   },
   "file_extension": ".py",
   "mimetype": "text/x-python",
   "name": "python",
   "nbconvert_exporter": "python",
   "pygments_lexer": "ipython3",
   "version": "3.7.4"
  }
 },
 "nbformat": 4,
 "nbformat_minor": 2
}
