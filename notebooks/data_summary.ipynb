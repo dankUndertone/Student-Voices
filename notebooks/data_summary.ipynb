{
 "cells": [
  {
   "cell_type": "code",
   "execution_count": 11,
   "metadata": {},
   "outputs": [
    {
     "name": "stdout",
     "output_type": "stream",
     "text": [
      "C:\\Projects\\VirtualMachines\\Student_Voices\\svvm\\Student_Voices\n"
     ]
    }
   ],
   "source": [
    "from importlib import reload\n",
    "import os, sys, path\n",
    "root = path.Path(os.getcwd()).parent\n",
    "sys.path.insert(0, root)\n",
    "print(root)"
   ]
  },
  {
   "cell_type": "markdown",
   "metadata": {},
   "source": [
    "# Data Summary \n",
    "\n",
    "This notebook describes distributions in the data. \n",
    "\n",
    "**Import the data and split it into bins**: "
   ]
  },
  {
   "cell_type": "code",
   "execution_count": 23,
   "metadata": {},
   "outputs": [],
   "source": [
    "from student_voices.sv_utils import loosen, decompress_pickle, full_value_count\n",
    "import pandas as pd  \n",
    "\n",
    "site_data = decompress_pickle('D:/Student_Voices/review_stats.pbz2')"
   ]
  },
  {
   "cell_type": "code",
   "execution_count": null,
   "metadata": {},
   "outputs": [],
   "source": [
    "# Change the ratings to a 0-100 measure\n",
    "site_data['Rating'] = ((site_data['Rating'] - site_data['Rating'].min())/ (site_data['Rating'].max()-site_data['Rating'].min()))*100\n",
    "\n",
    "# Use these preset levels to split the ratings into groups of similar size. \n",
    "site_data['Bins'] = pd.cut(site_data['Rating'], bins=[-1,35,58,65,75,85,95,101])"
   ]
  },
  {
   "cell_type": "code",
   "execution_count": 24,
   "metadata": {},
   "outputs": [
    {
     "data": {
      "text/plain": [
       "(-1, 35]      359387\n",
       "(35, 58]      309850\n",
       "(58, 65]      244504\n",
       "(65, 75]      248963\n",
       "(75, 85]      404741\n",
       "(85, 95]      593581\n",
       "(95, 101]    2702952\n",
       "Name: Bins, dtype: int64"
      ]
     },
     "execution_count": 24,
     "metadata": {},
     "output_type": "execute_result"
    }
   ],
   "source": [
    "site_data['Bins'].value_counts().sort_index()"
   ]
  },
  {
   "cell_type": "code",
   "execution_count": 31,
   "metadata": {},
   "outputs": [],
   "source": [
    "vc = site_data['Rating'].value_counts().sort_index(ascending=False)"
   ]
  },
  {
   "cell_type": "code",
   "execution_count": 32,
   "metadata": {},
   "outputs": [],
   "source": [
    "import pandas as pd \n",
    "\n",
    "ratings = pd.DataFrame(vc)\n",
    "ratings['P'] = ratings['Rating']/ratings['Rating'].sum()\n",
    "ratings['cumsum'] = ratings['P'].cumsum()"
   ]
  },
  {
   "cell_type": "code",
   "execution_count": 34,
   "metadata": {},
   "outputs": [
    {
     "data": {
      "text/plain": [
       "4863978"
      ]
     },
     "execution_count": 34,
     "metadata": {},
     "output_type": "execute_result"
    }
   ],
   "source": [
    "ratings['Rating'].sum()"
   ]
  },
  {
   "cell_type": "code",
   "execution_count": 33,
   "metadata": {},
   "outputs": [
    {
     "data": {
      "text/html": [
       "<div>\n",
       "<style scoped>\n",
       "    .dataframe tbody tr th:only-of-type {\n",
       "        vertical-align: middle;\n",
       "    }\n",
       "\n",
       "    .dataframe tbody tr th {\n",
       "        vertical-align: top;\n",
       "    }\n",
       "\n",
       "    .dataframe thead th {\n",
       "        text-align: right;\n",
       "    }\n",
       "</style>\n",
       "<table border=\"1\" class=\"dataframe\">\n",
       "  <thead>\n",
       "    <tr style=\"text-align: right;\">\n",
       "      <th></th>\n",
       "      <th>Rating</th>\n",
       "      <th>P</th>\n",
       "      <th>cumsum</th>\n",
       "    </tr>\n",
       "  </thead>\n",
       "  <tbody>\n",
       "    <tr>\n",
       "      <td>100.000000</td>\n",
       "      <td>2701661</td>\n",
       "      <td>0.555443</td>\n",
       "      <td>0.555443</td>\n",
       "    </tr>\n",
       "    <tr>\n",
       "      <td>96.363636</td>\n",
       "      <td>1291</td>\n",
       "      <td>0.000265</td>\n",
       "      <td>0.555708</td>\n",
       "    </tr>\n",
       "    <tr>\n",
       "      <td>93.636364</td>\n",
       "      <td>1053</td>\n",
       "      <td>0.000216</td>\n",
       "      <td>0.555925</td>\n",
       "    </tr>\n",
       "    <tr>\n",
       "      <td>92.727273</td>\n",
       "      <td>126465</td>\n",
       "      <td>0.026000</td>\n",
       "      <td>0.581925</td>\n",
       "    </tr>\n",
       "    <tr>\n",
       "      <td>90.909091</td>\n",
       "      <td>693</td>\n",
       "      <td>0.000142</td>\n",
       "      <td>0.582067</td>\n",
       "    </tr>\n",
       "    <tr>\n",
       "      <td>90.000000</td>\n",
       "      <td>381475</td>\n",
       "      <td>0.078429</td>\n",
       "      <td>0.660496</td>\n",
       "    </tr>\n",
       "    <tr>\n",
       "      <td>88.181818</td>\n",
       "      <td>806</td>\n",
       "      <td>0.000166</td>\n",
       "      <td>0.660662</td>\n",
       "    </tr>\n",
       "    <tr>\n",
       "      <td>86.363636</td>\n",
       "      <td>82777</td>\n",
       "      <td>0.017018</td>\n",
       "      <td>0.677680</td>\n",
       "    </tr>\n",
       "    <tr>\n",
       "      <td>85.454545</td>\n",
       "      <td>312</td>\n",
       "      <td>0.000064</td>\n",
       "      <td>0.677744</td>\n",
       "    </tr>\n",
       "    <tr>\n",
       "      <td>82.727273</td>\n",
       "      <td>249</td>\n",
       "      <td>0.000051</td>\n",
       "      <td>0.677795</td>\n",
       "    </tr>\n",
       "    <tr>\n",
       "      <td>80.000000</td>\n",
       "      <td>404346</td>\n",
       "      <td>0.083131</td>\n",
       "      <td>0.760926</td>\n",
       "    </tr>\n",
       "    <tr>\n",
       "      <td>76.363636</td>\n",
       "      <td>146</td>\n",
       "      <td>0.000030</td>\n",
       "      <td>0.760956</td>\n",
       "    </tr>\n",
       "    <tr>\n",
       "      <td>73.636364</td>\n",
       "      <td>98</td>\n",
       "      <td>0.000020</td>\n",
       "      <td>0.760976</td>\n",
       "    </tr>\n",
       "    <tr>\n",
       "      <td>72.727273</td>\n",
       "      <td>42174</td>\n",
       "      <td>0.008671</td>\n",
       "      <td>0.769647</td>\n",
       "    </tr>\n",
       "    <tr>\n",
       "      <td>70.909091</td>\n",
       "      <td>75</td>\n",
       "      <td>0.000015</td>\n",
       "      <td>0.769662</td>\n",
       "    </tr>\n",
       "    <tr>\n",
       "      <td>70.000000</td>\n",
       "      <td>180159</td>\n",
       "      <td>0.037039</td>\n",
       "      <td>0.806702</td>\n",
       "    </tr>\n",
       "    <tr>\n",
       "      <td>68.181818</td>\n",
       "      <td>77</td>\n",
       "      <td>0.000016</td>\n",
       "      <td>0.806718</td>\n",
       "    </tr>\n",
       "    <tr>\n",
       "      <td>66.363636</td>\n",
       "      <td>26287</td>\n",
       "      <td>0.005404</td>\n",
       "      <td>0.812122</td>\n",
       "    </tr>\n",
       "    <tr>\n",
       "      <td>65.454545</td>\n",
       "      <td>93</td>\n",
       "      <td>0.000019</td>\n",
       "      <td>0.812141</td>\n",
       "    </tr>\n",
       "    <tr>\n",
       "      <td>62.727273</td>\n",
       "      <td>71</td>\n",
       "      <td>0.000015</td>\n",
       "      <td>0.812156</td>\n",
       "    </tr>\n",
       "    <tr>\n",
       "      <td>60.000000</td>\n",
       "      <td>244433</td>\n",
       "      <td>0.050254</td>\n",
       "      <td>0.862410</td>\n",
       "    </tr>\n",
       "    <tr>\n",
       "      <td>56.363636</td>\n",
       "      <td>90</td>\n",
       "      <td>0.000019</td>\n",
       "      <td>0.862428</td>\n",
       "    </tr>\n",
       "    <tr>\n",
       "      <td>53.636364</td>\n",
       "      <td>94</td>\n",
       "      <td>0.000019</td>\n",
       "      <td>0.862447</td>\n",
       "    </tr>\n",
       "    <tr>\n",
       "      <td>52.727273</td>\n",
       "      <td>21446</td>\n",
       "      <td>0.004409</td>\n",
       "      <td>0.866857</td>\n",
       "    </tr>\n",
       "    <tr>\n",
       "      <td>50.909091</td>\n",
       "      <td>115</td>\n",
       "      <td>0.000024</td>\n",
       "      <td>0.866880</td>\n",
       "    </tr>\n",
       "    <tr>\n",
       "      <td>50.000000</td>\n",
       "      <td>113183</td>\n",
       "      <td>0.023270</td>\n",
       "      <td>0.890150</td>\n",
       "    </tr>\n",
       "    <tr>\n",
       "      <td>48.181818</td>\n",
       "      <td>139</td>\n",
       "      <td>0.000029</td>\n",
       "      <td>0.890178</td>\n",
       "    </tr>\n",
       "    <tr>\n",
       "      <td>46.363636</td>\n",
       "      <td>24543</td>\n",
       "      <td>0.005046</td>\n",
       "      <td>0.895224</td>\n",
       "    </tr>\n",
       "    <tr>\n",
       "      <td>45.454545</td>\n",
       "      <td>159</td>\n",
       "      <td>0.000033</td>\n",
       "      <td>0.895257</td>\n",
       "    </tr>\n",
       "    <tr>\n",
       "      <td>42.727273</td>\n",
       "      <td>215</td>\n",
       "      <td>0.000044</td>\n",
       "      <td>0.895301</td>\n",
       "    </tr>\n",
       "    <tr>\n",
       "      <td>40.000000</td>\n",
       "      <td>149580</td>\n",
       "      <td>0.030753</td>\n",
       "      <td>0.926054</td>\n",
       "    </tr>\n",
       "    <tr>\n",
       "      <td>36.363636</td>\n",
       "      <td>286</td>\n",
       "      <td>0.000059</td>\n",
       "      <td>0.926113</td>\n",
       "    </tr>\n",
       "    <tr>\n",
       "      <td>33.636364</td>\n",
       "      <td>311</td>\n",
       "      <td>0.000064</td>\n",
       "      <td>0.926176</td>\n",
       "    </tr>\n",
       "    <tr>\n",
       "      <td>32.727273</td>\n",
       "      <td>17507</td>\n",
       "      <td>0.003599</td>\n",
       "      <td>0.929776</td>\n",
       "    </tr>\n",
       "    <tr>\n",
       "      <td>30.909091</td>\n",
       "      <td>612</td>\n",
       "      <td>0.000126</td>\n",
       "      <td>0.929902</td>\n",
       "    </tr>\n",
       "    <tr>\n",
       "      <td>30.000000</td>\n",
       "      <td>91359</td>\n",
       "      <td>0.018783</td>\n",
       "      <td>0.948684</td>\n",
       "    </tr>\n",
       "    <tr>\n",
       "      <td>28.181818</td>\n",
       "      <td>493</td>\n",
       "      <td>0.000101</td>\n",
       "      <td>0.948786</td>\n",
       "    </tr>\n",
       "    <tr>\n",
       "      <td>26.363636</td>\n",
       "      <td>16148</td>\n",
       "      <td>0.003320</td>\n",
       "      <td>0.952106</td>\n",
       "    </tr>\n",
       "    <tr>\n",
       "      <td>25.454545</td>\n",
       "      <td>916</td>\n",
       "      <td>0.000188</td>\n",
       "      <td>0.952294</td>\n",
       "    </tr>\n",
       "    <tr>\n",
       "      <td>22.727273</td>\n",
       "      <td>581</td>\n",
       "      <td>0.000119</td>\n",
       "      <td>0.952413</td>\n",
       "    </tr>\n",
       "    <tr>\n",
       "      <td>20.000000</td>\n",
       "      <td>231277</td>\n",
       "      <td>0.047549</td>\n",
       "      <td>0.999962</td>\n",
       "    </tr>\n",
       "    <tr>\n",
       "      <td>0.000000</td>\n",
       "      <td>183</td>\n",
       "      <td>0.000038</td>\n",
       "      <td>1.000000</td>\n",
       "    </tr>\n",
       "  </tbody>\n",
       "</table>\n",
       "</div>"
      ],
      "text/plain": [
       "             Rating         P    cumsum\n",
       "100.000000  2701661  0.555443  0.555443\n",
       "96.363636      1291  0.000265  0.555708\n",
       "93.636364      1053  0.000216  0.555925\n",
       "92.727273    126465  0.026000  0.581925\n",
       "90.909091       693  0.000142  0.582067\n",
       "90.000000    381475  0.078429  0.660496\n",
       "88.181818       806  0.000166  0.660662\n",
       "86.363636     82777  0.017018  0.677680\n",
       "85.454545       312  0.000064  0.677744\n",
       "82.727273       249  0.000051  0.677795\n",
       "80.000000    404346  0.083131  0.760926\n",
       "76.363636       146  0.000030  0.760956\n",
       "73.636364        98  0.000020  0.760976\n",
       "72.727273     42174  0.008671  0.769647\n",
       "70.909091        75  0.000015  0.769662\n",
       "70.000000    180159  0.037039  0.806702\n",
       "68.181818        77  0.000016  0.806718\n",
       "66.363636     26287  0.005404  0.812122\n",
       "65.454545        93  0.000019  0.812141\n",
       "62.727273        71  0.000015  0.812156\n",
       "60.000000    244433  0.050254  0.862410\n",
       "56.363636        90  0.000019  0.862428\n",
       "53.636364        94  0.000019  0.862447\n",
       "52.727273     21446  0.004409  0.866857\n",
       "50.909091       115  0.000024  0.866880\n",
       "50.000000    113183  0.023270  0.890150\n",
       "48.181818       139  0.000029  0.890178\n",
       "46.363636     24543  0.005046  0.895224\n",
       "45.454545       159  0.000033  0.895257\n",
       "42.727273       215  0.000044  0.895301\n",
       "40.000000    149580  0.030753  0.926054\n",
       "36.363636       286  0.000059  0.926113\n",
       "33.636364       311  0.000064  0.926176\n",
       "32.727273     17507  0.003599  0.929776\n",
       "30.909091       612  0.000126  0.929902\n",
       "30.000000     91359  0.018783  0.948684\n",
       "28.181818       493  0.000101  0.948786\n",
       "26.363636     16148  0.003320  0.952106\n",
       "25.454545       916  0.000188  0.952294\n",
       "22.727273       581  0.000119  0.952413\n",
       "20.000000    231277  0.047549  0.999962\n",
       "0.000000        183  0.000038  1.000000"
      ]
     },
     "execution_count": 33,
     "metadata": {},
     "output_type": "execute_result"
    }
   ],
   "source": [
    "ratings"
   ]
  },
  {
   "cell_type": "code",
   "execution_count": null,
   "metadata": {},
   "outputs": [],
   "source": []
  },
  {
   "cell_type": "code",
   "execution_count": null,
   "metadata": {},
   "outputs": [],
   "source": []
  },
  {
   "cell_type": "markdown",
   "metadata": {},
   "source": [
    "**Remove reviews longer than 100 characters in length**: "
   ]
  },
  {
   "cell_type": "code",
   "execution_count": 3,
   "metadata": {},
   "outputs": [
    {
     "data": {
      "text/html": [
       "<div>\n",
       "<style scoped>\n",
       "    .dataframe tbody tr th:only-of-type {\n",
       "        vertical-align: middle;\n",
       "    }\n",
       "\n",
       "    .dataframe tbody tr th {\n",
       "        vertical-align: top;\n",
       "    }\n",
       "\n",
       "    .dataframe thead th {\n",
       "        text-align: right;\n",
       "    }\n",
       "</style>\n",
       "<table border=\"1\" class=\"dataframe\">\n",
       "  <thead>\n",
       "    <tr style=\"text-align: right;\">\n",
       "      <th></th>\n",
       "      <th>Bins_#</th>\n",
       "      <th>Bins_%</th>\n",
       "    </tr>\n",
       "  </thead>\n",
       "  <tbody>\n",
       "    <tr>\n",
       "      <td>(-1, 35]</td>\n",
       "      <td>359387</td>\n",
       "      <td>0.073887</td>\n",
       "    </tr>\n",
       "    <tr>\n",
       "      <td>(35, 58]</td>\n",
       "      <td>309850</td>\n",
       "      <td>0.063703</td>\n",
       "    </tr>\n",
       "    <tr>\n",
       "      <td>(58, 65]</td>\n",
       "      <td>244504</td>\n",
       "      <td>0.050268</td>\n",
       "    </tr>\n",
       "    <tr>\n",
       "      <td>(65, 75]</td>\n",
       "      <td>248963</td>\n",
       "      <td>0.051185</td>\n",
       "    </tr>\n",
       "    <tr>\n",
       "      <td>(75, 85]</td>\n",
       "      <td>404741</td>\n",
       "      <td>0.083212</td>\n",
       "    </tr>\n",
       "    <tr>\n",
       "      <td>(85, 95]</td>\n",
       "      <td>593581</td>\n",
       "      <td>0.122036</td>\n",
       "    </tr>\n",
       "    <tr>\n",
       "      <td>(95, 101]</td>\n",
       "      <td>2702952</td>\n",
       "      <td>0.555708</td>\n",
       "    </tr>\n",
       "  </tbody>\n",
       "</table>\n",
       "</div>"
      ],
      "text/plain": [
       "            Bins_#    Bins_%\n",
       "(-1, 35]    359387  0.073887\n",
       "(35, 58]    309850  0.063703\n",
       "(58, 65]    244504  0.050268\n",
       "(65, 75]    248963  0.051185\n",
       "(75, 85]    404741  0.083212\n",
       "(85, 95]    593581  0.122036\n",
       "(95, 101]  2702952  0.555708"
      ]
     },
     "execution_count": 3,
     "metadata": {},
     "output_type": "execute_result"
    }
   ],
   "source": [
    "full_value_count(site_data,'Bins')"
   ]
  },
  {
   "cell_type": "code",
   "execution_count": 4,
   "metadata": {},
   "outputs": [],
   "source": [
    "site_data = site_data[site_data['Review_Length']>=100]"
   ]
  },
  {
   "cell_type": "code",
   "execution_count": 5,
   "metadata": {},
   "outputs": [
    {
     "data": {
      "text/html": [
       "<div>\n",
       "<style scoped>\n",
       "    .dataframe tbody tr th:only-of-type {\n",
       "        vertical-align: middle;\n",
       "    }\n",
       "\n",
       "    .dataframe tbody tr th {\n",
       "        vertical-align: top;\n",
       "    }\n",
       "\n",
       "    .dataframe thead th {\n",
       "        text-align: right;\n",
       "    }\n",
       "</style>\n",
       "<table border=\"1\" class=\"dataframe\">\n",
       "  <thead>\n",
       "    <tr style=\"text-align: right;\">\n",
       "      <th></th>\n",
       "      <th>Bins_#</th>\n",
       "      <th>Bins_%</th>\n",
       "    </tr>\n",
       "  </thead>\n",
       "  <tbody>\n",
       "    <tr>\n",
       "      <td>(-1, 35]</td>\n",
       "      <td>212784</td>\n",
       "      <td>0.089773</td>\n",
       "    </tr>\n",
       "    <tr>\n",
       "      <td>(35, 58]</td>\n",
       "      <td>176430</td>\n",
       "      <td>0.074435</td>\n",
       "    </tr>\n",
       "    <tr>\n",
       "      <td>(58, 65]</td>\n",
       "      <td>118137</td>\n",
       "      <td>0.049842</td>\n",
       "    </tr>\n",
       "    <tr>\n",
       "      <td>(65, 75]</td>\n",
       "      <td>136812</td>\n",
       "      <td>0.057721</td>\n",
       "    </tr>\n",
       "    <tr>\n",
       "      <td>(75, 85]</td>\n",
       "      <td>192688</td>\n",
       "      <td>0.081294</td>\n",
       "    </tr>\n",
       "    <tr>\n",
       "      <td>(85, 95]</td>\n",
       "      <td>328942</td>\n",
       "      <td>0.138780</td>\n",
       "    </tr>\n",
       "    <tr>\n",
       "      <td>(95, 101]</td>\n",
       "      <td>1204455</td>\n",
       "      <td>0.508156</td>\n",
       "    </tr>\n",
       "  </tbody>\n",
       "</table>\n",
       "</div>"
      ],
      "text/plain": [
       "            Bins_#    Bins_%\n",
       "(-1, 35]    212784  0.089773\n",
       "(35, 58]    176430  0.074435\n",
       "(58, 65]    118137  0.049842\n",
       "(65, 75]    136812  0.057721\n",
       "(75, 85]    192688  0.081294\n",
       "(85, 95]    328942  0.138780\n",
       "(95, 101]  1204455  0.508156"
      ]
     },
     "execution_count": 5,
     "metadata": {},
     "output_type": "execute_result"
    }
   ],
   "source": [
    "full_value_count(site_data,'Bins')"
   ]
  },
  {
   "cell_type": "markdown",
   "metadata": {},
   "source": [
    "**Visualize the distribution of reviews by rating levels**:"
   ]
  },
  {
   "cell_type": "code",
   "execution_count": 78,
   "metadata": {
    "scrolled": false
   },
   "outputs": [
    {
     "data": {
      "application/vnd.plotly.v1+json": {
       "config": {
        "plotlyServerURL": "https://plot.ly"
       },
       "data": [
        {
         "line": {
          "color": "black",
          "width": 2
         },
         "name": "% of reviews",
         "type": "scatter",
         "x": [
          100,
          96.36363636363636,
          93.63636363636364,
          92.72727272727272,
          90.9090909090909,
          90,
          88.18181818181819,
          86.36363636363636,
          85.45454545454545,
          82.72727272727273,
          80,
          76.36363636363637,
          73.63636363636363,
          72.72727272727273,
          70.9090909090909,
          70,
          68.18181818181817,
          66.36363636363637,
          65.45454545454545,
          62.727272727272734,
          60,
          56.36363636363636,
          53.63636363636364,
          52.72727272727272,
          50.90909090909091,
          50,
          48.18181818181818,
          46.36363636363636,
          45.45454545454545,
          42.72727272727273,
          40,
          36.36363636363637,
          33.63636363636363,
          32.72727272727273,
          30.909090909090907,
          30,
          28.18181818181818,
          26.36363636363636,
          25.454545454545453,
          22.727272727272727,
          20,
          0
         ],
         "y": [
          0.5554426849792495,
          0.5557081055876487,
          0.5559245950536784,
          0.5819249182459297,
          0.5820673942192996,
          0.6604959973091985,
          0.6606617052955421,
          0.677680079967467,
          0.6777442249944388,
          0.677795417660195,
          0.7609261390573724,
          0.7609561556405066,
          0.7609763037579528,
          0.769646984423038,
          0.7696624039006754,
          0.8067018395231227,
          0.8067176701868305,
          0.8121220943022356,
          0.812141214454506,
          0.8121558115600028,
          0.862409533924701,
          0.8624280372978659,
          0.8624473630431715,
          0.8668565112753387,
          0.8668801544743827,
          0.890149790973561,
          0.8901783684054491,
          0.895224238267525,
          0.8952569275601163,
          0.895301130062677,
          0.9260537362627873,
          0.9261125358708447,
          0.9261764753047813,
          0.9297757925714302,
          0.9299016155089517,
          0.9486843896086701,
          0.9487857469750068,
          0.9521056633068653,
          0.9522939865270772,
          0.9524134360805085,
          0.9999623764745647,
          1
         ]
        },
        {
         "marker": {
          "color": "cornflowerblue"
         },
         "name": "(-1, 35]: 7.39%",
         "showlegend": true,
         "text": "7.39%",
         "type": "bar",
         "visible": true,
         "width": [
          0
         ],
         "x": [
          20
         ],
         "y": [
          0.07388746412915519
         ]
        },
        {
         "marker": {
          "color": "hotpink"
         },
         "name": "(35, 58]: 6.37%",
         "showlegend": true,
         "text": "6.37%",
         "type": "bar",
         "visible": true,
         "width": [
          0
         ],
         "x": [
          46.36363636363636
         ],
         "y": [
          0.06370300194614367
         ]
        },
        {
         "marker": {
          "color": "gold"
         },
         "name": "(58, 65]: 5.03%",
         "showlegend": true,
         "text": "5.03%",
         "type": "bar",
         "visible": true,
         "width": [
          0
         ],
         "x": [
          60
         ],
         "y": [
          0.05026831947019497
         ]
        },
        {
         "marker": {
          "color": "orange"
         },
         "name": "(65, 75]: 5.12%",
         "showlegend": true,
         "text": "5.12%",
         "type": "bar",
         "visible": true,
         "width": [
          0
         ],
         "x": [
          70
         ],
         "y": [
          0.05118505881399957
         ]
        },
        {
         "marker": {
          "color": "crimson"
         },
         "name": "(75, 85]: 8.32%",
         "showlegend": true,
         "text": "8.32%",
         "type": "bar",
         "visible": true,
         "width": [
          0
         ],
         "x": [
          80
         ],
         "y": [
          0.08321193064606788
         ]
        },
        {
         "marker": {
          "color": "grey"
         },
         "name": "(85, 95]: 12.20%",
         "showlegend": true,
         "text": "12.20%",
         "type": "bar",
         "visible": true,
         "width": [
          0
         ],
         "x": [
          90
         ],
         "y": [
          0.12203611940679009
         ]
        },
        {
         "marker": {
          "color": "violet"
         },
         "name": "(95, 101]: 55.57%",
         "showlegend": true,
         "text": "55.57%",
         "type": "bar",
         "visible": true,
         "width": [
          0
         ],
         "x": [
          100
         ],
         "y": [
          0.5557081055876486
         ]
        }
       ],
       "layout": {
        "shapes": [
         {
          "line": {
           "color": "cornflowerblue",
           "dash": "dashdot"
          },
          "name": "(-1, 35]",
          "type": "rect",
          "x0": 0,
          "x1": 33.63636363636363,
          "y0": 0,
          "y1": 1.1
         },
         {
          "line": {
           "color": "hotpink",
           "dash": "dashdot"
          },
          "name": "(35, 58]",
          "type": "rect",
          "x0": 36.36363636363637,
          "x1": 56.36363636363636,
          "y0": 0,
          "y1": 1.1
         },
         {
          "line": {
           "color": "gold",
           "dash": "dashdot"
          },
          "name": "(58, 65]",
          "type": "rect",
          "x0": 60,
          "x1": 62.727272727272734,
          "y0": 0,
          "y1": 1.1
         },
         {
          "line": {
           "color": "orange",
           "dash": "dashdot"
          },
          "name": "(65, 75]",
          "type": "rect",
          "x0": 65.45454545454545,
          "x1": 73.63636363636363,
          "y0": 0,
          "y1": 1.1
         },
         {
          "line": {
           "color": "crimson",
           "dash": "dashdot"
          },
          "name": "(75, 85]",
          "type": "rect",
          "x0": 76.36363636363637,
          "x1": 82.72727272727273,
          "y0": 0,
          "y1": 1.1
         },
         {
          "line": {
           "color": "grey",
           "dash": "dashdot"
          },
          "name": "(85, 95]",
          "type": "rect",
          "x0": 85.45454545454545,
          "x1": 93.63636363636364,
          "y0": 0,
          "y1": 1.1
         },
         {
          "line": {
           "color": "violet",
           "dash": "dashdot"
          },
          "name": "(95, 101]",
          "type": "rect",
          "x0": 96.36363636363636,
          "x1": 100,
          "y0": 0,
          "y1": 1.1
         }
        ],
        "showlegend": true,
        "template": {
         "data": {
          "bar": [
           {
            "error_x": {
             "color": "#2a3f5f"
            },
            "error_y": {
             "color": "#2a3f5f"
            },
            "marker": {
             "line": {
              "color": "#E5ECF6",
              "width": 0.5
             }
            },
            "type": "bar"
           }
          ],
          "barpolar": [
           {
            "marker": {
             "line": {
              "color": "#E5ECF6",
              "width": 0.5
             }
            },
            "type": "barpolar"
           }
          ],
          "carpet": [
           {
            "aaxis": {
             "endlinecolor": "#2a3f5f",
             "gridcolor": "white",
             "linecolor": "white",
             "minorgridcolor": "white",
             "startlinecolor": "#2a3f5f"
            },
            "baxis": {
             "endlinecolor": "#2a3f5f",
             "gridcolor": "white",
             "linecolor": "white",
             "minorgridcolor": "white",
             "startlinecolor": "#2a3f5f"
            },
            "type": "carpet"
           }
          ],
          "choropleth": [
           {
            "colorbar": {
             "outlinewidth": 0,
             "ticks": ""
            },
            "type": "choropleth"
           }
          ],
          "contour": [
           {
            "colorbar": {
             "outlinewidth": 0,
             "ticks": ""
            },
            "colorscale": [
             [
              0,
              "#0d0887"
             ],
             [
              0.1111111111111111,
              "#46039f"
             ],
             [
              0.2222222222222222,
              "#7201a8"
             ],
             [
              0.3333333333333333,
              "#9c179e"
             ],
             [
              0.4444444444444444,
              "#bd3786"
             ],
             [
              0.5555555555555556,
              "#d8576b"
             ],
             [
              0.6666666666666666,
              "#ed7953"
             ],
             [
              0.7777777777777778,
              "#fb9f3a"
             ],
             [
              0.8888888888888888,
              "#fdca26"
             ],
             [
              1,
              "#f0f921"
             ]
            ],
            "type": "contour"
           }
          ],
          "contourcarpet": [
           {
            "colorbar": {
             "outlinewidth": 0,
             "ticks": ""
            },
            "type": "contourcarpet"
           }
          ],
          "heatmap": [
           {
            "colorbar": {
             "outlinewidth": 0,
             "ticks": ""
            },
            "colorscale": [
             [
              0,
              "#0d0887"
             ],
             [
              0.1111111111111111,
              "#46039f"
             ],
             [
              0.2222222222222222,
              "#7201a8"
             ],
             [
              0.3333333333333333,
              "#9c179e"
             ],
             [
              0.4444444444444444,
              "#bd3786"
             ],
             [
              0.5555555555555556,
              "#d8576b"
             ],
             [
              0.6666666666666666,
              "#ed7953"
             ],
             [
              0.7777777777777778,
              "#fb9f3a"
             ],
             [
              0.8888888888888888,
              "#fdca26"
             ],
             [
              1,
              "#f0f921"
             ]
            ],
            "type": "heatmap"
           }
          ],
          "heatmapgl": [
           {
            "colorbar": {
             "outlinewidth": 0,
             "ticks": ""
            },
            "colorscale": [
             [
              0,
              "#0d0887"
             ],
             [
              0.1111111111111111,
              "#46039f"
             ],
             [
              0.2222222222222222,
              "#7201a8"
             ],
             [
              0.3333333333333333,
              "#9c179e"
             ],
             [
              0.4444444444444444,
              "#bd3786"
             ],
             [
              0.5555555555555556,
              "#d8576b"
             ],
             [
              0.6666666666666666,
              "#ed7953"
             ],
             [
              0.7777777777777778,
              "#fb9f3a"
             ],
             [
              0.8888888888888888,
              "#fdca26"
             ],
             [
              1,
              "#f0f921"
             ]
            ],
            "type": "heatmapgl"
           }
          ],
          "histogram": [
           {
            "marker": {
             "colorbar": {
              "outlinewidth": 0,
              "ticks": ""
             }
            },
            "type": "histogram"
           }
          ],
          "histogram2d": [
           {
            "colorbar": {
             "outlinewidth": 0,
             "ticks": ""
            },
            "colorscale": [
             [
              0,
              "#0d0887"
             ],
             [
              0.1111111111111111,
              "#46039f"
             ],
             [
              0.2222222222222222,
              "#7201a8"
             ],
             [
              0.3333333333333333,
              "#9c179e"
             ],
             [
              0.4444444444444444,
              "#bd3786"
             ],
             [
              0.5555555555555556,
              "#d8576b"
             ],
             [
              0.6666666666666666,
              "#ed7953"
             ],
             [
              0.7777777777777778,
              "#fb9f3a"
             ],
             [
              0.8888888888888888,
              "#fdca26"
             ],
             [
              1,
              "#f0f921"
             ]
            ],
            "type": "histogram2d"
           }
          ],
          "histogram2dcontour": [
           {
            "colorbar": {
             "outlinewidth": 0,
             "ticks": ""
            },
            "colorscale": [
             [
              0,
              "#0d0887"
             ],
             [
              0.1111111111111111,
              "#46039f"
             ],
             [
              0.2222222222222222,
              "#7201a8"
             ],
             [
              0.3333333333333333,
              "#9c179e"
             ],
             [
              0.4444444444444444,
              "#bd3786"
             ],
             [
              0.5555555555555556,
              "#d8576b"
             ],
             [
              0.6666666666666666,
              "#ed7953"
             ],
             [
              0.7777777777777778,
              "#fb9f3a"
             ],
             [
              0.8888888888888888,
              "#fdca26"
             ],
             [
              1,
              "#f0f921"
             ]
            ],
            "type": "histogram2dcontour"
           }
          ],
          "mesh3d": [
           {
            "colorbar": {
             "outlinewidth": 0,
             "ticks": ""
            },
            "type": "mesh3d"
           }
          ],
          "parcoords": [
           {
            "line": {
             "colorbar": {
              "outlinewidth": 0,
              "ticks": ""
             }
            },
            "type": "parcoords"
           }
          ],
          "pie": [
           {
            "automargin": true,
            "type": "pie"
           }
          ],
          "scatter": [
           {
            "marker": {
             "colorbar": {
              "outlinewidth": 0,
              "ticks": ""
             }
            },
            "type": "scatter"
           }
          ],
          "scatter3d": [
           {
            "line": {
             "colorbar": {
              "outlinewidth": 0,
              "ticks": ""
             }
            },
            "marker": {
             "colorbar": {
              "outlinewidth": 0,
              "ticks": ""
             }
            },
            "type": "scatter3d"
           }
          ],
          "scattercarpet": [
           {
            "marker": {
             "colorbar": {
              "outlinewidth": 0,
              "ticks": ""
             }
            },
            "type": "scattercarpet"
           }
          ],
          "scattergeo": [
           {
            "marker": {
             "colorbar": {
              "outlinewidth": 0,
              "ticks": ""
             }
            },
            "type": "scattergeo"
           }
          ],
          "scattergl": [
           {
            "marker": {
             "colorbar": {
              "outlinewidth": 0,
              "ticks": ""
             }
            },
            "type": "scattergl"
           }
          ],
          "scattermapbox": [
           {
            "marker": {
             "colorbar": {
              "outlinewidth": 0,
              "ticks": ""
             }
            },
            "type": "scattermapbox"
           }
          ],
          "scatterpolar": [
           {
            "marker": {
             "colorbar": {
              "outlinewidth": 0,
              "ticks": ""
             }
            },
            "type": "scatterpolar"
           }
          ],
          "scatterpolargl": [
           {
            "marker": {
             "colorbar": {
              "outlinewidth": 0,
              "ticks": ""
             }
            },
            "type": "scatterpolargl"
           }
          ],
          "scatterternary": [
           {
            "marker": {
             "colorbar": {
              "outlinewidth": 0,
              "ticks": ""
             }
            },
            "type": "scatterternary"
           }
          ],
          "surface": [
           {
            "colorbar": {
             "outlinewidth": 0,
             "ticks": ""
            },
            "colorscale": [
             [
              0,
              "#0d0887"
             ],
             [
              0.1111111111111111,
              "#46039f"
             ],
             [
              0.2222222222222222,
              "#7201a8"
             ],
             [
              0.3333333333333333,
              "#9c179e"
             ],
             [
              0.4444444444444444,
              "#bd3786"
             ],
             [
              0.5555555555555556,
              "#d8576b"
             ],
             [
              0.6666666666666666,
              "#ed7953"
             ],
             [
              0.7777777777777778,
              "#fb9f3a"
             ],
             [
              0.8888888888888888,
              "#fdca26"
             ],
             [
              1,
              "#f0f921"
             ]
            ],
            "type": "surface"
           }
          ],
          "table": [
           {
            "cells": {
             "fill": {
              "color": "#EBF0F8"
             },
             "line": {
              "color": "white"
             }
            },
            "header": {
             "fill": {
              "color": "#C8D4E3"
             },
             "line": {
              "color": "white"
             }
            },
            "type": "table"
           }
          ]
         },
         "layout": {
          "annotationdefaults": {
           "arrowcolor": "#2a3f5f",
           "arrowhead": 0,
           "arrowwidth": 1
          },
          "coloraxis": {
           "colorbar": {
            "outlinewidth": 0,
            "ticks": ""
           }
          },
          "colorscale": {
           "diverging": [
            [
             0,
             "#8e0152"
            ],
            [
             0.1,
             "#c51b7d"
            ],
            [
             0.2,
             "#de77ae"
            ],
            [
             0.3,
             "#f1b6da"
            ],
            [
             0.4,
             "#fde0ef"
            ],
            [
             0.5,
             "#f7f7f7"
            ],
            [
             0.6,
             "#e6f5d0"
            ],
            [
             0.7,
             "#b8e186"
            ],
            [
             0.8,
             "#7fbc41"
            ],
            [
             0.9,
             "#4d9221"
            ],
            [
             1,
             "#276419"
            ]
           ],
           "sequential": [
            [
             0,
             "#0d0887"
            ],
            [
             0.1111111111111111,
             "#46039f"
            ],
            [
             0.2222222222222222,
             "#7201a8"
            ],
            [
             0.3333333333333333,
             "#9c179e"
            ],
            [
             0.4444444444444444,
             "#bd3786"
            ],
            [
             0.5555555555555556,
             "#d8576b"
            ],
            [
             0.6666666666666666,
             "#ed7953"
            ],
            [
             0.7777777777777778,
             "#fb9f3a"
            ],
            [
             0.8888888888888888,
             "#fdca26"
            ],
            [
             1,
             "#f0f921"
            ]
           ],
           "sequentialminus": [
            [
             0,
             "#0d0887"
            ],
            [
             0.1111111111111111,
             "#46039f"
            ],
            [
             0.2222222222222222,
             "#7201a8"
            ],
            [
             0.3333333333333333,
             "#9c179e"
            ],
            [
             0.4444444444444444,
             "#bd3786"
            ],
            [
             0.5555555555555556,
             "#d8576b"
            ],
            [
             0.6666666666666666,
             "#ed7953"
            ],
            [
             0.7777777777777778,
             "#fb9f3a"
            ],
            [
             0.8888888888888888,
             "#fdca26"
            ],
            [
             1,
             "#f0f921"
            ]
           ]
          },
          "colorway": [
           "#636efa",
           "#EF553B",
           "#00cc96",
           "#ab63fa",
           "#FFA15A",
           "#19d3f3",
           "#FF6692",
           "#B6E880",
           "#FF97FF",
           "#FECB52"
          ],
          "font": {
           "color": "#2a3f5f"
          },
          "geo": {
           "bgcolor": "white",
           "lakecolor": "white",
           "landcolor": "#E5ECF6",
           "showlakes": true,
           "showland": true,
           "subunitcolor": "white"
          },
          "hoverlabel": {
           "align": "left"
          },
          "hovermode": "closest",
          "mapbox": {
           "style": "light"
          },
          "paper_bgcolor": "white",
          "plot_bgcolor": "#E5ECF6",
          "polar": {
           "angularaxis": {
            "gridcolor": "white",
            "linecolor": "white",
            "ticks": ""
           },
           "bgcolor": "#E5ECF6",
           "radialaxis": {
            "gridcolor": "white",
            "linecolor": "white",
            "ticks": ""
           }
          },
          "scene": {
           "xaxis": {
            "backgroundcolor": "#E5ECF6",
            "gridcolor": "white",
            "gridwidth": 2,
            "linecolor": "white",
            "showbackground": true,
            "ticks": "",
            "zerolinecolor": "white"
           },
           "yaxis": {
            "backgroundcolor": "#E5ECF6",
            "gridcolor": "white",
            "gridwidth": 2,
            "linecolor": "white",
            "showbackground": true,
            "ticks": "",
            "zerolinecolor": "white"
           },
           "zaxis": {
            "backgroundcolor": "#E5ECF6",
            "gridcolor": "white",
            "gridwidth": 2,
            "linecolor": "white",
            "showbackground": true,
            "ticks": "",
            "zerolinecolor": "white"
           }
          },
          "shapedefaults": {
           "line": {
            "color": "#2a3f5f"
           }
          },
          "ternary": {
           "aaxis": {
            "gridcolor": "white",
            "linecolor": "white",
            "ticks": ""
           },
           "baxis": {
            "gridcolor": "white",
            "linecolor": "white",
            "ticks": ""
           },
           "bgcolor": "#E5ECF6",
           "caxis": {
            "gridcolor": "white",
            "linecolor": "white",
            "ticks": ""
           }
          },
          "title": {
           "x": 0.05
          },
          "xaxis": {
           "automargin": true,
           "gridcolor": "white",
           "linecolor": "white",
           "ticks": "",
           "title": {
            "standoff": 15
           },
           "zerolinecolor": "white",
           "zerolinewidth": 2
          },
          "yaxis": {
           "automargin": true,
           "gridcolor": "white",
           "linecolor": "white",
           "ticks": "",
           "title": {
            "standoff": 15
           },
           "zerolinecolor": "white",
           "zerolinewidth": 2
          }
         }
        },
        "title": {
         "text": "Cumulative Distribution by Rating"
        },
        "xaxis": {
         "autorange": "reversed",
         "title": {
          "text": "Ratings in reverse order"
         }
        },
        "yaxis": {
         "title": {
          "text": "% of Reviews"
         }
        }
       }
      },
      "text/html": [
       "<div>\n",
       "        \n",
       "        \n",
       "            <div id=\"db75f426-f5b9-4993-8d57-684c893322b8\" class=\"plotly-graph-div\" style=\"height:525px; width:100%;\"></div>\n",
       "            <script type=\"text/javascript\">\n",
       "                require([\"plotly\"], function(Plotly) {\n",
       "                    window.PLOTLYENV=window.PLOTLYENV || {};\n",
       "                    \n",
       "                if (document.getElementById(\"db75f426-f5b9-4993-8d57-684c893322b8\")) {\n",
       "                    Plotly.newPlot(\n",
       "                        'db75f426-f5b9-4993-8d57-684c893322b8',\n",
       "                        [{\"line\": {\"color\": \"black\", \"width\": 2}, \"name\": \"% of reviews\", \"type\": \"scatter\", \"x\": [100.0, 96.36363636363636, 93.63636363636364, 92.72727272727272, 90.9090909090909, 90.0, 88.18181818181819, 86.36363636363636, 85.45454545454545, 82.72727272727273, 80.0, 76.36363636363637, 73.63636363636363, 72.72727272727273, 70.9090909090909, 70.0, 68.18181818181817, 66.36363636363637, 65.45454545454545, 62.727272727272734, 60.0, 56.36363636363636, 53.63636363636364, 52.72727272727272, 50.90909090909091, 50.0, 48.18181818181818, 46.36363636363636, 45.45454545454545, 42.72727272727273, 40.0, 36.36363636363637, 33.63636363636363, 32.72727272727273, 30.909090909090907, 30.0, 28.18181818181818, 26.36363636363636, 25.454545454545453, 22.727272727272727, 20.0, 0.0], \"y\": [0.5554426849792495, 0.5557081055876487, 0.5559245950536784, 0.5819249182459297, 0.5820673942192996, 0.6604959973091985, 0.6606617052955421, 0.677680079967467, 0.6777442249944388, 0.677795417660195, 0.7609261390573724, 0.7609561556405066, 0.7609763037579528, 0.769646984423038, 0.7696624039006754, 0.8067018395231227, 0.8067176701868305, 0.8121220943022356, 0.812141214454506, 0.8121558115600028, 0.862409533924701, 0.8624280372978659, 0.8624473630431715, 0.8668565112753387, 0.8668801544743827, 0.890149790973561, 0.8901783684054491, 0.895224238267525, 0.8952569275601163, 0.895301130062677, 0.9260537362627873, 0.9261125358708447, 0.9261764753047813, 0.9297757925714302, 0.9299016155089517, 0.9486843896086701, 0.9487857469750068, 0.9521056633068653, 0.9522939865270772, 0.9524134360805085, 0.9999623764745647, 1.0]}, {\"marker\": {\"color\": \"cornflowerblue\"}, \"name\": \"(-1, 35]: 7.39%\", \"showlegend\": true, \"text\": \"7.39%\", \"type\": \"bar\", \"visible\": true, \"width\": [0], \"x\": [20.0], \"y\": [0.07388746412915519]}, {\"marker\": {\"color\": \"hotpink\"}, \"name\": \"(35, 58]: 6.37%\", \"showlegend\": true, \"text\": \"6.37%\", \"type\": \"bar\", \"visible\": true, \"width\": [0], \"x\": [46.36363636363636], \"y\": [0.06370300194614367]}, {\"marker\": {\"color\": \"gold\"}, \"name\": \"(58, 65]: 5.03%\", \"showlegend\": true, \"text\": \"5.03%\", \"type\": \"bar\", \"visible\": true, \"width\": [0], \"x\": [60.0], \"y\": [0.05026831947019497]}, {\"marker\": {\"color\": \"orange\"}, \"name\": \"(65, 75]: 5.12%\", \"showlegend\": true, \"text\": \"5.12%\", \"type\": \"bar\", \"visible\": true, \"width\": [0], \"x\": [70.0], \"y\": [0.05118505881399957]}, {\"marker\": {\"color\": \"crimson\"}, \"name\": \"(75, 85]: 8.32%\", \"showlegend\": true, \"text\": \"8.32%\", \"type\": \"bar\", \"visible\": true, \"width\": [0], \"x\": [80.0], \"y\": [0.08321193064606788]}, {\"marker\": {\"color\": \"grey\"}, \"name\": \"(85, 95]: 12.20%\", \"showlegend\": true, \"text\": \"12.20%\", \"type\": \"bar\", \"visible\": true, \"width\": [0], \"x\": [90.0], \"y\": [0.12203611940679009]}, {\"marker\": {\"color\": \"violet\"}, \"name\": \"(95, 101]: 55.57%\", \"showlegend\": true, \"text\": \"55.57%\", \"type\": \"bar\", \"visible\": true, \"width\": [0], \"x\": [100.0], \"y\": [0.5557081055876486]}],\n",
       "                        {\"shapes\": [{\"line\": {\"color\": \"cornflowerblue\", \"dash\": \"dashdot\"}, \"name\": \"(-1, 35]\", \"type\": \"rect\", \"x0\": 0.0, \"x1\": 33.63636363636363, \"y0\": 0, \"y1\": 1.1}, {\"line\": {\"color\": \"hotpink\", \"dash\": \"dashdot\"}, \"name\": \"(35, 58]\", \"type\": \"rect\", \"x0\": 36.36363636363637, \"x1\": 56.36363636363636, \"y0\": 0, \"y1\": 1.1}, {\"line\": {\"color\": \"gold\", \"dash\": \"dashdot\"}, \"name\": \"(58, 65]\", \"type\": \"rect\", \"x0\": 60.0, \"x1\": 62.727272727272734, \"y0\": 0, \"y1\": 1.1}, {\"line\": {\"color\": \"orange\", \"dash\": \"dashdot\"}, \"name\": \"(65, 75]\", \"type\": \"rect\", \"x0\": 65.45454545454545, \"x1\": 73.63636363636363, \"y0\": 0, \"y1\": 1.1}, {\"line\": {\"color\": \"crimson\", \"dash\": \"dashdot\"}, \"name\": \"(75, 85]\", \"type\": \"rect\", \"x0\": 76.36363636363637, \"x1\": 82.72727272727273, \"y0\": 0, \"y1\": 1.1}, {\"line\": {\"color\": \"grey\", \"dash\": \"dashdot\"}, \"name\": \"(85, 95]\", \"type\": \"rect\", \"x0\": 85.45454545454545, \"x1\": 93.63636363636364, \"y0\": 0, \"y1\": 1.1}, {\"line\": {\"color\": \"violet\", \"dash\": \"dashdot\"}, \"name\": \"(95, 101]\", \"type\": \"rect\", \"x0\": 96.36363636363636, \"x1\": 100.0, \"y0\": 0, \"y1\": 1.1}], \"showlegend\": true, \"template\": {\"data\": {\"bar\": [{\"error_x\": {\"color\": \"#2a3f5f\"}, \"error_y\": {\"color\": \"#2a3f5f\"}, \"marker\": {\"line\": {\"color\": \"#E5ECF6\", \"width\": 0.5}}, \"type\": \"bar\"}], \"barpolar\": [{\"marker\": {\"line\": {\"color\": \"#E5ECF6\", \"width\": 0.5}}, \"type\": \"barpolar\"}], \"carpet\": [{\"aaxis\": {\"endlinecolor\": \"#2a3f5f\", \"gridcolor\": \"white\", \"linecolor\": \"white\", \"minorgridcolor\": \"white\", \"startlinecolor\": \"#2a3f5f\"}, \"baxis\": {\"endlinecolor\": \"#2a3f5f\", \"gridcolor\": \"white\", \"linecolor\": \"white\", \"minorgridcolor\": \"white\", \"startlinecolor\": \"#2a3f5f\"}, \"type\": \"carpet\"}], \"choropleth\": [{\"colorbar\": {\"outlinewidth\": 0, \"ticks\": \"\"}, \"type\": \"choropleth\"}], \"contour\": [{\"colorbar\": {\"outlinewidth\": 0, \"ticks\": \"\"}, \"colorscale\": [[0.0, \"#0d0887\"], [0.1111111111111111, \"#46039f\"], [0.2222222222222222, \"#7201a8\"], [0.3333333333333333, \"#9c179e\"], [0.4444444444444444, \"#bd3786\"], [0.5555555555555556, \"#d8576b\"], [0.6666666666666666, \"#ed7953\"], [0.7777777777777778, \"#fb9f3a\"], [0.8888888888888888, \"#fdca26\"], [1.0, \"#f0f921\"]], \"type\": \"contour\"}], \"contourcarpet\": [{\"colorbar\": {\"outlinewidth\": 0, \"ticks\": \"\"}, \"type\": \"contourcarpet\"}], \"heatmap\": [{\"colorbar\": {\"outlinewidth\": 0, \"ticks\": \"\"}, \"colorscale\": [[0.0, \"#0d0887\"], [0.1111111111111111, \"#46039f\"], [0.2222222222222222, \"#7201a8\"], [0.3333333333333333, \"#9c179e\"], [0.4444444444444444, \"#bd3786\"], [0.5555555555555556, \"#d8576b\"], [0.6666666666666666, \"#ed7953\"], [0.7777777777777778, \"#fb9f3a\"], [0.8888888888888888, \"#fdca26\"], [1.0, \"#f0f921\"]], \"type\": \"heatmap\"}], \"heatmapgl\": [{\"colorbar\": {\"outlinewidth\": 0, \"ticks\": \"\"}, \"colorscale\": [[0.0, \"#0d0887\"], [0.1111111111111111, \"#46039f\"], [0.2222222222222222, \"#7201a8\"], [0.3333333333333333, \"#9c179e\"], [0.4444444444444444, \"#bd3786\"], [0.5555555555555556, \"#d8576b\"], [0.6666666666666666, \"#ed7953\"], [0.7777777777777778, \"#fb9f3a\"], [0.8888888888888888, \"#fdca26\"], [1.0, \"#f0f921\"]], \"type\": \"heatmapgl\"}], \"histogram\": [{\"marker\": {\"colorbar\": {\"outlinewidth\": 0, \"ticks\": \"\"}}, \"type\": \"histogram\"}], \"histogram2d\": [{\"colorbar\": {\"outlinewidth\": 0, \"ticks\": \"\"}, \"colorscale\": [[0.0, \"#0d0887\"], [0.1111111111111111, \"#46039f\"], [0.2222222222222222, \"#7201a8\"], [0.3333333333333333, \"#9c179e\"], [0.4444444444444444, \"#bd3786\"], [0.5555555555555556, \"#d8576b\"], [0.6666666666666666, \"#ed7953\"], [0.7777777777777778, \"#fb9f3a\"], [0.8888888888888888, \"#fdca26\"], [1.0, \"#f0f921\"]], \"type\": \"histogram2d\"}], \"histogram2dcontour\": [{\"colorbar\": {\"outlinewidth\": 0, \"ticks\": \"\"}, \"colorscale\": [[0.0, \"#0d0887\"], [0.1111111111111111, \"#46039f\"], [0.2222222222222222, \"#7201a8\"], [0.3333333333333333, \"#9c179e\"], [0.4444444444444444, \"#bd3786\"], [0.5555555555555556, \"#d8576b\"], [0.6666666666666666, \"#ed7953\"], [0.7777777777777778, \"#fb9f3a\"], [0.8888888888888888, \"#fdca26\"], [1.0, \"#f0f921\"]], \"type\": \"histogram2dcontour\"}], \"mesh3d\": [{\"colorbar\": {\"outlinewidth\": 0, \"ticks\": \"\"}, \"type\": \"mesh3d\"}], \"parcoords\": [{\"line\": {\"colorbar\": {\"outlinewidth\": 0, \"ticks\": \"\"}}, \"type\": \"parcoords\"}], \"pie\": [{\"automargin\": true, \"type\": \"pie\"}], \"scatter\": [{\"marker\": {\"colorbar\": {\"outlinewidth\": 0, \"ticks\": \"\"}}, \"type\": \"scatter\"}], \"scatter3d\": [{\"line\": {\"colorbar\": {\"outlinewidth\": 0, \"ticks\": \"\"}}, \"marker\": {\"colorbar\": {\"outlinewidth\": 0, \"ticks\": \"\"}}, \"type\": \"scatter3d\"}], \"scattercarpet\": [{\"marker\": {\"colorbar\": {\"outlinewidth\": 0, \"ticks\": \"\"}}, \"type\": \"scattercarpet\"}], \"scattergeo\": [{\"marker\": {\"colorbar\": {\"outlinewidth\": 0, \"ticks\": \"\"}}, \"type\": \"scattergeo\"}], \"scattergl\": [{\"marker\": {\"colorbar\": {\"outlinewidth\": 0, \"ticks\": \"\"}}, \"type\": \"scattergl\"}], \"scattermapbox\": [{\"marker\": {\"colorbar\": {\"outlinewidth\": 0, \"ticks\": \"\"}}, \"type\": \"scattermapbox\"}], \"scatterpolar\": [{\"marker\": {\"colorbar\": {\"outlinewidth\": 0, \"ticks\": \"\"}}, \"type\": \"scatterpolar\"}], \"scatterpolargl\": [{\"marker\": {\"colorbar\": {\"outlinewidth\": 0, \"ticks\": \"\"}}, \"type\": \"scatterpolargl\"}], \"scatterternary\": [{\"marker\": {\"colorbar\": {\"outlinewidth\": 0, \"ticks\": \"\"}}, \"type\": \"scatterternary\"}], \"surface\": [{\"colorbar\": {\"outlinewidth\": 0, \"ticks\": \"\"}, \"colorscale\": [[0.0, \"#0d0887\"], [0.1111111111111111, \"#46039f\"], [0.2222222222222222, \"#7201a8\"], [0.3333333333333333, \"#9c179e\"], [0.4444444444444444, \"#bd3786\"], [0.5555555555555556, \"#d8576b\"], [0.6666666666666666, \"#ed7953\"], [0.7777777777777778, \"#fb9f3a\"], [0.8888888888888888, \"#fdca26\"], [1.0, \"#f0f921\"]], \"type\": \"surface\"}], \"table\": [{\"cells\": {\"fill\": {\"color\": \"#EBF0F8\"}, \"line\": {\"color\": \"white\"}}, \"header\": {\"fill\": {\"color\": \"#C8D4E3\"}, \"line\": {\"color\": \"white\"}}, \"type\": \"table\"}]}, \"layout\": {\"annotationdefaults\": {\"arrowcolor\": \"#2a3f5f\", \"arrowhead\": 0, \"arrowwidth\": 1}, \"coloraxis\": {\"colorbar\": {\"outlinewidth\": 0, \"ticks\": \"\"}}, \"colorscale\": {\"diverging\": [[0, \"#8e0152\"], [0.1, \"#c51b7d\"], [0.2, \"#de77ae\"], [0.3, \"#f1b6da\"], [0.4, \"#fde0ef\"], [0.5, \"#f7f7f7\"], [0.6, \"#e6f5d0\"], [0.7, \"#b8e186\"], [0.8, \"#7fbc41\"], [0.9, \"#4d9221\"], [1, \"#276419\"]], \"sequential\": [[0.0, \"#0d0887\"], [0.1111111111111111, \"#46039f\"], [0.2222222222222222, \"#7201a8\"], [0.3333333333333333, \"#9c179e\"], [0.4444444444444444, \"#bd3786\"], [0.5555555555555556, \"#d8576b\"], [0.6666666666666666, \"#ed7953\"], [0.7777777777777778, \"#fb9f3a\"], [0.8888888888888888, \"#fdca26\"], [1.0, \"#f0f921\"]], \"sequentialminus\": [[0.0, \"#0d0887\"], [0.1111111111111111, \"#46039f\"], [0.2222222222222222, \"#7201a8\"], [0.3333333333333333, \"#9c179e\"], [0.4444444444444444, \"#bd3786\"], [0.5555555555555556, \"#d8576b\"], [0.6666666666666666, \"#ed7953\"], [0.7777777777777778, \"#fb9f3a\"], [0.8888888888888888, \"#fdca26\"], [1.0, \"#f0f921\"]]}, \"colorway\": [\"#636efa\", \"#EF553B\", \"#00cc96\", \"#ab63fa\", \"#FFA15A\", \"#19d3f3\", \"#FF6692\", \"#B6E880\", \"#FF97FF\", \"#FECB52\"], \"font\": {\"color\": \"#2a3f5f\"}, \"geo\": {\"bgcolor\": \"white\", \"lakecolor\": \"white\", \"landcolor\": \"#E5ECF6\", \"showlakes\": true, \"showland\": true, \"subunitcolor\": \"white\"}, \"hoverlabel\": {\"align\": \"left\"}, \"hovermode\": \"closest\", \"mapbox\": {\"style\": \"light\"}, \"paper_bgcolor\": \"white\", \"plot_bgcolor\": \"#E5ECF6\", \"polar\": {\"angularaxis\": {\"gridcolor\": \"white\", \"linecolor\": \"white\", \"ticks\": \"\"}, \"bgcolor\": \"#E5ECF6\", \"radialaxis\": {\"gridcolor\": \"white\", \"linecolor\": \"white\", \"ticks\": \"\"}}, \"scene\": {\"xaxis\": {\"backgroundcolor\": \"#E5ECF6\", \"gridcolor\": \"white\", \"gridwidth\": 2, \"linecolor\": \"white\", \"showbackground\": true, \"ticks\": \"\", \"zerolinecolor\": \"white\"}, \"yaxis\": {\"backgroundcolor\": \"#E5ECF6\", \"gridcolor\": \"white\", \"gridwidth\": 2, \"linecolor\": \"white\", \"showbackground\": true, \"ticks\": \"\", \"zerolinecolor\": \"white\"}, \"zaxis\": {\"backgroundcolor\": \"#E5ECF6\", \"gridcolor\": \"white\", \"gridwidth\": 2, \"linecolor\": \"white\", \"showbackground\": true, \"ticks\": \"\", \"zerolinecolor\": \"white\"}}, \"shapedefaults\": {\"line\": {\"color\": \"#2a3f5f\"}}, \"ternary\": {\"aaxis\": {\"gridcolor\": \"white\", \"linecolor\": \"white\", \"ticks\": \"\"}, \"baxis\": {\"gridcolor\": \"white\", \"linecolor\": \"white\", \"ticks\": \"\"}, \"bgcolor\": \"#E5ECF6\", \"caxis\": {\"gridcolor\": \"white\", \"linecolor\": \"white\", \"ticks\": \"\"}}, \"title\": {\"x\": 0.05}, \"xaxis\": {\"automargin\": true, \"gridcolor\": \"white\", \"linecolor\": \"white\", \"ticks\": \"\", \"title\": {\"standoff\": 15}, \"zerolinecolor\": \"white\", \"zerolinewidth\": 2}, \"yaxis\": {\"automargin\": true, \"gridcolor\": \"white\", \"linecolor\": \"white\", \"ticks\": \"\", \"title\": {\"standoff\": 15}, \"zerolinecolor\": \"white\", \"zerolinewidth\": 2}}}, \"title\": {\"text\": \"Cumulative Distribution by Rating\"}, \"xaxis\": {\"autorange\": \"reversed\", \"title\": {\"text\": \"Ratings in reverse order\"}}, \"yaxis\": {\"title\": {\"text\": \"% of Reviews\"}}},\n",
       "                        {\"responsive\": true}\n",
       "                    ).then(function(){\n",
       "                            \n",
       "var gd = document.getElementById('db75f426-f5b9-4993-8d57-684c893322b8');\n",
       "var x = new MutationObserver(function (mutations, observer) {{\n",
       "        var display = window.getComputedStyle(gd).display;\n",
       "        if (!display || display === 'none') {{\n",
       "            console.log([gd, 'removed!']);\n",
       "            Plotly.purge(gd);\n",
       "            observer.disconnect();\n",
       "        }}\n",
       "}});\n",
       "\n",
       "// Listen for the removal of the full notebook cells\n",
       "var notebookContainer = gd.closest('#notebook-container');\n",
       "if (notebookContainer) {{\n",
       "    x.observe(notebookContainer, {childList: true});\n",
       "}}\n",
       "\n",
       "// Listen for the clearing of the current output cell\n",
       "var outputEl = gd.closest('.output');\n",
       "if (outputEl) {{\n",
       "    x.observe(outputEl, {childList: true});\n",
       "}}\n",
       "\n",
       "                        })\n",
       "                };\n",
       "                });\n",
       "            </script>\n",
       "        </div>"
      ]
     },
     "metadata": {},
     "output_type": "display_data"
    }
   ],
   "source": [
    "from student_voices import visuals\n",
    "\n",
    "fig = visuals.plot_cumulative_rating_dist(site_data)\n",
    "fig.show()"
   ]
  },
  {
   "cell_type": "code",
   "execution_count": 101,
   "metadata": {},
   "outputs": [
    {
     "data": {
      "application/vnd.plotly.v1+json": {
       "config": {
        "plotlyServerURL": "https://plot.ly"
       },
       "data": [
        {
         "marker": {
          "color": "black"
         },
         "text": [
          "55.57%",
          "12.20%",
          "8.32%",
          "5.12%",
          "5.03%",
          "6.37%",
          "7.39%"
         ],
         "type": "bar",
         "visible": true,
         "x": [
          "(95, 101]",
          "(85, 95]",
          "(75, 85]",
          "(65, 75]",
          "(58, 65]",
          "(35, 58]",
          "(-1, 35]"
         ],
         "y": [
          0.5557081055876486,
          0.12203611940679009,
          0.08321193064606788,
          0.05118505881399957,
          0.05026831947019497,
          0.06370300194614367,
          0.07388746412915519
         ]
        }
       ],
       "layout": {
        "showlegend": false,
        "template": {
         "data": {
          "bar": [
           {
            "error_x": {
             "color": "#2a3f5f"
            },
            "error_y": {
             "color": "#2a3f5f"
            },
            "marker": {
             "line": {
              "color": "#E5ECF6",
              "width": 0.5
             }
            },
            "type": "bar"
           }
          ],
          "barpolar": [
           {
            "marker": {
             "line": {
              "color": "#E5ECF6",
              "width": 0.5
             }
            },
            "type": "barpolar"
           }
          ],
          "carpet": [
           {
            "aaxis": {
             "endlinecolor": "#2a3f5f",
             "gridcolor": "white",
             "linecolor": "white",
             "minorgridcolor": "white",
             "startlinecolor": "#2a3f5f"
            },
            "baxis": {
             "endlinecolor": "#2a3f5f",
             "gridcolor": "white",
             "linecolor": "white",
             "minorgridcolor": "white",
             "startlinecolor": "#2a3f5f"
            },
            "type": "carpet"
           }
          ],
          "choropleth": [
           {
            "colorbar": {
             "outlinewidth": 0,
             "ticks": ""
            },
            "type": "choropleth"
           }
          ],
          "contour": [
           {
            "colorbar": {
             "outlinewidth": 0,
             "ticks": ""
            },
            "colorscale": [
             [
              0,
              "#0d0887"
             ],
             [
              0.1111111111111111,
              "#46039f"
             ],
             [
              0.2222222222222222,
              "#7201a8"
             ],
             [
              0.3333333333333333,
              "#9c179e"
             ],
             [
              0.4444444444444444,
              "#bd3786"
             ],
             [
              0.5555555555555556,
              "#d8576b"
             ],
             [
              0.6666666666666666,
              "#ed7953"
             ],
             [
              0.7777777777777778,
              "#fb9f3a"
             ],
             [
              0.8888888888888888,
              "#fdca26"
             ],
             [
              1,
              "#f0f921"
             ]
            ],
            "type": "contour"
           }
          ],
          "contourcarpet": [
           {
            "colorbar": {
             "outlinewidth": 0,
             "ticks": ""
            },
            "type": "contourcarpet"
           }
          ],
          "heatmap": [
           {
            "colorbar": {
             "outlinewidth": 0,
             "ticks": ""
            },
            "colorscale": [
             [
              0,
              "#0d0887"
             ],
             [
              0.1111111111111111,
              "#46039f"
             ],
             [
              0.2222222222222222,
              "#7201a8"
             ],
             [
              0.3333333333333333,
              "#9c179e"
             ],
             [
              0.4444444444444444,
              "#bd3786"
             ],
             [
              0.5555555555555556,
              "#d8576b"
             ],
             [
              0.6666666666666666,
              "#ed7953"
             ],
             [
              0.7777777777777778,
              "#fb9f3a"
             ],
             [
              0.8888888888888888,
              "#fdca26"
             ],
             [
              1,
              "#f0f921"
             ]
            ],
            "type": "heatmap"
           }
          ],
          "heatmapgl": [
           {
            "colorbar": {
             "outlinewidth": 0,
             "ticks": ""
            },
            "colorscale": [
             [
              0,
              "#0d0887"
             ],
             [
              0.1111111111111111,
              "#46039f"
             ],
             [
              0.2222222222222222,
              "#7201a8"
             ],
             [
              0.3333333333333333,
              "#9c179e"
             ],
             [
              0.4444444444444444,
              "#bd3786"
             ],
             [
              0.5555555555555556,
              "#d8576b"
             ],
             [
              0.6666666666666666,
              "#ed7953"
             ],
             [
              0.7777777777777778,
              "#fb9f3a"
             ],
             [
              0.8888888888888888,
              "#fdca26"
             ],
             [
              1,
              "#f0f921"
             ]
            ],
            "type": "heatmapgl"
           }
          ],
          "histogram": [
           {
            "marker": {
             "colorbar": {
              "outlinewidth": 0,
              "ticks": ""
             }
            },
            "type": "histogram"
           }
          ],
          "histogram2d": [
           {
            "colorbar": {
             "outlinewidth": 0,
             "ticks": ""
            },
            "colorscale": [
             [
              0,
              "#0d0887"
             ],
             [
              0.1111111111111111,
              "#46039f"
             ],
             [
              0.2222222222222222,
              "#7201a8"
             ],
             [
              0.3333333333333333,
              "#9c179e"
             ],
             [
              0.4444444444444444,
              "#bd3786"
             ],
             [
              0.5555555555555556,
              "#d8576b"
             ],
             [
              0.6666666666666666,
              "#ed7953"
             ],
             [
              0.7777777777777778,
              "#fb9f3a"
             ],
             [
              0.8888888888888888,
              "#fdca26"
             ],
             [
              1,
              "#f0f921"
             ]
            ],
            "type": "histogram2d"
           }
          ],
          "histogram2dcontour": [
           {
            "colorbar": {
             "outlinewidth": 0,
             "ticks": ""
            },
            "colorscale": [
             [
              0,
              "#0d0887"
             ],
             [
              0.1111111111111111,
              "#46039f"
             ],
             [
              0.2222222222222222,
              "#7201a8"
             ],
             [
              0.3333333333333333,
              "#9c179e"
             ],
             [
              0.4444444444444444,
              "#bd3786"
             ],
             [
              0.5555555555555556,
              "#d8576b"
             ],
             [
              0.6666666666666666,
              "#ed7953"
             ],
             [
              0.7777777777777778,
              "#fb9f3a"
             ],
             [
              0.8888888888888888,
              "#fdca26"
             ],
             [
              1,
              "#f0f921"
             ]
            ],
            "type": "histogram2dcontour"
           }
          ],
          "mesh3d": [
           {
            "colorbar": {
             "outlinewidth": 0,
             "ticks": ""
            },
            "type": "mesh3d"
           }
          ],
          "parcoords": [
           {
            "line": {
             "colorbar": {
              "outlinewidth": 0,
              "ticks": ""
             }
            },
            "type": "parcoords"
           }
          ],
          "pie": [
           {
            "automargin": true,
            "type": "pie"
           }
          ],
          "scatter": [
           {
            "marker": {
             "colorbar": {
              "outlinewidth": 0,
              "ticks": ""
             }
            },
            "type": "scatter"
           }
          ],
          "scatter3d": [
           {
            "line": {
             "colorbar": {
              "outlinewidth": 0,
              "ticks": ""
             }
            },
            "marker": {
             "colorbar": {
              "outlinewidth": 0,
              "ticks": ""
             }
            },
            "type": "scatter3d"
           }
          ],
          "scattercarpet": [
           {
            "marker": {
             "colorbar": {
              "outlinewidth": 0,
              "ticks": ""
             }
            },
            "type": "scattercarpet"
           }
          ],
          "scattergeo": [
           {
            "marker": {
             "colorbar": {
              "outlinewidth": 0,
              "ticks": ""
             }
            },
            "type": "scattergeo"
           }
          ],
          "scattergl": [
           {
            "marker": {
             "colorbar": {
              "outlinewidth": 0,
              "ticks": ""
             }
            },
            "type": "scattergl"
           }
          ],
          "scattermapbox": [
           {
            "marker": {
             "colorbar": {
              "outlinewidth": 0,
              "ticks": ""
             }
            },
            "type": "scattermapbox"
           }
          ],
          "scatterpolar": [
           {
            "marker": {
             "colorbar": {
              "outlinewidth": 0,
              "ticks": ""
             }
            },
            "type": "scatterpolar"
           }
          ],
          "scatterpolargl": [
           {
            "marker": {
             "colorbar": {
              "outlinewidth": 0,
              "ticks": ""
             }
            },
            "type": "scatterpolargl"
           }
          ],
          "scatterternary": [
           {
            "marker": {
             "colorbar": {
              "outlinewidth": 0,
              "ticks": ""
             }
            },
            "type": "scatterternary"
           }
          ],
          "surface": [
           {
            "colorbar": {
             "outlinewidth": 0,
             "ticks": ""
            },
            "colorscale": [
             [
              0,
              "#0d0887"
             ],
             [
              0.1111111111111111,
              "#46039f"
             ],
             [
              0.2222222222222222,
              "#7201a8"
             ],
             [
              0.3333333333333333,
              "#9c179e"
             ],
             [
              0.4444444444444444,
              "#bd3786"
             ],
             [
              0.5555555555555556,
              "#d8576b"
             ],
             [
              0.6666666666666666,
              "#ed7953"
             ],
             [
              0.7777777777777778,
              "#fb9f3a"
             ],
             [
              0.8888888888888888,
              "#fdca26"
             ],
             [
              1,
              "#f0f921"
             ]
            ],
            "type": "surface"
           }
          ],
          "table": [
           {
            "cells": {
             "fill": {
              "color": "#EBF0F8"
             },
             "line": {
              "color": "white"
             }
            },
            "header": {
             "fill": {
              "color": "#C8D4E3"
             },
             "line": {
              "color": "white"
             }
            },
            "type": "table"
           }
          ]
         },
         "layout": {
          "annotationdefaults": {
           "arrowcolor": "#2a3f5f",
           "arrowhead": 0,
           "arrowwidth": 1
          },
          "coloraxis": {
           "colorbar": {
            "outlinewidth": 0,
            "ticks": ""
           }
          },
          "colorscale": {
           "diverging": [
            [
             0,
             "#8e0152"
            ],
            [
             0.1,
             "#c51b7d"
            ],
            [
             0.2,
             "#de77ae"
            ],
            [
             0.3,
             "#f1b6da"
            ],
            [
             0.4,
             "#fde0ef"
            ],
            [
             0.5,
             "#f7f7f7"
            ],
            [
             0.6,
             "#e6f5d0"
            ],
            [
             0.7,
             "#b8e186"
            ],
            [
             0.8,
             "#7fbc41"
            ],
            [
             0.9,
             "#4d9221"
            ],
            [
             1,
             "#276419"
            ]
           ],
           "sequential": [
            [
             0,
             "#0d0887"
            ],
            [
             0.1111111111111111,
             "#46039f"
            ],
            [
             0.2222222222222222,
             "#7201a8"
            ],
            [
             0.3333333333333333,
             "#9c179e"
            ],
            [
             0.4444444444444444,
             "#bd3786"
            ],
            [
             0.5555555555555556,
             "#d8576b"
            ],
            [
             0.6666666666666666,
             "#ed7953"
            ],
            [
             0.7777777777777778,
             "#fb9f3a"
            ],
            [
             0.8888888888888888,
             "#fdca26"
            ],
            [
             1,
             "#f0f921"
            ]
           ],
           "sequentialminus": [
            [
             0,
             "#0d0887"
            ],
            [
             0.1111111111111111,
             "#46039f"
            ],
            [
             0.2222222222222222,
             "#7201a8"
            ],
            [
             0.3333333333333333,
             "#9c179e"
            ],
            [
             0.4444444444444444,
             "#bd3786"
            ],
            [
             0.5555555555555556,
             "#d8576b"
            ],
            [
             0.6666666666666666,
             "#ed7953"
            ],
            [
             0.7777777777777778,
             "#fb9f3a"
            ],
            [
             0.8888888888888888,
             "#fdca26"
            ],
            [
             1,
             "#f0f921"
            ]
           ]
          },
          "colorway": [
           "#636efa",
           "#EF553B",
           "#00cc96",
           "#ab63fa",
           "#FFA15A",
           "#19d3f3",
           "#FF6692",
           "#B6E880",
           "#FF97FF",
           "#FECB52"
          ],
          "font": {
           "color": "#2a3f5f"
          },
          "geo": {
           "bgcolor": "white",
           "lakecolor": "white",
           "landcolor": "#E5ECF6",
           "showlakes": true,
           "showland": true,
           "subunitcolor": "white"
          },
          "hoverlabel": {
           "align": "left"
          },
          "hovermode": "closest",
          "mapbox": {
           "style": "light"
          },
          "paper_bgcolor": "white",
          "plot_bgcolor": "#E5ECF6",
          "polar": {
           "angularaxis": {
            "gridcolor": "white",
            "linecolor": "white",
            "ticks": ""
           },
           "bgcolor": "#E5ECF6",
           "radialaxis": {
            "gridcolor": "white",
            "linecolor": "white",
            "ticks": ""
           }
          },
          "scene": {
           "xaxis": {
            "backgroundcolor": "#E5ECF6",
            "gridcolor": "white",
            "gridwidth": 2,
            "linecolor": "white",
            "showbackground": true,
            "ticks": "",
            "zerolinecolor": "white"
           },
           "yaxis": {
            "backgroundcolor": "#E5ECF6",
            "gridcolor": "white",
            "gridwidth": 2,
            "linecolor": "white",
            "showbackground": true,
            "ticks": "",
            "zerolinecolor": "white"
           },
           "zaxis": {
            "backgroundcolor": "#E5ECF6",
            "gridcolor": "white",
            "gridwidth": 2,
            "linecolor": "white",
            "showbackground": true,
            "ticks": "",
            "zerolinecolor": "white"
           }
          },
          "shapedefaults": {
           "line": {
            "color": "#2a3f5f"
           }
          },
          "ternary": {
           "aaxis": {
            "gridcolor": "white",
            "linecolor": "white",
            "ticks": ""
           },
           "baxis": {
            "gridcolor": "white",
            "linecolor": "white",
            "ticks": ""
           },
           "bgcolor": "#E5ECF6",
           "caxis": {
            "gridcolor": "white",
            "linecolor": "white",
            "ticks": ""
           }
          },
          "title": {
           "x": 0.05
          },
          "xaxis": {
           "automargin": true,
           "gridcolor": "white",
           "linecolor": "white",
           "ticks": "",
           "title": {
            "standoff": 15
           },
           "zerolinecolor": "white",
           "zerolinewidth": 2
          },
          "yaxis": {
           "automargin": true,
           "gridcolor": "white",
           "linecolor": "white",
           "ticks": "",
           "title": {
            "standoff": 15
           },
           "zerolinecolor": "white",
           "zerolinewidth": 2
          }
         }
        },
        "title": {
         "text": "% Reviews by Rating Bin"
        },
        "xaxis": {
         "title": {
          "text": "Rating Bin"
         }
        },
        "yaxis": {
         "title": {
          "text": "% of Reviews"
         }
        }
       }
      },
      "text/html": [
       "<div>\n",
       "        \n",
       "        \n",
       "            <div id=\"5628dade-70af-4712-b8ca-09372f05b032\" class=\"plotly-graph-div\" style=\"height:525px; width:100%;\"></div>\n",
       "            <script type=\"text/javascript\">\n",
       "                require([\"plotly\"], function(Plotly) {\n",
       "                    window.PLOTLYENV=window.PLOTLYENV || {};\n",
       "                    \n",
       "                if (document.getElementById(\"5628dade-70af-4712-b8ca-09372f05b032\")) {\n",
       "                    Plotly.newPlot(\n",
       "                        '5628dade-70af-4712-b8ca-09372f05b032',\n",
       "                        [{\"marker\": {\"color\": \"black\"}, \"text\": [\"55.57%\", \"12.20%\", \"8.32%\", \"5.12%\", \"5.03%\", \"6.37%\", \"7.39%\"], \"type\": \"bar\", \"visible\": true, \"x\": [\"(95, 101]\", \"(85, 95]\", \"(75, 85]\", \"(65, 75]\", \"(58, 65]\", \"(35, 58]\", \"(-1, 35]\"], \"y\": [0.5557081055876486, 0.12203611940679009, 0.08321193064606788, 0.05118505881399957, 0.05026831947019497, 0.06370300194614367, 0.07388746412915519]}],\n",
       "                        {\"showlegend\": false, \"template\": {\"data\": {\"bar\": [{\"error_x\": {\"color\": \"#2a3f5f\"}, \"error_y\": {\"color\": \"#2a3f5f\"}, \"marker\": {\"line\": {\"color\": \"#E5ECF6\", \"width\": 0.5}}, \"type\": \"bar\"}], \"barpolar\": [{\"marker\": {\"line\": {\"color\": \"#E5ECF6\", \"width\": 0.5}}, \"type\": \"barpolar\"}], \"carpet\": [{\"aaxis\": {\"endlinecolor\": \"#2a3f5f\", \"gridcolor\": \"white\", \"linecolor\": \"white\", \"minorgridcolor\": \"white\", \"startlinecolor\": \"#2a3f5f\"}, \"baxis\": {\"endlinecolor\": \"#2a3f5f\", \"gridcolor\": \"white\", \"linecolor\": \"white\", \"minorgridcolor\": \"white\", \"startlinecolor\": \"#2a3f5f\"}, \"type\": \"carpet\"}], \"choropleth\": [{\"colorbar\": {\"outlinewidth\": 0, \"ticks\": \"\"}, \"type\": \"choropleth\"}], \"contour\": [{\"colorbar\": {\"outlinewidth\": 0, \"ticks\": \"\"}, \"colorscale\": [[0.0, \"#0d0887\"], [0.1111111111111111, \"#46039f\"], [0.2222222222222222, \"#7201a8\"], [0.3333333333333333, \"#9c179e\"], [0.4444444444444444, \"#bd3786\"], [0.5555555555555556, \"#d8576b\"], [0.6666666666666666, \"#ed7953\"], [0.7777777777777778, \"#fb9f3a\"], [0.8888888888888888, \"#fdca26\"], [1.0, \"#f0f921\"]], \"type\": \"contour\"}], \"contourcarpet\": [{\"colorbar\": {\"outlinewidth\": 0, \"ticks\": \"\"}, \"type\": \"contourcarpet\"}], \"heatmap\": [{\"colorbar\": {\"outlinewidth\": 0, \"ticks\": \"\"}, \"colorscale\": [[0.0, \"#0d0887\"], [0.1111111111111111, \"#46039f\"], [0.2222222222222222, \"#7201a8\"], [0.3333333333333333, \"#9c179e\"], [0.4444444444444444, \"#bd3786\"], [0.5555555555555556, \"#d8576b\"], [0.6666666666666666, \"#ed7953\"], [0.7777777777777778, \"#fb9f3a\"], [0.8888888888888888, \"#fdca26\"], [1.0, \"#f0f921\"]], \"type\": \"heatmap\"}], \"heatmapgl\": [{\"colorbar\": {\"outlinewidth\": 0, \"ticks\": \"\"}, \"colorscale\": [[0.0, \"#0d0887\"], [0.1111111111111111, \"#46039f\"], [0.2222222222222222, \"#7201a8\"], [0.3333333333333333, \"#9c179e\"], [0.4444444444444444, \"#bd3786\"], [0.5555555555555556, \"#d8576b\"], [0.6666666666666666, \"#ed7953\"], [0.7777777777777778, \"#fb9f3a\"], [0.8888888888888888, \"#fdca26\"], [1.0, \"#f0f921\"]], \"type\": \"heatmapgl\"}], \"histogram\": [{\"marker\": {\"colorbar\": {\"outlinewidth\": 0, \"ticks\": \"\"}}, \"type\": \"histogram\"}], \"histogram2d\": [{\"colorbar\": {\"outlinewidth\": 0, \"ticks\": \"\"}, \"colorscale\": [[0.0, \"#0d0887\"], [0.1111111111111111, \"#46039f\"], [0.2222222222222222, \"#7201a8\"], [0.3333333333333333, \"#9c179e\"], [0.4444444444444444, \"#bd3786\"], [0.5555555555555556, \"#d8576b\"], [0.6666666666666666, \"#ed7953\"], [0.7777777777777778, \"#fb9f3a\"], [0.8888888888888888, \"#fdca26\"], [1.0, \"#f0f921\"]], \"type\": \"histogram2d\"}], \"histogram2dcontour\": [{\"colorbar\": {\"outlinewidth\": 0, \"ticks\": \"\"}, \"colorscale\": [[0.0, \"#0d0887\"], [0.1111111111111111, \"#46039f\"], [0.2222222222222222, \"#7201a8\"], [0.3333333333333333, \"#9c179e\"], [0.4444444444444444, \"#bd3786\"], [0.5555555555555556, \"#d8576b\"], [0.6666666666666666, \"#ed7953\"], [0.7777777777777778, \"#fb9f3a\"], [0.8888888888888888, \"#fdca26\"], [1.0, \"#f0f921\"]], \"type\": \"histogram2dcontour\"}], \"mesh3d\": [{\"colorbar\": {\"outlinewidth\": 0, \"ticks\": \"\"}, \"type\": \"mesh3d\"}], \"parcoords\": [{\"line\": {\"colorbar\": {\"outlinewidth\": 0, \"ticks\": \"\"}}, \"type\": \"parcoords\"}], \"pie\": [{\"automargin\": true, \"type\": \"pie\"}], \"scatter\": [{\"marker\": {\"colorbar\": {\"outlinewidth\": 0, \"ticks\": \"\"}}, \"type\": \"scatter\"}], \"scatter3d\": [{\"line\": {\"colorbar\": {\"outlinewidth\": 0, \"ticks\": \"\"}}, \"marker\": {\"colorbar\": {\"outlinewidth\": 0, \"ticks\": \"\"}}, \"type\": \"scatter3d\"}], \"scattercarpet\": [{\"marker\": {\"colorbar\": {\"outlinewidth\": 0, \"ticks\": \"\"}}, \"type\": \"scattercarpet\"}], \"scattergeo\": [{\"marker\": {\"colorbar\": {\"outlinewidth\": 0, \"ticks\": \"\"}}, \"type\": \"scattergeo\"}], \"scattergl\": [{\"marker\": {\"colorbar\": {\"outlinewidth\": 0, \"ticks\": \"\"}}, \"type\": \"scattergl\"}], \"scattermapbox\": [{\"marker\": {\"colorbar\": {\"outlinewidth\": 0, \"ticks\": \"\"}}, \"type\": \"scattermapbox\"}], \"scatterpolar\": [{\"marker\": {\"colorbar\": {\"outlinewidth\": 0, \"ticks\": \"\"}}, \"type\": \"scatterpolar\"}], \"scatterpolargl\": [{\"marker\": {\"colorbar\": {\"outlinewidth\": 0, \"ticks\": \"\"}}, \"type\": \"scatterpolargl\"}], \"scatterternary\": [{\"marker\": {\"colorbar\": {\"outlinewidth\": 0, \"ticks\": \"\"}}, \"type\": \"scatterternary\"}], \"surface\": [{\"colorbar\": {\"outlinewidth\": 0, \"ticks\": \"\"}, \"colorscale\": [[0.0, \"#0d0887\"], [0.1111111111111111, \"#46039f\"], [0.2222222222222222, \"#7201a8\"], [0.3333333333333333, \"#9c179e\"], [0.4444444444444444, \"#bd3786\"], [0.5555555555555556, \"#d8576b\"], [0.6666666666666666, \"#ed7953\"], [0.7777777777777778, \"#fb9f3a\"], [0.8888888888888888, \"#fdca26\"], [1.0, \"#f0f921\"]], \"type\": \"surface\"}], \"table\": [{\"cells\": {\"fill\": {\"color\": \"#EBF0F8\"}, \"line\": {\"color\": \"white\"}}, \"header\": {\"fill\": {\"color\": \"#C8D4E3\"}, \"line\": {\"color\": \"white\"}}, \"type\": \"table\"}]}, \"layout\": {\"annotationdefaults\": {\"arrowcolor\": \"#2a3f5f\", \"arrowhead\": 0, \"arrowwidth\": 1}, \"coloraxis\": {\"colorbar\": {\"outlinewidth\": 0, \"ticks\": \"\"}}, \"colorscale\": {\"diverging\": [[0, \"#8e0152\"], [0.1, \"#c51b7d\"], [0.2, \"#de77ae\"], [0.3, \"#f1b6da\"], [0.4, \"#fde0ef\"], [0.5, \"#f7f7f7\"], [0.6, \"#e6f5d0\"], [0.7, \"#b8e186\"], [0.8, \"#7fbc41\"], [0.9, \"#4d9221\"], [1, \"#276419\"]], \"sequential\": [[0.0, \"#0d0887\"], [0.1111111111111111, \"#46039f\"], [0.2222222222222222, \"#7201a8\"], [0.3333333333333333, \"#9c179e\"], [0.4444444444444444, \"#bd3786\"], [0.5555555555555556, \"#d8576b\"], [0.6666666666666666, \"#ed7953\"], [0.7777777777777778, \"#fb9f3a\"], [0.8888888888888888, \"#fdca26\"], [1.0, \"#f0f921\"]], \"sequentialminus\": [[0.0, \"#0d0887\"], [0.1111111111111111, \"#46039f\"], [0.2222222222222222, \"#7201a8\"], [0.3333333333333333, \"#9c179e\"], [0.4444444444444444, \"#bd3786\"], [0.5555555555555556, \"#d8576b\"], [0.6666666666666666, \"#ed7953\"], [0.7777777777777778, \"#fb9f3a\"], [0.8888888888888888, \"#fdca26\"], [1.0, \"#f0f921\"]]}, \"colorway\": [\"#636efa\", \"#EF553B\", \"#00cc96\", \"#ab63fa\", \"#FFA15A\", \"#19d3f3\", \"#FF6692\", \"#B6E880\", \"#FF97FF\", \"#FECB52\"], \"font\": {\"color\": \"#2a3f5f\"}, \"geo\": {\"bgcolor\": \"white\", \"lakecolor\": \"white\", \"landcolor\": \"#E5ECF6\", \"showlakes\": true, \"showland\": true, \"subunitcolor\": \"white\"}, \"hoverlabel\": {\"align\": \"left\"}, \"hovermode\": \"closest\", \"mapbox\": {\"style\": \"light\"}, \"paper_bgcolor\": \"white\", \"plot_bgcolor\": \"#E5ECF6\", \"polar\": {\"angularaxis\": {\"gridcolor\": \"white\", \"linecolor\": \"white\", \"ticks\": \"\"}, \"bgcolor\": \"#E5ECF6\", \"radialaxis\": {\"gridcolor\": \"white\", \"linecolor\": \"white\", \"ticks\": \"\"}}, \"scene\": {\"xaxis\": {\"backgroundcolor\": \"#E5ECF6\", \"gridcolor\": \"white\", \"gridwidth\": 2, \"linecolor\": \"white\", \"showbackground\": true, \"ticks\": \"\", \"zerolinecolor\": \"white\"}, \"yaxis\": {\"backgroundcolor\": \"#E5ECF6\", \"gridcolor\": \"white\", \"gridwidth\": 2, \"linecolor\": \"white\", \"showbackground\": true, \"ticks\": \"\", \"zerolinecolor\": \"white\"}, \"zaxis\": {\"backgroundcolor\": \"#E5ECF6\", \"gridcolor\": \"white\", \"gridwidth\": 2, \"linecolor\": \"white\", \"showbackground\": true, \"ticks\": \"\", \"zerolinecolor\": \"white\"}}, \"shapedefaults\": {\"line\": {\"color\": \"#2a3f5f\"}}, \"ternary\": {\"aaxis\": {\"gridcolor\": \"white\", \"linecolor\": \"white\", \"ticks\": \"\"}, \"baxis\": {\"gridcolor\": \"white\", \"linecolor\": \"white\", \"ticks\": \"\"}, \"bgcolor\": \"#E5ECF6\", \"caxis\": {\"gridcolor\": \"white\", \"linecolor\": \"white\", \"ticks\": \"\"}}, \"title\": {\"x\": 0.05}, \"xaxis\": {\"automargin\": true, \"gridcolor\": \"white\", \"linecolor\": \"white\", \"ticks\": \"\", \"title\": {\"standoff\": 15}, \"zerolinecolor\": \"white\", \"zerolinewidth\": 2}, \"yaxis\": {\"automargin\": true, \"gridcolor\": \"white\", \"linecolor\": \"white\", \"ticks\": \"\", \"title\": {\"standoff\": 15}, \"zerolinecolor\": \"white\", \"zerolinewidth\": 2}}}, \"title\": {\"text\": \"% Reviews by Rating Bin\"}, \"xaxis\": {\"title\": {\"text\": \"Rating Bin\"}}, \"yaxis\": {\"title\": {\"text\": \"% of Reviews\"}}},\n",
       "                        {\"responsive\": true}\n",
       "                    ).then(function(){\n",
       "                            \n",
       "var gd = document.getElementById('5628dade-70af-4712-b8ca-09372f05b032');\n",
       "var x = new MutationObserver(function (mutations, observer) {{\n",
       "        var display = window.getComputedStyle(gd).display;\n",
       "        if (!display || display === 'none') {{\n",
       "            console.log([gd, 'removed!']);\n",
       "            Plotly.purge(gd);\n",
       "            observer.disconnect();\n",
       "        }}\n",
       "}});\n",
       "\n",
       "// Listen for the removal of the full notebook cells\n",
       "var notebookContainer = gd.closest('#notebook-container');\n",
       "if (notebookContainer) {{\n",
       "    x.observe(notebookContainer, {childList: true});\n",
       "}}\n",
       "\n",
       "// Listen for the clearing of the current output cell\n",
       "var outputEl = gd.closest('.output');\n",
       "if (outputEl) {{\n",
       "    x.observe(outputEl, {childList: true});\n",
       "}}\n",
       "\n",
       "                        })\n",
       "                };\n",
       "                });\n",
       "            </script>\n",
       "        </div>"
      ]
     },
     "metadata": {},
     "output_type": "display_data"
    }
   ],
   "source": [
    "visuals = reload(visuals)\n",
    "\n",
    "fig = visuals.plot_rating_dist(site_data)\n",
    "fig.show()"
   ]
  },
  {
   "cell_type": "code",
   "execution_count": 7,
   "metadata": {
    "scrolled": true
   },
   "outputs": [
    {
     "data": {
      "text/plain": [
       "Index(['FID', 'Clarity', 'DateTime', 'Easiness', 'Exam Difficulty',\n",
       "       'Helpfulness', 'Knowledge', 'Rating', 'Recommended', 'School',\n",
       "       'SubmittedBy', 'TeachDes', 'Teacher', 'Textbook Use', 'Review_Length',\n",
       "       'File', 'Determination', 'Effective', 'Empathy', 'Homework',\n",
       "       'Integrity', 'Parent Relation', 'Respect'],\n",
       "      dtype='object')"
      ]
     },
     "execution_count": 7,
     "metadata": {},
     "output_type": "execute_result"
    }
   ],
   "source": [
    "# Get the total number of reviews per teacher\n",
    "# The average rating per teacher \n",
    "# "
   ]
  },
  {
   "cell_type": "code",
   "execution_count": null,
   "metadata": {
    "scrolled": false
   },
   "outputs": [],
   "source": []
  }
 ],
 "metadata": {
  "kernelspec": {
   "display_name": "Python 3",
   "language": "python",
   "name": "python3"
  },
  "language_info": {
   "codemirror_mode": {
    "name": "ipython",
    "version": 3
   },
   "file_extension": ".py",
   "mimetype": "text/x-python",
   "name": "python",
   "nbconvert_exporter": "python",
   "pygments_lexer": "ipython3",
   "version": "3.7.4"
  }
 },
 "nbformat": 4,
 "nbformat_minor": 2
}
