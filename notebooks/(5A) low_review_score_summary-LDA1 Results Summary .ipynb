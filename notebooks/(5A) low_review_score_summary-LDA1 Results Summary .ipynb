{
 "cells": [
  {
   "cell_type": "markdown",
   "metadata": {},
   "source": [
    "# Summary of Reviews with Low Scores\n",
    "\n",
    "Here we will summarize the topics that resulted from an analysis of the reviews that received the lowest ratings. "
   ]
  },
  {
   "cell_type": "code",
   "execution_count": 1,
   "metadata": {},
   "outputs": [],
   "source": [
    "from student_voices import sv_utils as bn\n",
    "\n",
    "db_root = 'D:/Student_Voices_Database/s3mirror/'\n",
    "dta_root = 'C:/Projects/VirtualMachines/Student_Voices/svvm/Student_Voices/student_voices/data'\n",
    "\n",
    "full_coherence_data = bn.loosen(db_root+'/results/full_coherence_data.pickle')"
   ]
  },
  {
   "cell_type": "code",
   "execution_count": 32,
   "metadata": {},
   "outputs": [
    {
     "name": "stdout",
     "output_type": "stream",
     "text": [
      "Sort by CS_Ave\n"
     ]
    },
    {
     "data": {
      "text/html": [
       "<table border=\"1\" class=\"dataframe\">\n",
       "  <thead>\n",
       "    <tr style=\"text-align: right;\">\n",
       "      <th></th>\n",
       "      <th>Range</th>\n",
       "      <th>Setting</th>\n",
       "      <th>Config</th>\n",
       "      <th>N_Topics</th>\n",
       "      <th>CS_Ave</th>\n",
       "      <th>CS_Med</th>\n",
       "      <th>CS_0.5</th>\n",
       "      <th>CS_0.54</th>\n",
       "      <th>CS_0.59</th>\n",
       "      <th>CS_0.64</th>\n",
       "      <th>CS_0.69</th>\n",
       "    </tr>\n",
       "  </thead>\n",
       "  <tbody>\n",
       "    <tr>\n",
       "      <th>45</th>\n",
       "      <td>[0, 35)</td>\n",
       "      <td>LDA1</td>\n",
       "      <td>D1</td>\n",
       "      <td>27</td>\n",
       "      <td>0.528722</td>\n",
       "      <td>0.530162</td>\n",
       "      <td>0.629630</td>\n",
       "      <td>0.481481</td>\n",
       "      <td>0.185185</td>\n",
       "      <td>0.037037</td>\n",
       "      <td>0.0</td>\n",
       "    </tr>\n",
       "    <tr>\n",
       "      <th>40</th>\n",
       "      <td>[0, 35)</td>\n",
       "      <td>LDA1</td>\n",
       "      <td>D1</td>\n",
       "      <td>22</td>\n",
       "      <td>0.524990</td>\n",
       "      <td>0.542166</td>\n",
       "      <td>0.636364</td>\n",
       "      <td>0.545455</td>\n",
       "      <td>0.136364</td>\n",
       "      <td>0.000000</td>\n",
       "      <td>0.0</td>\n",
       "    </tr>\n",
       "    <tr>\n",
       "      <th>89</th>\n",
       "      <td>[0, 35)</td>\n",
       "      <td>LDA2</td>\n",
       "      <td>D1</td>\n",
       "      <td>25</td>\n",
       "      <td>0.524282</td>\n",
       "      <td>0.512153</td>\n",
       "      <td>0.560000</td>\n",
       "      <td>0.480000</td>\n",
       "      <td>0.240000</td>\n",
       "      <td>0.040000</td>\n",
       "      <td>0.0</td>\n",
       "    </tr>\n",
       "    <tr>\n",
       "      <th>83</th>\n",
       "      <td>[0, 35)</td>\n",
       "      <td>LDA2</td>\n",
       "      <td>D1</td>\n",
       "      <td>19</td>\n",
       "      <td>0.523830</td>\n",
       "      <td>0.513162</td>\n",
       "      <td>0.526316</td>\n",
       "      <td>0.421053</td>\n",
       "      <td>0.210526</td>\n",
       "      <td>0.000000</td>\n",
       "      <td>0.0</td>\n",
       "    </tr>\n",
       "    <tr>\n",
       "      <th>91</th>\n",
       "      <td>[0, 35)</td>\n",
       "      <td>LDA2</td>\n",
       "      <td>D1</td>\n",
       "      <td>27</td>\n",
       "      <td>0.521792</td>\n",
       "      <td>0.522522</td>\n",
       "      <td>0.592593</td>\n",
       "      <td>0.407407</td>\n",
       "      <td>0.222222</td>\n",
       "      <td>0.000000</td>\n",
       "      <td>0.0</td>\n",
       "    </tr>\n",
       "  </tbody>\n",
       "</table>"
      ]
     },
     "metadata": {},
     "output_type": "display_data"
    },
    {
     "name": "stdout",
     "output_type": "stream",
     "text": [
      "Sort by CS_Med\n"
     ]
    },
    {
     "data": {
      "text/html": [
       "<table border=\"1\" class=\"dataframe\">\n",
       "  <thead>\n",
       "    <tr style=\"text-align: right;\">\n",
       "      <th></th>\n",
       "      <th>Range</th>\n",
       "      <th>Setting</th>\n",
       "      <th>Config</th>\n",
       "      <th>N_Topics</th>\n",
       "      <th>CS_Ave</th>\n",
       "      <th>CS_Med</th>\n",
       "      <th>CS_0.5</th>\n",
       "      <th>CS_0.54</th>\n",
       "      <th>CS_0.59</th>\n",
       "      <th>CS_0.64</th>\n",
       "      <th>CS_0.69</th>\n",
       "    </tr>\n",
       "  </thead>\n",
       "  <tbody>\n",
       "    <tr>\n",
       "      <th>40</th>\n",
       "      <td>[0, 35)</td>\n",
       "      <td>LDA1</td>\n",
       "      <td>D1</td>\n",
       "      <td>22</td>\n",
       "      <td>0.524990</td>\n",
       "      <td>0.542166</td>\n",
       "      <td>0.636364</td>\n",
       "      <td>0.545455</td>\n",
       "      <td>0.136364</td>\n",
       "      <td>0.0</td>\n",
       "      <td>0.0</td>\n",
       "    </tr>\n",
       "    <tr>\n",
       "      <th>38</th>\n",
       "      <td>[0, 35)</td>\n",
       "      <td>LDA1</td>\n",
       "      <td>D1</td>\n",
       "      <td>20</td>\n",
       "      <td>0.521245</td>\n",
       "      <td>0.539950</td>\n",
       "      <td>0.650000</td>\n",
       "      <td>0.500000</td>\n",
       "      <td>0.200000</td>\n",
       "      <td>0.0</td>\n",
       "      <td>0.0</td>\n",
       "    </tr>\n",
       "    <tr>\n",
       "      <th>11</th>\n",
       "      <td>[0, 35)</td>\n",
       "      <td>LDA3</td>\n",
       "      <td>D1</td>\n",
       "      <td>16</td>\n",
       "      <td>0.510561</td>\n",
       "      <td>0.537158</td>\n",
       "      <td>0.625000</td>\n",
       "      <td>0.437500</td>\n",
       "      <td>0.250000</td>\n",
       "      <td>0.0</td>\n",
       "      <td>0.0</td>\n",
       "    </tr>\n",
       "    <tr>\n",
       "      <th>22</th>\n",
       "      <td>[0, 35)</td>\n",
       "      <td>LDA3</td>\n",
       "      <td>D1</td>\n",
       "      <td>27</td>\n",
       "      <td>0.516089</td>\n",
       "      <td>0.531605</td>\n",
       "      <td>0.592593</td>\n",
       "      <td>0.481481</td>\n",
       "      <td>0.185185</td>\n",
       "      <td>0.0</td>\n",
       "      <td>0.0</td>\n",
       "    </tr>\n",
       "    <tr>\n",
       "      <th>12</th>\n",
       "      <td>[0, 35)</td>\n",
       "      <td>LDA3</td>\n",
       "      <td>D1</td>\n",
       "      <td>17</td>\n",
       "      <td>0.512924</td>\n",
       "      <td>0.531471</td>\n",
       "      <td>0.588235</td>\n",
       "      <td>0.294118</td>\n",
       "      <td>0.235294</td>\n",
       "      <td>0.0</td>\n",
       "      <td>0.0</td>\n",
       "    </tr>\n",
       "  </tbody>\n",
       "</table>"
      ]
     },
     "metadata": {},
     "output_type": "display_data"
    },
    {
     "name": "stdout",
     "output_type": "stream",
     "text": [
      "Sort by CS_0.5\n"
     ]
    },
    {
     "data": {
      "text/html": [
       "<table border=\"1\" class=\"dataframe\">\n",
       "  <thead>\n",
       "    <tr style=\"text-align: right;\">\n",
       "      <th></th>\n",
       "      <th>Range</th>\n",
       "      <th>Setting</th>\n",
       "      <th>Config</th>\n",
       "      <th>N_Topics</th>\n",
       "      <th>CS_Ave</th>\n",
       "      <th>CS_Med</th>\n",
       "      <th>CS_0.5</th>\n",
       "      <th>CS_0.54</th>\n",
       "      <th>CS_0.59</th>\n",
       "      <th>CS_0.64</th>\n",
       "      <th>CS_0.69</th>\n",
       "    </tr>\n",
       "  </thead>\n",
       "  <tbody>\n",
       "    <tr>\n",
       "      <th>16</th>\n",
       "      <td>[0, 35)</td>\n",
       "      <td>LDA3</td>\n",
       "      <td>D1</td>\n",
       "      <td>21</td>\n",
       "      <td>0.520415</td>\n",
       "      <td>0.518828</td>\n",
       "      <td>0.666667</td>\n",
       "      <td>0.380952</td>\n",
       "      <td>0.190476</td>\n",
       "      <td>0.000000</td>\n",
       "      <td>0.0</td>\n",
       "    </tr>\n",
       "    <tr>\n",
       "      <th>38</th>\n",
       "      <td>[0, 35)</td>\n",
       "      <td>LDA1</td>\n",
       "      <td>D1</td>\n",
       "      <td>20</td>\n",
       "      <td>0.521245</td>\n",
       "      <td>0.539950</td>\n",
       "      <td>0.650000</td>\n",
       "      <td>0.500000</td>\n",
       "      <td>0.200000</td>\n",
       "      <td>0.000000</td>\n",
       "      <td>0.0</td>\n",
       "    </tr>\n",
       "    <tr>\n",
       "      <th>40</th>\n",
       "      <td>[0, 35)</td>\n",
       "      <td>LDA1</td>\n",
       "      <td>D1</td>\n",
       "      <td>22</td>\n",
       "      <td>0.524990</td>\n",
       "      <td>0.542166</td>\n",
       "      <td>0.636364</td>\n",
       "      <td>0.545455</td>\n",
       "      <td>0.136364</td>\n",
       "      <td>0.000000</td>\n",
       "      <td>0.0</td>\n",
       "    </tr>\n",
       "    <tr>\n",
       "      <th>37</th>\n",
       "      <td>[0, 35)</td>\n",
       "      <td>LDA1</td>\n",
       "      <td>D1</td>\n",
       "      <td>19</td>\n",
       "      <td>0.515144</td>\n",
       "      <td>0.513396</td>\n",
       "      <td>0.631579</td>\n",
       "      <td>0.315789</td>\n",
       "      <td>0.157895</td>\n",
       "      <td>0.000000</td>\n",
       "      <td>0.0</td>\n",
       "    </tr>\n",
       "    <tr>\n",
       "      <th>45</th>\n",
       "      <td>[0, 35)</td>\n",
       "      <td>LDA1</td>\n",
       "      <td>D1</td>\n",
       "      <td>27</td>\n",
       "      <td>0.528722</td>\n",
       "      <td>0.530162</td>\n",
       "      <td>0.629630</td>\n",
       "      <td>0.481481</td>\n",
       "      <td>0.185185</td>\n",
       "      <td>0.037037</td>\n",
       "      <td>0.0</td>\n",
       "    </tr>\n",
       "  </tbody>\n",
       "</table>"
      ]
     },
     "metadata": {},
     "output_type": "display_data"
    },
    {
     "name": "stdout",
     "output_type": "stream",
     "text": [
      "Sort by CS_0.54\n"
     ]
    },
    {
     "data": {
      "text/html": [
       "<table border=\"1\" class=\"dataframe\">\n",
       "  <thead>\n",
       "    <tr style=\"text-align: right;\">\n",
       "      <th></th>\n",
       "      <th>Range</th>\n",
       "      <th>Setting</th>\n",
       "      <th>Config</th>\n",
       "      <th>N_Topics</th>\n",
       "      <th>CS_Ave</th>\n",
       "      <th>CS_Med</th>\n",
       "      <th>CS_0.5</th>\n",
       "      <th>CS_0.54</th>\n",
       "      <th>CS_0.59</th>\n",
       "      <th>CS_0.64</th>\n",
       "      <th>CS_0.69</th>\n",
       "    </tr>\n",
       "  </thead>\n",
       "  <tbody>\n",
       "    <tr>\n",
       "      <th>40</th>\n",
       "      <td>[0, 35)</td>\n",
       "      <td>LDA1</td>\n",
       "      <td>D1</td>\n",
       "      <td>22</td>\n",
       "      <td>0.524990</td>\n",
       "      <td>0.542166</td>\n",
       "      <td>0.636364</td>\n",
       "      <td>0.545455</td>\n",
       "      <td>0.136364</td>\n",
       "      <td>0.000000</td>\n",
       "      <td>0.0</td>\n",
       "    </tr>\n",
       "    <tr>\n",
       "      <th>38</th>\n",
       "      <td>[0, 35)</td>\n",
       "      <td>LDA1</td>\n",
       "      <td>D1</td>\n",
       "      <td>20</td>\n",
       "      <td>0.521245</td>\n",
       "      <td>0.539950</td>\n",
       "      <td>0.650000</td>\n",
       "      <td>0.500000</td>\n",
       "      <td>0.200000</td>\n",
       "      <td>0.000000</td>\n",
       "      <td>0.0</td>\n",
       "    </tr>\n",
       "    <tr>\n",
       "      <th>22</th>\n",
       "      <td>[0, 35)</td>\n",
       "      <td>LDA3</td>\n",
       "      <td>D1</td>\n",
       "      <td>27</td>\n",
       "      <td>0.516089</td>\n",
       "      <td>0.531605</td>\n",
       "      <td>0.592593</td>\n",
       "      <td>0.481481</td>\n",
       "      <td>0.185185</td>\n",
       "      <td>0.000000</td>\n",
       "      <td>0.0</td>\n",
       "    </tr>\n",
       "    <tr>\n",
       "      <th>45</th>\n",
       "      <td>[0, 35)</td>\n",
       "      <td>LDA1</td>\n",
       "      <td>D1</td>\n",
       "      <td>27</td>\n",
       "      <td>0.528722</td>\n",
       "      <td>0.530162</td>\n",
       "      <td>0.629630</td>\n",
       "      <td>0.481481</td>\n",
       "      <td>0.185185</td>\n",
       "      <td>0.037037</td>\n",
       "      <td>0.0</td>\n",
       "    </tr>\n",
       "    <tr>\n",
       "      <th>89</th>\n",
       "      <td>[0, 35)</td>\n",
       "      <td>LDA2</td>\n",
       "      <td>D1</td>\n",
       "      <td>25</td>\n",
       "      <td>0.524282</td>\n",
       "      <td>0.512153</td>\n",
       "      <td>0.560000</td>\n",
       "      <td>0.480000</td>\n",
       "      <td>0.240000</td>\n",
       "      <td>0.040000</td>\n",
       "      <td>0.0</td>\n",
       "    </tr>\n",
       "  </tbody>\n",
       "</table>"
      ]
     },
     "metadata": {},
     "output_type": "display_data"
    },
    {
     "name": "stdout",
     "output_type": "stream",
     "text": [
      "Sort by CS_0.59\n"
     ]
    },
    {
     "data": {
      "text/html": [
       "<table border=\"1\" class=\"dataframe\">\n",
       "  <thead>\n",
       "    <tr style=\"text-align: right;\">\n",
       "      <th></th>\n",
       "      <th>Range</th>\n",
       "      <th>Setting</th>\n",
       "      <th>Config</th>\n",
       "      <th>N_Topics</th>\n",
       "      <th>CS_Ave</th>\n",
       "      <th>CS_Med</th>\n",
       "      <th>CS_0.5</th>\n",
       "      <th>CS_0.54</th>\n",
       "      <th>CS_0.59</th>\n",
       "      <th>CS_0.64</th>\n",
       "      <th>CS_0.69</th>\n",
       "    </tr>\n",
       "  </thead>\n",
       "  <tbody>\n",
       "    <tr>\n",
       "      <th>11</th>\n",
       "      <td>[0, 35)</td>\n",
       "      <td>LDA3</td>\n",
       "      <td>D1</td>\n",
       "      <td>16</td>\n",
       "      <td>0.510561</td>\n",
       "      <td>0.537158</td>\n",
       "      <td>0.625000</td>\n",
       "      <td>0.437500</td>\n",
       "      <td>0.250000</td>\n",
       "      <td>0.000000</td>\n",
       "      <td>0.0</td>\n",
       "    </tr>\n",
       "    <tr>\n",
       "      <th>89</th>\n",
       "      <td>[0, 35)</td>\n",
       "      <td>LDA2</td>\n",
       "      <td>D1</td>\n",
       "      <td>25</td>\n",
       "      <td>0.524282</td>\n",
       "      <td>0.512153</td>\n",
       "      <td>0.560000</td>\n",
       "      <td>0.480000</td>\n",
       "      <td>0.240000</td>\n",
       "      <td>0.040000</td>\n",
       "      <td>0.0</td>\n",
       "    </tr>\n",
       "    <tr>\n",
       "      <th>85</th>\n",
       "      <td>[0, 35)</td>\n",
       "      <td>LDA2</td>\n",
       "      <td>D1</td>\n",
       "      <td>21</td>\n",
       "      <td>0.514685</td>\n",
       "      <td>0.498531</td>\n",
       "      <td>0.428571</td>\n",
       "      <td>0.333333</td>\n",
       "      <td>0.238095</td>\n",
       "      <td>0.000000</td>\n",
       "      <td>0.0</td>\n",
       "    </tr>\n",
       "    <tr>\n",
       "      <th>12</th>\n",
       "      <td>[0, 35)</td>\n",
       "      <td>LDA3</td>\n",
       "      <td>D1</td>\n",
       "      <td>17</td>\n",
       "      <td>0.512924</td>\n",
       "      <td>0.531471</td>\n",
       "      <td>0.588235</td>\n",
       "      <td>0.294118</td>\n",
       "      <td>0.235294</td>\n",
       "      <td>0.000000</td>\n",
       "      <td>0.0</td>\n",
       "    </tr>\n",
       "    <tr>\n",
       "      <th>86</th>\n",
       "      <td>[0, 35)</td>\n",
       "      <td>LDA2</td>\n",
       "      <td>D1</td>\n",
       "      <td>22</td>\n",
       "      <td>0.519379</td>\n",
       "      <td>0.497814</td>\n",
       "      <td>0.454545</td>\n",
       "      <td>0.363636</td>\n",
       "      <td>0.227273</td>\n",
       "      <td>0.045455</td>\n",
       "      <td>0.0</td>\n",
       "    </tr>\n",
       "  </tbody>\n",
       "</table>"
      ]
     },
     "metadata": {},
     "output_type": "display_data"
    }
   ],
   "source": [
    "from IPython.display import HTML, display_html\n",
    "\n",
    "rng = '[0, 35)' # view for this range\n",
    "top_n = 5 # show the top n models \n",
    "ctd = ['CS_Ave', 'CS_Med', 'CS_0.5','CS_0.54', 'CS_0.59'] # coherence to display \n",
    "\n",
    "#review_this = full_coherence_data[(full_coherence_data['Range']==rng) & (full_coherence_data['Setting']=='LDA1') & (full_coherence_data['Config']=='D1')]\n",
    "review_this = full_coherence_data[full_coherence_data['Range']==rng]\n",
    "#review_this = full_coherence_data[(full_coherence_data['Range']==rng) & (full_coherence_data['N_Topics']<13)]\n",
    "\n",
    "for c in ctd: \n",
    "    print(\"Sort by\",c)\n",
    "    disp = review_this.sort_values(c, ascending=False)\n",
    "    display_html(HTML(disp.head(top_n).to_html()))"
   ]
  },
  {
   "cell_type": "markdown",
   "metadata": {},
   "source": [
    "# Elbow Graph \n",
    "\n",
    "For different settings and configs we can check our the elbow graph which plots the number of topics against the average coherence scores at each. We're still looking for highest coherence, but the number of topics we select might be the point that marks the end of rapid growth of coherence scores. Go higher and we might get too many non-meaningful topics, going lower we might not be able to differentiate them. "
   ]
  },
  {
   "cell_type": "code",
   "execution_count": null,
   "metadata": {},
   "outputs": [],
   "source": [
    "import plotly.graph_objects as go\n",
    "\n",
    "x = [1, 2, 3, 4, 5, 6, 7, 8, 9, 10, 11, 12, 13, 14, 15]\n",
    "\n"
   ]
  },
  {
   "cell_type": "code",
   "execution_count": 79,
   "metadata": {},
   "outputs": [
    {
     "data": {
      "application/vnd.plotly.v1+json": {
       "config": {
        "plotlyServerURL": "https://plot.ly"
       },
       "data": [
        {
         "connectgaps": true,
         "name": "LDA1 -- 0.4950",
         "type": "scatter",
         "x": [
          3,
          4,
          5,
          6,
          7,
          8,
          9,
          10,
          11,
          12,
          15,
          16,
          17,
          18,
          19,
          20,
          21,
          22,
          23,
          24,
          25,
          26,
          27,
          28,
          32
         ],
         "y": [
          0.453746811377013,
          0.4543142956360075,
          0.44000187618365993,
          0.4581571657838096,
          0.46984870428707387,
          0.47610185840323466,
          0.48317542279203035,
          0.48802285367052933,
          0.48323501745789343,
          0.4866373648095633,
          0.505854611858723,
          0.5022003683730674,
          0.5010793840900359,
          0.5111119595824373,
          0.515144417533006,
          0.521245207372759,
          0.5122524144860916,
          0.5249903906812654,
          0.5097310771428045,
          0.5201291049265613,
          0.5184369173483643,
          0.5214822318819609,
          0.5287216425340396,
          null,
          null
         ]
        },
        {
         "connectgaps": true,
         "name": "LDA2 -- 0.4953",
         "type": "scatter",
         "x": [
          3,
          4,
          5,
          6,
          7,
          8,
          9,
          10,
          11,
          12,
          15,
          16,
          17,
          18,
          19,
          20,
          21,
          22,
          23,
          24,
          25,
          26,
          27,
          28,
          32
         ],
         "y": [
          0.4453408362707548,
          0.46314043160696267,
          0.45221313389876827,
          0.4606954820942374,
          0.46558403810321614,
          0.4697363016902499,
          0.49018771935950545,
          0.4836054557881634,
          0.48376449094129303,
          0.4915163718510247,
          0.5024176845960839,
          0.5031577876589881,
          0.5090946002368455,
          0.5132941326032961,
          0.5238296671583215,
          0.5196399630963546,
          0.5146848348352382,
          0.5193794597531491,
          0.5082358257676458,
          0.5145733629128202,
          0.524281868737874,
          0.5114351252661073,
          0.5217924284663137,
          null,
          null
         ]
        },
        {
         "connectgaps": true,
         "name": "LDA3 -- 0.4861",
         "type": "scatter",
         "x": [
          3,
          4,
          5,
          6,
          7,
          8,
          9,
          10,
          11,
          12,
          15,
          16,
          17,
          18,
          19,
          20,
          21,
          22,
          23,
          24,
          25,
          26,
          27,
          28,
          32
         ],
         "y": [
          0.41206144256159144,
          0.42671166302945746,
          0.44916949196660744,
          0.45569164635908055,
          0.4648744149161394,
          0.46744709274917495,
          0.46168394025311343,
          0.4634669620823683,
          0.4797955485980966,
          0.4750718818617937,
          0.5018858954271518,
          0.5105606032698446,
          0.5129244106242947,
          0.5131194870216899,
          0.5114954992092428,
          0.5113470766412048,
          0.5204151486150751,
          0.5052414495690666,
          0.5073749553000685,
          0.5043013930960671,
          0.500944565582988,
          0.5085358839383857,
          0.5160892539721386,
          null,
          null
         ]
        },
        {
         "connectgaps": true,
         "name": "LDA4 -- 0.4773",
         "type": "scatter",
         "x": [
          3,
          4,
          5,
          6,
          7,
          8,
          9,
          10,
          11,
          12,
          15,
          16,
          17,
          18,
          19,
          20,
          21,
          22,
          23,
          24,
          25,
          26,
          27,
          28,
          32
         ],
         "y": [
          0.40914259409344544,
          0.41954178687763233,
          0.4190719106919212,
          0.46696163357149423,
          0.464113637417439,
          0.46604927386232753,
          0.46918982631227757,
          0.478794224775941,
          0.4870228970481372,
          0.4941820946093556,
          0.5034418528576593,
          0.5077018394729708,
          0.4718086608246515,
          0.49769771919376704,
          0.48837895449902524,
          0.48950964775069,
          0.4921642292752457,
          0.4957162362292006,
          0.5030695003524752,
          0.4978395840763422,
          0.47333324862621406,
          0.48943118678007536,
          0.49344169127721843,
          null,
          null
         ]
        }
       ],
       "layout": {
        "template": {
         "data": {
          "bar": [
           {
            "error_x": {
             "color": "#2a3f5f"
            },
            "error_y": {
             "color": "#2a3f5f"
            },
            "marker": {
             "line": {
              "color": "#E5ECF6",
              "width": 0.5
             }
            },
            "type": "bar"
           }
          ],
          "barpolar": [
           {
            "marker": {
             "line": {
              "color": "#E5ECF6",
              "width": 0.5
             }
            },
            "type": "barpolar"
           }
          ],
          "carpet": [
           {
            "aaxis": {
             "endlinecolor": "#2a3f5f",
             "gridcolor": "white",
             "linecolor": "white",
             "minorgridcolor": "white",
             "startlinecolor": "#2a3f5f"
            },
            "baxis": {
             "endlinecolor": "#2a3f5f",
             "gridcolor": "white",
             "linecolor": "white",
             "minorgridcolor": "white",
             "startlinecolor": "#2a3f5f"
            },
            "type": "carpet"
           }
          ],
          "choropleth": [
           {
            "colorbar": {
             "outlinewidth": 0,
             "ticks": ""
            },
            "type": "choropleth"
           }
          ],
          "contour": [
           {
            "colorbar": {
             "outlinewidth": 0,
             "ticks": ""
            },
            "colorscale": [
             [
              0,
              "#0d0887"
             ],
             [
              0.1111111111111111,
              "#46039f"
             ],
             [
              0.2222222222222222,
              "#7201a8"
             ],
             [
              0.3333333333333333,
              "#9c179e"
             ],
             [
              0.4444444444444444,
              "#bd3786"
             ],
             [
              0.5555555555555556,
              "#d8576b"
             ],
             [
              0.6666666666666666,
              "#ed7953"
             ],
             [
              0.7777777777777778,
              "#fb9f3a"
             ],
             [
              0.8888888888888888,
              "#fdca26"
             ],
             [
              1,
              "#f0f921"
             ]
            ],
            "type": "contour"
           }
          ],
          "contourcarpet": [
           {
            "colorbar": {
             "outlinewidth": 0,
             "ticks": ""
            },
            "type": "contourcarpet"
           }
          ],
          "heatmap": [
           {
            "colorbar": {
             "outlinewidth": 0,
             "ticks": ""
            },
            "colorscale": [
             [
              0,
              "#0d0887"
             ],
             [
              0.1111111111111111,
              "#46039f"
             ],
             [
              0.2222222222222222,
              "#7201a8"
             ],
             [
              0.3333333333333333,
              "#9c179e"
             ],
             [
              0.4444444444444444,
              "#bd3786"
             ],
             [
              0.5555555555555556,
              "#d8576b"
             ],
             [
              0.6666666666666666,
              "#ed7953"
             ],
             [
              0.7777777777777778,
              "#fb9f3a"
             ],
             [
              0.8888888888888888,
              "#fdca26"
             ],
             [
              1,
              "#f0f921"
             ]
            ],
            "type": "heatmap"
           }
          ],
          "heatmapgl": [
           {
            "colorbar": {
             "outlinewidth": 0,
             "ticks": ""
            },
            "colorscale": [
             [
              0,
              "#0d0887"
             ],
             [
              0.1111111111111111,
              "#46039f"
             ],
             [
              0.2222222222222222,
              "#7201a8"
             ],
             [
              0.3333333333333333,
              "#9c179e"
             ],
             [
              0.4444444444444444,
              "#bd3786"
             ],
             [
              0.5555555555555556,
              "#d8576b"
             ],
             [
              0.6666666666666666,
              "#ed7953"
             ],
             [
              0.7777777777777778,
              "#fb9f3a"
             ],
             [
              0.8888888888888888,
              "#fdca26"
             ],
             [
              1,
              "#f0f921"
             ]
            ],
            "type": "heatmapgl"
           }
          ],
          "histogram": [
           {
            "marker": {
             "colorbar": {
              "outlinewidth": 0,
              "ticks": ""
             }
            },
            "type": "histogram"
           }
          ],
          "histogram2d": [
           {
            "colorbar": {
             "outlinewidth": 0,
             "ticks": ""
            },
            "colorscale": [
             [
              0,
              "#0d0887"
             ],
             [
              0.1111111111111111,
              "#46039f"
             ],
             [
              0.2222222222222222,
              "#7201a8"
             ],
             [
              0.3333333333333333,
              "#9c179e"
             ],
             [
              0.4444444444444444,
              "#bd3786"
             ],
             [
              0.5555555555555556,
              "#d8576b"
             ],
             [
              0.6666666666666666,
              "#ed7953"
             ],
             [
              0.7777777777777778,
              "#fb9f3a"
             ],
             [
              0.8888888888888888,
              "#fdca26"
             ],
             [
              1,
              "#f0f921"
             ]
            ],
            "type": "histogram2d"
           }
          ],
          "histogram2dcontour": [
           {
            "colorbar": {
             "outlinewidth": 0,
             "ticks": ""
            },
            "colorscale": [
             [
              0,
              "#0d0887"
             ],
             [
              0.1111111111111111,
              "#46039f"
             ],
             [
              0.2222222222222222,
              "#7201a8"
             ],
             [
              0.3333333333333333,
              "#9c179e"
             ],
             [
              0.4444444444444444,
              "#bd3786"
             ],
             [
              0.5555555555555556,
              "#d8576b"
             ],
             [
              0.6666666666666666,
              "#ed7953"
             ],
             [
              0.7777777777777778,
              "#fb9f3a"
             ],
             [
              0.8888888888888888,
              "#fdca26"
             ],
             [
              1,
              "#f0f921"
             ]
            ],
            "type": "histogram2dcontour"
           }
          ],
          "mesh3d": [
           {
            "colorbar": {
             "outlinewidth": 0,
             "ticks": ""
            },
            "type": "mesh3d"
           }
          ],
          "parcoords": [
           {
            "line": {
             "colorbar": {
              "outlinewidth": 0,
              "ticks": ""
             }
            },
            "type": "parcoords"
           }
          ],
          "pie": [
           {
            "automargin": true,
            "type": "pie"
           }
          ],
          "scatter": [
           {
            "marker": {
             "colorbar": {
              "outlinewidth": 0,
              "ticks": ""
             }
            },
            "type": "scatter"
           }
          ],
          "scatter3d": [
           {
            "line": {
             "colorbar": {
              "outlinewidth": 0,
              "ticks": ""
             }
            },
            "marker": {
             "colorbar": {
              "outlinewidth": 0,
              "ticks": ""
             }
            },
            "type": "scatter3d"
           }
          ],
          "scattercarpet": [
           {
            "marker": {
             "colorbar": {
              "outlinewidth": 0,
              "ticks": ""
             }
            },
            "type": "scattercarpet"
           }
          ],
          "scattergeo": [
           {
            "marker": {
             "colorbar": {
              "outlinewidth": 0,
              "ticks": ""
             }
            },
            "type": "scattergeo"
           }
          ],
          "scattergl": [
           {
            "marker": {
             "colorbar": {
              "outlinewidth": 0,
              "ticks": ""
             }
            },
            "type": "scattergl"
           }
          ],
          "scattermapbox": [
           {
            "marker": {
             "colorbar": {
              "outlinewidth": 0,
              "ticks": ""
             }
            },
            "type": "scattermapbox"
           }
          ],
          "scatterpolar": [
           {
            "marker": {
             "colorbar": {
              "outlinewidth": 0,
              "ticks": ""
             }
            },
            "type": "scatterpolar"
           }
          ],
          "scatterpolargl": [
           {
            "marker": {
             "colorbar": {
              "outlinewidth": 0,
              "ticks": ""
             }
            },
            "type": "scatterpolargl"
           }
          ],
          "scatterternary": [
           {
            "marker": {
             "colorbar": {
              "outlinewidth": 0,
              "ticks": ""
             }
            },
            "type": "scatterternary"
           }
          ],
          "surface": [
           {
            "colorbar": {
             "outlinewidth": 0,
             "ticks": ""
            },
            "colorscale": [
             [
              0,
              "#0d0887"
             ],
             [
              0.1111111111111111,
              "#46039f"
             ],
             [
              0.2222222222222222,
              "#7201a8"
             ],
             [
              0.3333333333333333,
              "#9c179e"
             ],
             [
              0.4444444444444444,
              "#bd3786"
             ],
             [
              0.5555555555555556,
              "#d8576b"
             ],
             [
              0.6666666666666666,
              "#ed7953"
             ],
             [
              0.7777777777777778,
              "#fb9f3a"
             ],
             [
              0.8888888888888888,
              "#fdca26"
             ],
             [
              1,
              "#f0f921"
             ]
            ],
            "type": "surface"
           }
          ],
          "table": [
           {
            "cells": {
             "fill": {
              "color": "#EBF0F8"
             },
             "line": {
              "color": "white"
             }
            },
            "header": {
             "fill": {
              "color": "#C8D4E3"
             },
             "line": {
              "color": "white"
             }
            },
            "type": "table"
           }
          ]
         },
         "layout": {
          "annotationdefaults": {
           "arrowcolor": "#2a3f5f",
           "arrowhead": 0,
           "arrowwidth": 1
          },
          "coloraxis": {
           "colorbar": {
            "outlinewidth": 0,
            "ticks": ""
           }
          },
          "colorscale": {
           "diverging": [
            [
             0,
             "#8e0152"
            ],
            [
             0.1,
             "#c51b7d"
            ],
            [
             0.2,
             "#de77ae"
            ],
            [
             0.3,
             "#f1b6da"
            ],
            [
             0.4,
             "#fde0ef"
            ],
            [
             0.5,
             "#f7f7f7"
            ],
            [
             0.6,
             "#e6f5d0"
            ],
            [
             0.7,
             "#b8e186"
            ],
            [
             0.8,
             "#7fbc41"
            ],
            [
             0.9,
             "#4d9221"
            ],
            [
             1,
             "#276419"
            ]
           ],
           "sequential": [
            [
             0,
             "#0d0887"
            ],
            [
             0.1111111111111111,
             "#46039f"
            ],
            [
             0.2222222222222222,
             "#7201a8"
            ],
            [
             0.3333333333333333,
             "#9c179e"
            ],
            [
             0.4444444444444444,
             "#bd3786"
            ],
            [
             0.5555555555555556,
             "#d8576b"
            ],
            [
             0.6666666666666666,
             "#ed7953"
            ],
            [
             0.7777777777777778,
             "#fb9f3a"
            ],
            [
             0.8888888888888888,
             "#fdca26"
            ],
            [
             1,
             "#f0f921"
            ]
           ],
           "sequentialminus": [
            [
             0,
             "#0d0887"
            ],
            [
             0.1111111111111111,
             "#46039f"
            ],
            [
             0.2222222222222222,
             "#7201a8"
            ],
            [
             0.3333333333333333,
             "#9c179e"
            ],
            [
             0.4444444444444444,
             "#bd3786"
            ],
            [
             0.5555555555555556,
             "#d8576b"
            ],
            [
             0.6666666666666666,
             "#ed7953"
            ],
            [
             0.7777777777777778,
             "#fb9f3a"
            ],
            [
             0.8888888888888888,
             "#fdca26"
            ],
            [
             1,
             "#f0f921"
            ]
           ]
          },
          "colorway": [
           "#636efa",
           "#EF553B",
           "#00cc96",
           "#ab63fa",
           "#FFA15A",
           "#19d3f3",
           "#FF6692",
           "#B6E880",
           "#FF97FF",
           "#FECB52"
          ],
          "font": {
           "color": "#2a3f5f"
          },
          "geo": {
           "bgcolor": "white",
           "lakecolor": "white",
           "landcolor": "#E5ECF6",
           "showlakes": true,
           "showland": true,
           "subunitcolor": "white"
          },
          "hoverlabel": {
           "align": "left"
          },
          "hovermode": "closest",
          "mapbox": {
           "style": "light"
          },
          "paper_bgcolor": "white",
          "plot_bgcolor": "#E5ECF6",
          "polar": {
           "angularaxis": {
            "gridcolor": "white",
            "linecolor": "white",
            "ticks": ""
           },
           "bgcolor": "#E5ECF6",
           "radialaxis": {
            "gridcolor": "white",
            "linecolor": "white",
            "ticks": ""
           }
          },
          "scene": {
           "xaxis": {
            "backgroundcolor": "#E5ECF6",
            "gridcolor": "white",
            "gridwidth": 2,
            "linecolor": "white",
            "showbackground": true,
            "ticks": "",
            "zerolinecolor": "white"
           },
           "yaxis": {
            "backgroundcolor": "#E5ECF6",
            "gridcolor": "white",
            "gridwidth": 2,
            "linecolor": "white",
            "showbackground": true,
            "ticks": "",
            "zerolinecolor": "white"
           },
           "zaxis": {
            "backgroundcolor": "#E5ECF6",
            "gridcolor": "white",
            "gridwidth": 2,
            "linecolor": "white",
            "showbackground": true,
            "ticks": "",
            "zerolinecolor": "white"
           }
          },
          "shapedefaults": {
           "line": {
            "color": "#2a3f5f"
           }
          },
          "ternary": {
           "aaxis": {
            "gridcolor": "white",
            "linecolor": "white",
            "ticks": ""
           },
           "baxis": {
            "gridcolor": "white",
            "linecolor": "white",
            "ticks": ""
           },
           "bgcolor": "#E5ECF6",
           "caxis": {
            "gridcolor": "white",
            "linecolor": "white",
            "ticks": ""
           }
          },
          "title": {
           "x": 0.05
          },
          "xaxis": {
           "automargin": true,
           "gridcolor": "white",
           "linecolor": "white",
           "ticks": "",
           "title": {
            "standoff": 15
           },
           "zerolinecolor": "white",
           "zerolinewidth": 2
          },
          "yaxis": {
           "automargin": true,
           "gridcolor": "white",
           "linecolor": "white",
           "ticks": "",
           "title": {
            "standoff": 15
           },
           "zerolinecolor": "white",
           "zerolinewidth": 2
          }
         }
        }
       }
      },
      "text/html": [
       "<div>\n",
       "        \n",
       "        \n",
       "            <div id=\"e0cea884-8498-4dfd-995f-e5ceec42d20d\" class=\"plotly-graph-div\" style=\"height:525px; width:100%;\"></div>\n",
       "            <script type=\"text/javascript\">\n",
       "                require([\"plotly\"], function(Plotly) {\n",
       "                    window.PLOTLYENV=window.PLOTLYENV || {};\n",
       "                    \n",
       "                if (document.getElementById(\"e0cea884-8498-4dfd-995f-e5ceec42d20d\")) {\n",
       "                    Plotly.newPlot(\n",
       "                        'e0cea884-8498-4dfd-995f-e5ceec42d20d',\n",
       "                        [{\"connectgaps\": true, \"name\": \"LDA1 -- 0.4950\", \"type\": \"scatter\", \"x\": [3, 4, 5, 6, 7, 8, 9, 10, 11, 12, 15, 16, 17, 18, 19, 20, 21, 22, 23, 24, 25, 26, 27, 28, 32], \"y\": [0.453746811377013, 0.4543142956360075, 0.44000187618365993, 0.4581571657838096, 0.46984870428707387, 0.47610185840323466, 0.48317542279203035, 0.48802285367052933, 0.48323501745789343, 0.4866373648095633, 0.505854611858723, 0.5022003683730674, 0.5010793840900359, 0.5111119595824373, 0.515144417533006, 0.521245207372759, 0.5122524144860916, 0.5249903906812654, 0.5097310771428045, 0.5201291049265613, 0.5184369173483643, 0.5214822318819609, 0.5287216425340396, null, null]}, {\"connectgaps\": true, \"name\": \"LDA2 -- 0.4953\", \"type\": \"scatter\", \"x\": [3, 4, 5, 6, 7, 8, 9, 10, 11, 12, 15, 16, 17, 18, 19, 20, 21, 22, 23, 24, 25, 26, 27, 28, 32], \"y\": [0.4453408362707548, 0.46314043160696267, 0.45221313389876827, 0.4606954820942374, 0.46558403810321614, 0.4697363016902499, 0.49018771935950545, 0.4836054557881634, 0.48376449094129303, 0.4915163718510247, 0.5024176845960839, 0.5031577876589881, 0.5090946002368455, 0.5132941326032961, 0.5238296671583215, 0.5196399630963546, 0.5146848348352382, 0.5193794597531491, 0.5082358257676458, 0.5145733629128202, 0.524281868737874, 0.5114351252661073, 0.5217924284663137, null, null]}, {\"connectgaps\": true, \"name\": \"LDA3 -- 0.4861\", \"type\": \"scatter\", \"x\": [3, 4, 5, 6, 7, 8, 9, 10, 11, 12, 15, 16, 17, 18, 19, 20, 21, 22, 23, 24, 25, 26, 27, 28, 32], \"y\": [0.41206144256159144, 0.42671166302945746, 0.44916949196660744, 0.45569164635908055, 0.4648744149161394, 0.46744709274917495, 0.46168394025311343, 0.4634669620823683, 0.4797955485980966, 0.4750718818617937, 0.5018858954271518, 0.5105606032698446, 0.5129244106242947, 0.5131194870216899, 0.5114954992092428, 0.5113470766412048, 0.5204151486150751, 0.5052414495690666, 0.5073749553000685, 0.5043013930960671, 0.500944565582988, 0.5085358839383857, 0.5160892539721386, null, null]}, {\"connectgaps\": true, \"name\": \"LDA4 -- 0.4773\", \"type\": \"scatter\", \"x\": [3, 4, 5, 6, 7, 8, 9, 10, 11, 12, 15, 16, 17, 18, 19, 20, 21, 22, 23, 24, 25, 26, 27, 28, 32], \"y\": [0.40914259409344544, 0.41954178687763233, 0.4190719106919212, 0.46696163357149423, 0.464113637417439, 0.46604927386232753, 0.46918982631227757, 0.478794224775941, 0.4870228970481372, 0.4941820946093556, 0.5034418528576593, 0.5077018394729708, 0.4718086608246515, 0.49769771919376704, 0.48837895449902524, 0.48950964775069, 0.4921642292752457, 0.4957162362292006, 0.5030695003524752, 0.4978395840763422, 0.47333324862621406, 0.48943118678007536, 0.49344169127721843, null, null]}],\n",
       "                        {\"template\": {\"data\": {\"bar\": [{\"error_x\": {\"color\": \"#2a3f5f\"}, \"error_y\": {\"color\": \"#2a3f5f\"}, \"marker\": {\"line\": {\"color\": \"#E5ECF6\", \"width\": 0.5}}, \"type\": \"bar\"}], \"barpolar\": [{\"marker\": {\"line\": {\"color\": \"#E5ECF6\", \"width\": 0.5}}, \"type\": \"barpolar\"}], \"carpet\": [{\"aaxis\": {\"endlinecolor\": \"#2a3f5f\", \"gridcolor\": \"white\", \"linecolor\": \"white\", \"minorgridcolor\": \"white\", \"startlinecolor\": \"#2a3f5f\"}, \"baxis\": {\"endlinecolor\": \"#2a3f5f\", \"gridcolor\": \"white\", \"linecolor\": \"white\", \"minorgridcolor\": \"white\", \"startlinecolor\": \"#2a3f5f\"}, \"type\": \"carpet\"}], \"choropleth\": [{\"colorbar\": {\"outlinewidth\": 0, \"ticks\": \"\"}, \"type\": \"choropleth\"}], \"contour\": [{\"colorbar\": {\"outlinewidth\": 0, \"ticks\": \"\"}, \"colorscale\": [[0.0, \"#0d0887\"], [0.1111111111111111, \"#46039f\"], [0.2222222222222222, \"#7201a8\"], [0.3333333333333333, \"#9c179e\"], [0.4444444444444444, \"#bd3786\"], [0.5555555555555556, \"#d8576b\"], [0.6666666666666666, \"#ed7953\"], [0.7777777777777778, \"#fb9f3a\"], [0.8888888888888888, \"#fdca26\"], [1.0, \"#f0f921\"]], \"type\": \"contour\"}], \"contourcarpet\": [{\"colorbar\": {\"outlinewidth\": 0, \"ticks\": \"\"}, \"type\": \"contourcarpet\"}], \"heatmap\": [{\"colorbar\": {\"outlinewidth\": 0, \"ticks\": \"\"}, \"colorscale\": [[0.0, \"#0d0887\"], [0.1111111111111111, \"#46039f\"], [0.2222222222222222, \"#7201a8\"], [0.3333333333333333, \"#9c179e\"], [0.4444444444444444, \"#bd3786\"], [0.5555555555555556, \"#d8576b\"], [0.6666666666666666, \"#ed7953\"], [0.7777777777777778, \"#fb9f3a\"], [0.8888888888888888, \"#fdca26\"], [1.0, \"#f0f921\"]], \"type\": \"heatmap\"}], \"heatmapgl\": [{\"colorbar\": {\"outlinewidth\": 0, \"ticks\": \"\"}, \"colorscale\": [[0.0, \"#0d0887\"], [0.1111111111111111, \"#46039f\"], [0.2222222222222222, \"#7201a8\"], [0.3333333333333333, \"#9c179e\"], [0.4444444444444444, \"#bd3786\"], [0.5555555555555556, \"#d8576b\"], [0.6666666666666666, \"#ed7953\"], [0.7777777777777778, \"#fb9f3a\"], [0.8888888888888888, \"#fdca26\"], [1.0, \"#f0f921\"]], \"type\": \"heatmapgl\"}], \"histogram\": [{\"marker\": {\"colorbar\": {\"outlinewidth\": 0, \"ticks\": \"\"}}, \"type\": \"histogram\"}], \"histogram2d\": [{\"colorbar\": {\"outlinewidth\": 0, \"ticks\": \"\"}, \"colorscale\": [[0.0, \"#0d0887\"], [0.1111111111111111, \"#46039f\"], [0.2222222222222222, \"#7201a8\"], [0.3333333333333333, \"#9c179e\"], [0.4444444444444444, \"#bd3786\"], [0.5555555555555556, \"#d8576b\"], [0.6666666666666666, \"#ed7953\"], [0.7777777777777778, \"#fb9f3a\"], [0.8888888888888888, \"#fdca26\"], [1.0, \"#f0f921\"]], \"type\": \"histogram2d\"}], \"histogram2dcontour\": [{\"colorbar\": {\"outlinewidth\": 0, \"ticks\": \"\"}, \"colorscale\": [[0.0, \"#0d0887\"], [0.1111111111111111, \"#46039f\"], [0.2222222222222222, \"#7201a8\"], [0.3333333333333333, \"#9c179e\"], [0.4444444444444444, \"#bd3786\"], [0.5555555555555556, \"#d8576b\"], [0.6666666666666666, \"#ed7953\"], [0.7777777777777778, \"#fb9f3a\"], [0.8888888888888888, \"#fdca26\"], [1.0, \"#f0f921\"]], \"type\": \"histogram2dcontour\"}], \"mesh3d\": [{\"colorbar\": {\"outlinewidth\": 0, \"ticks\": \"\"}, \"type\": \"mesh3d\"}], \"parcoords\": [{\"line\": {\"colorbar\": {\"outlinewidth\": 0, \"ticks\": \"\"}}, \"type\": \"parcoords\"}], \"pie\": [{\"automargin\": true, \"type\": \"pie\"}], \"scatter\": [{\"marker\": {\"colorbar\": {\"outlinewidth\": 0, \"ticks\": \"\"}}, \"type\": \"scatter\"}], \"scatter3d\": [{\"line\": {\"colorbar\": {\"outlinewidth\": 0, \"ticks\": \"\"}}, \"marker\": {\"colorbar\": {\"outlinewidth\": 0, \"ticks\": \"\"}}, \"type\": \"scatter3d\"}], \"scattercarpet\": [{\"marker\": {\"colorbar\": {\"outlinewidth\": 0, \"ticks\": \"\"}}, \"type\": \"scattercarpet\"}], \"scattergeo\": [{\"marker\": {\"colorbar\": {\"outlinewidth\": 0, \"ticks\": \"\"}}, \"type\": \"scattergeo\"}], \"scattergl\": [{\"marker\": {\"colorbar\": {\"outlinewidth\": 0, \"ticks\": \"\"}}, \"type\": \"scattergl\"}], \"scattermapbox\": [{\"marker\": {\"colorbar\": {\"outlinewidth\": 0, \"ticks\": \"\"}}, \"type\": \"scattermapbox\"}], \"scatterpolar\": [{\"marker\": {\"colorbar\": {\"outlinewidth\": 0, \"ticks\": \"\"}}, \"type\": \"scatterpolar\"}], \"scatterpolargl\": [{\"marker\": {\"colorbar\": {\"outlinewidth\": 0, \"ticks\": \"\"}}, \"type\": \"scatterpolargl\"}], \"scatterternary\": [{\"marker\": {\"colorbar\": {\"outlinewidth\": 0, \"ticks\": \"\"}}, \"type\": \"scatterternary\"}], \"surface\": [{\"colorbar\": {\"outlinewidth\": 0, \"ticks\": \"\"}, \"colorscale\": [[0.0, \"#0d0887\"], [0.1111111111111111, \"#46039f\"], [0.2222222222222222, \"#7201a8\"], [0.3333333333333333, \"#9c179e\"], [0.4444444444444444, \"#bd3786\"], [0.5555555555555556, \"#d8576b\"], [0.6666666666666666, \"#ed7953\"], [0.7777777777777778, \"#fb9f3a\"], [0.8888888888888888, \"#fdca26\"], [1.0, \"#f0f921\"]], \"type\": \"surface\"}], \"table\": [{\"cells\": {\"fill\": {\"color\": \"#EBF0F8\"}, \"line\": {\"color\": \"white\"}}, \"header\": {\"fill\": {\"color\": \"#C8D4E3\"}, \"line\": {\"color\": \"white\"}}, \"type\": \"table\"}]}, \"layout\": {\"annotationdefaults\": {\"arrowcolor\": \"#2a3f5f\", \"arrowhead\": 0, \"arrowwidth\": 1}, \"coloraxis\": {\"colorbar\": {\"outlinewidth\": 0, \"ticks\": \"\"}}, \"colorscale\": {\"diverging\": [[0, \"#8e0152\"], [0.1, \"#c51b7d\"], [0.2, \"#de77ae\"], [0.3, \"#f1b6da\"], [0.4, \"#fde0ef\"], [0.5, \"#f7f7f7\"], [0.6, \"#e6f5d0\"], [0.7, \"#b8e186\"], [0.8, \"#7fbc41\"], [0.9, \"#4d9221\"], [1, \"#276419\"]], \"sequential\": [[0.0, \"#0d0887\"], [0.1111111111111111, \"#46039f\"], [0.2222222222222222, \"#7201a8\"], [0.3333333333333333, \"#9c179e\"], [0.4444444444444444, \"#bd3786\"], [0.5555555555555556, \"#d8576b\"], [0.6666666666666666, \"#ed7953\"], [0.7777777777777778, \"#fb9f3a\"], [0.8888888888888888, \"#fdca26\"], [1.0, \"#f0f921\"]], \"sequentialminus\": [[0.0, \"#0d0887\"], [0.1111111111111111, \"#46039f\"], [0.2222222222222222, \"#7201a8\"], [0.3333333333333333, \"#9c179e\"], [0.4444444444444444, \"#bd3786\"], [0.5555555555555556, \"#d8576b\"], [0.6666666666666666, \"#ed7953\"], [0.7777777777777778, \"#fb9f3a\"], [0.8888888888888888, \"#fdca26\"], [1.0, \"#f0f921\"]]}, \"colorway\": [\"#636efa\", \"#EF553B\", \"#00cc96\", \"#ab63fa\", \"#FFA15A\", \"#19d3f3\", \"#FF6692\", \"#B6E880\", \"#FF97FF\", \"#FECB52\"], \"font\": {\"color\": \"#2a3f5f\"}, \"geo\": {\"bgcolor\": \"white\", \"lakecolor\": \"white\", \"landcolor\": \"#E5ECF6\", \"showlakes\": true, \"showland\": true, \"subunitcolor\": \"white\"}, \"hoverlabel\": {\"align\": \"left\"}, \"hovermode\": \"closest\", \"mapbox\": {\"style\": \"light\"}, \"paper_bgcolor\": \"white\", \"plot_bgcolor\": \"#E5ECF6\", \"polar\": {\"angularaxis\": {\"gridcolor\": \"white\", \"linecolor\": \"white\", \"ticks\": \"\"}, \"bgcolor\": \"#E5ECF6\", \"radialaxis\": {\"gridcolor\": \"white\", \"linecolor\": \"white\", \"ticks\": \"\"}}, \"scene\": {\"xaxis\": {\"backgroundcolor\": \"#E5ECF6\", \"gridcolor\": \"white\", \"gridwidth\": 2, \"linecolor\": \"white\", \"showbackground\": true, \"ticks\": \"\", \"zerolinecolor\": \"white\"}, \"yaxis\": {\"backgroundcolor\": \"#E5ECF6\", \"gridcolor\": \"white\", \"gridwidth\": 2, \"linecolor\": \"white\", \"showbackground\": true, \"ticks\": \"\", \"zerolinecolor\": \"white\"}, \"zaxis\": {\"backgroundcolor\": \"#E5ECF6\", \"gridcolor\": \"white\", \"gridwidth\": 2, \"linecolor\": \"white\", \"showbackground\": true, \"ticks\": \"\", \"zerolinecolor\": \"white\"}}, \"shapedefaults\": {\"line\": {\"color\": \"#2a3f5f\"}}, \"ternary\": {\"aaxis\": {\"gridcolor\": \"white\", \"linecolor\": \"white\", \"ticks\": \"\"}, \"baxis\": {\"gridcolor\": \"white\", \"linecolor\": \"white\", \"ticks\": \"\"}, \"bgcolor\": \"#E5ECF6\", \"caxis\": {\"gridcolor\": \"white\", \"linecolor\": \"white\", \"ticks\": \"\"}}, \"title\": {\"x\": 0.05}, \"xaxis\": {\"automargin\": true, \"gridcolor\": \"white\", \"linecolor\": \"white\", \"ticks\": \"\", \"title\": {\"standoff\": 15}, \"zerolinecolor\": \"white\", \"zerolinewidth\": 2}, \"yaxis\": {\"automargin\": true, \"gridcolor\": \"white\", \"linecolor\": \"white\", \"ticks\": \"\", \"title\": {\"standoff\": 15}, \"zerolinecolor\": \"white\", \"zerolinewidth\": 2}}}},\n",
       "                        {\"responsive\": true}\n",
       "                    ).then(function(){\n",
       "                            \n",
       "var gd = document.getElementById('e0cea884-8498-4dfd-995f-e5ceec42d20d');\n",
       "var x = new MutationObserver(function (mutations, observer) {{\n",
       "        var display = window.getComputedStyle(gd).display;\n",
       "        if (!display || display === 'none') {{\n",
       "            console.log([gd, 'removed!']);\n",
       "            Plotly.purge(gd);\n",
       "            observer.disconnect();\n",
       "        }}\n",
       "}});\n",
       "\n",
       "// Listen for the removal of the full notebook cells\n",
       "var notebookContainer = gd.closest('#notebook-container');\n",
       "if (notebookContainer) {{\n",
       "    x.observe(notebookContainer, {childList: true});\n",
       "}}\n",
       "\n",
       "// Listen for the clearing of the current output cell\n",
       "var outputEl = gd.closest('.output');\n",
       "if (outputEl) {{\n",
       "    x.observe(outputEl, {childList: true});\n",
       "}}\n",
       "\n",
       "                        })\n",
       "                };\n",
       "                });\n",
       "            </script>\n",
       "        </div>"
      ]
     },
     "metadata": {},
     "output_type": "display_data"
    }
   ],
   "source": [
    "# Selected the D1 config based on the results above\n",
    "review_this = full_coherence_data[(full_coherence_data['Range']==rng) & (full_coherence_data['Config']=='D1')]\n",
    "\n",
    "\n",
    "import plotly.graph_objects as go\n",
    "import numpy as np\n",
    "\n",
    "x_axis_vals = list(full_coherence_data['N_Topics'].unique())\n",
    "\n",
    "series_names = sorted(list(review_this['Setting'].unique()))\n",
    "#series_names = ['LDA2']\n",
    "fig = go.Figure()\n",
    "\n",
    "for setting in series_names:\n",
    "\n",
    "    graph_data = review_this[(review_this['Setting']==setting)]\n",
    "    graph_data\n",
    "\n",
    "    score_dict = graph_data.set_index('N_Topics')[['CS_Ave']].to_dict()['CS_Ave']\n",
    "\n",
    "    # For each possible topic number, fill in the corresponding socre. Use None if no score was provided for that number of topics for that model.\n",
    "    y_axis_vals = [score_dict[x] if x in score_dict else None for x in x_axis_vals]\n",
    "    # Calculate the average coherence score for the setting \n",
    "    y_ave = np.mean(list(score_dict.values()))\n",
    "    \n",
    "    fig.add_trace(go.Scatter(\n",
    "        x=x_axis_vals,\n",
    "        y=y_axis_vals,\n",
    "        name = setting + \" -- {:.4f}\".format(y_ave), # Style name/legend entry with html tags\n",
    "        connectgaps=True # override default to connect the gaps\n",
    "    ))\n",
    "\n",
    "fig.show()"
   ]
  },
  {
   "cell_type": "code",
   "execution_count": 80,
   "metadata": {},
   "outputs": [
    {
     "data": {
      "text/html": [
       "<div>\n",
       "<style scoped>\n",
       "    .dataframe tbody tr th:only-of-type {\n",
       "        vertical-align: middle;\n",
       "    }\n",
       "\n",
       "    .dataframe tbody tr th {\n",
       "        vertical-align: top;\n",
       "    }\n",
       "\n",
       "    .dataframe thead th {\n",
       "        text-align: right;\n",
       "    }\n",
       "</style>\n",
       "<table border=\"1\" class=\"dataframe\">\n",
       "  <thead>\n",
       "    <tr style=\"text-align: right;\">\n",
       "      <th></th>\n",
       "      <th>Range</th>\n",
       "      <th>Setting</th>\n",
       "      <th>Config</th>\n",
       "      <th>N_Topics</th>\n",
       "      <th>CS_Ave</th>\n",
       "      <th>CS_Med</th>\n",
       "      <th>CS_0.5</th>\n",
       "      <th>CS_0.54</th>\n",
       "      <th>CS_0.59</th>\n",
       "      <th>CS_0.64</th>\n",
       "      <th>CS_0.69</th>\n",
       "    </tr>\n",
       "  </thead>\n",
       "  <tbody>\n",
       "    <tr>\n",
       "      <td>46</td>\n",
       "      <td>[0, 35)</td>\n",
       "      <td>LDA4</td>\n",
       "      <td>D1</td>\n",
       "      <td>3</td>\n",
       "      <td>0.409143</td>\n",
       "      <td>0.406234</td>\n",
       "      <td>0.000000</td>\n",
       "      <td>0.000000</td>\n",
       "      <td>0.000000</td>\n",
       "      <td>0.000000</td>\n",
       "      <td>0.000000</td>\n",
       "    </tr>\n",
       "    <tr>\n",
       "      <td>47</td>\n",
       "      <td>[0, 35)</td>\n",
       "      <td>LDA4</td>\n",
       "      <td>D1</td>\n",
       "      <td>4</td>\n",
       "      <td>0.419542</td>\n",
       "      <td>0.403730</td>\n",
       "      <td>0.000000</td>\n",
       "      <td>0.000000</td>\n",
       "      <td>0.000000</td>\n",
       "      <td>0.000000</td>\n",
       "      <td>0.000000</td>\n",
       "    </tr>\n",
       "    <tr>\n",
       "      <td>48</td>\n",
       "      <td>[0, 35)</td>\n",
       "      <td>LDA4</td>\n",
       "      <td>D1</td>\n",
       "      <td>5</td>\n",
       "      <td>0.419072</td>\n",
       "      <td>0.413809</td>\n",
       "      <td>0.000000</td>\n",
       "      <td>0.000000</td>\n",
       "      <td>0.000000</td>\n",
       "      <td>0.000000</td>\n",
       "      <td>0.000000</td>\n",
       "    </tr>\n",
       "    <tr>\n",
       "      <td>49</td>\n",
       "      <td>[0, 35)</td>\n",
       "      <td>LDA4</td>\n",
       "      <td>D1</td>\n",
       "      <td>6</td>\n",
       "      <td>0.466962</td>\n",
       "      <td>0.460297</td>\n",
       "      <td>0.166667</td>\n",
       "      <td>0.000000</td>\n",
       "      <td>0.000000</td>\n",
       "      <td>0.000000</td>\n",
       "      <td>0.000000</td>\n",
       "    </tr>\n",
       "    <tr>\n",
       "      <td>50</td>\n",
       "      <td>[0, 35)</td>\n",
       "      <td>LDA4</td>\n",
       "      <td>D1</td>\n",
       "      <td>7</td>\n",
       "      <td>0.464114</td>\n",
       "      <td>0.461725</td>\n",
       "      <td>0.142857</td>\n",
       "      <td>0.000000</td>\n",
       "      <td>0.000000</td>\n",
       "      <td>0.000000</td>\n",
       "      <td>0.000000</td>\n",
       "    </tr>\n",
       "    <tr>\n",
       "      <td>51</td>\n",
       "      <td>[0, 35)</td>\n",
       "      <td>LDA4</td>\n",
       "      <td>D1</td>\n",
       "      <td>8</td>\n",
       "      <td>0.466049</td>\n",
       "      <td>0.436794</td>\n",
       "      <td>0.250000</td>\n",
       "      <td>0.250000</td>\n",
       "      <td>0.000000</td>\n",
       "      <td>0.000000</td>\n",
       "      <td>0.000000</td>\n",
       "    </tr>\n",
       "    <tr>\n",
       "      <td>52</td>\n",
       "      <td>[0, 35)</td>\n",
       "      <td>LDA4</td>\n",
       "      <td>D1</td>\n",
       "      <td>9</td>\n",
       "      <td>0.469190</td>\n",
       "      <td>0.441636</td>\n",
       "      <td>0.333333</td>\n",
       "      <td>0.111111</td>\n",
       "      <td>0.111111</td>\n",
       "      <td>0.000000</td>\n",
       "      <td>0.000000</td>\n",
       "    </tr>\n",
       "    <tr>\n",
       "      <td>53</td>\n",
       "      <td>[0, 35)</td>\n",
       "      <td>LDA4</td>\n",
       "      <td>D1</td>\n",
       "      <td>10</td>\n",
       "      <td>0.478794</td>\n",
       "      <td>0.469211</td>\n",
       "      <td>0.400000</td>\n",
       "      <td>0.100000</td>\n",
       "      <td>0.100000</td>\n",
       "      <td>0.000000</td>\n",
       "      <td>0.000000</td>\n",
       "    </tr>\n",
       "    <tr>\n",
       "      <td>54</td>\n",
       "      <td>[0, 35)</td>\n",
       "      <td>LDA4</td>\n",
       "      <td>D1</td>\n",
       "      <td>11</td>\n",
       "      <td>0.487023</td>\n",
       "      <td>0.496495</td>\n",
       "      <td>0.363636</td>\n",
       "      <td>0.181818</td>\n",
       "      <td>0.181818</td>\n",
       "      <td>0.000000</td>\n",
       "      <td>0.000000</td>\n",
       "    </tr>\n",
       "    <tr>\n",
       "      <td>55</td>\n",
       "      <td>[0, 35)</td>\n",
       "      <td>LDA4</td>\n",
       "      <td>D1</td>\n",
       "      <td>12</td>\n",
       "      <td>0.494182</td>\n",
       "      <td>0.473282</td>\n",
       "      <td>0.416667</td>\n",
       "      <td>0.250000</td>\n",
       "      <td>0.166667</td>\n",
       "      <td>0.000000</td>\n",
       "      <td>0.000000</td>\n",
       "    </tr>\n",
       "    <tr>\n",
       "      <td>56</td>\n",
       "      <td>[0, 35)</td>\n",
       "      <td>LDA4</td>\n",
       "      <td>D1</td>\n",
       "      <td>15</td>\n",
       "      <td>0.503442</td>\n",
       "      <td>0.518652</td>\n",
       "      <td>0.533333</td>\n",
       "      <td>0.266667</td>\n",
       "      <td>0.133333</td>\n",
       "      <td>0.000000</td>\n",
       "      <td>0.000000</td>\n",
       "    </tr>\n",
       "    <tr>\n",
       "      <td>57</td>\n",
       "      <td>[0, 35)</td>\n",
       "      <td>LDA4</td>\n",
       "      <td>D1</td>\n",
       "      <td>16</td>\n",
       "      <td>0.507702</td>\n",
       "      <td>0.503549</td>\n",
       "      <td>0.562500</td>\n",
       "      <td>0.250000</td>\n",
       "      <td>0.187500</td>\n",
       "      <td>0.000000</td>\n",
       "      <td>0.000000</td>\n",
       "    </tr>\n",
       "    <tr>\n",
       "      <td>58</td>\n",
       "      <td>[0, 35)</td>\n",
       "      <td>LDA4</td>\n",
       "      <td>D1</td>\n",
       "      <td>17</td>\n",
       "      <td>0.471809</td>\n",
       "      <td>0.481045</td>\n",
       "      <td>0.294118</td>\n",
       "      <td>0.117647</td>\n",
       "      <td>0.058824</td>\n",
       "      <td>0.000000</td>\n",
       "      <td>0.000000</td>\n",
       "    </tr>\n",
       "    <tr>\n",
       "      <td>59</td>\n",
       "      <td>[0, 35)</td>\n",
       "      <td>LDA4</td>\n",
       "      <td>D1</td>\n",
       "      <td>18</td>\n",
       "      <td>0.497698</td>\n",
       "      <td>0.500551</td>\n",
       "      <td>0.555556</td>\n",
       "      <td>0.277778</td>\n",
       "      <td>0.055556</td>\n",
       "      <td>0.000000</td>\n",
       "      <td>0.000000</td>\n",
       "    </tr>\n",
       "    <tr>\n",
       "      <td>60</td>\n",
       "      <td>[0, 35)</td>\n",
       "      <td>LDA4</td>\n",
       "      <td>D1</td>\n",
       "      <td>19</td>\n",
       "      <td>0.488379</td>\n",
       "      <td>0.490886</td>\n",
       "      <td>0.368421</td>\n",
       "      <td>0.210526</td>\n",
       "      <td>0.052632</td>\n",
       "      <td>0.000000</td>\n",
       "      <td>0.000000</td>\n",
       "    </tr>\n",
       "    <tr>\n",
       "      <td>61</td>\n",
       "      <td>[0, 35)</td>\n",
       "      <td>LDA4</td>\n",
       "      <td>D1</td>\n",
       "      <td>20</td>\n",
       "      <td>0.489510</td>\n",
       "      <td>0.471039</td>\n",
       "      <td>0.350000</td>\n",
       "      <td>0.250000</td>\n",
       "      <td>0.100000</td>\n",
       "      <td>0.050000</td>\n",
       "      <td>0.000000</td>\n",
       "    </tr>\n",
       "    <tr>\n",
       "      <td>62</td>\n",
       "      <td>[0, 35)</td>\n",
       "      <td>LDA4</td>\n",
       "      <td>D1</td>\n",
       "      <td>21</td>\n",
       "      <td>0.492164</td>\n",
       "      <td>0.492015</td>\n",
       "      <td>0.380952</td>\n",
       "      <td>0.238095</td>\n",
       "      <td>0.095238</td>\n",
       "      <td>0.047619</td>\n",
       "      <td>0.000000</td>\n",
       "    </tr>\n",
       "    <tr>\n",
       "      <td>63</td>\n",
       "      <td>[0, 35)</td>\n",
       "      <td>LDA4</td>\n",
       "      <td>D1</td>\n",
       "      <td>22</td>\n",
       "      <td>0.495716</td>\n",
       "      <td>0.478717</td>\n",
       "      <td>0.363636</td>\n",
       "      <td>0.318182</td>\n",
       "      <td>0.136364</td>\n",
       "      <td>0.045455</td>\n",
       "      <td>0.000000</td>\n",
       "    </tr>\n",
       "    <tr>\n",
       "      <td>64</td>\n",
       "      <td>[0, 35)</td>\n",
       "      <td>LDA4</td>\n",
       "      <td>D1</td>\n",
       "      <td>23</td>\n",
       "      <td>0.503070</td>\n",
       "      <td>0.493162</td>\n",
       "      <td>0.434783</td>\n",
       "      <td>0.260870</td>\n",
       "      <td>0.130435</td>\n",
       "      <td>0.086957</td>\n",
       "      <td>0.043478</td>\n",
       "    </tr>\n",
       "    <tr>\n",
       "      <td>65</td>\n",
       "      <td>[0, 35)</td>\n",
       "      <td>LDA4</td>\n",
       "      <td>D1</td>\n",
       "      <td>24</td>\n",
       "      <td>0.497840</td>\n",
       "      <td>0.497675</td>\n",
       "      <td>0.458333</td>\n",
       "      <td>0.291667</td>\n",
       "      <td>0.083333</td>\n",
       "      <td>0.000000</td>\n",
       "      <td>0.000000</td>\n",
       "    </tr>\n",
       "    <tr>\n",
       "      <td>66</td>\n",
       "      <td>[0, 35)</td>\n",
       "      <td>LDA4</td>\n",
       "      <td>D1</td>\n",
       "      <td>25</td>\n",
       "      <td>0.473333</td>\n",
       "      <td>0.468932</td>\n",
       "      <td>0.280000</td>\n",
       "      <td>0.160000</td>\n",
       "      <td>0.080000</td>\n",
       "      <td>0.000000</td>\n",
       "      <td>0.000000</td>\n",
       "    </tr>\n",
       "    <tr>\n",
       "      <td>67</td>\n",
       "      <td>[0, 35)</td>\n",
       "      <td>LDA4</td>\n",
       "      <td>D1</td>\n",
       "      <td>26</td>\n",
       "      <td>0.489431</td>\n",
       "      <td>0.489065</td>\n",
       "      <td>0.461538</td>\n",
       "      <td>0.269231</td>\n",
       "      <td>0.076923</td>\n",
       "      <td>0.038462</td>\n",
       "      <td>0.000000</td>\n",
       "    </tr>\n",
       "    <tr>\n",
       "      <td>68</td>\n",
       "      <td>[0, 35)</td>\n",
       "      <td>LDA4</td>\n",
       "      <td>D1</td>\n",
       "      <td>27</td>\n",
       "      <td>0.493442</td>\n",
       "      <td>0.483405</td>\n",
       "      <td>0.444444</td>\n",
       "      <td>0.370370</td>\n",
       "      <td>0.074074</td>\n",
       "      <td>0.000000</td>\n",
       "      <td>0.000000</td>\n",
       "    </tr>\n",
       "  </tbody>\n",
       "</table>\n",
       "</div>"
      ],
      "text/plain": [
       "      Range Setting Config  N_Topics    CS_Ave    CS_Med    CS_0.5   CS_0.54  \\\n",
       "46  [0, 35)    LDA4     D1         3  0.409143  0.406234  0.000000  0.000000   \n",
       "47  [0, 35)    LDA4     D1         4  0.419542  0.403730  0.000000  0.000000   \n",
       "48  [0, 35)    LDA4     D1         5  0.419072  0.413809  0.000000  0.000000   \n",
       "49  [0, 35)    LDA4     D1         6  0.466962  0.460297  0.166667  0.000000   \n",
       "50  [0, 35)    LDA4     D1         7  0.464114  0.461725  0.142857  0.000000   \n",
       "51  [0, 35)    LDA4     D1         8  0.466049  0.436794  0.250000  0.250000   \n",
       "52  [0, 35)    LDA4     D1         9  0.469190  0.441636  0.333333  0.111111   \n",
       "53  [0, 35)    LDA4     D1        10  0.478794  0.469211  0.400000  0.100000   \n",
       "54  [0, 35)    LDA4     D1        11  0.487023  0.496495  0.363636  0.181818   \n",
       "55  [0, 35)    LDA4     D1        12  0.494182  0.473282  0.416667  0.250000   \n",
       "56  [0, 35)    LDA4     D1        15  0.503442  0.518652  0.533333  0.266667   \n",
       "57  [0, 35)    LDA4     D1        16  0.507702  0.503549  0.562500  0.250000   \n",
       "58  [0, 35)    LDA4     D1        17  0.471809  0.481045  0.294118  0.117647   \n",
       "59  [0, 35)    LDA4     D1        18  0.497698  0.500551  0.555556  0.277778   \n",
       "60  [0, 35)    LDA4     D1        19  0.488379  0.490886  0.368421  0.210526   \n",
       "61  [0, 35)    LDA4     D1        20  0.489510  0.471039  0.350000  0.250000   \n",
       "62  [0, 35)    LDA4     D1        21  0.492164  0.492015  0.380952  0.238095   \n",
       "63  [0, 35)    LDA4     D1        22  0.495716  0.478717  0.363636  0.318182   \n",
       "64  [0, 35)    LDA4     D1        23  0.503070  0.493162  0.434783  0.260870   \n",
       "65  [0, 35)    LDA4     D1        24  0.497840  0.497675  0.458333  0.291667   \n",
       "66  [0, 35)    LDA4     D1        25  0.473333  0.468932  0.280000  0.160000   \n",
       "67  [0, 35)    LDA4     D1        26  0.489431  0.489065  0.461538  0.269231   \n",
       "68  [0, 35)    LDA4     D1        27  0.493442  0.483405  0.444444  0.370370   \n",
       "\n",
       "     CS_0.59   CS_0.64   CS_0.69  \n",
       "46  0.000000  0.000000  0.000000  \n",
       "47  0.000000  0.000000  0.000000  \n",
       "48  0.000000  0.000000  0.000000  \n",
       "49  0.000000  0.000000  0.000000  \n",
       "50  0.000000  0.000000  0.000000  \n",
       "51  0.000000  0.000000  0.000000  \n",
       "52  0.111111  0.000000  0.000000  \n",
       "53  0.100000  0.000000  0.000000  \n",
       "54  0.181818  0.000000  0.000000  \n",
       "55  0.166667  0.000000  0.000000  \n",
       "56  0.133333  0.000000  0.000000  \n",
       "57  0.187500  0.000000  0.000000  \n",
       "58  0.058824  0.000000  0.000000  \n",
       "59  0.055556  0.000000  0.000000  \n",
       "60  0.052632  0.000000  0.000000  \n",
       "61  0.100000  0.050000  0.000000  \n",
       "62  0.095238  0.047619  0.000000  \n",
       "63  0.136364  0.045455  0.000000  \n",
       "64  0.130435  0.086957  0.043478  \n",
       "65  0.083333  0.000000  0.000000  \n",
       "66  0.080000  0.000000  0.000000  \n",
       "67  0.076923  0.038462  0.000000  \n",
       "68  0.074074  0.000000  0.000000  "
      ]
     },
     "execution_count": 80,
     "metadata": {},
     "output_type": "execute_result"
    }
   ],
   "source": [
    "graph_data"
   ]
  },
  {
   "cell_type": "markdown",
   "metadata": {},
   "source": [
    "# Analysis \n",
    "\n",
    "### Intro \n",
    "\n",
    "The remainder of this notebook examines the topics for the different models that were estimated for the ratings that had the worst ratings. We examine models with different number of topics and compare them to one another. The analysis is presented in the order in which it was conducted. \n",
    "\n",
    "### First evaluation of coherence by model and number of topics for ratings ranged [0, 35)\n",
    "\n",
    "Based on average and median coherence, the model that best fit the 0-35 corpus was the setting *LDA1* with cleaning config *D1* and number of topics = 27 (LDA1, D1, 27).\n",
    "\n",
    "**Insight 1** - *In general a higher number of topics resulted in higher coherence*\n",
    "<br>**Insight 2** - *For higher number of topics the D1 cleaning config was consistently higher*\n",
    "\n",
    "**D1 in comparison**\n",
    "<br>D1 implements both stemmer and lemmatizer, like A1, but differs in that it does not collect n_gram words in the dictionary \"laid_back\" example. "
   ]
  },
  {
   "cell_type": "code",
   "execution_count": 10,
   "metadata": {
    "scrolled": true
   },
   "outputs": [
    {
     "data": {
      "text/html": [
       "\n",
       "<link rel=\"stylesheet\" type=\"text/css\" href=\"https://cdn.rawgit.com/bmabey/pyLDAvis/files/ldavis.v1.0.0.css\">\n",
       "\n",
       "\n",
       "<div id=\"ldavis_el199091406650202556966086597675\"></div>\n",
       "<script type=\"text/javascript\">\n",
       "\n",
       "var ldavis_el199091406650202556966086597675_data = {\"mdsDat\": {\"x\": [-0.001579925780048016, 0.027104510113229188, 0.10907516978289311, 0.045280449832253676, 0.1602906209424189, -0.07809344225004904, 0.15232276295247268, 0.23318460928077853, -0.1863707478543923, -0.14655369434088325, -0.16023293557066115, 0.02385065335864299, -0.13657122820119214, 0.26850813811439367, -0.16032343626970608, 0.07818839399356094, 0.05894064820292127, -0.0009526485436893958, -0.10631174536913972, -0.12491933856140723, 0.10747434926745478, -0.13354843248328474, 0.05948447560091707, -0.05314109145046244, -0.017742199985309924, 0.09514554030299252, -0.11250945508470257], \"y\": [-0.06518161185355785, -0.18206689715201327, 0.039556088087383603, -0.02786003795006388, -0.1841116075270323, 0.07973081081760705, -0.013897619336188207, -0.02676321615847001, -0.12480480438230009, -0.16262743857106374, -0.08006404972958694, 0.20565732690982091, 0.04799284916176795, -0.03305801401352558, -0.13310535113841238, -0.1369858951073517, -0.05473610727693301, 0.13907956619796796, 0.148084910394606, 0.06588944124659205, -0.01607056423708907, -0.03068919360211455, 0.17483908636200668, -0.014594015958694603, -0.018480673384880346, 0.21569387240803456, 0.18857314579348883], \"topics\": [1, 2, 3, 4, 5, 6, 7, 8, 9, 10, 11, 12, 13, 14, 15, 16, 17, 18, 19, 20, 21, 22, 23, 24, 25, 26, 27], \"cluster\": [1, 1, 1, 1, 1, 1, 1, 1, 1, 1, 1, 1, 1, 1, 1, 1, 1, 1, 1, 1, 1, 1, 1, 1, 1, 1, 1], \"Freq\": [6.223093509674072, 6.182719707489014, 5.926250457763672, 5.524876594543457, 5.369126796722412, 4.907226085662842, 4.590536117553711, 4.3323493003845215, 4.309568405151367, 4.291186332702637, 4.180337429046631, 4.177080154418945, 3.95135498046875, 3.9097719192504883, 3.869687080383301, 3.3778395652770996, 3.255894660949707, 2.852644681930542, 2.694455623626709, 2.6118927001953125, 2.356205701828003, 2.2800209522247314, 2.2237324714660645, 1.75995934009552, 1.7318787574768066, 1.6689043045043945, 1.4414036273956299]}, \"tinfo\": {\"Term\": [\"like\", \"teach\", \"teacher\", \"worst\", \"good\", \"time\", \"know\", \"school\", \"nice\", \"bad\", \"class\", \"help\", \"students\", \"gives\", \"anything\", \"homework\", \"favorites\", \"needs\", \"person\", \"nothing\", \"think\", \"tests\", \"grades\", \"kids\", \"cannot\", \"teaching\", \"learn\", \"teachers\", \"ask\", \"questions\", \"think\", \"thing\", \"awesome\", \"greatest\", \"learned\", \"nothing\", \"absolutly\", \"hmm\", \"dumber\", \"absolutley\", \"havnt\", \"learnt\", \"century\", \"handedly\", \"alittle\", \"hahah\", \"rock\", \"joke\", \"van\", \"jsut\", \"besides\", \"exciting\", \"easiest\", \"boaring\", \"adn\", \"slack\", \"sociology\", \"interesting\", \"semi\", \"spacey\", \"bit\", \"learn\", \"pushover\", \"except\", \"single\", \"fun\", \"wow\", \"wish\", \"say\", \"knows\", \"easy\", \"anything\", \"honestly\", \"absolutely\", \"class\", \"want\", \"little\", \"clue\", \"boring\", \"teacher\", \"maybe\", \"something\", \"learning\", \"teaches\", \"never\", \"great\", \"stuff\", \"teaching\", \"every\", \"depended\", \"cirriculum\", \"excepts\", \"teach\", \"know\", \"literal\", \"expects\", \"magically\", \"teac\", \"anyhting\", \"doent\", \"genius\", \"save\", \"absorb\", \"certified\", \"fundamentals\", \"properly\", \"cannot\", \"doest\", \"conveying\", \"assumes\", \"expecting\", \"evans\", \"aweful\", \"perfection\", \"idea\", \"anything\", \"attempting\", \"basics\", \"control\", \"already\", \"explain\", \"knows\", \"everything\", \"clue\", \"talking\", \"material\", \"even\", \"stuff\", \"learn\", \"understands\", \"math\", \"subject\", \"understand\", \"terrible\", \"teaching\", \"teacher\", \"class\", \"supposed\", \"teaches\", \"horrible\", \"smart\", \"life\", \"taught\", \"students\", \"never\", \"everyone\", \"got\", \"hated\", \"failed\", \"knew\", \"tried\", \"algebra\", \"wanted\", \"geometry\", \"passed\", \"thanks\", \"helped\", \"ended\", \"understood\", \"switched\", \"dreaded\", \"struggled\", \"stayed\", \"sucked\", \"trig\", \"italian\", \"alg\", \"quarters\", \"cal\", \"assumed\", \"ab\", \"failing\", \"went\", \"despised\", \"miracle\", \"relearn\", \"refused\", \"semester\", \"last\", \"liked\", \"cs\", \"dropped\", \"gotten\", \"ago\", \"came\", \"told\", \"loved\", \"seemed\", \"took\", \"started\", \"taught\", \"thought\", \"said\", \"years\", \"first\", \"class\", \"gave\", \"never\", \"math\", \"grade\", \"even\", \"anything\", \"teacher\", \"test\", \"student\", \"ask\", \"questions\", \"gets\", \"question\", \"answer\", \"mad\", \"asking\", \"asks\", \"angry\", \"answering\", \"annoyed\", \"distracted\", \"answered\", \"confused\", \"jumps\", \"offended\", \"irritated\", \"sidetracked\", \"tangent\", \"angered\", \"ticked\", \"solved\", \"scolds\", \"anwser\", \"lawyer\", \"flustered\", \"clarification\", \"classmate\", \"spells\", \"wrong\", \"whenever\", \"frustrated\", \"solve\", \"asked\", \"easily\", \"answers\", \"something\", \"upset\", \"topic\", \"ignores\", \"explains\", \"problem\", \"figure\", \"says\", \"help\", \"tells\", \"explain\", \"never\", \"always\", \"right\", \"understand\", \"know\", \"even\", \"tell\", \"students\", \"say\", \"anything\", \"class\", \"attention\", \"pay\", \"concepts\", \"text\", \"paying\", \"slides\", \"pays\", \"slide\", \"necessarily\", \"solving\", \"cornell\", \"paced\", \"speeds\", \"verbatim\", \"partial\", \"covered\", \"cover\", \"copying\", \"sections\", \"wording\", \"convey\", \"throughly\", \"payed\", \"pace\", \"book\", \"illegible\", \"read\", \"textbook\", \"relying\", \"formulas\", \"fast\", \"books\", \"moves\", \"reading\", \"examples\", \"concept\", \"reads\", \"powerpoint\", \"powerpoints\", \"chapter\", \"material\", \"notes\", \"difficult\", \"hard\", \"understand\", \"harder\", \"lessons\", \"study\", \"tests\", \"topics\", \"goes\", \"teaches\", \"class\", \"makes\", \"teach\", \"explain\", \"lectures\", \"teaching\", \"learn\", \"confusing\", \"easy\", \"students\", \"test\", \"treats\", \"acts\", \"singles\", \"olds\", \"kicks\", \"superior\", \"equally\", \"babies\", \"smarter\", \"loosen\", \"embarasses\", \"preschoolers\", \"idiots\", \"like\", \"embarrass\", \"punishments\", \"kindergarteners\", \"dirty\", \"feel\", \"dirt\", \"alway\", \"kids\", \"spot\", \"targets\", \"kindergardeners\", \"morons\", \"geniuses\", \"sounds\", \"ridicules\", \"judgemental\", \"feels\", \"treated\", \"treat\", \"looks\", \"dosnt\", \"ones\", \"seems\", \"care\", \"certain\", \"act\", \"smart\", \"seem\", \"uncomfortable\", \"dumb\", \"stupid\", \"people\", \"makes\", \"favors\", \"others\", \"likes\", \"students\", \"mean\", \"always\", \"thinks\", \"everyone\", \"fun\", \"class\", \"rude\", \"bad\", \"talks\", \"wants\", \"everything\", \"even\", \"know\", \"time\", \"minutes\", \"waste\", \"spends\", \"spent\", \"asleep\", \"spend\", \"sleep\", \"fall\", \"wastes\", \"wasted\", \"fell\", \"wasting\", \"awake\", \"monotone\", \"lecturing\", \"plans\", \"nap\", \"consuming\", \"drones\", \"rants\", \"uninteresting\", \"sleeps\", \"pillow\", \"ranting\", \"spending\", \"fallen\", \"classtime\", \"drags\", \"interrupting\", \"hour\", \"period\", \"half\", \"boring\", \"sleeping\", \"falling\", \"lesson\", \"plan\", \"free\", \"stories\", \"whole\", \"voice\", \"min\", \"talks\", \"talking\", \"class\", \"lectures\", \"entire\", \"long\", \"every\", \"life\", \"topic\", \"goes\", \"late\", \"takes\", \"easy\", \"teaching\", \"classes\", \"busy\", \"worksheets\", \"page\", \"worksheet\", \"sheets\", \"errors\", \"fill\", \"spelling\", \"overhead\", \"writes\", \"corrections\", \"print\", \"handing\", \"homeworks\", \"keys\", \"projector\", \"update\", \"binder\", \"gradebook\", \"updates\", \"blackboard\", \"bonus\", \"printed\", \"grammatical\", \"typos\", \"paperwork\", \"notebooks\", \"typed\", \"prints\", \"scantron\", \"handed\", \"sheet\", \"loses\", \"write\", \"points\", \"absent\", \"marked\", \"packets\", \"internet\", \"packet\", \"papers\", \"guide\", \"hands\", \"board\", \"copy\", \"lazy\", \"takes\", \"work\", \"test\", \"essay\", \"info\", \"forever\", \"correct\", \"online\", \"power\", \"mistakes\", \"grade\", \"give\", \"notes\", \"turn\", \"gives\", \"even\", \"back\", \"never\", \"tests\", \"makes\", \"grades\", \"teach\", \"teacher\", \"answers\", \"always\", \"worst\", \"far\", \"possibly\", \"absolute\", \"asap\", \"encountered\", \"experienced\", \"yearbook\", \"rudest\", \"liberal\", \"unfriendly\", \"sympathy\", \"displeasure\", \"uncool\", \"retires\", \"employed\", \"emotionally\", \"conservative\", \"manners\", \"dealt\", \"mhs\", \"heartless\", \"immediatly\", \"baker\", \"institution\", \"ought\", \"fields\", \"sour\", \"capabilities\", \"adjustment\", \"immediately\", \"probably\", \"schooling\", \"teachers\", \"switching\", \"switch\", \"fired\", \"misfortune\", \"replaced\", \"transfer\", \"met\", \"awful\", \"soon\", \"teacher\", \"terrible\", \"life\", \"world\", \"schedule\", \"worse\", \"honestly\", \"inconsiderate\", \"entire\", \"deserve\", \"recommend\", \"absolutely\", \"horrible\", \"hope\", \"students\", \"rude\", \"never\", \"even\", \"care\", \"class\", \"student\", \"poor\", \"skills\", \"lack\", \"counselor\", \"ability\", \"lacks\", \"communicate\", \"concerned\", \"guidance\", \"dance\", \"ed\", \"incapable\", \"abilities\", \"leadership\", \"weak\", \"leader\", \"concern\", \"counselors\", \"decisions\", \"verbally\", \"insecure\", \"success\", \"assistance\", \"questionable\", \"breath\", \"administrators\", \"communicating\", \"inspire\", \"image\", \"drivers\", \"enthusiasm\", \"style\", \"motivation\", \"methods\", \"process\", \"knowledge\", \"effective\", \"interested\", \"rather\", \"helping\", \"basis\", \"communication\", \"teaching\", \"interest\", \"unable\", \"special\", \"method\", \"ineffective\", \"knowledgeable\", \"students\", \"subject\", \"unfortunately\", \"incompetent\", \"job\", \"seems\", \"little\", \"learning\", \"student\", \"often\", \"care\", \"instead\", \"teacher\", \"many\", \"seem\", \"teachers\", \"classroom\", \"understanding\", \"child\", \"children\", \"son\", \"daughter\", \"business\", \"negative\", \"towards\", \"miserable\", \"views\", \"inappropriate\", \"political\", \"holds\", \"disagree\", \"childs\", \"grudges\", \"express\", \"beliefs\", \"actions\", \"agenda\", \"daughters\", \"responsibility\", \"sons\", \"passive\", \"male\", \"bully\", \"unprofessional\", \"aggressive\", \"respectful\", \"encouraging\", \"backs\", \"respect\", \"parent\", \"disrespectful\", \"environment\", \"fear\", \"lives\", \"opinions\", \"religion\", \"personal\", \"parents\", \"behavior\", \"brings\", \"comments\", \"students\", \"classroom\", \"issues\", \"rude\", \"condescending\", \"student\", \"home\", \"teacher\", \"experience\", \"life\", \"class\", \"many\", \"extremely\", \"care\", \"terrible\", \"others\", \"room\", \"hear\", \"lunch\", \"loud\", \"face\", \"quiet\", \"throw\", \"smile\", \"door\", \"scream\", \"wen\", \"laughing\", \"gum\", \"table\", \"wall\", \"talkin\", \"pencil\", \"seat\", \"hallway\", \"hi\", \"freak\", \"halls\", \"b4\", \"every1\", \"kick\", \"seats\", \"cook\", \"freakin\", \"window\", \"nose\", \"da\", \"walk\", \"threatens\", \"talk\", \"office\", \"shut\", \"hall\", \"yell\", \"detention\", \"yelling\", \"bell\", \"eat\", \"sit\", \"someone\", \"yells\", \"sent\", \"yelled\", \"cuz\", \"always\", \"screams\", \"talking\", \"mean\", \"reason\", \"away\", \"people\", \"say\", \"even\", \"around\", \"head\", \"class\", \"back\", \"never\", \"something\", \"like\", \"cannot\", \"says\", \"want\", \"hate\", \"luck\", \"side\", \"god\", \"evil\", \"meanest\", \"plain\", \"kno\", \"ah\", \"dosent\", \"nething\", \"sence\", \"rly\", \"skool\", \"bird\", \"eva\", \"calss\", \"wuz\", \"teahcer\", \"borin\", \"boringest\", \"forbid\", \"nvr\", \"enrichment\", \"evr\", \"mono\", \"wrost\", \"prolly\", \"shez\", \"strangest\", \"integrated\", \"bad\", \"good\", \"weirdest\", \"horible\", \"doesent\", \"thank\", \"gosh\", \"omg\", \"math\", \"ugh\", \"mean\", \"realy\", \"teacher\", \"kidding\", \"strict\", \"sorry\", \"hate\", \"science\", \"planet\", \"overall\", \"say\", \"explaining\", \"best\", \"lucky\", \"explain\", \"annoying\", \"feel\", \"boring\", \"people\", \"better\", \"class\", \"always\", \"even\", \"makes\", \"homework\", \"hw\", \"night\", \"quizes\", \"pop\", \"ton\", \"classwork\", \"weekends\", \"everday\", \"nows\", \"hwk\", \"loads\", \"collects\", \"load\", \"completion\", \"tons\", \"accuracy\", \"lots\", \"justs\", \"collect\", \"quizzes\", \"checks\", \"nights\", \"gives\", \"impossible\", \"outlines\", \"hws\", \"amounts\", \"massive\", \"holidays\", \"outline\", \"quiz\", \"hours\", \"assigns\", \"busywork\", \"assign\", \"tests\", \"weekend\", \"finish\", \"worth\", \"finals\", \"pointless\", \"projects\", \"week\", \"work\", \"every\", \"test\", \"give\", \"hard\", \"hardest\", \"never\", \"fail\", \"assignments\", \"class\", \"even\", \"expects\", \"easy\", \"many\", \"notes\", \"study\", \"stuff\", \"person\", \"stand\", \"nice\", \"lady\", \"sweet\", \"willing\", \"nicest\", \"helpfull\", \"ditzy\", \"afterschool\", \"sweetest\", \"ditz\", \"borring\", \"basicly\", \"barnes\", \"counsler\", \"needing\", \"verry\", \"lovely\", \"int\", \"available\", \"meh\", \"offer\", \"great\", \"horrible\", \"cox\", \"friendly\", \"extra\", \"offers\", \"help\", \"seek\", \"helpful\", \"caring\", \"kind\", \"outside\", \"however\", \"teacher\", \"need\", \"general\", \"although\", \"wonderful\", \"good\", \"heart\", \"overall\", \"personality\", \"terrible\", \"needed\", \"cannot\", \"teaching\", \"least\", \"comes\", \"best\", \"class\", \"seems\", \"times\", \"students\", \"understand\", \"give\", \"ap\", \"course\", \"exam\", \"prepare\", \"chem\", \"bio\", \"regular\", \"professor\", \"physics\", \"prep\", \"literature\", \"lit\", \"courses\", \"government\", \"psychology\", \"comp\", \"psych\", \"design\", \"sci\", \"apush\", \"cp\", \"econ\", \"elective\", \"global\", \"stats\", \"lang\", \"euro\", \"gov\", \"eng\", \"environmental\", \"taking\", \"honors\", \"college\", \"biology\", \"level\", \"prepared\", \"history\", \"chemistry\", \"preparing\", \"unprepared\", \"calc\", \"taken\", \"pre\", \"classes\", \"class\", \"final\", \"advanced\", \"senior\", \"test\", \"exams\", \"science\", \"english\", \"world\", \"pass\", \"teaching\", \"recommend\", \"easy\", \"want\", \"unclear\", \"directions\", \"instructions\", \"harsh\", \"humor\", \"unfairly\", \"harshly\", \"participation\", \"rubric\", \"argue\", \"stubborn\", \"depending\", \"sides\", \"annoys\", \"ambiguous\", \"arguments\", \"mercy\", \"argument\", \"contradicting\", \"arbitrarily\", \"subjectively\", \"tracked\", \"outright\", \"romeo\", \"deny\", \"vary\", \"snobby\", \"juliet\", \"purposefully\", \"skilled\", \"grader\", \"bright\", \"sense\", \"grades\", \"opinionated\", \"vague\", \"clear\", \"biased\", \"changes\", \"unfair\", \"inconsistent\", \"unreasonable\", \"opinion\", \"based\", \"tough\", \"sarcastic\", \"extremely\", \"mind\", \"unhelpful\", \"confusing\", \"grading\", \"essays\", \"often\", \"assignments\", \"hard\", \"grade\", \"makes\", \"students\", \"give\", \"likes\", \"class\", \"wants\", \"never\", \"teacher\", \"cool\", \"funny\", \"tries\", \"jokes\", \"guess\", \"8th\", \"7th\", \"6th\", \"graders\", \"hey\", \"nd\", \"lame\", \"blah\", \"3rd\", \"9th\", \"5th\", \"4th\", \"corny\", \"yo\", \"laid\", \"sixth\", \"seventh\", \"eighth\", \"sorta\", \"lay\", \"extremly\", \"fourth\", \"boo\", \"impress\", \"hip\", \"ok\", \"sometimes\", \"thinks\", \"alright\", \"lol\", \"laugh\", \"trys\", \"pretty\", \"grade\", \"laughs\", \"1st\", \"okay\", \"hard\", \"annoying\", \"fun\", \"mean\", \"times\", \"best\", \"easy\", \"teacher\", \"stuff\", \"says\", \"makes\", \"little\", \"favorites\", \"picks\", \"plays\", \"music\", \"band\", \"pick\", \"obvious\", \"picked\", \"passion\", \"chooses\", \"orchestra\", \"definately\", \"chorus\", \"theatre\", \"musical\", \"debate\", \"instrument\", \"marching\", \"select\", \"theater\", \"favs\", \"kiss\", \"dislike\", \"musician\", \"jazz\", \"instruments\", \"favortism\", \"definitly\", \"lewis\", \"favourites\", \"favorite\", \"hates\", \"hate\", \"played\", \"quit\", \"club\", \"director\", \"favoritism\", \"definitely\", \"loves\", \"least\", \"likes\", \"play\", \"people\", \"love\", \"everyone\", \"else\", \"shows\", \"mean\", \"students\", \"class\", \"unfair\", \"school\", \"high\", \"middle\", \"principal\", \"elementary\", \"wonder\", \"hired\", \"ha\", \"principle\", \"hire\", \"assistant\", \"schools\", \"goodness\", \"schoolers\", \"hill\", \"anderson\", \"vice\", \"madame\", \"ew\", \"wondering\", \"hiring\", \"controll\", \"east\", \"jr\", \"til\", \"phony\", \"belongs\", \"shop\", \"tax\", \"district\", \"private\", \"wait\", \"public\", \"handle\", \"money\", \"gone\", \"glad\", \"staff\", \"state\", \"graduate\", \"summer\", \"career\", \"program\", \"teachers\", \"back\", \"come\", \"left\", \"leave\", \"anymore\", \"see\", \"kids\", \"years\", \"cannot\", \"better\", \"since\", \"college\", \"job\", \"due\", \"art\", \"project\", \"dates\", \"emails\", \"feedback\", \"email\", \"creative\", \"respond\", \"draw\", \"creativity\", \"pictures\", \"drawing\", \"rough\", \"excessive\", \"center\", \"lines\", \"photography\", \"tendency\", \"site\", \"fashion\", \"timely\", \"returned\", \"artist\", \"comment\", \"pathetic\", \"media\", \"presented\", \"artwork\", \"base\", \"deadlines\", \"writing\", \"group\", \"date\", \"assignment\", \"projects\", \"groups\", \"effort\", \"amount\", \"return\", \"provide\", \"assignments\", \"assigned\", \"reviews\", \"instruction\", \"student\", \"work\", \"given\", \"done\", \"allow\", \"quality\", \"give\", \"grade\", \"graded\", \"essays\", \"put\", \"assigns\", \"many\", \"tell\", \"needs\", \"please\", \"mood\", \"retire\", \"swings\", \"anger\", \"minded\", \"german\", \"acting\", \"nicer\", \"grow\", \"calm\", \"law\", \"conduct\", \"uptight\", \"sake\", \"relax\", \"teenagers\", \"rated\", \"childish\", \"minds\", \"queen\", \"narrow\", \"mature\", \"egotistical\", \"cranky\", \"enforce\", \"habits\", \"gods\", \"scattered\", \"realize\", \"stop\", \"serious\", \"rules\", \"old\", \"men\", \"maybe\", \"young\", \"control\", \"ideas\", \"new\", \"attitude\", \"arrogant\", \"need\", \"start\", \"job\", \"together\", \"better\", \"teaching\", \"seriously\", \"students\", \"learn\", \"people\", \"keep\", \"little\", \"work\", \"find\", \"instead\", \"change\", \"computer\", \"three\", \"report\", \"computers\", \"sing\", \"choir\", \"happened\", \"movie\", \"strange\", \"watch\", \"tech\", \"watched\", \"movies\", \"songs\", \"third\", \"card\", \"row\", \"code\", \"marking\", \"dress\", \"song\", \"chair\", \"programming\", \"quote\", \"cards\", \"shoes\", \"trips\", \"tv\", \"six\", \"green\", \"sits\", \"current\", \"watching\", \"days\", \"desk\", \"videos\", \"video\", \"second\", \"couple\", \"times\", \"week\", \"use\", \"weeks\", \"first\", \"sub\", \"lab\", \"period\", \"later\", \"sit\", \"years\", \"every\", \"last\", \"self\", \"avoid\", \"system\", \"rating\", \"costs\", \"ratings\", \"star\", \"scale\", \"consistently\", \"horrid\", \"seeing\", \"sister\", \"becuase\", \"brain\", \"academy\", \"lacking\", \"centered\", \"deserves\", \"core\", \"esteem\", \"misses\", \"journalism\", \"cost\", \"khan\", \"eventually\", \"deserved\", \"pompous\", \"rolls\", \"absorbed\", \"helpfulness\", \"doubt\", \"substitute\", \"stars\", \"bottom\", \"horrendous\", \"likely\", \"allowed\", \"grading\", \"frustrating\", \"policy\", \"rate\", \"possible\", \"cold\", \"eyes\", \"stress\", \"zero\", \"speech\", \"suffer\", \"completely\", \"class\", \"without\", \"thinking\", \"give\", \"teacher\", \"spanish\", \"word\", \"french\", \"words\", \"speak\", \"language\", \"speaks\", \"health\", \"studies\", \"temper\", \"speaking\", \"spell\", \"describe\", \"latin\", \"vocabulary\", \"chinese\", \"pronounce\", \"arts\", \"la\", \"speaker\", \"fluent\", \"native\", \"languages\", \"foreign\", \"senora\", \"translate\", \"japanese\", \"brilliant\", \"tempered\", \"de\", \"english\", \"social\", \"grammar\", \"accent\", \"short\", \"intelligent\", \"vocab\", \"sentences\", \"cannot\", \"understand\", \"saying\", \"un\", \"use\", \"says\", \"teaches\", \"teacher\", \"even\", \"lost\", \"name\", \"called\", \"turned\", \"names\", \"raise\", \"cheat\", \"cheating\", \"cell\", \"oblivious\", \"caught\", \"mine\", \"phones\", \"water\", \"ups\", \"accused\", \"looses\", \"faces\", \"raised\", \"anyones\", \"air\", \"call\", \"cats\", \"funniest\", \"goof\", \"fight\", \"dogs\", \"raising\", \"messy\", \"hint\", \"calls\", \"phone\", \"hand\", \"weird\", \"remember\", \"gave\", \"super\", \"food\", \"calling\", \"talked\", \"mom\", \"house\", \"paper\", \"always\", \"notice\", \"forgot\", \"said\", \"even\", \"class\", \"people\", \"papers\", \"never\", \"cares\", \"coach\", \"run\", \"gym\", \"team\", \"football\", \"sports\", \"games\", \"girls\", \"guys\", \"popular\", \"track\", \"stick\", \"boys\", \"game\", \"basketball\", \"players\", \"pe\", \"running\", \"soccer\", \"boy\", \"baseball\", \"athletic\", \"athletes\", \"hit\", \"coaching\", \"country\", \"fool\", \"physical\", \"player\", \"sick\", \"play\", \"playing\", \"favors\", \"girl\", \"care\", \"around\"], \"Freq\": [36643.0, 39651.0, 83452.0, 24541.0, 28185.0, 23504.0, 28503.0, 17422.0, 18620.0, 18227.0, 99266.0, 20263.0, 43787.0, 16346.0, 24764.0, 11973.0, 10420.0, 9943.0, 11081.0, 13042.0, 12696.0, 15744.0, 10337.0, 12525.0, 18138.0, 24152.0, 18501.0, 11781.0, 9982.0, 9805.0, 12695.537109375, 9123.537109375, 868.4657592773438, 385.113037109375, 9603.2763671875, 12990.798828125, 222.26669311523438, 144.13717651367188, 108.95643615722656, 109.2276382446289, 74.3341064453125, 73.06260681152344, 60.17984390258789, 54.61688995361328, 45.71760177612305, 39.47872543334961, 192.11390686035156, 2149.279541015625, 46.326393127441406, 65.1367416381836, 567.0191650390625, 108.28580474853516, 625.5423583984375, 45.835914611816406, 64.2353286743164, 169.80108642578125, 49.07450866699219, 1080.0946044921875, 59.269676208496094, 34.20783996582031, 1227.4290771484375, 11068.072265625, 127.10540008544922, 982.608154296875, 1466.9390869140625, 3925.662109375, 845.3233032226562, 1423.75341796875, 4439.10009765625, 3101.48486328125, 4891.216796875, 8524.5654296875, 1544.0081787109375, 1747.1138916015625, 21040.30859375, 2727.92626953125, 1530.9478759765625, 572.3422241210938, 2169.426025390625, 6457.2578125, 808.5330200195312, 1604.1826171875, 1130.27490234375, 1419.7718505859375, 2101.4716796875, 1151.51171875, 1171.820068359375, 1348.64599609375, 1125.404296875, 107.82935333251953, 37.945098876953125, 27.062519073486328, 34750.671875, 24969.505859375, 37.642189025878906, 4803.69921875, 60.915550231933594, 23.058927536010742, 32.771846771240234, 89.95941162109375, 137.05938720703125, 411.1010437011719, 29.041223526000977, 43.87724685668945, 31.29832649230957, 428.1782531738281, 12020.3330078125, 65.77621459960938, 24.08484649658203, 238.0707550048828, 151.8671112060547, 34.62572479248047, 80.37482452392578, 24.199909210205078, 1914.701171875, 12370.37109375, 47.71883773803711, 83.5120849609375, 1662.319580078125, 1093.244384765625, 3856.2783203125, 2401.540771484375, 3510.698974609375, 558.2615356445312, 2848.191162109375, 2440.33642578125, 4940.62353515625, 1830.8973388671875, 3970.88134765625, 316.0380859375, 2074.780517578125, 1004.060302734375, 2254.668701171875, 1513.9268798828125, 3246.855712890625, 7265.5625, 7636.80078125, 602.6217041015625, 1587.2314453125, 1423.794677734375, 629.2427368164062, 985.8966064453125, 1018.7625732421875, 2264.24853515625, 1792.539794921875, 1045.6099853515625, 9286.408203125, 3757.74267578125, 1969.48876953125, 1697.995361328125, 1737.90478515625, 1407.51318359375, 1417.294189453125, 1080.87890625, 1012.4683227539062, 936.4251708984375, 845.3341064453125, 833.7544555664062, 565.8175659179688, 420.8983459472656, 285.6781311035156, 336.7281799316406, 274.00152587890625, 259.8672790527344, 189.6065673828125, 181.23245239257812, 133.91461181640625, 94.05948638916016, 92.89088439941406, 82.75041198730469, 78.71671295166016, 1568.6070556640625, 2643.897216796875, 64.5177993774414, 63.02310562133789, 62.703704833984375, 439.9100646972656, 1928.32958984375, 4473.2275390625, 1427.30078125, 389.5154113769531, 597.9053955078125, 718.1640625, 1255.797119140625, 1464.5836181640625, 2903.8203125, 634.7322998046875, 933.0806274414062, 2341.697265625, 1088.8209228515625, 4169.052734375, 1685.29248046875, 2772.87744140625, 2606.799560546875, 2767.114501953125, 15875.3583984375, 2407.824462890625, 6406.9716796875, 2779.1328125, 2015.437255859375, 2279.043212890625, 2001.7509765625, 2378.20849609375, 1506.4522705078125, 1369.2796630859375, 9981.6103515625, 9804.0439453125, 8380.1123046875, 6764.98095703125, 6204.15771484375, 2891.8330078125, 1638.5029296875, 1230.55908203125, 978.4601440429688, 489.3763732910156, 488.950927734375, 405.9214782714844, 343.9175720214844, 2136.255126953125, 163.01077270507812, 124.44937133789062, 109.38211822509766, 102.29415893554688, 67.33301544189453, 48.32835006713867, 46.98040008544922, 44.45328903198242, 33.93437576293945, 33.56321334838867, 40.24102020263672, 52.622703552246094, 170.9567108154297, 86.28395080566406, 41.11591339111328, 5859.6162109375, 1029.6376953125, 511.04888916015625, 360.2538757324219, 2375.44921875, 1514.4178466796875, 2264.18017578125, 4516.72021484375, 353.73388671875, 1725.29296875, 549.8297729492188, 1114.761474609375, 1549.8695068359375, 801.173828125, 2777.121826171875, 6279.1396484375, 1765.181396484375, 2492.002685546875, 4424.36669921875, 3118.287353515625, 1549.4735107421875, 2455.16943359375, 2712.137451171875, 2386.255615234375, 1282.74658203125, 2233.002685546875, 1377.6771240234375, 1471.719482421875, 1526.2896728515625, 2582.393310546875, 1605.1107177734375, 1221.35595703125, 922.8187866210938, 494.15814208984375, 333.7068786621094, 301.0326843261719, 199.2526092529297, 98.88667297363281, 98.30076599121094, 63.37131118774414, 61.618385314941406, 56.45548629760742, 51.312068939208984, 130.45948791503906, 548.5167846679688, 551.1282958984375, 232.0177001953125, 110.2225570678711, 53.017330169677734, 145.84060668945312, 37.92975997924805, 87.83678436279297, 216.7092742919922, 6615.52880859375, 32.9480094909668, 4916.806640625, 3260.32666015625, 35.22328186035156, 107.2381362915039, 2169.537841796875, 1152.214599609375, 459.19305419921875, 2089.6484375, 527.6900024414062, 476.7765197753906, 1087.3656005859375, 596.9967651367188, 657.6450805664062, 658.4630737304688, 4525.49951171875, 3962.500732421875, 2253.0185546875, 7579.89404296875, 6080.5625, 781.8431396484375, 1291.9501953125, 1711.938232421875, 4389.83447265625, 739.8693237304688, 1600.153076171875, 2494.167724609375, 7912.91650390625, 2257.80908203125, 3346.090576171875, 1720.40966796875, 915.6868896484375, 2188.55517578125, 1741.282470703125, 1061.9210205078125, 1260.50341796875, 1605.577880859375, 1247.9169921875, 2023.66748046875, 1877.0343017578125, 220.9171142578125, 211.7771453857422, 139.11351013183594, 119.98796844482422, 118.30916595458984, 115.63086700439453, 395.2680358886719, 106.52676391601562, 48.52470397949219, 36.90717315673828, 31.08988380432129, 35253.6484375, 127.0301513671875, 104.65406036376953, 66.25379180908203, 61.842838287353516, 5282.12060546875, 64.43079376220703, 27.417837142944336, 11023.7158203125, 240.1953125, 77.61587524414062, 28.249677658081055, 28.633451461791992, 44.20505905151367, 294.17047119140625, 48.92304992675781, 145.01321411132812, 522.4462280273438, 436.88555908203125, 556.0936279296875, 757.9688720703125, 317.2283020019531, 692.4395141601562, 2783.233642578125, 3597.30419921875, 1000.6739501953125, 792.50439453125, 1446.6651611328125, 1619.0223388671875, 336.6582336425781, 576.7420043945312, 1351.0809326171875, 4139.03076171875, 3776.7822265625, 731.3887329101562, 921.2706909179688, 1529.966552734375, 6120.41357421875, 2638.27685546875, 2232.06103515625, 1345.71484375, 1513.2281494140625, 1338.7333984375, 3332.536865234375, 950.1102294921875, 1368.1998291015625, 956.6026611328125, 746.3783569335938, 870.4415893554688, 774.542724609375, 763.0365600585938, 23497.40234375, 2609.09033203125, 2346.007080078125, 1750.0015869140625, 1523.06103515625, 1300.85791015625, 1235.8409423828125, 1134.46533203125, 925.1563720703125, 855.8617553710938, 566.6195068359375, 468.7796630859375, 425.49151611328125, 375.13458251953125, 609.4766235351562, 226.02293395996094, 514.6178588867188, 133.91946411132812, 110.25635528564453, 96.59600830078125, 245.1461181640625, 89.25179290771484, 86.16087341308594, 71.52754974365234, 71.46265411376953, 170.0627899169922, 65.28728485107422, 58.13958740234375, 43.73419189453125, 41.1497917175293, 910.4251708984375, 2356.729736328125, 3170.13037109375, 7502.45751953125, 230.94960021972656, 173.7391815185547, 1616.362060546875, 562.7972412109375, 493.824462890625, 1042.7349853515625, 2531.524169921875, 950.78271484375, 389.5520935058594, 2424.82763671875, 2750.646240234375, 16757.0234375, 934.9874877929688, 1109.767333984375, 1010.5917358398438, 1652.2000732421875, 1138.433349609375, 881.3353881835938, 780.858154296875, 718.129150390625, 769.1801147460938, 867.708251953125, 936.93408203125, 785.78125, 2455.631591796875, 2070.07470703125, 697.6008911132812, 536.2679443359375, 388.9510803222656, 383.8868103027344, 347.0049133300781, 303.7757568359375, 212.7013397216797, 633.3789672851562, 181.9012451171875, 176.34878540039062, 166.55770874023438, 162.41122436523438, 129.77191162109375, 120.56336212158203, 123.24971008300781, 107.00654602050781, 108.75119018554688, 104.80451202392578, 87.3255386352539, 72.5487060546875, 68.69149017333984, 67.59786224365234, 61.01933670043945, 58.1459846496582, 100.38333129882812, 49.743770599365234, 49.265113830566406, 47.195289611816406, 274.6796569824219, 307.40972900390625, 832.6189575195312, 2350.923828125, 2832.213134765625, 832.666015625, 225.764892578125, 806.8977661132812, 584.1885375976562, 412.0561218261719, 1775.36572265625, 344.6455993652344, 1006.973876953125, 1269.6190185546875, 715.147705078125, 1509.1217041015625, 2354.209228515625, 6968.26025390625, 4713.373046875, 838.3895874023438, 421.75909423828125, 573.8256225585938, 854.9238891601562, 793.1414794921875, 687.7392578125, 849.6512451171875, 3060.59033203125, 2363.10791015625, 1839.7723388671875, 670.02734375, 2391.927490234375, 2598.06103515625, 1385.890625, 2586.616943359375, 1734.3983154296875, 1602.791015625, 1197.4239501953125, 1542.1278076171875, 1412.3895263671875, 867.454833984375, 822.4661254882812, 24538.865234375, 3405.837158203125, 964.30712890625, 717.6610107421875, 504.8872985839844, 355.55694580078125, 278.1589660644531, 231.740234375, 217.6355743408203, 121.77133178710938, 119.65869140625, 113.07474517822266, 108.41571807861328, 98.97278594970703, 94.7920913696289, 91.47322082519531, 84.29156494140625, 76.59883117675781, 66.13011169433594, 62.592323303222656, 59.11614990234375, 53.912010192871094, 52.59701919555664, 53.99534606933594, 39.33156204223633, 35.27690887451172, 34.99208068847656, 34.766475677490234, 34.72932434082031, 33.87722396850586, 656.337890625, 2786.841796875, 80.578857421875, 9275.6953125, 313.8152770996094, 2285.371337890625, 1209.0382080078125, 134.8233184814453, 128.56533813476562, 628.1785278320312, 855.6153564453125, 2304.426025390625, 470.31524658203125, 25284.103515625, 3344.12255859375, 2734.410400390625, 1182.1556396484375, 480.6973571777344, 839.850830078125, 1124.729736328125, 185.77134704589844, 1130.1724853515625, 368.7234802246094, 831.6157836914062, 924.8434448242188, 1464.6248779296875, 585.2532958984375, 2131.16845703125, 890.4421997070312, 1436.2900390625, 1283.13671875, 879.6845092773438, 1096.623046875, 568.6687622070312, 2266.194091796875, 1817.731689453125, 1323.39599609375, 936.7158203125, 822.5518798828125, 908.0988159179688, 560.1217651367188, 507.7338562011719, 647.6373291015625, 408.2665710449219, 349.9305114746094, 252.18179321289062, 236.12973022460938, 222.82516479492188, 174.8233184814453, 173.56016540527344, 166.47837829589844, 156.1278533935547, 152.05406188964844, 135.19154357910156, 130.6759033203125, 237.65853881835938, 116.81307220458984, 115.2838134765625, 115.00080108642578, 113.72929382324219, 104.1906967163086, 101.25666809082031, 100.2662582397461, 99.02162170410156, 179.22503662109375, 1659.578369140625, 131.22764587402344, 1107.3558349609375, 260.64044189453125, 1830.7764892578125, 381.1106262207031, 595.4364013671875, 1560.86572265625, 972.7650756835938, 225.3878631591797, 345.2167663574219, 10459.412109375, 443.2707824707031, 394.79437255859375, 425.8314208984375, 536.2432861328125, 326.4363098144531, 539.93359375, 10543.8046875, 1690.1365966796875, 429.2146301269531, 425.4640197753906, 1090.3834228515625, 1152.5811767578125, 1118.621826171875, 1001.2203979492188, 1282.9267578125, 871.302001953125, 1033.1971435546875, 772.0864868164062, 1709.4969482421875, 834.2128295898438, 685.3280029296875, 799.1546630859375, 633.9866943359375, 594.0486450195312, 2780.83203125, 1831.641845703125, 1344.942138671875, 1023.4666137695312, 741.989013671875, 681.1724853515625, 1361.5731201171875, 515.0618286132812, 497.7131652832031, 441.1897277832031, 440.8390197753906, 369.6303405761719, 280.00592041015625, 240.80474853515625, 219.09202575683594, 208.69969177246094, 199.48834228515625, 195.30152893066406, 193.3339080810547, 184.80821228027344, 175.8210906982422, 171.5139617919922, 165.79811096191406, 160.97987365722656, 155.41693115234375, 875.3641967773438, 151.47280883789062, 147.76589965820312, 144.87110900878906, 138.69166564941406, 2353.854736328125, 889.0604858398438, 915.60302734375, 471.1627502441406, 184.6897430419922, 500.7314147949219, 907.3143310546875, 329.65179443359375, 1702.927734375, 2136.939453125, 375.12591552734375, 340.68560791015625, 489.8725891113281, 12690.9658203125, 1650.2943115234375, 660.6554565429688, 2271.330322265625, 654.2353515625, 1571.232666015625, 736.6907958984375, 4046.152099609375, 740.0086669921875, 908.9470825195312, 1384.5955810546875, 727.5420532226562, 693.4046630859375, 670.8973388671875, 617.1170654296875, 555.581787109375, 2094.821044921875, 1500.0233154296875, 910.8441772460938, 865.0877075195312, 812.9600219726562, 681.8372802734375, 388.7961730957031, 366.0675354003906, 336.25885009765625, 331.3372802734375, 292.5782775878906, 285.3315734863281, 285.0791320800781, 259.2597351074219, 253.2237548828125, 234.04991149902344, 231.98036193847656, 217.07456970214844, 209.25494384765625, 204.68707275390625, 194.87596130371094, 180.21395874023438, 159.2230682373047, 153.0514678955078, 151.2319793701172, 150.2962646484375, 144.14942932128906, 143.41146850585938, 148.56028747558594, 138.8484649658203, 380.169921875, 899.88134765625, 186.1109619140625, 5320.693359375, 1080.203857421875, 378.6676025390625, 757.8683471679688, 1552.53759765625, 751.7802734375, 954.8037719726562, 472.22381591796875, 372.7801818847656, 1391.9383544921875, 1892.9278564453125, 2092.47119140625, 390.29949951171875, 778.1182250976562, 773.8168334960938, 3490.587158203125, 369.02215576171875, 1792.42333984375, 2189.587646484375, 1175.567626953125, 905.2816772460938, 1783.3284912109375, 1460.0045166015625, 2053.3046875, 971.3346557617188, 559.564208984375, 2892.71533203125, 1032.484130859375, 1595.6370849609375, 1091.6373291015625, 1354.3170166015625, 1161.18603515625, 1000.4937744140625, 846.130859375, 845.977783203125, 2335.22802734375, 2157.418212890625, 1429.5111083984375, 687.1455688476562, 519.3390502929688, 450.88909912109375, 358.562255859375, 334.32684326171875, 1004.8845825195312, 123.08419799804688, 110.13938903808594, 106.24665832519531, 103.53523254394531, 95.98040771484375, 93.23664093017578, 84.40181732177734, 78.09709167480469, 69.54187774658203, 67.24015045166016, 62.37216567993164, 60.60892105102539, 54.11174011230469, 50.37336730957031, 43.10237121582031, 42.704837799072266, 42.25530242919922, 41.154239654541016, 41.0486946105957, 40.710411071777344, 38.558677673339844, 16372.021484375, 23637.439453125, 113.91039276123047, 99.55740356445312, 103.21778106689453, 596.1924438476562, 190.0758514404297, 971.6466674804688, 5597.0791015625, 741.7034301757812, 5577.439453125, 250.03065490722656, 18465.912109375, 182.24127197265625, 953.743408203125, 665.1649169921875, 1618.021240234375, 873.5283813476562, 152.5644073486328, 616.7405395507812, 1054.9771728515625, 509.66119384765625, 705.3432006835938, 223.17453002929688, 860.7146606445312, 600.2133178710938, 658.9527587890625, 816.765869140625, 806.3294067382812, 664.3201904296875, 1162.462646484375, 686.2422485351562, 624.7507934570312, 529.3890380859375, 11972.9970703125, 2375.87109375, 1227.7733154296875, 615.35791015625, 552.0599975585938, 518.6591796875, 440.1033630371094, 100.01945495605469, 35.51924514770508, 34.12819290161133, 33.98281478881836, 177.410400390625, 179.05044555664062, 187.25462341308594, 89.49844360351562, 519.5792236328125, 55.43693542480469, 1016.28125, 30.36703872680664, 182.01390075683594, 3113.968017578125, 468.97039794921875, 109.97127532958984, 13435.0791015625, 1846.59423828125, 91.74742126464844, 29.139360427856445, 272.79107666015625, 97.4482421875, 37.90218734741211, 95.1287841796875, 1341.762451171875, 929.2066040039062, 1656.9776611328125, 237.51194763183594, 411.4350280761719, 8568.7275390625, 153.6306915283203, 580.6668701171875, 573.2850952148438, 255.14776611328125, 769.8285522460938, 1200.1588134765625, 936.968017578125, 3343.26318359375, 2061.665283203125, 2264.494873046875, 1866.6806640625, 2290.35302734375, 414.9611511230469, 2728.994873046875, 883.2203979492188, 1121.564697265625, 3478.941162109375, 1429.92724609375, 960.7230224609375, 1046.2962646484375, 840.4573974609375, 833.6048583984375, 732.7409057617188, 784.3184204101562, 11080.78515625, 2254.491455078125, 18612.5234375, 2330.380615234375, 713.43359375, 673.8677978515625, 330.2967224121094, 126.56157684326172, 80.87523651123047, 69.43840026855469, 51.016807556152344, 50.321006774902344, 47.74283981323242, 47.10334396362305, 41.96896743774414, 50.036170959472656, 51.96003341674805, 48.78079605102539, 63.95562744140625, 24.38840103149414, 267.751220703125, 53.84653091430664, 263.3778991699219, 4176.77685546875, 6408.51513671875, 21.957317352294922, 358.314697265625, 1548.4912109375, 159.00811767578125, 13155.853515625, 53.211002349853516, 3035.303466796875, 252.56256103515625, 1082.78662109375, 609.9991455078125, 889.6029663085938, 11181.826171875, 1508.619384765625, 325.9026184082031, 502.5005798339844, 178.88331604003906, 3219.27392578125, 211.19204711914062, 672.9364624023438, 375.9061279296875, 1135.8660888671875, 391.8574523925781, 1723.43310546875, 1814.2535400390625, 655.7183227539062, 546.6808471679688, 636.1829833984375, 1573.795166015625, 601.9000854492188, 575.37744140625, 962.5218505859375, 627.0228271484375, 529.5328369140625, 6463.4111328125, 2026.50146484375, 2022.0814208984375, 1851.4979248046875, 1003.1091918945312, 873.2827758789062, 695.9069213867188, 568.4920654296875, 1760.8792724609375, 351.4859924316406, 348.6277160644531, 333.9742126464844, 307.3372497558594, 240.5133514404297, 215.07223510742188, 213.90438842773438, 173.81495666503906, 170.91883850097656, 153.87234497070312, 151.46229553222656, 146.8227081298828, 145.9720916748047, 145.34002685546875, 149.42584228515625, 129.1437530517578, 128.41981506347656, 122.19432830810547, 113.9638442993164, 101.40988159179688, 96.1819076538086, 2776.10888671875, 2510.3232421875, 2627.78759765625, 1034.6580810546875, 1474.8018798828125, 1226.511962890625, 2380.82568359375, 1352.7315673828125, 268.35797119140625, 420.03369140625, 345.5223693847656, 822.7556762695312, 489.9700012207031, 2217.311279296875, 8518.3916015625, 724.0149536132812, 405.6360778808594, 437.9329528808594, 1397.1671142578125, 533.1202392578125, 667.1030883789062, 719.3163452148438, 546.5918579101562, 567.4844970703125, 872.157470703125, 574.4833984375, 658.5177612304688, 604.6149291992188, 4059.51025390625, 1280.8731689453125, 1082.1851806640625, 923.4192504882812, 568.4683227539062, 558.4730224609375, 434.749267578125, 416.0696716308594, 285.491455078125, 263.12451171875, 211.95899963378906, 157.33444213867188, 120.75580596923828, 119.8377914428711, 94.93681335449219, 88.51171112060547, 82.59568786621094, 79.72332763671875, 67.04210662841797, 62.82423400878906, 57.26696014404297, 51.685733795166016, 50.57978439331055, 49.1566276550293, 46.6014404296875, 45.553462982177734, 41.544010162353516, 39.54098892211914, 39.393306732177734, 37.58694076538086, 1688.7470703125, 267.6568908691406, 2616.9296875, 9139.21484375, 244.03819274902344, 710.1505737304688, 3274.97607421875, 900.6555786132812, 732.968017578125, 2302.423583984375, 344.3622741699219, 615.8856811523438, 1259.329833984375, 1166.1529541015625, 698.5313720703125, 666.328125, 2841.38134765625, 945.7827758789062, 1307.8740234375, 1673.927978515625, 1604.613037109375, 817.5928344726562, 1256.5814208984375, 1489.902587890625, 2405.1494140625, 1824.50048828125, 1449.26513671875, 1863.8045654296875, 1041.58740234375, 885.3986206054688, 1477.7119140625, 743.1369018554688, 785.5331420898438, 770.3506469726562, 6136.853515625, 5568.10302734375, 4094.238525390625, 2170.725341796875, 1658.4847412109375, 1218.6019287109375, 1047.6199951171875, 944.7889404296875, 806.9129638671875, 458.54827880859375, 428.3504638671875, 375.7637634277344, 373.70147705078125, 362.299560546875, 355.63165283203125, 319.4748840332031, 256.1681823730469, 248.6122283935547, 230.9312744140625, 208.30709838867188, 203.42332458496094, 201.65213012695312, 156.40322875976562, 130.808837890625, 130.73374938964844, 124.31231689453125, 119.17739868164062, 101.60796356201172, 96.53338623046875, 80.11543273925781, 3453.7880859375, 5142.33056640625, 4791.83447265625, 587.7368774414062, 744.6708984375, 586.4598999023438, 365.1097106933594, 2475.0048828125, 5876.13623046875, 315.49407958984375, 462.9478454589844, 960.3062133789062, 2290.41552734375, 1086.3680419921875, 1304.3121337890625, 1450.9920654296875, 745.587890625, 691.8115844726562, 748.1196899414062, 1077.904052734375, 545.5202026367188, 513.7533569335938, 491.40069580078125, 476.1965026855469, 10419.396484375, 3710.93505859375, 3606.235107421875, 2141.3603515625, 2064.439697265625, 1274.02978515625, 883.8114624023438, 672.6336669921875, 622.2179565429688, 593.8488159179688, 470.5559997558594, 303.1894836425781, 254.9891357421875, 234.50164794921875, 229.41224670410156, 217.6627960205078, 203.75721740722656, 198.68258666992188, 166.54400634765625, 161.72372436523438, 147.93838500976562, 139.64891052246094, 1037.3629150390625, 107.22930145263672, 105.505615234375, 101.98782348632812, 100.47333526611328, 100.06973266601562, 92.8155746459961, 81.5348129272461, 3023.566650390625, 2119.975341796875, 5376.94482421875, 588.49462890625, 709.8240966796875, 219.242431640625, 340.31024169921875, 626.741455078125, 827.6248779296875, 658.3333740234375, 1098.349853515625, 1308.4716796875, 821.53125, 1699.203125, 768.3162841796875, 1237.769775390625, 664.3414306640625, 493.47296142578125, 906.0504760742188, 920.6776123046875, 881.9361572265625, 519.3701171875, 17421.935546875, 5565.43505859375, 1752.691650390625, 1693.080322265625, 525.494384765625, 705.9544067382812, 416.04168701171875, 358.3432922363281, 322.053955078125, 280.5870666503906, 234.2023468017578, 598.5065307617188, 198.58401489257812, 193.72640991210938, 162.09786987304688, 153.73104858398438, 149.56939697265625, 145.86082458496094, 131.55599975585938, 105.12432098388672, 99.0180435180664, 90.72933959960938, 88.8534927368164, 86.65148162841797, 93.22551727294922, 82.98076629638672, 80.85851287841797, 80.6651611328125, 73.63880920410156, 393.6011657714844, 252.5377197265625, 892.0982055664062, 296.24005126953125, 494.5389404296875, 528.9130859375, 819.1226196289062, 937.7566528320312, 364.41162109375, 318.24005126953125, 201.5436248779297, 317.6515808105469, 447.31561279296875, 427.96533203125, 1703.7637939453125, 1186.2178955078125, 819.8309326171875, 574.3798828125, 546.5850219726562, 417.6534423828125, 654.6087036132812, 994.5103759765625, 655.9286499023438, 866.3360595703125, 551.8899536132812, 436.064208984375, 444.6510925292969, 396.376220703125, 2737.43896484375, 2016.1353759765625, 1874.9774169921875, 546.6651000976562, 537.6043701171875, 500.55462646484375, 488.4316711425781, 359.8702392578125, 336.9417724609375, 329.1565856933594, 231.22947692871094, 230.1251983642578, 224.8872528076172, 189.3385772705078, 168.49034118652344, 163.4020233154297, 157.70022583007812, 152.7891082763672, 142.4376678466797, 139.05218505859375, 134.08258056640625, 130.460693359375, 130.3061065673828, 129.8970489501953, 222.43084716796875, 113.69091796875, 104.6778793334961, 102.74050903320312, 97.55792236328125, 95.41583251953125, 157.5458526611328, 1954.0986328125, 909.0465087890625, 355.7114562988281, 1400.3551025390625, 2547.08154296875, 257.44952392578125, 896.9779052734375, 778.2882080078125, 316.7431945800781, 334.3740234375, 2476.814697265625, 554.3677368164062, 447.838623046875, 321.4102783203125, 2013.7431640625, 2774.034912109375, 491.2210388183594, 755.31396484375, 331.8802185058594, 342.2336730957031, 921.3970336914062, 944.2357788085938, 423.91912841796875, 419.8951721191406, 468.3099670410156, 404.8258361816406, 453.0821228027344, 390.6916809082031, 9942.9072265625, 1671.1787109375, 1347.025390625, 1087.01708984375, 521.8982543945312, 443.050537109375, 416.49737548828125, 413.35736083984375, 402.26849365234375, 366.71649169921875, 320.0447692871094, 244.49008178710938, 187.85081481933594, 185.1514892578125, 172.60244750976562, 168.358154296875, 148.64927673339844, 144.1263427734375, 138.82818603515625, 134.51829528808594, 116.20265197753906, 107.68721008300781, 106.73371887207031, 102.19400787353516, 101.43775939941406, 97.3834457397461, 92.07971954345703, 90.3825912475586, 88.2295913696289, 85.82832336425781, 913.1099243164062, 2676.66650390625, 647.5397338867188, 1063.9813232421875, 1363.577392578125, 118.63269805908203, 1454.4493408203125, 438.5445251464844, 1848.510498046875, 375.3670959472656, 1239.398681640625, 989.2353515625, 375.6646423339844, 1741.1815185546875, 752.0519409179688, 1239.7254638671875, 310.08062744140625, 1339.6513671875, 1994.6224365234375, 562.7315063476562, 1779.291015625, 1262.08349609375, 855.24072265625, 519.4697875976562, 536.4341430664062, 579.0408325195312, 463.17041015625, 461.8275451660156, 439.20806884765625, 2607.108154296875, 1057.7581787109375, 539.8128662109375, 520.2391357421875, 503.446044921875, 474.2328186035156, 454.6989440917969, 452.1710205078125, 422.2685546875, 2192.870849609375, 396.6402587890625, 393.6276550292969, 1206.7523193359375, 372.1113586425781, 329.0434265136719, 306.1794128417969, 299.969970703125, 289.1349792480469, 259.8135070800781, 249.84864807128906, 239.98028564453125, 236.00210571289062, 213.74562072753906, 212.59530639648438, 188.99354553222656, 181.9112548828125, 174.27542114257812, 157.3556365966797, 157.15293884277344, 153.08584594726562, 1482.0540771484375, 365.8896484375, 632.3425903320312, 1805.7410888671875, 1023.4283447265625, 1195.55615234375, 478.1092529296875, 950.9119873046875, 441.19769287109375, 2274.158935546875, 1358.8179931640625, 1278.66943359375, 851.9451904296875, 1854.0860595703125, 548.1223754882812, 531.1869506835938, 617.47412109375, 466.0167236328125, 559.6201782226562, 640.7501220703125, 656.9577026367188, 501.7721862792969, 2173.392578125, 1689.0318603515625, 1327.26416015625, 553.5289916992188, 485.8373718261719, 363.84906005859375, 313.71478271484375, 308.8270568847656, 294.50555419921875, 294.1535949707031, 283.7493896484375, 281.95013427734375, 273.62860107421875, 271.5267333984375, 249.23219299316406, 246.18447875976562, 243.2468719482422, 224.0382843017578, 190.72740173339844, 173.4012451171875, 171.5786895751953, 163.51931762695312, 162.72093200683594, 153.37098693847656, 150.97633361816406, 144.4908905029297, 139.87680053710938, 133.78439331054688, 126.87495422363281, 125.01360321044922, 612.9534301757812, 300.13775634765625, 219.2365264892578, 156.5038604736328, 175.84239196777344, 337.38525390625, 699.1296997070312, 2411.4052734375, 570.2235717773438, 279.759765625, 354.4145812988281, 827.4814453125, 336.1190185546875, 412.26849365234375, 338.01531982421875, 457.0080261230469, 321.6065673828125, 290.5899658203125, 572.9078369140625, 853.9683227539062, 409.2104797363281, 308.1304626464844, 334.83880615234375, 358.2799377441406, 6059.07958984375, 2451.480712890625, 2434.3330078125, 2218.516845703125, 2065.196044921875, 1759.2576904296875, 883.4810791015625, 746.5910034179688, 651.2564697265625, 637.9857788085938, 630.3604125976562, 457.6248779296875, 442.2418212890625, 362.9331359863281, 361.2590026855469, 264.3350830078125, 238.5453643798828, 418.15887451171875, 226.9248046875, 203.53199768066406, 199.49215698242188, 185.87466430664062, 138.3252410888672, 128.3912353515625, 122.74681854248047, 122.1434326171875, 121.83209991455078, 121.2611312866211, 117.13677215576172, 111.313232421875, 6116.982421875, 769.8583984375, 731.3609619140625, 652.5792236328125, 731.6754150390625, 418.28515625, 441.07305908203125, 221.87782287597656, 1511.7354736328125, 1257.1455078125, 547.4682006835938, 241.59121704101562, 326.46624755859375, 364.62841796875, 336.3855285644531, 408.4794921875, 355.99700927734375, 1843.71923828125, 1627.9820556640625, 1255.87255859375, 888.7689208984375, 621.1904296875, 481.7081604003906, 453.5782775878906, 413.1823425292969, 355.6025695800781, 318.9291687011719, 294.1336975097656, 279.3092956542969, 261.9085388183594, 261.00848388671875, 215.47434997558594, 212.78436279296875, 211.38929748535156, 165.0723419189453, 162.7479705810547, 156.38278198242188, 144.97756958007812, 1470.6641845703125, 138.43063354492188, 136.64198303222656, 126.92605590820312, 120.06835174560547, 111.7005615234375, 105.38001251220703, 105.07623291015625, 102.86126708984375, 1218.6541748046875, 1364.1011962890625, 1513.241455078125, 1081.713623046875, 1227.347900390625, 3006.000244140625, 1328.6949462890625, 396.634765625, 277.65802001953125, 741.8929443359375, 282.47564697265625, 235.3855438232422, 808.4300537109375, 1315.0213623046875, 315.9440002441406, 271.1715393066406, 425.721923828125, 552.8197021484375, 525.28515625, 378.9014587402344, 326.7807312011719, 354.8140869140625, 2609.0458984375, 1844.1729736328125, 1531.79833984375, 1211.0040283203125, 1084.436767578125, 1047.0455322265625, 939.4234619140625, 903.657470703125, 897.1314697265625, 859.0657348632812, 790.0304565429688, 752.384765625, 608.9595336914062, 497.7229919433594, 482.7858581542969, 478.6811218261719, 463.79534912109375, 461.10107421875, 380.2586364746094, 313.4456787109375, 307.05670166015625, 285.57781982421875, 279.0294189453125, 267.24822998046875, 265.0324401855469, 261.5569763183594, 248.13856506347656, 238.2349853515625, 235.9723358154297, 211.7578125, 446.9627685546875, 1646.1011962890625, 606.1002197265625, 851.067138671875, 405.8534851074219, 469.0975341796875, 375.2550964355469], \"Total\": [36643.0, 39651.0, 83452.0, 24541.0, 28185.0, 23504.0, 28503.0, 17422.0, 18620.0, 18227.0, 99266.0, 20263.0, 43787.0, 16346.0, 24764.0, 11973.0, 10420.0, 9943.0, 11081.0, 13042.0, 12696.0, 15744.0, 10337.0, 12525.0, 18138.0, 24152.0, 18501.0, 11781.0, 9982.0, 9805.0, 12696.5, 9124.5068359375, 869.4298706054688, 386.0771484375, 9628.1240234375, 13042.7646484375, 223.23074340820312, 145.10122680664062, 109.92049407958984, 110.22465515136719, 75.29816436767578, 74.02857208251953, 61.14391326904297, 55.580955505371094, 46.681671142578125, 40.44279479980469, 197.01144409179688, 2231.10009765625, 48.4172248840332, 68.43682098388672, 632.425048828125, 121.76358032226562, 719.4090576171875, 52.869895935058594, 74.35357666015625, 200.61158752441406, 58.872901916503906, 1299.9732666015625, 71.70159912109375, 41.96119689941406, 1508.178466796875, 18501.583984375, 162.0921173095703, 1468.347900390625, 2338.831787109375, 7058.9638671875, 1281.97509765625, 2351.22265625, 8684.955078125, 6057.7060546875, 11116.4033203125, 24764.1171875, 3229.969482421875, 3771.892822265625, 99266.34375, 7467.60888671875, 5475.63720703125, 1283.3541259765625, 10970.0263671875, 83452.140625, 2324.70458984375, 8203.6025390625, 4493.9052734375, 9350.8798828125, 26339.728515625, 5933.337890625, 6721.4111328125, 24152.55078125, 9083.2607421875, 108.7954330444336, 38.91118621826172, 30.210031509399414, 39651.01953125, 28503.23046875, 43.79108428955078, 6029.95263671875, 76.49429321289062, 29.99598503112793, 44.33406066894531, 121.86296081542969, 188.7743377685547, 567.274658203125, 42.02421569824219, 63.90583419799805, 45.87641906738281, 630.4097900390625, 18138.697265625, 102.7212142944336, 39.06861877441406, 419.7947998046875, 268.6326599121094, 65.25955963134766, 153.43919372558594, 46.92604064941406, 3781.274658203125, 24764.1171875, 95.70130920410156, 172.3196563720703, 3533.92724609375, 2531.95068359375, 9589.97265625, 6057.7060546875, 9234.244140625, 1283.3541259765625, 7735.654296875, 7338.63427734375, 22822.662109375, 6721.4111328125, 18501.583984375, 807.3693237304688, 10452.259765625, 4039.81298828125, 12959.3427734375, 7604.5869140625, 24152.55078125, 83452.140625, 99266.34375, 2140.037353515625, 9350.8798828125, 9300.529296875, 2599.397216796875, 6159.64697265625, 6692.7724609375, 43787.01953125, 26339.728515625, 7729.4169921875, 9287.3759765625, 3758.706787109375, 1970.453125, 1698.9759521484375, 1738.9356689453125, 1408.4775390625, 1418.2972412109375, 1081.84326171875, 1013.4325561523438, 937.39208984375, 846.2984619140625, 835.01953125, 566.7821655273438, 421.8625793457031, 286.6423645019531, 337.8877258300781, 274.96575927734375, 260.8315124511719, 190.57089233398438, 182.1966552734375, 134.87881469726562, 95.02368927001953, 93.85508728027344, 83.71820068359375, 79.68091583251953, 1589.073486328125, 2681.71875, 65.48201751708984, 63.98731231689453, 63.66791534423828, 448.7464599609375, 2129.09814453125, 5081.77587890625, 1566.2666015625, 411.45159912109375, 646.021240234375, 784.9200439453125, 1438.580322265625, 1704.9521484375, 3754.76171875, 714.3690795898438, 1114.3956298828125, 3213.849609375, 1337.507568359375, 6692.7724609375, 2316.537841796875, 4882.798828125, 4534.5615234375, 6159.75, 99266.34375, 5414.77294921875, 26339.728515625, 10452.259765625, 14422.3955078125, 22822.662109375, 24764.1171875, 83452.140625, 11130.439453125, 8377.634765625, 9982.57421875, 9805.1435546875, 8381.076171875, 6765.94580078125, 6205.123046875, 2892.79736328125, 1639.4677734375, 1231.52392578125, 979.4247436523438, 490.3410339355469, 489.91558837890625, 406.8861389160156, 344.8822326660156, 2144.62158203125, 163.97537231445312, 125.48111724853516, 110.34672546386719, 103.2587661743164, 68.2976303100586, 49.292972564697266, 47.94502258300781, 45.41796112060547, 34.89899444580078, 34.52783203125, 42.758670806884766, 57.4476203918457, 190.6825408935547, 98.30574798583984, 47.08616638183594, 6765.8251953125, 1221.425537109375, 602.868408203125, 432.7463073730469, 3232.090576171875, 2026.156005859375, 3132.5625, 8203.6025390625, 487.21405029296875, 3106.93896484375, 828.031982421875, 1933.1566162109375, 3027.873046875, 1363.861572265625, 6878.73095703125, 20263.771484375, 4233.6640625, 9589.97265625, 26339.728515625, 15576.7216796875, 5168.09033203125, 12959.3427734375, 28503.23046875, 22822.662109375, 5378.306640625, 43787.01953125, 8684.955078125, 24764.1171875, 99266.34375, 2583.35888671875, 1606.07666015625, 1222.3218994140625, 923.7845458984375, 495.1239318847656, 334.67327880859375, 301.99847412109375, 200.21836853027344, 99.85249328613281, 99.2761459350586, 64.33708953857422, 62.58415603637695, 57.42125701904297, 52.27783966064453, 133.96011352539062, 563.54638671875, 575.4224243164062, 243.18682861328125, 117.66767883300781, 57.411705017089844, 159.09539794921875, 41.38428497314453, 96.00394439697266, 236.8830108642578, 7277.28125, 36.30138397216797, 5433.00048828125, 3635.03076171875, 39.66666793823242, 120.93008422851562, 2454.218505859375, 1304.0384521484375, 527.1257934570312, 2521.9951171875, 617.3009033203125, 558.1425170898438, 1340.2510986328125, 711.7396240234375, 822.09130859375, 859.485595703125, 7338.63427734375, 6638.03173828125, 3655.69921875, 15277.46875, 12959.3427734375, 1139.0576171875, 2406.41455078125, 3655.972412109375, 15744.880859375, 1176.3763427734375, 4095.9072265625, 9350.8798828125, 99266.34375, 14074.455078125, 39651.01953125, 9589.97265625, 2167.189208984375, 24152.55078125, 18501.583984375, 4219.54931640625, 11116.4033203125, 43787.01953125, 11130.439453125, 2024.6328125, 1877.9996337890625, 221.88235473632812, 212.7423858642578, 140.07875061035156, 120.9625015258789, 119.2744140625, 116.59611511230469, 398.7963562011719, 107.4934310913086, 49.489952087402344, 37.87242126464844, 32.05512619018555, 36643.8515625, 137.7810516357422, 113.63429260253906, 72.16839599609375, 69.48411560058594, 5942.00390625, 72.59101867675781, 31.095312118530273, 12525.2802734375, 273.094482421875, 89.44961547851562, 32.57230758666992, 33.080936431884766, 51.55474090576172, 343.5818786621094, 58.41621398925781, 175.0966033935547, 682.5581665039062, 577.0503540039062, 755.6242065429688, 1075.345458984375, 431.1759033203125, 1039.01025390625, 4986.91845703125, 6786.3427734375, 1603.451416015625, 1241.561279296875, 2599.397216796875, 3093.40771484375, 484.7478942871094, 954.9547119140625, 2794.68212890625, 12830.1455078125, 14074.455078125, 1583.383056640625, 2204.171875, 4984.8154296875, 43787.01953125, 12763.16796875, 15576.7216796875, 6178.60107421875, 7729.4169921875, 7058.9638671875, 99266.34375, 5695.91357421875, 18227.5859375, 6331.03076171875, 3252.199462890625, 9234.244140625, 22822.662109375, 28503.23046875, 23504.755859375, 2610.056640625, 2346.973388671875, 1750.96826171875, 1524.031005859375, 1301.8245849609375, 1236.8076171875, 1135.4349365234375, 926.1229858398438, 856.828369140625, 567.5861206054688, 469.7463073730469, 426.4581604003906, 376.1942138671875, 611.7243041992188, 226.98951721191406, 517.7459716796875, 134.88604736328125, 111.22320556640625, 97.56346130371094, 247.619873046875, 90.21839141845703, 87.12748718261719, 72.49414825439453, 72.42926788330078, 172.37249755859375, 66.2538833618164, 59.10618591308594, 44.70079040527344, 42.116390228271484, 1004.918701171875, 2975.138427734375, 4186.2578125, 10970.0263671875, 269.6528625488281, 201.0242919921875, 2662.251953125, 783.276611328125, 671.7408447265625, 1710.65478515625, 5483.146484375, 1636.7139892578125, 532.5153198242188, 6331.03076171875, 7735.654296875, 99266.34375, 2167.189208984375, 3607.02685546875, 3075.05029296875, 9083.2607421875, 6159.64697265625, 3106.93896484375, 4095.9072265625, 2705.76416015625, 4286.06494140625, 11116.4033203125, 24152.55078125, 6615.34033203125, 2456.59716796875, 2071.040283203125, 698.6799926757812, 537.2338256835938, 389.9169921875, 384.85272216796875, 347.9708251953125, 304.7416687011719, 213.66722106933594, 636.3634033203125, 182.86891174316406, 177.31466674804688, 167.52359008789062, 163.37710571289062, 130.73779296875, 121.52925872802734, 124.24079132080078, 107.97244262695312, 109.7520751953125, 105.77147674560547, 88.29143524169922, 73.54985809326172, 69.65738677978516, 68.56523132324219, 61.985225677490234, 59.111873626708984, 102.14539337158203, 50.709659576416016, 50.23100280761719, 48.16117858886719, 288.3952941894531, 329.4073791503906, 938.4564208984375, 2785.877197265625, 3505.302734375, 987.78466796875, 249.1632537841797, 983.29150390625, 694.351318359375, 476.81329345703125, 2387.859619140625, 404.0265197753906, 1457.511474609375, 1959.443115234375, 1002.0604248046875, 2483.1240234375, 4286.06494140625, 17876.814453125, 11130.439453125, 1266.8177490234375, 548.203125, 822.6632690429688, 1438.6129150390625, 1436.10400390625, 1186.3656005859375, 1705.82861328125, 14422.3955078125, 9693.3408203125, 6638.03173828125, 1192.9205322265625, 16346.9130859375, 22822.662109375, 6115.29248046875, 26339.728515625, 15744.880859375, 14074.455078125, 10337.5966796875, 39651.01953125, 83452.140625, 3132.5625, 15576.7216796875, 24541.23828125, 3406.8037109375, 965.2740478515625, 718.6279296875, 505.854736328125, 356.52392578125, 279.1258850097656, 232.70713806152344, 218.60247802734375, 122.73824310302734, 120.62560272216797, 114.04165649414062, 109.38268280029297, 99.939697265625, 95.75900268554688, 92.44013214111328, 85.25847625732422, 77.56574249267578, 67.0970230102539, 63.55923080444336, 60.08306884765625, 54.8789176940918, 53.563926696777344, 55.12831115722656, 40.29846954345703, 36.24381637573242, 35.958988189697266, 35.73420333862305, 35.696231842041016, 34.84413146972656, 687.8505249023438, 3276.959716796875, 84.92027282714844, 11781.615234375, 348.6764831542969, 2830.43505859375, 1474.73193359375, 146.74134826660156, 141.29937744140625, 900.6765747070312, 1292.359375, 4428.181640625, 682.6386108398438, 83452.140625, 7604.5869140625, 6159.64697265625, 2317.662841796875, 810.2052001953125, 2058.5419921875, 3229.969482421875, 239.08877563476562, 3607.02685546875, 686.169189453125, 3065.03515625, 3771.892822265625, 9300.529296875, 1897.6258544921875, 43787.01953125, 5695.91357421875, 26339.728515625, 22822.662109375, 6786.3427734375, 99266.34375, 8377.634765625, 2267.160400390625, 1818.6982421875, 1324.3626708984375, 937.6925659179688, 823.5237426757812, 909.568603515625, 561.08837890625, 508.7004089355469, 648.8876953125, 409.2331237792969, 350.8970642089844, 253.16221618652344, 237.0962677001953, 223.7917022705078, 175.78985595703125, 174.52670288085938, 167.44491577148438, 157.09439086914062, 153.02059936523438, 136.16195678710938, 131.64244079589844, 239.5413360595703, 117.77962493896484, 116.2503890991211, 115.96735382080078, 114.69584655761719, 105.15726470947266, 102.22322082519531, 101.2328109741211, 99.98817443847656, 181.0288848876953, 1740.5584716796875, 133.1110076904297, 1189.129638671875, 273.2625732421875, 2170.35205078125, 425.4716796875, 692.2319946289062, 2139.198974609375, 1272.16650390625, 243.34210205078125, 397.77783203125, 24152.55078125, 544.8333129882812, 479.011962890625, 526.577880859375, 717.8505859375, 393.83599853515625, 776.0958862304688, 43787.01953125, 4039.81298828125, 604.8981323242188, 618.3552856445312, 4055.225830078125, 4986.91845703125, 5475.63720703125, 4493.9052734375, 8377.634765625, 3975.82275390625, 6786.3427734375, 4146.34326171875, 83452.140625, 6689.625, 3093.40771484375, 11781.615234375, 3103.068603515625, 1857.012451171875, 2781.798095703125, 1832.6080322265625, 1345.908935546875, 1024.432861328125, 742.955322265625, 682.3137817382812, 1363.96044921875, 516.0281372070312, 498.679443359375, 442.156005859375, 441.8052978515625, 370.59661865234375, 280.9721984863281, 241.77099609375, 220.05825805664062, 209.66592407226562, 200.45516967773438, 196.26785278320312, 194.30014038085938, 185.77444458007812, 176.78732299804688, 172.48020935058594, 166.76434326171875, 161.94625854492188, 156.38316345214844, 880.8724975585938, 152.4390411376953, 148.73228454589844, 145.83734130859375, 139.65789794921875, 2399.038818359375, 897.3924560546875, 930.4454345703125, 480.91046142578125, 186.8884735107422, 528.41162109375, 1007.0943603515625, 349.77313232421875, 2100.446044921875, 2775.40869140625, 408.34405517578125, 375.04638671875, 611.270751953125, 43787.01953125, 3103.068603515625, 965.147216796875, 5695.91357421875, 1003.3795166015625, 8377.634765625, 1989.7042236328125, 83452.140625, 2441.803955078125, 6159.64697265625, 99266.34375, 6689.625, 5280.88525390625, 6786.3427734375, 7604.5869140625, 2204.171875, 2095.791259765625, 1500.9898681640625, 911.8107299804688, 866.0542602539062, 813.9265747070312, 682.8038330078125, 389.7672424316406, 367.0340576171875, 337.2253723144531, 332.3038024902344, 293.5447998046875, 286.298095703125, 286.045654296875, 260.22625732421875, 254.19024658203125, 235.0164031982422, 232.9468536376953, 218.0410614013672, 210.221435546875, 205.653564453125, 195.8424530029297, 181.18045043945312, 160.18955993652344, 154.01795959472656, 152.19847106933594, 151.26283264160156, 145.1159210205078, 144.37796020507812, 149.56321716308594, 139.81495666503906, 386.12933349609375, 939.0973510742188, 188.2259521484375, 5912.61767578125, 1147.377197265625, 393.7461242675781, 818.1943969726562, 1788.9649658203125, 870.3839111328125, 1265.71044921875, 564.8583374023438, 425.74176025390625, 2234.481201171875, 3355.71923828125, 3949.92236328125, 482.4662170410156, 1275.565673828125, 1406.0272216796875, 15576.7216796875, 452.78680419921875, 7735.654296875, 12763.16796875, 4684.3466796875, 2739.792724609375, 12830.1455078125, 8684.955078125, 22822.662109375, 4031.9755859375, 1048.807861328125, 99266.34375, 6115.29248046875, 26339.728515625, 8203.6025390625, 36643.8515625, 18138.697265625, 6878.73095703125, 7467.60888671875, 7841.8359375, 2336.193359375, 2158.420166015625, 1430.476806640625, 688.1111450195312, 520.3046264648438, 451.8546447753906, 359.52783203125, 335.2923889160156, 1008.3966674804688, 124.04984283447266, 111.10492706298828, 107.21219635009766, 104.50077056884766, 96.9459457397461, 94.20218658447266, 85.36735534667969, 79.06329345703125, 70.5101089477539, 68.2056884765625, 63.33769989013672, 61.57445526123047, 55.07727813720703, 51.34463882446289, 44.06790542602539, 43.670372009277344, 43.2208366394043, 42.119773864746094, 42.01422882080078, 41.67594528198242, 39.52421188354492, 18227.5859375, 28185.779296875, 120.02151489257812, 108.3891830444336, 113.91740417480469, 766.6322021484375, 226.45069885253906, 1401.113525390625, 10452.259765625, 1104.873291015625, 12763.16796875, 336.9407958984375, 83452.140625, 247.9556427001953, 2785.078857421875, 1986.4610595703125, 7841.8359375, 3796.1943359375, 217.17233276367188, 2998.83544921875, 8684.955078125, 2262.0, 4962.64599609375, 494.0946044921875, 9589.97265625, 4308.4580078125, 5942.00390625, 10970.0263671875, 12830.1455078125, 7070.09765625, 99266.34375, 15576.7216796875, 22822.662109375, 14074.455078125, 11973.962890625, 2376.8369140625, 1228.739501953125, 616.3240966796875, 553.0261840820312, 519.6253662109375, 441.0694885253906, 100.98558044433594, 36.4853630065918, 35.09431076049805, 34.948936462402344, 187.19979858398438, 189.82440185546875, 202.3631591796875, 98.4784164428711, 573.8740844726562, 61.63331604003906, 1156.885009765625, 34.637367248535156, 208.033447265625, 3588.3388671875, 542.2136840820312, 129.57875061035156, 16346.9130859375, 2251.540283203125, 114.17109680175781, 36.335872650146484, 340.5923156738281, 122.86538696289062, 48.26429748535156, 121.3068618774414, 1771.873046875, 1229.23193359375, 2248.02197265625, 307.3343505859375, 571.6009521484375, 15744.880859375, 198.9174346923828, 1055.599853515625, 1039.556884765625, 407.1532897949219, 1952.2169189453125, 3748.1689453125, 2728.95556640625, 17876.814453125, 9083.2607421875, 11130.439453125, 9693.3408203125, 15277.46875, 832.7161254882812, 26339.728515625, 3363.78173828125, 5793.33447265625, 99266.34375, 22822.662109375, 6029.95263671875, 11116.4033203125, 6689.625, 6638.03173828125, 3655.972412109375, 6721.4111328125, 11081.7509765625, 2255.45654296875, 18620.650390625, 2331.52734375, 714.39892578125, 674.8331298828125, 331.26275634765625, 127.5268325805664, 81.84056091308594, 70.40365600585938, 51.982059478759766, 51.286258697509766, 48.708091735839844, 48.06859588623047, 42.93421936035156, 57.5858268737793, 60.99199676513672, 57.391387939453125, 75.94702911376953, 32.66297149658203, 368.3367004394531, 74.6522445678711, 366.21771240234375, 5933.337890625, 9300.529296875, 32.901668548583984, 536.9281005859375, 2320.5078125, 241.2938690185547, 20263.771484375, 82.49578094482422, 6167.47509765625, 454.3985900878906, 2424.97412109375, 1488.019775390625, 2528.028564453125, 83452.140625, 6242.88671875, 778.2138671875, 1592.172119140625, 349.4226379394531, 28185.779296875, 460.19873046875, 2998.83544921875, 1173.911865234375, 7604.5869140625, 1263.84521484375, 18138.697265625, 24152.55078125, 3618.989501953125, 2795.55712890625, 4962.64599609375, 99266.34375, 4986.91845703125, 5324.03076171875, 43787.01953125, 12959.3427734375, 9693.3408203125, 6464.376953125, 2027.4676513671875, 2023.047607421875, 1852.4642333984375, 1004.075439453125, 874.2490234375, 696.8731689453125, 569.4583129882812, 1765.3919677734375, 352.4521179199219, 349.5940246582031, 334.9403381347656, 308.3033752441406, 241.4815216064453, 216.0384063720703, 214.8705291748047, 174.78109741210938, 171.88497924804688, 154.83848571777344, 152.42843627929688, 147.78884887695312, 146.938232421875, 146.30616760253906, 150.47657775878906, 130.10989379882812, 129.38595581054688, 123.16048431396484, 114.93000030517578, 102.37603759765625, 97.14806365966797, 3026.407470703125, 2856.415771484375, 3073.36669921875, 1207.5540771484375, 1877.3154296875, 1549.6488037109375, 3275.85986328125, 1746.5626220703125, 301.4317626953125, 526.9800415039062, 416.6999206542969, 1286.576171875, 686.4092407226562, 6615.34033203125, 99266.34375, 1692.0009765625, 678.0881958007812, 822.9044799804688, 11130.439453125, 1327.072998046875, 3796.1943359375, 6837.22802734375, 2317.662841796875, 2821.708251953125, 24152.55078125, 3065.03515625, 11116.4033203125, 7467.60888671875, 4060.479248046875, 1281.83935546875, 1083.1513671875, 924.3853759765625, 569.4344482421875, 559.4391479492188, 435.71533203125, 417.0357360839844, 286.45751953125, 264.090576171875, 212.92506408691406, 158.30050659179688, 121.72187042236328, 120.80387115478516, 95.90287780761719, 89.47777557373047, 83.56175231933594, 80.68939208984375, 68.00817108154297, 63.79029083251953, 58.23301696777344, 52.651790618896484, 51.545841217041016, 50.122684478759766, 47.56749725341797, 46.5195198059082, 42.510066986083984, 40.50704574584961, 40.3593635559082, 38.55299758911133, 1754.39501953125, 275.2350158691406, 2871.35107421875, 10337.5966796875, 260.46820068359375, 817.078125, 4165.68115234375, 1080.1663818359375, 879.864990234375, 3008.35400390625, 396.4862976074219, 769.2756958007812, 1696.859130859375, 1609.0367431640625, 957.7927856445312, 947.9907836914062, 5280.88525390625, 1451.3873291015625, 2188.587646484375, 4219.54931640625, 4016.944580078125, 1676.8031005859375, 3975.82275390625, 5793.33447265625, 15277.46875, 14422.3955078125, 14074.455078125, 43787.01953125, 9693.3408203125, 4984.8154296875, 99266.34375, 3252.199462890625, 26339.728515625, 83452.140625, 6137.818359375, 5569.06787109375, 4095.26220703125, 2171.690185546875, 1659.502685546875, 1219.5670166015625, 1048.5850830078125, 945.7540893554688, 807.8781127929688, 459.5133056640625, 429.31549072265625, 376.7287902832031, 374.66650390625, 363.26458740234375, 356.5966796875, 320.4399108886719, 257.1332092285156, 249.57723999023438, 231.8962860107422, 209.27210998535156, 204.38833618164062, 202.6171417236328, 157.3682403564453, 131.7738494873047, 131.69876098632812, 125.27861022949219, 120.14242553710938, 102.57299041748047, 97.4984130859375, 81.08045959472656, 3620.879638671875, 5862.599609375, 6178.60107421875, 679.0198364257812, 880.5735473632812, 732.0885009765625, 430.6949157714844, 4690.0302734375, 14422.3955078125, 388.7587585449219, 686.9776000976562, 2449.232177734375, 15277.46875, 4308.4580078125, 7058.9638671875, 12763.16796875, 5324.03076171875, 4962.64599609375, 11116.4033203125, 83452.140625, 6721.4111328125, 6878.73095703125, 14074.455078125, 5475.63720703125, 10420.3623046875, 3711.900634765625, 3607.20068359375, 2142.325927734375, 2065.4052734375, 1274.995361328125, 884.777099609375, 673.5993041992188, 623.18359375, 594.814453125, 471.5215759277344, 304.1567687988281, 255.95468139648438, 235.46717834472656, 230.37777709960938, 218.62832641601562, 204.72274780273438, 199.6481170654297, 167.50953674316406, 162.6892547607422, 148.90391540527344, 140.6146240234375, 1044.9306640625, 108.1948471069336, 106.47116088867188, 102.953369140625, 101.43888092041016, 101.0352783203125, 93.83191680908203, 82.50035858154297, 3118.043212890625, 2643.89794921875, 7841.8359375, 740.7911376953125, 948.24951171875, 247.44801330566406, 418.94744873046875, 916.922607421875, 1915.6317138671875, 1435.4771728515625, 3618.989501953125, 4984.8154296875, 2468.56005859375, 12830.1455078125, 2712.978759765625, 7729.4169921875, 3149.446044921875, 1906.2904052734375, 12763.16796875, 43787.01953125, 99266.34375, 3008.35400390625, 17422.8984375, 5566.3994140625, 1753.65625, 1694.0518798828125, 526.458984375, 707.32275390625, 417.0061950683594, 359.30780029296875, 323.0184631347656, 281.5517578125, 235.1668243408203, 601.3270263671875, 199.54849243164062, 194.69088745117188, 163.0625762939453, 154.69552612304688, 150.53387451171875, 146.82530212402344, 132.52047729492188, 106.08881378173828, 99.98253631591797, 91.69383239746094, 89.81803894042969, 87.61597442626953, 94.29959106445312, 83.94525909423828, 81.82303619384766, 81.62965393066406, 74.60330200195312, 399.1273193359375, 269.95770263671875, 1039.9564208984375, 350.4184265136719, 629.7759399414062, 700.2149658203125, 1159.607666015625, 1385.698486328125, 498.713134765625, 458.7802429199219, 260.11907958984375, 493.88787841796875, 822.3253173828125, 888.8157348632812, 11781.615234375, 6115.29248046875, 3261.54736328125, 1753.2119140625, 1648.679931640625, 1005.9442138671875, 3330.84765625, 12525.2802734375, 4534.5615234375, 18138.697265625, 7070.09765625, 2351.054931640625, 3073.36669921875, 4055.225830078125, 2738.411865234375, 2017.1005859375, 1875.9541015625, 547.6302490234375, 538.5695190429688, 501.5198974609375, 489.3968200683594, 360.83538818359375, 337.90692138671875, 330.1217346191406, 232.19459533691406, 231.09031677246094, 225.8523712158203, 190.30369567871094, 169.45545959472656, 164.3671417236328, 158.66534423828125, 153.7542266845703, 143.4027862548828, 140.01730346679688, 135.04769897460938, 131.42581176757812, 131.27122497558594, 130.86216735839844, 224.09837341308594, 114.65603637695312, 105.64346313476562, 103.70562744140625, 98.52304077148438, 96.38095092773438, 160.44798278808594, 2174.121826171875, 994.2027587890625, 387.64044189453125, 1908.0118408203125, 3748.1689453125, 290.6075439453125, 1306.2261962890625, 1109.22119140625, 381.6110534667969, 426.4881286621094, 5793.33447265625, 896.9005126953125, 729.8616943359375, 450.1639709472656, 8377.634765625, 17876.814453125, 1127.7755126953125, 3093.869140625, 518.1159057617188, 557.6569213867188, 9693.3408203125, 14422.3955078125, 1250.4459228515625, 1676.8031005859375, 3599.85205078125, 2248.02197265625, 6689.625, 5378.306640625, 9943.8740234375, 1672.1456298828125, 1347.992919921875, 1087.9837646484375, 522.8649291992188, 444.01715087890625, 417.4639892578125, 414.323974609375, 403.235107421875, 367.7787170410156, 321.0113830566406, 245.45668029785156, 188.81741333007812, 186.1180877685547, 173.5690460205078, 169.32476806640625, 149.61924743652344, 145.0929412841797, 139.79478454589844, 135.48489379882812, 117.16925048828125, 108.65380859375, 107.7003173828125, 103.16060638427734, 102.41996765136719, 98.35012817382812, 93.04631805419922, 91.34918975830078, 89.1961898803711, 86.79497528076172, 933.0346069335938, 3103.601318359375, 708.3583984375, 1209.558837890625, 1634.3958740234375, 122.6415786743164, 2324.70458984375, 568.8418579101562, 3533.92724609375, 523.7893676757812, 2993.012939453125, 2219.9638671875, 585.1963500976562, 6242.88671875, 1779.8934326171875, 4055.225830078125, 489.4488830566406, 7070.09765625, 24152.55078125, 2223.276611328125, 43787.01953125, 18501.583984375, 12830.1455078125, 2135.9970703125, 5475.63720703125, 17876.814453125, 2603.136474609375, 4146.34326171875, 1665.4859619140625, 2608.078369140625, 1058.724365234375, 540.779052734375, 521.205322265625, 504.4122314453125, 475.1990051269531, 455.6651306152344, 453.1402893066406, 423.2347412109375, 2198.131103515625, 397.6067199707031, 394.5938720703125, 1209.7506103515625, 373.0775451660156, 330.0096130371094, 307.1455993652344, 300.9361572265625, 290.1011657714844, 260.7796936035156, 250.81480407714844, 240.94644165039062, 236.96826171875, 214.71177673339844, 213.56146240234375, 189.95970153808594, 182.87741088867188, 175.2415771484375, 158.32179260253906, 158.11911010742188, 154.052001953125, 1535.264892578125, 373.9090576171875, 679.7481079101562, 2495.13037109375, 1339.4276123046875, 1648.2921142578125, 565.017578125, 1457.9117431640625, 548.4068603515625, 5324.03076171875, 2728.95556640625, 3045.57861328125, 1663.6317138671875, 6159.75, 902.162353515625, 893.323974609375, 2975.138427734375, 969.0059204101562, 2234.481201171875, 4534.5615234375, 9083.2607421875, 5081.77587890625, 2174.35546875, 1689.994873046875, 1328.2271728515625, 554.4920043945312, 486.80035400390625, 364.903076171875, 314.6805419921875, 309.7900390625, 295.4685363769531, 295.11724853515625, 284.7123718261719, 282.9131164550781, 274.5918273925781, 272.4897155761719, 250.19517517089844, 247.14749145507812, 244.20985412597656, 225.0012969970703, 191.69039916992188, 174.36422729492188, 172.5416717529297, 164.4822998046875, 163.6839141845703, 154.33396911621094, 151.93931579589844, 145.45387268066406, 140.83978271484375, 134.74737548828125, 127.83792114257812, 125.97657012939453, 622.2361450195312, 302.9986572265625, 221.08132934570312, 157.78746032714844, 178.37008666992188, 362.4609375, 910.6316528320312, 4016.944580078125, 737.6206665039062, 318.11065673828125, 432.9977111816406, 1305.9212646484375, 425.0079040527344, 576.7813720703125, 442.54315185546875, 773.227783203125, 433.7220764160156, 376.8299560546875, 3301.725341796875, 99266.34375, 3444.534423828125, 704.7657470703125, 9693.3408203125, 83452.140625, 6060.04541015625, 2452.447021484375, 2435.298583984375, 2219.482421875, 2066.16162109375, 1760.2235107421875, 884.4468383789062, 747.5567626953125, 652.2222290039062, 638.9515380859375, 631.326171875, 458.5906066894531, 443.2075500488281, 363.89886474609375, 362.2247314453125, 265.3008117675781, 239.5111083984375, 419.8617858886719, 227.89060974121094, 204.49774169921875, 200.45790100097656, 186.8404083251953, 139.29098510742188, 129.3569793701172, 123.71255493164062, 123.10916900634766, 122.79783630371094, 122.22953796386719, 118.10250854492188, 112.27896881103516, 6837.22802734375, 875.7822875976562, 848.7507934570312, 818.5116577148438, 937.5557861328125, 530.9398193359375, 656.1610717773438, 273.02569580078125, 18138.697265625, 12959.3427734375, 2493.829345703125, 347.4410400390625, 3045.57861328125, 6878.73095703125, 9350.8798828125, 83452.140625, 22822.662109375, 1844.685302734375, 1628.9984130859375, 1256.841796875, 889.73486328125, 622.1563720703125, 482.6741027832031, 454.5442199707031, 414.1482849121094, 356.5685119628906, 319.8951110839844, 295.0996398925781, 280.2752380371094, 262.8744812011719, 262.028564453125, 216.4403076171875, 213.7503204345703, 212.35525512695312, 166.03829956054688, 163.71392822265625, 157.34873962402344, 145.9435272216797, 1480.73193359375, 139.39659118652344, 137.60794067382812, 127.89253234863281, 121.03663635253906, 112.66659545898438, 106.3459701538086, 106.04219055175781, 103.82722473144531, 1234.8721923828125, 1591.325439453125, 1796.4505615234375, 1435.159423828125, 1718.38623046875, 5414.77294921875, 2097.8798828125, 497.40997314453125, 338.7048645019531, 1236.2822265625, 352.58734130859375, 279.6703186035156, 1828.73486328125, 15576.7216796875, 658.59375, 490.3402099609375, 4882.798828125, 22822.662109375, 99266.34375, 12830.1455078125, 2387.859619140625, 26339.728515625, 2610.074462890625, 1845.1376953125, 1532.7630615234375, 1211.96875, 1085.4014892578125, 1048.01025390625, 940.3881225585938, 904.6221313476562, 898.0961303710938, 860.0304565429688, 790.9951171875, 753.3494262695312, 609.9247436523438, 498.6876525878906, 483.7505187988281, 479.6457824707031, 464.760009765625, 462.06573486328125, 381.2232971191406, 314.41033935546875, 308.0213623046875, 286.54248046875, 279.99407958984375, 268.212890625, 265.9971008300781, 262.5216369628906, 249.10324096679688, 239.1996612548828, 236.93701171875, 212.7224884033203, 452.1398620605469, 2468.56005859375, 895.7003173828125, 1583.383056640625, 590.402587890625, 6786.3427734375, 4031.9755859375], \"Category\": [\"Default\", \"Default\", \"Default\", \"Default\", \"Default\", \"Default\", \"Default\", \"Default\", \"Default\", \"Default\", \"Default\", \"Default\", \"Default\", \"Default\", \"Default\", \"Default\", \"Default\", \"Default\", \"Default\", \"Default\", \"Default\", \"Default\", \"Default\", \"Default\", \"Default\", \"Default\", \"Default\", \"Default\", \"Default\", \"Default\", \"Topic1\", \"Topic1\", \"Topic1\", \"Topic1\", \"Topic1\", \"Topic1\", \"Topic1\", \"Topic1\", \"Topic1\", \"Topic1\", \"Topic1\", \"Topic1\", \"Topic1\", \"Topic1\", \"Topic1\", \"Topic1\", \"Topic1\", \"Topic1\", \"Topic1\", \"Topic1\", \"Topic1\", \"Topic1\", \"Topic1\", \"Topic1\", \"Topic1\", \"Topic1\", \"Topic1\", \"Topic1\", \"Topic1\", \"Topic1\", \"Topic1\", \"Topic1\", \"Topic1\", \"Topic1\", \"Topic1\", \"Topic1\", \"Topic1\", \"Topic1\", \"Topic1\", \"Topic1\", \"Topic1\", \"Topic1\", \"Topic1\", \"Topic1\", \"Topic1\", \"Topic1\", \"Topic1\", \"Topic1\", \"Topic1\", \"Topic1\", \"Topic1\", \"Topic1\", \"Topic1\", \"Topic1\", \"Topic1\", \"Topic1\", \"Topic1\", \"Topic1\", \"Topic1\", \"Topic2\", \"Topic2\", \"Topic2\", \"Topic2\", \"Topic2\", \"Topic2\", \"Topic2\", \"Topic2\", \"Topic2\", \"Topic2\", \"Topic2\", \"Topic2\", \"Topic2\", \"Topic2\", \"Topic2\", \"Topic2\", \"Topic2\", \"Topic2\", \"Topic2\", \"Topic2\", \"Topic2\", \"Topic2\", \"Topic2\", \"Topic2\", \"Topic2\", \"Topic2\", \"Topic2\", \"Topic2\", \"Topic2\", \"Topic2\", \"Topic2\", \"Topic2\", \"Topic2\", \"Topic2\", \"Topic2\", \"Topic2\", \"Topic2\", \"Topic2\", \"Topic2\", \"Topic2\", \"Topic2\", \"Topic2\", \"Topic2\", \"Topic2\", \"Topic2\", \"Topic2\", \"Topic2\", \"Topic2\", \"Topic2\", \"Topic2\", \"Topic2\", \"Topic2\", \"Topic2\", \"Topic2\", \"Topic2\", \"Topic2\", \"Topic2\", \"Topic3\", \"Topic3\", \"Topic3\", \"Topic3\", \"Topic3\", \"Topic3\", \"Topic3\", \"Topic3\", \"Topic3\", \"Topic3\", \"Topic3\", \"Topic3\", \"Topic3\", \"Topic3\", \"Topic3\", \"Topic3\", \"Topic3\", \"Topic3\", \"Topic3\", \"Topic3\", \"Topic3\", \"Topic3\", \"Topic3\", \"Topic3\", \"Topic3\", \"Topic3\", \"Topic3\", \"Topic3\", \"Topic3\", \"Topic3\", \"Topic3\", \"Topic3\", \"Topic3\", \"Topic3\", \"Topic3\", \"Topic3\", \"Topic3\", \"Topic3\", \"Topic3\", \"Topic3\", \"Topic3\", \"Topic3\", \"Topic3\", \"Topic3\", \"Topic3\", \"Topic3\", \"Topic3\", \"Topic3\", \"Topic3\", \"Topic3\", \"Topic3\", \"Topic3\", \"Topic3\", \"Topic3\", \"Topic3\", \"Topic3\", \"Topic3\", \"Topic3\", \"Topic3\", \"Topic4\", \"Topic4\", \"Topic4\", \"Topic4\", \"Topic4\", \"Topic4\", \"Topic4\", \"Topic4\", \"Topic4\", \"Topic4\", \"Topic4\", \"Topic4\", \"Topic4\", \"Topic4\", \"Topic4\", \"Topic4\", \"Topic4\", \"Topic4\", \"Topic4\", \"Topic4\", \"Topic4\", \"Topic4\", \"Topic4\", \"Topic4\", \"Topic4\", \"Topic4\", \"Topic4\", \"Topic4\", \"Topic4\", \"Topic4\", \"Topic4\", \"Topic4\", \"Topic4\", \"Topic4\", \"Topic4\", \"Topic4\", \"Topic4\", \"Topic4\", \"Topic4\", \"Topic4\", \"Topic4\", \"Topic4\", \"Topic4\", \"Topic4\", \"Topic4\", \"Topic4\", \"Topic4\", \"Topic4\", \"Topic4\", \"Topic4\", \"Topic4\", \"Topic4\", \"Topic4\", \"Topic4\", \"Topic4\", \"Topic4\", \"Topic4\", \"Topic4\", \"Topic5\", \"Topic5\", \"Topic5\", \"Topic5\", \"Topic5\", \"Topic5\", \"Topic5\", \"Topic5\", \"Topic5\", \"Topic5\", \"Topic5\", \"Topic5\", \"Topic5\", \"Topic5\", \"Topic5\", \"Topic5\", \"Topic5\", \"Topic5\", \"Topic5\", \"Topic5\", \"Topic5\", \"Topic5\", \"Topic5\", \"Topic5\", \"Topic5\", \"Topic5\", \"Topic5\", \"Topic5\", \"Topic5\", \"Topic5\", \"Topic5\", \"Topic5\", \"Topic5\", \"Topic5\", \"Topic5\", \"Topic5\", \"Topic5\", \"Topic5\", \"Topic5\", \"Topic5\", \"Topic5\", \"Topic5\", \"Topic5\", \"Topic5\", \"Topic5\", \"Topic5\", \"Topic5\", \"Topic5\", \"Topic5\", \"Topic5\", \"Topic5\", \"Topic5\", \"Topic5\", \"Topic5\", \"Topic5\", \"Topic5\", \"Topic5\", \"Topic5\", \"Topic5\", \"Topic5\", \"Topic5\", \"Topic5\", \"Topic5\", \"Topic6\", \"Topic6\", \"Topic6\", \"Topic6\", \"Topic6\", \"Topic6\", \"Topic6\", \"Topic6\", \"Topic6\", \"Topic6\", \"Topic6\", \"Topic6\", \"Topic6\", \"Topic6\", \"Topic6\", \"Topic6\", \"Topic6\", \"Topic6\", \"Topic6\", \"Topic6\", \"Topic6\", \"Topic6\", \"Topic6\", \"Topic6\", \"Topic6\", \"Topic6\", \"Topic6\", \"Topic6\", \"Topic6\", \"Topic6\", \"Topic6\", \"Topic6\", \"Topic6\", \"Topic6\", \"Topic6\", \"Topic6\", \"Topic6\", \"Topic6\", \"Topic6\", \"Topic6\", \"Topic6\", \"Topic6\", \"Topic6\", \"Topic6\", \"Topic6\", \"Topic6\", \"Topic6\", \"Topic6\", \"Topic6\", \"Topic6\", \"Topic6\", \"Topic6\", \"Topic6\", \"Topic6\", \"Topic6\", \"Topic6\", \"Topic6\", \"Topic6\", \"Topic6\", \"Topic6\", \"Topic6\", \"Topic6\", \"Topic6\", \"Topic6\", \"Topic7\", \"Topic7\", \"Topic7\", \"Topic7\", \"Topic7\", \"Topic7\", \"Topic7\", \"Topic7\", \"Topic7\", \"Topic7\", \"Topic7\", \"Topic7\", \"Topic7\", \"Topic7\", \"Topic7\", \"Topic7\", \"Topic7\", \"Topic7\", \"Topic7\", \"Topic7\", \"Topic7\", \"Topic7\", \"Topic7\", \"Topic7\", \"Topic7\", \"Topic7\", \"Topic7\", \"Topic7\", \"Topic7\", \"Topic7\", \"Topic7\", \"Topic7\", \"Topic7\", \"Topic7\", \"Topic7\", \"Topic7\", \"Topic7\", \"Topic7\", \"Topic7\", \"Topic7\", \"Topic7\", \"Topic7\", \"Topic7\", \"Topic7\", \"Topic7\", \"Topic7\", \"Topic7\", \"Topic7\", \"Topic7\", \"Topic7\", \"Topic7\", \"Topic7\", \"Topic7\", \"Topic7\", \"Topic7\", \"Topic7\", \"Topic7\", \"Topic7\", \"Topic8\", \"Topic8\", \"Topic8\", \"Topic8\", \"Topic8\", \"Topic8\", \"Topic8\", \"Topic8\", \"Topic8\", \"Topic8\", \"Topic8\", \"Topic8\", \"Topic8\", \"Topic8\", \"Topic8\", \"Topic8\", \"Topic8\", \"Topic8\", \"Topic8\", \"Topic8\", \"Topic8\", \"Topic8\", \"Topic8\", \"Topic8\", \"Topic8\", \"Topic8\", \"Topic8\", \"Topic8\", \"Topic8\", \"Topic8\", \"Topic8\", \"Topic8\", \"Topic8\", \"Topic8\", \"Topic8\", \"Topic8\", \"Topic8\", \"Topic8\", \"Topic8\", \"Topic8\", \"Topic8\", \"Topic8\", \"Topic8\", \"Topic8\", \"Topic8\", \"Topic8\", \"Topic8\", \"Topic8\", \"Topic8\", \"Topic8\", \"Topic8\", \"Topic8\", \"Topic8\", \"Topic8\", \"Topic8\", \"Topic8\", \"Topic8\", \"Topic8\", \"Topic8\", \"Topic8\", \"Topic8\", \"Topic8\", \"Topic8\", \"Topic8\", \"Topic8\", \"Topic8\", \"Topic8\", \"Topic8\", \"Topic8\", \"Topic8\", \"Topic8\", \"Topic9\", \"Topic9\", \"Topic9\", \"Topic9\", \"Topic9\", \"Topic9\", \"Topic9\", \"Topic9\", \"Topic9\", \"Topic9\", \"Topic9\", \"Topic9\", \"Topic9\", \"Topic9\", \"Topic9\", \"Topic9\", \"Topic9\", \"Topic9\", \"Topic9\", \"Topic9\", \"Topic9\", \"Topic9\", \"Topic9\", \"Topic9\", \"Topic9\", \"Topic9\", \"Topic9\", \"Topic9\", \"Topic9\", \"Topic9\", \"Topic9\", \"Topic9\", \"Topic9\", \"Topic9\", \"Topic9\", \"Topic9\", \"Topic9\", \"Topic9\", \"Topic9\", \"Topic9\", \"Topic9\", \"Topic9\", \"Topic9\", \"Topic9\", \"Topic9\", \"Topic9\", \"Topic9\", \"Topic9\", \"Topic9\", \"Topic9\", \"Topic9\", \"Topic9\", \"Topic9\", \"Topic9\", \"Topic9\", \"Topic9\", \"Topic9\", \"Topic9\", \"Topic9\", \"Topic9\", \"Topic9\", \"Topic9\", \"Topic9\", \"Topic9\", \"Topic10\", \"Topic10\", \"Topic10\", \"Topic10\", \"Topic10\", \"Topic10\", \"Topic10\", \"Topic10\", \"Topic10\", \"Topic10\", \"Topic10\", \"Topic10\", \"Topic10\", \"Topic10\", \"Topic10\", \"Topic10\", \"Topic10\", \"Topic10\", \"Topic10\", \"Topic10\", \"Topic10\", \"Topic10\", \"Topic10\", \"Topic10\", \"Topic10\", \"Topic10\", \"Topic10\", \"Topic10\", \"Topic10\", \"Topic10\", \"Topic10\", \"Topic10\", \"Topic10\", \"Topic10\", \"Topic10\", \"Topic10\", \"Topic10\", \"Topic10\", \"Topic10\", \"Topic10\", \"Topic10\", \"Topic10\", \"Topic10\", \"Topic10\", \"Topic10\", \"Topic10\", \"Topic10\", \"Topic10\", \"Topic10\", \"Topic10\", \"Topic10\", \"Topic10\", \"Topic10\", \"Topic10\", \"Topic10\", \"Topic10\", \"Topic10\", \"Topic10\", \"Topic10\", \"Topic10\", \"Topic10\", \"Topic10\", \"Topic10\", \"Topic10\", \"Topic10\", \"Topic10\", \"Topic10\", \"Topic11\", \"Topic11\", \"Topic11\", \"Topic11\", \"Topic11\", \"Topic11\", \"Topic11\", \"Topic11\", \"Topic11\", \"Topic11\", \"Topic11\", \"Topic11\", \"Topic11\", \"Topic11\", \"Topic11\", \"Topic11\", \"Topic11\", \"Topic11\", \"Topic11\", \"Topic11\", \"Topic11\", \"Topic11\", \"Topic11\", \"Topic11\", \"Topic11\", \"Topic11\", \"Topic11\", \"Topic11\", \"Topic11\", \"Topic11\", \"Topic11\", \"Topic11\", \"Topic11\", \"Topic11\", \"Topic11\", \"Topic11\", \"Topic11\", \"Topic11\", \"Topic11\", \"Topic11\", \"Topic11\", \"Topic11\", \"Topic11\", \"Topic11\", \"Topic11\", \"Topic11\", \"Topic11\", \"Topic11\", \"Topic11\", \"Topic11\", \"Topic11\", \"Topic11\", \"Topic11\", \"Topic11\", \"Topic11\", \"Topic11\", \"Topic11\", \"Topic11\", \"Topic11\", \"Topic12\", \"Topic12\", \"Topic12\", \"Topic12\", \"Topic12\", \"Topic12\", \"Topic12\", \"Topic12\", \"Topic12\", \"Topic12\", \"Topic12\", \"Topic12\", \"Topic12\", \"Topic12\", \"Topic12\", \"Topic12\", \"Topic12\", \"Topic12\", \"Topic12\", \"Topic12\", \"Topic12\", \"Topic12\", \"Topic12\", \"Topic12\", \"Topic12\", \"Topic12\", \"Topic12\", \"Topic12\", \"Topic12\", \"Topic12\", \"Topic12\", \"Topic12\", \"Topic12\", \"Topic12\", \"Topic12\", \"Topic12\", \"Topic12\", \"Topic12\", \"Topic12\", \"Topic12\", \"Topic12\", \"Topic12\", \"Topic12\", \"Topic12\", \"Topic12\", \"Topic12\", \"Topic12\", \"Topic12\", \"Topic12\", \"Topic12\", \"Topic12\", \"Topic12\", \"Topic12\", \"Topic12\", \"Topic12\", \"Topic12\", \"Topic12\", \"Topic12\", \"Topic12\", \"Topic12\", \"Topic12\", \"Topic12\", \"Topic12\", \"Topic12\", \"Topic12\", \"Topic12\", \"Topic12\", \"Topic12\", \"Topic13\", \"Topic13\", \"Topic13\", \"Topic13\", \"Topic13\", \"Topic13\", \"Topic13\", \"Topic13\", \"Topic13\", \"Topic13\", \"Topic13\", \"Topic13\", \"Topic13\", \"Topic13\", \"Topic13\", \"Topic13\", \"Topic13\", \"Topic13\", \"Topic13\", \"Topic13\", \"Topic13\", \"Topic13\", \"Topic13\", \"Topic13\", \"Topic13\", \"Topic13\", \"Topic13\", \"Topic13\", \"Topic13\", \"Topic13\", \"Topic13\", \"Topic13\", \"Topic13\", \"Topic13\", \"Topic13\", \"Topic13\", \"Topic13\", \"Topic13\", \"Topic13\", \"Topic13\", \"Topic13\", \"Topic13\", \"Topic13\", \"Topic13\", \"Topic13\", \"Topic13\", \"Topic13\", \"Topic13\", \"Topic13\", \"Topic13\", \"Topic13\", \"Topic13\", \"Topic13\", \"Topic13\", \"Topic13\", \"Topic13\", \"Topic13\", \"Topic13\", \"Topic13\", \"Topic13\", \"Topic13\", \"Topic13\", \"Topic13\", \"Topic13\", \"Topic14\", \"Topic14\", \"Topic14\", \"Topic14\", \"Topic14\", \"Topic14\", \"Topic14\", \"Topic14\", \"Topic14\", \"Topic14\", \"Topic14\", \"Topic14\", \"Topic14\", \"Topic14\", \"Topic14\", \"Topic14\", \"Topic14\", \"Topic14\", \"Topic14\", \"Topic14\", \"Topic14\", \"Topic14\", \"Topic14\", \"Topic14\", \"Topic14\", \"Topic14\", \"Topic14\", \"Topic14\", \"Topic14\", \"Topic14\", \"Topic14\", \"Topic14\", \"Topic14\", \"Topic14\", \"Topic14\", \"Topic14\", \"Topic14\", \"Topic14\", \"Topic14\", \"Topic14\", \"Topic14\", \"Topic14\", \"Topic14\", \"Topic14\", \"Topic14\", \"Topic14\", \"Topic14\", \"Topic14\", \"Topic14\", \"Topic14\", \"Topic14\", \"Topic14\", \"Topic14\", \"Topic14\", \"Topic14\", \"Topic14\", \"Topic14\", \"Topic14\", \"Topic14\", \"Topic14\", \"Topic14\", \"Topic15\", \"Topic15\", \"Topic15\", \"Topic15\", \"Topic15\", \"Topic15\", \"Topic15\", \"Topic15\", \"Topic15\", \"Topic15\", \"Topic15\", \"Topic15\", \"Topic15\", \"Topic15\", \"Topic15\", \"Topic15\", \"Topic15\", \"Topic15\", \"Topic15\", \"Topic15\", \"Topic15\", \"Topic15\", \"Topic15\", \"Topic15\", \"Topic15\", \"Topic15\", \"Topic15\", \"Topic15\", \"Topic15\", \"Topic15\", \"Topic15\", \"Topic15\", \"Topic15\", \"Topic15\", \"Topic15\", \"Topic15\", \"Topic15\", \"Topic15\", \"Topic15\", \"Topic15\", \"Topic15\", \"Topic15\", \"Topic15\", \"Topic15\", \"Topic15\", \"Topic15\", \"Topic15\", \"Topic15\", \"Topic15\", \"Topic15\", \"Topic15\", \"Topic15\", \"Topic15\", \"Topic15\", \"Topic15\", \"Topic15\", \"Topic15\", \"Topic15\", \"Topic16\", \"Topic16\", \"Topic16\", \"Topic16\", \"Topic16\", \"Topic16\", \"Topic16\", \"Topic16\", \"Topic16\", \"Topic16\", \"Topic16\", \"Topic16\", \"Topic16\", \"Topic16\", \"Topic16\", \"Topic16\", \"Topic16\", \"Topic16\", \"Topic16\", \"Topic16\", \"Topic16\", \"Topic16\", \"Topic16\", \"Topic16\", \"Topic16\", \"Topic16\", \"Topic16\", \"Topic16\", \"Topic16\", \"Topic16\", \"Topic16\", \"Topic16\", \"Topic16\", \"Topic16\", \"Topic16\", \"Topic16\", \"Topic16\", \"Topic16\", \"Topic16\", \"Topic16\", \"Topic16\", \"Topic16\", \"Topic16\", \"Topic16\", \"Topic16\", \"Topic16\", \"Topic16\", \"Topic16\", \"Topic16\", \"Topic16\", \"Topic16\", \"Topic16\", \"Topic16\", \"Topic16\", \"Topic16\", \"Topic16\", \"Topic16\", \"Topic16\", \"Topic17\", \"Topic17\", \"Topic17\", \"Topic17\", \"Topic17\", \"Topic17\", \"Topic17\", \"Topic17\", \"Topic17\", \"Topic17\", \"Topic17\", \"Topic17\", \"Topic17\", \"Topic17\", \"Topic17\", \"Topic17\", \"Topic17\", \"Topic17\", \"Topic17\", \"Topic17\", \"Topic17\", \"Topic17\", \"Topic17\", \"Topic17\", \"Topic17\", \"Topic17\", \"Topic17\", \"Topic17\", \"Topic17\", \"Topic17\", \"Topic17\", \"Topic17\", \"Topic17\", \"Topic17\", \"Topic17\", \"Topic17\", \"Topic17\", \"Topic17\", \"Topic17\", \"Topic17\", \"Topic17\", \"Topic17\", \"Topic17\", \"Topic17\", \"Topic17\", \"Topic17\", \"Topic17\", \"Topic17\", \"Topic17\", \"Topic17\", \"Topic17\", \"Topic17\", \"Topic17\", \"Topic17\", \"Topic17\", \"Topic17\", \"Topic17\", \"Topic17\", \"Topic17\", \"Topic17\", \"Topic17\", \"Topic17\", \"Topic17\", \"Topic17\", \"Topic18\", \"Topic18\", \"Topic18\", \"Topic18\", \"Topic18\", \"Topic18\", \"Topic18\", \"Topic18\", \"Topic18\", \"Topic18\", \"Topic18\", \"Topic18\", \"Topic18\", \"Topic18\", \"Topic18\", \"Topic18\", \"Topic18\", \"Topic18\", \"Topic18\", \"Topic18\", \"Topic18\", \"Topic18\", \"Topic18\", \"Topic18\", \"Topic18\", \"Topic18\", \"Topic18\", \"Topic18\", \"Topic18\", \"Topic18\", \"Topic18\", \"Topic18\", \"Topic18\", \"Topic18\", \"Topic18\", \"Topic18\", \"Topic18\", \"Topic18\", \"Topic18\", \"Topic18\", \"Topic18\", \"Topic18\", \"Topic18\", \"Topic18\", \"Topic18\", \"Topic18\", \"Topic18\", \"Topic18\", \"Topic18\", \"Topic18\", \"Topic18\", \"Topic18\", \"Topic18\", \"Topic18\", \"Topic19\", \"Topic19\", \"Topic19\", \"Topic19\", \"Topic19\", \"Topic19\", \"Topic19\", \"Topic19\", \"Topic19\", \"Topic19\", \"Topic19\", \"Topic19\", \"Topic19\", \"Topic19\", \"Topic19\", \"Topic19\", \"Topic19\", \"Topic19\", \"Topic19\", \"Topic19\", \"Topic19\", \"Topic19\", \"Topic19\", \"Topic19\", \"Topic19\", \"Topic19\", \"Topic19\", \"Topic19\", \"Topic19\", \"Topic19\", \"Topic19\", \"Topic19\", \"Topic19\", \"Topic19\", \"Topic19\", \"Topic19\", \"Topic19\", \"Topic19\", \"Topic19\", \"Topic19\", \"Topic19\", \"Topic19\", \"Topic19\", \"Topic19\", \"Topic19\", \"Topic19\", \"Topic19\", \"Topic19\", \"Topic19\", \"Topic19\", \"Topic19\", \"Topic19\", \"Topic20\", \"Topic20\", \"Topic20\", \"Topic20\", \"Topic20\", \"Topic20\", \"Topic20\", \"Topic20\", \"Topic20\", \"Topic20\", \"Topic20\", \"Topic20\", \"Topic20\", \"Topic20\", \"Topic20\", \"Topic20\", \"Topic20\", \"Topic20\", \"Topic20\", \"Topic20\", \"Topic20\", \"Topic20\", \"Topic20\", \"Topic20\", \"Topic20\", \"Topic20\", \"Topic20\", \"Topic20\", \"Topic20\", \"Topic20\", \"Topic20\", \"Topic20\", \"Topic20\", \"Topic20\", \"Topic20\", \"Topic20\", \"Topic20\", \"Topic20\", \"Topic20\", \"Topic20\", \"Topic20\", \"Topic20\", \"Topic20\", \"Topic20\", \"Topic20\", \"Topic20\", \"Topic20\", \"Topic20\", \"Topic20\", \"Topic20\", \"Topic20\", \"Topic20\", \"Topic20\", \"Topic20\", \"Topic20\", \"Topic20\", \"Topic20\", \"Topic21\", \"Topic21\", \"Topic21\", \"Topic21\", \"Topic21\", \"Topic21\", \"Topic21\", \"Topic21\", \"Topic21\", \"Topic21\", \"Topic21\", \"Topic21\", \"Topic21\", \"Topic21\", \"Topic21\", \"Topic21\", \"Topic21\", \"Topic21\", \"Topic21\", \"Topic21\", \"Topic21\", \"Topic21\", \"Topic21\", \"Topic21\", \"Topic21\", \"Topic21\", \"Topic21\", \"Topic21\", \"Topic21\", \"Topic21\", \"Topic21\", \"Topic21\", \"Topic21\", \"Topic21\", \"Topic21\", \"Topic21\", \"Topic21\", \"Topic21\", \"Topic21\", \"Topic21\", \"Topic21\", \"Topic21\", \"Topic21\", \"Topic21\", \"Topic21\", \"Topic21\", \"Topic21\", \"Topic21\", \"Topic21\", \"Topic21\", \"Topic21\", \"Topic21\", \"Topic21\", \"Topic21\", \"Topic21\", \"Topic21\", \"Topic21\", \"Topic21\", \"Topic21\", \"Topic22\", \"Topic22\", \"Topic22\", \"Topic22\", \"Topic22\", \"Topic22\", \"Topic22\", \"Topic22\", \"Topic22\", \"Topic22\", \"Topic22\", \"Topic22\", \"Topic22\", \"Topic22\", \"Topic22\", \"Topic22\", \"Topic22\", \"Topic22\", \"Topic22\", \"Topic22\", \"Topic22\", \"Topic22\", \"Topic22\", \"Topic22\", \"Topic22\", \"Topic22\", \"Topic22\", \"Topic22\", \"Topic22\", \"Topic22\", \"Topic22\", \"Topic22\", \"Topic22\", \"Topic22\", \"Topic22\", \"Topic22\", \"Topic22\", \"Topic22\", \"Topic22\", \"Topic22\", \"Topic22\", \"Topic22\", \"Topic22\", \"Topic22\", \"Topic22\", \"Topic22\", \"Topic22\", \"Topic22\", \"Topic22\", \"Topic22\", \"Topic22\", \"Topic22\", \"Topic22\", \"Topic22\", \"Topic22\", \"Topic22\", \"Topic22\", \"Topic22\", \"Topic22\", \"Topic23\", \"Topic23\", \"Topic23\", \"Topic23\", \"Topic23\", \"Topic23\", \"Topic23\", \"Topic23\", \"Topic23\", \"Topic23\", \"Topic23\", \"Topic23\", \"Topic23\", \"Topic23\", \"Topic23\", \"Topic23\", \"Topic23\", \"Topic23\", \"Topic23\", \"Topic23\", \"Topic23\", \"Topic23\", \"Topic23\", \"Topic23\", \"Topic23\", \"Topic23\", \"Topic23\", \"Topic23\", \"Topic23\", \"Topic23\", \"Topic23\", \"Topic23\", \"Topic23\", \"Topic23\", \"Topic23\", \"Topic23\", \"Topic23\", \"Topic23\", \"Topic23\", \"Topic23\", \"Topic23\", \"Topic23\", \"Topic23\", \"Topic23\", \"Topic23\", \"Topic23\", \"Topic23\", \"Topic23\", \"Topic23\", \"Topic23\", \"Topic23\", \"Topic23\", \"Topic24\", \"Topic24\", \"Topic24\", \"Topic24\", \"Topic24\", \"Topic24\", \"Topic24\", \"Topic24\", \"Topic24\", \"Topic24\", \"Topic24\", \"Topic24\", \"Topic24\", \"Topic24\", \"Topic24\", \"Topic24\", \"Topic24\", \"Topic24\", \"Topic24\", \"Topic24\", \"Topic24\", \"Topic24\", \"Topic24\", \"Topic24\", \"Topic24\", \"Topic24\", \"Topic24\", \"Topic24\", \"Topic24\", \"Topic24\", \"Topic24\", \"Topic24\", \"Topic24\", \"Topic24\", \"Topic24\", \"Topic24\", \"Topic24\", \"Topic24\", \"Topic24\", \"Topic24\", \"Topic24\", \"Topic24\", \"Topic24\", \"Topic24\", \"Topic24\", \"Topic24\", \"Topic24\", \"Topic24\", \"Topic24\", \"Topic24\", \"Topic24\", \"Topic24\", \"Topic24\", \"Topic24\", \"Topic25\", \"Topic25\", \"Topic25\", \"Topic25\", \"Topic25\", \"Topic25\", \"Topic25\", \"Topic25\", \"Topic25\", \"Topic25\", \"Topic25\", \"Topic25\", \"Topic25\", \"Topic25\", \"Topic25\", \"Topic25\", \"Topic25\", \"Topic25\", \"Topic25\", \"Topic25\", \"Topic25\", \"Topic25\", \"Topic25\", \"Topic25\", \"Topic25\", \"Topic25\", \"Topic25\", \"Topic25\", \"Topic25\", \"Topic25\", \"Topic25\", \"Topic25\", \"Topic25\", \"Topic25\", \"Topic25\", \"Topic25\", \"Topic25\", \"Topic25\", \"Topic25\", \"Topic25\", \"Topic25\", \"Topic25\", \"Topic25\", \"Topic25\", \"Topic25\", \"Topic25\", \"Topic25\", \"Topic26\", \"Topic26\", \"Topic26\", \"Topic26\", \"Topic26\", \"Topic26\", \"Topic26\", \"Topic26\", \"Topic26\", \"Topic26\", \"Topic26\", \"Topic26\", \"Topic26\", \"Topic26\", \"Topic26\", \"Topic26\", \"Topic26\", \"Topic26\", \"Topic26\", \"Topic26\", \"Topic26\", \"Topic26\", \"Topic26\", \"Topic26\", \"Topic26\", \"Topic26\", \"Topic26\", \"Topic26\", \"Topic26\", \"Topic26\", \"Topic26\", \"Topic26\", \"Topic26\", \"Topic26\", \"Topic26\", \"Topic26\", \"Topic26\", \"Topic26\", \"Topic26\", \"Topic26\", \"Topic26\", \"Topic26\", \"Topic26\", \"Topic26\", \"Topic26\", \"Topic26\", \"Topic26\", \"Topic26\", \"Topic26\", \"Topic26\", \"Topic26\", \"Topic26\", \"Topic27\", \"Topic27\", \"Topic27\", \"Topic27\", \"Topic27\", \"Topic27\", \"Topic27\", \"Topic27\", \"Topic27\", \"Topic27\", \"Topic27\", \"Topic27\", \"Topic27\", \"Topic27\", \"Topic27\", \"Topic27\", \"Topic27\", \"Topic27\", \"Topic27\", \"Topic27\", \"Topic27\", \"Topic27\", \"Topic27\", \"Topic27\", \"Topic27\", \"Topic27\", \"Topic27\", \"Topic27\", \"Topic27\", \"Topic27\", \"Topic27\", \"Topic27\", \"Topic27\", \"Topic27\", \"Topic27\", \"Topic27\", \"Topic27\"], \"logprob\": [30.0, 29.0, 28.0, 27.0, 26.0, 25.0, 24.0, 23.0, 22.0, 21.0, 20.0, 19.0, 18.0, 17.0, 16.0, 15.0, 14.0, 13.0, 12.0, 11.0, 10.0, 9.0, 8.0, 7.0, 6.0, 5.0, 4.0, 3.0, 2.0, 1.0, -2.702699899673462, -3.033099889755249, -5.385000228881836, -6.198200225830078, -2.981800079345703, -2.6796998977661133, -6.747799873352051, -7.1809000968933105, -7.460700035095215, -7.4583001136779785, -7.843100070953369, -7.860400199890137, -8.054400444030762, -8.151399612426758, -8.32919979095459, -8.475899696350098, -6.893599987030029, -4.478799819946289, -8.315999984741211, -7.975200176239014, -5.811299800872803, -7.466899871826172, -5.713099956512451, -8.326600074768066, -7.989099979400635, -7.017099857330322, -8.258399963378906, -5.166900157928467, -8.069600105285645, -8.619199752807617, -5.039000034332275, -2.839900016784668, -7.306700229644775, -5.261499881744385, -4.860799789428711, -3.8763999938964844, -5.4120001792907715, -4.890600204467773, -3.753499984741211, -4.112100124359131, -3.6565001010894775, -3.1010000705718994, -4.809599876403809, -4.685999870300293, -2.197499990463257, -4.2403998374938965, -4.8180999755859375, -5.802000045776367, -4.4695000648498535, -3.378700017929077, -5.456500053405762, -4.771299839019775, -5.121500015258789, -4.893400192260742, -4.501299858093262, -5.10290002822876, -5.085400104522705, -4.944799900054932, -5.125800132751465, -7.464600086212158, -8.508999824523926, -8.847000122070312, -1.6892000436782837, -2.0197999477386475, -8.51710033416748, -3.6679999828338623, -8.035699844360352, -9.007100105285645, -8.655599594116211, -7.6458001136779785, -7.224800109863281, -6.126299858093262, -8.77649974822998, -8.363800048828125, -8.701600074768066, -6.085599899291992, -2.7507998943328857, -7.958899974822998, -8.963600158691406, -6.672599792480469, -7.122200012207031, -8.600600242614746, -7.758500099182129, -8.958800315856934, -4.587900161743164, -2.722100019454956, -8.279899597167969, -7.720200061798096, -4.7291998863220215, -5.1483001708984375, -3.887700080871582, -4.361299991607666, -3.981600046157837, -5.820400238037109, -4.190700054168701, -4.345300197601318, -3.639899969100952, -4.632599830627441, -3.8584001064300537, -6.3892998695373535, -4.507599830627441, -5.233399868011475, -4.4243998527526855, -4.822700023651123, -4.059700012207031, -3.254300117492676, -3.2044999599456787, -5.743899822235107, -4.775400161743164, -4.884099960327148, -5.700699806213379, -5.2515997886657715, -5.218800067901611, -4.420199871063232, -4.653800010681152, -5.192800045013428, -2.9665000438690186, -3.8712000846862793, -4.517300128936768, -4.665599822998047, -4.642399787902832, -4.8531999588012695, -4.84630012512207, -5.117300033569336, -5.182700157165527, -5.260799884796143, -5.363100051879883, -5.3769001960754395, -5.764599800109863, -6.060400009155273, -6.447999954223633, -6.2835001945495605, -6.489699840545654, -6.542699813842773, -6.857900142669678, -6.9029998779296875, -7.205599784851074, -7.558899879455566, -7.571400165557861, -7.686999797821045, -7.736999988555908, -4.744900226593018, -4.222799777984619, -7.9359002113342285, -7.9593000411987305, -7.964399814605713, -6.016300201416016, -4.538400173187256, -3.697000026702881, -4.839300155639648, -6.137899875640869, -5.709400177001953, -5.526100158691406, -4.967299938201904, -4.813499927520752, -4.129000186920166, -5.649600028991699, -5.2642998695373535, -4.344200134277344, -5.110000133514404, -3.767400026321411, -4.673099994659424, -4.17519998550415, -4.2368998527526855, -4.177299976348877, -2.430299997329712, -4.316299915313721, -3.3376998901367188, -4.172900199890137, -4.494200229644775, -4.371300220489502, -4.500999927520752, -4.328700065612793, -4.785299777984619, -4.880799770355225, -2.824199914932251, -2.842099905014038, -2.9990999698638916, -3.213200092315674, -3.2997000217437744, -4.063000202178955, -4.631199836730957, -4.917500019073486, -5.146699905395508, -5.839600086212158, -5.840400218963623, -6.026500225067139, -6.192299842834473, -4.365900039672852, -6.938899993896484, -7.208799839019775, -7.337800025939941, -7.404799938201904, -7.822999954223633, -8.15470027923584, -8.182999610900879, -8.238300323486328, -8.508299827575684, -8.51930046081543, -8.337800025939941, -8.069499969482422, -6.891300201416016, -7.574999809265137, -8.316300392150879, -3.3568999767303467, -5.095699787139893, -5.796199798583984, -6.145899772644043, -4.259699821472168, -4.70989990234375, -4.307700157165527, -3.6171998977661133, -6.164100170135498, -4.579500198364258, -5.723100185394287, -5.016300201416016, -4.686800003051758, -5.34660005569458, -4.103499889373779, -3.2876999378204346, -4.556700229644775, -4.2118000984191895, -3.6377999782562256, -3.9876999855041504, -4.686999797821045, -4.2266998291015625, -4.127200126647949, -4.255199909210205, -4.875899791717529, -4.321599960327148, -4.804500102996826, -4.738500118255615, -4.702099800109863, -4.147600173950195, -4.6230998039245605, -4.896399974822998, -5.176700115203857, -5.801199913024902, -6.19379997253418, -6.296899795532227, -6.709499835968018, -7.410099983215332, -7.416100025177002, -7.855100154876709, -7.8831000328063965, -7.970600128173828, -8.066200256347656, -7.132999897003174, -5.696899890899658, -5.6921000480651855, -6.557300090789795, -7.301599979400635, -8.033499717712402, -7.021599769592285, -8.368399620056152, -7.528600215911865, -6.625500202178955, -3.206899881362915, -8.509200096130371, -3.503700017929077, -3.9144999980926514, -8.442399978637695, -7.328999996185303, -4.321800231933594, -4.954699993133545, -5.874599933624268, -4.359300136566162, -5.735599994659424, -5.836999893188477, -5.012599945068359, -5.612199783325195, -5.515399932861328, -5.514200210571289, -3.5866000652313232, -3.7195000648498535, -4.28410005569458, -3.0708000659942627, -3.2911999225616455, -5.342400074005127, -4.840199947357178, -4.558700084686279, -3.617000102996826, -5.397600173950195, -4.626200199127197, -4.182400226593018, -3.0278000831604004, -4.281899929046631, -3.8884999752044678, -4.553800106048584, -5.1844000816345215, -4.3130998611450195, -4.5416998863220215, -5.036300182342529, -4.864799976348877, -4.622900009155273, -4.874899864196777, -4.301499843597412, -4.376699924468994, -6.51639986038208, -6.558599948883057, -6.978799819946289, -7.126699924468994, -7.1407999992370605, -7.163700103759766, -5.934599876403809, -7.245699882507324, -8.032099723815918, -8.305700302124023, -8.477299690246582, -1.4437999725341797, -7.069699764251709, -7.263500213623047, -7.720600128173828, -7.7895002365112305, -3.342099905014038, -7.748499870300293, -8.602899551391602, -2.606300115585327, -6.432700157165527, -7.562399864196777, -8.573100090026855, -8.559599876403809, -8.125300407409668, -6.230000019073486, -8.023900032043457, -6.937300205230713, -5.655600070953369, -5.834499835968018, -5.593200206756592, -5.2835001945495605, -6.1545000076293945, -5.373899936676025, -3.982800006866455, -3.7262001037597656, -5.00570011138916, -5.238900184631348, -4.6371002197265625, -4.524600028991699, -6.095099925994873, -5.556700229644775, -4.70550012588501, -3.585900068283081, -3.677500009536743, -5.319200038909912, -5.088399887084961, -4.581099987030029, -3.1947999000549316, -4.036300182342529, -4.203499794006348, -4.709499835968018, -4.592100143432617, -4.714700222015381, -3.8025999069213867, -5.057600021362305, -4.69290018081665, -5.05079984664917, -5.298900127410889, -5.145100116729736, -5.261899948120117, -5.276800155639648, -1.7827999591827393, -3.9807000160217285, -4.086999893188477, -4.380099773406982, -4.518899917602539, -4.676599979400635, -4.72790002822876, -4.813499927520752, -5.017499923706055, -5.095300197601318, -5.507699966430664, -5.697299957275391, -5.7941999435424805, -5.920100212097168, -5.434800148010254, -6.426799774169922, -5.604000091552734, -6.950200080871582, -7.144599914550781, -7.276899814605713, -6.345600128173828, -7.355999946594238, -7.391200065612793, -7.577300071716309, -7.5782999992370605, -6.711299896240234, -7.668600082397461, -7.784599781036377, -8.069299697875977, -8.130200386047363, -5.0335001945495605, -4.082399845123291, -3.785900115966797, -2.9244000911712646, -6.405200004577637, -6.689899921417236, -4.459499835968018, -5.514500141143799, -5.645199775695801, -4.897799968719482, -4.010799884796143, -4.990099906921387, -5.882400035858154, -4.053899765014648, -3.927799940109253, -2.1208999156951904, -5.006899833679199, -4.8354997634887695, -4.929100036621094, -4.437600135803223, -4.809999942779541, -5.065999984741211, -5.186999797821045, -5.2708001136779785, -5.202099800109863, -5.081600189208984, -5.004799842834473, -5.180699825286865, -3.9834001064300537, -4.154200077056885, -5.2418999671936035, -5.504899978637695, -5.826099872589111, -5.839200019836426, -5.940199851989746, -6.073299884796143, -6.429699897766113, -5.338500022888184, -6.586100101470947, -6.617099761962891, -6.674200057983398, -6.699399948120117, -6.923799991607666, -6.997399806976318, -6.975299835205078, -7.116600036621094, -7.100500106811523, -7.137400150299072, -7.319900035858154, -7.505300045013428, -7.559899806976318, -7.576000213623047, -7.678299903869629, -7.726600170135498, -7.180500030517578, -7.882699966430664, -7.892300128936768, -7.935200214385986, -6.173900127410889, -6.061399936676025, -5.065000057220459, -4.0269999504089355, -3.8406999111175537, -5.064899921417236, -6.369999885559082, -5.09630012512207, -5.419300079345703, -5.768400192260742, -4.307799816131592, -5.947000026702881, -4.874800205230713, -4.643099784851074, -5.217100143432617, -4.470300197601318, -4.025599956512451, -2.9403998851776123, -3.331399917602539, -5.05810022354126, -5.745100021362305, -5.43720006942749, -5.03849983215332, -5.113500118255615, -5.256100177764893, -5.0447001457214355, -3.763200044631958, -4.0218000411987305, -4.27209997177124, -5.282199859619141, -4.009699821472168, -3.927000045776367, -4.5553998947143555, -3.9314000606536865, -4.331099987030029, -4.409999847412109, -4.701600074768066, -4.448599815368652, -4.536499977111816, -5.02400016784668, -5.077199935913086, -1.676300048828125, -3.6510000228881836, -4.912899971008301, -5.2083001136779785, -5.559899806976318, -5.910600185394287, -6.156099796295166, -6.338699817657471, -6.401400089263916, -6.982100009918213, -6.999599933624268, -7.05620002746582, -7.098299980163574, -7.1894001960754395, -7.232600212097168, -7.268199920654297, -7.349999904632568, -7.445700168609619, -7.592599868774414, -7.647600173950195, -7.704800128936768, -7.796899795532227, -7.821599960327148, -7.795400142669678, -8.112199783325195, -8.220999717712402, -8.229100227355957, -8.235600471496582, -8.236700057983398, -8.261500358581543, -5.297599792480469, -3.851599931716919, -7.394999980926514, -2.6491000652313232, -6.0355000495910645, -4.050000190734863, -4.686699867248535, -6.880300045013428, -6.927800178527832, -5.341400146484375, -5.032400131225586, -4.0416998863220215, -5.630899906158447, -1.646299958229065, -3.669300079345703, -3.8705999851226807, -4.709199905395508, -5.609000205993652, -5.051000118255615, -4.758999824523926, -6.559800148010254, -4.7540998458862305, -5.874199867248535, -5.0609002113342285, -4.954599857330322, -4.494900226593018, -5.412199974060059, -4.119800090789795, -4.992499828338623, -4.514400005340576, -4.627200126647949, -5.004700183868408, -4.784299850463867, -5.440999984741211, -4.054100036621094, -4.274600028991699, -4.5920000076293945, -4.937600135803223, -5.067599773406982, -4.968599796295166, -5.4517998695373535, -5.550000190734863, -5.306700229644775, -5.768099784851074, -5.922299861907959, -6.249800205230713, -6.3155999183654785, -6.373600006103516, -6.616199970245361, -6.623499870300293, -6.66510009765625, -6.729300022125244, -6.755799770355225, -6.873300075531006, -6.907299995422363, -6.309199810028076, -7.019400119781494, -7.032599925994873, -7.035099983215332, -7.046199798583984, -7.133800029754639, -7.162300109863281, -7.1722002029418945, -7.184700012207031, -6.591400146484375, -4.365699768066406, -6.90310001373291, -4.770299911499023, -6.216899871826172, -4.267499923706055, -5.836900234222412, -5.390699863433838, -4.427000045776367, -4.899899959564209, -6.362199783325195, -5.935800075531006, -2.5246999263763428, -5.685800075531006, -5.801599979400635, -5.725900173187256, -5.4953999519348145, -5.991799831390381, -5.488500118255615, -2.516700029373169, -4.347400188446045, -5.7179999351501465, -5.726799964904785, -4.785699844360352, -4.730199813842773, -4.7600998878479, -4.870999813079834, -4.6230998039245605, -5.010000228881836, -4.839600086212158, -5.130899906158447, -4.335999965667725, -5.053500175476074, -5.250100135803223, -5.096399784088135, -5.328000068664551, -5.39300012588501, -3.8232998847961426, -4.240900039672852, -4.549699783325195, -4.82289981842041, -5.144499778747559, -5.230000019073486, -4.537399768829346, -5.509500026702881, -5.543799877166748, -5.664299964904785, -5.66510009765625, -5.841300010681152, -6.11899995803833, -6.269800186157227, -6.364299774169922, -6.412899971008301, -6.458099842071533, -6.479300022125244, -6.4893999099731445, -6.5345001220703125, -6.584400177001953, -6.6092000007629395, -6.643099784851074, -6.672500133514404, -6.707699775695801, -4.9791998863220215, -6.733399868011475, -6.758200168609619, -6.7779998779296875, -6.821599960327148, -3.990000009536743, -4.963699817657471, -4.934199810028076, -5.598599910736084, -6.535099983215332, -5.537799835205078, -4.943299770355225, -5.9558000564575195, -4.313700199127197, -4.086699962615967, -5.826600074768066, -5.922900199890137, -5.559700012207031, -2.3052000999450684, -4.345099925994873, -5.2606000900268555, -4.025700092315674, -5.270400047302246, -4.394199848175049, -5.151700019836426, -3.4482998847961426, -5.147200107574463, -4.941500186920166, -4.520699977874756, -5.1641998291015625, -5.212200164794922, -5.245200157165527, -5.328800201416016, -5.433800220489502, -4.105800151824951, -4.439799785614014, -4.938700199127197, -4.990200042724609, -5.0524001121521, -5.228300094604492, -5.789999961853027, -5.850200176239014, -5.935200214385986, -5.949900150299072, -6.0742998123168945, -6.099400043487549, -6.100299835205078, -6.195199966430664, -6.218800067901611, -6.297500133514404, -6.306399822235107, -6.372799873352051, -6.4095001220703125, -6.431600093841553, -6.4807000160217285, -6.558899879455566, -6.682700157165527, -6.722300052642822, -6.7342000007629395, -6.7403998374938965, -6.782199859619141, -6.787300109863281, -6.752099990844727, -6.819699764251709, -5.812399864196777, -4.950799942016602, -6.526700019836426, -3.1737000942230225, -4.768099784851074, -5.816400051116943, -5.122499942779541, -4.405399799346924, -5.1305999755859375, -4.891499996185303, -5.595600128173828, -5.832099914550781, -4.514599800109863, -4.207200050354004, -4.106900215148926, -5.786099910736084, -5.096199989318848, -5.1016998291015625, -3.5952000617980957, -5.842199802398682, -4.26170015335083, -4.061600208282471, -4.683499813079834, -4.944799900054932, -4.2667999267578125, -4.466800212860107, -4.125800132751465, -4.8744001388549805, -5.425899982452393, -3.783099889755249, -4.813300132751465, -4.377999782562256, -4.757599830627441, -4.541999816894531, -4.695799827575684, -4.844799995422363, -5.012400150299072, -5.012499809265137, -3.9416000843048096, -4.0208001136779785, -4.432400226593018, -5.164899826049805, -5.444900035858154, -5.586299896240234, -5.815400123596191, -5.88539981842041, -4.784900188446045, -6.8846001625061035, -6.995699882507324, -7.031700134277344, -7.057600021362305, -7.133299827575684, -7.162300109863281, -7.261899948120117, -7.3394999504089355, -7.455599784851074, -7.489200115203857, -7.5644001960754395, -7.5929999351501465, -7.706399917602539, -7.7779998779296875, -7.933899879455566, -7.94320011138916, -7.953800201416016, -7.980199813842773, -7.982699871063232, -7.991000175476074, -8.045299530029297, -1.9941999912261963, -1.6268999576568604, -6.962100028991699, -7.096799850463867, -7.0605998039245605, -5.3069000244140625, -6.450099945068359, -4.81850004196167, -3.067500114440918, -5.088500022888184, -3.071000099182129, -6.175899982452393, -1.8738000392913818, -6.492199897766113, -4.837100028991699, -5.197500228881836, -4.308499813079834, -4.924900054931641, -6.669899940490723, -5.2729997634887695, -4.736199855804443, -5.463699817657471, -5.138800144195557, -6.2895002365112305, -4.939700126647949, -5.30019998550415, -5.2067999839782715, -4.992099761962891, -5.005000114440918, -5.198699951171875, -4.639200210571289, -5.166299819946289, -5.2600998878479, -5.42579984664917, -2.2964999675750732, -3.913800001144409, -4.573999881744385, -5.264699935913086, -5.373300075531006, -5.435699939727783, -5.599899768829346, -7.081500053405762, -8.116800308227539, -8.156800270080566, -8.161100387573242, -6.508399963378906, -6.499199867248535, -6.454400062561035, -7.192699909210205, -5.433899879455566, -7.6717000007629395, -4.763000011444092, -8.273599624633789, -6.482800006866455, -3.6433000564575195, -5.536399841308594, -6.986700057983398, -2.181299924850464, -4.165800094604492, -7.167900085449219, -8.314800262451172, -6.078199863433838, -7.107600212097168, -8.051899909973145, -7.131700038909912, -4.485199928283691, -4.85260009765625, -4.274199962615967, -6.216700077056885, -5.667300224304199, -2.63100004196167, -6.652400016784668, -5.322700023651123, -5.3354997634887695, -6.145100116729736, -5.0406999588012695, -4.596700191497803, -4.844299793243408, -3.572200059890747, -4.055600166320801, -3.9618000984191895, -4.15500020980835, -3.9504001140594482, -5.658699989318848, -3.7751998901367188, -4.903299808502197, -4.664400100708008, -3.532399892807007, -4.421500205993652, -4.819200038909912, -4.73390007019043, -4.953000068664551, -4.961100101470947, -5.090099811553955, -5.02209997177124, -2.363600015640259, -3.955899953842163, -1.8450000286102295, -3.922800064086914, -5.106500148773193, -5.163599967956543, -5.8765997886657715, -6.835899829864502, -7.283699989318848, -7.436200141906738, -7.7444000244140625, -7.758200168609619, -7.810800075531006, -7.8242998123168945, -7.939700126647949, -7.763899803161621, -7.726099967956543, -7.789299964904785, -7.518400192260742, -8.482500076293945, -6.08650016784668, -7.690499782562256, -6.103000164031982, -3.3392999172210693, -2.9112000465393066, -8.587499618530273, -5.795199871063232, -4.331600189208984, -6.607600212097168, -2.191999912261963, -7.702300071716309, -3.6584999561309814, -6.144899845123291, -4.689300060272217, -5.2631001472473145, -4.885799884796143, -2.354599952697754, -4.357699871063232, -5.889999866485596, -5.456999778747559, -6.4899001121521, -3.5996999740600586, -6.323800086975098, -5.164999961853027, -5.747300148010254, -4.641499996185303, -5.705699920654297, -4.2245001792907715, -4.1732001304626465, -5.190899848937988, -5.372700214385986, -5.221099853515625, -4.315400123596191, -5.276500225067139, -5.321599960327148, -4.807000160217285, -5.235599994659424, -5.404600143432617, -2.7667999267578125, -3.9265999794006348, -3.928800106048584, -4.016900062561035, -4.629799842834473, -4.768400192260742, -4.995500087738037, -5.197700023651123, -4.0671000480651855, -5.678500175476074, -5.686699867248535, -5.729599952697754, -5.812699794769287, -6.0578999519348145, -6.1697001457214355, -6.175099849700928, -6.382699966430664, -6.399499893188477, -6.504499912261963, -6.520299911499023, -6.551400184631348, -6.557300090789795, -6.561600208282471, -6.533899784088135, -6.679699897766113, -6.685400009155273, -6.735099792480469, -6.804800033569336, -6.921500205993652, -6.974400043487549, -3.6119000911712646, -3.7125000953674316, -3.666800022125244, -4.598800182342529, -4.2444000244140625, -4.428699970245361, -3.765500068664551, -4.3308000564575195, -5.948299884796143, -5.50029993057251, -5.6956000328063965, -4.828000068664551, -5.34630012512207, -3.8366000652313232, -2.4907000064849854, -4.955900192260742, -5.535200119018555, -5.458600044250488, -4.298500061035156, -5.261899948120117, -5.037700176239014, -4.962399959564209, -5.236999988555908, -5.19950008392334, -4.769700050354004, -5.18720006942749, -5.0507001876831055, -5.136099815368652, -3.1951000690460205, -4.348599910736084, -4.517199993133545, -4.67579984664917, -5.160999774932861, -5.178699970245361, -5.429100036621094, -5.4730000495910645, -5.849699974060059, -5.931300163269043, -6.147500038146973, -6.445499897003174, -6.710100173950195, -6.717800140380859, -6.950699806213379, -7.0208001136779785, -7.089900016784668, -7.12529993057251, -7.298600196838379, -7.36359977722168, -7.456200122833252, -7.558700084686279, -7.5802998542785645, -7.60890007019043, -7.662300109863281, -7.684999942779541, -7.777100086212158, -7.826600074768066, -7.8302998542785645, -7.877200126647949, -4.072199821472168, -5.9141998291015625, -3.6340999603271484, -2.3835999965667725, -6.0065999031066895, -4.938399791717529, -3.4098000526428223, -4.700799942016602, -4.906799793243408, -3.762200117111206, -5.662199974060059, -5.0808000564575195, -4.365600109100342, -4.442399978637695, -4.954899787902832, -5.002099990844727, -3.5518999099731445, -4.651899814605713, -4.327700138092041, -4.080999851226807, -4.123300075531006, -4.797500133514404, -4.367700099945068, -4.197400093078613, -3.7184998989105225, -3.994800090789795, -4.225100040435791, -3.9735000133514404, -4.5553998947143555, -4.717899799346924, -4.205599784851074, -4.89300012588501, -4.837500095367432, -4.857100009918213, -2.649600028991699, -2.7469000816345215, -3.05430006980896, -3.6888999938964844, -3.9579999446868896, -4.266200065612793, -4.417399883270264, -4.520699977874756, -4.678500175476074, -5.243599891662598, -5.311699867248535, -5.442699909210205, -5.448200225830078, -5.4791998863220215, -5.497799873352051, -5.605000019073486, -5.825799942016602, -5.855800151824951, -5.929599761962891, -6.032700061798096, -6.056399822235107, -6.065100193023682, -6.319200038909912, -6.497900009155273, -6.498499870300293, -6.548900127410889, -6.591100215911865, -6.7505998611450195, -6.801799774169922, -6.9882001876831055, -3.224400043487549, -2.8264000415802, -2.8970000743865967, -4.9953999519348145, -4.758699893951416, -4.997600078582764, -5.471499919891357, -3.5576999187469482, -2.693000078201294, -5.617499828338623, -5.234099864959717, -4.50439977645874, -3.635200023651123, -4.381100177764893, -4.198200225830078, -4.091700077056885, -4.757500171661377, -4.832399845123291, -4.7540998458862305, -4.388899803161621, -5.069900035858154, -5.129899978637695, -5.1743998527526855, -5.2058000564575195, -2.063199996948242, -3.095599889755249, -3.1242001056671143, -3.645400047302246, -3.681999921798706, -4.164700031280518, -4.530399799346924, -4.803400039672852, -4.88129997253418, -4.927999973297119, -5.160699844360352, -5.600299835205078, -5.773399829864502, -5.8572001457214355, -5.8790998458862305, -5.931700229644775, -5.997700214385986, -6.022900104522705, -6.199399948120117, -6.228700160980225, -6.317800045013428, -6.375500202178955, -4.370200157165527, -6.639699935913086, -6.655900001525879, -6.689799785614014, -6.704699993133545, -6.708799839019775, -6.783999919891357, -6.913599967956543, -3.3004000186920166, -3.6554999351501465, -2.7248001098632812, -4.937099933624268, -4.749599933624268, -5.9243998527526855, -5.484799861907959, -4.874100208282471, -4.596099853515625, -4.824900150299072, -4.3130998611450195, -4.138000011444092, -4.603499889373779, -3.876699924468994, -4.670400142669678, -4.193600177764893, -4.815800189971924, -5.1132001876831055, -4.505499839782715, -4.489500045776367, -4.53249979019165, -5.061999797821045, -1.5180000066757202, -2.6591999530792236, -3.8145999908447266, -3.8492000102996826, -5.019199848175049, -4.723999977111816, -5.252699851989746, -5.4019999504089355, -5.508800029754639, -5.646599769592285, -5.827300071716309, -4.889100074768066, -5.992300033569336, -6.017099857330322, -6.195300102233887, -6.248300075531006, -6.275700092315674, -6.300899982452393, -6.404099941253662, -6.628399848937988, -6.688199996948242, -6.775599956512451, -6.796500205993652, -6.821599960327148, -6.748499870300293, -6.8649001121521, -6.8907999992370605, -6.893199920654297, -6.984300136566162, -5.308199882507324, -5.7519001960754395, -4.4899001121521, -5.592299938201904, -5.079899787902832, -5.012700080871582, -4.575300216674805, -4.440000057220459, -5.385200023651123, -5.520699977874756, -5.977499961853027, -5.522600173950195, -5.180200099945068, -5.2245001792907715, -3.842900037765503, -4.204999923706055, -4.574399948120117, -4.930200099945068, -4.979800224304199, -5.248899936676025, -4.799499988555908, -4.38129997253418, -4.797500133514404, -4.519199848175049, -4.970200061798096, -5.205699920654297, -5.186200141906738, -5.30109977722168, -3.265700101852417, -3.571500062942505, -3.6440999507904053, -4.8765997886657715, -4.893400192260742, -4.964799880981445, -4.989299774169922, -5.2947001457214355, -5.360599994659424, -5.383900165557861, -5.737100124359131, -5.7418999671936035, -5.764900207519531, -5.9369001388549805, -6.053599834442139, -6.0843000411987305, -6.119800090789795, -6.151400089263916, -6.22160005569458, -6.24560022354126, -6.2820000648498535, -6.3094000816345215, -6.3105998039245605, -6.313700199127197, -5.775899887084961, -6.447000026702881, -6.529600143432617, -6.548299789428711, -6.599999904632568, -6.622200012207031, -6.120800018310547, -3.602799892425537, -4.368100166320801, -5.306399822235107, -3.936000108718872, -3.3378000259399414, -5.629700183868408, -4.381499767303467, -4.523399829864502, -5.422399997711182, -5.368199825286865, -3.365799903869629, -4.86269998550415, -5.076000213623047, -5.407800197601318, -3.572700023651123, -3.2523999214172363, -4.98360013961792, -4.553299903869629, -5.375699996948242, -5.34499979019165, -4.354599952697754, -4.330100059509277, -5.130899906158447, -5.140500068664551, -5.031400203704834, -5.177000045776367, -5.0644001960754395, -5.212600231170654, -1.9429999589920044, -3.726300001144409, -3.941999912261963, -4.156400203704834, -4.890100002288818, -5.053899765014648, -5.115699768066406, -5.123300075531006, -5.1504998207092285, -5.243000030517578, -5.379199981689453, -5.648399829864502, -5.9120001792907715, -5.926400184631348, -5.996600151062012, -6.021500110626221, -6.145999908447266, -6.1768999099731445, -6.214399814605713, -6.2459001541137695, -6.392300128936768, -6.468400001525879, -6.47730016708374, -6.520699977874756, -6.528200149536133, -6.568999767303467, -6.625, -6.643599987030029, -6.667699813842773, -6.695300102233887, -4.3308000564575195, -3.2553000450134277, -4.6743998527526855, -4.177800178527832, -3.9296998977661133, -6.371600151062012, -3.8652000427246094, -5.064199924468994, -3.625499963760376, -5.219699859619141, -4.025199890136719, -4.250699996948242, -5.218900203704834, -3.68530011177063, -4.524799823760986, -4.025000095367432, -5.410799980163574, -3.9474000930786133, -3.5494000911712646, -4.814799785614014, -3.663599967956543, -4.0071001052856445, -4.396200180053711, -4.894800186157227, -4.86269998550415, -4.786200046539307, -5.009500026702881, -5.012400150299072, -5.062600135803223, -3.2565999031066895, -4.158699989318848, -4.831399917602539, -4.868299961090088, -4.901100158691406, -4.960899829864502, -5.002999782562256, -5.008600234985352, -5.077000141143799, -3.4296998977661133, -5.139599800109863, -5.147200107574463, -4.026899814605713, -5.203400135040283, -5.326399803161621, -5.398399829864502, -5.418900012969971, -5.455699920654297, -5.562699794769287, -5.601799964904785, -5.642099857330322, -5.65880012512207, -5.757800102233887, -5.763199806213379, -5.880899906158447, -5.919099807739258, -5.961999893188477, -6.0640997886657715, -6.065400123596191, -6.091599941253662, -3.8213999271392822, -5.220300197601318, -4.6732001304626465, -3.6238999366760254, -4.191699981689453, -4.036300182342529, -4.9527997970581055, -4.265200138092041, -5.033100128173828, -3.3933000564575195, -3.9082000255584717, -3.9690001010894775, -4.375100135803223, -3.5975000858306885, -4.816100120544434, -4.847499847412109, -4.697000026702881, -4.978400230407715, -4.795400142669678, -4.659999847412109, -4.635000228881836, -4.9045000076293945, -3.204699993133545, -3.4567999839782715, -3.6977999210357666, -4.572400093078613, -4.7027997970581055, -4.992000102996826, -5.140200138092041, -5.155900001525879, -5.203400135040283, -5.204599857330322, -5.240600109100342, -5.247000217437744, -5.276899814605713, -5.2846999168396, -5.370299816131592, -5.382599830627441, -5.394599914550781, -5.476900100708008, -5.637899875640869, -5.733099937438965, -5.74370002746582, -5.791800022125244, -5.7967000007629395, -5.855899810791016, -5.871600151062012, -5.915500164031982, -5.947999954223633, -5.992499828338623, -6.045499801635742, -6.060299873352051, -4.470399856567383, -5.184500217437744, -5.498600006103516, -5.835599899291992, -5.719099998474121, -5.067500114440918, -4.338900089263916, -3.100800037384033, -4.542699813842773, -5.254799842834473, -5.0183000564575195, -4.170300006866455, -5.071300029754639, -4.867000102996826, -5.0655999183654785, -4.763999938964844, -5.1153998374938965, -5.216800212860107, -4.538000106811523, -4.138800144195557, -4.874499797821045, -5.158199787139893, -5.075099945068359, -5.007400035858154, -2.163300037384033, -3.06820011138916, -3.075200080871582, -3.1679999828338623, -3.2397000789642334, -3.4000000953674316, -4.088799953460693, -4.2571001052856445, -4.393700122833252, -4.414299964904785, -4.426300048828125, -4.746600151062012, -4.780799865722656, -4.978400230407715, -4.982999801635742, -5.295400142669678, -5.398099899291992, -4.8368000984191895, -5.447999954223633, -5.55679988861084, -5.576900005340576, -5.647600173950195, -5.942999839782715, -6.017600059509277, -6.0625, -6.067399978637695, -6.070000171661377, -6.074699878692627, -6.109300136566162, -6.160299777984619, -2.1538000106811523, -4.226399898529053, -4.277699947357178, -4.39169979095459, -4.277299880981445, -4.83650016784668, -4.783400058746338, -5.4704999923706055, -3.5515999794006348, -3.7360000610351562, -4.567299842834473, -5.38539981842041, -5.0843000411987305, -4.973800182342529, -5.0543999671936035, -4.860199928283691, -4.997700214385986, -3.3160998821258545, -3.440500020980835, -3.700000047683716, -4.04580020904541, -4.4039998054504395, -4.658299922943115, -4.718400001525879, -4.811699867248535, -4.9618000984191895, -5.0706000328063965, -5.151599884033203, -5.2032999992370605, -5.267600059509277, -5.270999908447266, -5.462800025939941, -5.475299835205078, -5.481900215148926, -5.7291998863220215, -5.7434000968933105, -5.783299922943115, -5.859000205993652, -3.542099952697754, -5.905200004577637, -5.9182000160217285, -5.992000102996826, -6.047500133514404, -6.119800090789795, -6.177999973297119, -6.1809000968933105, -6.202199935913086, -3.73009991645813, -3.617300033569336, -3.5136001110076904, -3.849299907684326, -3.7230000495910645, -2.827199935913086, -3.6435999870300293, -4.85260009765625, -5.209199905395508, -4.226399898529053, -5.191999912261963, -5.3744001388549805, -4.140500068664551, -3.6540000438690186, -5.079999923706055, -5.232800006866455, -4.781799793243408, -4.520599842071533, -4.571700096130371, -4.8983001708984375, -5.046299934387207, -4.964000225067139, -2.8222999572753906, -3.169300079345703, -3.35479998588562, -3.5897998809814453, -3.700200080871582, -3.735300064086914, -3.8438000679016113, -3.8826000690460205, -3.8898000717163086, -3.933199882507324, -4.017000198364258, -4.065800189971924, -4.277299880981445, -4.479000091552734, -4.509500026702881, -4.51800012588501, -4.549600124359131, -4.5553998947143555, -4.748199939727783, -4.941400051116943, -4.961999893188477, -5.0345001220703125, -5.057700157165527, -5.100900173187256, -5.1092000007629395, -5.122399806976318, -5.175099849700928, -5.215799808502197, -5.225299835205078, -5.333600044250488, -4.586599826812744, -3.282900094985962, -4.2820000648498535, -3.9426000118255615, -4.68310022354126, -4.5381999015808105, -4.76140022277832], \"loglift\": [30.0, 29.0, 28.0, 27.0, 26.0, 25.0, 24.0, 23.0, 22.0, 21.0, 20.0, 19.0, 18.0, 17.0, 16.0, 15.0, 14.0, 13.0, 12.0, 11.0, 10.0, 9.0, 8.0, 7.0, 6.0, 5.0, 4.0, 3.0, 2.0, 1.0, 2.7767999172210693, 2.7767999172210693, 2.7757999897003174, 2.774399995803833, 2.7743000984191895, 2.772900104522705, 2.772599935531616, 2.77020001411438, 2.7681000232696533, 2.7678000926971436, 2.7639999389648438, 2.7637999057769775, 2.760999917984009, 2.759399890899658, 2.75600004196167, 2.7527999877929688, 2.751699924468994, 2.739500045776367, 2.732800006866455, 2.7274999618530273, 2.6677000522613525, 2.659600019454956, 2.6370999813079834, 2.6340999603271484, 2.6305999755859375, 2.6101999282836914, 2.594899892807007, 2.591599941253662, 2.5864999294281006, 2.5725998878479004, 2.5708999633789062, 2.2630999088287354, 2.533799886703491, 2.375200033187866, 2.3104000091552734, 2.1900999546051025, 2.3605000972747803, 2.2753000259399414, 2.105799913406372, 2.1075000762939453, 1.955899953842163, 1.7105000019073486, 2.038800001144409, 2.0072999000549316, 1.2254999876022339, 1.7698999643325806, 1.502500057220459, 1.9694000482559204, 1.1562000513076782, 0.21780000627040863, 1.7208000421524048, 1.1448999643325806, 1.3966000080108643, 0.8919000029563904, 0.2485000044107437, 1.1374000310897827, 1.0302000045776367, -0.10840000212192535, 0.6886000037193298, 2.7744998931884766, 2.7583000659942627, 2.6733999252319336, 2.6514999866485596, 2.6510000228881836, 2.6321001052856445, 2.5560998916625977, 2.5557000637054443, 2.520400047302246, 2.4811999797821045, 2.4798998832702637, 2.4632999897003174, 2.461400032043457, 2.4138998985290527, 2.407399892807007, 2.4010000228881836, 2.3966000080108643, 2.371999979019165, 2.3376998901367188, 2.2997000217437744, 2.216200113296509, 2.213099956512451, 2.149600028991699, 2.1368000507354736, 2.1212000846862793, 2.1029000282287598, 2.0892999172210693, 2.0875000953674316, 2.0590999126434326, 2.0292000770568848, 1.943600058555603, 1.8724000453948975, 1.858199954032898, 1.8163000345230103, 1.9509999752044678, 1.7842999696731567, 1.6823999881744385, 1.253100037574768, 1.4829000234603882, 1.2445000410079956, 1.8454999923706055, 1.1663999557495117, 1.3912999629974365, 1.034600019454956, 1.1693999767303467, 0.7767000198364258, 0.3422999978065491, 0.21860000491142273, 1.5161000490188599, 1.0098999738693237, 0.9067000150680542, 1.36489999294281, 0.951200008392334, 0.9010000228881836, -0.17870000004768372, 0.09600000083446503, 0.7829999923706055, 2.825700044631958, 2.825500011444092, 2.8252999782562256, 2.825200080871582, 2.825200080871582, 2.8250999450683594, 2.8250999450683594, 2.824899911880493, 2.8248000144958496, 2.824700117111206, 2.8245999813079834, 2.8243000507354736, 2.8241000175476074, 2.823499917984009, 2.8224000930786133, 2.8222999572753906, 2.8222999572753906, 2.8220999240875244, 2.82069993019104, 2.820499897003174, 2.8185999393463135, 2.8155999183654785, 2.815500020980835, 2.814199924468994, 2.8136000633239746, 2.8127999305725098, 2.8115999698638916, 2.8108999729156494, 2.8106000423431396, 2.810499906539917, 2.8059000968933105, 2.7267000675201416, 2.698199987411499, 2.7328999042510986, 2.7709999084472656, 2.7483999729156494, 2.7369000911712646, 2.6898999214172363, 2.673799991607666, 2.5687999725341797, 2.7076001167297363, 2.648200035095215, 2.509200096130371, 2.6201000213623047, 2.352400064468384, 2.5076000690460205, 2.2599000930786133, 2.272200107574463, 2.0255000591278076, 0.9926999807357788, 2.015399932861328, 1.4120999574661255, 1.501099944114685, 0.8578000068664551, 0.5217999815940857, 0.31040000915527344, -0.7321000099182129, 0.8259000182151794, 1.0145000219345093, 2.8958001136779785, 2.8958001136779785, 2.8958001136779785, 2.8958001136779785, 2.8958001136779785, 2.8956000804901123, 2.8952999114990234, 2.8951001167297363, 2.89490008354187, 2.893899917602539, 2.893899917602539, 2.8935000896453857, 2.8931000232696533, 2.8919999599456787, 2.890000104904175, 2.887700080871582, 2.8870999813079834, 2.8864998817443848, 2.881700038909912, 2.8761000633239746, 2.8756000995635986, 2.8743999004364014, 2.8678998947143555, 2.8675999641418457, 2.835200071334839, 2.808199882507324, 2.7867000102996826, 2.765500068664551, 2.7602999210357666, 2.7520999908447266, 2.725100040435791, 2.7307000160217285, 2.712599992752075, 2.5880000591278076, 2.60479998588562, 2.5713000297546387, 2.299099922180176, 2.5757999420166016, 2.3076999187469482, 2.4865000247955322, 2.345400094985962, 2.2262001037597656, 2.3638999462127686, 1.9888999462127686, 1.7243000268936157, 2.0211000442504883, 1.54830002784729, 1.1119999885559082, 1.2874000072479248, 1.6913000345230103, 1.232300043106079, 0.5436000227928162, 0.6378999948501587, 1.462499976158142, -0.08009999990463257, 1.0547000169754028, 0.07289999723434448, -1.279099941253662, 2.924099922180176, 2.9238998889923096, 2.9237000942230225, 2.9235000610351562, 2.922600030899048, 2.921600103378296, 2.921299934387207, 2.9196999073028564, 2.914799928665161, 2.914599895477295, 2.90939998626709, 2.9089999198913574, 2.9075000286102295, 2.905900001525879, 2.8980000019073486, 2.8975000381469727, 2.8814001083374023, 2.877500057220459, 2.859100103378296, 2.844899892807007, 2.8375000953674316, 2.8373000621795654, 2.835599899291992, 2.8355000019073486, 2.829200029373169, 2.8276000022888184, 2.824700117111206, 2.815700054168701, 2.8057000637054443, 2.80430006980896, 2.8011999130249023, 2.8006999492645264, 2.7864999771118164, 2.7365000247955322, 2.767699956893921, 2.766900062561035, 2.715399980545044, 2.748699903488159, 2.7012999057769775, 2.658099889755249, 2.4410998821258545, 2.408600091934204, 2.440500020980835, 2.223599910736084, 2.167799949645996, 2.5481998920440674, 2.302500009536743, 2.165800094604492, 1.6473000049591064, 2.4607999324798584, 1.9845999479293823, 1.6030000448226929, 0.3952000141143799, 1.094499945640564, 0.4521999955177307, 1.2063000202178955, 2.062999963760376, 0.5234000086784363, 0.5612999796867371, 1.5448999404907227, 0.7476000189781189, -0.3813000023365021, 0.736299991607666, 3.0139999389648438, 3.0139000415802, 3.0100998878479004, 3.0099000930786133, 3.007499933242798, 3.0064001083374023, 3.0062999725341797, 3.0060999393463135, 3.0055999755859375, 3.0053999423980713, 2.994800090789795, 2.988600015640259, 2.9839000701904297, 2.975800037384033, 2.933199882507324, 2.9321000576019287, 2.928999900817871, 2.8980000019073486, 2.896699905395508, 2.89520001411438, 2.8886001110076904, 2.8868000507354736, 2.8861000537872314, 2.8726000785827637, 2.8721001148223877, 2.8701000213623047, 2.8606998920440674, 2.8592000007629395, 2.837100028991699, 2.825900077819824, 2.7471001148223877, 2.7362000942230225, 2.707900047302246, 2.6647000312805176, 2.7076001167297363, 2.6087000370025635, 2.431299924850464, 2.379699945449829, 2.5429999828338623, 2.565500020980835, 2.4284000396728516, 2.367000102996826, 2.649899959564209, 2.510200023651123, 2.287600040435791, 1.8831000328063965, 1.6990000009536743, 2.2421000003814697, 2.1421000957489014, 1.833299994468689, 1.0468000173568726, 1.437999963760376, 1.0715999603271484, 1.4903000593185425, 1.3837000131607056, 1.3518999814987183, -0.37959998846054077, 1.2235000133514404, 0.42500001192092896, 1.1246000528335571, 1.5426000356674194, 0.6528000235557556, -0.36880001425743103, -0.6060000061988831, 3.080899953842163, 3.0808000564575195, 3.0808000564575195, 3.0806000232696533, 3.0804998874664307, 3.080399990081787, 3.080399990081787, 3.0803000926971436, 3.0801000595092773, 3.0799999237060547, 3.0794999599456787, 3.0790998935699463, 3.078900098800659, 3.078399896621704, 3.077500104904175, 3.076900005340576, 3.0750999450683594, 3.0739998817443848, 3.0724000930786133, 3.071199893951416, 3.0710999965667725, 3.0703999996185303, 3.069999933242798, 3.0678000450134277, 3.067699909210205, 3.067699909210205, 3.066499948501587, 3.06469988822937, 3.059299945831299, 3.058000087738037, 2.9823999404907227, 2.8482000827789307, 2.803100109100342, 2.701200008392334, 2.9261999130249023, 2.93530011177063, 2.582200050354004, 2.7506000995635986, 2.7734999656677246, 2.5861001014709473, 2.308300018310547, 2.5380001068115234, 2.7685999870300293, 2.121500015258789, 2.0471999645233154, 1.3021999597549438, 2.240499973297119, 1.902400016784668, 1.968400001525879, 1.3767999410629272, 1.392799973487854, 1.8212000131607056, 1.423799991607666, 1.754699945449829, 1.3633999824523926, 0.5309000015258789, -0.16840000450611115, 0.9506999850273132, 3.138700008392334, 3.1386001110076904, 3.137500047683716, 3.1373000144958496, 3.1366000175476074, 3.1364998817443848, 3.1363000869750977, 3.1359000205993652, 3.134500026702881, 3.134399890899658, 3.1338000297546387, 3.1335999965667725, 3.1333000659942627, 3.1331000328063965, 3.1315999031066895, 3.1310999393463135, 3.1310999393463135, 3.1301000118255615, 3.1298999786376953, 3.1298999786376953, 3.1280999183654785, 3.1254000663757324, 3.1250998973846436, 3.1249001026153564, 3.1233999729156494, 3.1226000785827637, 3.1217000484466553, 3.119800090789795, 3.1196000576019287, 3.118799924850464, 3.0903000831604004, 3.0699000358581543, 3.019399881362915, 2.9693000316619873, 2.925800085067749, 2.9681999683380127, 3.0404000282287598, 2.9414000511169434, 2.9663000106811523, 2.9930999279022217, 2.8427000045776367, 2.98009991645813, 2.7692999839782715, 2.7051000595092773, 2.8017001152038574, 2.6410999298095703, 2.539900064468384, 2.196899890899658, 2.2797999382019043, 2.726300001144409, 2.876800060272217, 2.7788000106811523, 2.6185998916625977, 2.5453999042510986, 2.5938000679016113, 2.4421000480651855, 1.5888999700546265, 1.7275999784469604, 1.8559000492095947, 2.5622000694274902, 1.2171000242233276, 0.9660999774932861, 1.6546000242233276, 0.8183000087738037, 0.9332000017166138, 0.9664000272750854, 0.9833999872207642, -0.10790000110864639, -0.9398999810218811, 1.8550000190734863, 0.19779999554157257, 3.144200086593628, 3.1440000534057617, 3.1433000564575195, 3.1429998874664307, 3.142400026321411, 3.1415998935699463, 3.140899896621704, 3.140199899673462, 3.139899969100952, 3.136399984359741, 3.1363000869750977, 3.1357998847961426, 3.135499954223633, 3.1345999240875244, 3.134200096130371, 3.1338000297546387, 3.1328999996185303, 3.1317999362945557, 3.1298000812530518, 3.128999948501587, 3.1280999183654785, 3.1266000270843506, 3.1261000633239746, 3.1236000061035156, 3.119999885559082, 3.117300033569336, 3.1171000003814697, 3.1168999671936035, 3.1168999671936035, 3.1161999702453613, 3.097399950027466, 2.982300043106079, 3.091900110244751, 2.9052000045776367, 3.0390000343322754, 2.9303998947143555, 2.94569993019104, 3.0596001148223877, 3.0499000549316406, 2.7839999198913574, 2.7318999767303467, 2.4911999702453613, 2.7718000411987305, 1.9501999616622925, 2.3227999210357666, 2.332200050354004, 2.471100091934204, 2.622299909591675, 2.24780011177063, 2.089400053024292, 2.8919999599456787, 1.9838000535964966, 2.5232999324798584, 1.839900016784668, 1.7386000156402588, 1.2958999872207642, 1.968000054359436, 0.1216999962925911, 1.2884999513626099, 0.2353000044822693, 0.26589998602867126, 1.101199984550476, -1.361199975013733, 0.4542999863624573, 3.148200035095215, 3.148099899291992, 3.147900104522705, 3.147599935531616, 3.14739990234375, 3.1470000743865967, 3.146899938583374, 3.146699905395508, 3.146699905395508, 3.146199941635132, 3.1458001136779785, 3.144700050354004, 3.1445000171661377, 3.1442999839782715, 3.1431000232696533, 3.1431000232696533, 3.1428000926971436, 3.142400026321411, 3.1422998905181885, 3.1414999961853027, 3.141200065612793, 3.140700101852417, 3.140399932861328, 3.1403000354766846, 3.140199899673462, 3.1401000022888184, 3.139400005340576, 3.1391000747680664, 3.1389999389648438, 3.1389000415802, 3.1386001110076904, 3.1010000705718994, 3.134399890899658, 3.077399969100952, 3.101300001144409, 2.9784998893737793, 3.0385000705718994, 2.997999906539917, 2.833400011062622, 2.8803000450134277, 3.072000026702881, 3.0069000720977783, 2.3117001056671143, 2.9423000812530518, 2.955199956893921, 2.936300039291382, 2.8568999767303467, 2.960900068283081, 2.785799980163574, 1.7247999906539917, 2.2771999835968018, 2.805500030517578, 2.7746999263763428, 1.8351000547409058, 1.6837999820709229, 1.5604000091552734, 1.6470999717712402, 1.2721999883651733, 1.6305999755859375, 1.2663999795913696, 1.4677000045776367, -0.7394999861717224, 1.0667999982833862, 1.6414999961853027, 0.4578999876976013, 1.5605000257492065, 2.0088000297546387, 3.1744000911712646, 3.174299955368042, 3.174099922180176, 3.173799991607666, 3.1735000610351562, 3.173099994659424, 3.1730000972747803, 3.1728999614715576, 3.172800064086914, 3.172600030899048, 3.172600030899048, 3.1721999645233154, 3.171299934387207, 3.170799970626831, 3.1703999042510986, 3.1702001094818115, 3.1698999404907227, 3.169800043106079, 3.169800043106079, 3.169600009918213, 3.169300079345703, 3.1691999435424805, 3.1689999103546143, 3.168800115585327, 3.168600082397461, 3.1684999465942383, 3.1684000492095947, 3.168299913406372, 3.168100118637085, 3.167799949645996, 3.1558001041412354, 3.1654000282287598, 3.1586999893188477, 3.1542999744415283, 3.162899971008301, 3.121000051498413, 3.0703999996185303, 3.115499973297119, 2.9649999141693115, 2.9133999347686768, 3.089900016784668, 3.078700065612793, 2.953399896621704, 1.9363000392913818, 2.543299913406372, 2.7957000732421875, 2.2553999423980713, 2.7471001148223877, 1.501099944114685, 2.1812000274658203, 0.14830000698566437, 1.9809000492095947, 1.261299967765808, -1.097599983215332, 0.9560999870300293, 1.1445000171661377, 0.8607000112533569, 0.6632999777793884, 1.7967000007629395, 3.175100088119507, 3.1749000549316406, 3.174499988555908, 3.1744000911712646, 3.1744000911712646, 3.174099922180176, 3.173099994659424, 3.1728999614715576, 3.1726999282836914, 3.172600030899048, 3.172300100326538, 3.1721999645233154, 3.1721999645233154, 3.171799898147583, 3.1717000007629395, 3.1714000701904297, 3.1714000701904297, 3.171099901199341, 3.1709001064300537, 3.170799970626831, 3.170599937438965, 3.1702001094818115, 3.1695001125335693, 3.169300079345703, 3.1691999435424805, 3.169100046157837, 3.1689000129699707, 3.168800115585327, 3.168800115585327, 3.168600082397461, 3.1600000858306885, 3.1328999996185303, 3.164299964904785, 3.0701000690460205, 3.1152000427246094, 3.1364998817443848, 3.0989999771118164, 3.033799886703491, 3.029099941253662, 2.893699884414673, 2.9964001178741455, 3.0427000522613525, 2.702199935913086, 2.6029999256134033, 2.5401999950408936, 2.963599920272827, 2.681299924850464, 2.578399896621704, 1.679900050163269, 2.9709999561309814, 1.7132999897003174, 1.4127000570297241, 1.7930999994277954, 2.06820011138916, 1.2022000551223755, 1.3924000263214111, 0.767300009727478, 1.7522000074386597, 2.547300100326538, -0.36010000109672546, 1.3967000246047974, 0.3718000054359436, 1.1586999893188477, -0.12240000069141388, 0.4269999861717224, 1.2475999593734741, 0.9979000091552734, 0.9488000273704529, 3.2307000160217285, 3.230600118637085, 3.2304000854492188, 3.2297000885009766, 3.229300022125244, 3.2290000915527344, 3.2283999919891357, 3.2281999588012695, 3.22760009765625, 3.223299980163574, 3.222399950027466, 3.222100019454956, 3.2218000888824463, 3.221100091934204, 3.2207999229431152, 3.2197000980377197, 3.2188000679016113, 3.2172999382019043, 3.216900110244751, 3.2158000469207764, 3.2153000831604004, 3.213399887084961, 3.2119998931884766, 3.2090001106262207, 3.2088000774383545, 3.2084999084472656, 3.207900047302246, 3.207900047302246, 3.20770001411438, 3.206399917602539, 3.123699903488159, 3.0550999641418457, 3.1789000034332275, 3.1461000442504883, 3.132499933242798, 2.9797000885009766, 3.055999994277954, 2.8650999069213867, 2.6064999103546143, 2.8326001167297363, 2.4033000469207764, 2.932800054550171, 1.7228000164031982, 2.9231998920440674, 2.1594998836517334, 2.13700008392334, 1.6527999639511108, 1.7618999481201172, 2.878000020980835, 1.6496000289916992, 1.1230000257492065, 1.7409000396728516, 1.2800999879837036, 2.436300039291382, 0.8203999996185303, 1.26010000705719, 1.031999945640564, 0.6334999799728394, 0.4641000032424927, 0.8661999702453613, -1.2161999940872192, 0.1088000014424324, -0.367000013589859, -0.049300000071525574, 3.2416000366210938, 3.241300106048584, 3.2409000396728516, 3.2400999069213867, 3.2399001121520996, 3.239799976348877, 3.239500045776367, 3.232100009918213, 3.214900016784668, 3.2137999534606934, 3.21370005607605, 3.187999963760376, 3.183300018310547, 3.164099931716919, 3.1461000442504883, 3.1422998905181885, 3.135699987411499, 3.1120998859405518, 3.110100030899048, 3.108099937438965, 3.099900007247925, 3.09660005569458, 3.0776000022888184, 3.0455000400543213, 3.0434000492095947, 3.0230000019073486, 3.0209999084472656, 3.019700050354004, 3.0099000930786133, 3.0, 2.9986000061035156, 2.963599920272827, 2.961899995803833, 2.9365999698638916, 2.9839999675750732, 2.912899971008301, 2.6333000659942627, 2.9834001064300537, 2.6440000534057617, 2.6465001106262207, 2.7743000984191895, 2.3111000061035156, 2.1029000282287598, 2.1726999282836914, 1.5650999546051025, 1.7588000297546387, 1.649399995803833, 1.5944000482559204, 1.343999981880188, 2.5452001094818115, 0.9745000004768372, 1.9043999910354614, 1.5996999740600586, -0.10939999669790268, 0.4715999960899353, 1.4048999547958374, 0.8784999847412109, 1.1672999858856201, 1.1669000387191772, 1.6344000101089478, 1.093500018119812, 3.2518999576568604, 3.2516000270843506, 3.2516000270843506, 3.251499891281128, 3.2506000995635986, 3.2506000995635986, 3.2490999698638916, 3.2444000244140625, 3.2400999069213867, 3.2381999492645264, 3.233299970626831, 3.2330000400543213, 3.2320001125335693, 3.2316999435424805, 3.229300022125244, 3.1115000247955322, 3.0917000770568848, 3.089400053024292, 3.0801000595092773, 2.95989990234375, 2.9330999851226807, 2.925299882888794, 2.9223999977111816, 2.900899887084961, 2.8796000480651855, 2.847599983215332, 2.8475000858306885, 2.8475000858306885, 2.83489990234375, 2.819999933242798, 2.813499927520752, 2.5429999828338623, 2.6647000312805176, 2.44569993019104, 2.360300064086914, 2.2076001167297363, 1.2419999837875366, 1.8316999673843384, 2.3815999031066895, 2.0987000465393066, 2.58240008354187, 1.0822999477386475, 2.473099946975708, 1.757699966430664, 2.1131999492645264, 1.350600004196167, 2.0810000896453857, 0.8982999920845032, 0.6632999777793884, 1.5437999963760376, 1.6201000213623047, 1.1978000402450562, -0.892300009727478, 1.1375000476837158, 1.0269999504089355, -0.565500020980835, 0.22339999675750732, 0.3447999954223633, 3.3877999782562256, 3.387500047683716, 3.387500047683716, 3.387399911880493, 3.38700008392334, 3.3868000507354736, 3.3864998817443848, 3.386199951171875, 3.3854000568389893, 3.385200023651123, 3.385200023651123, 3.384999990463257, 3.3847999572753906, 3.3838999271392822, 3.383500099182129, 3.3833999633789062, 3.3824000358581543, 3.3822999000549316, 3.381700038909912, 3.3815999031066895, 3.3814001083374023, 3.3812999725341797, 3.3812999725341797, 3.3808999061584473, 3.380500078201294, 3.3803999423980713, 3.3801000118255615, 3.379499912261963, 3.378499984741211, 3.3778998851776123, 3.3015999794006348, 3.2588000297546387, 3.231300115585327, 3.2334001064300537, 3.1466000080108643, 3.154099941253662, 3.0687999725341797, 3.1324000358581543, 3.271699905395508, 3.161099910736084, 3.2005999088287354, 2.9409000873565674, 3.050800085067749, 2.294800043106079, 0.9323999881744385, 2.539099931716919, 2.8740999698638916, 2.757200002670288, 1.3127000331878662, 2.4758999347686768, 1.6490999460220337, 1.1361000537872314, 1.9433000087738037, 1.784000039100647, 0.06679999828338623, 1.7136000394821167, 0.5616999864578247, 0.8741999864578247, 3.424499988555908, 3.4238998889923096, 3.423799991607666, 3.4237000942230225, 3.4230000972747803, 3.4230000972747803, 3.422499895095825, 3.4223999977111816, 3.421299934387207, 3.4210000038146973, 3.4202001094818115, 3.418600082397461, 3.4166998863220215, 3.4166998863220215, 3.414599895477295, 3.413800001144409, 3.413100004196167, 3.4126999378204346, 3.410399913787842, 3.40939998626709, 3.4079999923706055, 3.4061999320983887, 3.4058001041412354, 3.4052000045776367, 3.4042000770568848, 3.403700113296509, 3.401700019836426, 3.400599956512451, 3.4005000591278076, 3.3993000984191895, 3.3866000175476074, 3.3968000411987305, 3.331899881362915, 3.301500082015991, 3.359499931335449, 3.28439998626709, 3.1840999126434326, 3.243000030517578, 3.242000102996826, 3.1572999954223633, 3.283799886703491, 3.2023000717163086, 3.126499891281128, 3.102799892425537, 3.109100103378296, 3.0720999240875244, 2.8048999309539795, 2.9964001178741455, 2.9098000526428223, 2.5000998973846436, 2.5071001052856445, 2.706399917602539, 2.272900104522705, 2.066699981689453, 1.5758999586105347, 1.357200026512146, 1.1513999700546265, 0.2680000066757202, 1.194000005722046, 1.6965999603271484, -0.7825999855995178, 1.9485000371932983, -0.08780000358819962, -1.2604999542236328, 3.55679988861084, 3.55679988861084, 3.5566999912261963, 3.55649995803833, 3.556299924850464, 3.5560998916625977, 3.555999994277954, 3.5559000968933105, 3.5557000637054443, 3.554800033569336, 3.5546998977661133, 3.5543999671936035, 3.55430006980896, 3.55430006980896, 3.5541999340057373, 3.5539000034332275, 3.5532000064849854, 3.552999973297119, 3.552799940109253, 3.552299976348877, 3.5522000789642334, 3.5520999431610107, 3.550800085067749, 3.5495998859405518, 3.5495998859405518, 3.5492000579833984, 3.5488998889923096, 3.547499895095825, 3.546999931335449, 3.5450000762939453, 3.509700059890747, 3.425800085067749, 3.3027000427246094, 3.412600040435791, 3.3893001079559326, 3.335099935531616, 3.391700029373169, 2.9177000522613525, 2.6589999198913574, 3.348099946975708, 3.1621999740600586, 2.6205999851226807, 1.6592999696731567, 2.1791999340057373, 1.868299961090088, 1.382599949836731, 1.5910999774932861, 1.5865000486373901, 0.858299970626831, -0.7922999858856201, 1.0456000566482544, 0.9624999761581421, 0.2020999938249588, 1.1146999597549438, 3.6138999462127686, 3.6136999130249023, 3.6136999130249023, 3.6135001182556152, 3.6135001182556152, 3.6131999492645264, 3.6129000186920166, 3.612499952316284, 3.6124000549316406, 3.612299919128418, 3.6119000911712646, 3.61080002784729, 3.6101999282836914, 3.6098999977111816, 3.609800100326538, 3.609499931335449, 3.6092000007629395, 3.609100103378296, 3.6082000732421875, 3.6080000400543213, 3.6075000762939453, 3.607100009918213, 3.6066999435424805, 3.6050000190734863, 3.6048998832702637, 3.604599952697754, 3.6043999195098877, 3.6043999195098877, 3.603100061416626, 3.6022000312805176, 3.583199977874756, 3.3931000232696533, 3.236599922180176, 3.3838000297546387, 3.324399948120117, 3.493000030517578, 3.406100034713745, 3.2335000038146973, 2.7746999263763428, 2.834399938583374, 2.421600103378296, 2.276400089263916, 2.5137999057769775, 1.5923000574111938, 2.352400064468384, 1.7822999954223633, 2.057800054550171, 2.262500047683716, 0.9688000082969666, -0.24799999594688416, -1.1095000505447388, 1.8573999404907227, 3.6449999809265137, 3.64490008354187, 3.6445000171661377, 3.6445000171661377, 3.6433000564575195, 3.643199920654297, 3.6428000926971436, 3.642400026321411, 3.6421000957489014, 3.641700029373169, 3.6410000324249268, 3.640399932861328, 3.640199899673462, 3.6401000022888184, 3.63919997215271, 3.6387999057769775, 3.638700008392334, 3.6384999752044678, 3.6377999782562256, 3.635999917984009, 3.6354000568389893, 3.634500026702881, 3.6342999935150146, 3.634000062942505, 3.6335999965667725, 3.633500099182129, 3.63319993019104, 3.63319993019104, 3.6321001052856445, 3.631200075149536, 3.578399896621704, 3.4916999340057373, 3.477099895477295, 3.40339994430542, 3.364500045776367, 3.297499895095825, 3.2546000480651855, 3.3313000202178955, 3.2792999744415283, 3.390000104904175, 3.203700065612793, 3.0362000465393066, 2.9142000675201416, 1.711400032043457, 2.0051000118255615, 2.26419997215271, 2.5292000770568848, 2.541100025177002, 2.7660999298095703, 2.018199920654297, 1.111799955368042, 1.7116999626159668, 0.603600025177002, 1.0947999954223633, 1.9602999687194824, 1.711899995803833, 1.319700002670288, 3.74780011177063, 3.7476000785827637, 3.7476000785827637, 3.7464001178741455, 3.746299982070923, 3.7462000846862793, 3.7460999488830566, 3.7453999519348145, 3.745300054550171, 3.7451999187469482, 3.74399995803833, 3.7439000606536865, 3.743799924850464, 3.743000030517578, 3.7423999309539795, 3.7421998977661133, 3.742000102996826, 3.74180006980896, 3.7414000034332275, 3.7411999702453613, 3.7409000396728516, 3.7407000064849854, 3.7407000064849854, 3.7407000064849854, 3.740600109100342, 3.7397000789642334, 3.7388999462127686, 3.738800048828125, 3.738300085067749, 3.738100051879883, 3.7298998832702637, 3.641400098800659, 3.658600091934204, 3.6621999740600586, 3.438800096511841, 3.361799955368042, 3.627000093460083, 3.372299909591675, 3.3938000202178955, 3.561800003051758, 3.5048000812530518, 2.898400068283081, 3.2669999599456787, 3.259700059890747, 3.4112000465393066, 2.322499990463257, 1.8848999738693237, 2.9170000553131104, 2.338099956512451, 3.3027000427246094, 3.2599000930786133, 1.3947999477386475, 1.0219999551773071, 2.6663999557495117, 2.3635001182556152, 1.7086000442504883, 2.033799886703491, 1.055899977684021, 1.1259000301361084, 3.780900001525879, 3.780400037765503, 3.7802999019622803, 3.780100107192993, 3.779099941253662, 3.7788000106811523, 3.778700113296509, 3.778599977493286, 3.778599977493286, 3.77810001373291, 3.7780001163482666, 3.7769999504089355, 3.775899887084961, 3.7757999897003174, 3.775399923324585, 3.7753000259399414, 3.7744998931884766, 3.7743000984191895, 3.7739999294281006, 3.7737998962402344, 3.772700071334839, 3.7720000743865967, 3.7720000743865967, 3.7716000080108643, 3.7713000774383545, 3.7711000442504883, 3.7704999446868896, 3.7702999114990234, 3.7701001167297363, 3.7697999477386475, 3.759399890899658, 3.632999897003174, 3.691200017929077, 3.6526999473571777, 3.5998001098632812, 3.74780011177063, 3.312000036239624, 3.5208001136779785, 3.132999897003174, 3.4477999210357666, 2.8993000984191895, 2.9727001190185547, 3.3376998901367188, 2.5041000843048096, 2.9195001125335693, 2.595900058746338, 3.32450008392334, 2.117500066757202, 1.2870999574661255, 2.407099962234497, 0.5778999924659729, 1.095900058746338, 1.0728000402450562, 2.3671000003814697, 1.457900047302246, 0.35109999775886536, 2.0546000003814697, 1.5861999988555908, 2.4481000900268555, 3.8055999279022217, 3.8050999641418457, 3.8041999340057373, 3.8041000366210938, 3.8041000366210938, 3.8039000034332275, 3.8039000034332275, 3.803800106048584, 3.8036999702453613, 3.8036000728607178, 3.803499937057495, 3.803499937057495, 3.803499937057495, 3.8034000396728516, 3.803100109100342, 3.802799940109253, 3.802799940109253, 3.8025999069213867, 3.802299976348877, 3.8020999431610107, 3.802000045776367, 3.8018999099731445, 3.801500082015991, 3.8013999462127686, 3.8008999824523926, 3.8006999492645264, 3.80049991607666, 3.7999000549316406, 3.7999000549316406, 3.7997000217437744, 3.770699977874756, 3.7843000888824463, 3.7337000370025635, 3.482599973678589, 3.536900043487549, 3.4848999977111816, 3.6389999389648438, 3.3785998821258545, 3.5885000228881836, 2.955399990081787, 3.1087000370025635, 2.9381000995635986, 3.136699914932251, 2.605299949645996, 3.3076999187469482, 3.286099910736084, 2.233599901199341, 3.073899984359741, 2.4214999675750732, 1.8490999937057495, 1.1793999671936035, 1.4907000064849854, 4.039400100708008, 4.039299964904785, 4.0391998291015625, 4.038099765777588, 4.037899971008301, 4.0370001792907715, 4.036799907684326, 4.036799907684326, 4.036600112915039, 4.036600112915039, 4.036499977111816, 4.036499977111816, 4.036399841308594, 4.036300182342529, 4.035999774932861, 4.035999774932861, 4.035900115966797, 4.035600185394287, 4.034800052642822, 4.034299850463867, 4.034299850463867, 4.033999919891357, 4.033999919891357, 4.033599853515625, 4.0335001945495605, 4.033199787139893, 4.0329999923706055, 4.032700061798096, 4.032299995422363, 4.032199859619141, 4.024799823760986, 4.030399799346924, 4.031499862670898, 4.031700134277344, 4.025599956512451, 3.9681999683380127, 3.775599956512451, 3.529599905014038, 3.7825000286102295, 3.911400079727173, 3.839600086212158, 3.5836000442504883, 3.8052000999450684, 3.7040998935699463, 3.770400047302246, 3.5139999389648438, 3.740799903869629, 3.7799999713897705, 2.2883999347686768, -0.7157999873161316, 1.909600019454956, 3.2125000953674316, 0.6743000149726868, -1.4107999801635742, 4.055799961090088, 4.055600166320801, 4.055600166320801, 4.055500030517578, 4.055500030517578, 4.0553998947143555, 4.054900169372559, 4.054699897766113, 4.054500102996826, 4.054500102996826, 4.0543999671936035, 4.053899765014648, 4.053800106048584, 4.053299903869629, 4.053299903869629, 4.052299976348877, 4.0518999099731445, 4.0518999099731445, 4.051700115203857, 4.051199913024902, 4.05109977722168, 4.05079984664917, 4.048999786376953, 4.048500061035156, 4.048099994659424, 4.048099994659424, 4.048099994659424, 4.047999858856201, 4.047800064086914, 4.047299861907959, 3.9446001052856445, 3.9270999431610107, 3.907099962234497, 3.829400062561035, 3.808000087738037, 3.817500114440918, 3.658799886703491, 3.8485000133514404, 1.5712000131607056, 1.7230000495910645, 2.5397000312805176, 3.6926000118255615, 1.8228000402450562, 1.1187000274658203, 0.7310000061988831, -1.2635999917984009, -0.10459999740123749, 4.09250020980835, 4.092400074005127, 4.092199802398682, 4.091899871826172, 4.091400146484375, 4.091000080108643, 4.09089994430542, 4.090700149536133, 4.0903000831604, 4.090000152587891, 4.089700222015381, 4.089600086212158, 4.089300155639648, 4.089099884033203, 4.088500022888184, 4.088500022888184, 4.088399887084961, 4.087200164794922, 4.087100028991699, 4.0868000984191895, 4.086400032043457, 4.08620023727417, 4.085999965667725, 4.085999965667725, 4.085400104522705, 4.085000038146973, 4.084400177001953, 4.083899974822998, 4.083899974822998, 4.083700180053711, 4.079800128936768, 3.9388999938964844, 3.9214000701904297, 3.81030011177063, 3.756500005722046, 3.504499912261963, 3.6363000869750977, 3.8666000366210938, 3.8942999839782715, 3.5822999477386475, 3.871299982070923, 3.920599937438965, 3.276700019836426, 1.6210999488830566, 3.3585000038146973, 3.500699996948242, 1.6533000469207764, 0.3725000023841858, -1.1485999822616577, 0.5706999897956848, 2.104099988937378, -0.2142000049352646, 4.239200115203857, 4.238999843597412, 4.238900184631348, 4.238800048828125, 4.238699913024902, 4.23859977722168, 4.238500118255615, 4.238500118255615, 4.238500118255615, 4.238399982452393, 4.23829984664917, 4.23829984664917, 4.23799991607666, 4.237599849700928, 4.237599849700928, 4.237500190734863, 4.237500190734863, 4.237500190734863, 4.236999988555908, 4.236499786376953, 4.236400127410889, 4.236199855804443, 4.236100196838379, 4.235899925231934, 4.235899925231934, 4.235899925231934, 4.2357001304626465, 4.235499858856201, 4.235499858856201, 4.235000133514404, 4.228000164031982, 3.8343000411987305, 3.8489999771118164, 3.6187000274658203, 3.8647000789642334, 1.5677000284194946, 1.8651000261306763]}, \"token.table\": {\"Topic\": [3, 18, 23, 18, 18, 18, 18, 18, 18, 18, 3, 10, 10, 8, 23, 9, 1, 2, 3, 7, 9, 10, 11, 14, 15, 16, 19, 21, 24, 1, 1, 2, 7, 24, 24, 5, 25, 14, 17, 26, 6, 18, 22, 22, 11, 6, 9, 10, 1, 12, 3, 5, 6, 10, 16, 15, 11, 11, 3, 23, 13, 26, 3, 3, 1, 11, 21, 11, 24, 2, 3, 4, 5, 6, 7, 8, 13, 16, 20, 21, 22, 23, 1, 15, 18, 1, 2, 3, 5, 10, 11, 15, 16, 17, 18, 24, 6, 7, 1, 2, 3, 4, 5, 6, 7, 8, 11, 12, 13, 14, 17, 18, 19, 26, 27, 17, 14, 21, 14, 21, 20, 22, 4, 4, 4, 1, 4, 6, 7, 12, 13, 14, 18, 19, 22, 26, 17, 4, 4, 4, 4, 8, 4, 2, 6, 18, 1, 3, 4, 6, 13, 18, 19, 20, 22, 27, 26, 1, 2, 3, 4, 6, 7, 8, 12, 13, 14, 16, 16, 17, 17, 17, 17, 1, 2, 3, 4, 5, 6, 7, 9, 10, 11, 12, 14, 15, 18, 20, 22, 23, 24, 26, 27, 9, 22, 24, 21, 21, 21, 25, 21, 9, 4, 3, 4, 4, 4, 7, 8, 14, 21, 8, 14, 16, 21, 8, 14, 21, 8, 14, 17, 21, 8, 14, 21, 10, 20, 3, 2, 4, 5, 6, 11, 27, 27, 2, 7, 10, 5, 4, 6, 9, 22, 10, 15, 21, 24, 24, 7, 2, 3, 4, 5, 6, 7, 8, 9, 10, 11, 12, 13, 15, 16, 19, 20, 23, 24, 26, 27, 1, 2, 3, 12, 19, 1, 1, 2, 3, 4, 8, 9, 11, 13, 14, 15, 16, 17, 19, 21, 12, 6, 1, 3, 4, 8, 11, 12, 18, 20, 21, 22, 23, 11, 2, 3, 6, 13, 14, 15, 17, 9, 19, 15, 21, 27, 5, 16, 17, 19, 21, 24, 15, 2, 5, 16, 20, 23, 25, 10, 24, 27, 24, 10, 11, 11, 7, 12, 20, 1, 9, 21, 27, 1, 3, 5, 6, 9, 10, 11, 12, 13, 15, 17, 18, 19, 20, 22, 23, 24, 25, 26, 27, 1, 2, 3, 5, 6, 9, 10, 13, 15, 16, 18, 19, 20, 22, 24, 25, 27, 9, 17, 19, 8, 16, 2, 16, 13, 1, 18, 8, 18, 4, 5, 8, 20, 1, 18, 8, 18, 5, 8, 5, 8, 16, 23, 13, 1, 5, 7, 13, 14, 18, 13, 15, 24, 27, 27, 24, 10, 17, 24, 25, 8, 11, 11, 11, 8, 14, 16, 3, 3, 16, 12, 26, 26, 11, 26, 6, 26, 22, 13, 3, 11, 12, 20, 2, 4, 5, 8, 12, 13, 15, 20, 22, 25, 27, 9, 23, 23, 1, 3, 6, 9, 10, 11, 27, 9, 10, 20, 27, 10, 11, 15, 22, 26, 26, 26, 21, 24, 1, 6, 10, 11, 17, 19, 2, 10, 20, 23, 1, 4, 8, 9, 10, 15, 17, 21, 22, 23, 24, 17, 21, 5, 8, 14, 26, 26, 8, 14, 16, 2, 16, 11, 22, 11, 11, 25, 23, 19, 19, 2, 4, 10, 1, 2, 3, 4, 5, 6, 7, 8, 9, 10, 11, 12, 13, 14, 15, 16, 17, 18, 19, 21, 22, 23, 24, 25, 26, 27, 1, 2, 3, 5, 6, 7, 8, 9, 10, 11, 13, 14, 15, 16, 17, 18, 19, 21, 22, 24, 27, 4, 23, 7, 8, 10, 11, 12, 15, 22, 7, 14, 4, 5, 15, 17, 19, 27, 1, 2, 7, 27, 27, 23, 11, 24, 8, 14, 8, 14, 16, 20, 1, 2, 3, 4, 5, 6, 7, 8, 9, 10, 11, 12, 13, 14, 15, 18, 20, 22, 23, 24, 27, 1, 2, 4, 5, 7, 8, 10, 11, 12, 14, 15, 16, 17, 18, 19, 20, 22, 24, 27, 12, 21, 11, 17, 24, 10, 10, 10, 11, 16, 1, 2, 3, 4, 5, 7, 8, 9, 10, 11, 14, 15, 16, 17, 19, 21, 24, 14, 16, 23, 23, 4, 5, 5, 10, 10, 4, 9, 10, 11, 17, 24, 22, 2, 4, 2, 4, 5, 7, 13, 14, 15, 17, 25, 9, 24, 7, 17, 2, 3, 10, 15, 22, 20, 5, 9, 25, 2, 5, 11, 12, 18, 5, 8, 5, 26, 24, 5, 18, 4, 8, 10, 25, 8, 24, 24, 10, 10, 13, 15, 27, 3, 23, 16, 16, 5, 8, 10, 16, 5, 16, 3, 7, 15, 17, 16, 22, 21, 21, 3, 16, 17, 16, 23, 3, 12, 13, 18, 25, 12, 13, 10, 8, 21, 21, 11, 11, 7, 8, 14, 21, 23, 25, 10, 21, 9, 19, 10, 19, 2, 9, 10, 11, 15, 16, 19, 19, 17, 2, 17, 25, 6, 9, 18, 20, 27, 24, 24, 16, 8, 12, 23, 3, 12, 26, 5, 10, 11, 16, 17, 25, 17, 19, 27, 6, 20, 6, 23, 11, 6, 9, 11, 19, 9, 9, 11, 4, 10, 20, 15, 15, 2, 6, 6, 13, 2, 6, 15, 26, 1, 3, 4, 6, 7, 8, 10, 14, 16, 19, 20, 21, 23, 12, 6, 13, 5, 6, 13, 2, 10, 24, 7, 21, 21, 3, 23, 10, 7, 3, 16, 24, 21, 1, 6, 8, 13, 18, 26, 27, 1, 1, 3, 7, 14, 16, 4, 5, 9, 17, 20, 1, 2, 3, 5, 6, 7, 13, 14, 15, 16, 17, 18, 25, 26, 27, 12, 26, 16, 10, 10, 11, 5, 8, 10, 11, 21, 22, 18, 16, 20, 1, 2, 3, 4, 6, 12, 14, 16, 19, 27, 21, 21, 6, 6, 12, 9, 9, 9, 11, 3, 22, 16, 16, 25, 13, 10, 1, 2, 3, 5, 7, 8, 9, 14, 16, 20, 23, 24, 10, 11, 16, 6, 8, 8, 14, 16, 17, 21, 14, 16, 17, 21, 24, 16, 13, 2, 3, 4, 12, 21, 25, 1, 2, 3, 4, 5, 6, 7, 8, 9, 10, 11, 12, 13, 14, 15, 16, 17, 18, 19, 20, 21, 23, 24, 25, 26, 27, 24, 14, 1, 3, 4, 5, 6, 7, 8, 9, 10, 11, 12, 14, 19, 20, 21, 23, 24, 26, 27, 12, 1, 2, 3, 4, 5, 6, 7, 8, 9, 12, 13, 14, 15, 17, 18, 19, 20, 22, 26, 27, 1, 2, 3, 4, 5, 6, 7, 8, 9, 12, 13, 14, 17, 18, 19, 26, 13, 13, 20, 16, 5, 8, 5, 14, 16, 1, 2, 3, 8, 12, 16, 19, 20, 23, 26, 27, 2, 8, 21, 1, 7, 2, 3, 8, 10, 20, 23, 2, 4, 5, 8, 14, 21, 1, 2, 3, 9, 10, 11, 15, 16, 19, 20, 21, 24, 9, 2, 4, 5, 8, 13, 14, 15, 2, 4, 5, 7, 8, 13, 14, 15, 17, 2, 4, 8, 14, 11, 5, 15, 5, 7, 9, 11, 16, 17, 18, 12, 24, 12, 26, 2, 3, 5, 6, 8, 9, 11, 13, 14, 15, 16, 24, 3, 3, 6, 14, 7, 7, 7, 20, 9, 21, 4, 5, 15, 19, 19, 11, 19, 6, 27, 19, 19, 19, 10, 11, 21, 6, 13, 6, 10, 11, 16, 17, 7, 9, 26, 2, 3, 4, 5, 8, 10, 20, 8, 3, 8, 14, 16, 3, 14, 23, 1, 2, 3, 4, 5, 6, 7, 8, 9, 10, 11, 12, 15, 16, 17, 18, 20, 21, 22, 24, 4, 7, 8, 14, 21, 9, 20, 22, 3, 4, 7, 12, 15, 16, 17, 18, 20, 23, 25, 4, 6, 12, 26, 27, 27, 13, 25, 7, 8, 13, 18, 19, 3, 8, 26, 2, 5, 8, 18, 12, 12, 7, 16, 23, 25, 6, 10, 11, 15, 4, 10, 11, 16, 4, 17, 24, 1, 6, 7, 13, 18, 19, 27, 2, 16, 26, 18, 27, 27, 3, 26, 4, 5, 7, 9, 10, 11, 14, 15, 16, 20, 2, 6, 13, 20, 6, 20, 3, 22, 4, 12, 26, 27, 27, 1, 4, 5, 6, 7, 8, 9, 11, 12, 13, 14, 15, 17, 18, 19, 21, 22, 24, 27, 5, 8, 10, 11, 14, 16, 21, 24, 8, 14, 17, 3, 13, 19, 20, 16, 13, 22, 1, 2, 4, 5, 6, 7, 8, 9, 12, 13, 14, 17, 18, 19, 20, 23, 3, 4, 5, 8, 9, 13, 20, 23, 1, 2, 3, 5, 10, 11, 13, 15, 17, 18, 19, 27, 20, 26, 12, 13, 3, 3, 13, 16, 24, 16, 16, 3, 8, 14, 16, 17, 18, 21, 24, 8, 3, 8, 14, 16, 17, 21, 26, 17, 18, 18, 8, 17, 17, 24, 16, 20, 8, 25, 8, 1, 10, 15, 16, 18, 19, 20, 27, 1, 23, 19, 21, 8, 19, 21, 22, 11, 18, 10, 5, 8, 16, 12, 27, 27, 20, 22, 1, 3, 7, 8, 12, 16, 12, 12, 8, 26, 8, 26, 1, 8, 10, 20, 8, 9, 26, 23, 2, 3, 4, 5, 6, 13, 14, 15, 17, 18, 3, 5, 6, 14, 16, 3, 9, 14, 15, 16, 18, 17, 17, 12, 13, 19, 3, 6, 19, 1, 1, 10, 12, 20, 23, 26, 27, 25, 12, 1, 10, 11, 12, 15, 19, 22, 23, 27, 9, 4, 5, 6, 15, 3, 1, 2, 4, 5, 6, 9, 10, 15, 16, 17, 18, 21, 15, 24, 4, 5, 6, 10, 11, 18, 12, 20, 20, 26, 18, 20, 20, 20, 1, 7, 9, 16, 27, 1, 11, 14, 25, 27, 2, 3, 5, 7, 8, 11, 12, 14, 14, 8, 1, 2, 3, 4, 9, 14, 16, 3, 16, 1, 3, 4, 8, 9, 10, 11, 12, 13, 16, 19, 20, 21, 23, 24, 27, 1, 13, 9, 24, 2, 8, 9, 15, 24, 7, 14, 7, 14, 21, 11, 26, 1, 3, 5, 10, 11, 14, 15, 16, 17, 21, 24, 17, 14, 14, 8, 14, 1, 2, 3, 4, 5, 7, 8, 9, 10, 12, 15, 16, 20, 24, 25, 11, 22, 6, 4, 6, 10, 19, 27, 5, 7, 10, 9, 24, 9, 5, 14, 17, 24, 18, 11, 10, 2, 9, 10, 11, 16, 24, 9, 10, 10, 17, 10, 11, 5, 8, 16, 10, 10, 1, 2, 3, 4, 5, 6, 7, 8, 10, 11, 12, 16, 20, 21, 22, 23, 27, 9, 10, 16, 21, 17, 19, 19, 15, 16, 13, 9, 24, 25, 10, 11, 16, 25, 1, 7, 10, 11, 16, 1, 7, 5, 8, 7, 4, 10, 11, 22, 3, 25, 19, 1, 2, 4, 6, 9, 10, 11, 15, 20, 22, 27, 1, 16, 18, 24, 20, 1, 27, 6, 9, 17, 4, 12, 14, 1, 2, 3, 5, 7, 8, 10, 11, 12, 14, 16, 17, 18, 20, 21, 22, 24, 26, 27, 8, 24, 12, 6, 12, 13, 6, 11, 12, 20, 27, 1, 4, 5, 6, 10, 11, 12, 13, 15, 17, 18, 19, 21, 26, 27, 6, 12, 6, 10, 19, 3, 13, 2, 3, 4, 6, 8, 20, 23, 25, 5, 10, 16, 2, 5, 9, 10, 16, 24, 1, 2, 6, 25, 5, 8, 14, 16, 23, 10, 24, 10, 11, 15, 18, 18, 16, 25, 25, 3, 7, 13, 14, 20, 23, 26, 3, 7, 8, 12, 14, 17, 21, 24, 26, 3, 4, 8, 14, 16, 21, 23, 25, 12, 18, 12, 4, 18, 22, 4, 15, 18, 1, 2, 6, 7, 8, 9, 10, 17, 27, 10, 10, 1, 2, 3, 5, 7, 14, 16, 22, 25, 1, 3, 1, 2, 3, 5, 6, 7, 8, 10, 11, 16, 22, 23, 25, 1, 1, 7, 8, 14, 15, 16, 19, 23, 24, 1, 3, 4, 7, 9, 11, 12, 20, 21, 22, 24, 5, 7, 14, 16, 17, 7, 3, 7, 10, 12, 16, 20, 23, 24, 26, 2, 4, 5, 7, 8, 14, 2, 3, 4, 5, 7, 8, 10, 14, 16, 22, 11, 16, 20, 19, 9, 1, 2, 3, 7, 9, 11, 13, 14, 16, 20, 22, 1, 6, 12, 13, 14, 18, 23, 26, 1, 3, 6, 13, 18, 19, 16, 24, 1, 6, 12, 13, 14, 17, 18, 19, 27, 21, 16, 2, 5, 12, 16, 1, 5, 6, 7, 10, 11, 12, 14, 15, 16, 17, 18, 21, 22, 11, 14, 14, 16, 21, 8, 14, 12, 18, 1, 3, 5, 7, 8, 9, 10, 11, 12, 13, 14, 16, 17, 18, 19, 20, 21, 22, 23, 26, 27, 4, 6, 8, 12, 6, 26, 8, 17, 26, 8, 14, 12, 1, 3, 11, 12, 13, 15, 16, 18, 19, 20, 23, 25, 27, 1, 3, 19, 11, 15, 1, 6, 7, 11, 12, 17, 18, 19, 27, 13, 3, 5, 8, 9, 13, 14, 18, 20, 12, 4, 20, 2, 26, 1, 2, 4, 5, 6, 7, 8, 9, 10, 11, 12, 13, 14, 17, 18, 19, 25, 27, 11, 9, 2, 3, 4, 5, 6, 7, 8, 9, 10, 11, 13, 14, 16, 17, 18, 19, 20, 21, 22, 23, 24, 25, 26, 19, 8, 17, 23, 11, 14, 21, 24, 2, 5, 16, 2, 3, 13, 22, 1, 20, 22, 6, 12, 13, 18, 19, 13, 21, 2, 15, 16, 9, 22, 17, 26, 9, 11, 15, 24, 1, 4, 5, 10, 22, 24, 5, 10, 15, 22, 9, 20, 7, 12, 14, 1, 11, 17, 22, 22, 22, 26, 7, 3, 11, 9, 24, 24, 4, 5, 6, 8, 10, 17, 3, 12, 15, 26, 7, 20, 27, 13, 7, 13, 22, 4, 6, 10, 16, 4, 5, 23, 7, 23, 19, 19, 19, 26, 26, 7, 22, 25, 18, 5, 1, 2, 4, 5, 6, 7, 8, 10, 11, 12, 13, 15, 18, 20, 22, 3, 10, 15, 24, 15, 16, 22, 11, 13, 1, 2, 3, 4, 5, 6, 7, 8, 9, 10, 11, 12, 13, 14, 15, 16, 17, 19, 20, 21, 23, 24, 26, 27, 1, 2, 3, 4, 5, 7, 14, 20, 22, 25, 15, 18, 22, 15, 14, 14, 24, 12, 8, 26, 5, 7, 8, 14, 1, 3, 7, 16, 7, 12, 14, 26, 14, 13, 26, 19, 4, 5, 10, 15, 24, 5, 10, 14, 15, 16, 10, 12, 4, 5, 7, 8, 10, 11, 17, 1, 12, 13, 18, 1, 3, 4, 5, 6, 12, 13, 14, 15, 17, 18, 19, 23, 25, 27, 22, 23, 6, 12, 13, 5, 6, 8, 9, 10, 17, 19, 5, 8, 16, 21, 11, 17, 9, 17, 11, 17, 19, 3, 6, 10, 11, 17, 19, 22, 9, 14, 16, 14, 16, 17, 5, 7, 10, 11, 12, 15, 16, 20, 24, 27, 1, 2, 4, 5, 6, 7, 8, 9, 10, 11, 13, 14, 15, 16, 17, 18, 21, 26, 8, 5, 10, 5, 8, 14, 8, 14, 8, 8, 21, 26, 8, 17, 21, 26, 8, 10, 11, 21, 10, 11, 20, 5, 22, 17, 2, 3, 5, 6, 7, 8, 12, 13, 14, 15, 16, 18, 3, 19, 11, 21, 5, 3, 5, 5, 5, 27, 12, 1, 3, 4, 5, 6, 8, 9, 10, 12, 13, 14, 15, 17, 18, 19, 20, 22, 23, 25, 26, 27, 2, 11, 21, 7, 23, 15, 7, 11, 1, 5, 9, 10, 11, 13, 15, 17, 18, 19, 22, 24, 7, 12, 26, 26, 20, 21, 27, 2, 16, 19, 19, 19, 21, 7, 13, 7, 10, 16, 2, 13, 22, 23, 7, 8, 19, 27, 19, 27, 27, 27, 19, 27, 19, 22, 1, 7, 8, 14, 16, 21, 8, 14, 17, 24, 21, 24, 11, 24, 10, 14, 27, 9, 24, 9, 5, 6, 8, 10, 11, 23, 5, 8, 5, 8, 3, 16, 16, 16, 2, 5, 8, 16, 16, 20, 6, 21, 1, 3, 5, 7, 13, 14, 15, 18, 19, 20, 20, 8, 8, 8, 10, 20, 1, 2, 3, 5, 8, 9, 20, 24, 3, 4, 5, 6, 7, 8, 9, 10, 11, 12, 13, 15, 10, 21, 16, 10, 19, 20, 23, 27, 23, 21, 8, 14, 21, 13, 25, 2, 4, 8, 16, 25, 5, 21, 16, 16, 10, 11, 20, 6, 9, 17, 1, 15, 25, 1, 3, 5, 6, 7, 8, 9, 10, 11, 12, 13, 16, 17, 18, 19, 21, 22, 23, 24, 26, 27, 10, 11, 21, 3, 22, 4, 10, 4, 12, 19, 22, 8, 14, 14, 5, 8, 14, 23, 26, 26, 26, 7, 7, 9, 8, 10, 20, 24, 27, 22, 2, 5, 7, 10, 16, 21, 22, 24, 24, 5, 8, 1, 5, 7, 8, 14, 16, 26, 5, 8, 16, 22, 13, 18, 3, 4, 5, 6, 8, 9, 10, 11, 12, 13, 14, 16, 17, 19, 20, 24, 26, 27, 2, 3, 4, 5, 8, 9, 10, 11, 14, 15, 16, 17, 21, 24, 3, 21, 16, 22, 3, 11, 18, 5, 16, 3, 26, 9, 27, 23, 6, 11, 11, 21, 11, 22, 9, 11, 21, 21, 5, 8, 9, 21, 6, 9, 1, 2, 3, 4, 5, 6, 8, 9, 10, 11, 12, 13, 16, 17, 18, 20, 22, 23, 24, 25, 13, 1, 20, 24, 17, 12, 21, 23, 17, 4, 6, 9, 11, 15, 17, 19, 9, 6, 20, 21, 22, 24, 27, 27, 27, 3, 4, 8, 11, 12, 15, 21, 23, 24, 25, 26, 27, 22, 6, 17, 2, 16, 20, 21, 1, 3, 4, 9, 11, 12, 13, 15, 25, 1, 2, 3, 4, 5, 6, 7, 12, 13, 15, 18, 21, 22, 23, 25, 1, 4, 5, 6, 8, 11, 12, 13, 14, 17, 18, 25, 26, 24, 8, 22, 9, 10, 14, 15, 16, 23, 24, 20, 20, 9, 16, 10, 20, 16, 1, 2, 3, 8, 13, 16, 18, 20, 23, 4, 12, 4, 6, 12, 12, 12, 3, 23, 5, 16, 1, 3, 4, 6, 8, 9, 10, 11, 12, 14, 15, 16, 17, 18, 19, 20, 21, 23, 24, 26, 27, 24, 11, 15, 2, 5, 6, 10, 11, 3, 10, 15, 4, 6, 10, 11, 15, 17, 19, 24, 3, 16, 23, 1, 5, 13, 13, 3, 16, 20, 21, 25, 4, 17, 12, 21, 8, 25, 18, 22, 27, 1, 2, 3, 4, 6, 7, 9, 12, 13, 14, 16, 18, 19, 20, 22, 24, 27, 18, 8, 26, 8, 13, 23, 20, 21, 25, 2, 5, 7, 8, 9, 10, 11, 19, 23, 11, 12, 8, 27, 13, 17, 4, 1, 2, 3, 4, 5, 7, 8, 10, 11, 16, 18, 20, 21, 23, 25, 23, 1, 3, 7, 8, 14, 6, 24, 1, 7, 8, 12, 23, 21, 8, 23, 23, 18, 17, 10, 13, 1, 6, 7, 7, 12, 26, 7, 5, 5, 1, 2, 5, 6, 15, 1, 6, 12, 17, 27, 10, 25, 1, 21, 4, 5, 8, 10, 4, 5, 4, 11, 12, 20, 22, 1, 3, 4, 6, 7, 8, 12, 20, 4, 5, 6, 17, 18, 11, 23, 23, 11, 3, 9, 12, 22, 1, 2, 3, 4, 6, 9, 12, 13, 15, 18, 20, 18, 6, 18, 23, 26, 9, 1, 13, 25, 25, 25, 25, 25, 6, 10, 7, 10, 19, 23, 24, 25, 26, 5, 25, 8, 4, 23, 27, 7, 7, 10, 7, 7, 27, 6, 8, 27, 10, 20, 15, 24, 24, 27, 1, 3, 4, 7, 8, 12, 16, 19, 20, 22, 23, 26, 3, 12, 20, 23, 11, 16, 20, 21, 23, 24, 27, 16, 3, 27, 12, 22, 1, 7, 11, 18, 23, 13, 11, 14, 16, 24, 5, 6, 12, 13, 14, 15, 17, 18, 21, 22, 26, 3, 17, 3, 4, 6, 9, 10, 11, 15, 21, 1, 2, 3, 4, 5, 6, 7, 8, 9, 10, 11, 15, 16, 17, 19, 20, 21, 22, 24, 25, 5, 8, 14, 16, 1, 2, 4, 5, 6, 7, 8, 12, 13, 14, 18, 26, 4, 6, 7, 13, 14, 18, 26, 5, 10, 3, 12, 13, 23, 24, 1, 2, 3, 4, 5, 7, 9, 10, 16, 17, 1, 24, 10, 11, 3, 6, 9, 11, 24, 3, 16, 20, 5, 14, 26, 6, 1, 2, 3, 4, 6, 7, 8, 10, 11, 12, 14, 16, 20, 21, 23, 25, 27, 15, 15, 22, 2, 3, 9, 14, 16, 3, 3, 9, 9, 24, 12, 1, 3, 7, 9, 10, 16, 24, 4, 6, 7, 8, 9, 11, 14, 17, 18, 19, 21, 22, 27, 5, 7, 16, 25, 7, 12, 3, 26, 12, 1, 2, 4, 6, 7, 12, 1, 2, 4, 5, 6, 7, 11, 12, 13, 14, 18, 25, 26, 27, 4, 6, 11, 2, 3, 5, 8, 16, 20, 2, 3, 12, 2, 3, 5, 8, 14, 16, 1, 2, 3, 4, 5, 6, 7, 8, 9, 10, 11, 12, 13, 14, 15, 16, 17, 18, 19, 20, 21, 22, 23, 24, 25, 26, 27, 6, 9, 10, 20, 1, 2, 4, 5, 6, 7, 8, 9, 10, 13, 14, 16, 17, 19, 25, 27, 1, 2, 3, 4, 5, 6, 7, 8, 9, 10, 11, 13, 15, 16, 20, 22, 24, 25, 13, 27, 23, 22, 1, 2, 3, 4, 5, 6, 7, 8, 11, 12, 13, 14, 15, 17, 18, 19, 20, 21, 22, 23, 25, 26, 27, 1, 2, 4, 5, 6, 7, 8, 11, 12, 14, 18, 25, 25, 21, 2, 3, 8, 9, 10, 11, 14, 15, 19, 21, 27, 3, 5, 8, 14, 16, 2, 5, 8, 14, 16, 17, 5, 5, 8, 13, 20, 3, 19, 19, 1, 1, 3, 4, 6, 7, 10, 11, 12, 13, 14, 16, 18, 20, 21, 22, 24, 27, 1, 2, 6, 18, 19, 20, 22, 23, 1, 3, 11, 13, 16, 18, 20, 23, 24, 26, 6, 12, 23, 4, 5, 12, 4, 20, 7, 8, 12, 21, 3, 4, 5, 6, 7, 10, 11, 13, 15, 17, 18, 23, 26, 8, 21, 22, 23, 26, 3, 4, 8, 11, 12, 21, 23, 26, 14, 8, 14, 3, 8, 16, 23, 26, 4, 5, 7, 14, 16, 2, 5, 7, 10, 11, 14, 16, 17, 13, 16, 17, 18, 20, 9, 11, 27, 17, 2, 3, 9, 14, 24, 25, 6, 11, 6, 11, 6, 3, 18, 3, 23, 6, 18, 8, 12, 14, 21, 23, 26, 26, 23, 8, 8, 12, 13, 19, 15, 25, 5, 10, 11, 17, 6, 11, 9, 2, 4, 5, 6, 13, 15, 25, 2, 4, 5, 6, 9, 10, 11, 13, 15, 17, 22, 24, 25, 1, 2, 4, 5, 6, 14, 25, 3, 6, 9, 17, 19, 24, 17, 9, 10, 11, 15, 16, 24, 9, 2, 4, 5, 9, 11, 13, 15, 17, 24, 7, 3, 7, 10, 16, 10, 11, 9, 11, 17, 24, 8, 8, 26, 4, 11, 17, 22, 5, 8, 10, 23, 25, 17, 21, 1, 16, 17, 10, 5, 13, 15, 20, 8, 23, 27, 2, 5, 7, 8, 16, 23, 11, 8, 14, 25, 25, 7, 12, 13, 12, 20, 12, 27, 12, 1, 2, 3, 4, 5, 6, 7, 9, 10, 11, 12, 13, 14, 15, 16, 19, 20, 21, 23, 27, 3, 1, 4, 5, 6, 8, 11, 12, 14, 15, 17, 19, 20, 21, 22, 27, 7, 7, 7, 7, 7, 8, 23, 23, 7, 23, 26, 10, 3, 14, 23, 7, 14, 14, 3, 8, 14, 21, 23, 18, 26, 13, 14, 12, 3, 20, 4, 12, 1, 2, 3, 4, 5, 6, 7, 8, 12, 14, 20, 23, 26, 15, 12, 1, 3, 5, 12, 13, 16, 20, 2, 3, 4, 5, 7, 8, 10, 11, 12, 14, 16, 17, 20, 21, 23, 24, 20, 1, 10, 15, 16, 20, 20, 25, 4, 5, 8, 25, 1, 3, 5, 6, 7, 8, 10, 11, 14, 15, 16, 17, 18, 21, 22, 26, 8, 8, 1, 9, 13, 16, 1, 2, 3, 4, 6, 9, 10, 11, 13, 14, 16, 19, 20, 24, 25, 27, 9, 13, 2, 14, 16, 24, 1, 12, 13, 5, 8, 16, 21, 25, 5, 8, 8, 16, 17, 21, 3, 4, 6, 8, 12, 17, 13, 13, 9, 3, 9, 10, 20, 22, 23, 4, 12, 3, 12, 26, 7, 12, 22, 4, 6, 12, 13, 14, 18, 10, 11, 22, 8, 10, 24, 26], \"Freq\": [0.31733202934265137, 0.673966646194458, 0.007278257515281439, 0.9965188503265381, 0.9955928921699524, 0.9955064654350281, 0.9992026686668396, 0.9994420409202576, 0.999535083770752, 0.9983267188072205, 0.9914544820785522, 0.9953762888908386, 0.9993640184402466, 0.8433011770248413, 0.15590442717075348, 0.9991261959075928, 0.46316269040107727, 0.06999138742685318, 0.039767831563949585, 0.000795356638263911, 0.24523496627807617, 0.0013255943777039647, 0.05037258565425873, 0.004507021047174931, 0.0010604754788801074, 0.0845729261636734, 0.002386069856584072, 0.0026511887554079294, 0.03393521532416344, 0.9888894557952881, 0.9944866895675659, 0.6900783181190491, 0.2855496406555176, 0.9934454560279846, 0.9952230453491211, 0.20158539712429047, 0.7977895140647888, 0.8923745155334473, 0.08112495392560959, 0.9964897632598877, 0.6387119293212891, 0.14981137216091156, 0.21102462708950043, 0.9969369769096375, 0.9935401678085327, 0.9994677305221558, 0.9757740497589111, 0.9939331412315369, 0.8607521653175354, 0.12104327231645584, 0.22563436627388, 0.06488831341266632, 0.022121015936136246, 0.08700933307409286, 0.5987421870231628, 0.98006272315979, 0.9933086037635803, 0.9905598759651184, 0.8730829954147339, 0.12651361525058746, 0.996145486831665, 0.9935349822044373, 0.9934844374656677, 0.9996609687805176, 0.985397458076477, 0.357062965631485, 0.6407832503318787, 0.23170730471611023, 0.7675990462303162, 0.4316829741001129, 0.15561124682426453, 0.14297276735305786, 0.04778924211859703, 0.02725171484053135, 0.011058667674660683, 0.023302191868424416, 0.0023697144351899624, 0.03594066947698593, 0.021722381934523582, 0.0007899047923274338, 0.0426548607647419, 0.0568731464445591, 0.004418133292347193, 0.128125861287117, 0.8659541010856628, 0.1576462686061859, 0.0006280728266574442, 0.010049165226519108, 0.07725295424461365, 0.15199361741542816, 0.04019666090607643, 0.3159206211566925, 0.030775567516684532, 0.13252335786819458, 0.08227753639221191, 0.0006280728266574442, 0.8682981133460999, 0.09647756814956665, 0.00012839672854170203, 0.0009629754349589348, 0.0746626928448677, 0.20017048716545105, 0.0015407606260851026, 0.14329074323177338, 0.04866235703229904, 0.052771054208278656, 0.00012839672854170203, 0.2241164743900299, 0.044040076434612274, 0.02914605662226677, 0.04134374484419823, 0.027926286682486534, 0.026192931458353996, 0.08442084491252899, 0.0003209917922504246, 0.9905855059623718, 0.29750603437423706, 0.7013930082321167, 0.8015447854995728, 0.19671612977981567, 0.9955039024353027, 0.9977092146873474, 0.9737696647644043, 0.9985453486442566, 0.9981311559677124, 0.031333714723587036, 0.03342263028025627, 0.10560622811317444, 0.09516165405511856, 0.17454040050506592, 0.13926096260547638, 0.046420320868492126, 0.2520623505115509, 0.0640600398182869, 0.00023210160725284368, 0.05756119638681412, 0.9933456778526306, 0.9998190402984619, 0.9974419474601746, 0.997265100479126, 0.7227309942245483, 0.2767702043056488, 0.9847128391265869, 0.7443487048149109, 0.20300418138504028, 0.022556021809577942, 0.08250954747200012, 0.15408408641815186, 0.001988181844353676, 0.055669091641902924, 0.14911364018917084, 0.04374000057578087, 0.042745910584926605, 0.4155299961566925, 0.04970454424619675, 0.00497045461088419, 0.9914283156394958, 0.34424808621406555, 0.49951305985450745, 0.08084277808666229, 0.059440843760967255, 4.038100814796053e-05, 0.0016556213377043605, 0.007187819108366966, 0.00016152403259184211, 0.00020190504437778145, 0.00670324731618166, 0.9997869729995728, 0.9906287789344788, 0.9876111149787903, 0.9958704710006714, 0.9914562106132507, 0.9946603775024414, 0.12400868535041809, 0.002728191204369068, 0.022569581866264343, 0.05282770097255707, 0.01190483383834362, 0.04861140623688698, 0.04365105926990509, 0.0014881042297929525, 0.02802596427500248, 0.0389387272298336, 0.2408248782157898, 0.0004960347432643175, 0.03149820491671562, 0.034474413841962814, 0.07415719330310822, 0.003720260690897703, 0.08779814839363098, 0.03571450337767601, 0.02331363409757614, 0.09300651401281357, 0.13841508328914642, 0.6425194144248962, 0.21873000264167786, 0.9994543790817261, 0.993411660194397, 0.0023817361798137426, 0.9955657124519348, 0.9946911931037903, 0.9983103275299072, 0.9999424815177917, 0.2645346522331238, 0.7348185181617737, 0.9997146725654602, 0.9995745420455933, 0.9993665814399719, 0.003498944453895092, 0.7190330624580383, 0.2746671438217163, 0.05574754253029823, 0.28208255767822266, 0.04236813262104988, 0.6176827549934387, 0.1121586337685585, 0.153562992811203, 0.7337480783462524, 0.12151896208524704, 0.193670853972435, 0.25719213485717773, 0.42756032943725586, 0.08229456841945648, 0.7370924353599548, 0.18015837669372559, 0.9933806657791138, 0.9950383305549622, 0.9914212226867676, 0.5669436454772949, 0.2096262276172638, 0.07384560257196426, 0.05717078968882561, 0.09052041918039322, 0.9954778552055359, 0.9964496493339539, 0.5015605092048645, 0.16718684136867523, 0.3239245116710663, 0.9994739890098572, 0.1783812791109085, 0.2054087519645691, 0.1702730357646942, 0.44550275802612305, 0.07058759033679962, 0.7275951504707336, 0.11674101650714874, 0.08416212350130081, 0.9994113445281982, 0.9968255162239075, 0.048543818295001984, 0.08796285837888718, 0.0799330547451973, 0.0003649911086540669, 0.025914369150996208, 0.002554937731474638, 0.06131850555539131, 0.07409319281578064, 0.006204849109053612, 0.04598888009786606, 0.330316960811615, 0.04708385467529297, 0.0032849200069904327, 0.01824955642223358, 0.04708385467529297, 0.06752335280179977, 0.0032849200069904327, 0.02226445823907852, 0.006204849109053612, 0.02226445823907852, 0.22158615291118622, 0.5213791728019714, 0.14337927103042603, 0.06517239660024643, 0.0391034372150898, 0.9983553886413574, 0.0006774789653718472, 0.1702730506658554, 0.13165675103664398, 0.0011291316477581859, 0.0088072270154953, 0.5203038454055786, 0.05081092566251755, 0.009710531681776047, 0.0009033053065650165, 0.06729624420404434, 0.008129747584462166, 0.00045165265328250825, 0.0293574221432209, 0.00022582632664125413, 0.9925740361213684, 0.9948873519897461, 0.007358601316809654, 0.15632939338684082, 0.04496923089027405, 0.22664491832256317, 0.01733359508216381, 0.16875725984573364, 0.05020201578736305, 0.19394002854824066, 0.01439015381038189, 0.05249135568737984, 0.06704503297805786, 0.9952892065048218, 0.00038403330836445093, 0.0002743095101322979, 0.07505107671022415, 0.8981990218162537, 0.00010972379823215306, 0.003017404582351446, 0.022932274267077446, 0.9795330166816711, 0.9993196129798889, 0.9782406687736511, 0.9856719374656677, 0.9981067776679993, 0.102545827627182, 0.08390112966299057, 0.7246571779251099, 0.026724062860012054, 0.061527494341135025, 0.0006214898312464356, 0.9777693748474121, 0.48746615648269653, 0.1973077356815338, 0.185701385140419, 0.02901584282517433, 0.06963802129030228, 0.03481901064515114, 0.9246242046356201, 0.06986049562692642, 0.9986536502838135, 0.9978446960449219, 0.07836528867483139, 0.9183432459831238, 0.9927406907081604, 0.16287270188331604, 0.8356077671051025, 0.9899412393569946, 0.8965489268302917, 0.03794915974140167, 0.030043086037039757, 0.034786731004714966, 0.15838325023651123, 0.06286969035863876, 0.0030225811060518026, 0.008261721581220627, 0.06770581752061844, 0.09450603276491165, 0.02216559462249279, 0.033651404082775116, 0.14206130802631378, 0.12815743684768677, 0.0012090324889868498, 0.13944174349308014, 0.030225811526179314, 0.06145915016531944, 0.007858711294829845, 0.0014105378650128841, 0.004836129955947399, 0.0012090324889868498, 0.0014105378650128841, 0.030427316203713417, 0.10749498009681702, 0.04214934632182121, 0.07609512656927109, 0.06647715717554092, 0.07567080855369568, 0.029419679194688797, 0.05855647474527359, 0.09391666948795319, 0.015699924901127815, 0.051767319440841675, 0.036916039884090424, 0.05516189709305763, 0.07807529717683792, 0.1895306259393692, 0.0007072038133628666, 0.016407128423452377, 0.005657630506902933, 0.03980868309736252, 0.8341307640075684, 0.12590652704238892, 0.9909936189651489, 0.9985713362693787, 0.142436683177948, 0.857104480266571, 0.9902425408363342, 0.8135641813278198, 0.185654416680336, 0.9853730201721191, 0.9982210993766785, 0.1485115885734558, 0.15004263818264008, 0.6481433510780334, 0.05256595462560654, 0.8700603246688843, 0.11348613351583481, 0.9925240278244019, 0.9944138526916504, 0.9091307520866394, 0.09083062410354614, 0.8834095597267151, 0.0007668485632166266, 0.005367939826101065, 0.109659343957901, 0.9823227524757385, 0.19772058725357056, 0.040747396647930145, 0.6838634610176086, 0.07447566092014313, 9.115748252952471e-05, 0.002917039440944791, 0.9788798689842224, 0.9854625463485718, 0.9950093626976013, 0.9966841340065002, 0.9986210465431213, 0.9982028007507324, 0.9916583895683289, 0.9737133383750916, 0.025432810187339783, 0.9899407625198364, 0.08798911422491074, 0.9092208743095398, 0.9911552667617798, 0.9987141489982605, 0.999756932258606, 0.7744008898735046, 0.22451119124889374, 0.990889310836792, 0.16798658668994904, 0.8303337097167969, 0.006078075151890516, 0.9934276342391968, 0.9993302226066589, 0.17714537680149078, 0.8207735419273376, 0.012147005647420883, 0.9871466755867004, 0.9940654039382935, 0.9839826822280884, 0.8592616319656372, 0.008211374282836914, 0.0017595802200958133, 0.1307954639196396, 0.6626716256141663, 0.04217502474784851, 0.0015987918013706803, 0.00022052299755159765, 0.06400680541992188, 0.00082696124445647, 0.09499028325080872, 0.04774323105812073, 0.0021500992588698864, 0.08335769176483154, 5.5130749387899414e-05, 0.9804956316947937, 0.9962701797485352, 0.9949478507041931, 0.019745539873838425, 0.0001473547745263204, 0.530035138130188, 0.12967219948768616, 0.15221747756004333, 0.09887505322694778, 0.06910938769578934, 0.22861997783184052, 0.22618785500526428, 0.5435804724693298, 0.9995883107185364, 0.07262346148490906, 0.25968390703201294, 0.5567799210548401, 0.11003555357456207, 0.9899811744689941, 0.9962736368179321, 0.9984055757522583, 0.9916824102401733, 0.9950458407402039, 0.9812914729118347, 0.6242783665657043, 0.018709640949964523, 0.17711792886257172, 0.003741928143426776, 0.1758706271648407, 0.6885130405426025, 0.07824011892080307, 0.21907232701778412, 0.9959139823913574, 0.06124338507652283, 0.08285869657993317, 0.018012760207057, 0.22155696153640747, 0.06124338507652283, 0.004803402815014124, 0.08225827664136887, 0.14830505847930908, 0.26358672976493835, 0.040828924626111984, 0.015611059032380581, 0.833082377910614, 0.16593454778194427, 0.7655742168426514, 0.13380096852779388, 0.09889636188745499, 0.9988027215003967, 0.9972273707389832, 0.13278897106647491, 0.8649726510047913, 0.9989289045333862, 0.22501340508460999, 0.7746644616127014, 0.999713122844696, 0.9964210391044617, 0.9996682405471802, 0.996811032295227, 0.9950968623161316, 0.9974768161773682, 0.9986307621002197, 0.9962701201438904, 0.976582944393158, 0.8967784643173218, 0.09964205324649811, 0.2119550257921219, 0.07693443447351456, 0.15992328524589539, 0.015372782945632935, 0.079714834690094, 0.03357633575797081, 0.1688084751367569, 0.004895919002592564, 0.011051076464354992, 0.000503695395309478, 0.013952362351119518, 0.029143815860152245, 0.011705880984663963, 0.035047125071287155, 0.01585633121430874, 0.08580954372882843, 0.014889235608279705, 0.003112837439402938, 0.008885187096893787, 0.0026695856358855963, 1.0073908015328925e-05, 0.00030221723136492074, 0.008603117428719997, 0.0019744860474020243, 0.005288801621645689, 1.0073908015328925e-05, 0.09205875545740128, 0.01798849180340767, 0.053360823541879654, 0.02524435520172119, 0.029325777664780617, 0.11881475150585175, 0.0007558190263807774, 0.06394229084253311, 0.042174700647592545, 0.00015116379654500633, 0.011034957133233547, 0.039151426404714584, 0.043686337769031525, 0.33513015508651733, 0.009220992214977741, 0.00015116379654500633, 0.022069914266467094, 0.03597698360681534, 0.04927939921617508, 0.009220992214977741, 0.0010581465903669596, 0.874821662902832, 0.11189579963684082, 0.07669827342033386, 0.01772439107298851, 0.20431388914585114, 0.5317317247390747, 0.15146297216415405, 0.017402129247784615, 0.00032226165058091283, 0.9812847971916199, 0.9975752234458923, 0.03696874529123306, 0.07801845669746399, 0.09890339523553848, 0.7861859798431396, 0.8850343823432922, 0.10911382734775543, 0.4457070529460907, 0.43479815125465393, 0.11843963712453842, 0.9993833899497986, 0.9980129599571228, 0.9962041974067688, 0.2070549726486206, 0.7905735373497009, 0.12017298489809036, 0.8748593330383301, 0.05268026515841484, 0.9429767727851868, 0.8550883531570435, 0.1447923481464386, 0.045990440994501114, 0.0070518674328923225, 0.021155603229999542, 0.0938204973936081, 0.05242910236120224, 0.008584882132709026, 0.03955177962779999, 0.04691024869680405, 0.0006132058915682137, 0.0018396176164969802, 0.06040078029036522, 0.1937730610370636, 0.00030660294578410685, 0.003372632199898362, 0.07450451701879501, 0.006132058799266815, 0.25141441822052, 0.0006132058915682137, 0.06377340853214264, 0.026981057599186897, 0.0009198088082484901, 0.05115259438753128, 0.07619232684373856, 0.03076309897005558, 0.03147852048277855, 0.06510329991579056, 0.04220983386039734, 0.07225751131772995, 0.12841805815696716, 0.07189980149269104, 0.06081077829003334, 0.19566760957241058, 0.001073131337761879, 0.09407784789800644, 0.02182033658027649, 0.001430841744877398, 0.03290935978293419, 0.0035771045368164778, 0.006796498782932758, 0.012162155471742153, 0.004462325945496559, 0.9906363487243652, 0.8016088008880615, 0.19631235301494598, 0.0016359363216906786, 0.9980602264404297, 0.9889948964118958, 0.867318332195282, 0.13072623312473297, 0.9959486126899719, 0.04270494356751442, 0.04997387155890465, 0.009691902436316013, 0.1141827255487442, 0.01998954825103283, 0.05391120910644531, 0.0251383725553751, 0.07117491215467453, 0.1259947270154953, 0.051488231867551804, 0.0024229756090790033, 0.0003028719511348754, 0.0881357416510582, 0.09601040929555893, 0.04573366418480873, 0.02998432330787182, 0.17354562878608704, 0.9037513136863708, 0.08123607188463211, 0.9995865225791931, 0.9976874589920044, 0.1433325707912445, 0.8546204566955566, 0.9989185333251953, 0.9913707971572876, 0.9986231327056885, 0.0029898956418037415, 0.08272044360637665, 0.016942741349339485, 0.6517972350120544, 0.13155540823936462, 0.11162276566028595, 0.9939925670623779, 0.00326397898606956, 0.995979905128479, 0.06872771680355072, 0.15736277401447296, 0.25168564915657043, 0.0014219528529793024, 0.015878472477197647, 0.05379721522331238, 0.053560223430395126, 0.3967248201370239, 0.0007109764264896512, 0.992706298828125, 0.9984142780303955, 0.9890022277832031, 0.9851757287979126, 0.47029832005500793, 0.0016978278290480375, 0.002829713048413396, 0.0016978278290480375, 0.5232139229774475, 0.9924331903457642, 0.9176883697509766, 0.006285537034273148, 0.07542644441127777, 0.6143037676811218, 0.3327478766441345, 0.02559599094092846, 0.9923101663589478, 0.9998666644096375, 0.28541192412376404, 0.7135298252105713, 0.9539990425109863, 0.04112064838409424, 0.996398389339447, 0.9792174100875854, 0.9976871013641357, 0.272484689950943, 0.5943225026130676, 0.07646254450082779, 0.05630423501133919, 0.9952484369277954, 0.9958217144012451, 0.9983558654785156, 0.9992614388465881, 0.9930335283279419, 0.12155769020318985, 0.8682692050933838, 0.9955711364746094, 0.19328714907169342, 0.804147481918335, 0.9997693300247192, 0.9957724213600159, 0.9575573801994324, 0.0017378537449985743, 0.0017378537449985743, 0.03649492934346199, 0.9741877913475037, 0.024842675775289536, 0.15196797251701355, 0.09118078649044037, 0.6686590909957886, 0.03039359487593174, 0.994662344455719, 0.9862722158432007, 0.9976848363876343, 0.9948552250862122, 0.9478636384010315, 0.007291258778423071, 0.04374755173921585, 0.01872112974524498, 0.9788476228713989, 0.09388154000043869, 0.550487220287323, 0.18278451263904572, 0.16144779324531555, 0.011379580944776535, 0.9841262102127075, 0.012949028983712196, 0.9969867467880249, 0.07997101545333862, 0.9183768033981323, 0.9988491535186768, 0.9986013174057007, 0.9958312511444092, 0.004809367936104536, 0.09939360618591309, 0.1707325577735901, 0.000801561342086643, 0.7238098978996277, 0.9886090159416199, 0.0124650988727808, 0.9847428202629089, 0.9912014007568359, 0.997126042842865, 0.9933302998542786, 0.9961968064308167, 0.0584663525223732, 0.18844959139823914, 0.009396377950906754, 0.07464900612831116, 0.10075005143880844, 0.1357254683971405, 0.43223339319229126, 0.9897533059120178, 0.9880696535110474, 0.9926887154579163, 0.9917845726013184, 0.9972754120826721, 0.15302348136901855, 0.5377682447433472, 0.0568372942507267, 0.17925608158111572, 0.07141096144914627, 0.9900045990943909, 0.9955497980117798, 0.9948513507843018, 0.029863502830266953, 0.205311581492424, 0.7637590765953064, 0.9926389455795288, 0.8639865517616272, 0.13557235896587372, 0.6162979602813721, 0.12719865143299103, 0.0016412729164585471, 0.07905464619398117, 0.1753426492214203, 0.0002735454763751477, 0.9993451833724976, 0.8115576505661011, 0.18618087470531464, 0.881651759147644, 0.09643065929412842, 0.8922902941703796, 0.10074245184659958, 0.9965398907661438, 0.0009570012916810811, 0.0009570012916810811, 0.004785006400197744, 0.9924103617668152, 0.9873592257499695, 0.015046556480228901, 0.9844747185707092, 0.9978221654891968, 0.01252733077853918, 0.9871536493301392, 0.9749200344085693, 0.9897292852401733, 0.7385345101356506, 0.2543841004371643, 0.08778289705514908, 0.9041638374328613, 0.6425157785415649, 0.1265561431646347, 0.223907008767128, 0.9940834641456604, 0.1926390528678894, 0.0782192125916481, 0.10440001636743546, 0.004201858304440975, 0.1267021894454956, 0.08694614470005035, 0.01971641182899475, 0.0691690519452095, 0.004848298151046038, 0.0035554186906665564, 0.06367431581020355, 0.24403101205825806, 0.0012928794603794813, 0.9963663220405579, 0.002975019859150052, 0.9966316223144531, 0.08581184595823288, 0.7351987957954407, 0.17626217007637024, 0.006428427528589964, 0.006428427528589964, 0.9851565361022949, 0.9843226671218872, 0.9966020584106445, 0.9962259531021118, 0.9977589845657349, 0.9967513680458069, 0.990117073059082, 0.9942246675491333, 0.9256661534309387, 0.07120508700609207, 0.0015479366993531585, 0.9994844198226929, 0.12251889705657959, 0.6042171120643616, 0.06073586270213127, 0.05131133273243904, 0.12356606870889664, 0.014660380780696869, 0.0230377409607172, 0.9916258454322815, 0.8701586127281189, 0.004170089494436979, 0.013900297693908215, 0.0027800595853477716, 0.10842232406139374, 0.7472277283668518, 0.05873190239071846, 0.1766892522573471, 0.016286998987197876, 0.9908922910690308, 0.4399804472923279, 0.019520701840519905, 0.036342691630125046, 0.11343596875667572, 0.0001799143064999953, 0.07808280736207962, 0.0030585431959480047, 0.09409518539905548, 0.03157496079802513, 0.059281762689352036, 0.03769204765558243, 0.06728795170783997, 0.0007196572259999812, 0.018711088225245476, 8.995715324999765e-05, 0.8761179447174072, 0.12213976681232452, 0.9936147928237915, 0.9974434971809387, 0.895476758480072, 0.10106430947780609, 0.03980933874845505, 0.05129279941320419, 0.2204824835062027, 0.000765564211178571, 0.6867110729217529, 0.9861358404159546, 0.9913054704666138, 0.9910723567008972, 0.9972286820411682, 0.17622146010398865, 0.05016755312681198, 0.04191213101148605, 0.13303926587104797, 0.13811953365802765, 0.20892563462257385, 0.009843001142144203, 0.009207968600094318, 0.21083073318004608, 0.02127358317375183, 0.9971458315849304, 0.9989425539970398, 0.9900999665260315, 0.9217522740364075, 0.07257892191410065, 0.9852392673492432, 0.984420895576477, 0.9985304474830627, 0.9942584037780762, 0.9987790584564209, 0.9887548685073853, 0.9865589737892151, 0.10515957325696945, 0.8946608304977417, 0.9738115072250366, 0.9887924790382385, 0.00027723662788048387, 0.0013861831976100802, 0.19157052040100098, 0.00027723662788048387, 0.3077326714992523, 0.025228533893823624, 0.31327739357948303, 0.0024951298255473375, 0.07097257673740387, 0.025783007964491844, 0.05988311395049095, 0.0008317099418491125, 0.018714502453804016, 0.9793922901153564, 0.9881823062896729, 0.9893152713775635, 0.9977843165397644, 0.6615000367164612, 0.012630072422325611, 0.08762113004922867, 0.22734130918979645, 0.009472554549574852, 0.17294815182685852, 0.08885956555604935, 0.48783305287361145, 0.2504766285419464, 0.9921759963035583, 0.9905774593353271, 0.9872382283210754, 0.53631991147995, 0.1072639748454094, 0.15323425829410553, 0.06129370257258415, 0.06129370257258415, 0.06129370257258415, 0.0043816096149384975, 0.2164953351020813, 0.0998568907380104, 0.1045452132821083, 0.04298359155654907, 0.033957477658987045, 0.008675587363541126, 0.11383422464132309, 0.056216053664684296, 0.003592920023947954, 0.0034176555927842855, 0.0899544507265091, 0.027385061606764793, 0.06265702098608017, 0.0028918625321239233, 0.012925748713314533, 0.006134253926575184, 0.0019279082771390676, 0.02076883055269718, 0.014459311962127686, 0.00911374855786562, 0.015379450283944607, 0.0009201380307786167, 0.015598530881106853, 0.02423030138015747, 0.007667817175388336, 0.9938178062438965, 0.9866970777511597, 0.12385419756174088, 0.1406983733177185, 0.03875260427594185, 0.011890003457665443, 0.008367039263248444, 0.18187300860881805, 0.04855084791779518, 0.0304956566542387, 0.002091759815812111, 0.025541488081216812, 0.06165187060832977, 0.22701099514961243, 0.0014312041457742453, 0.0018715745536610484, 0.016954263672232628, 0.07233085483312607, 0.005724816583096981, 0.0005504630971699953, 0.0006605557282455266, 0.9933906197547913, 0.029368320479989052, 0.13532716035842896, 0.16223733127117157, 0.05886601656675339, 0.00012937586870975792, 0.19574567675590515, 0.019794506952166557, 0.015783855691552162, 0.004140027798712254, 0.08668182790279388, 0.009832565672695637, 0.06378230452537537, 0.002975644776597619, 0.0012937586288899183, 0.026780804619193077, 0.16016732156276703, 0.00012937586870975792, 0.024840164929628372, 0.00181126210372895, 0.0005175034748390317, 0.10092867165803909, 0.38021519780158997, 0.0716896802186966, 0.07266431301832199, 0.07580479979515076, 0.0942145362496376, 0.0009746330906637013, 0.05263018608093262, 0.00010829256643773988, 0.012778522446751595, 0.004223410040140152, 0.01667705550789833, 0.06887407600879669, 0.014836081303656101, 0.018409736454486847, 0.014727788977324963, 0.9983852505683899, 0.9757668375968933, 0.9960724711418152, 0.9994821548461914, 0.8553364872932434, 0.14417603611946106, 0.4558905065059662, 0.14166516065597534, 0.4016357958316803, 0.669459879398346, 0.001362074981443584, 0.07014686614274979, 0.014982825145125389, 0.000681037490721792, 0.049715738743543625, 0.07014686614274979, 0.05448300018906593, 0.015663862228393555, 0.051077812910079956, 0.002724149962887168, 0.8937428593635559, 0.06620317697525024, 0.9914109706878662, 0.886964738368988, 0.10676427185535431, 0.5658284425735474, 0.06328344345092773, 0.2494112253189087, 0.03350299969315529, 0.029780443757772446, 0.052115779370069504, 0.796689510345459, 0.00016583877732045949, 0.04079633951187134, 0.0021559041924774647, 0.15937106311321259, 0.0006633551092818379, 0.0016381331952288747, 0.00040953329880721867, 0.07494459301233292, 0.1425175815820694, 0.23056724667549133, 0.3030546307563782, 0.0495535284280777, 0.0900973230600357, 0.015152731910347939, 0.05774419382214546, 0.0016381331952288747, 0.03276266157627106, 0.995966374874115, 0.40208664536476135, 0.2598547637462616, 0.1793540120124817, 0.008029219694435596, 0.0897812768816948, 0.060584113001823425, 0.00010427558299852535, 0.06984969228506088, 0.15782493352890015, 0.30017682909965515, 0.06852342933416367, 0.011936339549720287, 0.22546419501304626, 0.04244031757116318, 0.12245800346136093, 0.0008841733215376735, 0.20846733450889587, 0.5767768621444702, 0.0025864432100206614, 0.21208834648132324, 0.9968239068984985, 0.3322548568248749, 0.6670953631401062, 0.1446727067232132, 0.09543854743242264, 0.0825619176030159, 0.1312279999256134, 0.007763850037008524, 0.5379779934883118, 0.9897938370704651, 0.28433650732040405, 0.7143087983131409, 0.9988616108894348, 0.9937466382980347, 0.12426489591598511, 0.17301954329013824, 0.04816007986664772, 0.11950834840536118, 0.06124059483408928, 0.06510529667139053, 0.0002972844522446394, 0.021999049931764603, 0.26250216364860535, 0.007432111073285341, 0.1114816665649414, 0.005053835455328226, 0.9992625713348389, 0.9873678088188171, 0.00818086788058281, 0.004405082669109106, 0.9987874627113342, 0.9810745716094971, 0.8655670285224915, 0.1293376088142395, 0.999764084815979, 0.9922419786453247, 0.11571911722421646, 0.8841918706893921, 0.030147112905979156, 0.9698390364646912, 0.9998692870140076, 0.31518471240997314, 0.6838091015815735, 0.4616697132587433, 0.5374568104743958, 0.9858152866363525, 0.9939350485801697, 0.9939295649528503, 0.005350784864276648, 0.9898951649665833, 0.9989633560180664, 0.8889257311820984, 0.11090534925460815, 0.764769971370697, 0.016115842387080193, 0.12453151494264603, 0.021976148709654808, 0.07032367587089539, 0.998411238193512, 0.9733310341835022, 0.9914353489875793, 0.21849724650382996, 0.008065334521234035, 0.5873029828071594, 0.09018510580062866, 0.04399273544549942, 0.013197820633649826, 0.03812703490257263, 0.9972100257873535, 0.41784846782684326, 0.1471630334854126, 0.005910161882638931, 0.427895724773407, 0.36595553159713745, 0.6262997388839722, 0.0024560773745179176, 0.08989156037569046, 0.004225671757012606, 0.003457367653027177, 0.08720249682664871, 0.12677015364170074, 0.011908710934221745, 0.03879934921860695, 0.10064781457185745, 0.0038415195886045694, 0.11101991683244705, 0.041104260832071304, 0.03726274147629738, 0.031116308644413948, 0.00038415196468122303, 0.0007683039293624461, 0.0038415195886045694, 0.05992770567536354, 0.02420157380402088, 0.17786236107349396, 0.04532993212342262, 0.04357711970806122, 0.22451689839363098, 0.07768095284700394, 0.5503979325294495, 0.10325882583856583, 0.8198100328445435, 0.12205608189105988, 0.057637594640254974, 0.44920653104782104, 0.030033687129616737, 0.080685093998909, 0.000162344251293689, 0.05941799655556679, 0.024513982236385345, 0.025975080206990242, 0.013149884529411793, 0.015585048124194145, 0.30098623037338257, 0.9927271604537964, 0.9225795269012451, 0.06962864845991135, 0.20104140043258667, 0.7981343865394592, 0.9949846863746643, 0.9990360140800476, 0.9906705617904663, 0.9895098209381104, 0.17747236788272858, 0.6977338194847107, 0.05713151767849922, 0.0012155642034485936, 0.06564046442508698, 0.24472804367542267, 0.19986122846603394, 0.5526775121688843, 0.08269240707159042, 0.8848087787628174, 0.024807723239064217, 0.9904910922050476, 0.9956983327865601, 0.9904558658599854, 0.7354026436805725, 0.10420685261487961, 0.15928761661052704, 0.9994667768478394, 0.06332319229841232, 0.13782106339931488, 0.1285088211297989, 0.6667559146881104, 0.8476144671440125, 0.07132568210363388, 0.06800820678472519, 0.011611157096922398, 0.1179468035697937, 0.10710112005472183, 0.7727549076080322, 0.556172251701355, 0.18968789279460907, 0.0032582685817033052, 0.02096625044941902, 0.184729665517807, 0.01473304070532322, 0.03031606413424015, 0.675728440284729, 0.2833699882030487, 0.995582103729248, 0.9998082518577576, 0.9984485507011414, 0.9993122816085815, 0.44470933079719543, 0.5551479458808899, 0.0025699876714497805, 0.0218448955565691, 0.017989913001656532, 0.06167970225214958, 0.2390088438987732, 0.08095461130142212, 0.029554856941103935, 0.4189079701900482, 0.09380454570055008, 0.03340983763337135, 0.7257342338562012, 0.09005461633205414, 0.14832524955272675, 0.03178397938609123, 0.853461742401123, 0.11638114601373672, 0.9992205500602722, 0.9968044757843018, 0.9998716115951538, 0.145663321018219, 0.16598843038082123, 0.6876663565635681, 0.9987794756889343, 0.00010316360567230731, 0.05529569461941719, 0.05271660163998604, 0.03817053511738777, 0.0007221452542580664, 0.2437756061553955, 0.0008253088453784585, 0.00216643582098186, 0.06777849048376083, 0.0007221452542580664, 0.19260644912719727, 0.054676711559295654, 0.107496477663517, 0.01867261342704296, 0.020116902887821198, 0.09501367807388306, 0.006911961827427149, 0.03455980867147446, 0.0077372705563902855, 0.11438446491956711, 0.14453230798244476, 0.1126110628247261, 0.020394129678606987, 0.041674960404634476, 0.04344836249947548, 0.4353703260421753, 0.08689672499895096, 0.14632731676101685, 0.8218677043914795, 0.03174911439418793, 0.3131994605064392, 0.0093815503641963, 0.0007216577068902552, 0.6769149303436279, 0.9901873469352722, 0.999666690826416, 0.986589252948761, 0.0007324384641833603, 0.005371215287595987, 0.2023971676826477, 0.39063385128974915, 0.014648769050836563, 0.19067814946174622, 0.0014648769283667207, 0.040039967745542526, 0.042237285524606705, 0.002197315450757742, 0.04931752383708954, 0.005615361500531435, 0.008300969377160072, 0.0026856076437979937, 0.019531693309545517, 0.023926323279738426, 0.14315186440944672, 0.0008623606408946216, 0.0008623606408946216, 0.005174163728952408, 0.006898885127156973, 0.006898885127156973, 0.7062733769416809, 0.12849172949790955, 0.031150460243225098, 0.00017739442409947515, 3.5478882637107745e-05, 0.0004612254851963371, 7.095776527421549e-05, 7.095776527421549e-05, 0.8386144042015076, 0.11420653015375137, 0.014156075194478035, 7.095776527421549e-05, 0.000496704364195466, 0.00039026772719807923, 0.9972513318061829, 0.9930212497711182, 0.15455903112888336, 0.8390347361564636, 0.9998518228530884, 0.9147428274154663, 0.0012740151723846793, 0.07261886447668076, 0.010192121379077435, 0.9919081330299377, 0.9980059862136841, 0.13971327245235443, 0.2122393548488617, 0.041116610169410706, 0.006933660712093115, 0.12653930485248566, 0.40742191672325134, 0.06545376032590866, 0.0005546928732655942, 0.9931474924087524, 0.08956804871559143, 0.27270272374153137, 0.042384881526231766, 0.012795435264706612, 0.24071413278579712, 0.3390790522098541, 0.0023991442285478115, 0.962725043296814, 0.037049807608127594, 0.998913049697876, 0.11579093337059021, 0.8840546011924744, 0.3995574116706848, 0.6002074480056763, 0.22297480702400208, 0.7765673995018005, 0.13667145371437073, 0.8612657785415649, 0.9917563199996948, 0.19415715336799622, 0.03438199684023857, 0.7039881944656372, 0.000674156763125211, 0.00016853919078130275, 0.001348313526250422, 0.06151680648326874, 0.003707862226292491, 0.9972100257873535, 0.9931710958480835, 0.08448980748653412, 0.9143004417419434, 0.003441066946834326, 0.11011414229869843, 0.8843541741371155, 0.9968493580818176, 0.9951910376548767, 0.9990944862365723, 0.9986319541931152, 0.09157814830541611, 0.8539043664932251, 0.05197678506374359, 0.9963444471359253, 0.9988018274307251, 0.999200701713562, 0.9963602423667908, 0.9852303862571716, 0.9643250703811646, 0.15909196436405182, 0.757239580154419, 0.08336801081895828, 0.9264302253723145, 0.07211000472307205, 0.9934846758842468, 0.9941897392272949, 0.15697620809078217, 0.8422163128852844, 0.9535523056983948, 0.045077018439769745, 0.9895475506782532, 0.9968745112419128, 0.21277408301830292, 0.7859938144683838, 0.6909036636352539, 0.18867775797843933, 0.11938156187534332, 0.9985402822494507, 0.00013091173605062068, 0.0011127498000860214, 6.545586802531034e-05, 0.4961555004119873, 0.04398634284734726, 6.545586802531034e-05, 0.14989393949508667, 0.0012436615070328116, 0.15742136538028717, 0.14989393949508667, 0.0079012680798769, 0.6865324378013611, 0.002633756259456277, 0.0983268991112709, 0.20367714762687683, 0.14050406217575073, 0.0864640399813652, 0.49836912751197815, 0.04203113168478012, 0.21495920419692993, 0.016812453046441078, 0.9985013008117676, 0.9983582496643066, 0.10788290202617645, 0.20632922649383545, 0.6856812834739685, 0.9998119473457336, 0.1978139877319336, 0.8018463850021362, 0.9827596545219421, 0.005720780696719885, 0.12967103719711304, 0.5339395403862, 0.1287175714969635, 0.12013640254735947, 0.053393956273794174, 0.02860390394926071, 0.9992552399635315, 0.9993405342102051, 0.03042163886129856, 0.023902716115117073, 0.28465962409973145, 0.008691896684467793, 0.4584975838661194, 0.06301625072956085, 0.019556768238544464, 0.08040004968643188, 0.02824866585433483, 0.9839844107627869, 0.3098633587360382, 0.040713053196668625, 0.0001480474602431059, 0.6492374539375305, 0.9984657168388367, 0.00016214090283028781, 0.00048642270849086344, 0.11706573516130447, 0.11009367555379868, 0.0758819431066513, 0.00308067724108696, 0.08901535719633102, 0.4920976459980011, 0.0022699725814163685, 0.10409446060657501, 0.00016214090283028781, 0.005512790754437447, 0.9958688616752625, 0.992247998714447, 0.10611818730831146, 0.0031442425679415464, 0.1241975799202919, 0.7648369669914246, 0.0007860606419853866, 0.9988829493522644, 0.9968219995498657, 0.9997485876083374, 0.9934836030006409, 0.9920327067375183, 0.9866742491722107, 0.9980403184890747, 0.9975870847702026, 0.9901729226112366, 0.1224106103181839, 0.0006105267093516886, 0.14988431334495544, 0.7268320918083191, 0.9962514638900757, 0.9924106597900391, 0.9983901381492615, 0.7873314619064331, 0.08287699520587921, 0.10359624773263931, 0.0015077617717906833, 0.01658537983894348, 0.13419079780578613, 0.045232854783535004, 0.12564681470394135, 0.3704068064689636, 0.10956402122974396, 0.1970142126083374, 0.999919593334198, 0.9915710091590881, 0.47802308201789856, 0.13808180391788483, 0.008668812923133373, 0.001238401746377349, 0.3483005166053772, 0.0003096004365943372, 0.02538723684847355, 0.12078073620796204, 0.8787236213684082, 0.0858968049287796, 0.12067710608243942, 0.01212040800601244, 0.0005269742687232792, 0.30827996134757996, 0.009485537186264992, 0.03583424910902977, 0.05427835136651993, 0.15124161541461945, 0.026348713785409927, 0.053751375526189804, 0.12067710608243942, 0.0036888199392706156, 0.002107897074893117, 0.0010539485374465585, 0.014228304848074913, 0.07380810379981995, 0.9226012825965881, 0.011212642304599285, 0.9867125153541565, 0.1531095653772354, 0.0003225622931495309, 0.1575179100036621, 0.6891005635261536, 0.9962142109870911, 0.9055458903312683, 0.09353990852832794, 0.15538157522678375, 0.7557564973831177, 0.08785974234342575, 0.15375246107578278, 0.8402751088142395, 0.11036267876625061, 0.0019778257701545954, 0.11590059101581573, 0.17800432443618774, 0.040743209421634674, 0.000791130296420306, 0.3520529866218567, 0.0984957218170166, 0.07753077149391174, 0.020964952185750008, 0.002373390831053257, 0.9974809288978577, 0.9996479153633118, 0.9728479385375977, 0.16512607038021088, 0.7981093525886536, 0.024065958335995674, 0.5064429640769958, 0.0050247604958713055, 0.028297336772084236, 0.0026446108240634203, 0.12350332736968994, 0.03940470144152641, 0.08780108392238617, 0.023537036031484604, 0.022479191422462463, 0.0002644610940478742, 0.06796649843454361, 0.045222844928503036, 0.022479191422462463, 0.0013223054120317101, 0.2806471586227417, 0.7159366607666016, 0.9670839905738831, 0.6642255783081055, 0.055553410202264786, 0.019322924315929413, 0.23791351914405823, 0.02294597402215004, 0.9090562462806702, 0.055094316601753235, 0.9878219962120056, 0.9536955952644348, 0.045067932456731796, 0.9894719123840332, 0.17543545365333557, 0.8203273415565491, 0.0004441404016688466, 0.003553123213350773, 0.9948880076408386, 0.9973855018615723, 0.9954091906547546, 0.003234386444091797, 0.16333651542663574, 0.6873071193695068, 0.003234386444091797, 0.08409404754638672, 0.056601762771606445, 0.7779536843299866, 0.21749243140220642, 0.1286299228668213, 0.8676214218139648, 0.8277556896209717, 0.1675824522972107, 0.13498646020889282, 0.7697876691818237, 0.09485535323619843, 0.9951198101043701, 0.9880338311195374, 0.02604704722762108, 0.0048235272988677025, 0.00048235274152830243, 0.09309408068656921, 0.1314411163330078, 0.01808822713792324, 0.11238818615674973, 0.0706646740436554, 0.18618816137313843, 0.04558233171701431, 0.015194111503660679, 0.06029409170150757, 0.0021705871913582087, 0.02918234094977379, 0.11142347753047943, 0.0788646712899208, 0.013264699839055538, 0.9677786827087402, 0.28211942315101624, 0.0022214127238839865, 0.7130734920501709, 0.9989370107650757, 0.9964696168899536, 0.9907398223876953, 0.7347769737243652, 0.214309960603714, 0.9867369532585144, 0.016951072961091995, 0.1939956247806549, 0.787283182144165, 0.8130927085876465, 0.0972774550318718, 0.03670847415924072, 0.05139186605811119, 0.01011221669614315, 0.01011221669614315, 0.8595384359359741, 0.0505610853433609, 0.06645171344280243, 0.8307862877845764, 0.1684650033712387, 0.15698105096817017, 0.8410727977752686, 0.9734927415847778, 0.9877955317497253, 0.11500836163759232, 0.6848695874214172, 0.19996950030326843, 0.9934320449829102, 0.9935028553009033, 0.9955747723579407, 0.04340079054236412, 0.0821162685751915, 0.0007397861918434501, 0.08088328689336777, 0.08556859940290451, 0.2687889635562897, 0.008630838245153427, 0.025645921006798744, 0.09765177220106125, 0.30577829480171204, 0.0007397861918434501, 0.9632019400596619, 0.036304961889982224, 0.9996821880340576, 0.9970677495002747, 0.9929696321487427, 0.9497811198234558, 0.029224034398794174, 0.8281142711639404, 0.16562286019325256, 0.9874825477600098, 0.9940516948699951, 0.08661166578531265, 0.8661166429519653, 0.00046816543908789754, 0.1301499903202057, 0.041666723787784576, 0.12031851708889008, 0.0351124070584774, 0.05758434906601906, 0.014981294050812721, 0.07209748029708862, 0.09129226207733154, 0.0032771581318229437, 0.00046816543908789754, 0.07771546393632889, 0.0032771581318229437, 0.007958812639117241, 0.006086150649935007, 0.24297785758972168, 0.010767805390059948, 0.032771579921245575, 0.051030032336711884, 0.9943566918373108, 0.991356611251831, 0.9921256303787231, 0.99229896068573, 0.26214367151260376, 0.7340022325515747, 0.8801400065422058, 0.0399991050362587, 7.983852992765605e-05, 0.07943934202194214, 0.0003193541197106242, 0.07628947496414185, 0.010721763595938683, 0.017732147127389908, 0.09360924363136292, 0.018556898459792137, 0.0663924589753151, 0.026392033323645592, 0.006185633130371571, 0.4466027021408081, 0.00824751053005457, 0.172372967004776, 0.005773257464170456, 0.03876329958438873, 0.009897013194859028, 0.0020618776325136423, 0.8596259355545044, 0.0921027809381485, 0.9145277142524719, 0.0692824050784111, 0.9956290125846863, 0.9994255900382996, 0.9985318779945374, 0.876041054725647, 0.00024558621225878596, 0.09514711052179337, 0.026768894866108894, 0.0004911724245175719, 7.016748713795096e-05, 0.000736758578568697, 0.0004911724245175719, 0.00046075473073869944, 0.8436419367790222, 0.1557351052761078, 0.002577001228928566, 0.13529255986213684, 0.023193011060357094, 0.6957902908325195, 0.14044655859470367, 0.001288500614464283, 0.5119099617004395, 0.3965197205543518, 0.09145376086235046, 0.9960919618606567, 0.015671806409955025, 0.27089837193489075, 0.0738813728094101, 0.043657172471284866, 0.5944092273712158, 0.9989710450172424, 0.9953570365905762, 0.9982754588127136, 0.0010994223412126303, 0.9993449449539185, 0.9939212799072266, 0.9980654716491699, 0.9892882108688354, 0.9993048906326294, 0.9907317161560059, 0.8802040815353394, 0.0013774712570011616, 0.0025581608060747385, 0.005313103087246418, 0.00334528717212379, 0.09878436475992203, 0.00826482754200697, 0.055437203496694565, 0.26535943150520325, 0.2675769031047821, 0.22137923538684845, 0.02845776453614235, 0.07945999503135681, 0.06726380437612534, 0.0014783254591748118, 0.012935347855091095, 0.1744055449962616, 0.15170185267925262, 0.16408568620681763, 0.004127941560000181, 0.022703679278492928, 0.0010319853900000453, 0.4809052050113678, 0.997529923915863, 0.19806347787380219, 0.8004496693611145, 0.9954659342765808, 0.18520483374595642, 0.810271143913269, 0.9956708550453186, 0.9354828000068665, 0.046774137765169144, 0.9946942329406738, 0.002416311064735055, 0.0974578782916069, 0.05114525184035301, 0.002013592515140772, 0.6077022552490234, 0.1244400218129158, 0.0914171040058136, 0.004429903347045183, 0.018525050953030586, 0.9969820976257324, 0.996462345123291, 0.5982190370559692, 0.21463027596473694, 0.003729410469532013, 0.09410005062818527, 0.002270075958222151, 0.00021619770268443972, 0.0012431368231773376, 0.06821037828922272, 0.01729581691324711, 0.9973905682563782, 0.0024926974438130856, 0.25145167112350464, 0.08010850101709366, 0.015354128554463387, 0.15576651692390442, 0.000890094437636435, 0.08767429739236832, 0.0011126180179417133, 0.2227461338043213, 0.08455897122621536, 0.0627516582608223, 0.0004450472188182175, 0.00022252360940910876, 0.0362713485956192, 0.986105740070343, 0.14921292662620544, 0.08455398678779602, 0.0002763202355708927, 0.0900803953409195, 0.18126606941223145, 0.046421799808740616, 0.30339962244033813, 0.11605449765920639, 0.028184663504362106, 0.07763787358999252, 0.09037533402442932, 0.06065458804368973, 0.05094985291361809, 0.0006065458874218166, 0.03214693069458008, 0.2219957858324051, 0.3317805826663971, 0.0036392752081155777, 0.12494844943284988, 0.0054589128121733665, 0.4226672947406769, 0.43143442273139954, 0.056294117122888565, 0.08628688007593155, 0.0032299901358783245, 0.9956406950950623, 0.3273991048336029, 0.0655938982963562, 0.04962320998311043, 0.012548397295176983, 0.04163786396384239, 0.3273991048336029, 0.0861276388168335, 0.0427786260843277, 0.04620091989636421, 0.08451491594314575, 0.0623532272875309, 0.1611417680978775, 0.6070048809051514, 0.05070894956588745, 0.0338059663772583, 0.05194449797272682, 0.03615337237715721, 0.06441117823123932, 0.5368983745574951, 0.18035130202770233, 0.0195311326533556, 0.10513566434383392, 0.002493336098268628, 0.002493336098268628, 0.00041555598727427423, 0.10653510689735413, 0.7856963872909546, 0.10760045796632767, 0.991133987903595, 0.9939852356910706, 0.061204805970191956, 0.1600741147994995, 0.00016234697250183672, 0.18475085496902466, 0.4438565969467163, 0.14757339656352997, 0.00016234697250183672, 0.00016234697250183672, 0.0012987757800146937, 0.00016234697250183672, 0.0006493878900073469, 2.7289706849842332e-05, 0.9620713591575623, 0.03695026412606239, 8.186912600649521e-05, 2.7289706849842332e-05, 0.0007095324108377099, 0.00010915882739936933, 2.7289706849842332e-05, 0.0012769218301400542, 0.9110836982727051, 0.0012769218301400542, 0.0006384609150700271, 0.012769218534231186, 0.07278454303741455, 0.06621403247117996, 0.9297553896903992, 0.07061444967985153, 0.30693212151527405, 0.09508877992630005, 0.02327067032456398, 0.0010030461708083749, 0.1775391697883606, 0.041726719588041306, 0.2623968720436096, 0.021063968539237976, 0.9958066344261169, 0.9971925020217896, 0.8677565455436707, 0.04567139595746994, 0.06850709766149521, 0.9983007907867432, 0.27960216999053955, 0.046022042632102966, 0.06647627800703049, 0.0032872885931283236, 0.204359769821167, 0.029402971267700195, 0.0074877128936350346, 0.06355424970388412, 0.019175849854946136, 0.0031046615913510323, 0.03342076763510704, 0.0869305208325386, 0.059353820979595184, 0.09788814932107925, 0.9481244683265686, 0.05109652876853943, 0.9240812659263611, 0.0642409399151802, 0.004941611085087061, 0.04807697609066963, 0.9455138444900513, 0.153309166431427, 0.8460394740104675, 0.01951187662780285, 0.014959105290472507, 0.10406333953142166, 0.3287751078605652, 0.07642151415348053, 0.007804750464856625, 0.015934698283672333, 0.004227573052048683, 0.027641823515295982, 0.022113459184765816, 0.10991690307855606, 0.0312190018594265, 0.011381927877664566, 0.0006503958720713854, 0.020812667906284332, 0.0487796887755394, 0.05105607584118843, 0.0006503958720713854, 0.0653647854924202, 0.0029267813079059124, 0.03544657304883003, 0.15529893338680267, 0.7048897743225098, 0.035337481647729874, 0.10415257513523102, 0.9954096674919128, 0.9936180114746094, 0.8876277804374695, 0.11188585311174393, 0.999628484249115, 0.12015023082494736, 0.8782203793525696, 0.9987826943397522, 0.2521213889122009, 0.01142655499279499, 0.049392204731702805, 0.02617049589753151, 0.1323268711566925, 0.0036859854590147734, 0.07740569114685059, 0.10025880485773087, 0.2830836772918701, 0.00036859852843917906, 0.012163751758635044, 0.03317386656999588, 0.017692729830741882, 0.008399019949138165, 0.8888962268829346, 0.10218807309865952, 0.14483779668807983, 0.8426926136016846, 0.08289926499128342, 0.14211302995681763, 0.004876427352428436, 0.023685503751039505, 0.1908772885799408, 0.04110131412744522, 0.0027865299489349127, 0.4583841562271118, 0.052247434854507446, 0.9994891881942749, 0.32989633083343506, 0.03238246217370033, 0.016191231086850166, 0.05666930973529816, 0.4513305723667145, 0.06476492434740067, 0.008095615543425083, 0.03845417499542236, 0.9991108775138855, 0.9997243881225586, 0.9943790435791016, 0.7974451184272766, 0.19609305262565613, 0.0063945637084543705, 0.02749662473797798, 0.08206357061862946, 0.16043250262737274, 0.2683585286140442, 0.05151176452636719, 0.11389428377151489, 0.0014920649118721485, 0.0009947099024429917, 0.017478473484516144, 0.006962969433516264, 0.037585824728012085, 0.04028575122356415, 0.10295247286558151, 0.03488589823246002, 0.029059739783406258, 0.009307642467319965, 0.008668186143040657, 0.9941569566726685, 0.9836502075195312, 0.0002989704080391675, 0.07115495949983597, 0.04080946370959282, 0.05082497000694275, 0.08475811779499054, 0.013453668914735317, 0.060392025858163834, 0.004634041339159012, 0.12467066198587418, 0.10882523655891418, 0.021376384422183037, 0.12556757032871246, 0.004335070960223675, 0.05800026282668114, 0.00553095294162631, 0.022721752524375916, 0.03752078860998154, 0.0677167996764183, 0.026608366519212723, 0.05979408323764801, 0.00239176326431334, 0.006726834457367659, 0.0016443373169749975, 0.9967536926269531, 0.9070358276367188, 0.08829552680253983, 0.9970101714134216, 0.0976678654551506, 0.7894818782806396, 0.008138989098370075, 0.0895288735628128, 0.33248692750930786, 0.6165997385978699, 0.050690632313489914, 0.1985216587781906, 0.26587551832199097, 0.5354822874069214, 0.9887495040893555, 0.3480012118816376, 0.026239892467856407, 0.6254557967185974, 0.20668849349021912, 0.1715874969959259, 0.43696048855781555, 0.11368650943040848, 0.07098551094532013, 0.9974925518035889, 0.9939091205596924, 0.24111799895763397, 0.7233539819717407, 0.026790888980031013, 0.024461524561047554, 0.9703071713447571, 0.993277370929718, 0.9901719093322754, 0.6623544692993164, 0.11529301106929779, 0.15166060626506805, 0.07041385024785995, 0.0027860950212925673, 0.0013930475106462836, 0.14069780707359314, 0.7466734647750854, 0.02786095067858696, 0.0780106633901596, 0.0025228536687791348, 0.9309329986572266, 0.003363804891705513, 0.062230389565229416, 0.9819738268852234, 0.9996258020401001, 0.7323732972145081, 0.18403226137161255, 0.08262673020362854, 0.10334939509630203, 0.10610537976026535, 0.651790201663971, 0.1377991884946823, 0.9964931607246399, 0.9900208711624146, 0.9954500794410706, 0.9995951652526855, 0.9845702052116394, 0.998007595539093, 0.9199860692024231, 0.0749618336558342, 0.9968606233596802, 0.20107530057430267, 0.06565724313259125, 0.037518423050642014, 0.498291552066803, 0.0891062542796135, 0.10786546766757965, 0.045378826558589935, 0.1333003044128418, 0.0170170608907938, 0.7998018264770508, 0.1399570256471634, 0.7554822564125061, 0.10425370186567307, 0.9846493005752563, 0.9955465197563171, 0.0016347233904525638, 0.9992634057998657, 0.12091556191444397, 0.8766378164291382, 0.9841409921646118, 0.007512526586651802, 0.12710438668727875, 0.870759904384613, 0.9974836111068726, 0.0016532333102077246, 0.997726321220398, 0.9993810653686523, 0.9940195083618164, 0.9889565110206604, 0.9993870854377747, 0.998141348361969, 0.9934311509132385, 0.9934975504875183, 0.9955019950866699, 0.9969358444213867, 0.9914624691009521, 0.005446198396384716, 0.09530847519636154, 0.05926745384931564, 0.1175738126039505, 0.03796320781111717, 0.005606380756944418, 0.027871722355484962, 0.018581148236989975, 0.002082369988784194, 0.05253979563713074, 0.04212794825434685, 0.24171510338783264, 0.000961093872319907, 0.014096043072640896, 0.2788774073123932, 0.43201494216918945, 0.12501530349254608, 0.31016457080841064, 0.13213643431663513, 0.8525708913803101, 0.13116474449634552, 0.9999120831489563, 0.9980745315551758, 0.9915369153022766, 0.0797654390335083, 0.06807207316160202, 0.2432447224855423, 0.16795921325683594, 0.002050135051831603, 0.024411793798208237, 0.018337318673729897, 0.09821665287017822, 0.054518405348062515, 3.796546297962777e-05, 0.005011441186070442, 0.060592878609895706, 0.00037965463707223535, 0.10360775142908096, 0.010820156894624233, 3.796546297962777e-05, 0.029840854927897453, 0.002088100416585803, 0.012186913751065731, 0.001176929334178567, 0.0003037237038370222, 0.003416891675442457, 0.013477739877998829, 0.0004935510223731399, 0.1540253907442093, 0.06014006584882736, 0.06181062385439873, 0.0026728918310254812, 0.0798526480793953, 0.003007003339007497, 0.059471845626831055, 0.12796470522880554, 0.4139641225337982, 0.03675226494669914, 0.9995891451835632, 0.0003759267274290323, 0.9978826642036438, 0.9961880445480347, 0.9993981719017029, 0.8489046096801758, 0.1466289758682251, 0.9941712021827698, 0.9789966940879822, 0.009789966978132725, 0.597014307975769, 0.00015064705803524703, 0.27719059586524963, 0.1256396472454071, 0.9960311651229858, 0.0036802012473344803, 0.0001533417234895751, 7.667086174478754e-05, 0.12147093564271927, 0.21864768862724304, 0.17916962504386902, 0.4798102080821991, 0.9688180088996887, 0.980440616607666, 0.9972018599510193, 0.9991217255592346, 0.9881964921951294, 0.03003677725791931, 0.22937175631523132, 0.7181520462036133, 0.019114313647150993, 0.004144323989748955, 0.20721620321273804, 0.10360810160636902, 0.6589475274085999, 0.02486594393849373, 0.0575224943459034, 0.9412772059440613, 0.1780763417482376, 0.13657550513744354, 0.03923716023564339, 0.0015091216191649437, 0.21907415986061096, 0.10915979743003845, 0.31616097688674927, 0.0002761759969871491, 0.04197875037789345, 0.0038664638996124268, 0.9539118409156799, 0.14331021904945374, 0.04001253843307495, 0.026538928970694542, 0.02980525977909565, 0.04817836359143257, 0.08206653594970703, 0.11881274729967117, 0.00040829123463481665, 0.09839818626642227, 0.0008165824692696333, 0.3919595777988434, 0.003674620995298028, 0.01020728051662445, 0.005307785701006651, 0.00040829123463481665, 0.8345591425895691, 0.1651986539363861, 0.99651038646698, 0.3061850368976593, 0.6937339305877686, 0.007699635345488787, 0.6660184264183044, 0.004812272265553474, 0.004812272265553474, 0.10875734686851501, 0.04138553887605667, 0.16554215550422668, 0.1928829699754715, 0.5521883964538574, 0.17338576912879944, 0.08077409118413925, 0.25753462314605713, 0.7419590353965759, 0.0575886033475399, 0.9367746114730835, 0.9006107449531555, 0.09830260276794434, 0.9988938570022583, 0.0009073702385649085, 0.4178439974784851, 0.078941211104393, 0.25224894285202026, 0.05444221571087837, 0.16015085577964783, 0.035387441515922546, 0.9656819701194763, 0.7831379175186157, 0.20608891546726227, 0.8058081269264221, 0.18393446505069733, 0.9894105792045593, 0.10214918106794357, 0.015456783585250378, 0.06854747980833054, 0.08534833043813705, 0.10147714614868164, 0.40994077920913696, 0.04905848950147629, 0.13104665279388428, 0.024193227291107178, 0.010752545669674873, 0.0020007765851914883, 0.009336957708001137, 0.011337734758853912, 0.036680907011032104, 0.000333462783601135, 0.0350135900080204, 0.014672362245619297, 0.06635909527540207, 0.10937578976154327, 0.04068245738744736, 0.20574653148651123, 0.02734394744038582, 0.2244204431772232, 0.015672750771045685, 0.13872051239013672, 0.029344724491238594, 0.03101203776896, 0.0016673138597980142, 0.9968773126602173, 0.9160640239715576, 0.08020836859941483, 0.9906660914421082, 0.8640698790550232, 0.13422444462776184, 0.8207128643989563, 0.177973672747612, 0.9990267753601074, 0.3740290701389313, 0.18318675458431244, 0.44183552265167236, 0.7433435320854187, 0.11684104055166245, 0.0025127106346189976, 0.13694272935390472, 0.9811903238296509, 0.006686037871986628, 0.9906479716300964, 0.0022286793682724237, 0.10412880778312683, 0.7699766755104065, 0.12574724853038788, 0.9704381227493286, 0.022394726052880287, 0.9975164532661438, 0.09391473978757858, 0.14849160611629486, 0.26827719807624817, 0.03154117614030838, 0.019491739571094513, 0.028706016018986702, 0.06343674659729004, 0.0007087904959917068, 0.12403833866119385, 0.019846133887767792, 0.20094209909439087, 0.0007087904959917068, 0.9985864162445068, 0.998100757598877, 0.9954166412353516, 0.9942781925201416, 0.9993296265602112, 0.07291366904973984, 0.9166290163993835, 0.997730016708374, 0.9966937899589539, 0.9976935386657715, 0.995935320854187, 0.042478084564208984, 0.07232965528964996, 0.053078118711709976, 0.011769156903028488, 0.3225996196269989, 0.0004676486423704773, 0.002104418817907572, 7.794144039507955e-05, 0.13896958529949188, 0.06282079964876175, 0.015588288195431232, 0.019485360011458397, 0.012860337272286415, 0.0008573558297939599, 0.13242250680923462, 0.0025720675475895405, 0.06663993000984192, 0.0007794143748469651, 7.794144039507955e-05, 0.029539804905653, 0.012470629997551441, 0.5114430785179138, 0.2983418107032776, 0.17048104107379913, 0.7922320365905762, 0.20738530158996582, 0.9999322295188904, 0.1890074759721756, 0.8107801675796509, 0.10648158937692642, 0.010222232900559902, 0.04088893160223961, 0.17633351683616638, 0.06388895213603973, 0.06985192000865936, 0.32029661536216736, 0.027259286493062973, 0.07411118596792221, 0.025555580854415894, 0.0017037054058164358, 0.08262971043586731, 0.054042998701334, 0.0886053815484047, 0.8571470975875854, 0.9966734051704407, 0.988739550113678, 0.9950945973396301, 0.9960452914237976, 0.0022657858207821846, 0.99751216173172, 0.9992192983627319, 0.9991102814674377, 0.9997573494911194, 0.9952818751335144, 0.9931836128234863, 0.9981085658073425, 0.7187754511833191, 0.12383875250816345, 0.15703265368938446, 0.03223246708512306, 0.7045096158981323, 0.142743781208992, 0.11511595547199249, 0.994696319103241, 0.0038628983311355114, 0.33298763632774353, 0.666785478591919, 0.7937459945678711, 0.203836128115654, 0.9966036081314087, 0.9983647465705872, 0.32265254855155945, 0.6765655875205994, 0.9996671676635742, 0.9993148446083069, 0.14445115625858307, 0.26687607169151306, 0.06095634028315544, 0.39442339539527893, 0.08912944048643112, 0.04456472024321556, 0.8079187870025635, 0.04222174733877182, 0.14891724288463593, 0.0008558462141081691, 0.11631172895431519, 0.8801968693733215, 0.9981772303581238, 0.9940373301506042, 0.9994881749153137, 0.9981444478034973, 0.9987419247627258, 0.3660251200199127, 0.6332694292068481, 0.9986801147460938, 0.01854403130710125, 0.01180074643343687, 0.5799224376678467, 0.2410724014043808, 0.08091940730810165, 0.06827574968338013, 0.8387898802757263, 0.16017092764377594, 0.8003976941108704, 0.19827480614185333, 0.28554394841194153, 0.7138598561286926, 0.9958799481391907, 0.9992095828056335, 0.012906149961054325, 0.12648026645183563, 0.06840259581804276, 0.7917923331260681, 0.8890901207923889, 0.10616001486778259, 0.9769642353057861, 0.9931958913803101, 0.19701364636421204, 0.0017057459335774183, 0.08912522345781326, 0.0002132182416971773, 0.0004264364833943546, 0.0739867314696312, 0.10916773974895477, 0.5277151465415955, 0.0004264364833943546, 0.9993790984153748, 0.9968470335006714, 0.9925856590270996, 0.9905625581741333, 0.9754931926727295, 0.05926854535937309, 0.9371838569641113, 0.10650115460157394, 0.002441287273541093, 0.0009154826984740794, 0.0009154826984740794, 0.0015258045168593526, 0.8504834771156311, 0.03539866581559181, 0.0015258045168593526, 0.07926356047391891, 0.5119104981422424, 0.06242005527019501, 0.046567343175411224, 0.00033026482560671866, 0.07463985681533813, 0.0013210593024268746, 0.05482396483421326, 0.09445574134588242, 0.03500807285308838, 0.004293442703783512, 0.03500807285308838, 0.9551253318786621, 0.04391380771994591, 0.9974391460418701, 0.21151740849018097, 0.1777646243572235, 0.48153963685035706, 0.09788305312395096, 0.030377499759197235, 0.9966849684715271, 0.9994913935661316, 0.9956449866294861, 0.3201563358306885, 0.6795318126678467, 0.9734145402908325, 0.9978660345077515, 0.678923487663269, 0.07614094763994217, 0.09834872931241989, 0.0793134868144989, 0.0650370642542839, 0.21337053179740906, 0.7831401824951172, 0.9955310225486755, 0.9951934218406677, 0.1455402970314026, 0.005707462318241596, 0.8447044491767883, 0.9240168333053589, 0.07040128111839294, 0.9663184881210327, 0.7835050821304321, 0.1665719449520111, 0.04318531975150108, 0.026112183928489685, 0.17389602959156036, 0.018056297674775124, 0.020834188908338547, 0.037223752588033676, 0.21028642356395721, 0.02972344309091568, 0.028056709095835686, 0.034445859491825104, 0.08694801479578018, 0.01750071905553341, 0.0002777891932055354, 0.0011111567728221416, 0.0008333675796166062, 0.023056503385305405, 0.130005344748497, 0.0266677625477314, 0.04111279919743538, 0.040557220578193665, 0.04722416400909424, 0.0058335731737315655, 0.38374850153923035, 0.0017932172631844878, 0.6132802963256836, 0.9892269968986511, 0.9939826726913452, 0.9998602271080017, 0.9892439842224121, 0.9998833537101746, 0.9988227486610413, 0.7487480640411377, 0.24993421137332916, 0.24211667478084564, 0.7573906183242798, 0.9978516101837158, 0.1134229525923729, 0.018671592697501183, 0.8678110241889954, 0.9973709583282471, 0.9986034035682678, 0.9956391453742981, 0.9873434901237488, 0.9802666902542114, 0.9894197583198547, 0.008076895959675312, 0.0023094809148460627, 0.04388013854622841, 0.12702146172523499, 0.8175562620162964, 0.004618961829692125, 0.9943146109580994, 0.003739717649295926, 0.11219152808189392, 0.050486188381910324, 0.7297123670578003, 0.04908379167318344, 0.05375843867659569, 0.00046746470616199076, 0.9991126656532288, 0.997525155544281, 0.9050247669219971, 0.09479108452796936, 0.0003965114592574537, 0.8287090063095093, 0.001189534435980022, 0.007137206383049488, 0.07494066655635834, 0.07137206196784973, 0.016653481870889664, 0.811042070388794, 0.18802446126937866, 0.020363660529255867, 0.9785274863243103, 0.7419701218605042, 0.25523772835731506, 0.14516432583332062, 0.04717840254306793, 0.0004269538912922144, 0.12146838009357452, 0.018572494387626648, 0.07941342145204544, 0.0023482462856918573, 0.030954156070947647, 0.25104889273643494, 0.07002043724060059, 0.022628555074334145, 0.0002134769456461072, 0.04760535806417465, 0.10972714424133301, 0.021347694098949432, 0.0038425850216299295, 0.02689809538424015, 0.0012808616738766432, 0.04045630618929863, 0.03784622251987457, 0.07503992319107056, 0.07960756868124008, 0.0241432785987854, 0.2714487612247467, 0.05318046733736992, 0.0848277360200882, 0.057748112827539444, 0.03915126249194145, 0.1872735470533371, 0.017944328486919403, 0.026100842282176018, 0.005546429194509983, 0.9805091023445129, 0.015599008649587631, 0.9987469911575317, 0.9958611726760864, 0.9895094037055969, 0.9434686899185181, 0.05432092398405075, 0.882352888584137, 0.10084033012390137, 0.28515127301216125, 0.7140420079231262, 0.9129551649093628, 0.0849260613322258, 0.9985594153404236, 0.01834067888557911, 0.9812263250350952, 0.9950764775276184, 0.9973160624504089, 0.9955465197563171, 0.9990957975387573, 0.9920738339424133, 0.16771002113819122, 0.8306887149810791, 0.9903160333633423, 0.29731661081314087, 0.08631772547960281, 0.0013701225398108363, 0.6138149499893188, 0.8388082385063171, 0.15406681597232819, 0.065207839012146, 0.10197190195322037, 0.0503087192773819, 0.29972386360168457, 0.0007739802822470665, 0.07952647656202316, 0.10274588316679001, 0.019156012684106827, 0.001547960564494133, 0.03753804415464401, 0.12016043812036514, 0.008320287801325321, 0.001547960564494133, 0.02554134838283062, 0.04643881693482399, 0.018769022077322006, 0.008320287801325321, 0.011803199537098408, 0.00038699014112353325, 0.0005804852116852999, 0.9886934757232666, 0.9745627045631409, 0.02030338905751705, 0.994453489780426, 0.9776012897491455, 0.9996224641799927, 0.9931493997573853, 0.9968891739845276, 0.9949119091033936, 0.08918674290180206, 0.16678623855113983, 0.15625236928462982, 0.3987068831920624, 0.07584384828805923, 0.06724119186401367, 0.045822326093912125, 0.9972439408302307, 0.0008267477387562394, 0.0008267477387562394, 0.07275380194187164, 0.8796595931053162, 0.030589666217565536, 0.014054710976779461, 0.9995021820068359, 0.9967911243438721, 0.5679119825363159, 0.10608669370412827, 0.01064962986856699, 0.02846727892756462, 0.12636195123195648, 0.0036864103749394417, 0.004300812259316444, 0.0581633634865284, 0.00122880341950804, 0.00573441619053483, 0.08724504709243774, 0.00020480056991800666, 0.9921761751174927, 0.29641637206077576, 0.7025384902954102, 0.724516749382019, 0.08285228163003922, 0.09871761500835419, 0.09166635572910309, 0.5111137628555298, 0.0003454249235801399, 0.15866518020629883, 0.0003454249235801399, 0.03028225153684616, 0.1681067943572998, 0.12147443741559982, 0.007253923453390598, 0.002417974406853318, 0.012029692530632019, 0.10746525228023529, 0.08741576224565506, 0.13352958858013153, 0.09904446452856064, 0.026465322822332382, 0.012831672094762325, 0.22054436802864075, 0.05092569813132286, 0.002405938459560275, 0.014435631223022938, 0.00040098975296132267, 0.010826723650097847, 0.0016039590118452907, 0.21934139728546143, 0.006541904527693987, 0.40370818972587585, 0.039396800100803375, 0.04303119331598282, 0.08519013226032257, 0.020061839371919632, 0.14537565410137177, 0.051753733307123184, 0.046665582805871964, 0.024859236553311348, 0.07472308725118637, 0.053062114864587784, 0.005669650621712208, 0.9974497556686401, 0.9758897423744202, 0.9908407926559448, 0.593676745891571, 0.1357680708169937, 0.04443318769335747, 0.008639786392450333, 0.09874042123556137, 0.040730420500040054, 0.07775808125734329, 0.9999484419822693, 0.9964513778686523, 0.9538358449935913, 0.0353272520005703, 0.0033259771298617125, 0.9961301684379578, 0.9945847988128662, 0.20546893775463104, 0.13223770260810852, 0.05663566663861275, 0.0529477633535862, 0.23023056983947754, 0.1757022738456726, 0.03582535311579704, 0.0002634217089507729, 0.1106371209025383, 0.9742401242256165, 0.9960764646530151, 0.1435554176568985, 0.039753809571266174, 0.814953088760376, 0.9952253699302673, 0.9916514158248901, 0.3470717668533325, 0.6523028612136841, 0.9348361492156982, 0.059489574283361435, 0.038128431886434555, 0.034825969487428665, 0.007505597081035376, 0.10267656296491623, 0.05974455177783966, 0.08436290919780731, 0.056742314249277115, 0.0465347021818161, 0.17352940142154694, 0.0033024626318365335, 0.027020148932933807, 0.0003002238809131086, 0.001501119346357882, 0.008706492371857166, 0.014710970222949982, 0.19664664566516876, 0.024017909541726112, 0.07055260986089706, 0.03692753612995148, 0.0003002238809131086, 0.011408507823944092, 0.9974979162216187, 0.33941128849983215, 0.6424570679664612, 0.14999639987945557, 0.1040923222899437, 0.5233710408210754, 0.22143864631652832, 0.0006465361802838743, 0.837225079536438, 0.15972782671451569, 0.0017946948064491153, 0.00020052463514730334, 0.5580600500106812, 0.23120489716529846, 0.027271350845694542, 0.12071582674980164, 0.0625636875629425, 0.9969581365585327, 0.9993765950202942, 0.9055477380752563, 0.04743792489171028, 0.046498559415340424, 0.82285475730896, 0.08368014544248581, 0.06973344832658768, 0.9900550842285156, 0.23696553707122803, 0.532261073589325, 0.22724387049674988, 0.0024304157122969627, 0.9942402243614197, 0.08811183273792267, 0.9114176034927368, 0.8083467483520508, 0.18861424922943115, 0.18313294649124146, 0.8131102919578552, 0.08046773821115494, 0.9147911667823792, 0.0028234294150024652, 0.1596742421388626, 0.048576951026916504, 0.056223321706056595, 0.0035982925910502672, 0.06386969238519669, 0.043629299849271774, 0.1322372555732727, 0.05442417785525322, 0.05037609860301018, 0.0049476525746285915, 0.023388901725411415, 0.04048079252243042, 0.02024039626121521, 0.0049476525746285915, 0.25322985649108887, 0.023388901725411415, 0.016642102971673012, 0.9969541430473328, 0.9319766759872437, 0.06375084817409515, 0.9976482391357422, 0.9758598804473877, 0.9952021837234497, 0.9922864437103271, 0.21865364909172058, 0.7807535529136658, 0.0776377022266388, 0.07816227525472641, 0.03934342786669731, 0.08708012104034424, 0.00052457902347669, 0.12012860178947449, 0.2135036736726761, 0.25861746072769165, 0.124325230717659, 0.03555590659379959, 0.9625491499900818, 0.008846820332109928, 0.9886321425437927, 0.9993420243263245, 0.994069516658783, 0.9878095984458923, 0.11271535605192184, 0.0761360377073288, 0.30922287702560425, 0.0017013639444485307, 0.10080581158399582, 0.005954773630946875, 0.0017013639444485307, 0.00042534098611213267, 0.03615398332476616, 0.04083273187279701, 0.06550250947475433, 0.18544866144657135, 0.03317659720778465, 0.020416365936398506, 0.009782842360436916, 0.9972002506256104, 0.6272361874580383, 0.11758007109165192, 0.08123713731765747, 0.0466044619679451, 0.12698647379875183, 0.9960232973098755, 0.9967724680900574, 0.0067129675298929214, 0.11098773032426834, 0.00850309245288372, 0.6229633688926697, 0.25061744451522827, 0.992734432220459, 0.03387037664651871, 0.965305745601654, 0.9929223656654358, 0.9932073354721069, 0.9856561422348022, 0.9996160864830017, 0.9952079653739929, 0.847408652305603, 0.1495427042245865, 0.9987362027168274, 0.8566569685935974, 0.07416943460702896, 0.06675249338150024, 0.9870593547821045, 0.993914783000946, 0.997988224029541, 0.000769409176427871, 0.24197918176651, 0.04962689056992531, 0.5566675066947937, 0.15041948854923248, 0.00752263655886054, 0.9904804825782776, 0.9971826672554016, 0.98800128698349, 0.9955143332481384, 0.11989281326532364, 0.8792139291763306, 0.8323014378547668, 0.15287168323993683, 0.831896185874939, 0.11323031038045883, 0.01848658174276352, 0.034662339836359024, 0.9687797427177429, 0.9871454834938049, 0.24227294325828552, 0.06377172470092773, 0.5641115307807922, 0.10042556375265121, 0.028905874118208885, 0.19552385807037354, 0.0007313860114663839, 0.5506117343902588, 0.0632648915052414, 0.016456184908747673, 0.03973864018917084, 0.13311225175857544, 0.0004875906743109226, 0.11786580085754395, 0.003411456011235714, 0.00017057279183063656, 0.0013645823346450925, 0.8770853281021118, 0.9993246793746948, 0.996071994304657, 0.9971117377281189, 0.9972158670425415, 0.11426250636577606, 0.6885048747062683, 0.10107837617397308, 0.09521875530481339, 0.15605641901493073, 0.10219178348779678, 0.057388488203287125, 0.0010068155825138092, 0.14145758748054504, 0.11779742687940598, 0.03725217655301094, 0.3347661793231964, 0.005537485703825951, 0.0010068155825138092, 0.04581011086702347, 0.9941274523735046, 0.8556912541389465, 0.020373601466417313, 0.049478743225336075, 0.06985234469175339, 0.9794537425041199, 0.8102723956108093, 0.16682079434394836, 0.99982750415802, 0.9994378089904785, 0.9975660443305969, 0.9978994131088257, 0.9983641505241394, 0.18990543484687805, 0.8089971542358398, 0.03688998147845268, 0.004611247684806585, 0.059946224093437195, 0.06455747038125992, 0.7424108982086182, 0.025361863896250725, 0.06455747038125992, 0.9752485752105713, 0.9987121224403381, 0.9975662231445312, 0.8707440495491028, 0.06371297687292099, 0.042475320398807526, 0.9993470311164856, 0.9862362146377563, 0.005801389459520578, 0.9994469881057739, 0.9993234872817993, 0.9985238909721375, 0.8788167238235474, 0.06591125577688217, 0.051264308393001556, 0.2666863799095154, 0.7298784852027893, 0.9993542432785034, 0.9978373646736145, 0.9905856847763062, 0.0045232223346829414, 0.014045785181224346, 0.06629610061645508, 0.03989002853631973, 0.150570809841156, 0.018540436401963234, 0.1471998244524002, 0.014607615768909454, 0.04157552123069763, 0.010112964548170567, 0.4224972128868103, 0.07135258615016937, 0.002809156896546483, 0.8142009973526001, 0.09644804894924164, 0.010467230342328548, 0.07850422710180283, 0.01961723528802395, 0.06539078801870346, 0.693142294883728, 0.004359385464340448, 0.01961723528802395, 0.11770341545343399, 0.07628925144672394, 0.9914695620536804, 0.9964877367019653, 0.9984838366508484, 0.13725990056991577, 0.8625463247299194, 0.16368001699447632, 0.6097080707550049, 0.040335431694984436, 0.1858937293291092, 0.9970825910568237, 0.9837809205055237, 0.02937566675245762, 0.09716566652059555, 0.1062043309211731, 0.7637673020362854, 0.0003590562555473298, 0.15906192362308502, 0.11274366825819016, 0.3425396680831909, 0.089045949280262, 0.0007181125110946596, 0.18096435070037842, 0.07109314203262329, 0.009694519452750683, 0.0003590562555473298, 0.033751290291547775, 0.9973727464675903, 0.9956554770469666, 0.16341127455234528, 0.13201816380023956, 0.04297155514359474, 0.06791893392801285, 0.15314584970474243, 0.18752309679985046, 0.012414004653692245, 0.2404019832611084, 2.283781759615522e-05, 0.05170482024550438, 2.283781759615522e-05, 0.050996847450733185, 0.036677535623311996, 0.13976745307445526, 2.283781759615522e-05, 0.007193912751972675, 0.048667389899492264, 0.24080196022987366, 0.28983476758003235, 0.021992819383740425, 0.0016899985494092107, 0.04256969317793846, 0.02103363163769245, 0.003859591204673052, 0.0024208086542785168, 0.040628477931022644, 6.851345824543387e-05, 0.9981260299682617, 0.468274861574173, 0.20104090869426727, 0.20049385726451874, 0.12992438673973083, 0.17436814308166504, 0.272413045167923, 0.03838479518890381, 0.02469719387590885, 0.03228488564491272, 0.0620405450463295, 0.09149864315986633, 0.044931042939424515, 0.04002135619521141, 0.11664216965436935, 0.0812329426407814, 0.021424071863293648, 0.09696988016366959, 0.48341813683509827, 0.09518077224493027, 0.09696988016366959, 0.07156448811292648, 0.09410730004310608, 0.06118763983249664, 0.04596225917339325, 0.9537168741226196, 0.14409823715686798, 0.05542239546775818, 0.1795685589313507, 0.6074294447898865, 0.012192927300930023, 0.0628741979598999, 0.24852634966373444, 0.0002475361980032176, 0.06114144250750542, 0.07822144031524658, 0.07005275040864944, 0.004950724076479673, 0.4183361828327179, 0.05520057678222656, 0.9788261651992798, 0.006600689142942429, 0.9901034235954285, 0.9935654401779175, 0.004174645058810711, 0.9968120455741882, 0.005307433661073446, 0.21760478615760803, 0.002653716830536723, 0.7722315788269043, 0.2611928880214691, 0.09313854575157166, 0.6438708305358887, 0.18733198940753937, 0.1787518858909607, 0.6334967017173767, 0.9920429587364197, 0.09345631301403046, 0.281770795583725, 0.024298641830682755, 0.07616689801216125, 0.058877475559711456, 0.027569612488150597, 0.034578837454319, 0.06588669866323471, 0.023364078253507614, 0.03644796088337898, 0.012149320915341377, 0.09065262228250504, 0.021027671173214912, 0.08083970844745636, 0.04579359292984009, 0.0172894187271595, 0.00887834932655096, 0.9980418086051941, 0.9811077117919922, 0.9983457922935486, 0.017665129154920578, 0.06500767171382904, 0.8072963953018188, 0.04239631071686745, 0.06712748855352402, 0.997955322265625, 0.09751159697771072, 0.9005482792854309, 0.9908660054206848, 0.9990760684013367, 0.9952877163887024, 0.1103704571723938, 0.1383516937494278, 0.08005744218826294, 0.0007772567332722247, 0.028758499771356583, 0.6396822929382324, 0.0015545134665444493, 0.0006999427569098771, 0.019131768494844437, 0.1794186532497406, 0.5492217540740967, 0.0025664567947387695, 0.07909353077411652, 0.020764967426657677, 0.06206158921122551, 0.00023331424745265394, 0.008399312384426594, 0.0018665139796212316, 0.07116084545850754, 0.0055995420552790165, 0.00033042478025890887, 0.07137174904346466, 0.917259156703949, 0.010904017835855484, 0.0999557301402092, 0.8999398350715637, 0.39877626299858093, 0.6001865863800049, 0.9956752061843872, 0.0016805301420390606, 0.36816537380218506, 0.027017753571271896, 0.01564185693860054, 0.35562601685523987, 0.23165461421012878, 0.006476038601249456, 0.06665581464767456, 0.03238019347190857, 0.03822442516684532, 0.15116022527217865, 0.38303399085998535, 0.06886713951826096, 0.11135627329349518, 0.07044666260480881, 0.02874729409813881, 0.008371464908123016, 0.0018954259576275945, 0.027167772874236107, 0.005212421528995037, 0.9810003638267517, 0.8719992637634277, 0.12297425419092178, 0.15225379168987274, 0.622910737991333, 0.1024986281991005, 0.05124931409955025, 0.07097208499908447, 0.9919131994247437, 0.766769289970398, 0.0333377942442894, 0.1666889786720276, 0.876421332359314, 2.52200316026574e-05, 0.08438622951507568, 0.038889288902282715, 0.0001261001598322764, 0.0001261001598322764, 0.0773736909031868, 0.0870678648352623, 0.02849537506699562, 0.009622281417250633, 0.0006830262136645615, 0.0024085661862045527, 0.0002756070753093809, 0.016919877380132675, 0.3029760420322418, 0.020478803664445877, 0.048482879996299744, 1.198291647597216e-05, 0.22127652168273926, 0.006686467211693525, 0.1339929699897766, 0.0034271141048520803, 0.0092268455773592, 0.01291758380830288, 0.0023606345057487488, 0.0020251127425581217, 0.0016776082338765264, 0.0010664794826880097, 0.00013181207759771496, 0.004289884120225906, 0.004889029543846846, 3.594874942791648e-05, 0.0011863086838275194, 0.00016975600738078356, 0.7873283624649048, 0.06781752407550812, 0.14463211596012115, 0.15185736119747162, 0.16971665620803833, 0.04480861872434616, 0.26671287417411804, 0.049514055252075195, 0.03464914485812187, 0.05186677724123001, 0.028018753975629807, 0.016789864748716354, 0.021067535504698753, 0.07411067187786102, 0.051759835332632065, 0.002352719660848379, 0.0006416508695110679, 0.035932447761297226, 0.00021388361346907914, 0.05585331469774246, 0.13443714380264282, 0.01805192418396473, 0.005589471664279699, 0.09063225239515305, 0.0004968419088982046, 0.038795072585344315, 0.0029810515698045492, 0.01867297664284706, 0.4330391585826874, 0.00260842009447515, 0.0021529817022383213, 0.0751059353351593, 0.03610384836792946, 0.0007452628924511373, 0.08259996771812439, 4.140349483350292e-05, 0.0020701747853308916, 0.9927654266357422, 0.9987087845802307, 0.9984740614891052, 0.9924672842025757, 0.1100718230009079, 0.035141173750162125, 0.04927201569080353, 0.23855091631412506, 0.0016733891097828746, 0.018035415560007095, 0.015246434137225151, 0.12717758119106293, 0.01450270600616932, 0.12327300012111664, 0.001115592778660357, 0.03421151265501976, 0.021010329946875572, 0.020452534779906273, 0.03811608627438545, 0.025844566524028778, 0.0018593212589621544, 0.07269946485757828, 0.021196262910962105, 0.01896507665514946, 0.0039045747835189104, 0.003346778219565749, 0.004648303147405386, 0.00023620201682206243, 0.0018896161345764995, 0.4168965518474579, 0.04960242286324501, 0.004251636564731598, 0.07015199959278107, 0.18234795331954956, 0.021021978929638863, 0.09896864742040634, 0.10251167416572571, 0.05149203911423683, 0.9985107779502869, 0.9906648397445679, 0.9902178645133972, 0.1990903615951538, 0.0005259983008727431, 0.06732778251171112, 0.4397346079349518, 0.00026299915043637156, 0.08113524317741394, 0.0574653185904026, 0.1493835300207138, 0.00026299915043637156, 0.00013149957521818578, 0.004602485336363316, 0.13530462980270386, 0.11212494969367981, 0.42343342304229736, 0.2034061700105667, 0.12551166117191315, 0.03607521578669548, 0.27882078289985657, 0.11013103276491165, 0.5442403554916382, 0.0011432287283241749, 0.02953340858221054, 0.9991507530212402, 0.8968287110328674, 0.10288771241903305, 0.7774262428283691, 0.22174909710884094, 0.9985149502754211, 0.99576336145401, 0.9980159401893616, 0.9999444484710693, 0.9999606013298035, 0.0014189111534506083, 0.07804011553525925, 0.0014189111534506083, 0.004256733693182468, 0.02554040215909481, 0.02837822400033474, 0.017026934772729874, 0.0028378223069012165, 0.0014189111534506083, 0.11067507416009903, 0.052499715238809586, 0.05391862615942955, 0.004256733693182468, 0.17452608048915863, 0.43702465295791626, 0.005675644613802433, 0.004531770013272762, 0.0008092446951195598, 0.21784865856170654, 0.775580108165741, 0.0006473957328125834, 0.0004855467996094376, 0.00016184893320314586, 0.9969406723976135, 0.062161728739738464, 0.7273786067962646, 0.0004316786944400519, 0.03064918704330921, 0.0017267147777602077, 0.04273618757724762, 0.012950360774993896, 0.0012950360542163253, 0.09237923473119736, 0.028059113770723343, 0.005312763620167971, 0.9881740212440491, 0.9993157982826233, 0.07249128818511963, 0.918222963809967, 0.9980315566062927, 0.9802894592285156, 0.9862185120582581, 0.9996700286865234, 0.0002552674850448966, 4.25445796281565e-05, 0.9891511797904968, 0.00037565521779470146, 0.11701660603284836, 0.0046956902369856834, 0.008076587691903114, 0.009391380473971367, 0.04075859114527702, 0.018970588222146034, 0.00037565521779470146, 0.10800088196992874, 0.08996942639350891, 0.14011940360069275, 0.42712000012397766, 0.03493593633174896, 0.0939832553267479, 0.07559522986412048, 0.6333654522895813, 0.07559522986412048, 0.12054374068975449, 0.7734179496765137, 0.04314521327614784, 0.04927077144384384, 0.0503360852599144, 0.019974635913968086, 0.004527584183961153, 0.014381738379597664, 0.04474318400025368, 0.9987965226173401, 0.09235475212335587, 0.906122088432312, 0.7287210822105408, 0.1185494214296341, 0.1505982130765915, 0.0006223066593520343, 0.0015557666774839163, 0.5552088618278503, 0.14097477495670319, 0.28355884552001953, 0.011586966924369335, 0.00804650504142046, 0.028052248060703278, 0.6290503740310669, 0.18616491556167603, 0.0017001362284645438, 0.02040163427591324, 0.048453882336616516, 0.08500681072473526, 0.0008500681142322719, 0.06682030111551285, 0.005220335908234119, 0.7298029661178589, 0.1837558150291443, 0.014616940170526505, 0.0007331590750254691, 0.9985626935958862, 0.99820876121521, 0.9876207113265991, 0.024426082149147987, 0.17320312559604645, 0.6972536444664001, 0.07993990182876587, 0.024426082149147987, 0.9909903407096863, 0.7358155250549316, 0.2633584141731262, 0.7572996020317078, 0.24088019132614136, 0.9996874332427979, 0.9994619488716125, 0.9996917843818665, 0.9970043301582336, 0.9929150342941284, 0.1509188860654831, 0.8474676609039307, 0.5616468191146851, 0.11819731444120407, 0.025986643508076668, 0.1559198647737503, 0.08298960328102112, 0.05448812246322632, 0.9991740584373474, 0.9916512370109558, 0.986005425453186, 0.9841054677963257, 0.21088391542434692, 0.6715702414512634, 0.11675547063350677, 0.3022095561027527, 0.6965210437774658, 0.10020626336336136, 0.8246140480041504, 0.0730670690536499, 0.9998819828033447, 0.6952067613601685, 0.30325040221214294, 0.9905973672866821, 0.17400573194026947, 0.1894386261701584, 0.4692367613315582, 0.015432881191372871, 0.0064818100072443485, 0.04838208481669426, 0.09699565917253494, 0.0010769986547529697, 0.05546543374657631, 0.24017071723937988, 0.0619274266064167, 0.012385484762489796, 0.31986862421035767, 0.08239039778709412, 0.0016154980985447764, 0.15347231924533844, 0.04254144802689552, 0.01777047850191593, 0.0005384993273764849, 0.010769987478852272, 0.03220335394144058, 0.39139461517333984, 0.2353322058916092, 0.17959563434123993, 0.04830503091216087, 0.050782211124897, 0.06069093570113182, 0.9986199736595154, 0.004986115265637636, 0.0026592614594846964, 0.765202522277832, 0.17251959443092346, 0.05418245494365692, 0.9974275231361389, 0.0016531709115952253, 0.7092103362083435, 0.03636975958943367, 0.19672733545303345, 0.046288784593343735, 0.00826585479080677, 0.9948136806488037, 0.002741493983194232, 0.13296246528625488, 0.00045691567356698215, 0.15626515448093414, 0.003655325388535857, 0.00045691567356698215, 0.04112241044640541, 0.5976456999778748, 0.06488202512264252, 0.9864950776100159, 0.0208736564964056, 0.0910850465297699, 0.08918743580579758, 0.796994149684906, 0.005676190368831158, 0.9933333396911621, 0.09359453618526459, 0.0025998482014983892, 0.8007532358169556, 0.10269400477409363, 0.9900130033493042, 0.9927061796188354, 0.9933454990386963, 0.726580023765564, 0.25450825691223145, 0.01641988754272461, 0.9967215061187744, 0.2692427635192871, 0.1667991727590561, 0.03677462041378021, 0.41995304822921753, 0.1070404127240181, 0.8689499497413635, 0.12973055243492126, 0.950075089931488, 0.020653806626796722, 0.9888322353363037, 0.9914663434028625, 0.9755567908287048, 0.13939373195171356, 0.8537866473197937, 0.9964534640312195, 0.0920325368642807, 0.8459913730621338, 0.06017512083053589, 0.0006066885543987155, 0.001213377108797431, 0.022447478026151657, 0.2457088679075241, 0.0036401315592229366, 0.7255995273590088, 0.9986374974250793, 0.08991694450378418, 0.23622249066829681, 0.6720910668373108, 0.9966188669204712, 0.5810422897338867, 0.27921798825263977, 0.13930350542068481, 0.1413520723581314, 0.8577282428741455, 0.958367109298706, 0.04046439006924629, 0.9953175187110901, 0.36531105637550354, 0.04204826429486275, 0.001606940058991313, 0.036423973739147186, 0.004017350263893604, 0.08503391593694687, 0.02343454211950302, 0.0231667198240757, 0.0018747634021565318, 0.036290064454078674, 0.11328927427530289, 0.06400977820158005, 0.002008675131946802, 0.03829873725771904, 0.08101656287908554, 0.029594479128718376, 0.02865709736943245, 0.014194637537002563, 0.0010712933726608753, 0.008302523754537106, 0.9990853667259216, 0.049197472631931305, 0.08517313003540039, 0.005842200014740229, 0.22938323020935059, 0.026443641632795334, 0.07102885097265244, 0.0642642006278038, 0.0018449053168296814, 0.039357978850603104, 0.22846077382564545, 0.0298259686678648, 0.032285843044519424, 0.07594860345125198, 0.048275019973516464, 0.012299368157982826, 0.9995852708816528, 0.9989673495292664, 0.9990332126617432, 0.9965807795524597, 0.0004549319273792207, 0.0013647957239300013, 0.9976657032966614, 0.9984949827194214, 0.06767212599515915, 0.9297561645507812, 0.9960746169090271, 0.9955068230628967, 0.15830232203006744, 0.3433547914028168, 0.49799272418022156, 0.22119730710983276, 0.7741905450820923, 0.9902403950691223, 0.20316997170448303, 0.13885284960269928, 0.08595652133226395, 0.058907266706228256, 0.5121325850486755, 0.24596570432186127, 0.753923237323761, 0.9498296976089478, 0.04165919870138168, 0.9981440901756287, 0.985934853553772, 0.013797122053802013, 0.8432769775390625, 0.15637466311454773, 0.1918606460094452, 0.0005471311160363257, 0.18730121850967407, 0.024803277105093002, 0.0031004096381366253, 0.0007295081159099936, 0.4617786407470703, 0.03884631022810936, 0.037387292832136154, 0.03848155587911606, 0.012401638552546501, 0.0005471311160363257, 0.0025532785803079605, 0.9987654089927673, 0.9962342381477356, 0.6056423187255859, 0.0034024850465357304, 0.08336088806390762, 0.0004253106308169663, 0.16331928968429565, 0.00467841699719429, 0.1390765756368637, 0.18696285784244537, 0.03019275888800621, 0.07519158720970154, 0.12657733261585236, 0.029321813955903053, 0.08012694120407104, 0.10915844142436981, 0.008709450252354145, 0.04093441367149353, 0.05515984818339348, 0.00522567005828023, 0.032515279948711395, 0.009580395184457302, 0.09173953533172607, 0.00029031498706899583, 0.11873883008956909, 0.9981299042701721, 0.05151354894042015, 0.13450759649276733, 0.5122736096382141, 0.11733641475439072, 0.18029741942882538, 0.989736795425415, 0.9994099736213684, 0.05225415155291557, 0.9231566786766052, 0.01741805113852024, 0.9997826218605042, 0.018907172605395317, 0.0010628291638568044, 0.033674903213977814, 0.038485605269670486, 0.029423587024211884, 0.38977861404418945, 0.022095659747719765, 0.003915686625987291, 0.1870020031929016, 0.02410943992435932, 0.006432913243770599, 0.031213615089654922, 0.011187675409018993, 0.15517306327819824, 0.03238832205533981, 0.015103361569344997, 0.9977033734321594, 0.9994977116584778, 0.21444016695022583, 0.5099965333938599, 0.03926369175314903, 0.23601362109184265, 0.028661062940955162, 0.03206152841448784, 0.19576962292194366, 0.02817528136074543, 0.07723913341760635, 0.4080558121204376, 0.0131160793825984, 0.011658737435936928, 0.07821069657802582, 0.0019431228283792734, 0.011658737435936928, 0.01603076420724392, 0.07578179240226746, 0.010687176138162613, 0.001457342179492116, 0.008744052611291409, 0.9999088048934937, 4.074774187756702e-05, 0.14044445753097534, 0.5511963963508606, 0.15872147679328918, 0.14910198748111725, 0.6591391563415527, 0.20515218377113342, 0.1349480152130127, 0.00035895337350666523, 0.8438993692398071, 0.007896973751485348, 0.10625019669532776, 0.041279636323451996, 0.003142858389765024, 0.9947146773338318, 0.06117412447929382, 0.03909624367952347, 0.0004599558305926621, 0.8987537026405334, 0.0001478016347391531, 0.866117537021637, 0.0001478016347391531, 0.09208041429519653, 0.004138445481657982, 0.037246011197566986, 0.9717535376548767, 0.9865513443946838, 0.996961236000061, 0.5749177932739258, 0.10850001871585846, 0.028668703511357307, 0.14466668665409088, 0.00176422786898911, 0.14135876297950745, 0.13136087357997894, 0.8680997490882874, 0.364544153213501, 0.6099254488945007, 0.025086909532546997, 0.11930058896541595, 0.7545169591903687, 0.12562115490436554, 0.2182321399450302, 0.16861091554164886, 0.5296306610107422, 0.05797582119703293, 0.025316953659057617, 0.9961349964141846, 0.0035159157123416662, 0.22501860558986664, 0.7717434763908386, 0.21080464124679565, 0.11768847703933716, 0.5910289287567139, 0.07889007776975632], \"Term\": [\"1st\", \"1st\", \"1st\", \"3rd\", \"4th\", \"5th\", \"6th\", \"7th\", \"8th\", \"9th\", \"ab\", \"abilities\", \"ability\", \"absent\", \"absent\", \"absolute\", \"absolutely\", \"absolutely\", \"absolutely\", \"absolutely\", \"absolutely\", \"absolutely\", \"absolutely\", \"absolutely\", \"absolutely\", \"absolutely\", \"absolutely\", \"absolutely\", \"absolutely\", \"absolutley\", \"absolutly\", \"absorb\", \"absorb\", \"absorbed\", \"academy\", \"accent\", \"accent\", \"accuracy\", \"accuracy\", \"accused\", \"act\", \"act\", \"act\", \"acting\", \"actions\", \"acts\", \"adjustment\", \"administrators\", \"adn\", \"adn\", \"advanced\", \"advanced\", \"advanced\", \"advanced\", \"advanced\", \"afterschool\", \"agenda\", \"aggressive\", \"ago\", \"ago\", \"ah\", \"air\", \"alg\", \"algebra\", \"alittle\", \"allow\", \"allow\", \"allowed\", \"allowed\", \"already\", \"already\", \"already\", \"already\", \"already\", \"already\", \"already\", \"already\", \"already\", \"already\", \"already\", \"already\", \"already\", \"alright\", \"alright\", \"alright\", \"although\", \"although\", \"although\", \"although\", \"although\", \"although\", \"although\", \"although\", \"although\", \"although\", \"although\", \"alway\", \"alway\", \"always\", \"always\", \"always\", \"always\", \"always\", \"always\", \"always\", \"always\", \"always\", \"always\", \"always\", \"always\", \"always\", \"always\", \"always\", \"always\", \"always\", \"ambiguous\", \"amount\", \"amount\", \"amounts\", \"amounts\", \"anderson\", \"anger\", \"angered\", \"angry\", \"annoyed\", \"annoying\", \"annoying\", \"annoying\", \"annoying\", \"annoying\", \"annoying\", \"annoying\", \"annoying\", \"annoying\", \"annoying\", \"annoying\", \"annoys\", \"answer\", \"answered\", \"answering\", \"answers\", \"answers\", \"anwser\", \"anyhting\", \"anyhting\", \"anyhting\", \"anymore\", \"anymore\", \"anymore\", \"anymore\", \"anymore\", \"anymore\", \"anymore\", \"anymore\", \"anymore\", \"anymore\", \"anyones\", \"anything\", \"anything\", \"anything\", \"anything\", \"anything\", \"anything\", \"anything\", \"anything\", \"anything\", \"anything\", \"ap\", \"apush\", \"arbitrarily\", \"argue\", \"argument\", \"arguments\", \"around\", \"around\", \"around\", \"around\", \"around\", \"around\", \"around\", \"around\", \"around\", \"around\", \"around\", \"around\", \"around\", \"around\", \"around\", \"around\", \"around\", \"around\", \"around\", \"around\", \"arrogant\", \"arrogant\", \"arrogant\", \"art\", \"artist\", \"arts\", \"arts\", \"artwork\", \"asap\", \"ask\", \"asked\", \"asked\", \"asking\", \"asks\", \"asleep\", \"assign\", \"assign\", \"assign\", \"assigned\", \"assigned\", \"assigned\", \"assigned\", \"assignment\", \"assignment\", \"assignment\", \"assignments\", \"assignments\", \"assignments\", \"assignments\", \"assigns\", \"assigns\", \"assigns\", \"assistance\", \"assistant\", \"assumed\", \"assumes\", \"assumes\", \"assumes\", \"assumes\", \"assumes\", \"athletes\", \"athletic\", \"attempting\", \"attempting\", \"attempting\", \"attention\", \"attitude\", \"attitude\", \"attitude\", \"attitude\", \"available\", \"available\", \"available\", \"available\", \"avoid\", \"awake\", \"away\", \"away\", \"away\", \"away\", \"away\", \"away\", \"away\", \"away\", \"away\", \"away\", \"away\", \"away\", \"away\", \"away\", \"away\", \"away\", \"away\", \"away\", \"away\", \"away\", \"aweful\", \"aweful\", \"aweful\", \"aweful\", \"aweful\", \"awesome\", \"awful\", \"awful\", \"awful\", \"awful\", \"awful\", \"awful\", \"awful\", \"awful\", \"awful\", \"awful\", \"awful\", \"awful\", \"awful\", \"awful\", \"b4\", \"babies\", \"back\", \"back\", \"back\", \"back\", \"back\", \"back\", \"back\", \"back\", \"back\", \"back\", \"back\", \"backs\", \"bad\", \"bad\", \"bad\", \"bad\", \"bad\", \"bad\", \"bad\", \"baker\", \"band\", \"barnes\", \"base\", \"baseball\", \"based\", \"based\", \"based\", \"based\", \"based\", \"based\", \"basicly\", \"basics\", \"basics\", \"basics\", \"basics\", \"basics\", \"basics\", \"basis\", \"basis\", \"basketball\", \"becuase\", \"behavior\", \"behavior\", \"beliefs\", \"bell\", \"bell\", \"belongs\", \"besides\", \"besides\", \"besides\", \"besides\", \"best\", \"best\", \"best\", \"best\", \"best\", \"best\", \"best\", \"best\", \"best\", \"best\", \"best\", \"best\", \"best\", \"best\", \"best\", \"best\", \"best\", \"best\", \"best\", \"best\", \"better\", \"better\", \"better\", \"better\", \"better\", \"better\", \"better\", \"better\", \"better\", \"better\", \"better\", \"better\", \"better\", \"better\", \"better\", \"better\", \"better\", \"biased\", \"biased\", \"biased\", \"binder\", \"bio\", \"biology\", \"biology\", \"bird\", \"bit\", \"bit\", \"blackboard\", \"blah\", \"board\", \"board\", \"board\", \"board\", \"boaring\", \"boaring\", \"bonus\", \"boo\", \"book\", \"book\", \"books\", \"books\", \"books\", \"books\", \"borin\", \"boring\", \"boring\", \"boring\", \"boring\", \"boring\", \"boring\", \"boringest\", \"borring\", \"bottom\", \"boy\", \"boys\", \"brain\", \"breath\", \"bright\", \"bright\", \"brilliant\", \"brings\", \"brings\", \"bully\", \"business\", \"busy\", \"busywork\", \"busywork\", \"cal\", \"calc\", \"calc\", \"call\", \"call\", \"called\", \"calling\", \"calling\", \"calls\", \"calls\", \"calm\", \"calss\", \"came\", \"came\", \"came\", \"came\", \"cannot\", \"cannot\", \"cannot\", \"cannot\", \"cannot\", \"cannot\", \"cannot\", \"cannot\", \"cannot\", \"cannot\", \"cannot\", \"capabilities\", \"card\", \"cards\", \"care\", \"care\", \"care\", \"care\", \"care\", \"care\", \"care\", \"career\", \"career\", \"career\", \"cares\", \"caring\", \"caring\", \"caring\", \"caring\", \"cats\", \"caught\", \"cell\", \"center\", \"centered\", \"century\", \"certain\", \"certain\", \"certain\", \"certain\", \"certain\", \"certified\", \"certified\", \"certified\", \"chair\", \"change\", \"change\", \"change\", \"change\", \"change\", \"change\", \"change\", \"change\", \"change\", \"change\", \"change\", \"changes\", \"changes\", \"chapter\", \"chapter\", \"chapter\", \"cheat\", \"cheating\", \"checks\", \"checks\", \"chem\", \"chemistry\", \"chemistry\", \"child\", \"childish\", \"children\", \"childs\", \"chinese\", \"choir\", \"chooses\", \"chorus\", \"cirriculum\", \"clarification\", \"clarification\", \"class\", \"class\", \"class\", \"class\", \"class\", \"class\", \"class\", \"class\", \"class\", \"class\", \"class\", \"class\", \"class\", \"class\", \"class\", \"class\", \"class\", \"class\", \"class\", \"class\", \"class\", \"class\", \"class\", \"class\", \"class\", \"class\", \"classes\", \"classes\", \"classes\", \"classes\", \"classes\", \"classes\", \"classes\", \"classes\", \"classes\", \"classes\", \"classes\", \"classes\", \"classes\", \"classes\", \"classes\", \"classes\", \"classes\", \"classes\", \"classes\", \"classes\", \"classes\", \"classmate\", \"classmate\", \"classroom\", \"classroom\", \"classroom\", \"classroom\", \"classroom\", \"classroom\", \"classroom\", \"classtime\", \"classwork\", \"clear\", \"clear\", \"clear\", \"clear\", \"club\", \"club\", \"clue\", \"clue\", \"clue\", \"coach\", \"coaching\", \"code\", \"cold\", \"cold\", \"collect\", \"collect\", \"collects\", \"collects\", \"college\", \"college\", \"come\", \"come\", \"come\", \"come\", \"come\", \"come\", \"come\", \"come\", \"come\", \"come\", \"come\", \"come\", \"come\", \"come\", \"come\", \"come\", \"come\", \"come\", \"come\", \"come\", \"come\", \"comes\", \"comes\", \"comes\", \"comes\", \"comes\", \"comes\", \"comes\", \"comes\", \"comes\", \"comes\", \"comes\", \"comes\", \"comes\", \"comes\", \"comes\", \"comes\", \"comes\", \"comes\", \"comes\", \"comment\", \"comment\", \"comments\", \"comments\", \"comments\", \"communicate\", \"communicating\", \"communication\", \"communication\", \"comp\", \"completely\", \"completely\", \"completely\", \"completely\", \"completely\", \"completely\", \"completely\", \"completely\", \"completely\", \"completely\", \"completely\", \"completely\", \"completely\", \"completely\", \"completely\", \"completely\", \"completely\", \"completion\", \"completion\", \"computer\", \"computers\", \"concept\", \"concept\", \"concepts\", \"concern\", \"concerned\", \"condescending\", \"condescending\", \"condescending\", \"condescending\", \"condescending\", \"condescending\", \"conduct\", \"confused\", \"confused\", \"confusing\", \"confusing\", \"confusing\", \"confusing\", \"confusing\", \"confusing\", \"confusing\", \"confusing\", \"confusing\", \"conservative\", \"consistently\", \"consuming\", \"contradicting\", \"control\", \"control\", \"control\", \"control\", \"control\", \"controll\", \"convey\", \"convey\", \"convey\", \"conveying\", \"conveying\", \"conveying\", \"cook\", \"cool\", \"copy\", \"copy\", \"copying\", \"copying\", \"core\", \"cornell\", \"corny\", \"correct\", \"correct\", \"correct\", \"correct\", \"corrections\", \"cost\", \"costs\", \"counselor\", \"counselors\", \"counsler\", \"counsler\", \"country\", \"couple\", \"couple\", \"course\", \"courses\", \"cover\", \"cover\", \"cover\", \"cover\", \"covered\", \"covered\", \"cox\", \"cox\", \"cox\", \"cox\", \"cp\", \"cranky\", \"creative\", \"creativity\", \"cs\", \"cs\", \"cs\", \"current\", \"current\", \"cuz\", \"cuz\", \"cuz\", \"cuz\", \"cuz\", \"da\", \"da\", \"dance\", \"date\", \"date\", \"dates\", \"daughter\", \"daughters\", \"days\", \"days\", \"days\", \"days\", \"days\", \"de\", \"deadlines\", \"deadlines\", \"dealt\", \"debate\", \"decisions\", \"definately\", \"definitely\", \"definitely\", \"definitely\", \"definitely\", \"definitely\", \"definitely\", \"definitely\", \"definitly\", \"deny\", \"depended\", \"depending\", \"describe\", \"deserve\", \"deserve\", \"deserve\", \"deserve\", \"deserve\", \"deserved\", \"deserves\", \"design\", \"desk\", \"desk\", \"desk\", \"despised\", \"detention\", \"detention\", \"difficult\", \"difficult\", \"difficult\", \"difficult\", \"difficult\", \"difficult\", \"directions\", \"director\", \"director\", \"dirt\", \"dirt\", \"dirty\", \"dirty\", \"disagree\", \"dislike\", \"dislike\", \"dislike\", \"dislike\", \"displeasure\", \"disrespectful\", \"disrespectful\", \"distracted\", \"district\", \"district\", \"ditz\", \"ditzy\", \"doent\", \"doent\", \"doesent\", \"doesent\", \"doest\", \"doest\", \"doest\", \"dogs\", \"done\", \"done\", \"done\", \"done\", \"done\", \"done\", \"done\", \"done\", \"done\", \"done\", \"done\", \"done\", \"done\", \"door\", \"dosent\", \"dosent\", \"dosnt\", \"dosnt\", \"dosnt\", \"doubt\", \"doubt\", \"doubt\", \"drags\", \"draw\", \"drawing\", \"dreaded\", \"dress\", \"drivers\", \"drones\", \"dropped\", \"dropped\", \"dropped\", \"due\", \"dumb\", \"dumb\", \"dumb\", \"dumb\", \"dumb\", \"dumb\", \"dumb\", \"dumber\", \"easiest\", \"easiest\", \"easiest\", \"easiest\", \"easiest\", \"easily\", \"easily\", \"easily\", \"easily\", \"east\", \"easy\", \"easy\", \"easy\", \"easy\", \"easy\", \"easy\", \"easy\", \"easy\", \"easy\", \"easy\", \"easy\", \"easy\", \"easy\", \"easy\", \"easy\", \"eat\", \"eat\", \"econ\", \"ed\", \"effective\", \"effective\", \"effort\", \"effort\", \"effort\", \"effort\", \"effort\", \"egotistical\", \"eighth\", \"elective\", \"elementary\", \"else\", \"else\", \"else\", \"else\", \"else\", \"else\", \"else\", \"else\", \"else\", \"else\", \"email\", \"emails\", \"embarasses\", \"embarrass\", \"embarrass\", \"emotionally\", \"employed\", \"encountered\", \"encouraging\", \"ended\", \"enforce\", \"eng\", \"english\", \"english\", \"enrichment\", \"enthusiasm\", \"entire\", \"entire\", \"entire\", \"entire\", \"entire\", \"entire\", \"entire\", \"entire\", \"entire\", \"entire\", \"entire\", \"entire\", \"environment\", \"environment\", \"environmental\", \"equally\", \"errors\", \"essay\", \"essay\", \"essay\", \"essay\", \"essay\", \"essays\", \"essays\", \"essays\", \"essays\", \"esteem\", \"euro\", \"eva\", \"evans\", \"evans\", \"evans\", \"evans\", \"evans\", \"evans\", \"even\", \"even\", \"even\", \"even\", \"even\", \"even\", \"even\", \"even\", \"even\", \"even\", \"even\", \"even\", \"even\", \"even\", \"even\", \"even\", \"even\", \"even\", \"even\", \"even\", \"even\", \"even\", \"even\", \"even\", \"even\", \"even\", \"eventually\", \"everday\", \"every\", \"every\", \"every\", \"every\", \"every\", \"every\", \"every\", \"every\", \"every\", \"every\", \"every\", \"every\", \"every\", \"every\", \"every\", \"every\", \"every\", \"every\", \"every\", \"every1\", \"everyone\", \"everyone\", \"everyone\", \"everyone\", \"everyone\", \"everyone\", \"everyone\", \"everyone\", \"everyone\", \"everyone\", \"everyone\", \"everyone\", \"everyone\", \"everyone\", \"everyone\", \"everyone\", \"everyone\", \"everyone\", \"everyone\", \"everyone\", \"everything\", \"everything\", \"everything\", \"everything\", \"everything\", \"everything\", \"everything\", \"everything\", \"everything\", \"everything\", \"everything\", \"everything\", \"everything\", \"everything\", \"everything\", \"everything\", \"evil\", \"evr\", \"ew\", \"exam\", \"examples\", \"examples\", \"exams\", \"exams\", \"exams\", \"except\", \"except\", \"except\", \"except\", \"except\", \"except\", \"except\", \"except\", \"except\", \"except\", \"except\", \"excepts\", \"excepts\", \"excessive\", \"exciting\", \"exciting\", \"expecting\", \"expecting\", \"expecting\", \"expecting\", \"expecting\", \"expecting\", \"expects\", \"expects\", \"expects\", \"expects\", \"expects\", \"expects\", \"experience\", \"experience\", \"experience\", \"experience\", \"experience\", \"experience\", \"experience\", \"experience\", \"experience\", \"experience\", \"experience\", \"experience\", \"experienced\", \"explain\", \"explain\", \"explain\", \"explain\", \"explain\", \"explain\", \"explain\", \"explaining\", \"explaining\", \"explaining\", \"explaining\", \"explaining\", \"explaining\", \"explaining\", \"explaining\", \"explaining\", \"explains\", \"explains\", \"explains\", \"explains\", \"express\", \"extra\", \"extra\", \"extremely\", \"extremely\", \"extremely\", \"extremely\", \"extremely\", \"extremely\", \"extremly\", \"eyes\", \"eyes\", \"face\", \"faces\", \"fail\", \"fail\", \"fail\", \"fail\", \"fail\", \"fail\", \"fail\", \"fail\", \"fail\", \"fail\", \"fail\", \"fail\", \"failed\", \"failing\", \"failing\", \"failing\", \"fall\", \"fallen\", \"falling\", \"falling\", \"far\", \"fashion\", \"fast\", \"fast\", \"favorite\", \"favorite\", \"favorites\", \"favoritism\", \"favoritism\", \"favors\", \"favors\", \"favortism\", \"favourites\", \"favs\", \"fear\", \"fear\", \"feedback\", \"feel\", \"feel\", \"feels\", \"feels\", \"feels\", \"feels\", \"feels\", \"fell\", \"fields\", \"fight\", \"figure\", \"figure\", \"figure\", \"figure\", \"figure\", \"figure\", \"figure\", \"fill\", \"final\", \"final\", \"final\", \"final\", \"finals\", \"finals\", \"finals\", \"find\", \"find\", \"find\", \"find\", \"find\", \"find\", \"find\", \"find\", \"find\", \"find\", \"find\", \"find\", \"find\", \"find\", \"find\", \"find\", \"find\", \"find\", \"find\", \"find\", \"finish\", \"finish\", \"finish\", \"finish\", \"finish\", \"fired\", \"fired\", \"fired\", \"first\", \"first\", \"first\", \"first\", \"first\", \"first\", \"first\", \"first\", \"first\", \"first\", \"fluent\", \"flustered\", \"flustered\", \"food\", \"food\", \"fool\", \"football\", \"forbid\", \"foreign\", \"forever\", \"forever\", \"forever\", \"forever\", \"forever\", \"forgot\", \"forgot\", \"forgot\", \"formulas\", \"formulas\", \"formulas\", \"fourth\", \"freak\", \"freakin\", \"free\", \"free\", \"free\", \"french\", \"friendly\", \"friendly\", \"friendly\", \"friendly\", \"frustrated\", \"frustrated\", \"frustrated\", \"frustrated\", \"frustrating\", \"frustrating\", \"frustrating\", \"fun\", \"fun\", \"fun\", \"fun\", \"fun\", \"fun\", \"fun\", \"fundamentals\", \"fundamentals\", \"funniest\", \"funny\", \"game\", \"games\", \"gave\", \"gave\", \"general\", \"general\", \"general\", \"general\", \"general\", \"general\", \"general\", \"general\", \"general\", \"general\", \"genius\", \"genius\", \"genius\", \"genius\", \"geniuses\", \"geniuses\", \"geometry\", \"german\", \"gets\", \"girl\", \"girl\", \"girl\", \"girls\", \"give\", \"give\", \"give\", \"give\", \"give\", \"give\", \"give\", \"give\", \"give\", \"give\", \"give\", \"give\", \"give\", \"give\", \"give\", \"give\", \"give\", \"give\", \"give\", \"given\", \"given\", \"given\", \"given\", \"given\", \"given\", \"given\", \"given\", \"gives\", \"gives\", \"gives\", \"glad\", \"glad\", \"glad\", \"glad\", \"global\", \"god\", \"gods\", \"goes\", \"goes\", \"goes\", \"goes\", \"goes\", \"goes\", \"goes\", \"goes\", \"goes\", \"goes\", \"goes\", \"goes\", \"goes\", \"goes\", \"goes\", \"goes\", \"gone\", \"gone\", \"gone\", \"gone\", \"gone\", \"gone\", \"gone\", \"gone\", \"good\", \"good\", \"good\", \"good\", \"good\", \"good\", \"good\", \"good\", \"good\", \"good\", \"good\", \"good\", \"goodness\", \"goof\", \"gosh\", \"gosh\", \"got\", \"gotten\", \"gotten\", \"gotten\", \"gotten\", \"gov\", \"government\", \"grade\", \"grade\", \"grade\", \"grade\", \"grade\", \"grade\", \"grade\", \"grade\", \"gradebook\", \"graded\", \"graded\", \"graded\", \"graded\", \"graded\", \"graded\", \"graded\", \"grader\", \"grader\", \"graders\", \"grades\", \"grades\", \"grading\", \"grading\", \"graduate\", \"graduate\", \"grammar\", \"grammar\", \"grammatical\", \"great\", \"great\", \"great\", \"great\", \"great\", \"great\", \"great\", \"great\", \"greatest\", \"green\", \"group\", \"group\", \"groups\", \"groups\", \"groups\", \"grow\", \"grudges\", \"guess\", \"guidance\", \"guide\", \"guide\", \"guide\", \"gum\", \"guys\", \"gym\", \"ha\", \"habits\", \"hahah\", \"half\", \"half\", \"half\", \"hall\", \"hall\", \"halls\", \"hallway\", \"hand\", \"hand\", \"handed\", \"handed\", \"handedly\", \"handing\", \"handle\", \"handle\", \"hands\", \"hands\", \"hands\", \"happened\", \"hard\", \"hard\", \"hard\", \"hard\", \"hard\", \"hard\", \"hard\", \"hard\", \"hard\", \"hard\", \"harder\", \"harder\", \"harder\", \"harder\", \"harder\", \"hardest\", \"hardest\", \"hardest\", \"hardest\", \"hardest\", \"hardest\", \"harsh\", \"harshly\", \"hate\", \"hate\", \"hate\", \"hated\", \"hates\", \"hates\", \"havnt\", \"head\", \"head\", \"head\", \"head\", \"head\", \"head\", \"head\", \"health\", \"hear\", \"heart\", \"heart\", \"heart\", \"heart\", \"heart\", \"heart\", \"heart\", \"heart\", \"heart\", \"heartless\", \"help\", \"help\", \"help\", \"help\", \"helped\", \"helpful\", \"helpful\", \"helpful\", \"helpful\", \"helpful\", \"helpful\", \"helpful\", \"helpful\", \"helpful\", \"helpful\", \"helpful\", \"helpful\", \"helpfull\", \"helpfulness\", \"helping\", \"helping\", \"helping\", \"helping\", \"helping\", \"hey\", \"hi\", \"high\", \"hill\", \"hint\", \"hip\", \"hire\", \"hired\", \"hiring\", \"history\", \"history\", \"history\", \"history\", \"hit\", \"hmm\", \"holds\", \"holidays\", \"holidays\", \"holidays\", \"home\", \"home\", \"home\", \"home\", \"home\", \"home\", \"home\", \"home\", \"homework\", \"homeworks\", \"honestly\", \"honestly\", \"honestly\", \"honestly\", \"honestly\", \"honestly\", \"honestly\", \"honors\", \"honors\", \"hope\", \"hope\", \"hope\", \"hope\", \"hope\", \"hope\", \"hope\", \"hope\", \"hope\", \"hope\", \"hope\", \"hope\", \"hope\", \"hope\", \"hope\", \"hope\", \"horible\", \"horible\", \"horrendous\", \"horrendous\", \"horrible\", \"horrible\", \"horrible\", \"horrible\", \"horrid\", \"hour\", \"hour\", \"hours\", \"hours\", \"hours\", \"house\", \"house\", \"however\", \"however\", \"however\", \"however\", \"however\", \"however\", \"however\", \"however\", \"however\", \"however\", \"however\", \"humor\", \"hw\", \"hwk\", \"hws\", \"hws\", \"idea\", \"idea\", \"idea\", \"idea\", \"idea\", \"idea\", \"idea\", \"idea\", \"idea\", \"idea\", \"idea\", \"idea\", \"idea\", \"idea\", \"idea\", \"ideas\", \"ideas\", \"idiots\", \"ignores\", \"ignores\", \"ignores\", \"ignores\", \"ignores\", \"illegible\", \"illegible\", \"image\", \"immediately\", \"immediately\", \"immediatly\", \"impossible\", \"impossible\", \"impossible\", \"impossible\", \"impress\", \"inappropriate\", \"incapable\", \"incompetent\", \"incompetent\", \"incompetent\", \"incompetent\", \"incompetent\", \"incompetent\", \"inconsiderate\", \"inconsiderate\", \"inconsistent\", \"inconsistent\", \"ineffective\", \"ineffective\", \"info\", \"info\", \"info\", \"insecure\", \"inspire\", \"instead\", \"instead\", \"instead\", \"instead\", \"instead\", \"instead\", \"instead\", \"instead\", \"instead\", \"instead\", \"instead\", \"instead\", \"instead\", \"instead\", \"instead\", \"instead\", \"instead\", \"institution\", \"instruction\", \"instruction\", \"instruction\", \"instructions\", \"instrument\", \"instruments\", \"int\", \"int\", \"integrated\", \"intelligent\", \"intelligent\", \"intelligent\", \"interest\", \"interest\", \"interest\", \"interest\", \"interested\", \"interested\", \"interested\", \"interested\", \"interested\", \"interesting\", \"interesting\", \"internet\", \"internet\", \"interrupting\", \"irritated\", \"issues\", \"issues\", \"issues\", \"italian\", \"japanese\", \"jazz\", \"job\", \"job\", \"job\", \"job\", \"job\", \"job\", \"job\", \"job\", \"job\", \"job\", \"job\", \"joke\", \"joke\", \"jokes\", \"journalism\", \"jr\", \"jsut\", \"jsut\", \"judgemental\", \"judgemental\", \"juliet\", \"jumps\", \"justs\", \"justs\", \"keep\", \"keep\", \"keep\", \"keep\", \"keep\", \"keep\", \"keep\", \"keep\", \"keep\", \"keep\", \"keep\", \"keep\", \"keep\", \"keep\", \"keep\", \"keep\", \"keep\", \"keep\", \"keep\", \"keys\", \"khan\", \"kick\", \"kicks\", \"kidding\", \"kidding\", \"kids\", \"kids\", \"kids\", \"kids\", \"kids\", \"kind\", \"kind\", \"kind\", \"kind\", \"kind\", \"kind\", \"kind\", \"kind\", \"kind\", \"kind\", \"kind\", \"kind\", \"kind\", \"kind\", \"kind\", \"kindergardeners\", \"kindergardeners\", \"kindergarteners\", \"kindergarteners\", \"kiss\", \"knew\", \"kno\", \"know\", \"know\", \"know\", \"know\", \"know\", \"know\", \"know\", \"know\", \"knowledge\", \"knowledge\", \"knowledge\", \"knowledgeable\", \"knowledgeable\", \"knowledgeable\", \"knowledgeable\", \"knowledgeable\", \"knowledgeable\", \"knows\", \"knows\", \"knows\", \"la\", \"lab\", \"lab\", \"lab\", \"lab\", \"lab\", \"lack\", \"lacking\", \"lacks\", \"lacks\", \"lady\", \"laid\", \"lame\", \"lang\", \"language\", \"languages\", \"last\", \"last\", \"last\", \"last\", \"last\", \"last\", \"last\", \"late\", \"late\", \"late\", \"late\", \"late\", \"late\", \"late\", \"late\", \"late\", \"later\", \"later\", \"later\", \"later\", \"later\", \"later\", \"later\", \"latin\", \"laugh\", \"laugh\", \"laughing\", \"laughs\", \"laughs\", \"law\", \"lawyer\", \"lawyer\", \"lay\", \"lazy\", \"lazy\", \"lazy\", \"lazy\", \"lazy\", \"lazy\", \"lazy\", \"lazy\", \"lazy\", \"leader\", \"leadership\", \"learn\", \"learn\", \"learn\", \"learn\", \"learn\", \"learn\", \"learn\", \"learn\", \"learn\", \"learned\", \"learned\", \"learning\", \"learning\", \"learning\", \"learning\", \"learning\", \"learning\", \"learning\", \"learning\", \"learning\", \"learning\", \"learning\", \"learning\", \"learning\", \"learnt\", \"least\", \"least\", \"least\", \"least\", \"least\", \"least\", \"least\", \"least\", \"least\", \"leave\", \"leave\", \"leave\", \"leave\", \"leave\", \"leave\", \"leave\", \"leave\", \"leave\", \"leave\", \"leave\", \"lectures\", \"lectures\", \"lectures\", \"lectures\", \"lectures\", \"lecturing\", \"left\", \"left\", \"left\", \"left\", \"left\", \"left\", \"left\", \"left\", \"left\", \"lesson\", \"lesson\", \"lesson\", \"lesson\", \"lesson\", \"lesson\", \"lessons\", \"lessons\", \"lessons\", \"lessons\", \"lessons\", \"lessons\", \"lessons\", \"lessons\", \"lessons\", \"lessons\", \"level\", \"level\", \"level\", \"lewis\", \"liberal\", \"life\", \"life\", \"life\", \"life\", \"life\", \"life\", \"life\", \"life\", \"life\", \"life\", \"life\", \"like\", \"like\", \"like\", \"like\", \"like\", \"like\", \"like\", \"like\", \"liked\", \"liked\", \"liked\", \"liked\", \"liked\", \"liked\", \"likely\", \"likely\", \"likes\", \"likes\", \"likes\", \"likes\", \"likes\", \"likes\", \"likes\", \"likes\", \"likes\", \"lines\", \"lit\", \"literal\", \"literal\", \"literal\", \"literature\", \"little\", \"little\", \"little\", \"little\", \"little\", \"little\", \"little\", \"little\", \"little\", \"little\", \"little\", \"little\", \"little\", \"little\", \"lives\", \"lives\", \"load\", \"load\", \"load\", \"loads\", \"loads\", \"lol\", \"lol\", \"long\", \"long\", \"long\", \"long\", \"long\", \"long\", \"long\", \"long\", \"long\", \"long\", \"long\", \"long\", \"long\", \"long\", \"long\", \"long\", \"long\", \"long\", \"long\", \"long\", \"long\", \"looks\", \"looks\", \"looks\", \"looks\", \"loosen\", \"looses\", \"loses\", \"loses\", \"lost\", \"lots\", \"lots\", \"loud\", \"love\", \"love\", \"love\", \"love\", \"love\", \"love\", \"love\", \"love\", \"love\", \"love\", \"love\", \"love\", \"love\", \"loved\", \"loved\", \"loved\", \"lovely\", \"lovely\", \"loves\", \"loves\", \"loves\", \"loves\", \"loves\", \"loves\", \"loves\", \"loves\", \"loves\", \"luck\", \"lucky\", \"lucky\", \"lucky\", \"lucky\", \"lucky\", \"lucky\", \"lucky\", \"lucky\", \"lunch\", \"mad\", \"madame\", \"magically\", \"magically\", \"makes\", \"makes\", \"makes\", \"makes\", \"makes\", \"makes\", \"makes\", \"makes\", \"makes\", \"makes\", \"makes\", \"makes\", \"makes\", \"makes\", \"makes\", \"makes\", \"makes\", \"makes\", \"male\", \"manners\", \"many\", \"many\", \"many\", \"many\", \"many\", \"many\", \"many\", \"many\", \"many\", \"many\", \"many\", \"many\", \"many\", \"many\", \"many\", \"many\", \"many\", \"many\", \"many\", \"many\", \"many\", \"many\", \"many\", \"marching\", \"marked\", \"marked\", \"marking\", \"massive\", \"massive\", \"massive\", \"massive\", \"material\", \"material\", \"material\", \"math\", \"math\", \"math\", \"mature\", \"maybe\", \"maybe\", \"maybe\", \"mean\", \"mean\", \"mean\", \"mean\", \"mean\", \"meanest\", \"media\", \"meh\", \"meh\", \"meh\", \"men\", \"men\", \"mercy\", \"messy\", \"met\", \"met\", \"met\", \"met\", \"method\", \"method\", \"method\", \"method\", \"method\", \"method\", \"methods\", \"methods\", \"methods\", \"methods\", \"mhs\", \"middle\", \"min\", \"min\", \"min\", \"mind\", \"mind\", \"mind\", \"mind\", \"minded\", \"minds\", \"mine\", \"minutes\", \"miracle\", \"miserable\", \"misfortune\", \"misfortune\", \"misses\", \"mistakes\", \"mistakes\", \"mistakes\", \"mistakes\", \"mistakes\", \"mistakes\", \"mom\", \"mom\", \"mom\", \"mom\", \"money\", \"money\", \"money\", \"mono\", \"monotone\", \"monotone\", \"mood\", \"morons\", \"morons\", \"motivation\", \"motivation\", \"moves\", \"moves\", \"movie\", \"movies\", \"movies\", \"music\", \"musical\", \"musician\", \"name\", \"names\", \"nap\", \"narrow\", \"native\", \"nd\", \"necessarily\", \"need\", \"need\", \"need\", \"need\", \"need\", \"need\", \"need\", \"need\", \"need\", \"need\", \"need\", \"need\", \"need\", \"need\", \"need\", \"needed\", \"needed\", \"needed\", \"needed\", \"needing\", \"needing\", \"needs\", \"negative\", \"nething\", \"never\", \"never\", \"never\", \"never\", \"never\", \"never\", \"never\", \"never\", \"never\", \"never\", \"never\", \"never\", \"never\", \"never\", \"never\", \"never\", \"never\", \"never\", \"never\", \"never\", \"never\", \"never\", \"never\", \"never\", \"new\", \"new\", \"new\", \"new\", \"new\", \"new\", \"new\", \"new\", \"new\", \"new\", \"nice\", \"nice\", \"nicer\", \"nicest\", \"night\", \"nights\", \"nights\", \"nose\", \"notebooks\", \"notebooks\", \"notes\", \"notes\", \"notes\", \"notes\", \"nothing\", \"nothing\", \"nothing\", \"nothing\", \"notice\", \"notice\", \"notice\", \"notice\", \"nows\", \"nvr\", \"oblivious\", \"obvious\", \"offended\", \"offer\", \"offer\", \"offer\", \"offer\", \"offers\", \"offers\", \"offers\", \"offers\", \"offers\", \"office\", \"office\", \"often\", \"often\", \"often\", \"often\", \"often\", \"often\", \"often\", \"ok\", \"ok\", \"ok\", \"ok\", \"okay\", \"okay\", \"okay\", \"okay\", \"okay\", \"okay\", \"okay\", \"okay\", \"okay\", \"okay\", \"okay\", \"okay\", \"okay\", \"okay\", \"okay\", \"old\", \"old\", \"olds\", \"omg\", \"omg\", \"ones\", \"ones\", \"ones\", \"ones\", \"ones\", \"ones\", \"ones\", \"online\", \"online\", \"online\", \"online\", \"opinion\", \"opinion\", \"opinionated\", \"opinionated\", \"opinions\", \"opinions\", \"orchestra\", \"others\", \"others\", \"others\", \"others\", \"others\", \"others\", \"others\", \"ought\", \"outline\", \"outline\", \"outlines\", \"outlines\", \"outright\", \"outside\", \"outside\", \"outside\", \"outside\", \"outside\", \"outside\", \"outside\", \"outside\", \"outside\", \"outside\", \"overall\", \"overall\", \"overall\", \"overall\", \"overall\", \"overall\", \"overall\", \"overall\", \"overall\", \"overall\", \"overall\", \"overall\", \"overall\", \"overall\", \"overall\", \"overall\", \"overall\", \"overall\", \"overhead\", \"pace\", \"pace\", \"paced\", \"packet\", \"packet\", \"packets\", \"packets\", \"page\", \"paper\", \"paper\", \"paper\", \"papers\", \"papers\", \"papers\", \"papers\", \"paperwork\", \"parent\", \"parent\", \"parent\", \"parents\", \"parents\", \"parents\", \"partial\", \"partial\", \"participation\", \"pass\", \"pass\", \"pass\", \"pass\", \"pass\", \"pass\", \"pass\", \"pass\", \"pass\", \"pass\", \"pass\", \"pass\", \"passed\", \"passion\", \"passive\", \"pathetic\", \"pay\", \"payed\", \"payed\", \"paying\", \"pays\", \"pe\", \"pencil\", \"people\", \"people\", \"people\", \"people\", \"people\", \"people\", \"people\", \"people\", \"people\", \"people\", \"people\", \"people\", \"people\", \"people\", \"people\", \"people\", \"people\", \"people\", \"people\", \"people\", \"people\", \"perfection\", \"perfection\", \"perfection\", \"period\", \"period\", \"person\", \"personal\", \"personal\", \"personality\", \"personality\", \"personality\", \"personality\", \"personality\", \"personality\", \"personality\", \"personality\", \"personality\", \"personality\", \"personality\", \"personality\", \"phone\", \"phone\", \"phone\", \"phones\", \"phony\", \"photography\", \"physical\", \"physics\", \"physics\", \"pick\", \"picked\", \"picks\", \"pictures\", \"pillow\", \"plain\", \"plan\", \"plan\", \"plan\", \"planet\", \"planet\", \"planet\", \"planet\", \"plans\", \"plans\", \"play\", \"play\", \"played\", \"played\", \"player\", \"players\", \"playing\", \"playing\", \"plays\", \"please\", \"pointless\", \"pointless\", \"pointless\", \"pointless\", \"pointless\", \"pointless\", \"points\", \"points\", \"points\", \"points\", \"policy\", \"policy\", \"political\", \"pompous\", \"poor\", \"pop\", \"popular\", \"possible\", \"possible\", \"possibly\", \"power\", \"power\", \"power\", \"power\", \"power\", \"power\", \"powerpoint\", \"powerpoint\", \"powerpoints\", \"powerpoints\", \"pre\", \"pre\", \"prep\", \"prepare\", \"prepared\", \"prepared\", \"prepared\", \"prepared\", \"preparing\", \"preparing\", \"preschoolers\", \"presented\", \"pretty\", \"pretty\", \"pretty\", \"pretty\", \"pretty\", \"pretty\", \"pretty\", \"pretty\", \"pretty\", \"principal\", \"principle\", \"print\", \"printed\", \"prints\", \"private\", \"private\", \"probably\", \"probably\", \"probably\", \"probably\", \"probably\", \"probably\", \"probably\", \"probably\", \"problem\", \"problem\", \"problem\", \"problem\", \"problem\", \"problem\", \"problem\", \"problem\", \"problem\", \"problem\", \"problem\", \"problem\", \"process\", \"process\", \"professor\", \"program\", \"program\", \"program\", \"program\", \"program\", \"programming\", \"project\", \"projector\", \"projects\", \"projects\", \"prolly\", \"pronounce\", \"properly\", \"properly\", \"properly\", \"properly\", \"properly\", \"provide\", \"provide\", \"psych\", \"psychology\", \"public\", \"public\", \"public\", \"punishments\", \"punishments\", \"purposefully\", \"pushover\", \"pushover\", \"pushover\", \"put\", \"put\", \"put\", \"put\", \"put\", \"put\", \"put\", \"put\", \"put\", \"put\", \"put\", \"put\", \"put\", \"put\", \"put\", \"put\", \"put\", \"put\", \"put\", \"put\", \"put\", \"quality\", \"quality\", \"quality\", \"quarters\", \"queen\", \"question\", \"questionable\", \"questions\", \"quiet\", \"quit\", \"quit\", \"quiz\", \"quiz\", \"quizes\", \"quizzes\", \"quizzes\", \"quizzes\", \"quote\", \"raise\", \"raised\", \"raising\", \"ranting\", \"rants\", \"rants\", \"rate\", \"rate\", \"rate\", \"rate\", \"rate\", \"rated\", \"rather\", \"rather\", \"rather\", \"rather\", \"rather\", \"rather\", \"rather\", \"rating\", \"ratings\", \"read\", \"read\", \"reading\", \"reading\", \"reading\", \"reading\", \"reading\", \"reading\", \"reading\", \"reads\", \"reads\", \"realize\", \"realize\", \"realy\", \"realy\", \"reason\", \"reason\", \"reason\", \"reason\", \"reason\", \"reason\", \"reason\", \"reason\", \"reason\", \"reason\", \"reason\", \"reason\", \"reason\", \"reason\", \"reason\", \"reason\", \"reason\", \"reason\", \"recommend\", \"recommend\", \"recommend\", \"recommend\", \"recommend\", \"recommend\", \"recommend\", \"recommend\", \"recommend\", \"recommend\", \"recommend\", \"recommend\", \"recommend\", \"recommend\", \"refused\", \"refused\", \"regular\", \"relax\", \"relearn\", \"religion\", \"religion\", \"relying\", \"relying\", \"remember\", \"remember\", \"replaced\", \"replaced\", \"report\", \"respect\", \"respect\", \"respectful\", \"respond\", \"responsibility\", \"retire\", \"retires\", \"return\", \"return\", \"returned\", \"reviews\", \"reviews\", \"reviews\", \"reviews\", \"ridicules\", \"ridicules\", \"right\", \"right\", \"right\", \"right\", \"right\", \"right\", \"right\", \"right\", \"right\", \"right\", \"right\", \"right\", \"right\", \"right\", \"right\", \"right\", \"right\", \"right\", \"right\", \"right\", \"rly\", \"rock\", \"rock\", \"rolls\", \"romeo\", \"room\", \"rough\", \"row\", \"rubric\", \"rude\", \"rude\", \"rude\", \"rude\", \"rude\", \"rude\", \"rude\", \"rudest\", \"rules\", \"rules\", \"rules\", \"rules\", \"rules\", \"rules\", \"run\", \"running\", \"said\", \"said\", \"said\", \"said\", \"said\", \"said\", \"said\", \"said\", \"said\", \"said\", \"said\", \"said\", \"sake\", \"sarcastic\", \"sarcastic\", \"save\", \"save\", \"save\", \"save\", \"say\", \"say\", \"say\", \"say\", \"say\", \"say\", \"say\", \"say\", \"say\", \"saying\", \"saying\", \"saying\", \"saying\", \"saying\", \"saying\", \"saying\", \"saying\", \"saying\", \"saying\", \"saying\", \"saying\", \"saying\", \"saying\", \"saying\", \"says\", \"says\", \"says\", \"says\", \"says\", \"says\", \"says\", \"says\", \"says\", \"says\", \"says\", \"says\", \"says\", \"scale\", \"scantron\", \"scattered\", \"schedule\", \"schedule\", \"schedule\", \"schedule\", \"schedule\", \"schedule\", \"schedule\", \"school\", \"schoolers\", \"schooling\", \"schooling\", \"schools\", \"schools\", \"sci\", \"science\", \"science\", \"science\", \"science\", \"science\", \"science\", \"science\", \"science\", \"science\", \"scolds\", \"scream\", \"screams\", \"screams\", \"screams\", \"seat\", \"seats\", \"second\", \"second\", \"sections\", \"sections\", \"see\", \"see\", \"see\", \"see\", \"see\", \"see\", \"see\", \"see\", \"see\", \"see\", \"see\", \"see\", \"see\", \"see\", \"see\", \"see\", \"see\", \"see\", \"see\", \"see\", \"see\", \"seeing\", \"seek\", \"seek\", \"seem\", \"seem\", \"seem\", \"seem\", \"seem\", \"seemed\", \"seemed\", \"seemed\", \"seems\", \"seems\", \"seems\", \"seems\", \"seems\", \"seems\", \"select\", \"self\", \"semester\", \"semester\", \"semester\", \"semi\", \"semi\", \"semi\", \"sence\", \"senior\", \"senior\", \"senior\", \"senior\", \"senora\", \"sense\", \"sense\", \"sent\", \"sent\", \"sentences\", \"sentences\", \"serious\", \"serious\", \"serious\", \"seriously\", \"seriously\", \"seriously\", \"seriously\", \"seriously\", \"seriously\", \"seriously\", \"seriously\", \"seriously\", \"seriously\", \"seriously\", \"seriously\", \"seriously\", \"seriously\", \"seriously\", \"seriously\", \"seriously\", \"seventh\", \"sheet\", \"sheet\", \"sheets\", \"shez\", \"shoes\", \"shop\", \"short\", \"short\", \"shows\", \"shows\", \"shows\", \"shows\", \"shows\", \"shows\", \"shows\", \"shows\", \"shows\", \"shut\", \"shut\", \"sick\", \"sick\", \"side\", \"sides\", \"sidetracked\", \"since\", \"since\", \"since\", \"since\", \"since\", \"since\", \"since\", \"since\", \"since\", \"since\", \"since\", \"since\", \"since\", \"since\", \"since\", \"sing\", \"single\", \"single\", \"single\", \"single\", \"single\", \"singles\", \"sister\", \"sit\", \"sit\", \"sit\", \"sit\", \"sit\", \"site\", \"sits\", \"sits\", \"six\", \"sixth\", \"skilled\", \"skills\", \"skool\", \"slack\", \"slack\", \"sleep\", \"sleeping\", \"sleeping\", \"sleeping\", \"sleeps\", \"slide\", \"slides\", \"smart\", \"smart\", \"smart\", \"smart\", \"smart\", \"smarter\", \"smarter\", \"smile\", \"snobby\", \"soccer\", \"social\", \"social\", \"sociology\", \"sociology\", \"solve\", \"solve\", \"solve\", \"solve\", \"solved\", \"solving\", \"someone\", \"someone\", \"someone\", \"someone\", \"someone\", \"something\", \"something\", \"something\", \"something\", \"something\", \"something\", \"something\", \"something\", \"sometimes\", \"sometimes\", \"sometimes\", \"sometimes\", \"sometimes\", \"son\", \"song\", \"songs\", \"sons\", \"soon\", \"soon\", \"soon\", \"soon\", \"sorry\", \"sorry\", \"sorry\", \"sorry\", \"sorry\", \"sorry\", \"sorry\", \"sorry\", \"sorry\", \"sorry\", \"sorry\", \"sorta\", \"sounds\", \"sounds\", \"sounds\", \"sounds\", \"sour\", \"spacey\", \"spacey\", \"spanish\", \"speak\", \"speaker\", \"speaking\", \"speaks\", \"special\", \"special\", \"speech\", \"speech\", \"speech\", \"speech\", \"speech\", \"speech\", \"speech\", \"speeds\", \"spell\", \"spelling\", \"spells\", \"spells\", \"spells\", \"spend\", \"spending\", \"spending\", \"spends\", \"spent\", \"sports\", \"spot\", \"spot\", \"spot\", \"staff\", \"staff\", \"stand\", \"star\", \"stars\", \"stars\", \"start\", \"start\", \"start\", \"start\", \"start\", \"start\", \"start\", \"start\", \"start\", \"start\", \"start\", \"start\", \"started\", \"started\", \"started\", \"started\", \"state\", \"state\", \"state\", \"state\", \"state\", \"state\", \"state\", \"stats\", \"stayed\", \"stick\", \"stop\", \"stop\", \"stories\", \"stories\", \"stories\", \"stories\", \"strange\", \"strangest\", \"stress\", \"stress\", \"stress\", \"stress\", \"strict\", \"strict\", \"strict\", \"strict\", \"strict\", \"strict\", \"strict\", \"strict\", \"strict\", \"strict\", \"strict\", \"struggled\", \"stubborn\", \"student\", \"student\", \"student\", \"student\", \"student\", \"student\", \"student\", \"student\", \"students\", \"students\", \"students\", \"students\", \"students\", \"students\", \"students\", \"students\", \"students\", \"students\", \"students\", \"students\", \"students\", \"students\", \"students\", \"students\", \"students\", \"students\", \"students\", \"studies\", \"study\", \"study\", \"study\", \"study\", \"stuff\", \"stuff\", \"stuff\", \"stuff\", \"stuff\", \"stuff\", \"stuff\", \"stuff\", \"stuff\", \"stuff\", \"stuff\", \"stuff\", \"stupid\", \"stupid\", \"stupid\", \"stupid\", \"stupid\", \"stupid\", \"stupid\", \"style\", \"style\", \"sub\", \"sub\", \"sub\", \"sub\", \"sub\", \"subject\", \"subject\", \"subject\", \"subject\", \"subject\", \"subject\", \"subject\", \"subject\", \"subject\", \"subjectively\", \"substitute\", \"substitute\", \"success\", \"success\", \"sucked\", \"suffer\", \"suffer\", \"suffer\", \"suffer\", \"summer\", \"summer\", \"summer\", \"super\", \"super\", \"super\", \"superior\", \"supposed\", \"supposed\", \"supposed\", \"supposed\", \"supposed\", \"supposed\", \"supposed\", \"supposed\", \"supposed\", \"supposed\", \"supposed\", \"supposed\", \"supposed\", \"supposed\", \"supposed\", \"supposed\", \"supposed\", \"sweet\", \"sweetest\", \"swings\", \"switch\", \"switch\", \"switch\", \"switch\", \"switch\", \"switched\", \"switching\", \"switching\", \"sympathy\", \"system\", \"table\", \"taken\", \"taken\", \"taken\", \"taken\", \"taken\", \"taken\", \"taken\", \"takes\", \"takes\", \"takes\", \"takes\", \"takes\", \"takes\", \"takes\", \"takes\", \"takes\", \"takes\", \"takes\", \"takes\", \"takes\", \"taking\", \"taking\", \"taking\", \"taking\", \"talk\", \"talk\", \"talked\", \"talked\", \"talkin\", \"talking\", \"talking\", \"talking\", \"talking\", \"talking\", \"talking\", \"talks\", \"talks\", \"talks\", \"talks\", \"talks\", \"talks\", \"talks\", \"talks\", \"talks\", \"talks\", \"talks\", \"talks\", \"talks\", \"talks\", \"tangent\", \"targets\", \"targets\", \"taught\", \"taught\", \"taught\", \"taught\", \"taught\", \"tax\", \"teac\", \"teac\", \"teac\", \"teach\", \"teach\", \"teach\", \"teach\", \"teach\", \"teach\", \"teacher\", \"teacher\", \"teacher\", \"teacher\", \"teacher\", \"teacher\", \"teacher\", \"teacher\", \"teacher\", \"teacher\", \"teacher\", \"teacher\", \"teacher\", \"teacher\", \"teacher\", \"teacher\", \"teacher\", \"teacher\", \"teacher\", \"teacher\", \"teacher\", \"teacher\", \"teacher\", \"teacher\", \"teacher\", \"teacher\", \"teacher\", \"teachers\", \"teachers\", \"teachers\", \"teachers\", \"teaches\", \"teaches\", \"teaches\", \"teaches\", \"teaches\", \"teaches\", \"teaches\", \"teaches\", \"teaches\", \"teaches\", \"teaches\", \"teaches\", \"teaches\", \"teaches\", \"teaches\", \"teaches\", \"teaching\", \"teaching\", \"teaching\", \"teaching\", \"teaching\", \"teaching\", \"teaching\", \"teaching\", \"teaching\", \"teaching\", \"teaching\", \"teaching\", \"teaching\", \"teaching\", \"teaching\", \"teaching\", \"teaching\", \"teaching\", \"teahcer\", \"team\", \"tech\", \"teenagers\", \"tell\", \"tell\", \"tell\", \"tell\", \"tell\", \"tell\", \"tell\", \"tell\", \"tell\", \"tell\", \"tell\", \"tell\", \"tell\", \"tell\", \"tell\", \"tell\", \"tell\", \"tell\", \"tell\", \"tell\", \"tell\", \"tell\", \"tell\", \"tells\", \"tells\", \"tells\", \"tells\", \"tells\", \"tells\", \"tells\", \"tells\", \"tells\", \"tells\", \"tells\", \"temper\", \"tempered\", \"tendency\", \"terrible\", \"terrible\", \"terrible\", \"terrible\", \"terrible\", \"terrible\", \"terrible\", \"terrible\", \"terrible\", \"terrible\", \"terrible\", \"test\", \"test\", \"test\", \"test\", \"test\", \"tests\", \"tests\", \"tests\", \"tests\", \"tests\", \"tests\", \"text\", \"textbook\", \"textbook\", \"thank\", \"thank\", \"thanks\", \"theater\", \"theatre\", \"thing\", \"think\", \"thinking\", \"thinking\", \"thinking\", \"thinking\", \"thinking\", \"thinking\", \"thinking\", \"thinking\", \"thinking\", \"thinking\", \"thinking\", \"thinking\", \"thinking\", \"thinking\", \"thinking\", \"thinking\", \"thinks\", \"thinks\", \"thinks\", \"thinks\", \"thinks\", \"thinks\", \"thinks\", \"third\", \"thought\", \"thought\", \"thought\", \"thought\", \"thought\", \"thought\", \"thought\", \"thought\", \"thought\", \"thought\", \"threatens\", \"threatens\", \"three\", \"throughly\", \"throughly\", \"throw\", \"ticked\", \"til\", \"time\", \"time\", \"time\", \"timely\", \"times\", \"times\", \"times\", \"times\", \"times\", \"times\", \"times\", \"times\", \"times\", \"times\", \"times\", \"times\", \"times\", \"together\", \"together\", \"together\", \"together\", \"together\", \"told\", \"told\", \"told\", \"told\", \"told\", \"told\", \"told\", \"told\", \"ton\", \"tons\", \"tons\", \"took\", \"took\", \"took\", \"took\", \"took\", \"topic\", \"topic\", \"topic\", \"topic\", \"topic\", \"topics\", \"topics\", \"topics\", \"topics\", \"topics\", \"topics\", \"topics\", \"topics\", \"tough\", \"tough\", \"tough\", \"tough\", \"tough\", \"towards\", \"towards\", \"track\", \"tracked\", \"transfer\", \"transfer\", \"transfer\", \"transfer\", \"transfer\", \"translate\", \"treat\", \"treat\", \"treated\", \"treated\", \"treats\", \"tried\", \"tries\", \"trig\", \"trips\", \"trys\", \"trys\", \"turn\", \"turn\", \"turn\", \"turn\", \"turn\", \"turn\", \"turned\", \"tv\", \"typed\", \"typos\", \"ugh\", \"ugh\", \"ugh\", \"un\", \"un\", \"unable\", \"unable\", \"unable\", \"unclear\", \"uncomfortable\", \"uncomfortable\", \"uncool\", \"understand\", \"understand\", \"understand\", \"understand\", \"understand\", \"understand\", \"understand\", \"understanding\", \"understanding\", \"understanding\", \"understanding\", \"understanding\", \"understanding\", \"understanding\", \"understanding\", \"understanding\", \"understanding\", \"understanding\", \"understanding\", \"understanding\", \"understands\", \"understands\", \"understands\", \"understands\", \"understands\", \"understands\", \"understands\", \"understood\", \"unfair\", \"unfair\", \"unfair\", \"unfair\", \"unfair\", \"unfairly\", \"unfortunately\", \"unfortunately\", \"unfortunately\", \"unfortunately\", \"unfortunately\", \"unfortunately\", \"unfriendly\", \"unhelpful\", \"unhelpful\", \"unhelpful\", \"unhelpful\", \"unhelpful\", \"unhelpful\", \"unhelpful\", \"unhelpful\", \"unhelpful\", \"uninteresting\", \"unprepared\", \"unprepared\", \"unprepared\", \"unprepared\", \"unprofessional\", \"unprofessional\", \"unreasonable\", \"unreasonable\", \"unreasonable\", \"unreasonable\", \"update\", \"updates\", \"ups\", \"upset\", \"upset\", \"upset\", \"uptight\", \"use\", \"use\", \"use\", \"use\", \"use\", \"vague\", \"vague\", \"van\", \"van\", \"vary\", \"verbally\", \"verbatim\", \"verry\", \"verry\", \"vice\", \"video\", \"video\", \"video\", \"videos\", \"videos\", \"videos\", \"videos\", \"videos\", \"videos\", \"views\", \"vocab\", \"vocab\", \"vocab\", \"vocabulary\", \"voice\", \"voice\", \"voice\", \"wait\", \"wait\", \"walk\", \"walk\", \"wall\", \"want\", \"want\", \"want\", \"want\", \"want\", \"want\", \"want\", \"want\", \"want\", \"want\", \"want\", \"want\", \"want\", \"want\", \"want\", \"want\", \"want\", \"want\", \"want\", \"want\", \"wanted\", \"wants\", \"wants\", \"wants\", \"wants\", \"wants\", \"wants\", \"wants\", \"wants\", \"wants\", \"wants\", \"wants\", \"wants\", \"wants\", \"wants\", \"wants\", \"waste\", \"wasted\", \"wastes\", \"wasting\", \"watch\", \"watch\", \"watch\", \"watched\", \"watching\", \"watching\", \"water\", \"weak\", \"week\", \"week\", \"week\", \"weekend\", \"weekend\", \"weekends\", \"weeks\", \"weeks\", \"weeks\", \"weeks\", \"weeks\", \"weird\", \"weird\", \"weirdest\", \"weirdest\", \"wen\", \"went\", \"went\", \"whenever\", \"whenever\", \"whole\", \"whole\", \"whole\", \"whole\", \"whole\", \"whole\", \"whole\", \"whole\", \"whole\", \"whole\", \"whole\", \"whole\", \"whole\", \"willing\", \"window\", \"wish\", \"wish\", \"wish\", \"wish\", \"wish\", \"wish\", \"wish\", \"without\", \"without\", \"without\", \"without\", \"without\", \"without\", \"without\", \"without\", \"without\", \"without\", \"without\", \"without\", \"without\", \"without\", \"without\", \"without\", \"wonder\", \"wonderful\", \"wonderful\", \"wonderful\", \"wonderful\", \"wonderful\", \"wondering\", \"word\", \"wording\", \"wording\", \"wording\", \"words\", \"work\", \"work\", \"work\", \"work\", \"work\", \"work\", \"work\", \"work\", \"work\", \"work\", \"work\", \"work\", \"work\", \"work\", \"work\", \"work\", \"worksheet\", \"worksheets\", \"world\", \"world\", \"world\", \"world\", \"worse\", \"worse\", \"worse\", \"worse\", \"worse\", \"worse\", \"worse\", \"worse\", \"worse\", \"worse\", \"worse\", \"worse\", \"worse\", \"worse\", \"worse\", \"worse\", \"worst\", \"worst\", \"worth\", \"worth\", \"worth\", \"worth\", \"wow\", \"wow\", \"wow\", \"write\", \"write\", \"write\", \"write\", \"write\", \"writes\", \"writes\", \"writing\", \"writing\", \"writing\", \"writing\", \"wrong\", \"wrong\", \"wrong\", \"wrong\", \"wrong\", \"wrong\", \"wrost\", \"wuz\", \"yearbook\", \"years\", \"years\", \"years\", \"years\", \"years\", \"years\", \"yell\", \"yell\", \"yelled\", \"yelled\", \"yelled\", \"yelling\", \"yelling\", \"yelling\", \"yells\", \"yells\", \"yells\", \"yells\", \"yells\", \"yo\", \"young\", \"young\", \"young\", \"zero\", \"zero\", \"zero\", \"zero\"]}, \"R\": 30, \"lambda.step\": 0.01, \"plot.opts\": {\"xlab\": \"PC1\", \"ylab\": \"PC2\"}, \"topic.order\": [1, 5, 2, 3, 8, 4, 17, 13, 23, 20, 15, 12, 7, 21, 6, 22, 16, 9, 14, 10, 18, 25, 24, 11, 26, 27, 19]};\n",
       "\n",
       "function LDAvis_load_lib(url, callback){\n",
       "  var s = document.createElement('script');\n",
       "  s.src = url;\n",
       "  s.async = true;\n",
       "  s.onreadystatechange = s.onload = callback;\n",
       "  s.onerror = function(){console.warn(\"failed to load library \" + url);};\n",
       "  document.getElementsByTagName(\"head\")[0].appendChild(s);\n",
       "}\n",
       "\n",
       "if(typeof(LDAvis) !== \"undefined\"){\n",
       "   // already loaded: just create the visualization\n",
       "   !function(LDAvis){\n",
       "       new LDAvis(\"#\" + \"ldavis_el199091406650202556966086597675\", ldavis_el199091406650202556966086597675_data);\n",
       "   }(LDAvis);\n",
       "}else if(typeof define === \"function\" && define.amd){\n",
       "   // require.js is available: use it to load d3/LDAvis\n",
       "   require.config({paths: {d3: \"https://cdnjs.cloudflare.com/ajax/libs/d3/3.5.5/d3.min\"}});\n",
       "   require([\"d3\"], function(d3){\n",
       "      window.d3 = d3;\n",
       "      LDAvis_load_lib(\"https://cdn.rawgit.com/bmabey/pyLDAvis/files/ldavis.v1.0.0.js\", function(){\n",
       "        new LDAvis(\"#\" + \"ldavis_el199091406650202556966086597675\", ldavis_el199091406650202556966086597675_data);\n",
       "      });\n",
       "    });\n",
       "}else{\n",
       "    // require.js not available: dynamically load d3 & LDAvis\n",
       "    LDAvis_load_lib(\"https://cdnjs.cloudflare.com/ajax/libs/d3/3.5.5/d3.min.js\", function(){\n",
       "         LDAvis_load_lib(\"https://cdn.rawgit.com/bmabey/pyLDAvis/files/ldavis.v1.0.0.js\", function(){\n",
       "                 new LDAvis(\"#\" + \"ldavis_el199091406650202556966086597675\", ldavis_el199091406650202556966086597675_data);\n",
       "            })\n",
       "         });\n",
       "}\n",
       "</script>"
      ],
      "text/plain": [
       "<IPython.core.display.HTML object>"
      ]
     },
     "metadata": {},
     "output_type": "display_data"
    }
   ],
   "source": [
    "from IPython.core.display import display, HTML\n",
    "\n",
    "display(HTML('D:/Student_Voices_Database/s3mirror/graphs/LDAGraphs/Viz_[0, 35)_27_LDA1_D1.html'))"
   ]
  },
  {
   "cell_type": "code",
   "execution_count": 15,
   "metadata": {},
   "outputs": [
    {
     "data": {
      "text/html": [
       "<div>\n",
       "<style scoped>\n",
       "    .dataframe tbody tr th:only-of-type {\n",
       "        vertical-align: middle;\n",
       "    }\n",
       "\n",
       "    .dataframe tbody tr th {\n",
       "        vertical-align: top;\n",
       "    }\n",
       "\n",
       "    .dataframe thead th {\n",
       "        text-align: right;\n",
       "    }\n",
       "</style>\n",
       "<table border=\"1\" class=\"dataframe\">\n",
       "  <thead>\n",
       "    <tr style=\"text-align: right;\">\n",
       "      <th></th>\n",
       "      <th>Coherence</th>\n",
       "      <th>NumReviews</th>\n",
       "      <th>Descriptions</th>\n",
       "      <th>LDA_num</th>\n",
       "    </tr>\n",
       "    <tr>\n",
       "      <th>index</th>\n",
       "      <th></th>\n",
       "      <th></th>\n",
       "      <th></th>\n",
       "      <th></th>\n",
       "    </tr>\n",
       "  </thead>\n",
       "  <tbody>\n",
       "    <tr>\n",
       "      <td>19</td>\n",
       "      <td>0.666695</td>\n",
       "      <td>1935</td>\n",
       "      <td>topic 18 words:  cares  coach  play  run  gym ...</td>\n",
       "      <td>27</td>\n",
       "    </tr>\n",
       "    <tr>\n",
       "      <td>22</td>\n",
       "      <td>0.638279</td>\n",
       "      <td>6730</td>\n",
       "      <td>topic 21 words:  class  ap  taking  college  h...</td>\n",
       "      <td>16</td>\n",
       "    </tr>\n",
       "    <tr>\n",
       "      <td>3</td>\n",
       "      <td>0.615326</td>\n",
       "      <td>13605</td>\n",
       "      <td>topic 2 words:  ask  questions  gets  question...</td>\n",
       "      <td>4</td>\n",
       "    </tr>\n",
       "    <tr>\n",
       "      <td>21</td>\n",
       "      <td>0.599720</td>\n",
       "      <td>8853</td>\n",
       "      <td>topic 20 words:  gives  homework  tests  class...</td>\n",
       "      <td>14</td>\n",
       "    </tr>\n",
       "    <tr>\n",
       "      <td>18</td>\n",
       "      <td>0.599548</td>\n",
       "      <td>3003</td>\n",
       "      <td>topic 17 words:  work  due  projects  assignme...</td>\n",
       "      <td>21</td>\n",
       "    </tr>\n",
       "    <tr>\n",
       "      <td>20</td>\n",
       "      <td>0.580280</td>\n",
       "      <td>9758</td>\n",
       "      <td>topic 19 words:  students  teaching  poor  kno...</td>\n",
       "      <td>10</td>\n",
       "    </tr>\n",
       "    <tr>\n",
       "      <td>26</td>\n",
       "      <td>0.578786</td>\n",
       "      <td>2140</td>\n",
       "      <td>topic 25 words:  english  spanish  word  frenc...</td>\n",
       "      <td>25</td>\n",
       "    </tr>\n",
       "    <tr>\n",
       "      <td>15</td>\n",
       "      <td>0.573826</td>\n",
       "      <td>9950</td>\n",
       "      <td>topic 14 words:  students  teacher  child  res...</td>\n",
       "      <td>11</td>\n",
       "    </tr>\n",
       "    <tr>\n",
       "      <td>17</td>\n",
       "      <td>0.572851</td>\n",
       "      <td>10519</td>\n",
       "      <td>topic 16 words:  time  class  boring  half  ta...</td>\n",
       "      <td>7</td>\n",
       "    </tr>\n",
       "    <tr>\n",
       "      <td>14</td>\n",
       "      <td>0.556834</td>\n",
       "      <td>5578</td>\n",
       "      <td>topic 13 words:  favorites  hate  picks  plays...</td>\n",
       "      <td>19</td>\n",
       "    </tr>\n",
       "    <tr>\n",
       "      <td>13</td>\n",
       "      <td>0.556267</td>\n",
       "      <td>9878</td>\n",
       "      <td>topic 12 words:  work  test  grade  points  ev...</td>\n",
       "      <td>8</td>\n",
       "    </tr>\n",
       "    <tr>\n",
       "      <td>10</td>\n",
       "      <td>0.546313</td>\n",
       "      <td>4306</td>\n",
       "      <td>topic 9 words:  school  high  middle  teachers...</td>\n",
       "      <td>20</td>\n",
       "    </tr>\n",
       "    <tr>\n",
       "      <td>8</td>\n",
       "      <td>0.541099</td>\n",
       "      <td>13374</td>\n",
       "      <td>topic 7 words:  class  hard  book  understand ...</td>\n",
       "      <td>5</td>\n",
       "    </tr>\n",
       "    <tr>\n",
       "      <td>23</td>\n",
       "      <td>0.530162</td>\n",
       "      <td>8743</td>\n",
       "      <td>topic 22 words:  teacher  worst  teachers  far...</td>\n",
       "      <td>9</td>\n",
       "    </tr>\n",
       "    <tr>\n",
       "      <td>2</td>\n",
       "      <td>0.526225</td>\n",
       "      <td>14125</td>\n",
       "      <td>topic 1 words:  class  got  never  last  taugh...</td>\n",
       "      <td>3</td>\n",
       "    </tr>\n",
       "    <tr>\n",
       "      <td>24</td>\n",
       "      <td>0.523933</td>\n",
       "      <td>2445</td>\n",
       "      <td>topic 23 words:  computer  times  watch  first...</td>\n",
       "      <td>23</td>\n",
       "    </tr>\n",
       "    <tr>\n",
       "      <td>16</td>\n",
       "      <td>0.503889</td>\n",
       "      <td>5945</td>\n",
       "      <td>topic 15 words:  grades  unclear  clear  extre...</td>\n",
       "      <td>17</td>\n",
       "    </tr>\n",
       "    <tr>\n",
       "      <td>9</td>\n",
       "      <td>0.492774</td>\n",
       "      <td>5089</td>\n",
       "      <td>topic 8 words:  cool  grade  funny  sometimes ...</td>\n",
       "      <td>18</td>\n",
       "    </tr>\n",
       "    <tr>\n",
       "      <td>5</td>\n",
       "      <td>0.487746</td>\n",
       "      <td>16042</td>\n",
       "      <td>topic 4 words:  teach  know  anything  cannot ...</td>\n",
       "      <td>2</td>\n",
       "    </tr>\n",
       "    <tr>\n",
       "      <td>27</td>\n",
       "      <td>0.478770</td>\n",
       "      <td>1619</td>\n",
       "      <td>topic 26 words:  gave  lost  name  hand  call ...</td>\n",
       "      <td>26</td>\n",
       "    </tr>\n",
       "    <tr>\n",
       "      <td>11</td>\n",
       "      <td>0.466625</td>\n",
       "      <td>1259</td>\n",
       "      <td>topic 10 words:  grading  self  avoid  system ...</td>\n",
       "      <td>24</td>\n",
       "    </tr>\n",
       "    <tr>\n",
       "      <td>25</td>\n",
       "      <td>0.453375</td>\n",
       "      <td>3769</td>\n",
       "      <td>topic 24 words:  needs  stop  teaching  contro...</td>\n",
       "      <td>22</td>\n",
       "    </tr>\n",
       "    <tr>\n",
       "      <td>1</td>\n",
       "      <td>0.451853</td>\n",
       "      <td>15644</td>\n",
       "      <td>topic 0 words:  class  nothing  think  learn  ...</td>\n",
       "      <td>1</td>\n",
       "    </tr>\n",
       "    <tr>\n",
       "      <td>4</td>\n",
       "      <td>0.451462</td>\n",
       "      <td>10995</td>\n",
       "      <td>topic 3 words:  like  kids  students  feel  pe...</td>\n",
       "      <td>6</td>\n",
       "    </tr>\n",
       "    <tr>\n",
       "      <td>12</td>\n",
       "      <td>0.448307</td>\n",
       "      <td>11639</td>\n",
       "      <td>topic 11 words:  talk  always  class  mean  ro...</td>\n",
       "      <td>12</td>\n",
       "    </tr>\n",
       "    <tr>\n",
       "      <td>6</td>\n",
       "      <td>0.431504</td>\n",
       "      <td>6827</td>\n",
       "      <td>topic 5 words:  nice  help  teacher  person  h...</td>\n",
       "      <td>15</td>\n",
       "    </tr>\n",
       "    <tr>\n",
       "      <td>7</td>\n",
       "      <td>0.403034</td>\n",
       "      <td>7454</td>\n",
       "      <td>topic 6 words:  good  teacher  bad  math  mean...</td>\n",
       "      <td>13</td>\n",
       "    </tr>\n",
       "  </tbody>\n",
       "</table>\n",
       "</div>"
      ],
      "text/plain": [
       "       Coherence  NumReviews  \\\n",
       "index                          \n",
       "19      0.666695        1935   \n",
       "22      0.638279        6730   \n",
       "3       0.615326       13605   \n",
       "21      0.599720        8853   \n",
       "18      0.599548        3003   \n",
       "20      0.580280        9758   \n",
       "26      0.578786        2140   \n",
       "15      0.573826        9950   \n",
       "17      0.572851       10519   \n",
       "14      0.556834        5578   \n",
       "13      0.556267        9878   \n",
       "10      0.546313        4306   \n",
       "8       0.541099       13374   \n",
       "23      0.530162        8743   \n",
       "2       0.526225       14125   \n",
       "24      0.523933        2445   \n",
       "16      0.503889        5945   \n",
       "9       0.492774        5089   \n",
       "5       0.487746       16042   \n",
       "27      0.478770        1619   \n",
       "11      0.466625        1259   \n",
       "25      0.453375        3769   \n",
       "1       0.451853       15644   \n",
       "4       0.451462       10995   \n",
       "12      0.448307       11639   \n",
       "6       0.431504        6827   \n",
       "7       0.403034        7454   \n",
       "\n",
       "                                            Descriptions  LDA_num  \n",
       "index                                                              \n",
       "19     topic 18 words:  cares  coach  play  run  gym ...       27  \n",
       "22     topic 21 words:  class  ap  taking  college  h...       16  \n",
       "3      topic 2 words:  ask  questions  gets  question...        4  \n",
       "21     topic 20 words:  gives  homework  tests  class...       14  \n",
       "18     topic 17 words:  work  due  projects  assignme...       21  \n",
       "20     topic 19 words:  students  teaching  poor  kno...       10  \n",
       "26     topic 25 words:  english  spanish  word  frenc...       25  \n",
       "15     topic 14 words:  students  teacher  child  res...       11  \n",
       "17     topic 16 words:  time  class  boring  half  ta...        7  \n",
       "14     topic 13 words:  favorites  hate  picks  plays...       19  \n",
       "13     topic 12 words:  work  test  grade  points  ev...        8  \n",
       "10     topic 9 words:  school  high  middle  teachers...       20  \n",
       "8      topic 7 words:  class  hard  book  understand ...        5  \n",
       "23     topic 22 words:  teacher  worst  teachers  far...        9  \n",
       "2      topic 1 words:  class  got  never  last  taugh...        3  \n",
       "24     topic 23 words:  computer  times  watch  first...       23  \n",
       "16     topic 15 words:  grades  unclear  clear  extre...       17  \n",
       "9      topic 8 words:  cool  grade  funny  sometimes ...       18  \n",
       "5      topic 4 words:  teach  know  anything  cannot ...        2  \n",
       "27     topic 26 words:  gave  lost  name  hand  call ...       26  \n",
       "11     topic 10 words:  grading  self  avoid  system ...       24  \n",
       "25     topic 24 words:  needs  stop  teaching  contro...       22  \n",
       "1      topic 0 words:  class  nothing  think  learn  ...        1  \n",
       "4      topic 3 words:  like  kids  students  feel  pe...        6  \n",
       "12     topic 11 words:  talk  always  class  mean  ro...       12  \n",
       "6      topic 5 words:  nice  help  teacher  person  h...       15  \n",
       "7      topic 6 words:  good  teacher  bad  math  mean...       13  "
      ]
     },
     "execution_count": 15,
     "metadata": {},
     "output_type": "execute_result"
    }
   ],
   "source": [
    "from student_voices import review \n",
    "from importlib import reload\n",
    "review = reload(review)\n",
    "\n",
    "results_dir = 'D:/Student_Voices_Database/s3mirror/results'\n",
    "rng = '[0, 35)'\n",
    "config = 'D1'\n",
    "setting = 'LDA1'\n",
    "tn = 27\n",
    "\n",
    "model_info = review.get_topic_summary(results_dir, tn, rng, config, setting)\n",
    "\n",
    "# This topic assignment was performed by manually comparing the key words in the pyLDAvis graph and the coherence output. \n",
    "# When replicating this study, topics may be presented in a different order (but should have the same key words and coherence scores).\n",
    "# Make sure that topics match up if you want to attach coherence scores to the pyLDAvis topics. \n",
    "lda_idx = {1:1, 2:3, 3:4, 4:6, 5:2, 6:15, 7:13, 8:5, 9:18, 10:20, 11:24, 12:12, 13:8, 14:19, 15:11, 16:17, 17:7, 18:21, 19:27, 20:10, 21:14, 22:16, 23:9, 24:23, 25:22, 26:25, 27:26}\n",
    "model_info['LDA_num'] = model_info.index.map(lda_idx)\n",
    "model_info.sort_values('Coherence',ascending=False)"
   ]
  },
  {
   "cell_type": "code",
   "execution_count": null,
   "metadata": {},
   "outputs": [],
   "source": []
  },
  {
   "cell_type": "markdown",
   "metadata": {},
   "source": [
    "### Examining models with fewer topics in [0,35) \n",
    "\n",
    "When reviewing fewer topics using the same corpus, again higher number of topics lead to higher coherence, D1 is the dominant cleaning configuration, and the optimal settings vary depending on the highest number of topics reviewed. These findings are less relevant because average coherence remains very low and differences between the average or median coherence scores are diminutive.\n",
    "\n",
    "In order to compare the results of a model on fewer topics with the results above we restrict ourselves to the same parameters as the optimal model we chose (LDA1, D1, <13 topics). \n",
    "\n",
    "The best performing model with the *LDA1* and *D1* setting had 10 topics. "
   ]
  },
  {
   "cell_type": "markdown",
   "metadata": {},
   "source": [
    "**Plot the bubble graph**:"
   ]
  },
  {
   "cell_type": "code",
   "execution_count": 6,
   "metadata": {},
   "outputs": [
    {
     "data": {
      "text/html": [
       "\n",
       "<link rel=\"stylesheet\" type=\"text/css\" href=\"https://cdn.rawgit.com/bmabey/pyLDAvis/files/ldavis.v1.0.0.css\">\n",
       "\n",
       "\n",
       "<div id=\"ldavis_el197831405802410450723393852723\"></div>\n",
       "<script type=\"text/javascript\">\n",
       "\n",
       "var ldavis_el197831405802410450723393852723_data = {\"mdsDat\": {\"x\": [0.09643046829298284, -0.08395079005499348, -0.1474481363855555, -0.23506796448402073, -0.10501993739864833, 0.1267258186528218, 0.11176626376541338, 0.05315128826899961, -0.07365905858331227, 0.2570720479263127], \"y\": [0.0523215373900547, -0.005830884628524993, 0.07243683495880787, -0.16863639766080765, 0.07633776245161096, -0.22568127983952788, 0.09104490777283629, 0.253115267853553, -0.04775900968258082, -0.09734873861542154], \"topics\": [1, 2, 3, 4, 5, 6, 7, 8, 9, 10], \"cluster\": [1, 1, 1, 1, 1, 1, 1, 1, 1, 1], \"Freq\": [13.294708251953125, 12.429191589355469, 12.108596801757812, 11.014192581176758, 10.161224365234375, 9.4561185836792, 9.445488929748535, 8.57140064239502, 8.152236938476562, 5.366842269897461]}, \"tinfo\": {\"Term\": [\"worst\", \"school\", \"teacher\", \"students\", \"class\", \"gives\", \"grade\", \"like\", \"homework\", \"favorites\", \"kids\", \"tests\", \"ask\", \"time\", \"mean\", \"math\", \"teach\", \"help\", \"nothing\", \"questions\", \"gets\", \"learned\", \"learn\", \"got\", \"nice\", \"anything\", \"boring\", \"understand\", \"needs\", \"high\", \"english\", \"life\", \"french\", \"speak\", \"language\", \"possibly\", \"absolute\", \"worst\", \"studies\", \"describe\", \"german\", \"living\", \"chinese\", \"american\", \"laziest\", \"entertaining\", \"husband\", \"fluent\", \"native\", \"geography\", \"paycheck\", \"america\", \"languages\", \"madame\", \"foreign\", \"dark\", \"japanese\", \"doctor\", \"wrestling\", \"de\", \"spanish\", \"world\", \"probably\", \"far\", \"fired\", \"met\", \"save\", \"history\", \"years\", \"teachers\", \"teacher\", \"woman\", \"social\", \"honestly\", \"speaking\", \"horrible\", \"hope\", \"awful\", \"worse\", \"words\", \"terrible\", \"think\", \"teaching\", \"cannot\", \"know\", \"teach\", \"bad\", \"even\", \"say\", \"class\", \"switch\", \"needs\", \"good\", \"anything\", \"never\", \"learn\", \"physics\", \"chemistry\", \"algebra\", \"biology\", \"concepts\", \"geometry\", \"chem\", \"math\", \"tutor\", \"pre\", \"calculus\", \"calc\", \"ap\", \"trig\", \"convey\", \"psych\", \"khan\", \"alg\", \"euro\", \"precalc\", \"accelerated\", \"environmental\", \"miserably\", \"ab\", \"regent\", \"paced\", \"precal\", \"stat\", \"reteach\", \"solves\", \"material\", \"honors\", \"regents\", \"bio\", \"tutors\", \"exam\", \"tutoring\", \"regular\", \"prepare\", \"harder\", \"luck\", \"understand\", \"explaining\", \"teach\", \"difficult\", \"hard\", \"nice\", \"explain\", \"teaching\", \"good\", \"person\", \"tests\", \"class\", \"learn\", \"teacher\", \"know\", \"cannot\", \"help\", \"anything\", \"teaches\", \"subject\", \"expects\", \"test\", \"taught\", \"students\", \"easy\", \"everything\", \"bad\", \"horrible\", \"terrible\", \"even\", \"period\", \"computer\", \"waste\", \"spends\", \"spent\", \"sits\", \"movies\", \"wastes\", \"easiest\", \"watching\", \"wasted\", \"min\", \"movie\", \"wasting\", \"cheat\", \"watched\", \"cell\", \"draw\", \"sleeping\", \"dreaded\", \"comp\", \"slept\", \"laptop\", \"design\", \"tv\", \"photography\", \"elective\", \"texting\", \"nap\", \"semesters\", \"whole\", \"learned\", \"spend\", \"watch\", \"video\", \"sit\", \"minutes\", \"nothing\", \"desk\", \"hour\", \"time\", \"phone\", \"half\", \"class\", \"videos\", \"learn\", \"anything\", \"easy\", \"thing\", \"control\", \"taught\", \"boring\", \"entire\", \"talking\", \"every\", \"teach\", \"never\", \"fun\", \"like\", \"work\", \"know\", \"talk\", \"even\", \"read\", \"homework\", \"assigns\", \"credit\", \"copy\", \"packets\", \"pages\", \"quizes\", \"pop\", \"checks\", \"assign\", \"classwork\", \"guides\", \"study\", \"sheets\", \"amounts\", \"dates\", \"presentations\", \"copying\", \"handouts\", \"assigning\", \"load\", \"slide\", \"collects\", \"loads\", \"copied\", \"slides\", \"format\", \"definitions\", \"readings\", \"text\", \"packet\", \"gives\", \"night\", \"quizzes\", \"powerpoint\", \"reads\", \"notes\", \"essays\", \"projects\", \"hw\", \"chapter\", \"points\", \"quiz\", \"assignments\", \"book\", \"books\", \"tests\", \"reading\", \"textbook\", \"work\", \"worksheets\", \"test\", \"give\", \"write\", \"busy\", \"grades\", \"due\", \"takes\", \"extra\", \"hard\", \"grade\", \"class\", \"makes\", \"even\", \"never\", \"teach\", \"every\", \"time\", \"expects\", \"ask\", \"gets\", \"question\", \"answer\", \"mad\", \"asks\", \"whenever\", \"asking\", \"raise\", \"answering\", \"annoyed\", \"answered\", \"nerves\", \"raised\", \"jumps\", \"responds\", \"rolls\", \"irritated\", \"sidetracked\", \"solving\", \"replies\", \"interrupts\", \"equation\", \"conclusions\", \"tangent\", \"pauses\", \"tracked\", \"ticked\", \"spells\", \"solved\", \"questions\", \"wrong\", \"distracted\", \"says\", \"angry\", \"explains\", \"figure\", \"somebody\", \"clarify\", \"tells\", \"answers\", \"something\", \"confused\", \"frustrated\", \"problem\", \"fast\", \"help\", \"asked\", \"always\", \"understand\", \"explain\", \"right\", \"topic\", \"never\", \"know\", \"yells\", \"goes\", \"even\", \"anything\", \"cannot\", \"everything\", \"talking\", \"makes\", \"time\", \"teach\", \"like\", \"students\", \"say\", \"child\", \"biased\", \"opinions\", \"lacks\", \"favoritism\", \"negative\", \"comments\", \"lack\", \"ideas\", \"views\", \"inappropriate\", \"political\", \"minded\", \"behavior\", \"communication\", \"environment\", \"bias\", \"blah\", \"extreme\", \"unwilling\", \"view\", \"role\", \"disagree\", \"opinionated\", \"instructor\", \"creativity\", \"centered\", \"debate\", \"dealing\", \"emotional\", \"unprofessional\", \"condescending\", \"parent\", \"ability\", \"issues\", \"opinion\", \"poor\", \"ineffective\", \"towards\", \"students\", \"grading\", \"children\", \"skills\", \"system\", \"often\", \"classroom\", \"extremely\", \"student\", \"parents\", \"teaching\", \"personal\", \"rude\", \"knowledge\", \"experience\", \"self\", \"teacher\", \"seems\", \"class\", \"many\", \"grades\", \"little\", \"completely\", \"work\", \"teachers\", \"good\", \"learning\", \"picks\", \"favorites\", \"attention\", \"acts\", \"pay\", \"favors\", \"plays\", \"treat\", \"treats\", \"picking\", \"pays\", \"singles\", \"olds\", \"punishes\", \"favs\", \"jocks\", \"babies\", \"curses\", \"impress\", \"popular\", \"embarrasses\", \"favourites\", \"intimidated\", \"jock\", \"teenager\", \"embarass\", \"whines\", \"act\", \"shoulder\", \"geniuses\", \"pick\", \"paying\", \"kids\", \"chooses\", \"needs\", \"backs\", \"likes\", \"hates\", \"girls\", \"others\", \"ones\", \"certain\", \"care\", \"people\", \"picked\", \"like\", \"students\", \"obvious\", \"stop\", \"feel\", \"respect\", \"seems\", \"rude\", \"everyone\", \"favorite\", \"mean\", \"help\", \"think\", \"bad\", \"always\", \"good\", \"teacher\", \"class\", \"makes\", \"work\", \"nice\", \"know\", \"ok\", \"jokes\", \"voice\", \"cuz\", \"omg\", \"asleep\", \"weird\", \"fall\", \"ppl\", \"lol\", \"laugh\", \"monotone\", \"meanest\", \"wat\", \"nd\", \"wanna\", \"da\", \"awake\", \"lame\", \"kno\", \"wierd\", \"realy\", \"ah\", \"uh\", \"wen\", \"umm\", \"corny\", \"talkin\", \"yo\", \"hav\", \"swings\", \"cool\", \"funny\", \"side\", \"annoying\", \"scary\", \"mean\", \"hate\", \"ugh\", \"boring\", \"mood\", \"sometimes\", \"fun\", \"pretty\", \"nice\", \"guess\", \"okay\", \"good\", \"like\", \"bad\", \"think\", \"teacher\", \"thinks\", \"class\", \"say\", \"talk\", \"always\", \"person\", \"makes\", \"easy\", \"hard\", \"cannot\", \"people\", \"told\", \"stand\", \"8th\", \"7th\", \"lunch\", \"6th\", \"turned\", \"detention\", \"graders\", \"report\", \"sent\", \"refused\", \"9th\", \"card\", \"5th\", \"gum\", \"mine\", \"threw\", \"letter\", \"pencil\", \"blamed\", \"rings\", \"10th\", \"accused\", \"fs\", \"sixth\", \"seventh\", \"ds\", \"eighth\", \"lied\", \"missed\", \"gave\", \"grade\", \"got\", \"said\", \"quarter\", \"yelled\", \"mom\", \"helped\", \"went\", \"second\", \"took\", \"papers\", \"semester\", \"last\", \"tried\", \"first\", \"came\", \"paper\", \"back\", \"friend\", \"lost\", \"never\", \"late\", \"grades\", \"even\", \"class\", \"like\", \"hated\", \"give\", \"asked\", \"teacher\", \"test\", \"student\", \"work\", \"always\", \"help\", \"bad\", \"school\", \"high\", \"music\", \"band\", \"coach\", \"middle\", \"principal\", \"team\", \"football\", \"sports\", \"program\", \"schools\", \"elementary\", \"choir\", \"game\", \"orchestra\", \"basketball\", \"players\", \"director\", \"running\", \"ed\", \"ha\", \"principle\", \"soccer\", \"trip\", \"baseball\", \"private\", \"coaching\", \"chorus\", \"dress\", \"money\", \"play\", \"run\", \"code\", \"gym\", \"quit\", \"playing\", \"staff\", \"office\", \"cares\", \"around\", \"kids\", \"college\", \"better\", \"teachers\", \"good\", \"years\", \"job\", \"parents\", \"students\", \"even\", \"back\", \"see\", \"cannot\"], \"Freq\": [26344.0, 16772.0, 84986.0, 43984.0, 99227.0, 16389.0, 14295.0, 36207.0, 12003.0, 10380.0, 12357.0, 15707.0, 9900.0, 24533.0, 12447.0, 10213.0, 40335.0, 20060.0, 12819.0, 9700.0, 8313.0, 9442.0, 18344.0, 8981.0, 18146.0, 24811.0, 10954.0, 12950.0, 10287.0, 5355.0, 7118.28125, 6529.51513671875, 2529.5859375, 2147.83544921875, 1830.068603515625, 1035.808349609375, 770.4844970703125, 26313.32421875, 677.1134643554688, 459.7727966308594, 440.4148864746094, 276.0088195800781, 274.6786193847656, 260.3553466796875, 260.7973327636719, 248.62623596191406, 214.58526611328125, 207.26361083984375, 193.40536499023438, 181.97508239746094, 152.1298828125, 148.40481567382812, 143.6798858642578, 146.51979064941406, 133.53024291992188, 127.97940063476562, 126.95651245117188, 122.81838989257812, 111.55369567871094, 115.68095397949219, 6198.5, 2413.53173828125, 3314.16015625, 3399.294677734375, 1481.5052490234375, 1170.7215576171875, 532.0913696289062, 2673.689697265625, 3442.169677734375, 8457.818359375, 44100.76171875, 1908.3958740234375, 740.041015625, 2249.252197265625, 559.1728515625, 5158.84375, 1349.6795654296875, 2569.5517578125, 1380.565673828125, 1396.1356201171875, 3414.572998046875, 4462.380859375, 7122.70068359375, 5498.9765625, 7271.67919921875, 8944.3134765625, 4260.0498046875, 4371.00048828125, 2630.817626953125, 6839.7294921875, 1590.343017578125, 2502.0341796875, 3534.1025390625, 3082.8798828125, 2827.97607421875, 2484.757080078125, 1765.0655517578125, 1745.77294921875, 1335.3885498046875, 1206.4058837890625, 1208.3817138671875, 1025.7366943359375, 1003.043701171875, 10203.775390625, 874.8446655273438, 676.4085693359375, 469.2578125, 412.51739501953125, 6448.974609375, 180.0062255859375, 156.33346557617188, 173.3207244873047, 141.52621459960938, 127.05156707763672, 122.1954574584961, 103.62367248535156, 102.45719909667969, 96.01043701171875, 75.08399963378906, 74.87638092041016, 61.09529495239258, 60.948646545410156, 54.4749641418457, 50.11545944213867, 90.22288513183594, 46.00104522705078, 6799.6396484375, 2671.029296875, 737.0713500976562, 774.567138671875, 141.29978942871094, 1644.081298828125, 387.03704833984375, 580.916015625, 1408.1917724609375, 836.3314819335938, 1526.1614990234375, 6777.546875, 1471.25390625, 16533.142578125, 2156.627685546875, 6904.84423828125, 7786.98486328125, 4274.453125, 8247.8857421875, 8455.259765625, 4261.14208984375, 5487.072265625, 19309.736328125, 5939.02685546875, 16186.2041015625, 7807.828125, 5076.34912109375, 5105.40576171875, 5454.376953125, 3058.51318359375, 1990.001220703125, 2371.440673828125, 3048.71484375, 2235.677001953125, 4320.845703125, 2621.95068359375, 2443.876953125, 2794.322021484375, 2389.3818359375, 2205.15185546875, 2223.971435546875, 3116.28955078125, 2707.10546875, 2464.214111328125, 1839.0162353515625, 1599.285400390625, 1591.940185546875, 1253.989990234375, 898.7769775390625, 709.894775390625, 704.8533325195312, 595.4865112304688, 557.2889404296875, 468.9456481933594, 447.157958984375, 468.5196228027344, 408.1924133300781, 367.8889465332031, 332.0906677246094, 282.5145568847656, 281.418212890625, 221.60325622558594, 205.1498565673828, 199.50732421875, 177.25363159179688, 163.51950073242188, 154.67735290527344, 150.65682983398438, 142.41506958007812, 140.83807373046875, 139.4894561767578, 5397.42138671875, 8977.724609375, 1258.5262451171875, 2165.083740234375, 566.2093505859375, 2186.820068359375, 2529.980224609375, 10482.76171875, 1250.2625732421875, 927.4369506835938, 15591.3193359375, 1350.771484375, 3146.81640625, 44958.98046875, 1328.8553466796875, 8836.4169921875, 11065.390625, 4919.0810546875, 4041.416748046875, 2057.240478515625, 3019.583984375, 4094.18017578125, 2003.550048828125, 3197.14697265625, 3233.426025390625, 6485.1982421875, 4879.28857421875, 2198.326416015625, 3713.32275390625, 2706.23974609375, 2434.8701171875, 1904.3134765625, 2157.622314453125, 5397.9541015625, 12000.0439453125, 2241.162841796875, 1576.2030029296875, 997.0713500976562, 979.9154663085938, 719.2313842773438, 615.843505859375, 552.0234985351562, 541.9898681640625, 568.01318359375, 441.480712890625, 431.9429626464844, 3637.760986328125, 387.81573486328125, 338.91888427734375, 532.6892700195312, 254.85684204101562, 241.13006591796875, 238.1101531982422, 228.76394653320312, 202.12364196777344, 197.7015380859375, 189.6820068359375, 186.53721618652344, 173.5790252685547, 330.74505615234375, 148.99696350097656, 146.38296508789062, 137.5469970703125, 906.4255981445312, 471.63836669921875, 15294.8642578125, 1138.3912353515625, 3150.943603515625, 665.912841796875, 1211.36962890625, 5507.048828125, 1495.35888671875, 3152.150634765625, 2032.2205810546875, 784.5966186523438, 2881.964599609375, 1528.968017578125, 4425.4765625, 5421.08447265625, 1146.1129150390625, 10219.8203125, 2031.79248046875, 2723.8134765625, 9295.705078125, 1582.1124267578125, 5906.9599609375, 4852.57373046875, 1819.54345703125, 1626.2701416015625, 3989.335205078125, 1676.9913330078125, 2041.5848388671875, 1489.767333984375, 3377.557861328125, 3135.92724609375, 6357.1611328125, 2953.666748046875, 3456.087158203125, 3541.385009765625, 4036.392578125, 2499.369140625, 2769.126953125, 1834.177978515625, 9900.0380859375, 8312.173828125, 6711.4091796875, 6152.75244140625, 2869.337158203125, 1220.9571533203125, 1219.9656982421875, 1625.06591796875, 495.80670166015625, 485.9624938964844, 485.056884765625, 341.5077819824219, 288.2400817871094, 167.12147521972656, 161.7198486328125, 154.15237426757812, 127.27742767333984, 108.40326690673828, 101.44869995117188, 100.47207641601562, 88.83340454101562, 77.71916961669922, 74.41423797607422, 68.76972198486328, 66.71050262451172, 61.78730392456055, 53.378055572509766, 46.72255325317383, 45.70200729370117, 44.0255012512207, 8800.029296875, 5979.5087890625, 377.3655090332031, 5451.95556640625, 831.880615234375, 1609.1793212890625, 1079.519287109375, 226.4178466796875, 496.1753234863281, 2894.890869140625, 2167.576171875, 5106.3251953125, 1455.8731689453125, 482.9212341308594, 1965.316162109375, 1634.0230712890625, 9132.7109375, 1909.0174560546875, 6343.83447265625, 5397.533203125, 4247.51953125, 2650.255859375, 1736.403076171875, 7743.9814453125, 7833.6337890625, 2018.83154296875, 2053.564453125, 4774.3017578125, 4155.66357421875, 3615.1123046875, 2712.77734375, 2544.30078125, 2998.906494140625, 3167.16455078125, 3197.838623046875, 2819.201904296875, 2661.334228515625, 2073.63623046875, 2775.78466796875, 1069.8304443359375, 1003.498046875, 914.8516845703125, 901.094482421875, 680.0592651367188, 607.4839477539062, 1330.4697265625, 525.5345458984375, 496.1171569824219, 440.2249755859375, 439.3157958984375, 419.78717041015625, 406.1991882324219, 398.8737487792969, 478.46728515625, 378.6815490722656, 360.1265869140625, 310.76641845703125, 300.1116943359375, 294.2611999511719, 287.38507080078125, 279.36614990234375, 257.7860412597656, 271.50152587890625, 224.0908966064453, 222.70384216308594, 213.296630859375, 211.4959259033203, 200.7410430908203, 873.5950317382812, 963.7251586914062, 861.7733764648438, 775.1956176757812, 886.5426025390625, 1452.6064453125, 1896.2972412109375, 381.5105895996094, 1132.0389404296875, 18584.056640625, 2395.0458984375, 1261.1314697265625, 1208.3443603515625, 877.0918579101562, 2032.4915771484375, 1700.322265625, 2409.1787109375, 2963.975341796875, 1420.5523681640625, 5442.92578125, 1146.959716796875, 1976.18017578125, 1151.0775146484375, 1211.5828857421875, 1090.1148681640625, 5460.080078125, 1455.2528076171875, 3007.42626953125, 1464.643310546875, 1412.0057373046875, 1217.3111572265625, 1114.4063720703125, 1372.3819580078125, 1228.7340087890625, 1257.0926513671875, 1121.3026123046875, 3697.30322265625, 10377.5859375, 2588.04296875, 1854.9254150390625, 1608.1064453125, 1550.176513671875, 3592.2060546875, 751.4518432617188, 1997.0697021484375, 317.4166564941406, 302.0181884765625, 218.40289306640625, 209.07821655273438, 164.189697265625, 146.7961883544922, 115.66183471679688, 114.03158569335938, 101.33299255371094, 94.71849822998047, 762.0307006835938, 82.28688049316406, 81.15524291992188, 79.52367401123047, 79.2677230834961, 71.1840591430664, 68.88175964355469, 68.83379364013672, 1220.4288330078125, 78.05652618408203, 49.903358459472656, 1201.0677490234375, 474.23681640625, 10876.873046875, 538.4608764648438, 7157.05615234375, 134.28065490722656, 3467.02783203125, 1936.26806640625, 706.6873779296875, 1615.7105712890625, 806.1320190429688, 1183.65185546875, 4230.08203125, 7027.40966796875, 538.9700317382812, 15886.9658203125, 15252.7138671875, 657.1254272460938, 1738.20703125, 2691.0458984375, 1353.4713134765625, 2154.275634765625, 2360.67724609375, 2854.586181640625, 1507.1318359375, 3393.555908203125, 4107.8115234375, 2970.561767578125, 3550.84814453125, 3046.793701171875, 3656.56640625, 5293.9052734375, 4586.6484375, 2409.83544921875, 2213.2314453125, 2055.81005859375, 2054.911376953125, 3449.880126953125, 2065.634033203125, 1616.7884521484375, 1367.7427978515625, 1361.248046875, 1291.6175537109375, 1390.3983154296875, 918.416259765625, 883.6161499023438, 842.5316162109375, 700.9815063476562, 606.591796875, 500.9443664550781, 453.2381286621094, 407.192626953125, 407.09857177734375, 381.3970031738281, 372.6156311035156, 357.726806640625, 345.6156005859375, 324.73712158203125, 323.018798828125, 322.3970642089844, 291.9245300292969, 288.9310607910156, 317.5713195800781, 236.34397888183594, 231.81666564941406, 219.59703063964844, 204.34646606445312, 516.0844116210938, 5633.1533203125, 4799.53564453125, 1902.9586181640625, 3645.57958984375, 477.4762878417969, 8687.6875, 5294.33984375, 926.4780883789062, 6052.08447265625, 1017.37060546875, 3130.249267578125, 3395.806884765625, 2383.177978515625, 6238.11474609375, 1061.3675537109375, 1365.8621826171875, 7095.0126953125, 7846.4912109375, 4222.59130859375, 3314.345458984375, 8651.2978515625, 2077.762451171875, 6832.37158203125, 2315.158935546875, 1890.5855712890625, 2709.185302734375, 2331.6455078125, 2528.602294921875, 2122.279541015625, 2036.405029296875, 2071.569580078125, 1838.30224609375, 3662.383544921875, 2239.152587890625, 1202.2734375, 1034.2432861328125, 935.10888671875, 932.9608154296875, 900.8761596679688, 890.7163696289062, 796.2128295898438, 549.8814086914062, 491.5413513183594, 433.16558837890625, 351.7438049316406, 312.0978698730469, 315.16485595703125, 293.1928405761719, 282.8868713378906, 268.36492919921875, 244.09495544433594, 238.1676025390625, 248.409912109375, 222.09756469726562, 221.93136596679688, 215.4186248779297, 207.33395385742188, 200.22328186035156, 198.78680419921875, 224.25778198242188, 154.39151000976562, 147.7904510498047, 586.9048461914062, 4596.64013671875, 11064.0693359375, 7019.12451171875, 3840.860595703125, 789.063720703125, 1076.5098876953125, 339.1246643066406, 710.7676391601562, 1899.887451171875, 1127.1925048828125, 2064.173828125, 1633.4593505859375, 1347.6827392578125, 2609.268798828125, 1128.2498779296875, 2991.494140625, 1104.530029296875, 1188.771728515625, 2557.77685546875, 1014.8865356445312, 1101.9661865234375, 4513.38037109375, 1341.447021484375, 2557.56787109375, 3089.8525390625, 5523.45751953125, 2685.963623046875, 1329.421142578125, 1705.59130859375, 1268.1622314453125, 2764.250732421875, 1607.2073974609375, 1479.3487548828125, 1675.5123291015625, 1629.0745849609375, 1606.8760986328125, 1436.134033203125, 16771.9296875, 5354.7470703125, 2119.3974609375, 2044.8206787109375, 1785.302734375, 1687.7938232421875, 1631.6109619140625, 1049.46630859375, 1013.7195434570312, 907.953369140625, 873.6243896484375, 578.2046508789062, 506.0123596191406, 477.74237060546875, 466.80340576171875, 466.48712158203125, 462.885009765625, 449.12762451171875, 412.6838073730469, 367.67864990234375, 355.6341552734375, 344.91473388671875, 310.2541198730469, 303.2289123535156, 295.3365173339844, 276.3227233886719, 260.55755615234375, 253.54762268066406, 251.6739959716797, 251.2993927001953, 618.855224609375, 1888.794677734375, 1136.7960205078125, 284.2995910644531, 818.4562377929688, 671.906494140625, 585.224365234375, 401.1004638671875, 640.7982788085938, 804.49951171875, 948.583984375, 1479.3004150390625, 843.880859375, 983.8536376953125, 1154.1756591796875, 1248.4476318359375, 797.1724853515625, 725.2202758789062, 667.1173706054688, 1079.4393310546875, 809.439697265625, 697.874755859375, 663.8909912109375, 658.6135864257812], \"Total\": [26344.0, 16772.0, 84986.0, 43984.0, 99227.0, 16389.0, 14295.0, 36207.0, 12003.0, 10380.0, 12357.0, 15707.0, 9900.0, 24533.0, 12447.0, 10213.0, 40335.0, 20060.0, 12819.0, 9700.0, 8313.0, 9442.0, 18344.0, 8981.0, 18146.0, 24811.0, 10954.0, 12950.0, 10287.0, 5355.0, 7119.17822265625, 6530.41943359375, 2530.541748046875, 2148.732177734375, 1830.96533203125, 1036.7052001953125, 771.3815307617188, 26344.78125, 678.0103759765625, 460.66961669921875, 441.31170654296875, 276.90576171875, 275.575439453125, 261.2521667480469, 261.6974182128906, 249.52310180664062, 215.48214721679688, 208.160400390625, 194.30213928222656, 182.87228393554688, 153.02674865722656, 149.30169677734375, 144.5769500732422, 147.4809112548828, 134.4270477294922, 128.8764190673828, 127.85332489013672, 123.71526336669922, 112.45057678222656, 116.64046478271484, 6301.40869140625, 2434.0625, 3471.68896484375, 3644.61279296875, 1566.4886474609375, 1355.6241455078125, 589.3905029296875, 3420.697021484375, 4570.8681640625, 12339.5849609375, 84986.9296875, 2599.7734375, 903.9238891601562, 3297.16552734375, 653.54052734375, 9453.16796875, 1939.0980224609375, 4575.82421875, 2110.531005859375, 2274.14306640625, 7825.11669921875, 12240.7001953125, 24563.068359375, 18389.048828125, 29047.38671875, 40335.77734375, 18154.181640625, 23060.744140625, 8564.818359375, 99227.234375, 2946.80908203125, 10287.2998046875, 27795.51171875, 24811.84765625, 26372.5859375, 18344.486328125, 1765.9674072265625, 1746.6748046875, 1336.3160400390625, 1207.307861328125, 1209.2874755859375, 1026.6556396484375, 1003.9456176757812, 10213.7900390625, 875.7466430664062, 677.3120727539062, 470.15972900390625, 413.41925048828125, 6469.6708984375, 180.90821838378906, 157.23536682128906, 174.34649658203125, 142.4281005859375, 127.95392608642578, 123.09732055664062, 104.52558898925781, 103.35921478271484, 96.91234588623047, 75.9859848022461, 75.77827453613281, 61.9971923828125, 61.86038589477539, 55.37682342529297, 51.017330169677734, 91.91706085205078, 46.90300750732422, 7288.7734375, 2838.9296875, 777.8439331054688, 877.9526977539062, 148.66783142089844, 2031.050537109375, 436.55023193359375, 699.248291015625, 1858.71337890625, 1130.8533935546875, 2289.61328125, 12950.8134765625, 2244.06591796875, 40335.77734375, 3632.98583984375, 15121.9775390625, 18146.486328125, 9591.775390625, 24563.068359375, 27795.51171875, 10886.81640625, 15707.828125, 99227.234375, 18344.486328125, 84986.9296875, 29047.38671875, 18389.048828125, 20060.94140625, 24811.84765625, 9390.828125, 4091.24267578125, 6082.41015625, 11075.0615234375, 6630.62353515625, 43984.55859375, 10935.2578125, 9215.3671875, 18154.181640625, 9453.16796875, 7825.11669921875, 23060.744140625, 3117.187744140625, 2708.004638671875, 2465.254150390625, 1839.919677734375, 1600.18359375, 1592.839111328125, 1254.8880615234375, 899.8048095703125, 710.7958984375, 705.7515869140625, 596.3919677734375, 558.1883544921875, 469.8439636230469, 448.06451416015625, 469.4830322265625, 409.090576171875, 368.8475646972656, 332.9888610839844, 283.4127197265625, 282.31640625, 222.50148010253906, 206.04800415039062, 200.40554809570312, 178.1518096923828, 164.41766357421875, 155.57550048828125, 151.55506896972656, 143.31825256347656, 141.73623657226562, 140.38771057128906, 5595.3896484375, 9442.572265625, 1298.3946533203125, 2274.8759765625, 584.2814331054688, 2326.52001953125, 2740.43798828125, 12819.5478515625, 1390.3067626953125, 1050.4041748046875, 24533.74609375, 1641.2967529296875, 4324.482421875, 99227.234375, 1695.760009765625, 18344.486328125, 24811.84765625, 10935.2578125, 8869.54296875, 3639.729736328125, 6630.62353515625, 10954.994140625, 3739.3046875, 8049.89453125, 9160.59375, 40335.77734375, 26372.5859375, 6788.8837890625, 36207.82421875, 17911.72265625, 29047.38671875, 6065.099609375, 23060.744140625, 5398.9150390625, 12003.5810546875, 2242.064208984375, 1577.1044921875, 997.9728393554688, 980.819580078125, 720.1328735351562, 616.7450561523438, 552.925048828125, 542.8914794921875, 568.99462890625, 442.3824157714844, 432.84442138671875, 3645.45654296875, 388.7172546386719, 339.82037353515625, 534.35400390625, 255.75836181640625, 242.03160095214844, 239.0116729736328, 229.66549682617188, 203.02516174316406, 198.60308837890625, 190.58349609375, 187.438720703125, 174.530029296875, 332.6543273925781, 149.8984832763672, 147.28448486328125, 138.44850158691406, 918.0238037109375, 475.0859069824219, 16389.84375, 1231.94384765625, 3586.130615234375, 707.31494140625, 1334.136962890625, 6624.41943359375, 1670.0665283203125, 3708.062255859375, 2374.987060546875, 855.213623046875, 3503.37353515625, 1775.09912109375, 5741.8779296875, 7249.0693359375, 1301.8223876953125, 15707.828125, 2527.896728515625, 3610.056396484375, 17911.72265625, 2076.899169921875, 11075.0615234375, 9667.34375, 2792.9013671875, 2473.453125, 10378.427734375, 2672.53173828125, 4324.79443359375, 2290.02783203125, 15121.9775390625, 14295.90625, 99227.234375, 13981.12109375, 23060.744140625, 26372.5859375, 40335.77734375, 9160.59375, 24533.74609375, 6082.41015625, 9900.9375, 8313.0732421875, 6712.3076171875, 6153.65087890625, 2870.235595703125, 1221.855712890625, 1220.8642578125, 1626.7022705078125, 496.7052917480469, 486.8610534667969, 485.9554443359375, 342.4063415527344, 289.138671875, 168.0200653076172, 162.618408203125, 155.0792236328125, 128.17601013183594, 109.30184173583984, 102.34725952148438, 101.37063598632812, 89.73197174072266, 78.61774444580078, 75.31285095214844, 69.6683120727539, 67.60910034179688, 62.7712287902832, 54.27661895751953, 47.62110137939453, 46.60055923461914, 44.92407989501953, 9700.5927734375, 6731.6279296875, 402.5852966308594, 6891.29296875, 966.70703125, 1939.9002685546875, 1360.521240234375, 251.44024658203125, 598.7749633789062, 4250.1435546875, 3108.678466796875, 8191.90625, 2105.240234375, 598.1089477539062, 3014.850830078125, 2472.701904296875, 20060.94140625, 3177.977783203125, 15624.5927734375, 12950.8134765625, 9591.775390625, 5177.9990234375, 3129.7822265625, 26372.5859375, 29047.38671875, 3976.5400390625, 4141.72998046875, 23060.744140625, 24811.84765625, 18389.048828125, 9215.3671875, 8049.89453125, 13981.12109375, 24533.74609375, 40335.77734375, 36207.82421875, 43984.55859375, 8564.818359375, 2776.9443359375, 1070.73291015625, 1004.4005126953125, 915.7540893554688, 901.9969482421875, 680.9617309570312, 608.3864135742188, 1332.586669921875, 526.43701171875, 497.01953125, 441.1287536621094, 440.2181701660156, 420.6895446777344, 407.1015625, 399.776123046875, 479.6029052734375, 379.583984375, 361.0290222167969, 311.66888427734375, 301.0155944824219, 295.1636047363281, 288.2874450683594, 280.2685546875, 258.6884460449219, 272.49359130859375, 224.9933624267578, 223.60623168945312, 214.19908142089844, 212.4005889892578, 201.6439666748047, 879.2506713867188, 993.2849731445312, 895.7591552734375, 830.9071044921875, 966.924072265625, 1695.5306396484375, 2287.72705078125, 396.2165832519531, 1364.82958984375, 43984.55859375, 3813.99609375, 1839.9996337890625, 1850.45703125, 1217.4993896484375, 3975.4873046875, 3160.556640625, 5296.6279296875, 8332.1748046875, 2779.07177734375, 24563.068359375, 2154.11376953125, 5725.5322265625, 2191.510498046875, 2461.1103515625, 1994.8365478515625, 84986.9296875, 4955.2939453125, 99227.234375, 6662.39453125, 10378.427734375, 5394.3681640625, 3288.0712890625, 17911.72265625, 12339.5849609375, 27795.51171875, 4512.58544921875, 3698.208984375, 10380.935546875, 2588.943603515625, 1855.8260498046875, 1609.0079345703125, 1551.0771484375, 3594.63525390625, 752.3524780273438, 2000.388427734375, 318.3173522949219, 302.9187927246094, 219.3035125732422, 209.97885131835938, 165.09036254882812, 147.69692993164062, 116.56244659423828, 114.93219757080078, 102.23362731933594, 95.63809967041016, 769.7606811523438, 83.18751525878906, 82.06090545654297, 80.42432403564453, 80.17072296142578, 72.08468627929688, 69.78236389160156, 69.73445129394531, 1236.5516357421875, 79.12094116210938, 50.804039001464844, 1270.8763427734375, 496.0050048828125, 12357.0458984375, 591.3353271484375, 10287.2998046875, 142.00650024414062, 4923.00732421875, 2607.88916015625, 872.5028076171875, 2198.39404296875, 1031.4066162109375, 1589.277099609375, 6808.416015625, 12762.0986328125, 670.6741943359375, 36207.82421875, 43984.55859375, 876.8334350585938, 3170.547119140625, 5900.37548828125, 2417.01025390625, 4955.2939453125, 5725.5322265625, 7684.697265625, 3141.731689453125, 12447.5986328125, 20060.94140625, 12240.7001953125, 18154.181640625, 15624.5927734375, 27795.51171875, 84986.9296875, 99227.234375, 13981.12109375, 17911.72265625, 18146.486328125, 29047.38671875, 3450.799072265625, 2066.537841796875, 1617.6922607421875, 1368.6466064453125, 1362.1517333984375, 1292.521240234375, 1391.47265625, 919.320068359375, 884.5199584960938, 843.4356689453125, 701.9028930664062, 607.49560546875, 501.8481750488281, 454.1418762207031, 408.09637451171875, 408.0023498535156, 382.3007507324219, 373.5451354980469, 358.6305847167969, 346.5193176269531, 325.640869140625, 323.92254638671875, 323.30084228515625, 292.82830810546875, 289.8348083496094, 318.6959533691406, 237.24771118164062, 232.72039794921875, 220.50079345703125, 205.25022888183594, 518.9603881835938, 5848.2392578125, 5305.32861328125, 2084.220703125, 4191.0615234375, 497.5228271484375, 12447.5986328125, 7737.25439453125, 1080.22412109375, 10954.994140625, 1345.921875, 5673.93115234375, 6788.8837890625, 4530.03759765625, 18146.486328125, 1602.6654052734375, 2373.5771484375, 27795.51171875, 36207.82421875, 18154.181640625, 12240.7001953125, 84986.9296875, 6059.2939453125, 99227.234375, 8564.818359375, 6065.099609375, 15624.5927734375, 10886.81640625, 13981.12109375, 10935.2578125, 15121.9775390625, 18389.048828125, 12762.0986328125, 3663.284423828125, 2240.052978515625, 1203.173828125, 1035.15625, 936.009033203125, 933.8671264648438, 901.7763061523438, 891.6165161132812, 797.1238403320312, 550.7815551757812, 492.4414978027344, 434.06573486328125, 352.6439514160156, 312.99798583984375, 316.0950012207031, 294.0929870605469, 283.7870178222656, 269.26507568359375, 244.9950714111328, 239.06771850585938, 249.39662170410156, 222.99771118164062, 222.83148193359375, 216.3187255859375, 208.23521423339844, 201.12339782714844, 199.6869354248047, 225.2870635986328, 155.2916259765625, 148.69056701660156, 593.0317993164062, 5359.64990234375, 14295.90625, 8981.095703125, 4812.6708984375, 892.0352783203125, 1274.581298828125, 356.623779296875, 816.93359375, 2587.729736328125, 1464.3450927734375, 3167.25146484375, 2403.713134765625, 2083.871826171875, 4952.62841796875, 1675.946533203125, 6132.2470703125, 1654.8284912109375, 1833.0313720703125, 6123.0302734375, 1542.4217529296875, 1869.6719970703125, 26372.5859375, 2761.359375, 10378.427734375, 23060.744140625, 99227.234375, 36207.82421875, 3642.813720703125, 9667.34375, 3177.977783203125, 84986.9296875, 11075.0615234375, 8332.1748046875, 17911.72265625, 15624.5927734375, 20060.94140625, 18154.181640625, 16772.830078125, 5355.6484375, 2120.298828125, 2045.721923828125, 1786.2041015625, 1688.695068359375, 1632.51220703125, 1050.3675537109375, 1014.6207885742188, 908.8546752929688, 874.525634765625, 579.1058959960938, 506.91363525390625, 478.6435852050781, 467.7047119140625, 467.3883361816406, 463.7862243652344, 450.0288391113281, 413.58502197265625, 368.5936584472656, 356.5354309082031, 345.8160095214844, 311.1553955078125, 304.1301574707031, 296.238037109375, 277.2239685058594, 261.4588317871094, 254.45101928710938, 252.57626342773438, 252.20065307617188, 682.8975219726562, 2422.264404296875, 1494.9832763671875, 291.7955017089844, 1161.13916015625, 958.30517578125, 881.9634399414062, 486.7984619140625, 1172.6246337890625, 2553.974609375, 4027.473876953125, 12357.0458984375, 3114.60205078125, 7085.90966796875, 12339.5849609375, 27795.51171875, 4570.8681640625, 4153.0087890625, 2779.07177734375, 43984.55859375, 23060.744140625, 6123.0302734375, 3328.1474609375, 18389.048828125], \"Category\": [\"Default\", \"Default\", \"Default\", \"Default\", \"Default\", \"Default\", \"Default\", \"Default\", \"Default\", \"Default\", \"Default\", \"Default\", \"Default\", \"Default\", \"Default\", \"Default\", \"Default\", \"Default\", \"Default\", \"Default\", \"Default\", \"Default\", \"Default\", \"Default\", \"Default\", \"Default\", \"Default\", \"Default\", \"Default\", \"Default\", \"Topic1\", \"Topic1\", \"Topic1\", \"Topic1\", \"Topic1\", \"Topic1\", \"Topic1\", \"Topic1\", \"Topic1\", \"Topic1\", \"Topic1\", \"Topic1\", \"Topic1\", \"Topic1\", \"Topic1\", \"Topic1\", \"Topic1\", \"Topic1\", \"Topic1\", \"Topic1\", \"Topic1\", \"Topic1\", \"Topic1\", \"Topic1\", \"Topic1\", \"Topic1\", \"Topic1\", \"Topic1\", \"Topic1\", \"Topic1\", \"Topic1\", \"Topic1\", \"Topic1\", \"Topic1\", \"Topic1\", \"Topic1\", \"Topic1\", \"Topic1\", \"Topic1\", \"Topic1\", \"Topic1\", \"Topic1\", \"Topic1\", \"Topic1\", \"Topic1\", \"Topic1\", \"Topic1\", \"Topic1\", \"Topic1\", \"Topic1\", \"Topic1\", \"Topic1\", \"Topic1\", \"Topic1\", \"Topic1\", \"Topic1\", \"Topic1\", \"Topic1\", \"Topic1\", \"Topic1\", \"Topic1\", \"Topic1\", \"Topic1\", \"Topic1\", \"Topic1\", \"Topic1\", \"Topic2\", \"Topic2\", \"Topic2\", \"Topic2\", \"Topic2\", \"Topic2\", \"Topic2\", \"Topic2\", \"Topic2\", \"Topic2\", \"Topic2\", \"Topic2\", \"Topic2\", \"Topic2\", \"Topic2\", \"Topic2\", \"Topic2\", \"Topic2\", \"Topic2\", \"Topic2\", \"Topic2\", \"Topic2\", \"Topic2\", \"Topic2\", \"Topic2\", \"Topic2\", \"Topic2\", \"Topic2\", \"Topic2\", \"Topic2\", \"Topic2\", \"Topic2\", \"Topic2\", \"Topic2\", \"Topic2\", \"Topic2\", \"Topic2\", \"Topic2\", \"Topic2\", \"Topic2\", \"Topic2\", \"Topic2\", \"Topic2\", \"Topic2\", \"Topic2\", \"Topic2\", \"Topic2\", \"Topic2\", \"Topic2\", \"Topic2\", \"Topic2\", \"Topic2\", \"Topic2\", \"Topic2\", \"Topic2\", \"Topic2\", \"Topic2\", \"Topic2\", \"Topic2\", \"Topic2\", \"Topic2\", \"Topic2\", \"Topic2\", \"Topic2\", \"Topic2\", \"Topic2\", \"Topic2\", \"Topic2\", \"Topic2\", \"Topic2\", \"Topic2\", \"Topic3\", \"Topic3\", \"Topic3\", \"Topic3\", \"Topic3\", \"Topic3\", \"Topic3\", \"Topic3\", \"Topic3\", \"Topic3\", \"Topic3\", \"Topic3\", \"Topic3\", \"Topic3\", \"Topic3\", \"Topic3\", \"Topic3\", \"Topic3\", \"Topic3\", \"Topic3\", \"Topic3\", \"Topic3\", \"Topic3\", \"Topic3\", \"Topic3\", \"Topic3\", \"Topic3\", \"Topic3\", \"Topic3\", \"Topic3\", \"Topic3\", \"Topic3\", \"Topic3\", \"Topic3\", \"Topic3\", \"Topic3\", \"Topic3\", \"Topic3\", \"Topic3\", \"Topic3\", \"Topic3\", \"Topic3\", \"Topic3\", \"Topic3\", \"Topic3\", \"Topic3\", \"Topic3\", \"Topic3\", \"Topic3\", \"Topic3\", \"Topic3\", \"Topic3\", \"Topic3\", \"Topic3\", \"Topic3\", \"Topic3\", \"Topic3\", \"Topic3\", \"Topic3\", \"Topic3\", \"Topic3\", \"Topic3\", \"Topic3\", \"Topic4\", \"Topic4\", \"Topic4\", \"Topic4\", \"Topic4\", \"Topic4\", \"Topic4\", \"Topic4\", \"Topic4\", \"Topic4\", \"Topic4\", \"Topic4\", \"Topic4\", \"Topic4\", \"Topic4\", \"Topic4\", \"Topic4\", \"Topic4\", \"Topic4\", \"Topic4\", \"Topic4\", \"Topic4\", \"Topic4\", \"Topic4\", \"Topic4\", \"Topic4\", \"Topic4\", \"Topic4\", \"Topic4\", \"Topic4\", \"Topic4\", \"Topic4\", \"Topic4\", \"Topic4\", \"Topic4\", \"Topic4\", \"Topic4\", \"Topic4\", \"Topic4\", \"Topic4\", \"Topic4\", \"Topic4\", \"Topic4\", \"Topic4\", \"Topic4\", \"Topic4\", \"Topic4\", \"Topic4\", \"Topic4\", \"Topic4\", \"Topic4\", \"Topic4\", \"Topic4\", \"Topic4\", \"Topic4\", \"Topic4\", \"Topic4\", \"Topic4\", \"Topic4\", \"Topic4\", \"Topic4\", \"Topic4\", \"Topic4\", \"Topic4\", \"Topic4\", \"Topic4\", \"Topic4\", \"Topic4\", \"Topic4\", \"Topic4\", \"Topic5\", \"Topic5\", \"Topic5\", \"Topic5\", \"Topic5\", \"Topic5\", \"Topic5\", \"Topic5\", \"Topic5\", \"Topic5\", \"Topic5\", \"Topic5\", \"Topic5\", \"Topic5\", \"Topic5\", \"Topic5\", \"Topic5\", \"Topic5\", \"Topic5\", \"Topic5\", \"Topic5\", \"Topic5\", \"Topic5\", \"Topic5\", \"Topic5\", \"Topic5\", \"Topic5\", \"Topic5\", \"Topic5\", \"Topic5\", \"Topic5\", \"Topic5\", \"Topic5\", \"Topic5\", \"Topic5\", \"Topic5\", \"Topic5\", \"Topic5\", \"Topic5\", \"Topic5\", \"Topic5\", \"Topic5\", \"Topic5\", \"Topic5\", \"Topic5\", \"Topic5\", \"Topic5\", \"Topic5\", \"Topic5\", \"Topic5\", \"Topic5\", \"Topic5\", \"Topic5\", \"Topic5\", \"Topic5\", \"Topic5\", \"Topic5\", \"Topic5\", \"Topic5\", \"Topic5\", \"Topic5\", \"Topic5\", \"Topic5\", \"Topic5\", \"Topic5\", \"Topic5\", \"Topic5\", \"Topic5\", \"Topic6\", \"Topic6\", \"Topic6\", \"Topic6\", \"Topic6\", \"Topic6\", \"Topic6\", \"Topic6\", \"Topic6\", \"Topic6\", \"Topic6\", \"Topic6\", \"Topic6\", \"Topic6\", \"Topic6\", \"Topic6\", \"Topic6\", \"Topic6\", \"Topic6\", \"Topic6\", \"Topic6\", \"Topic6\", \"Topic6\", \"Topic6\", \"Topic6\", \"Topic6\", \"Topic6\", \"Topic6\", \"Topic6\", \"Topic6\", \"Topic6\", \"Topic6\", \"Topic6\", \"Topic6\", \"Topic6\", \"Topic6\", \"Topic6\", \"Topic6\", \"Topic6\", \"Topic6\", \"Topic6\", \"Topic6\", \"Topic6\", \"Topic6\", \"Topic6\", \"Topic6\", \"Topic6\", \"Topic6\", \"Topic6\", \"Topic6\", \"Topic6\", \"Topic6\", \"Topic6\", \"Topic6\", \"Topic6\", \"Topic6\", \"Topic6\", \"Topic6\", \"Topic6\", \"Topic6\", \"Topic6\", \"Topic6\", \"Topic6\", \"Topic6\", \"Topic6\", \"Topic6\", \"Topic7\", \"Topic7\", \"Topic7\", \"Topic7\", \"Topic7\", \"Topic7\", \"Topic7\", \"Topic7\", \"Topic7\", \"Topic7\", \"Topic7\", \"Topic7\", \"Topic7\", \"Topic7\", \"Topic7\", \"Topic7\", \"Topic7\", \"Topic7\", \"Topic7\", \"Topic7\", \"Topic7\", \"Topic7\", \"Topic7\", \"Topic7\", \"Topic7\", \"Topic7\", \"Topic7\", \"Topic7\", \"Topic7\", \"Topic7\", \"Topic7\", \"Topic7\", \"Topic7\", \"Topic7\", \"Topic7\", \"Topic7\", \"Topic7\", \"Topic7\", \"Topic7\", \"Topic7\", \"Topic7\", \"Topic7\", \"Topic7\", \"Topic7\", \"Topic7\", \"Topic7\", \"Topic7\", \"Topic7\", \"Topic7\", \"Topic7\", \"Topic7\", \"Topic7\", \"Topic7\", \"Topic7\", \"Topic7\", \"Topic7\", \"Topic7\", \"Topic7\", \"Topic7\", \"Topic7\", \"Topic7\", \"Topic7\", \"Topic7\", \"Topic7\", \"Topic7\", \"Topic7\", \"Topic7\", \"Topic8\", \"Topic8\", \"Topic8\", \"Topic8\", \"Topic8\", \"Topic8\", \"Topic8\", \"Topic8\", \"Topic8\", \"Topic8\", \"Topic8\", \"Topic8\", \"Topic8\", \"Topic8\", \"Topic8\", \"Topic8\", \"Topic8\", \"Topic8\", \"Topic8\", \"Topic8\", \"Topic8\", \"Topic8\", \"Topic8\", \"Topic8\", \"Topic8\", \"Topic8\", \"Topic8\", \"Topic8\", \"Topic8\", \"Topic8\", \"Topic8\", \"Topic8\", \"Topic8\", \"Topic8\", \"Topic8\", \"Topic8\", \"Topic8\", \"Topic8\", \"Topic8\", \"Topic8\", \"Topic8\", \"Topic8\", \"Topic8\", \"Topic8\", \"Topic8\", \"Topic8\", \"Topic8\", \"Topic8\", \"Topic8\", \"Topic8\", \"Topic8\", \"Topic8\", \"Topic8\", \"Topic8\", \"Topic8\", \"Topic8\", \"Topic8\", \"Topic8\", \"Topic8\", \"Topic8\", \"Topic8\", \"Topic8\", \"Topic8\", \"Topic9\", \"Topic9\", \"Topic9\", \"Topic9\", \"Topic9\", \"Topic9\", \"Topic9\", \"Topic9\", \"Topic9\", \"Topic9\", \"Topic9\", \"Topic9\", \"Topic9\", \"Topic9\", \"Topic9\", \"Topic9\", \"Topic9\", \"Topic9\", \"Topic9\", \"Topic9\", \"Topic9\", \"Topic9\", \"Topic9\", \"Topic9\", \"Topic9\", \"Topic9\", \"Topic9\", \"Topic9\", \"Topic9\", \"Topic9\", \"Topic9\", \"Topic9\", \"Topic9\", \"Topic9\", \"Topic9\", \"Topic9\", \"Topic9\", \"Topic9\", \"Topic9\", \"Topic9\", \"Topic9\", \"Topic9\", \"Topic9\", \"Topic9\", \"Topic9\", \"Topic9\", \"Topic9\", \"Topic9\", \"Topic9\", \"Topic9\", \"Topic9\", \"Topic9\", \"Topic9\", \"Topic9\", \"Topic9\", \"Topic9\", \"Topic9\", \"Topic9\", \"Topic9\", \"Topic9\", \"Topic9\", \"Topic9\", \"Topic9\", \"Topic9\", \"Topic9\", \"Topic9\", \"Topic9\", \"Topic9\", \"Topic10\", \"Topic10\", \"Topic10\", \"Topic10\", \"Topic10\", \"Topic10\", \"Topic10\", \"Topic10\", \"Topic10\", \"Topic10\", \"Topic10\", \"Topic10\", \"Topic10\", \"Topic10\", \"Topic10\", \"Topic10\", \"Topic10\", \"Topic10\", \"Topic10\", \"Topic10\", \"Topic10\", \"Topic10\", \"Topic10\", \"Topic10\", \"Topic10\", \"Topic10\", \"Topic10\", \"Topic10\", \"Topic10\", \"Topic10\", \"Topic10\", \"Topic10\", \"Topic10\", \"Topic10\", \"Topic10\", \"Topic10\", \"Topic10\", \"Topic10\", \"Topic10\", \"Topic10\", \"Topic10\", \"Topic10\", \"Topic10\", \"Topic10\", \"Topic10\", \"Topic10\", \"Topic10\", \"Topic10\", \"Topic10\", \"Topic10\", \"Topic10\", \"Topic10\", \"Topic10\", \"Topic10\"], \"logprob\": [30.0, 29.0, 28.0, 27.0, 26.0, 25.0, 24.0, 23.0, 22.0, 21.0, 20.0, 19.0, 18.0, 17.0, 16.0, 15.0, 14.0, 13.0, 12.0, 11.0, 10.0, 9.0, 8.0, 7.0, 6.0, 5.0, 4.0, 3.0, 2.0, 1.0, -4.040599822998047, -4.126999855041504, -5.075200080871582, -5.238800048828125, -5.398900032043457, -5.968100070953369, -6.263999938964844, -2.7332000732421875, -6.393199920654297, -6.780300140380859, -6.823299884796143, -7.290599822998047, -7.295400142669678, -7.348999977111816, -7.347300052642822, -7.395100116729736, -7.542300224304199, -7.577099800109863, -7.646299839019775, -7.707200050354004, -7.886300086975098, -7.911099910736084, -7.94350004196167, -7.923900127410889, -8.01669979095459, -8.059200286865234, -8.06719970703125, -8.100299835205078, -8.196499824523926, -8.160200119018555, -4.178999900817871, -5.122200012207031, -4.805099964141846, -4.779699802398682, -5.610199928283691, -5.845699787139893, -6.634200096130371, -5.019800186157227, -4.767199993133545, -3.8682000637054443, -2.2167999744415283, -5.35699987411499, -6.304299831390381, -5.192699909210205, -6.58459997177124, -4.362599849700928, -5.703400135040283, -5.059599876403809, -5.680799961090088, -5.669600009918213, -4.775199890136719, -4.507599830627441, -4.039999961853027, -4.298699855804443, -4.0192999839782715, -3.812299966812134, -4.553999900817871, -4.528299808502197, -5.035999774932861, -4.08050012588501, -5.539299964904785, -5.08620023727417, -4.740799903869629, -4.877399921417236, -4.963699817657471, -5.093100070953369, -5.367800235748291, -5.378799915313721, -5.646699905395508, -5.748300075531006, -5.746699810028076, -5.910600185394287, -5.9328999519348145, -3.6131999492645264, -6.069699764251709, -6.326900005340576, -6.692599773406982, -6.821400165557861, -4.072000026702881, -7.650700092315674, -7.7916998863220215, -7.688600063323975, -7.891200065612793, -7.999100208282471, -8.038100242614746, -8.20300006866455, -8.214300155639648, -8.27929973602295, -8.525099754333496, -8.527899742126465, -8.731300354003906, -8.733699798583984, -8.845999717712402, -8.929400444030762, -8.341400146484375, -9.01509952545166, -4.019100189208984, -4.953499794006348, -6.241000175476074, -6.191400051116943, -7.8927998542785645, -5.438799858093262, -6.885200023651123, -6.479100227355957, -5.593699932098389, -6.114699840545654, -5.513199806213379, -4.02239990234375, -5.549900054931641, -3.1305999755859375, -5.167399883270264, -4.003699779510498, -3.883500099182129, -4.48330020904541, -3.8259999752044678, -3.8011999130249023, -4.486400127410889, -4.23360013961792, -2.975399971008301, -4.154399871826172, -3.1517999172210693, -3.8808000087738037, -4.311399936676025, -4.305699825286865, -4.23960018157959, -4.817999839782715, -5.247799873352051, -5.072500228881836, -4.821199893951416, -5.131400108337402, -4.472499847412109, -4.972099781036377, -5.042399883270264, -4.908400058746338, -5.064899921417236, -5.145199775695801, -5.13670015335083, -4.773200035095215, -4.914000034332275, -5.007999897003174, -5.300600051879883, -5.440299987792969, -5.444900035858154, -5.683499813079834, -6.016600131988525, -6.252500057220459, -6.2596001625061035, -6.428199768066406, -6.494500160217285, -6.667099952697754, -6.714700222015381, -6.668000221252441, -6.8059000968933105, -6.909800052642822, -7.012199878692627, -7.173900127410889, -7.177800178527832, -7.4166998863220215, -7.493899822235107, -7.521699905395508, -7.639999866485596, -7.720699787139893, -7.776299953460693, -7.802599906921387, -7.858799934387207, -7.869999885559082, -7.8796000480651855, -4.223899841308594, -3.715100049972534, -5.679900169372559, -5.137400150299072, -6.478600025177002, -5.127399921417236, -4.981599807739258, -3.5601000785827637, -5.686500072479248, -5.985199928283691, -3.163100004196167, -5.6092000007629395, -4.763400077819824, -2.104099988937378, -5.625500202178955, -3.7309999465942383, -3.50600004196167, -4.316699981689453, -4.513199806213379, -5.188499927520752, -4.804699897766113, -4.50029993057251, -5.214900016784668, -4.747600078582764, -4.736299991607666, -4.040299892425537, -4.32480001449585, -5.122099876403809, -4.597899913787842, -4.914299964904785, -5.019899845123291, -5.265699863433838, -5.1407999992370605, -4.1290998458862305, -3.330199956893921, -5.0081000328063965, -5.360099792480469, -5.817999839782715, -5.835400104522705, -6.144700050354004, -6.299900054931641, -6.409299850463867, -6.427599906921387, -6.38070011138916, -6.632699966430664, -6.654600143432617, -4.52370023727417, -6.76230001449585, -6.89709997177124, -6.444900035858154, -7.182199954986572, -7.237500190734863, -7.250100135803223, -7.290200233459473, -7.414000034332275, -7.436100006103516, -7.477499961853027, -7.494200229644775, -7.566199779510498, -6.921500205993652, -7.718900203704834, -7.736599922180176, -7.798900127410889, -5.913400173187256, -6.5665998458862305, -3.087599992752075, -5.685500144958496, -4.667399883270264, -6.221700191497803, -5.6234002113342285, -4.109099864959717, -5.412700176239014, -4.666999816894531, -5.105999946594238, -6.057700157165527, -4.7565999031066895, -5.390500068664551, -4.327700138092041, -4.124800205230713, -5.678699970245361, -3.490799903869629, -5.106200218200684, -4.8130998611450195, -3.585599899291992, -5.356299877166748, -4.039000034332275, -4.235599994659424, -5.2164998054504395, -5.328800201416016, -4.43149995803833, -5.298099994659424, -5.101399898529053, -5.416500091552734, -4.5980000495910645, -4.6722002029418945, -3.9655001163482666, -4.732100009918213, -4.574999809265137, -4.550600051879883, -4.4197998046875, -4.899099826812744, -4.796599864959717, -5.208499908447266, -3.441999912261963, -3.61680006980896, -3.830699920654297, -3.91759991645813, -4.6803998947143555, -5.534900188446045, -5.535699844360352, -5.249000072479248, -6.436100006103516, -6.456099987030029, -6.458000183105469, -6.808899879455566, -6.978499889373779, -7.523499965667725, -7.556399822235107, -7.604300022125244, -7.795899868011475, -7.956399917602539, -8.022700309753418, -8.032400131225586, -8.155500411987305, -8.289199829101562, -8.332599639892578, -8.411499977111816, -8.441900253295898, -8.518600463867188, -8.664899826049805, -8.79800033569336, -8.820099830627441, -8.857500076293945, -3.5597000122070312, -3.946199893951416, -6.709000110626221, -4.03849983215332, -5.918600082397461, -5.258800029754639, -5.6579999923706055, -7.219900131225586, -6.435299873352051, -4.671599864959717, -4.960899829864502, -4.104000091552734, -5.35890007019043, -6.462399959564209, -5.058800220489502, -5.243500232696533, -3.522599935531616, -5.087900161743164, -3.88700008392334, -4.048600196838379, -4.2881999015808105, -4.759799957275391, -5.182700157165527, -3.6875998973846436, -3.676100015640259, -5.0320000648498535, -5.014900207519531, -4.171299934387207, -4.309999942779541, -4.449399948120117, -4.736499786376953, -4.800600051879883, -4.636300086975098, -4.581699848175049, -4.572000026702881, -4.697999954223633, -4.75570011138916, -5.005199909210205, -4.64169979095459, -5.595099925994873, -5.65910005569458, -5.7515997886657715, -5.76669979095459, -6.0482001304626465, -6.160999774932861, -5.377099990844727, -6.3059000968933105, -6.363500118255615, -6.483099937438965, -6.485099792480469, -6.530600070953369, -6.563499927520752, -6.581699848175049, -6.399799823760986, -6.633600234985352, -6.683899879455566, -6.831299781799316, -6.866199970245361, -6.885900020599365, -6.9095001220703125, -6.93779993057251, -7.018199920654297, -6.966400146484375, -7.158299922943115, -7.1645002365112305, -7.207699775695801, -7.216100215911865, -7.2683000564575195, -5.797699928283691, -5.69950008392334, -5.811299800872803, -5.917200088500977, -5.7829999923706055, -5.2891998291015625, -5.02269983291626, -6.626200199127197, -5.538599967956543, -2.740299940109253, -4.7891998291015625, -5.430600166320801, -5.473299980163574, -5.793700218200684, -4.9532999992370605, -5.131800174713135, -4.783299922943115, -4.576099872589111, -5.311500072479248, -3.9683001041412354, -5.5254998207092285, -4.981400012969971, -5.521900177001953, -5.470699787139893, -5.576300144195557, -3.965100049972534, -5.287399768829346, -4.561500072479248, -5.281000137329102, -5.317599773406982, -5.46589994430542, -5.554299831390381, -5.3460001945495605, -5.456600189208984, -5.433800220489502, -5.548099994659424, -4.353899955749512, -3.3217999935150146, -4.710599899291992, -5.043600082397461, -5.186399936676025, -5.223100185394287, -4.382699966430664, -5.947199821472168, -4.969799995422363, -6.809000015258789, -6.858699798583984, -7.1828999519348145, -7.226500034332275, -7.468200206756592, -7.5802001953125, -7.81850004196167, -7.832699775695801, -7.950799942016602, -8.01830005645752, -5.933199882507324, -8.159000396728516, -8.172900199890137, -8.19320011138916, -8.196399688720703, -8.303899765014648, -8.336799621582031, -8.337499618530273, -5.462299823760986, -8.211799621582031, -8.659099578857422, -5.4781999588012695, -6.40749979019165, -3.2748000621795654, -6.2804999351501465, -3.6933999061584473, -7.669300079345703, -4.4182000160217285, -5.000699996948242, -6.008600234985352, -5.181700229644775, -5.876999855041504, -5.4928998947143555, -4.219200134277344, -3.7116000652313232, -6.279600143432617, -2.8959999084472656, -2.9367001056671143, -6.081299781799316, -5.10860013961792, -4.671500205993652, -5.358799934387207, -4.894000053405762, -4.802499771118164, -4.612500190734863, -5.251299858093262, -4.439599990844727, -4.248600006103516, -4.572700023651123, -4.3942999839782715, -4.547399997711182, -4.3649001121521, -3.9948999881744385, -4.138299942016602, -4.781899929046631, -4.867000102996826, -4.940800189971924, -4.941199779510498, -4.326000213623047, -4.838900089263916, -5.083899974822998, -5.251200199127197, -5.25600004196167, -5.308499813079834, -5.234799861907959, -5.649499893188477, -5.6880998611450195, -5.7357001304626465, -5.919600009918213, -6.064300060272217, -6.2555999755859375, -6.3557000160217285, -6.462800025939941, -6.463099956512451, -6.528299808502197, -6.551599979400635, -6.592299938201904, -6.626800060272217, -6.6890997886657715, -6.694399833679199, -6.696300029754639, -6.795599937438965, -6.8059000968933105, -6.711400032043457, -7.006800174713135, -7.026199817657471, -7.0802998542785645, -7.152299880981445, -6.225800037384033, -3.835700035095215, -3.995800018310547, -4.920899868011475, -4.2708001136779785, -6.303599834442139, -3.402400016784668, -3.897700071334839, -5.640699863433838, -3.7639999389648438, -5.547100067138672, -4.4232001304626465, -4.341800212860107, -4.695899963378906, -3.7337000370025635, -5.504799842834473, -5.252600193023682, -3.6050000190734863, -3.504300117492676, -4.123899936676025, -4.366099834442139, -3.406599998474121, -4.833099842071533, -3.642699956893921, -4.724899768829346, -4.927499771118164, -4.567699909210205, -4.717800140380859, -4.63670015335083, -4.8119001388549805, -4.8531999588012695, -4.835999965667725, -4.95550012588501, -4.216100215911865, -4.708099842071533, -5.329999923706055, -5.480500221252441, -5.581299781799316, -5.583600044250488, -5.618599891662598, -5.629899978637695, -5.742099761962891, -6.112299919128418, -6.224400043487549, -6.350800037384033, -6.559100151062012, -6.678699970245361, -6.668900012969971, -6.741099834442139, -6.776899814605713, -6.829599857330322, -6.9243998527526855, -6.948999881744385, -6.906899929046631, -7.018899917602539, -7.019599914550781, -7.0493998527526855, -7.087600231170654, -7.122499942779541, -7.129700183868408, -7.009200096130371, -7.382500171661377, -7.426199913024902, -6.047100067138672, -3.9888999462127686, -3.1105000972747803, -3.5655999183654785, -4.168499946594238, -5.751100063323975, -5.440499782562256, -6.595600128173828, -5.855599880218506, -4.872399806976318, -5.394499778747559, -4.7895002365112305, -5.023499965667725, -5.215799808502197, -4.555099964141846, -5.393499851226807, -4.418399810791016, -5.41480016708374, -5.341300010681152, -4.575099945068359, -5.4994001388549805, -5.417099952697754, -4.007199764251709, -5.2204999923706055, -4.575200080871582, -4.386099815368652, -3.8052000999450684, -4.526199817657471, -5.229499816894531, -4.980299949645996, -5.276599884033203, -4.497399806976318, -5.039700031280518, -5.122600078582764, -4.9980998039245605, -5.026199817657471, -5.039899826049805, -5.152299880981445, -2.2764999866485596, -3.4182000160217285, -4.34499979019165, -4.380899906158447, -4.516600131988525, -4.572700023651123, -4.606599807739258, -5.047900199890137, -5.082499980926514, -5.192699909210205, -5.231299877166748, -5.644000053405762, -5.777400016784668, -5.834799766540527, -5.857999801635742, -5.858699798583984, -5.866399765014648, -5.896599769592285, -5.981200218200684, -6.096700191497803, -6.130000114440918, -6.160600185394287, -6.266499996185303, -6.289400100708008, -6.315800189971924, -6.382299900054932, -6.441100120544434, -6.468400001525879, -6.475800037384033, -6.47730016708374, -5.576000213623047, -4.46019983291626, -4.967899799346924, -6.353899955749512, -5.296500205993652, -5.493800163269043, -5.631899833679199, -6.009699821472168, -5.541200160980225, -5.313700199127197, -5.148900032043457, -4.704599857330322, -5.265900135040283, -5.112400054931641, -4.9527997970581055, -4.874300003051758, -5.322800159454346, -5.417399883270264, -5.500999927520752, -5.019700050354004, -5.307600021362305, -5.455900192260742, -5.505799770355225, -5.513800144195557], \"loglift\": [30.0, 29.0, 28.0, 27.0, 26.0, 25.0, 24.0, 23.0, 22.0, 21.0, 20.0, 19.0, 18.0, 17.0, 16.0, 15.0, 14.0, 13.0, 12.0, 11.0, 10.0, 9.0, 8.0, 7.0, 6.0, 5.0, 4.0, 3.0, 2.0, 1.0, 2.017699956893921, 2.017699956893921, 2.017400026321411, 2.017400026321411, 2.0172998905181885, 2.016900062561035, 2.0165998935699463, 2.0165998935699463, 2.0164999961853027, 2.015899896621704, 2.0157999992370605, 2.0146000385284424, 2.0144999027252197, 2.014400005340576, 2.014400005340576, 2.01419997215271, 2.0136001110076904, 2.0134999752044678, 2.013200044631958, 2.0129001140594482, 2.011899948120117, 2.0118000507354736, 2.0116000175476074, 2.0113000869750977, 2.0111000537872314, 2.0107998847961426, 2.0107998847961426, 2.010499954223633, 2.0097999572753906, 2.009500026702881, 2.001300096511841, 2.0092999935150146, 1.9714000225067139, 1.948099970817566, 1.9620000123977661, 1.8711999654769897, 1.9155000448226929, 1.771399974822998, 1.7342000007629395, 1.6401000022888184, 1.361799955368042, 1.7086000442504883, 1.8178000450134277, 1.6353000402450562, 1.861899971961975, 1.4121999740600586, 1.655400037765503, 1.4407000541687012, 1.593400001525879, 1.5298999547958374, 1.1885000467300415, 1.0087000131607056, 0.7797999978065491, 0.8105999827384949, 0.6328999996185303, 0.5116000175476074, 0.5681999921798706, 0.3546999990940094, 0.8374000191688538, -0.6568999886512756, 1.4010000228881836, 0.6039999723434448, -0.044599998742341995, -0.06769999861717224, -0.2150000035762787, 0.01860000006854534, 2.0845999717712402, 2.0845999717712402, 2.084399938583374, 2.084399938583374, 2.084399938583374, 2.084199905395508, 2.084199905395508, 2.0841000080108643, 2.0841000080108643, 2.0838000774383545, 2.083199977874756, 2.082900047302246, 2.081899881362915, 2.0801000595092773, 2.079400062561035, 2.079200029373169, 2.0787999629974365, 2.078000068664551, 2.0778000354766846, 2.0764999389648438, 2.0764000415802, 2.0757999420166016, 2.073199987411499, 2.0731000900268555, 2.070499897003174, 2.0703001022338867, 2.068700075149536, 2.0673000812530518, 2.066499948501587, 2.065700054168701, 2.015700101852417, 2.024199962615967, 2.0313000679016113, 1.9598000049591064, 2.0343000888824463, 1.8738000392913818, 1.9646999835968018, 1.8997000455856323, 1.8075000047683716, 1.783400058746338, 1.6794999837875366, 1.437600016593933, 1.6628999710083008, 1.1933000087738037, 1.563599944114685, 1.301200032234192, 1.2390999794006348, 1.276900053024292, 0.9937999844551086, 0.8949999809265137, 1.1470999717712402, 1.033400058746338, 0.44830000400543213, 0.9573000073432922, 0.426800012588501, 0.7713000178337097, 0.7979999780654907, 0.7166000008583069, 0.5702000260353088, 0.9632999897003174, 1.364400029182434, 1.1432000398635864, 0.7950999736785889, 0.9980000257492065, -0.2353000044822693, 0.6570000052452087, 0.7577999830245972, 0.21379999816417694, 0.7098000049591064, 0.8185999989509583, -0.25369998812675476, 2.1110000610351562, 2.1108999252319336, 2.11080002784729, 2.11080002784729, 2.1106998920440674, 2.1106998920440674, 2.1105000972747803, 2.110100030899048, 2.109999895095825, 2.109999895095825, 2.1096999645233154, 2.109600067138672, 2.109299898147583, 2.1092000007629395, 2.1092000007629395, 2.109100103378296, 2.1087000370025635, 2.108599901199341, 2.108099937438965, 2.108099937438965, 2.1071999073028564, 2.1068999767303467, 2.106800079345703, 2.1061999797821045, 2.105799913406372, 2.1054999828338623, 2.105299949645996, 2.1048998832702637, 2.1048998832702637, 2.10479998588562, 2.075200080871582, 2.060800075531006, 2.0801000595092773, 2.061800003051758, 2.0797998905181885, 2.049299955368042, 2.0313000679016113, 1.909999966621399, 2.0051000118255615, 1.9867000579833984, 1.6578999757766724, 1.9163999557495117, 1.7934000492095947, 1.319599986076355, 1.867400050163269, 1.3808000087738037, 1.3037999868392944, 1.312399983406067, 1.3251999616622925, 1.5406999588012695, 1.3246999979019165, 1.1269999742507935, 1.4873000383377075, 1.1878999471664429, 1.0699000358581543, 0.28349998593330383, 0.4239000082015991, 0.9836999773979187, -0.16609999537467957, 0.22139999270439148, -0.3677999973297119, 0.9527999758720398, -0.2578999996185303, 2.2058000564575195, 2.205699920654297, 2.2056000232696533, 2.205399990081787, 2.2051000595092773, 2.2051000595092773, 2.204699993133545, 2.2044999599456787, 2.204400062561035, 2.2042999267578125, 2.2042999267578125, 2.203900098800659, 2.203900098800659, 2.203900098800659, 2.203700065612793, 2.2032999992370605, 2.202899932861328, 2.202500104904175, 2.2023000717163086, 2.202199935913086, 2.2021000385284424, 2.2014999389648438, 2.2014000415802, 2.201200008392334, 2.201200008392334, 2.200500011444092, 2.200200080871582, 2.200000047683716, 2.1998000144958496, 2.19950008392334, 2.1933000087738037, 2.198699951171875, 2.1368000507354736, 2.127000093460083, 2.0766000747680664, 2.145699977874756, 2.109499931335449, 2.0213000774383545, 2.0954999923706055, 2.043600082397461, 2.050100088119507, 2.119800090789795, 2.010699987411499, 2.0566999912261963, 1.9456000328063965, 1.9154000282287598, 2.0785999298095703, 1.7762000560760498, 1.9874999523162842, 1.924299955368042, 1.5500999689102173, 1.933899998664856, 1.5773999691009521, 1.516700029373169, 1.777500033378601, 1.7867000102996826, 1.249899983406067, 1.7400000095367432, 1.455299973487854, 1.7760000228881836, 0.7070000171661377, 0.6888999938964844, -0.5418000221252441, 0.6513000130653381, 0.30799999833106995, 0.19820000231266022, -0.09589999914169312, 0.9071000218391418, 0.02449999935925007, 1.007200002670288, 2.2864999771118164, 2.2864999771118164, 2.2864999771118164, 2.286400079727173, 2.28629994392395, 2.285900115966797, 2.285900115966797, 2.285599946975708, 2.2848000526428223, 2.2846999168395996, 2.2846999168395996, 2.2839999198913574, 2.2834999561309814, 2.2811999320983887, 2.281100034713745, 2.280600070953369, 2.279599905014038, 2.2783000469207764, 2.2778000831604004, 2.2776999473571777, 2.2764999866485596, 2.275099992752075, 2.274600028991699, 2.2736001014709473, 2.273200035095215, 2.2708001136779785, 2.26990008354187, 2.2674999237060547, 2.2671000957489014, 2.266400098800659, 2.189199924468994, 2.168100118637085, 2.22189998626709, 2.052299976348877, 2.136399984359741, 2.0996999740600586, 2.0552000999450684, 2.18179988861084, 2.098599910736084, 1.9026000499725342, 1.9259999990463257, 1.8138999938964844, 1.917799949645996, 2.072700023651123, 1.8587000370025635, 1.8723000288009644, 1.4996999502182007, 1.776900053024292, 1.385200023651123, 1.4113999605178833, 1.472000002861023, 1.6167999505996704, 1.6973999738693237, 1.0612000226974487, 0.9761000275611877, 1.6087000370025635, 1.5851000547409058, 0.7117000222206116, 0.49970000982284546, 0.6600000262260437, 1.0636999607086182, 1.1347999572753906, 0.7470999956130981, 0.2393999993801117, -0.24819999933242798, -0.2662000060081482, -0.5184000134468079, 0.8682000041007996, 2.358099937438965, 2.3577001094818115, 2.357599973678589, 2.3575000762939453, 2.3575000762939453, 2.3571999073028564, 2.3570001125335693, 2.3568999767303467, 2.356800079345703, 2.3566999435424805, 2.3564999103546143, 2.3564999103546143, 2.3564000129699707, 2.356300115585327, 2.3561999797821045, 2.356100082397461, 2.356100082397461, 2.3559999465942383, 2.355600118637085, 2.3554999828338623, 2.3554000854492188, 2.3554000854492188, 2.355299949645996, 2.3550000190734863, 2.3548998832702637, 2.3545000553131104, 2.3545000553131104, 2.354300022125244, 2.3541998863220215, 2.3540000915527344, 2.352099895477295, 2.3282999992370605, 2.3197999000549316, 2.289099931716919, 2.271699905395508, 2.203900098800659, 2.1709001064300537, 2.32069993019104, 2.1714999675750732, 1.496999979019165, 1.8932000398635864, 1.9808000326156616, 1.9322999715805054, 2.030600070953369, 1.687600016593933, 1.7386000156402588, 1.5707000494003296, 1.3249000310897827, 1.687399983406067, 0.8515999913215637, 1.7281999588012695, 1.294700026512146, 1.7145999670028687, 1.6497999429702759, 1.7541999816894531, -0.3865000009536743, 1.1332000494003296, -1.1377999782562256, 0.8435999751091003, 0.3637999892234802, 0.8697999715805054, 1.2764999866485596, -0.21040000021457672, 0.05169999971985817, -0.7376000285148621, 0.9660999774932861, 2.3594000339508057, 2.359299898147583, 2.359299898147583, 2.359100103378296, 2.359100103378296, 2.359100103378296, 2.3589999675750732, 2.3584001064300537, 2.3580000400543213, 2.356800079345703, 2.3566999435424805, 2.3554999828338623, 2.355299949645996, 2.3541998863220215, 2.3534998893737793, 2.351900100708008, 2.351799964904785, 2.350800037384033, 2.3499999046325684, 2.3494999408721924, 2.3487000465393066, 2.3485000133514404, 2.348400115966797, 2.348299980163574, 2.347100019454956, 2.34660005569458, 2.34660005569458, 2.3464999198913574, 2.346100091934204, 2.3417000770568848, 2.303100109100342, 2.3148000240325928, 2.2320001125335693, 2.2660000324249268, 1.9967999458312988, 2.3036999702453613, 2.009000062942505, 2.0618999004364014, 2.148900032043457, 2.0517001152038574, 2.1131999492645264, 2.065000057220459, 1.8837000131607056, 1.7630000114440918, 2.1410000324249268, 1.5358999967575073, 1.3006000518798828, 2.071199893951416, 1.7585999965667725, 1.5744999647140503, 1.7798000574111938, 1.5266000032424927, 1.4736000299453735, 1.3693000078201294, 1.625100016593933, 1.059999942779541, 0.7736999988555908, 0.9435999989509583, 0.7279000282287598, 0.7249000072479248, 0.3312999904155731, -0.4162999987602234, -0.7146000266075134, 0.6014999747276306, 0.2685999870300293, 0.1817999929189682, -0.2890999913215637, 2.4565000534057617, 2.4563000202178955, 2.456199884414673, 2.4560999870300293, 2.4560999870300293, 2.4560000896453857, 2.4560000896453857, 2.4558000564575195, 2.455699920654297, 2.455699920654297, 2.455399990081787, 2.455199956893921, 2.454900026321411, 2.454699993133545, 2.4544999599456787, 2.4544999599456787, 2.454400062561035, 2.454200029373169, 2.454200029373169, 2.4540998935699463, 2.4539999961853027, 2.453900098800659, 2.453900098800659, 2.4535999298095703, 2.4535999298095703, 2.453200101852417, 2.452899932861328, 2.4528000354766846, 2.4526000022888184, 2.4523000717163086, 2.451200008392334, 2.419300079345703, 2.3564999103546143, 2.365799903869629, 2.3173000812530518, 2.415600061416626, 2.097100019454956, 2.0773000717163086, 2.3032000064849854, 1.8632999658584595, 2.1768999099731445, 1.8619999885559082, 1.7640000581741333, 1.8143999576568604, 1.3889000415802002, 2.044600009918213, 1.904099941253662, 1.0913000106811523, 0.9275000095367432, 0.9983000159263611, 1.1502000093460083, 0.1720000058412552, 1.3863999843597412, -0.21899999678134918, 1.1485999822616577, 1.291100025177002, 0.7045000195503235, 0.9157999753952026, 0.7466999888420105, 0.8172000050544739, 0.45179998874664307, 0.2732999920845032, 0.51910001039505, 2.5065999031066895, 2.506500005722046, 2.5060999393463135, 2.50600004196167, 2.5058999061584473, 2.5058999061584473, 2.5058999061584473, 2.5058999061584473, 2.50570011138916, 2.505199909210205, 2.505000114440918, 2.5048000812530518, 2.504300117492676, 2.503999948501587, 2.5039000511169434, 2.5037999153137207, 2.503700017929077, 2.503499984741211, 2.503200054168701, 2.5030999183654785, 2.5028998851776123, 2.5027999877929688, 2.5027999877929688, 2.502700090408325, 2.502500057220459, 2.5023999214172363, 2.5023999214172363, 2.5023000240325928, 2.5011000633239746, 2.5007998943328857, 2.496500015258789, 2.353300094604492, 2.2506000995635986, 2.2604000568389893, 2.2813000679016113, 2.384200096130371, 2.3380000591278076, 2.4565999507904053, 2.3677000999450684, 2.1979000568389893, 2.2451999187469482, 2.078700065612793, 2.1205999851226807, 2.071000099182129, 1.8660000562667847, 2.1112000942230225, 1.7891000509262085, 2.10260009765625, 2.0738000869750977, 1.6339999437332153, 2.0882999897003174, 1.9781999588012695, 0.741599977016449, 1.7848999500274658, 1.1061999797821045, 0.4968999922275543, -0.3815000057220459, -0.09440000355243683, 1.498900055885315, 0.7720000147819519, 1.5881999731063843, -0.9189000129699707, 0.57669997215271, 0.7784000039100647, 0.13750000298023224, 0.2460000067949295, -0.01759999990463257, -0.03009999915957451, 2.9249000549316406, 2.924799919128418, 2.924499988555908, 2.924499988555908, 2.9244000911712646, 2.9244000911712646, 2.9244000911712646, 2.924099922180176, 2.9240000247955322, 2.9238998889923096, 2.9238998889923096, 2.9233999252319336, 2.9231998920440674, 2.9230000972747803, 2.9230000972747803, 2.9230000972747803, 2.9230000972747803, 2.9228999614715576, 2.9226999282836914, 2.9223999977111816, 2.9223999977111816, 2.922300100326538, 2.921999931335449, 2.921999931335449, 2.9219000339508057, 2.9217000007629395, 2.9214999675750732, 2.9214000701904297, 2.9214000701904297, 2.9214000701904297, 2.8264999389648438, 2.6761999130249023, 2.6510000228881836, 2.898900032043457, 2.575200080871582, 2.5699000358581543, 2.5148000717163086, 2.731300115585327, 2.3206000328063965, 1.769700050354004, 1.4789999723434448, 0.802299976348877, 1.6190999746322632, 0.9505000114440918, 0.5554999709129333, -0.17800000309944153, 1.1785000562667847, 1.179800033569336, 1.4980000257492065, -0.7825000286102295, -0.4246000051498413, 0.7531999945640564, 1.3128999471664429, -0.4043999910354614]}, \"token.table\": {\"Topic\": [9, 9, 9, 9, 9, 9, 2, 1, 6, 10, 1, 2, 9, 7, 10, 7, 8, 2, 2, 3, 4, 5, 7, 8, 9, 1, 1, 4, 5, 6, 7, 5, 5, 7, 8, 5, 5, 5, 4, 5, 1, 2, 3, 4, 5, 7, 8, 9, 2, 3, 4, 1, 2, 3, 4, 5, 6, 7, 8, 9, 10, 5, 5, 9, 5, 9, 5, 8, 4, 4, 4, 6, 9, 4, 7, 8, 1, 2, 3, 5, 6, 7, 9, 10, 7, 1, 3, 4, 5, 7, 8, 9, 10, 6, 7, 1, 2, 3, 4, 5, 6, 7, 8, 9, 10, 10, 10, 10, 6, 1, 2, 3, 4, 5, 6, 7, 8, 9, 10, 6, 6, 2, 3, 2, 6, 9, 2, 4, 5, 1, 4, 9, 1, 2, 3, 4, 8, 3, 4, 7, 2, 2, 1, 3, 6, 9, 10, 1, 2, 3, 4, 5, 7, 8, 9, 10, 9, 1, 2, 3, 6, 7, 9, 10, 1, 7, 8, 10, 3, 6, 6, 7, 2, 4, 3, 4, 2, 2, 6, 1, 6, 7, 10, 1, 10, 6, 7, 10, 4, 5, 1, 2, 3, 4, 5, 6, 7, 8, 9, 1, 2, 3, 5, 6, 7, 9, 10, 4, 10, 10, 4, 10, 4, 1, 2, 3, 4, 6, 7, 9, 10, 6, 6, 3, 1, 2, 3, 4, 5, 6, 9, 10, 3, 2, 5, 6, 7, 2, 5, 2, 3, 7, 10, 2, 7, 8, 4, 4, 4, 8, 6, 4, 7, 8, 8, 1, 4, 9, 1, 6, 6, 4, 1, 3, 3, 9, 9, 2, 4, 6, 10, 6, 5, 6, 1, 3, 3, 10, 9, 4, 6, 9, 3, 2, 3, 4, 7, 8, 10, 9, 3, 10, 7, 7, 6, 1, 1, 1, 2, 3, 4, 6, 9, 10, 6, 2, 5, 4, 9, 2, 1, 2, 3, 4, 5, 6, 7, 8, 9, 10, 1, 3, 4, 5, 6, 7, 8, 9, 10, 1, 2, 3, 4, 5, 7, 8, 9, 10, 1, 2, 3, 4, 5, 6, 7, 8, 9, 10, 2, 3, 4, 2, 4, 5, 7, 1, 2, 6, 9, 10, 2, 4, 5, 7, 8, 2, 4, 5, 2, 5, 4, 7, 9, 6, 1, 2, 3, 4, 5, 6, 7, 8, 8, 1, 2, 3, 6, 2, 5, 1, 2, 3, 6, 7, 8, 9, 6, 7, 6, 7, 7, 7, 1, 2, 3, 5, 6, 7, 8, 2, 4, 5, 1, 10, 1, 2, 3, 4, 5, 6, 7, 8, 9, 10, 1, 10, 1, 4, 1, 5, 7, 8, 9, 5, 6, 9, 2, 3, 7, 8, 10, 2, 8, 10, 3, 4, 9, 7, 1, 2, 1, 5, 7, 10, 1, 2, 3, 4, 5, 6, 7, 8, 9, 2, 4, 5, 7, 1, 2, 3, 4, 5, 6, 7, 8, 10, 1, 2, 3, 4, 5, 6, 7, 8, 9, 10, 1, 3, 5, 8, 9, 2, 3, 4, 6, 8, 9, 9, 2, 3, 4, 6, 7, 8, 9, 4, 6, 9, 1, 3, 4, 5, 8, 9, 10, 4, 9, 8, 10, 10, 1, 2, 3, 4, 5, 4, 2, 3, 4, 5, 6, 7, 8, 9, 2, 4, 7, 1, 8, 9, 1, 3, 8, 9, 1, 5, 7, 8, 9, 8, 2, 4, 5, 7, 9, 1, 2, 3, 9, 10, 1, 2, 3, 4, 3, 4, 9, 1, 2, 3, 4, 5, 7, 2, 3, 1, 2, 3, 5, 6, 8, 9, 10, 1, 2, 3, 4, 5, 6, 7, 8, 9, 10, 3, 4, 1, 3, 4, 8, 6, 7, 6, 2, 6, 10, 6, 5, 7, 5, 6, 10, 1, 1, 2, 6, 7, 10, 7, 7, 8, 5, 2, 7, 10, 8, 1, 2, 3, 4, 5, 7, 8, 9, 10, 1, 2, 4, 6, 10, 2, 6, 6, 8, 1, 1, 3, 3, 8, 9, 10, 3, 4, 9, 8, 1, 1, 2, 3, 4, 7, 8, 1, 2, 3, 1, 2, 3, 4, 6, 7, 9, 9, 1, 1, 2, 3, 4, 5, 6, 7, 8, 9, 10, 4, 6, 7, 8, 1, 2, 3, 4, 5, 6, 7, 8, 9, 10, 1, 4, 4, 8, 1, 2, 3, 5, 6, 9, 10, 2, 4, 6, 8, 9, 9, 5, 1, 1, 2, 3, 4, 5, 6, 7, 8, 10, 1, 2, 3, 4, 5, 6, 7, 8, 9, 10, 2, 4, 1, 2, 5, 7, 8, 9, 8, 1, 6, 10, 3, 6, 9, 3, 5, 2, 4, 9, 9, 10, 1, 10, 8, 6, 7, 8, 3, 3, 10, 3, 1, 8, 1, 7, 8, 10, 6, 5, 1, 2, 3, 4, 5, 6, 7, 8, 9, 10, 1, 2, 3, 4, 5, 7, 8, 9, 10, 3, 4, 10, 2, 3, 4, 5, 1, 2, 3, 4, 10, 6, 7, 9, 10, 2, 4, 5, 6, 8, 1, 2, 3, 4, 5, 7, 8, 9, 7, 8, 4, 6, 7, 10, 4, 5, 6, 7, 6, 6, 10, 6, 7, 2, 4, 9, 4, 4, 4, 9, 4, 9, 6, 10, 6, 7, 9, 10, 5, 7, 1, 7, 10, 7, 9, 1, 2, 3, 4, 5, 6, 7, 8, 9, 10, 3, 1, 2, 5, 6, 7, 8, 9, 10, 1, 6, 3, 7, 9, 3, 2, 7, 9, 7, 9, 7, 7, 3, 10, 10, 3, 7, 10, 6, 7, 4, 9, 6, 1, 2, 6, 10, 4, 7, 10, 1, 2, 4, 8, 2, 2, 2, 1, 2, 3, 4, 10, 4, 1, 2, 3, 4, 5, 8, 10, 10, 10, 1, 2, 2, 3, 4, 5, 6, 7, 9, 10, 10, 3, 4, 2, 7, 3, 4, 9, 5, 4, 5, 1, 10, 4, 5, 9, 4, 2, 4, 5, 5, 4, 1, 3, 4, 9, 4, 2, 4, 5, 8, 9, 2, 2, 3, 2, 3, 6, 10, 5, 9, 6, 7, 10, 5, 2, 3, 1, 2, 3, 4, 5, 6, 7, 8, 9, 10, 9, 6, 5, 1, 5, 6, 7, 8, 9, 1, 3, 7, 8, 9, 10, 10, 1, 3, 5, 8, 9, 1, 2, 10, 1, 3, 5, 6, 7, 8, 9, 10, 4, 5, 8, 8, 10, 10, 10, 1, 3, 9, 10, 1, 2, 3, 4, 5, 6, 7, 8, 9, 10, 1, 2, 4, 5, 6, 7, 10, 1, 2, 4, 6, 7, 8, 10, 3, 9, 3, 9, 9, 4, 7, 6, 8, 5, 7, 3, 5, 8, 9, 3, 9, 1, 2, 6, 10, 3, 3, 4, 2, 4, 10, 1, 6, 5, 2, 5, 5, 10, 1, 3, 5, 7, 9, 10, 2, 4, 5, 7, 8, 1, 3, 1, 1, 5, 7, 5, 3, 4, 3, 3, 10, 6, 10, 9, 2, 1, 7, 8, 1, 2, 3, 4, 5, 6, 7, 9, 10, 1, 2, 4, 5, 6, 7, 9, 10, 1, 2, 4, 1, 2, 3, 4, 5, 6, 6, 8, 1, 2, 3, 4, 9, 4, 6, 10, 1, 3, 4, 5, 6, 7, 8, 9, 10, 1, 3, 5, 6, 7, 8, 9, 10, 8, 1, 2, 3, 5, 7, 8, 5, 1, 2, 3, 4, 5, 1, 2, 3, 4, 5, 7, 8, 10, 1, 2, 3, 4, 5, 6, 7, 8, 9, 10, 1, 2, 4, 6, 7, 9, 10, 1, 2, 3, 4, 5, 6, 7, 8, 1, 2, 3, 4, 5, 6, 7, 10, 7, 1, 3, 4, 5, 8, 1, 2, 3, 4, 5, 6, 7, 9, 10, 2, 3, 4, 5, 9, 2, 4, 2, 4, 2, 4, 3, 1, 2, 3, 4, 5, 8, 9, 10, 1, 3, 5, 7, 8, 10, 1, 2, 4, 5, 6, 7, 8, 10, 9, 5, 1, 2, 3, 4, 5, 6, 7, 8, 9, 10, 9, 3, 4, 9, 10, 2, 3, 4, 5, 6, 7, 5, 7, 6, 7, 1, 2, 3, 5, 6, 7, 8, 9, 2, 10, 9, 2, 2, 5, 9, 2, 10, 3, 3, 5, 8, 9, 8, 8, 1, 2, 4, 5, 7, 8, 6, 10, 6, 3, 4, 2, 3, 4, 6, 6, 8, 8, 3, 3, 3, 3, 8, 3, 8, 3, 3, 8, 8, 2, 3, 9, 10, 5, 7, 1, 3, 4, 5, 9, 8, 1, 6, 9, 10, 1, 4, 5, 8, 9, 1, 2, 3, 4, 5, 6, 7, 9, 10, 2, 3, 4, 1, 8, 1, 2, 3, 5, 6, 7, 8, 9, 10, 1, 2, 9, 1, 1, 4, 5, 9, 5, 6, 9, 1, 3, 6, 10, 3, 5, 8, 9, 5, 7, 8, 8], \"Freq\": [0.9962685704231262, 0.9965358376502991, 0.999071478843689, 0.9988830089569092, 0.9990243911743164, 0.9981739521026611, 0.9897295832633972, 0.05295417457818985, 0.9327155947685242, 0.013238543644547462, 0.9982089996337891, 0.9868496060371399, 0.9939037561416626, 0.9866147041320801, 0.012130508199334145, 0.9995548725128174, 0.9959763884544373, 0.9925447702407837, 0.9990151524543762, 0.12006712704896927, 0.0012160317273810506, 0.40602657198905945, 0.19501307606697083, 0.1733805239200592, 0.1042587161064148, 0.9912814497947693, 0.9952070713043213, 0.9975858330726624, 0.8606536984443665, 0.10965059697628021, 0.02896430715918541, 0.998033881187439, 0.1276526302099228, 0.0021474272944033146, 0.8699466586112976, 0.9998942017555237, 0.998813271522522, 0.9982314109802246, 0.3023792803287506, 0.6974024772644043, 0.12425515800714493, 0.21981434524059296, 0.4459563195705414, 0.018942562863230705, 0.16750063002109528, 0.012332817539572716, 0.008262181654572487, 0.0029421427752822638, 0.99680495262146, 0.0024730779696255922, 0.0006182694924063981, 0.00720054330304265, 0.00024829458561725914, 0.3406601846218109, 0.002731240587309003, 0.14401087164878845, 0.03774077817797661, 0.10825644433498383, 0.10428372770547867, 0.019366977736353874, 0.2356315702199936, 0.9999052882194519, 0.6006964445114136, 0.39899587631225586, 0.9989535212516785, 0.0006147406529635191, 0.9992996454238892, 0.9995967149734497, 0.9982519745826721, 0.9971023201942444, 0.7706537842750549, 0.10832692682743073, 0.12069222331047058, 0.9995253682136536, 0.9996355175971985, 0.9985406398773193, 0.5616474747657776, 0.23252642154693604, 0.0618467815220356, 0.013986551202833652, 0.05769452452659607, 0.013112391345202923, 0.0487343892455101, 0.010489913634955883, 0.9918891787528992, 0.14943581819534302, 0.08655844628810883, 0.06614372134208679, 0.10795308649539948, 0.00016331783263012767, 0.05781451240181923, 0.4177669882774353, 0.11399584263563156, 0.04929351806640625, 0.9436187744140625, 0.2346566766500473, 0.15390393137931824, 0.01184300146996975, 0.021978408098220825, 0.05227445811033249, 0.0179572943598032, 0.19560231268405914, 0.23261858522891998, 0.07910023629665375, 0.0001101674570236355, 0.9996470808982849, 0.9955849051475525, 0.9983047842979431, 0.9972941279411316, 0.29283466935157776, 0.21380458772182465, 0.03175315633416176, 0.005786130670458078, 0.00014112514327280223, 0.008185258135199547, 0.2191673368215561, 0.06477644294500351, 0.024696899577975273, 0.13886713981628418, 0.9984615445137024, 0.9993155002593994, 0.8827354907989502, 0.11731839179992676, 0.9989166855812073, 0.9971497654914856, 0.9944000244140625, 0.14788104593753815, 0.7478201389312744, 0.10428924858570099, 0.05530708283185959, 0.8803043961524963, 0.0637567788362503, 0.0009128256933763623, 0.0021907815244048834, 0.37371084094047546, 0.07074399292469025, 0.5524420738220215, 0.278153657913208, 0.6573805809020996, 0.0642826035618782, 0.9989858865737915, 0.9975333213806152, 0.022358812391757965, 0.18310055136680603, 0.000604292203206569, 0.667742908000946, 0.12629707157611847, 0.2990366816520691, 0.27603384852409363, 0.032954394817352295, 0.0014682651963084936, 0.19658438861370087, 0.01946810819208622, 0.1126757562160492, 0.025939350947737694, 0.03583654761314392, 0.9968115091323853, 0.12293608486652374, 0.00014687703514937311, 0.03113793209195137, 0.1370362788438797, 0.6212899088859558, 0.001028139260597527, 0.08651057630777359, 0.2466743439435959, 0.381757915019989, 0.05638270452618599, 0.31480345129966736, 0.9977021217346191, 0.9972888231277466, 0.25483283400535583, 0.7449927926063538, 0.08185089379549026, 0.9178993105888367, 0.998971164226532, 0.998357892036438, 0.9990581274032593, 0.9996136426925659, 0.9996599555015564, 0.034782614558935165, 0.6853262186050415, 0.13369567692279816, 0.14565220475196838, 0.9979118704795837, 0.998655378818512, 0.08793657273054123, 0.9098052978515625, 0.9977184534072876, 0.17034780979156494, 0.8283579349517822, 0.06893268972635269, 0.194603830575943, 0.4530913233757019, 0.06406507641077042, 0.01826111599802971, 0.030304180458188057, 0.04622722789645195, 0.06885206699371338, 0.05566012114286423, 0.06644399464130402, 0.006644399370998144, 0.2597643733024597, 0.04619439318776131, 0.5378799438476562, 0.025311997160315514, 0.029741596430540085, 0.028159596025943756, 0.9968750476837158, 0.9993258714675903, 0.9982274770736694, 0.023989403620362282, 0.9732843637466431, 0.9969383478164673, 0.3175365626811981, 0.299877792596817, 0.002568546449765563, 0.0016053415602073073, 0.0003210683062206954, 0.0009632048895582557, 0.10659467428922653, 0.27098163962364197, 0.9977211356163025, 0.9980586171150208, 0.9977461695671082, 0.16605480015277863, 0.09306367486715317, 0.12013121694326401, 0.09975452721118927, 0.125909686088562, 0.33880043029785156, 0.04409880191087723, 0.012165185995399952, 0.999629020690918, 0.998935341835022, 0.9904072284698486, 0.9705170392990112, 0.029196051880717278, 0.308278352022171, 0.6916075348854065, 0.18078266084194183, 0.5651518702507019, 0.2159501016139984, 0.03764015808701515, 0.9921432137489319, 0.036592211574316025, 0.9631958603858948, 0.9969630837440491, 0.9990251660346985, 0.9957377314567566, 0.994740903377533, 0.9955849051475525, 0.9992996454238892, 0.9879332780838013, 0.9995275735855103, 0.9965975880622864, 0.9931995272636414, 0.9974660873413086, 0.0018714185571298003, 0.9945090413093567, 0.9934058785438538, 0.9944020509719849, 0.991278886795044, 0.9985464215278625, 0.9935346841812134, 0.8990821838378906, 0.09997793287038803, 0.9993085265159607, 0.5937265157699585, 0.13542579114437103, 0.27085158228874207, 0.9985854625701904, 0.9954738020896912, 0.9364475011825562, 0.059614695608615875, 0.9942184686660767, 0.9970303773880005, 0.9953371286392212, 0.9952393174171448, 0.9942870140075684, 0.6274948716163635, 0.23947329819202423, 0.1328328400850296, 0.9988802671432495, 0.23977486789226532, 0.4498293697834015, 0.11613809317350388, 0.00018289464060217142, 0.19405120611190796, 0.998498260974884, 0.9916825890541077, 0.9963375329971313, 0.9981976747512817, 0.9887885451316833, 0.9857248663902283, 0.9968064427375793, 0.9998344779014587, 0.99790358543396, 0.3078112304210663, 0.011499464511871338, 0.53592848777771, 0.05402074009180069, 0.0002674293937161565, 0.07274079322814941, 0.01791776902973652, 0.9966578483581543, 0.9905858635902405, 0.9825680255889893, 0.8951739072799683, 0.10418746620416641, 0.9910857677459717, 0.18954288959503174, 0.09644094854593277, 0.09357894212007523, 0.149865061044693, 0.20701846480369568, 0.0030354615300893784, 0.056372854858636856, 0.035037897527217865, 0.1339939385652542, 0.03508125990629196, 0.08394652605056763, 0.35292473435401917, 0.27279892563819885, 0.09464451670646667, 0.009715527296066284, 0.009497201070189476, 0.033185623586177826, 0.1101456955075264, 0.03296729549765587, 0.027066778391599655, 0.11607483774423599, 0.10371261090040207, 0.01001991331577301, 0.1448332965373993, 0.3715175688266754, 0.1098286584019661, 0.10137028992176056, 0.01548532024025917, 0.022136935964226723, 0.2652091681957245, 0.10547599196434021, 0.09950770437717438, 0.29439955949783325, 0.0002170287916669622, 0.09581821411848068, 0.07465790212154388, 0.03667786717414856, 0.005859777331352234, 0.8094333410263062, 0.10585654526948929, 0.08419287949800491, 0.3898125886917114, 0.30152520537376404, 0.2816317677497864, 0.026798587292432785, 0.2746727764606476, 0.13489846885204315, 0.4924606382846832, 0.023160278797149658, 0.07476300001144409, 0.445590078830719, 0.1089475080370903, 0.44287943840026855, 0.00010425598884467036, 0.0023978876415640116, 0.6555066108703613, 0.11764360219240189, 0.2263748049736023, 0.17011183500289917, 0.8294240832328796, 0.6506471037864685, 0.20261763036251068, 0.14628642797470093, 0.9978538751602173, 0.00018879937124438584, 0.25959911942481995, 0.06872297078371048, 0.1525498926639557, 0.058905404061079025, 0.45481768250465393, 0.0035871879663318396, 0.0013215955113992095, 0.9985640645027161, 0.9326093792915344, 0.006036306731402874, 0.0002743775839917362, 0.06091181933879852, 0.3384961187839508, 0.6608155965805054, 0.34248629212379456, 0.0025463663041591644, 0.06079449877142906, 0.018142860382795334, 0.47967177629470825, 0.05761153995990753, 0.03851379081606865, 0.00028899128665216267, 0.9997172355651855, 0.9988947510719299, 0.9993055462837219, 0.9870717525482178, 0.9952813386917114, 0.1504988968372345, 0.01525326631963253, 0.07338515669107437, 0.0896553099155426, 0.11117936670780182, 0.4560726583003998, 0.10389169305562973, 0.20433345437049866, 0.0014700248138979077, 0.7938134074211121, 0.9460649490356445, 0.05362311378121376, 0.08479762822389603, 0.09360353648662567, 0.20041592419147491, 0.000815361796412617, 0.064576655626297, 0.02185169607400894, 0.0004892170545645058, 0.028211519122123718, 0.4877494275569916, 0.01744874194264412, 0.9944254755973816, 0.9993881583213806, 0.9968231916427612, 0.9940060377120972, 0.9997859001159668, 0.0006483311299234629, 0.17569772899150848, 0.16532443463802338, 0.6580560803413391, 0.8075451850891113, 0.19060072302818298, 0.9940682053565979, 0.003240591613575816, 0.3237645626068115, 0.17234055697917938, 0.50022953748703, 0.0002945992455352098, 0.09518732130527496, 0.9047507643699646, 0.9984932541847229, 0.0024255316238850355, 0.13974793255329132, 0.857705295085907, 0.9841737151145935, 0.9952300786972046, 0.9993613958358765, 0.9970276951789856, 0.9998708963394165, 0.8103125691413879, 0.1891111433506012, 0.0003103230847045779, 0.00010344103066017851, 0.00020688206132035702, 0.5019993185997009, 0.10675114393234253, 0.030928868800401688, 0.1808149218559265, 0.0024825846776366234, 0.17647039890289307, 6.101339386077598e-05, 0.9331998825073242, 0.013056866824626923, 0.05369178578257561, 0.021488605067133904, 0.15959514677524567, 0.109857477247715, 0.12627573311328888, 0.495928019285202, 0.0016901149647310376, 0.011347915045917034, 0.04176998510956764, 0.03235362842679024, 0.12714283168315887, 0.30418580770492554, 0.011440696194767952, 0.024572312831878662, 0.017952539026737213, 0.04522312805056572, 0.13156799972057343, 0.2552570402622223, 0.03770392760634422, 0.044899336993694305, 0.00044537996291182935, 0.1557716429233551, 0.001224794890731573, 0.061017055064439774, 0.781530499458313, 0.006155608221888542, 6.995009607635438e-05, 0.2193634957075119, 0.0003497504803817719, 6.995009607635438e-05, 0.7739278674125671, 0.9985901117324829, 0.06368979811668396, 0.0006744759739376605, 0.38435494899749756, 0.13605143129825592, 0.1684262752532959, 0.0003854148380924016, 0.2464727908372879, 0.3175147473812103, 0.6279503107070923, 0.054273784160614014, 0.004367724061012268, 0.11730458587408066, 0.011855250224471092, 0.08860240131616592, 0.6620221734046936, 0.046173080801963806, 0.06988358497619629, 0.9980491399765015, 0.9962835311889648, 0.29453834891319275, 0.7044805884361267, 0.9976403117179871, 0.0002312415454071015, 0.000462483090814203, 0.7277171611785889, 0.12533292174339294, 0.1463758945465088, 0.9957672357559204, 0.4566201865673065, 0.002049996517598629, 0.22338348627090454, 0.05508538708090782, 0.008993532508611679, 0.11916431039571762, 0.1346384733915329, 6.612891593249515e-05, 0.739264726638794, 0.16978327929973602, 0.0901973694562912, 0.2724480628967285, 0.6842220425605774, 0.04316776618361473, 0.22153204679489136, 0.20725737512111664, 0.2061593234539032, 0.36482787132263184, 0.006135229952633381, 0.0007669037440791726, 0.7423628568649292, 0.2500106394290924, 0.0007669037440791726, 0.9939087629318237, 0.25447461009025574, 0.005333747714757919, 0.45526278018951416, 0.20477603375911713, 0.08010590821504593, 0.014689076691865921, 0.09670308977365494, 0.018361344933509827, 0.8703277707099915, 0.9998789429664612, 0.7817120552062988, 0.001169352326542139, 0.20609834790229797, 0.011108847334980965, 0.0001666169409872964, 0.9997016787528992, 8.33084704936482e-05, 0.6821010112762451, 0.13344796001911163, 0.16832639276981354, 0.0006065816269256175, 0.00485265301540494, 0.010615178383886814, 0.9408475160598755, 0.05882498621940613, 0.6961999535560608, 0.006704147905111313, 0.0015471110818907619, 0.0025785183534026146, 0.041256293654441833, 0.07271421700716019, 0.09540518373250961, 0.0840597003698349, 0.5457429885864258, 0.252719521522522, 0.0010578464716672897, 0.0010578464716672897, 0.04051551967859268, 0.022214775905013084, 0.022214775905013084, 0.0231668371707201, 0.07806906849145889, 0.013011511415243149, 0.8825174570083618, 0.11614576727151871, 0.9977625012397766, 0.0004210549232084304, 0.8555836081504822, 0.14357973635196686, 0.9991698861122131, 0.9933279752731323, 0.9974412322044373, 0.0025238720700144768, 0.9641191363334656, 0.03281033784151077, 0.9981886148452759, 0.9921424388885498, 0.994723916053772, 0.9880895018577576, 0.917341947555542, 0.08273658901453018, 0.9933257699012756, 0.42740097641944885, 0.09342624247074127, 0.11919069290161133, 0.18516695499420166, 0.17457222938537598, 0.9853971004486084, 0.9951747059822083, 0.9997397661209106, 0.9961971640586853, 0.9969942569732666, 0.8802265524864197, 0.11968880146741867, 0.9985013604164124, 0.2503495514392853, 0.26880213618278503, 0.08382853865623474, 0.014700117520987988, 0.26969724893569946, 0.07074646651744843, 0.021103447303175926, 0.00010327951167710125, 0.020690329372882843, 0.06433918327093124, 0.366413950920105, 0.030116213485598564, 0.5252085328102112, 0.013689188286662102, 0.0007504202076233923, 0.9980589151382446, 0.999176561832428, 0.998241662979126, 0.9994727969169617, 0.9960094094276428, 0.9979763627052307, 0.333964079618454, 0.0963124930858612, 0.526790976524353, 0.04280555248260498, 0.33280709385871887, 0.1810702383518219, 0.4856303930282593, 0.9987136721611023, 0.9973350167274475, 0.13546304404735565, 0.32374849915504456, 0.481670618057251, 0.0024530531372874975, 0.05543900281190872, 0.0011992704821750522, 0.021180668845772743, 0.02795848250389099, 0.9508002400398254, 0.08044169098138809, 0.2380010336637497, 0.38536667823791504, 0.04520690068602562, 0.24841634929180145, 0.0022160245571285486, 0.9959384202957153, 0.9953556656837463, 0.9999357461929321, 0.043084610253572464, 0.0009666418773122132, 0.10254689306020737, 0.02935829572379589, 0.07785610109567642, 0.00022094672021921724, 0.4387725591659546, 0.21669349074363708, 0.07418286055326462, 0.016294820234179497, 0.055860165506601334, 0.04103183001279831, 0.7042443156242371, 0.19886218011379242, 0.03837335482239723, 0.0717414915561676, 0.07619057595729828, 0.15905477106571198, 0.005746734328567982, 0.22560566663742065, 0.1950182020664215, 0.18852995336055756, 0.001112271100282669, 0.03837335482239723, 0.9967290163040161, 0.9949505925178528, 0.9976593852043152, 0.9994834661483765, 0.07487944513559341, 0.15296800434589386, 0.0845068022608757, 0.03476545587182045, 0.025672951713204384, 0.5894082188606262, 0.036904867738485336, 0.6664881110191345, 0.043238744139671326, 0.006114569492638111, 0.2048380821943283, 0.0790526494383812, 0.9989219903945923, 0.9995695352554321, 0.9967391490936279, 0.03225778415799141, 0.10242383182048798, 0.01616465486586094, 0.21128492057323456, 0.21450354158878326, 0.0631565973162651, 0.17237530648708344, 0.18088677525520325, 0.00700945220887661, 0.03902500867843628, 0.06589222699403763, 0.015009618364274502, 0.24495697021484375, 0.07444770634174347, 0.21989090740680695, 0.11542396247386932, 0.06409107148647308, 0.0866054967045784, 0.07474789768457413, 0.9329416155815125, 0.06695228070020676, 0.0004895342281088233, 0.9990414977073669, 0.0003916273999493569, 0.27266302704811096, 0.6979659199714661, 0.029322924092411995, 0.9983099102973938, 0.8638087511062622, 0.1357308328151703, 0.9995883703231812, 0.9978710412979126, 0.9983609318733215, 0.9972267150878906, 0.923210084438324, 0.07626517862081528, 0.9870241284370422, 0.008431251160800457, 0.989828884601593, 0.9505816102027893, 0.04766928404569626, 0.09225396066904068, 0.9064317345619202, 0.9991841912269592, 0.10104598104953766, 0.14265315234661102, 0.7556159496307373, 0.9982037544250488, 0.9992923140525818, 0.9993874430656433, 0.9948055744171143, 0.993298351764679, 0.9973134398460388, 0.2432125061750412, 0.6957122087478638, 9.720723755890504e-05, 0.0609489381313324, 0.9985876679420471, 0.9960618615150452, 0.10723256319761276, 0.053047508001327515, 0.18500271439552307, 0.13426820933818817, 0.2936382591724396, 0.0007962814415805042, 0.03351965546607971, 0.0029576166998595, 0.171124666929245, 0.018390309065580368, 0.026782045140862465, 0.4291188716888428, 0.030474219471216202, 0.0002755354216787964, 0.050092343240976334, 0.11330017447471619, 0.3437580168247223, 0.005951565224677324, 0.0002755354216787964, 0.003246901324018836, 0.9237434267997742, 0.07224354892969131, 0.07215726375579834, 0.0007547831046395004, 0.8313181400299072, 0.0957065001130104, 0.16194018721580505, 0.017083285376429558, 0.8177355527877808, 0.0017941350815817714, 0.0014821115182712674, 0.2497623711824417, 0.7492871284484863, 0.45283034443855286, 0.5466369986534119, 0.1043897196650505, 0.13180774450302124, 0.25254765152931213, 0.5111322999000549, 0.9997684359550476, 0.0004213050415273756, 0.0931084156036377, 0.058140095323324203, 0.02612091228365898, 0.10659017413854599, 0.07752012461423874, 0.5755026936531067, 0.06235314533114433, 0.9953383207321167, 0.9991544485092163, 0.0843508243560791, 0.07756397873163223, 0.7814570665359497, 0.056233882904052734, 0.0005897858645766973, 0.14154860377311707, 0.8569588661193848, 0.0005897858645766973, 0.9973387122154236, 0.9986056089401245, 0.9970296025276184, 0.26473870873451233, 0.7350820302963257, 0.9860914945602417, 0.993504524230957, 0.006314647383987904, 0.9991644024848938, 0.9984268546104431, 0.3507850468158722, 0.6486523151397705, 0.31992170214653015, 0.6793655753135681, 0.9623122215270996, 0.03684026002883911, 0.5113217830657959, 0.06800831854343414, 0.18063585460186005, 0.2400081902742386, 0.987713634967804, 0.9993735551834106, 0.9932904243469238, 0.9556355476379395, 0.042338281869888306, 0.9969668388366699, 0.99553382396698, 0.021078037098050117, 7.835702126612887e-05, 0.08000251650810242, 0.000705213169567287, 0.11526317149400711, 0.003369351848959923, 0.5506147742271423, 0.1440201997756958, 0.04403664544224739, 0.040824007242918015, 0.9996189475059509, 0.20088517665863037, 0.3913908302783966, 0.009001713246107101, 0.09314017742872238, 0.07780051976442337, 0.21420402824878693, 0.007072774693369865, 0.006521649658679962, 0.4670133888721466, 0.5324695706367493, 0.8231296539306641, 0.0006092743715271354, 0.17608028650283813, 0.9963008165359497, 0.9994521737098694, 0.9450172185897827, 0.05429324507713318, 0.8036689162254333, 0.1953258365392685, 0.9958615303039551, 0.999673068523407, 0.22004203498363495, 0.7798488140106201, 0.9977138638496399, 0.33107948303222656, 0.004535335581749678, 0.6632928252220154, 0.0005563846789300442, 0.9992668628692627, 0.8226356506347656, 0.1772577166557312, 0.9972327947616577, 0.04764554277062416, 0.1053447350859642, 0.8287702202796936, 0.017484603449702263, 0.9983270168304443, 0.989918053150177, 0.009093735367059708, 0.9993197917938232, 0.05796569213271141, 0.9415890574455261, 0.9994121789932251, 0.9980628490447998, 0.9751371741294861, 0.9949716925621033, 0.022596275433897972, 0.7575132250785828, 0.031204380095005035, 0.15494589507579803, 0.033356405794620514, 0.9970348477363586, 0.003090481972321868, 0.21545074880123138, 0.16291256248950958, 0.0913899689912796, 0.0008829949074424803, 0.5260441899299622, 0.9996862411499023, 0.9962867498397827, 0.998245120048523, 0.9545785784721375, 0.045222945511341095, 0.10315601527690887, 0.00232183956541121, 0.0009950741659849882, 0.6517735123634338, 0.1064729318022728, 0.09784895181655884, 0.03714943304657936, 0.0003316913789603859, 0.999398946762085, 0.14967386424541473, 0.8500396609306335, 0.9922769069671631, 0.9933953881263733, 0.06389881670475006, 0.05044643580913544, 0.8844941854476929, 0.999805212020874, 0.09277783334255219, 0.9071610569953918, 0.2984435558319092, 0.7012379765510559, 0.8613603711128235, 0.0022533952724188566, 0.13633041083812714, 0.9987919330596924, 0.1210218071937561, 0.8786629438400269, 0.9985800385475159, 0.9939289093017578, 0.9998305439949036, 0.08346860110759735, 0.10641257464885712, 0.8038303256034851, 0.005933786742389202, 0.9967604875564575, 0.031481023877859116, 0.9077029228210449, 0.059963859617710114, 0.9971519708633423, 0.9975447654724121, 0.9839155077934265, 0.9474908113479614, 0.05142419785261154, 0.8308922648429871, 0.0614946074783802, 0.0443333238363266, 0.06435482203960419, 0.9918426871299744, 0.9985809922218323, 0.4393858015537262, 0.5597825050354004, 0.0004137342912144959, 0.9930408000946045, 0.9791435599327087, 0.01087937317788601, 0.10081114619970322, 0.035921212285757065, 0.0036693711299449205, 0.022981850430369377, 0.5117806792259216, 0.03128621727228165, 0.06952492892742157, 0.06855930387973785, 0.1266898661851883, 0.02858247049152851, 0.9955258965492249, 0.9955341815948486, 0.9908250570297241, 0.06252694129943848, 0.13850240409374237, 0.34512075781822205, 0.4123634099960327, 0.024975843727588654, 0.016592344269156456, 0.06689038127660751, 0.1652192324399948, 0.0006689038127660751, 0.0006689038127660751, 0.006020134314894676, 0.7605436444282532, 0.9983894228935242, 0.0004155696660745889, 0.0006233545136637986, 0.16186438500881195, 0.03906354680657387, 0.798101544380188, 0.9026273488998413, 0.09331674128770828, 0.0033933359663933516, 0.30718690156936646, 0.0570940300822258, 0.24215340614318848, 0.036428093910217285, 0.004319998435676098, 0.2702917754650116, 0.08149617910385132, 0.0010508103296160698, 0.0610915832221508, 0.7911432385444641, 0.14757752418518066, 0.9587499499320984, 0.038189202547073364, 0.9999505281448364, 0.9980903267860413, 0.008194789290428162, 0.21374742686748505, 0.7696273326873779, 0.008194789290428162, 0.15834635496139526, 0.0027042070869356394, 0.005408414173871279, 0.0033051420468837023, 0.12499446421861649, 0.08863789588212967, 0.10396174341440201, 0.09344537556171417, 0.21994218230247498, 0.199510395526886, 0.0036324786487966776, 0.1578110158443451, 0.008072175085544586, 0.10130579769611359, 0.2936253547668457, 0.4346866309642792, 0.0008072174969129264, 0.008020707406103611, 0.37246158719062805, 0.02706988714635372, 0.5464106798171997, 0.0005012942128814757, 0.026067297905683517, 0.019049180671572685, 0.3527088463306427, 0.6468728184700012, 0.9901151657104492, 0.9991034269332886, 0.9965599179267883, 0.9981548190116882, 0.9858325719833374, 0.08636321127414703, 0.9130510687828064, 0.9868363738059998, 0.9940561056137085, 0.940030574798584, 0.0004298265266697854, 0.05888623371720314, 0.0008596530533395708, 0.9994732141494751, 0.9944143891334534, 0.19995060563087463, 0.13239972293376923, 0.6528117060661316, 0.014050583355128765, 0.9985437393188477, 0.9949137568473816, 0.9969633221626282, 0.003006123472005129, 0.9950268864631653, 0.9962839484214783, 0.8186529874801636, 0.18032491207122803, 0.9794301986694336, 0.9807473421096802, 0.9864789843559265, 0.8988218903541565, 0.09545011073350906, 0.06543044000864029, 0.17517291009426117, 0.623298168182373, 0.03613322600722313, 0.0836191177368164, 0.016235537827014923, 0.00246742507442832, 0.10803797096014023, 0.25220608711242676, 0.08547865599393845, 0.5516457557678223, 0.9835895895957947, 0.016186857596039772, 0.9996592402458191, 0.8553410172462463, 0.06273520737886429, 0.08109673112630844, 0.9871126413345337, 0.9696589708328247, 0.03003709204494953, 0.9995001554489136, 0.9992603659629822, 0.9990596175193787, 0.17461024224758148, 0.8237495422363281, 0.9995299577713013, 0.9800591468811035, 0.16716358065605164, 0.5481703877449036, 0.28449347615242004, 0.11521601676940918, 0.09433311223983765, 0.0018002502620220184, 0.00012001668801531196, 0.10981526970863342, 0.35572946071624756, 0.12373720109462738, 0.17750467360019684, 0.02160300314426422, 0.04087798297405243, 0.09823901951313019, 0.006502281874418259, 0.06049850583076477, 0.42251190543174744, 0.34678077697753906, 2.2735252059646882e-05, 0.02453133650124073, 0.9985097646713257, 0.0019201984396204352, 0.9979545474052429, 0.20751641690731049, 0.48640477657318115, 0.048640478402376175, 0.0021998207084834576, 0.09410344064235687, 0.16083133220672607, 0.00385385868139565, 0.9942955374717712, 0.539566695690155, 0.4085775315761566, 0.00373285124078393, 0.0006787002203054726, 0.04716966673731804, 0.1971253603696823, 0.7203289270401001, 0.08213556557893753, 0.020810237154364586, 0.12278040498495102, 0.4721611738204956, 0.08324094861745834, 0.08879034966230392, 0.10890690982341766, 0.0439327247440815, 0.027053309604525566, 0.03237148001790047, 0.08804471790790558, 0.31392723321914673, 0.09496958553791046, 0.0008243887568823993, 0.1508631408214569, 0.3117838203907013, 0.03775700554251671, 0.0018136552534997463, 0.9969044327735901, 0.19726966321468353, 0.01068336982280016, 0.397148072719574, 0.31602898240089417, 0.06335486471652985, 0.015403928235173225, 0.9909908771514893, 0.15217271447181702, 0.3372231721878052, 0.4554624557495117, 0.05504761263728142, 0.00015081538003869355, 0.22173863649368286, 0.4098842442035675, 0.16077537834644318, 0.10006005316972733, 0.07928445190191269, 0.015494928695261478, 0.01259427797049284, 0.00014875132183078676, 0.518915057182312, 0.19045281410217285, 0.005083134397864342, 0.0023297700099647045, 0.022062215954065323, 0.06424517184495926, 0.06229193136096001, 0.1017921194434166, 0.03252264857292175, 0.00029416289180517197, 0.6854363679885864, 0.05089312046766281, 0.0003241600061301142, 0.09959816187620163, 0.0696943998336792, 0.0005672800471074879, 0.0935201644897461, 0.14780379831790924, 0.3257433772087097, 0.150785431265831, 0.16462871432304382, 0.15312813222408295, 0.01980656012892723, 0.03130714222788811, 0.006815160624682903, 0.2899881899356842, 0.33578866720199585, 0.06265503913164139, 0.01941939815878868, 0.04120006412267685, 0.22159284353256226, 0.029353009536862373, 0.9986979961395264, 0.9849526286125183, 0.001176430843770504, 0.00023528617748524994, 0.25481492280960083, 0.6811534762382507, 0.062350835651159286, 0.4364152252674103, 0.28178492188453674, 0.0019169043516740203, 0.0628744587302208, 0.04357762634754181, 0.09175582230091095, 0.0029392533469945192, 0.057379335165023804, 0.021469328552484512, 0.2753032147884369, 0.028803450986742973, 0.533360481262207, 0.017426539212465286, 0.14510077238082886, 0.349316269159317, 0.6506310105323792, 0.011982260271906853, 0.9869025349617004, 0.24514852464199066, 0.7545588612556458, 0.9908019304275513, 0.19459852576255798, 0.02683340013027191, 0.45560407638549805, 0.016460824757814407, 0.1193973571062088, 0.16629943251609802, 0.0022549075074493885, 0.018490241840481758, 0.3645216226577759, 0.013071147724986076, 0.057186271995306015, 0.24271486699581146, 0.2707361578941345, 0.051712729036808014, 0.15711401402950287, 0.01419307291507721, 0.001815392985008657, 0.15711401402950287, 0.0008251786348409951, 0.26224178075790405, 0.3429442346096039, 0.06353875249624252, 0.9953017234802246, 0.9869574308395386, 0.018994245678186417, 0.000203800926101394, 0.6354920268058777, 0.11286494880914688, 0.12908750772476196, 0.00028532129363156855, 0.060936473309993744, 0.00012228055857121944, 0.04137158766388893, 0.0006521629402413964, 0.9996494054794312, 0.3435155153274536, 0.0003157311584800482, 0.6516691446304321, 0.00410450529307127, 0.13291659951210022, 0.26040151715278625, 0.05176078900694847, 0.5546711683273315, 0.8294075727462769, 0.1699845939874649, 0.9764794111251831, 0.9982023239135742, 0.001499708741903305, 0.9983060956001282, 0.010740199126303196, 0.19571030139923096, 0.014320265501737595, 0.029237208887934685, 0.0202870424836874, 0.05429767444729805, 0.002386711072176695, 0.6730524897575378, 0.9949796795845032, 0.9958208203315735, 0.999139130115509, 0.9991474151611328, 0.8864959478378296, 0.09620886296033859, 0.01603480987250805, 0.9484230875968933, 0.047084834426641464, 0.9974597692489624, 0.13330566883087158, 0.0009257338242605329, 0.8572295308113098, 0.007405870594084263, 0.9971713423728943, 0.997816264629364, 0.016987349838018417, 0.523364782333374, 0.0012354436330497265, 0.41680780053138733, 0.04161900654435158, 7.72152270656079e-05, 0.9940282702445984, 0.005686660297214985, 0.996626079082489, 0.968711256980896, 0.029095567762851715, 0.025357361882925034, 0.7837193608283997, 0.1910647749900818, 0.9960577487945557, 0.9979487061500549, 0.9995720982551575, 0.9975432753562927, 0.999491274356842, 0.9976660013198853, 0.9991055727005005, 0.9976242184638977, 0.9974856376647949, 0.9517002105712891, 0.04791469871997833, 0.9973341226577759, 0.9989350438117981, 0.9989416599273682, 0.9971197247505188, 0.09351826459169388, 0.10279280692338943, 0.7342343330383301, 0.06917260587215424, 0.9992920756340027, 0.9894678592681885, 0.0021446228493005037, 0.9645440578460693, 0.015012359246611595, 0.0028594969771802425, 0.015191078186035156, 0.9980319738388062, 0.733910083770752, 0.21309548616409302, 0.049235060811042786, 0.003461840096861124, 0.613857626914978, 0.25504112243652344, 0.12664110958576202, 0.003078082576394081, 0.001319178263656795, 0.008039427921175957, 0.005415447987616062, 0.15107424557209015, 0.5189897418022156, 0.022722549736499786, 0.07659788429737091, 0.12355037033557892, 0.09357000887393951, 5.582935773418285e-05, 0.039481934159994125, 0.19837264716625214, 0.7617124915122986, 0.9917576313018799, 0.008216715417802334, 0.6543377041816711, 0.06965071707963943, 0.0037905152421444654, 0.02511216327548027, 0.001421443186700344, 0.005685772746801376, 0.0009476288105361164, 0.14119669795036316, 0.09807958453893661, 0.9987936615943909, 0.001100787310861051, 3.795818338403478e-05, 0.9959931373596191, 0.07053596526384354, 0.6516520977020264, 0.0884384959936142, 0.18940876424312592, 0.8883438110351562, 0.00014855246990919113, 0.11156290769577026, 0.7530298233032227, 0.06891469657421112, 0.0035004292149096727, 0.1743651181459427, 0.013337713666260242, 0.005491999443620443, 0.13573084771633148, 0.8449833393096924, 0.5077278017997742, 0.2733532190322876, 0.2187831550836563, 0.9977288246154785], \"Term\": [\"10th\", \"5th\", \"6th\", \"7th\", \"8th\", \"9th\", \"ab\", \"ability\", \"ability\", \"ability\", \"absolute\", \"accelerated\", \"accused\", \"act\", \"act\", \"acts\", \"ah\", \"alg\", \"algebra\", \"always\", \"always\", \"always\", \"always\", \"always\", \"always\", \"america\", \"american\", \"amounts\", \"angry\", \"angry\", \"angry\", \"annoyed\", \"annoying\", \"annoying\", \"annoying\", \"answer\", \"answered\", \"answering\", \"answers\", \"answers\", \"anything\", \"anything\", \"anything\", \"anything\", \"anything\", \"anything\", \"anything\", \"anything\", \"ap\", \"ap\", \"ap\", \"around\", \"around\", \"around\", \"around\", \"around\", \"around\", \"around\", \"around\", \"around\", \"around\", \"ask\", \"asked\", \"asked\", \"asking\", \"asking\", \"asks\", \"asleep\", \"assign\", \"assigning\", \"assignments\", \"assignments\", \"assignments\", \"assigns\", \"attention\", \"awake\", \"awful\", \"awful\", \"awful\", \"awful\", \"awful\", \"awful\", \"awful\", \"awful\", \"babies\", \"back\", \"back\", \"back\", \"back\", \"back\", \"back\", \"back\", \"back\", \"backs\", \"backs\", \"bad\", \"bad\", \"bad\", \"bad\", \"bad\", \"bad\", \"bad\", \"bad\", \"bad\", \"bad\", \"band\", \"baseball\", \"basketball\", \"behavior\", \"better\", \"better\", \"better\", \"better\", \"better\", \"better\", \"better\", \"better\", \"better\", \"better\", \"bias\", \"biased\", \"bio\", \"bio\", \"biology\", \"blah\", \"blamed\", \"book\", \"book\", \"book\", \"books\", \"books\", \"books\", \"boring\", \"boring\", \"boring\", \"boring\", \"boring\", \"busy\", \"busy\", \"busy\", \"calc\", \"calculus\", \"came\", \"came\", \"came\", \"came\", \"came\", \"cannot\", \"cannot\", \"cannot\", \"cannot\", \"cannot\", \"cannot\", \"cannot\", \"cannot\", \"cannot\", \"card\", \"care\", \"care\", \"care\", \"care\", \"care\", \"care\", \"care\", \"cares\", \"cares\", \"cares\", \"cares\", \"cell\", \"centered\", \"certain\", \"certain\", \"chapter\", \"chapter\", \"cheat\", \"checks\", \"chem\", \"chemistry\", \"child\", \"children\", \"children\", \"children\", \"children\", \"chinese\", \"choir\", \"chooses\", \"chooses\", \"chorus\", \"clarify\", \"clarify\", \"class\", \"class\", \"class\", \"class\", \"class\", \"class\", \"class\", \"class\", \"class\", \"classroom\", \"classroom\", \"classroom\", \"classroom\", \"classroom\", \"classroom\", \"classroom\", \"classroom\", \"classwork\", \"coach\", \"coaching\", \"code\", \"code\", \"collects\", \"college\", \"college\", \"college\", \"college\", \"college\", \"college\", \"college\", \"college\", \"comments\", \"communication\", \"comp\", \"completely\", \"completely\", \"completely\", \"completely\", \"completely\", \"completely\", \"completely\", \"completely\", \"computer\", \"concepts\", \"conclusions\", \"condescending\", \"condescending\", \"confused\", \"confused\", \"control\", \"control\", \"control\", \"control\", \"convey\", \"cool\", \"cool\", \"copied\", \"copy\", \"copying\", \"corny\", \"creativity\", \"credit\", \"curses\", \"cuz\", \"da\", \"dark\", \"dates\", \"dates\", \"de\", \"dealing\", \"debate\", \"definitions\", \"describe\", \"design\", \"desk\", \"desk\", \"detention\", \"difficult\", \"difficult\", \"difficult\", \"director\", \"disagree\", \"distracted\", \"distracted\", \"doctor\", \"draw\", \"dreaded\", \"dress\", \"ds\", \"due\", \"due\", \"due\", \"easiest\", \"easy\", \"easy\", \"easy\", \"easy\", \"easy\", \"ed\", \"eighth\", \"elective\", \"elementary\", \"embarass\", \"embarrasses\", \"emotional\", \"english\", \"entertaining\", \"entire\", \"entire\", \"entire\", \"entire\", \"entire\", \"entire\", \"entire\", \"environment\", \"environmental\", \"equation\", \"essays\", \"essays\", \"euro\", \"even\", \"even\", \"even\", \"even\", \"even\", \"even\", \"even\", \"even\", \"even\", \"even\", \"every\", \"every\", \"every\", \"every\", \"every\", \"every\", \"every\", \"every\", \"every\", \"everyone\", \"everyone\", \"everyone\", \"everyone\", \"everyone\", \"everyone\", \"everyone\", \"everyone\", \"everyone\", \"everything\", \"everything\", \"everything\", \"everything\", \"everything\", \"everything\", \"everything\", \"everything\", \"everything\", \"everything\", \"exam\", \"exam\", \"exam\", \"expects\", \"expects\", \"expects\", \"expects\", \"experience\", \"experience\", \"experience\", \"experience\", \"experience\", \"explain\", \"explain\", \"explain\", \"explain\", \"explain\", \"explaining\", \"explaining\", \"explaining\", \"explains\", \"explains\", \"extra\", \"extra\", \"extra\", \"extreme\", \"extremely\", \"extremely\", \"extremely\", \"extremely\", \"extremely\", \"extremely\", \"extremely\", \"extremely\", \"fall\", \"far\", \"far\", \"far\", \"far\", \"fast\", \"fast\", \"favorite\", \"favorite\", \"favorite\", \"favorite\", \"favorite\", \"favorite\", \"favorite\", \"favorites\", \"favorites\", \"favoritism\", \"favors\", \"favourites\", \"favs\", \"feel\", \"feel\", \"feel\", \"feel\", \"feel\", \"feel\", \"feel\", \"figure\", \"figure\", \"figure\", \"fired\", \"fired\", \"first\", \"first\", \"first\", \"first\", \"first\", \"first\", \"first\", \"first\", \"first\", \"first\", \"fluent\", \"football\", \"foreign\", \"format\", \"french\", \"friend\", \"friend\", \"friend\", \"friend\", \"frustrated\", \"frustrated\", \"fs\", \"fun\", \"fun\", \"fun\", \"fun\", \"fun\", \"funny\", \"funny\", \"game\", \"gave\", \"gave\", \"gave\", \"geniuses\", \"geography\", \"geometry\", \"german\", \"gets\", \"girls\", \"girls\", \"give\", \"give\", \"give\", \"give\", \"give\", \"give\", \"give\", \"give\", \"give\", \"gives\", \"gives\", \"gives\", \"gives\", \"goes\", \"goes\", \"goes\", \"goes\", \"goes\", \"goes\", \"goes\", \"goes\", \"goes\", \"good\", \"good\", \"good\", \"good\", \"good\", \"good\", \"good\", \"good\", \"good\", \"good\", \"got\", \"got\", \"got\", \"got\", \"got\", \"grade\", \"grade\", \"grade\", \"grade\", \"grade\", \"grade\", \"graders\", \"grades\", \"grades\", \"grades\", \"grades\", \"grades\", \"grades\", \"grades\", \"grading\", \"grading\", \"grading\", \"guess\", \"guess\", \"guess\", \"guess\", \"guess\", \"guess\", \"guess\", \"guides\", \"gum\", \"gym\", \"gym\", \"ha\", \"half\", \"half\", \"half\", \"half\", \"half\", \"handouts\", \"hard\", \"hard\", \"hard\", \"hard\", \"hard\", \"hard\", \"hard\", \"hard\", \"harder\", \"harder\", \"harder\", \"hate\", \"hate\", \"hate\", \"hated\", \"hated\", \"hated\", \"hated\", \"hates\", \"hates\", \"hates\", \"hates\", \"hates\", \"hav\", \"help\", \"help\", \"help\", \"help\", \"help\", \"helped\", \"helped\", \"helped\", \"helped\", \"high\", \"history\", \"history\", \"history\", \"history\", \"homework\", \"homework\", \"homework\", \"honestly\", \"honestly\", \"honestly\", \"honestly\", \"honestly\", \"honestly\", \"honors\", \"honors\", \"hope\", \"hope\", \"hope\", \"hope\", \"hope\", \"hope\", \"hope\", \"hope\", \"horrible\", \"horrible\", \"horrible\", \"horrible\", \"horrible\", \"horrible\", \"horrible\", \"horrible\", \"horrible\", \"horrible\", \"hour\", \"hour\", \"husband\", \"hw\", \"hw\", \"hw\", \"ideas\", \"impress\", \"inappropriate\", \"ineffective\", \"ineffective\", \"ineffective\", \"instructor\", \"interrupts\", \"intimidated\", \"irritated\", \"issues\", \"issues\", \"japanese\", \"job\", \"job\", \"job\", \"job\", \"job\", \"jock\", \"jocks\", \"jokes\", \"jumps\", \"khan\", \"kids\", \"kids\", \"kno\", \"know\", \"know\", \"know\", \"know\", \"know\", \"know\", \"know\", \"know\", \"know\", \"knowledge\", \"knowledge\", \"knowledge\", \"knowledge\", \"knowledge\", \"lack\", \"lack\", \"lacks\", \"lame\", \"language\", \"languages\", \"laptop\", \"last\", \"last\", \"last\", \"last\", \"late\", \"late\", \"late\", \"laugh\", \"laziest\", \"learn\", \"learn\", \"learn\", \"learn\", \"learn\", \"learn\", \"learned\", \"learned\", \"learned\", \"learning\", \"learning\", \"learning\", \"learning\", \"learning\", \"learning\", \"letter\", \"lied\", \"life\", \"like\", \"like\", \"like\", \"like\", \"like\", \"like\", \"like\", \"like\", \"like\", \"like\", \"likes\", \"likes\", \"likes\", \"likes\", \"little\", \"little\", \"little\", \"little\", \"little\", \"little\", \"little\", \"little\", \"little\", \"little\", \"living\", \"load\", \"loads\", \"lol\", \"lost\", \"lost\", \"lost\", \"lost\", \"lost\", \"lost\", \"lost\", \"luck\", \"luck\", \"luck\", \"luck\", \"luck\", \"lunch\", \"mad\", \"madame\", \"makes\", \"makes\", \"makes\", \"makes\", \"makes\", \"makes\", \"makes\", \"makes\", \"makes\", \"many\", \"many\", \"many\", \"many\", \"many\", \"many\", \"many\", \"many\", \"many\", \"many\", \"material\", \"material\", \"math\", \"math\", \"math\", \"mean\", \"mean\", \"mean\", \"meanest\", \"met\", \"met\", \"middle\", \"min\", \"minded\", \"mine\", \"minutes\", \"minutes\", \"miserably\", \"missed\", \"missed\", \"mom\", \"mom\", \"money\", \"money\", \"monotone\", \"mood\", \"mood\", \"mood\", \"movie\", \"movies\", \"music\", \"nap\", \"native\", \"nd\", \"needs\", \"needs\", \"needs\", \"needs\", \"negative\", \"nerves\", \"never\", \"never\", \"never\", \"never\", \"never\", \"never\", \"never\", \"never\", \"never\", \"never\", \"nice\", \"nice\", \"nice\", \"nice\", \"nice\", \"nice\", \"nice\", \"nice\", \"nice\", \"night\", \"night\", \"night\", \"notes\", \"notes\", \"notes\", \"notes\", \"nothing\", \"nothing\", \"nothing\", \"nothing\", \"nothing\", \"obvious\", \"obvious\", \"office\", \"office\", \"often\", \"often\", \"often\", \"often\", \"ok\", \"okay\", \"okay\", \"okay\", \"okay\", \"okay\", \"okay\", \"okay\", \"okay\", \"olds\", \"omg\", \"ones\", \"ones\", \"ones\", \"ones\", \"opinion\", \"opinion\", \"opinion\", \"opinion\", \"opinionated\", \"opinions\", \"orchestra\", \"others\", \"others\", \"paced\", \"packet\", \"packet\", \"packets\", \"pages\", \"paper\", \"paper\", \"papers\", \"papers\", \"parent\", \"parent\", \"parents\", \"parents\", \"parents\", \"parents\", \"pauses\", \"pay\", \"paycheck\", \"paying\", \"paying\", \"pays\", \"pencil\", \"people\", \"people\", \"people\", \"people\", \"people\", \"people\", \"people\", \"people\", \"people\", \"people\", \"period\", \"person\", \"person\", \"person\", \"person\", \"person\", \"person\", \"person\", \"person\", \"personal\", \"personal\", \"phone\", \"phone\", \"phone\", \"photography\", \"physics\", \"pick\", \"pick\", \"picked\", \"picked\", \"picking\", \"picks\", \"play\", \"play\", \"players\", \"playing\", \"playing\", \"playing\", \"plays\", \"plays\", \"points\", \"points\", \"political\", \"poor\", \"poor\", \"poor\", \"poor\", \"pop\", \"popular\", \"popular\", \"possibly\", \"powerpoint\", \"powerpoint\", \"ppl\", \"pre\", \"precal\", \"precalc\", \"prepare\", \"prepare\", \"prepare\", \"prepare\", \"prepare\", \"presentations\", \"pretty\", \"pretty\", \"pretty\", \"pretty\", \"pretty\", \"pretty\", \"principal\", \"principle\", \"private\", \"probably\", \"probably\", \"problem\", \"problem\", \"problem\", \"problem\", \"problem\", \"problem\", \"problem\", \"problem\", \"program\", \"projects\", \"projects\", \"psych\", \"punishes\", \"quarter\", \"quarter\", \"quarter\", \"question\", \"questions\", \"questions\", \"quit\", \"quit\", \"quiz\", \"quiz\", \"quiz\", \"quizes\", \"quizzes\", \"quizzes\", \"raise\", \"raised\", \"read\", \"reading\", \"reading\", \"reading\", \"reading\", \"readings\", \"reads\", \"reads\", \"reads\", \"realy\", \"refused\", \"regent\", \"regents\", \"regents\", \"regular\", \"regular\", \"regular\", \"regular\", \"replies\", \"report\", \"respect\", \"respect\", \"respect\", \"responds\", \"reteach\", \"reteach\", \"right\", \"right\", \"right\", \"right\", \"right\", \"right\", \"right\", \"right\", \"right\", \"right\", \"rings\", \"role\", \"rolls\", \"rude\", \"rude\", \"rude\", \"rude\", \"rude\", \"rude\", \"run\", \"run\", \"run\", \"run\", \"run\", \"run\", \"running\", \"said\", \"said\", \"said\", \"said\", \"said\", \"save\", \"save\", \"save\", \"say\", \"say\", \"say\", \"say\", \"say\", \"say\", \"say\", \"say\", \"says\", \"says\", \"says\", \"scary\", \"scary\", \"school\", \"schools\", \"second\", \"second\", \"second\", \"second\", \"see\", \"see\", \"see\", \"see\", \"see\", \"see\", \"see\", \"see\", \"see\", \"see\", \"seems\", \"seems\", \"seems\", \"seems\", \"seems\", \"seems\", \"seems\", \"self\", \"self\", \"self\", \"self\", \"self\", \"self\", \"self\", \"semester\", \"semester\", \"semesters\", \"sent\", \"seventh\", \"sheets\", \"shoulder\", \"side\", \"side\", \"sidetracked\", \"singles\", \"sit\", \"sit\", \"sit\", \"sit\", \"sits\", \"sixth\", \"skills\", \"skills\", \"skills\", \"skills\", \"sleeping\", \"slept\", \"slide\", \"slides\", \"slides\", \"soccer\", \"social\", \"social\", \"solved\", \"solves\", \"solving\", \"somebody\", \"somebody\", \"something\", \"something\", \"something\", \"something\", \"something\", \"something\", \"sometimes\", \"sometimes\", \"sometimes\", \"sometimes\", \"sometimes\", \"spanish\", \"spanish\", \"speak\", \"speaking\", \"speaking\", \"speaking\", \"spells\", \"spend\", \"spend\", \"spends\", \"spent\", \"sports\", \"staff\", \"staff\", \"stand\", \"stat\", \"stop\", \"stop\", \"stop\", \"student\", \"student\", \"student\", \"student\", \"student\", \"student\", \"student\", \"student\", \"student\", \"students\", \"students\", \"students\", \"students\", \"students\", \"students\", \"students\", \"students\", \"studies\", \"study\", \"study\", \"subject\", \"subject\", \"subject\", \"subject\", \"subject\", \"subject\", \"swings\", \"swings\", \"switch\", \"switch\", \"switch\", \"switch\", \"switch\", \"system\", \"system\", \"system\", \"takes\", \"takes\", \"takes\", \"takes\", \"takes\", \"takes\", \"takes\", \"takes\", \"takes\", \"talk\", \"talk\", \"talk\", \"talk\", \"talk\", \"talk\", \"talk\", \"talk\", \"talkin\", \"talking\", \"talking\", \"talking\", \"talking\", \"talking\", \"talking\", \"tangent\", \"taught\", \"taught\", \"taught\", \"taught\", \"taught\", \"teach\", \"teach\", \"teach\", \"teach\", \"teach\", \"teach\", \"teach\", \"teach\", \"teacher\", \"teacher\", \"teacher\", \"teacher\", \"teacher\", \"teacher\", \"teacher\", \"teacher\", \"teacher\", \"teacher\", \"teachers\", \"teachers\", \"teachers\", \"teachers\", \"teachers\", \"teachers\", \"teachers\", \"teaches\", \"teaches\", \"teaches\", \"teaches\", \"teaches\", \"teaches\", \"teaches\", \"teaches\", \"teaching\", \"teaching\", \"teaching\", \"teaching\", \"teaching\", \"teaching\", \"teaching\", \"team\", \"teenager\", \"tells\", \"tells\", \"tells\", \"tells\", \"tells\", \"terrible\", \"terrible\", \"terrible\", \"terrible\", \"terrible\", \"terrible\", \"terrible\", \"terrible\", \"terrible\", \"test\", \"test\", \"test\", \"test\", \"test\", \"tests\", \"tests\", \"text\", \"text\", \"textbook\", \"textbook\", \"texting\", \"thing\", \"thing\", \"thing\", \"thing\", \"thing\", \"thing\", \"thing\", \"thing\", \"think\", \"think\", \"think\", \"think\", \"think\", \"think\", \"thinks\", \"thinks\", \"thinks\", \"thinks\", \"thinks\", \"thinks\", \"thinks\", \"thinks\", \"threw\", \"ticked\", \"time\", \"time\", \"time\", \"time\", \"time\", \"time\", \"time\", \"time\", \"time\", \"time\", \"told\", \"took\", \"took\", \"took\", \"took\", \"topic\", \"topic\", \"topic\", \"topic\", \"towards\", \"towards\", \"tracked\", \"treat\", \"treats\", \"treats\", \"tried\", \"tried\", \"tried\", \"tried\", \"tried\", \"tried\", \"tried\", \"tried\", \"trig\", \"trip\", \"turned\", \"tutor\", \"tutoring\", \"tutoring\", \"tutoring\", \"tutors\", \"tutors\", \"tv\", \"ugh\", \"ugh\", \"ugh\", \"ugh\", \"uh\", \"umm\", \"understand\", \"understand\", \"understand\", \"understand\", \"understand\", \"understand\", \"unprofessional\", \"unprofessional\", \"unwilling\", \"video\", \"video\", \"videos\", \"videos\", \"videos\", \"view\", \"views\", \"voice\", \"wanna\", \"waste\", \"wasted\", \"wastes\", \"wasting\", \"wat\", \"watch\", \"watch\", \"watched\", \"watching\", \"weird\", \"wen\", \"went\", \"went\", \"went\", \"went\", \"whenever\", \"whines\", \"whole\", \"whole\", \"whole\", \"whole\", \"whole\", \"wierd\", \"woman\", \"woman\", \"woman\", \"woman\", \"words\", \"words\", \"words\", \"words\", \"words\", \"work\", \"work\", \"work\", \"work\", \"work\", \"work\", \"work\", \"work\", \"work\", \"worksheets\", \"worksheets\", \"worksheets\", \"world\", \"world\", \"worse\", \"worse\", \"worse\", \"worse\", \"worse\", \"worse\", \"worse\", \"worse\", \"worse\", \"worst\", \"worst\", \"worst\", \"wrestling\", \"write\", \"write\", \"write\", \"write\", \"wrong\", \"wrong\", \"wrong\", \"years\", \"years\", \"years\", \"years\", \"yelled\", \"yelled\", \"yelled\", \"yelled\", \"yells\", \"yells\", \"yells\", \"yo\"]}, \"R\": 30, \"lambda.step\": 0.01, \"plot.opts\": {\"xlab\": \"PC1\", \"ylab\": \"PC2\"}, \"topic.order\": [1, 5, 2, 8, 3, 9, 4, 7, 6, 10]};\n",
       "\n",
       "function LDAvis_load_lib(url, callback){\n",
       "  var s = document.createElement('script');\n",
       "  s.src = url;\n",
       "  s.async = true;\n",
       "  s.onreadystatechange = s.onload = callback;\n",
       "  s.onerror = function(){console.warn(\"failed to load library \" + url);};\n",
       "  document.getElementsByTagName(\"head\")[0].appendChild(s);\n",
       "}\n",
       "\n",
       "if(typeof(LDAvis) !== \"undefined\"){\n",
       "   // already loaded: just create the visualization\n",
       "   !function(LDAvis){\n",
       "       new LDAvis(\"#\" + \"ldavis_el197831405802410450723393852723\", ldavis_el197831405802410450723393852723_data);\n",
       "   }(LDAvis);\n",
       "}else if(typeof define === \"function\" && define.amd){\n",
       "   // require.js is available: use it to load d3/LDAvis\n",
       "   require.config({paths: {d3: \"https://cdnjs.cloudflare.com/ajax/libs/d3/3.5.5/d3.min\"}});\n",
       "   require([\"d3\"], function(d3){\n",
       "      window.d3 = d3;\n",
       "      LDAvis_load_lib(\"https://cdn.rawgit.com/bmabey/pyLDAvis/files/ldavis.v1.0.0.js\", function(){\n",
       "        new LDAvis(\"#\" + \"ldavis_el197831405802410450723393852723\", ldavis_el197831405802410450723393852723_data);\n",
       "      });\n",
       "    });\n",
       "}else{\n",
       "    // require.js not available: dynamically load d3 & LDAvis\n",
       "    LDAvis_load_lib(\"https://cdnjs.cloudflare.com/ajax/libs/d3/3.5.5/d3.min.js\", function(){\n",
       "         LDAvis_load_lib(\"https://cdn.rawgit.com/bmabey/pyLDAvis/files/ldavis.v1.0.0.js\", function(){\n",
       "                 new LDAvis(\"#\" + \"ldavis_el197831405802410450723393852723\", ldavis_el197831405802410450723393852723_data);\n",
       "            })\n",
       "         });\n",
       "}\n",
       "</script>"
      ],
      "text/plain": [
       "<IPython.core.display.HTML object>"
      ]
     },
     "metadata": {},
     "output_type": "display_data"
    }
   ],
   "source": [
    "from IPython.core.display import display, HTML\n",
    "\n",
    "display(HTML('D:/Student_Voices_Database/s3mirror/graphs/LDAGraphs/Viz_[0, 35)_10_LDA1_D1.html'))"
   ]
  },
  {
   "cell_type": "markdown",
   "metadata": {},
   "source": [
    "**Display coherence for each topic**: "
   ]
  },
  {
   "cell_type": "code",
   "execution_count": 133,
   "metadata": {},
   "outputs": [],
   "source": [
    "from student_voices import review \n",
    "from importlib import reload\n",
    "review = reload(review)\n",
    "\n",
    "results_dir = 'D:/Student_Voices_Database/s3mirror/results'\n",
    "rng = '[0, 35)'\n",
    "config = 'D1'\n",
    "setting = 'LDA1'\n",
    "tn = 10\n",
    "\n",
    "model_info = review.get_topic_summary(results_dir, tn, rng, config, setting)\n",
    "#model_info"
   ]
  },
  {
   "cell_type": "markdown",
   "metadata": {},
   "source": [
    "*Discrepancy with pyLDAvis* - The way we assign topics and coherence outside of pyLDAvis is a bit diferent so there is a mismatch in the topic numbers preseted in the graph, and the topics presented in the table with their respective coherence scores. We can match them based on key-words."
   ]
  },
  {
   "cell_type": "code",
   "execution_count": 132,
   "metadata": {},
   "outputs": [
    {
     "data": {
      "text/html": [
       "<div>\n",
       "<style scoped>\n",
       "    .dataframe tbody tr th:only-of-type {\n",
       "        vertical-align: middle;\n",
       "    }\n",
       "\n",
       "    .dataframe tbody tr th {\n",
       "        vertical-align: top;\n",
       "    }\n",
       "\n",
       "    .dataframe thead th {\n",
       "        text-align: right;\n",
       "    }\n",
       "</style>\n",
       "<table border=\"1\" class=\"dataframe\">\n",
       "  <thead>\n",
       "    <tr style=\"text-align: right;\">\n",
       "      <th></th>\n",
       "      <th>Coherence</th>\n",
       "      <th>NumReviews</th>\n",
       "      <th>Descriptions</th>\n",
       "      <th>LDA_num</th>\n",
       "    </tr>\n",
       "    <tr>\n",
       "      <th>index</th>\n",
       "      <th></th>\n",
       "      <th></th>\n",
       "      <th></th>\n",
       "      <th></th>\n",
       "    </tr>\n",
       "  </thead>\n",
       "  <tbody>\n",
       "    <tr>\n",
       "      <td>8</td>\n",
       "      <td>0.582867</td>\n",
       "      <td>21006</td>\n",
       "      <td>topic 7 words:  gives  homework  tests  work  ...</td>\n",
       "      <td>4</td>\n",
       "    </tr>\n",
       "    <tr>\n",
       "      <td>3</td>\n",
       "      <td>0.573725</td>\n",
       "      <td>21373</td>\n",
       "      <td>topic 2 words:  ask  help  questions  gets  kn...</td>\n",
       "      <td>5</td>\n",
       "    </tr>\n",
       "    <tr>\n",
       "      <td>10</td>\n",
       "      <td>0.542457</td>\n",
       "      <td>8896</td>\n",
       "      <td>topic 9 words:  school  high  music  band  pla...</td>\n",
       "      <td>10</td>\n",
       "    </tr>\n",
       "    <tr>\n",
       "      <td>6</td>\n",
       "      <td>0.499568</td>\n",
       "      <td>14351</td>\n",
       "      <td>topic 5 words:  grade  got  class  gave  never...</td>\n",
       "      <td>9</td>\n",
       "    </tr>\n",
       "    <tr>\n",
       "      <td>2</td>\n",
       "      <td>0.491030</td>\n",
       "      <td>25504</td>\n",
       "      <td>topic 1 words:  class  time  anything  nothing...</td>\n",
       "      <td>3</td>\n",
       "    </tr>\n",
       "    <tr>\n",
       "      <td>9</td>\n",
       "      <td>0.490206</td>\n",
       "      <td>18485</td>\n",
       "      <td>topic 8 words:  students  teacher  teaching  c...</td>\n",
       "      <td>6</td>\n",
       "    </tr>\n",
       "    <tr>\n",
       "      <td>1</td>\n",
       "      <td>0.456751</td>\n",
       "      <td>28153</td>\n",
       "      <td>topic 0 words:  teacher  worst  teach  teacher...</td>\n",
       "      <td>1</td>\n",
       "    </tr>\n",
       "    <tr>\n",
       "      <td>5</td>\n",
       "      <td>0.452642</td>\n",
       "      <td>30284</td>\n",
       "      <td>topic 4 words:  class  teach  teacher  math  g...</td>\n",
       "      <td>2</td>\n",
       "    </tr>\n",
       "    <tr>\n",
       "      <td>4</td>\n",
       "      <td>0.407353</td>\n",
       "      <td>21333</td>\n",
       "      <td>topic 3 words:  like  students  kids  favorite...</td>\n",
       "      <td>7</td>\n",
       "    </tr>\n",
       "    <tr>\n",
       "      <td>7</td>\n",
       "      <td>0.383628</td>\n",
       "      <td>21839</td>\n",
       "      <td>topic 6 words:  mean  teacher  like  good  cla...</td>\n",
       "      <td>8</td>\n",
       "    </tr>\n",
       "  </tbody>\n",
       "</table>\n",
       "</div>"
      ],
      "text/plain": [
       "       Coherence  NumReviews                                       Descriptions  LDA_num\n",
       "index                                                                                   \n",
       "8       0.582867       21006  topic 7 words:  gives  homework  tests  work  ...        4\n",
       "3       0.573725       21373  topic 2 words:  ask  help  questions  gets  kn...        5\n",
       "10      0.542457        8896  topic 9 words:  school  high  music  band  pla...       10\n",
       "6       0.499568       14351  topic 5 words:  grade  got  class  gave  never...        9\n",
       "2       0.491030       25504  topic 1 words:  class  time  anything  nothing...        3\n",
       "9       0.490206       18485  topic 8 words:  students  teacher  teaching  c...        6\n",
       "1       0.456751       28153  topic 0 words:  teacher  worst  teach  teacher...        1\n",
       "5       0.452642       30284  topic 4 words:  class  teach  teacher  math  g...        2\n",
       "4       0.407353       21333  topic 3 words:  like  students  kids  favorite...        7\n",
       "7       0.383628       21839  topic 6 words:  mean  teacher  like  good  cla...        8"
      ]
     },
     "execution_count": 132,
     "metadata": {},
     "output_type": "execute_result"
    }
   ],
   "source": [
    "lda_idx = {1:1, 2:3, 3:5, 4:7, 5:2, 6:9, 7:8, 8:4, 9:6, 10:10}\n",
    "model_info['LDA_num'] = model_info.index.map(lda_idx)\n",
    "model_info.sort_values('Coherence',ascending=False)"
   ]
  }
 ],
 "metadata": {
  "kernelspec": {
   "display_name": "Python 3",
   "language": "python",
   "name": "python3"
  },
  "language_info": {
   "codemirror_mode": {
    "name": "ipython",
    "version": 3
   },
   "file_extension": ".py",
   "mimetype": "text/x-python",
   "name": "python",
   "nbconvert_exporter": "python",
   "pygments_lexer": "ipython3",
   "version": "3.7.4"
  }
 },
 "nbformat": 4,
 "nbformat_minor": 2
}
